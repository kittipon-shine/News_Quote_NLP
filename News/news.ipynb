{
 "cells": [
  {
   "cell_type": "markdown",
   "metadata": {},
   "source": [
    "# Assignment 2 - DS4Biz Y63\n",
    "## TextScraping_Classification\n",
    "***\n",
    "\n",
    "### Team Detail\n",
    "**Team Name**: sompinandsomshine   \n",
    "***\n",
    "### *Student 1*\n",
    "**Student ID**: 61070278   \n",
    "**Student Full Name**: นายกิตติภณ สุรุ่งเรืองสกุล\n",
    "***\n",
    "### *Student 2*\n",
    "**Student ID**: 61070330   \n",
    "**Student Full Name**: นางสาวอิงฟ้า ภูติวรนาถ\n",
    "***"
   ]
  },
  {
   "cell_type": "markdown",
   "metadata": {},
   "source": [
    "#### link: http://www.it.kmitl.ac.th/~teerapong/news_archive/index.html"
   ]
  },
  {
   "cell_type": "code",
   "execution_count": null,
   "metadata": {},
   "outputs": [],
   "source": []
  },
  {
   "cell_type": "markdown",
   "metadata": {},
   "source": [
    "# Data Collection"
   ]
  },
  {
   "cell_type": "code",
   "execution_count": 5,
   "metadata": {},
   "outputs": [],
   "source": [
    "import requests\n",
    "#https://requests.readthedocs.io/en/master/\n",
    "import bs4\n",
    "#https://www.crummy.com/software/BeautifulSoup/bs4/doc/\n",
    "\n",
    "import pandas as pd"
   ]
  },
  {
   "cell_type": "code",
   "execution_count": 47,
   "metadata": {
    "scrolled": true
   },
   "outputs": [
    {
     "name": "stdout",
     "output_type": "stream",
     "text": [
      "<Response [200]>\n",
      "<class 'requests.models.Response'>\n"
     ]
    }
   ],
   "source": [
    "response = requests.get('http://www.it.kmitl.ac.th/~teerapong/news_archive/index.html')\n",
    "print(response)\n",
    "print(type(response))"
   ]
  },
  {
   "cell_type": "code",
   "execution_count": 48,
   "metadata": {},
   "outputs": [
    {
     "name": "stdout",
     "output_type": "stream",
     "text": [
      "<!DOCTYPE html>\n",
      "\n",
      "<html lang=\"en\">\n",
      "<head>\n",
      "<title>Online News Archive</title>\n",
      "<meta charset=\"utf-8\"/>\n",
      "<meta content=\"width=device-width, initial-scale=1\" name=\"viewport\"/>\n",
      "<meta content=\"noindex\" name=\"robots\"/>\n",
      "<meta content=\"news,articles,news\" name=\"keywords\">\n",
      "<meta content=\"Breaking News | International Headlines\" property=\"og:title\"/>\n",
      "<meta content=\"News Archive\" property=\"og:site_name\"/>\n",
      "<meta content=\"Latest news and more from the definitive brand of quality news.\" property=\"og:description\"/>\n",
      "<link href=\"css/bootstrap.min.css\" rel=\"stylesheet\"/>\n",
      "<script src=\"js/jquery-3.2.1.slim.min.js\"></script>\n",
      "<script src=\"js/popper.min.js\"></script>\n",
      "<script src=\"js/tether.min.js\"></script>\n",
      "<script src=\"js/jquery-3.2.1.slim.min.js\"></script>\n",
      "<script src=\"js/popper.min.js\"></script>\n",
      "<script src=\"js/tether.min.js\"></script>\n",
      "<script src=\"js/bootstrap.min.js\"></script>\n",
      "<style>\n",
      "\t  \t\t.main{ padding: 0; text-align: center;}\n",
      "\t  \t\t.footer{ padding: 6px;text-align: center; margin-top: 1em; }\n",
      "\n",
      "\t  \t\th1\n",
      "\t  \t\t{\n",
      "\t  \t\t\tfont-size: 180%;\n",
      "\t  \t\t\tmargin-top: 15px;\n",
      "\t  \t\t\tmargin-bottom: 15px;\n",
      "\t  \t\t}\n",
      "\t  \t\tul {list-style-type: none;}\n",
      "\t  \t\tli { margin-top: 5px; }\n",
      "\t  </style>\n",
      "</meta></head>\n",
      "<body>\n",
      "<div class=\"container\" style=\"margin-top: 2em;\">\n",
      "<div class=\"main\">\n",
      "<img alt=\"banner\" src=\"images/banner.jpg\" width=\"500\"/>\n",
      "<h1>News Article Archive</h1>\n",
      "<p>Archive of all news headlines and stories, organised per month.</p>\n",
      "<ul>\n",
      "<li>Articles — <a href=\"month-jan-2017.html\">January</a> [118]</li>\n",
      "<li>Articles — <a href=\"month-feb-2017.html\">February</a> [124]</li>\n",
      "<li>Articles — <a href=\"month-mar-2017.html\">March</a> [116]</li>\n",
      "<li>Articles — <a href=\"month-apr-2017.html\">April</a> [118]</li>\n",
      "<li>Articles — <a href=\"month-may-2017.html\">May</a> [115]</li>\n",
      "<li>Articles — <a href=\"month-jun-2017.html\">June</a> [115]</li>\n",
      "<li>Articles — <a href=\"month-jul-2017.html\">July</a> [122]</li>\n",
      "<li>Articles — <a href=\"month-aug-2017.html\">August</a> [116]</li>\n",
      "<li>Articles — <a href=\"month-sep-2017.html\">September</a> [113]</li>\n",
      "<li>Articles — <a href=\"month-oct-2017.html\">October</a> [124]</li>\n",
      "<li>Articles — <a href=\"month-nov-2017.html\">November</a> [122]</li>\n",
      "<li>Articles — <a href=\"month-dec-2017.html\">December</a> [115]</li>\n",
      "</ul>\n",
      "</div>\n",
      "<div class=\"footer\">\n",
      "<span><a href=\"#\">Terms &amp; Conditions</a> | <a href=\"#\">Privacy Policy</a> | <a href=\"#\">Cookie Information</a> </span><br/>\n",
      "<span>© <span class=\"thisyear\">2019-2020</span> — Original rights holders</span>\n",
      "</div>\n",
      "</div>\n",
      "</body>\n",
      "</html>\n",
      "\n"
     ]
    }
   ],
   "source": [
    "html_page = bs4.BeautifulSoup(response.content, 'html.parser')\n",
    "print(html_page)"
   ]
  },
  {
   "cell_type": "code",
   "execution_count": 49,
   "metadata": {},
   "outputs": [
    {
     "data": {
      "text/plain": [
       "[<a href=\"month-jan-2017.html\">January</a>,\n",
       " <a href=\"month-feb-2017.html\">February</a>,\n",
       " <a href=\"month-mar-2017.html\">March</a>,\n",
       " <a href=\"month-apr-2017.html\">April</a>,\n",
       " <a href=\"month-may-2017.html\">May</a>,\n",
       " <a href=\"month-jun-2017.html\">June</a>,\n",
       " <a href=\"month-jul-2017.html\">July</a>,\n",
       " <a href=\"month-aug-2017.html\">August</a>,\n",
       " <a href=\"month-sep-2017.html\">September</a>,\n",
       " <a href=\"month-oct-2017.html\">October</a>,\n",
       " <a href=\"month-nov-2017.html\">November</a>,\n",
       " <a href=\"month-dec-2017.html\">December</a>]"
      ]
     },
     "execution_count": 49,
     "metadata": {},
     "output_type": "execute_result"
    }
   ],
   "source": [
    "# nested elements\n",
    "selector = 'body > div > div.main > ul > li> a'\n",
    "tags = html_page.select(selector)\n",
    "tags"
   ]
  },
  {
   "cell_type": "code",
   "execution_count": 50,
   "metadata": {},
   "outputs": [
    {
     "data": {
      "text/plain": [
       "['http://www.it.kmitl.ac.th/~teerapong/news_archive/month-jan-2017.html',\n",
       " 'http://www.it.kmitl.ac.th/~teerapong/news_archive/month-feb-2017.html',\n",
       " 'http://www.it.kmitl.ac.th/~teerapong/news_archive/month-mar-2017.html',\n",
       " 'http://www.it.kmitl.ac.th/~teerapong/news_archive/month-apr-2017.html',\n",
       " 'http://www.it.kmitl.ac.th/~teerapong/news_archive/month-may-2017.html',\n",
       " 'http://www.it.kmitl.ac.th/~teerapong/news_archive/month-jun-2017.html',\n",
       " 'http://www.it.kmitl.ac.th/~teerapong/news_archive/month-jul-2017.html',\n",
       " 'http://www.it.kmitl.ac.th/~teerapong/news_archive/month-aug-2017.html',\n",
       " 'http://www.it.kmitl.ac.th/~teerapong/news_archive/month-sep-2017.html',\n",
       " 'http://www.it.kmitl.ac.th/~teerapong/news_archive/month-oct-2017.html',\n",
       " 'http://www.it.kmitl.ac.th/~teerapong/news_archive/month-nov-2017.html',\n",
       " 'http://www.it.kmitl.ac.th/~teerapong/news_archive/month-dec-2017.html']"
      ]
     },
     "execution_count": 50,
     "metadata": {},
     "output_type": "execute_result"
    }
   ],
   "source": [
    "list_archive = []\n",
    "for tag in tags:\n",
    "    list_archive.append('http://www.it.kmitl.ac.th/~teerapong/news_archive/' + tag['href'])\n",
    "list_archive"
   ]
  },
  {
   "cell_type": "markdown",
   "metadata": {},
   "source": [
    "### Create DataFrame"
   ]
  },
  {
   "cell_type": "code",
   "execution_count": 51,
   "metadata": {},
   "outputs": [
    {
     "data": {
      "text/html": [
       "<div>\n",
       "<style scoped>\n",
       "    .dataframe tbody tr th:only-of-type {\n",
       "        vertical-align: middle;\n",
       "    }\n",
       "\n",
       "    .dataframe tbody tr th {\n",
       "        vertical-align: top;\n",
       "    }\n",
       "\n",
       "    .dataframe thead th {\n",
       "        text-align: right;\n",
       "    }\n",
       "</style>\n",
       "<table border=\"1\" class=\"dataframe\">\n",
       "  <thead>\n",
       "    <tr style=\"text-align: right;\">\n",
       "      <th></th>\n",
       "      <th>category</th>\n",
       "      <th>title</th>\n",
       "      <th>link</th>\n",
       "    </tr>\n",
       "  </thead>\n",
       "  <tbody>\n",
       "  </tbody>\n",
       "</table>\n",
       "</div>"
      ],
      "text/plain": [
       "Empty DataFrame\n",
       "Columns: [category, title, link]\n",
       "Index: []"
      ]
     },
     "execution_count": 51,
     "metadata": {},
     "output_type": "execute_result"
    }
   ],
   "source": [
    "df = pd.DataFrame(columns=['category', 'title', 'link'])\n",
    "df"
   ]
  },
  {
   "cell_type": "markdown",
   "metadata": {},
   "source": [
    "### Create function"
   ]
  },
  {
   "cell_type": "code",
   "execution_count": 52,
   "metadata": {},
   "outputs": [],
   "source": [
    "def extract_category(html_page):\n",
    "    selector = 'body > div > div.main > table > tbody > tr> td.category'\n",
    "    tags = html_page.select(selector)\n",
    "    category = []\n",
    "\n",
    "    for tag in tags:\n",
    "        if tag.text.strip() != 'N/A':\n",
    "#             print(tag.text.strip())\n",
    "            category.append(tag.text.strip())\n",
    "\n",
    "    return category"
   ]
  },
  {
   "cell_type": "code",
   "execution_count": 53,
   "metadata": {},
   "outputs": [],
   "source": [
    "def extract_title(html_page):\n",
    "    selector = 'body > div > div.main > table > tbody > tr > td.title > a'\n",
    "    tags = html_page.select(selector)\n",
    "    title = []\n",
    "    \n",
    "    for tag in tags:\n",
    "        title.append(tag.text.strip())\n",
    "        \n",
    "    return title"
   ]
  },
  {
   "cell_type": "code",
   "execution_count": 54,
   "metadata": {},
   "outputs": [],
   "source": [
    "def extract_link_title(html_page):\n",
    "    selector = 'body > div > div.main > table > tbody > tr > td.title > a'\n",
    "    tags = html_page.select(selector)\n",
    "    link_title = []\n",
    "    \n",
    "    for tag in tags:    \n",
    "        link_title.append('http://www.it.kmitl.ac.th/~teerapong/news_archive/' + tag['href'])\n",
    "        \n",
    "    return link_title"
   ]
  },
  {
   "cell_type": "code",
   "execution_count": 55,
   "metadata": {},
   "outputs": [],
   "source": [
    "def extract_month(html_page):\n",
    "    selector = 'body > div > div.main > h1'\n",
    "    tag = html_page.select_one(selector)\n",
    "    month = tag.text.split()[-1]\n",
    "    return month"
   ]
  },
  {
   "cell_type": "code",
   "execution_count": 56,
   "metadata": {},
   "outputs": [],
   "source": [
    "url = 'http://www.it.kmitl.ac.th/~teerapong/news_archive/month-jan-2017.html'\n",
    "response = requests.get(url)\n",
    "html_page = bs4.BeautifulSoup(response.content, 'html.parser')\n",
    "# extract_category(html_page)\n",
    "# extract_title(html_page)\n",
    "# extract_link_title(html_page)\n",
    "# extract_month(html_page)"
   ]
  },
  {
   "cell_type": "code",
   "execution_count": 57,
   "metadata": {},
   "outputs": [],
   "source": [
    "# ['Jan']*118"
   ]
  },
  {
   "cell_type": "code",
   "execution_count": 58,
   "metadata": {},
   "outputs": [],
   "source": [
    "def extract_news_archive_info(url):\n",
    "    response = requests.get(url)\n",
    "    html_page = bs4.BeautifulSoup(response.content, 'html.parser')\n",
    "    \n",
    "    category = extract_category(html_page)\n",
    "    title = extract_title(html_page)\n",
    "    link_title = extract_link_title(html_page)\n",
    "    month = extract_month(html_page)\n",
    "    \n",
    "#     news_archive_dict = {\n",
    "#         'Article Category': category,\n",
    "#         'Article Title': title,\n",
    "#         'Article link': link_title\n",
    "#     }\n",
    "\n",
    "    news_archive_list = [category,\n",
    "            title,\n",
    "            link_title\n",
    "                        ]\n",
    "    \n",
    "#     return news_archive_list\n",
    "    category = pd.Series(news_archive_list[0])\n",
    "    title = pd.Series(news_archive_list[1])\n",
    "    link_title = pd.Series(news_archive_list[2])\n",
    "    month_series = pd.Series([month]*len(category))\n",
    "    \n",
    "    result = pd.concat([category, title, link_title, month_series], axis=1)\n",
    "    result = result.rename(columns={0: \"category\", 1: \"title\", 2: \"link\", 3:'month'})\n",
    "    return result"
   ]
  },
  {
   "cell_type": "code",
   "execution_count": 59,
   "metadata": {},
   "outputs": [],
   "source": [
    "# url = 'http://www.it.kmitl.ac.th/~teerapong/news_archive/month-jan-2017.html'\n",
    "# df = extract_news_archive_info(url)\n",
    "# df"
   ]
  },
  {
   "cell_type": "code",
   "execution_count": 60,
   "metadata": {},
   "outputs": [],
   "source": [
    "# category = pd.Series(news_archive_list[0])\n",
    "# title = pd.Series(news_archive_list[1])\n",
    "# link_title = pd.Series(news_archive_list[2])"
   ]
  },
  {
   "cell_type": "code",
   "execution_count": 61,
   "metadata": {
    "scrolled": true
   },
   "outputs": [],
   "source": [
    "# df = pd.concat([category, title, link_title], axis=1)\n",
    "# df = df.rename(columns={0: \"category\", 1: \"title\", 2: \"link_title\"})\n"
   ]
  },
  {
   "cell_type": "markdown",
   "metadata": {},
   "source": [
    "### เอา url ไปเข้า Function"
   ]
  },
  {
   "cell_type": "code",
   "execution_count": 62,
   "metadata": {},
   "outputs": [
    {
     "data": {
      "text/plain": [
       "['http://www.it.kmitl.ac.th/~teerapong/news_archive/month-jan-2017.html',\n",
       " 'http://www.it.kmitl.ac.th/~teerapong/news_archive/month-feb-2017.html',\n",
       " 'http://www.it.kmitl.ac.th/~teerapong/news_archive/month-mar-2017.html',\n",
       " 'http://www.it.kmitl.ac.th/~teerapong/news_archive/month-apr-2017.html',\n",
       " 'http://www.it.kmitl.ac.th/~teerapong/news_archive/month-may-2017.html',\n",
       " 'http://www.it.kmitl.ac.th/~teerapong/news_archive/month-jun-2017.html',\n",
       " 'http://www.it.kmitl.ac.th/~teerapong/news_archive/month-jul-2017.html',\n",
       " 'http://www.it.kmitl.ac.th/~teerapong/news_archive/month-aug-2017.html',\n",
       " 'http://www.it.kmitl.ac.th/~teerapong/news_archive/month-sep-2017.html',\n",
       " 'http://www.it.kmitl.ac.th/~teerapong/news_archive/month-oct-2017.html',\n",
       " 'http://www.it.kmitl.ac.th/~teerapong/news_archive/month-nov-2017.html',\n",
       " 'http://www.it.kmitl.ac.th/~teerapong/news_archive/month-dec-2017.html']"
      ]
     },
     "execution_count": 62,
     "metadata": {},
     "output_type": "execute_result"
    }
   ],
   "source": [
    "list_archive"
   ]
  },
  {
   "cell_type": "code",
   "execution_count": 63,
   "metadata": {},
   "outputs": [],
   "source": [
    "for url in list_archive:\n",
    "    result = extract_news_archive_info(url)\n",
    "    df = df.append(result, ignore_index=True)"
   ]
  },
  {
   "cell_type": "code",
   "execution_count": 64,
   "metadata": {},
   "outputs": [
    {
     "data": {
      "text/plain": [
       "category    0\n",
       "title       0\n",
       "link        0\n",
       "month       0\n",
       "dtype: int64"
      ]
     },
     "execution_count": 64,
     "metadata": {},
     "output_type": "execute_result"
    }
   ],
   "source": [
    "df.isna().sum()"
   ]
  },
  {
   "cell_type": "code",
   "execution_count": 65,
   "metadata": {},
   "outputs": [
    {
     "data": {
      "text/html": [
       "<div>\n",
       "<style scoped>\n",
       "    .dataframe tbody tr th:only-of-type {\n",
       "        vertical-align: middle;\n",
       "    }\n",
       "\n",
       "    .dataframe tbody tr th {\n",
       "        vertical-align: top;\n",
       "    }\n",
       "\n",
       "    .dataframe thead th {\n",
       "        text-align: right;\n",
       "    }\n",
       "</style>\n",
       "<table border=\"1\" class=\"dataframe\">\n",
       "  <thead>\n",
       "    <tr style=\"text-align: right;\">\n",
       "      <th></th>\n",
       "      <th>category</th>\n",
       "      <th>title</th>\n",
       "      <th>link</th>\n",
       "      <th>month</th>\n",
       "    </tr>\n",
       "  </thead>\n",
       "  <tbody>\n",
       "    <tr>\n",
       "      <th>0</th>\n",
       "      <td>technology</td>\n",
       "      <td>21st-Century Sports: How Digital Technology Is...</td>\n",
       "      <td>http://www.it.kmitl.ac.th/~teerapong/news_arch...</td>\n",
       "      <td>January</td>\n",
       "    </tr>\n",
       "    <tr>\n",
       "      <th>1</th>\n",
       "      <td>business</td>\n",
       "      <td>Asian quake hits European shares</td>\n",
       "      <td>http://www.it.kmitl.ac.th/~teerapong/news_arch...</td>\n",
       "      <td>January</td>\n",
       "    </tr>\n",
       "    <tr>\n",
       "      <th>2</th>\n",
       "      <td>technology</td>\n",
       "      <td>BT offers free net phone calls</td>\n",
       "      <td>http://www.it.kmitl.ac.th/~teerapong/news_arch...</td>\n",
       "      <td>January</td>\n",
       "    </tr>\n",
       "    <tr>\n",
       "      <th>3</th>\n",
       "      <td>business</td>\n",
       "      <td>Barclays shares up on merger talk</td>\n",
       "      <td>http://www.it.kmitl.ac.th/~teerapong/news_arch...</td>\n",
       "      <td>January</td>\n",
       "    </tr>\n",
       "    <tr>\n",
       "      <th>4</th>\n",
       "      <td>sport</td>\n",
       "      <td>Barkley fit for match in Ireland</td>\n",
       "      <td>http://www.it.kmitl.ac.th/~teerapong/news_arch...</td>\n",
       "      <td>January</td>\n",
       "    </tr>\n",
       "    <tr>\n",
       "      <th>...</th>\n",
       "      <td>...</td>\n",
       "      <td>...</td>\n",
       "      <td>...</td>\n",
       "      <td>...</td>\n",
       "    </tr>\n",
       "    <tr>\n",
       "      <th>1403</th>\n",
       "      <td>sport</td>\n",
       "      <td>Woodward eyes Brennan for Lions</td>\n",
       "      <td>http://www.it.kmitl.ac.th/~teerapong/news_arch...</td>\n",
       "      <td>December</td>\n",
       "    </tr>\n",
       "    <tr>\n",
       "      <th>1404</th>\n",
       "      <td>business</td>\n",
       "      <td>WorldCom trial starts in New York</td>\n",
       "      <td>http://www.it.kmitl.ac.th/~teerapong/news_arch...</td>\n",
       "      <td>December</td>\n",
       "    </tr>\n",
       "    <tr>\n",
       "      <th>1405</th>\n",
       "      <td>business</td>\n",
       "      <td>Yukos accused of lying to court</td>\n",
       "      <td>http://www.it.kmitl.ac.th/~teerapong/news_arch...</td>\n",
       "      <td>December</td>\n",
       "    </tr>\n",
       "    <tr>\n",
       "      <th>1406</th>\n",
       "      <td>business</td>\n",
       "      <td>Yukos drops banks from court bid</td>\n",
       "      <td>http://www.it.kmitl.ac.th/~teerapong/news_arch...</td>\n",
       "      <td>December</td>\n",
       "    </tr>\n",
       "    <tr>\n",
       "      <th>1407</th>\n",
       "      <td>sport</td>\n",
       "      <td>Zambia confident and cautious</td>\n",
       "      <td>http://www.it.kmitl.ac.th/~teerapong/news_arch...</td>\n",
       "      <td>December</td>\n",
       "    </tr>\n",
       "  </tbody>\n",
       "</table>\n",
       "<p>1408 rows × 4 columns</p>\n",
       "</div>"
      ],
      "text/plain": [
       "        category                                              title  \\\n",
       "0     technology  21st-Century Sports: How Digital Technology Is...   \n",
       "1       business                   Asian quake hits European shares   \n",
       "2     technology                     BT offers free net phone calls   \n",
       "3       business                  Barclays shares up on merger talk   \n",
       "4          sport                   Barkley fit for match in Ireland   \n",
       "...          ...                                                ...   \n",
       "1403       sport                    Woodward eyes Brennan for Lions   \n",
       "1404    business                  WorldCom trial starts in New York   \n",
       "1405    business                    Yukos accused of lying to court   \n",
       "1406    business                   Yukos drops banks from court bid   \n",
       "1407       sport                      Zambia confident and cautious   \n",
       "\n",
       "                                                   link     month  \n",
       "0     http://www.it.kmitl.ac.th/~teerapong/news_arch...   January  \n",
       "1     http://www.it.kmitl.ac.th/~teerapong/news_arch...   January  \n",
       "2     http://www.it.kmitl.ac.th/~teerapong/news_arch...   January  \n",
       "3     http://www.it.kmitl.ac.th/~teerapong/news_arch...   January  \n",
       "4     http://www.it.kmitl.ac.th/~teerapong/news_arch...   January  \n",
       "...                                                 ...       ...  \n",
       "1403  http://www.it.kmitl.ac.th/~teerapong/news_arch...  December  \n",
       "1404  http://www.it.kmitl.ac.th/~teerapong/news_arch...  December  \n",
       "1405  http://www.it.kmitl.ac.th/~teerapong/news_arch...  December  \n",
       "1406  http://www.it.kmitl.ac.th/~teerapong/news_arch...  December  \n",
       "1407  http://www.it.kmitl.ac.th/~teerapong/news_arch...  December  \n",
       "\n",
       "[1408 rows x 4 columns]"
      ]
     },
     "execution_count": 65,
     "metadata": {},
     "output_type": "execute_result"
    }
   ],
   "source": [
    "df"
   ]
  },
  {
   "cell_type": "code",
   "execution_count": 66,
   "metadata": {},
   "outputs": [],
   "source": [
    "# df['link'].iloc[0][50:-5]"
   ]
  },
  {
   "cell_type": "markdown",
   "metadata": {},
   "source": [
    "### Add id coloumn"
   ]
  },
  {
   "cell_type": "code",
   "execution_count": 67,
   "metadata": {},
   "outputs": [
    {
     "data": {
      "text/html": [
       "<div>\n",
       "<style scoped>\n",
       "    .dataframe tbody tr th:only-of-type {\n",
       "        vertical-align: middle;\n",
       "    }\n",
       "\n",
       "    .dataframe tbody tr th {\n",
       "        vertical-align: top;\n",
       "    }\n",
       "\n",
       "    .dataframe thead th {\n",
       "        text-align: right;\n",
       "    }\n",
       "</style>\n",
       "<table border=\"1\" class=\"dataframe\">\n",
       "  <thead>\n",
       "    <tr style=\"text-align: right;\">\n",
       "      <th></th>\n",
       "      <th>category</th>\n",
       "      <th>title</th>\n",
       "      <th>link</th>\n",
       "      <th>month</th>\n",
       "      <th>id</th>\n",
       "    </tr>\n",
       "  </thead>\n",
       "  <tbody>\n",
       "    <tr>\n",
       "      <th>0</th>\n",
       "      <td>technology</td>\n",
       "      <td>21st-Century Sports: How Digital Technology Is...</td>\n",
       "      <td>http://www.it.kmitl.ac.th/~teerapong/news_arch...</td>\n",
       "      <td>January</td>\n",
       "      <td>article-jan-0418</td>\n",
       "    </tr>\n",
       "    <tr>\n",
       "      <th>1</th>\n",
       "      <td>business</td>\n",
       "      <td>Asian quake hits European shares</td>\n",
       "      <td>http://www.it.kmitl.ac.th/~teerapong/news_arch...</td>\n",
       "      <td>January</td>\n",
       "      <td>article-jan-0027</td>\n",
       "    </tr>\n",
       "    <tr>\n",
       "      <th>2</th>\n",
       "      <td>technology</td>\n",
       "      <td>BT offers free net phone calls</td>\n",
       "      <td>http://www.it.kmitl.ac.th/~teerapong/news_arch...</td>\n",
       "      <td>January</td>\n",
       "      <td>article-jan-0631</td>\n",
       "    </tr>\n",
       "    <tr>\n",
       "      <th>3</th>\n",
       "      <td>business</td>\n",
       "      <td>Barclays shares up on merger talk</td>\n",
       "      <td>http://www.it.kmitl.ac.th/~teerapong/news_arch...</td>\n",
       "      <td>January</td>\n",
       "      <td>article-jan-2105</td>\n",
       "    </tr>\n",
       "    <tr>\n",
       "      <th>4</th>\n",
       "      <td>sport</td>\n",
       "      <td>Barkley fit for match in Ireland</td>\n",
       "      <td>http://www.it.kmitl.ac.th/~teerapong/news_arch...</td>\n",
       "      <td>January</td>\n",
       "      <td>article-jan-3300</td>\n",
       "    </tr>\n",
       "    <tr>\n",
       "      <th>...</th>\n",
       "      <td>...</td>\n",
       "      <td>...</td>\n",
       "      <td>...</td>\n",
       "      <td>...</td>\n",
       "      <td>...</td>\n",
       "    </tr>\n",
       "    <tr>\n",
       "      <th>1403</th>\n",
       "      <td>sport</td>\n",
       "      <td>Woodward eyes Brennan for Lions</td>\n",
       "      <td>http://www.it.kmitl.ac.th/~teerapong/news_arch...</td>\n",
       "      <td>December</td>\n",
       "      <td>article-dec-2238</td>\n",
       "    </tr>\n",
       "    <tr>\n",
       "      <th>1404</th>\n",
       "      <td>business</td>\n",
       "      <td>WorldCom trial starts in New York</td>\n",
       "      <td>http://www.it.kmitl.ac.th/~teerapong/news_arch...</td>\n",
       "      <td>December</td>\n",
       "      <td>article-dec-2334</td>\n",
       "    </tr>\n",
       "    <tr>\n",
       "      <th>1405</th>\n",
       "      <td>business</td>\n",
       "      <td>Yukos accused of lying to court</td>\n",
       "      <td>http://www.it.kmitl.ac.th/~teerapong/news_arch...</td>\n",
       "      <td>December</td>\n",
       "      <td>article-dec-2095</td>\n",
       "    </tr>\n",
       "    <tr>\n",
       "      <th>1406</th>\n",
       "      <td>business</td>\n",
       "      <td>Yukos drops banks from court bid</td>\n",
       "      <td>http://www.it.kmitl.ac.th/~teerapong/news_arch...</td>\n",
       "      <td>December</td>\n",
       "      <td>article-dec-1351</td>\n",
       "    </tr>\n",
       "    <tr>\n",
       "      <th>1407</th>\n",
       "      <td>sport</td>\n",
       "      <td>Zambia confident and cautious</td>\n",
       "      <td>http://www.it.kmitl.ac.th/~teerapong/news_arch...</td>\n",
       "      <td>December</td>\n",
       "      <td>article-dec-0068</td>\n",
       "    </tr>\n",
       "  </tbody>\n",
       "</table>\n",
       "<p>1408 rows × 5 columns</p>\n",
       "</div>"
      ],
      "text/plain": [
       "        category                                              title  \\\n",
       "0     technology  21st-Century Sports: How Digital Technology Is...   \n",
       "1       business                   Asian quake hits European shares   \n",
       "2     technology                     BT offers free net phone calls   \n",
       "3       business                  Barclays shares up on merger talk   \n",
       "4          sport                   Barkley fit for match in Ireland   \n",
       "...          ...                                                ...   \n",
       "1403       sport                    Woodward eyes Brennan for Lions   \n",
       "1404    business                  WorldCom trial starts in New York   \n",
       "1405    business                    Yukos accused of lying to court   \n",
       "1406    business                   Yukos drops banks from court bid   \n",
       "1407       sport                      Zambia confident and cautious   \n",
       "\n",
       "                                                   link     month  \\\n",
       "0     http://www.it.kmitl.ac.th/~teerapong/news_arch...   January   \n",
       "1     http://www.it.kmitl.ac.th/~teerapong/news_arch...   January   \n",
       "2     http://www.it.kmitl.ac.th/~teerapong/news_arch...   January   \n",
       "3     http://www.it.kmitl.ac.th/~teerapong/news_arch...   January   \n",
       "4     http://www.it.kmitl.ac.th/~teerapong/news_arch...   January   \n",
       "...                                                 ...       ...   \n",
       "1403  http://www.it.kmitl.ac.th/~teerapong/news_arch...  December   \n",
       "1404  http://www.it.kmitl.ac.th/~teerapong/news_arch...  December   \n",
       "1405  http://www.it.kmitl.ac.th/~teerapong/news_arch...  December   \n",
       "1406  http://www.it.kmitl.ac.th/~teerapong/news_arch...  December   \n",
       "1407  http://www.it.kmitl.ac.th/~teerapong/news_arch...  December   \n",
       "\n",
       "                    id  \n",
       "0     article-jan-0418  \n",
       "1     article-jan-0027  \n",
       "2     article-jan-0631  \n",
       "3     article-jan-2105  \n",
       "4     article-jan-3300  \n",
       "...                ...  \n",
       "1403  article-dec-2238  \n",
       "1404  article-dec-2334  \n",
       "1405  article-dec-2095  \n",
       "1406  article-dec-1351  \n",
       "1407  article-dec-0068  \n",
       "\n",
       "[1408 rows x 5 columns]"
      ]
     },
     "execution_count": 67,
     "metadata": {},
     "output_type": "execute_result"
    }
   ],
   "source": [
    "df['id'] = df['link'].str[50:-5]\n",
    "df"
   ]
  },
  {
   "cell_type": "code",
   "execution_count": 68,
   "metadata": {},
   "outputs": [],
   "source": [
    "# for i in range(len(result)):\n",
    "#     print(result['link'].iloc[i])"
   ]
  },
  {
   "cell_type": "markdown",
   "metadata": {},
   "source": [
    "### Get Content"
   ]
  },
  {
   "cell_type": "code",
   "execution_count": 70,
   "metadata": {},
   "outputs": [],
   "source": [
    "list_content = []"
   ]
  },
  {
   "cell_type": "code",
   "execution_count": 71,
   "metadata": {},
   "outputs": [],
   "source": [
    "def get_content(url):\n",
    "    response = requests.get(url)\n",
    "\n",
    "    html_page = bs4.BeautifulSoup(response.content, 'html.parser')\n",
    "\n",
    "    selector = 'body > div > div.main > p'\n",
    "    tags = html_page.select(selector)\n",
    "\n",
    "    content = ''\n",
    "    for tag in tags:\n",
    "        if tag.text.strip() != '':\n",
    "            if '.html' in str(tag):\n",
    "                pass\n",
    "            else:\n",
    "                content += tag.text.strip() + ' '\n",
    "                \n",
    "    list_content.append(content.strip())\n"
   ]
  },
  {
   "cell_type": "code",
   "execution_count": 72,
   "metadata": {},
   "outputs": [],
   "source": [
    "# get_content('http://www.it.kmitl.ac.th/~teerapong/news_archive/article-jan-4187.html')\n",
    "# print(list_content[0])"
   ]
  },
  {
   "cell_type": "code",
   "execution_count": 73,
   "metadata": {},
   "outputs": [],
   "source": [
    "for i in range(len(df)):\n",
    "    get_content(df['link'].iloc[i])"
   ]
  },
  {
   "cell_type": "code",
   "execution_count": 29,
   "metadata": {},
   "outputs": [],
   "source": [
    "# df['link'].iloc[1403]"
   ]
  },
  {
   "cell_type": "code",
   "execution_count": 74,
   "metadata": {},
   "outputs": [
    {
     "data": {
      "text/html": [
       "<div>\n",
       "<style scoped>\n",
       "    .dataframe tbody tr th:only-of-type {\n",
       "        vertical-align: middle;\n",
       "    }\n",
       "\n",
       "    .dataframe tbody tr th {\n",
       "        vertical-align: top;\n",
       "    }\n",
       "\n",
       "    .dataframe thead th {\n",
       "        text-align: right;\n",
       "    }\n",
       "</style>\n",
       "<table border=\"1\" class=\"dataframe\">\n",
       "  <thead>\n",
       "    <tr style=\"text-align: right;\">\n",
       "      <th></th>\n",
       "      <th>category</th>\n",
       "      <th>title</th>\n",
       "      <th>link</th>\n",
       "      <th>month</th>\n",
       "      <th>id</th>\n",
       "      <th>content</th>\n",
       "    </tr>\n",
       "  </thead>\n",
       "  <tbody>\n",
       "    <tr>\n",
       "      <th>0</th>\n",
       "      <td>technology</td>\n",
       "      <td>21st-Century Sports: How Digital Technology Is...</td>\n",
       "      <td>http://www.it.kmitl.ac.th/~teerapong/news_arch...</td>\n",
       "      <td>January</td>\n",
       "      <td>article-jan-0418</td>\n",
       "      <td>The sporting industry has come a long way sinc...</td>\n",
       "    </tr>\n",
       "    <tr>\n",
       "      <th>1</th>\n",
       "      <td>business</td>\n",
       "      <td>Asian quake hits European shares</td>\n",
       "      <td>http://www.it.kmitl.ac.th/~teerapong/news_arch...</td>\n",
       "      <td>January</td>\n",
       "      <td>article-jan-0027</td>\n",
       "      <td>Asian quake hits European shares Shares in Eur...</td>\n",
       "    </tr>\n",
       "    <tr>\n",
       "      <th>2</th>\n",
       "      <td>technology</td>\n",
       "      <td>BT offers free net phone calls</td>\n",
       "      <td>http://www.it.kmitl.ac.th/~teerapong/news_arch...</td>\n",
       "      <td>January</td>\n",
       "      <td>article-jan-0631</td>\n",
       "      <td>BT is offering customers free internet telepho...</td>\n",
       "    </tr>\n",
       "    <tr>\n",
       "      <th>3</th>\n",
       "      <td>business</td>\n",
       "      <td>Barclays shares up on merger talk</td>\n",
       "      <td>http://www.it.kmitl.ac.th/~teerapong/news_arch...</td>\n",
       "      <td>January</td>\n",
       "      <td>article-jan-2105</td>\n",
       "      <td>Barclays shares up on merger talk Shares in UK...</td>\n",
       "    </tr>\n",
       "    <tr>\n",
       "      <th>4</th>\n",
       "      <td>sport</td>\n",
       "      <td>Barkley fit for match in Ireland</td>\n",
       "      <td>http://www.it.kmitl.ac.th/~teerapong/news_arch...</td>\n",
       "      <td>January</td>\n",
       "      <td>article-jan-3300</td>\n",
       "      <td>England centre Olly Barkley has been passed fi...</td>\n",
       "    </tr>\n",
       "    <tr>\n",
       "      <th>...</th>\n",
       "      <td>...</td>\n",
       "      <td>...</td>\n",
       "      <td>...</td>\n",
       "      <td>...</td>\n",
       "      <td>...</td>\n",
       "      <td>...</td>\n",
       "    </tr>\n",
       "    <tr>\n",
       "      <th>1403</th>\n",
       "      <td>sport</td>\n",
       "      <td>Woodward eyes Brennan for Lions</td>\n",
       "      <td>http://www.it.kmitl.ac.th/~teerapong/news_arch...</td>\n",
       "      <td>December</td>\n",
       "      <td>article-dec-2238</td>\n",
       "      <td>Woodward eyes Brennan for Lions Toulouse's for...</td>\n",
       "    </tr>\n",
       "    <tr>\n",
       "      <th>1404</th>\n",
       "      <td>business</td>\n",
       "      <td>WorldCom trial starts in New York</td>\n",
       "      <td>http://www.it.kmitl.ac.th/~teerapong/news_arch...</td>\n",
       "      <td>December</td>\n",
       "      <td>article-dec-2334</td>\n",
       "      <td>The trial of Bernie Ebbers, former chief execu...</td>\n",
       "    </tr>\n",
       "    <tr>\n",
       "      <th>1405</th>\n",
       "      <td>business</td>\n",
       "      <td>Yukos accused of lying to court</td>\n",
       "      <td>http://www.it.kmitl.ac.th/~teerapong/news_arch...</td>\n",
       "      <td>December</td>\n",
       "      <td>article-dec-2095</td>\n",
       "      <td>Yukos accused of lying to court Russian oil fi...</td>\n",
       "    </tr>\n",
       "    <tr>\n",
       "      <th>1406</th>\n",
       "      <td>business</td>\n",
       "      <td>Yukos drops banks from court bid</td>\n",
       "      <td>http://www.it.kmitl.ac.th/~teerapong/news_arch...</td>\n",
       "      <td>December</td>\n",
       "      <td>article-dec-1351</td>\n",
       "      <td>Russian oil company Yukos has dropped the thre...</td>\n",
       "    </tr>\n",
       "    <tr>\n",
       "      <th>1407</th>\n",
       "      <td>sport</td>\n",
       "      <td>Zambia confident and cautious</td>\n",
       "      <td>http://www.it.kmitl.ac.th/~teerapong/news_arch...</td>\n",
       "      <td>December</td>\n",
       "      <td>article-dec-0068</td>\n",
       "      <td>Zambia's technical director, Kalusha Bwalya is...</td>\n",
       "    </tr>\n",
       "  </tbody>\n",
       "</table>\n",
       "<p>1408 rows × 6 columns</p>\n",
       "</div>"
      ],
      "text/plain": [
       "        category                                              title  \\\n",
       "0     technology  21st-Century Sports: How Digital Technology Is...   \n",
       "1       business                   Asian quake hits European shares   \n",
       "2     technology                     BT offers free net phone calls   \n",
       "3       business                  Barclays shares up on merger talk   \n",
       "4          sport                   Barkley fit for match in Ireland   \n",
       "...          ...                                                ...   \n",
       "1403       sport                    Woodward eyes Brennan for Lions   \n",
       "1404    business                  WorldCom trial starts in New York   \n",
       "1405    business                    Yukos accused of lying to court   \n",
       "1406    business                   Yukos drops banks from court bid   \n",
       "1407       sport                      Zambia confident and cautious   \n",
       "\n",
       "                                                   link     month  \\\n",
       "0     http://www.it.kmitl.ac.th/~teerapong/news_arch...   January   \n",
       "1     http://www.it.kmitl.ac.th/~teerapong/news_arch...   January   \n",
       "2     http://www.it.kmitl.ac.th/~teerapong/news_arch...   January   \n",
       "3     http://www.it.kmitl.ac.th/~teerapong/news_arch...   January   \n",
       "4     http://www.it.kmitl.ac.th/~teerapong/news_arch...   January   \n",
       "...                                                 ...       ...   \n",
       "1403  http://www.it.kmitl.ac.th/~teerapong/news_arch...  December   \n",
       "1404  http://www.it.kmitl.ac.th/~teerapong/news_arch...  December   \n",
       "1405  http://www.it.kmitl.ac.th/~teerapong/news_arch...  December   \n",
       "1406  http://www.it.kmitl.ac.th/~teerapong/news_arch...  December   \n",
       "1407  http://www.it.kmitl.ac.th/~teerapong/news_arch...  December   \n",
       "\n",
       "                    id                                            content  \n",
       "0     article-jan-0418  The sporting industry has come a long way sinc...  \n",
       "1     article-jan-0027  Asian quake hits European shares Shares in Eur...  \n",
       "2     article-jan-0631  BT is offering customers free internet telepho...  \n",
       "3     article-jan-2105  Barclays shares up on merger talk Shares in UK...  \n",
       "4     article-jan-3300  England centre Olly Barkley has been passed fi...  \n",
       "...                ...                                                ...  \n",
       "1403  article-dec-2238  Woodward eyes Brennan for Lions Toulouse's for...  \n",
       "1404  article-dec-2334  The trial of Bernie Ebbers, former chief execu...  \n",
       "1405  article-dec-2095  Yukos accused of lying to court Russian oil fi...  \n",
       "1406  article-dec-1351  Russian oil company Yukos has dropped the thre...  \n",
       "1407  article-dec-0068  Zambia's technical director, Kalusha Bwalya is...  \n",
       "\n",
       "[1408 rows x 6 columns]"
      ]
     },
     "execution_count": 74,
     "metadata": {},
     "output_type": "execute_result"
    }
   ],
   "source": [
    "content = pd.Series(list_content)\n",
    "df = pd.concat([df, content], axis=1)\n",
    "df = df.rename(columns={0: \"content\"})\n",
    "df"
   ]
  },
  {
   "cell_type": "code",
   "execution_count": 75,
   "metadata": {},
   "outputs": [],
   "source": [
    "# print(df['link'].iloc[1403])\n",
    "# print(df['id'].iloc[1403])\n",
    "# print(df['content'].iloc[1403])"
   ]
  },
  {
   "cell_type": "markdown",
   "metadata": {},
   "source": [
    "## save DataFarame to csv/txt\n",
    "เพื่อให้ง่ายต่อการใช้ในภายหลัง"
   ]
  },
  {
   "cell_type": "code",
   "execution_count": 76,
   "metadata": {},
   "outputs": [],
   "source": [
    "# df.to_csv('data.csv', index=False)"
   ]
  },
  {
   "cell_type": "code",
   "execution_count": 77,
   "metadata": {
    "scrolled": true
   },
   "outputs": [
    {
     "data": {
      "text/html": [
       "<div>\n",
       "<style scoped>\n",
       "    .dataframe tbody tr th:only-of-type {\n",
       "        vertical-align: middle;\n",
       "    }\n",
       "\n",
       "    .dataframe tbody tr th {\n",
       "        vertical-align: top;\n",
       "    }\n",
       "\n",
       "    .dataframe thead th {\n",
       "        text-align: right;\n",
       "    }\n",
       "</style>\n",
       "<table border=\"1\" class=\"dataframe\">\n",
       "  <thead>\n",
       "    <tr style=\"text-align: right;\">\n",
       "      <th></th>\n",
       "      <th>category</th>\n",
       "      <th>title</th>\n",
       "      <th>link</th>\n",
       "      <th>month</th>\n",
       "      <th>id</th>\n",
       "      <th>content</th>\n",
       "    </tr>\n",
       "  </thead>\n",
       "  <tbody>\n",
       "    <tr>\n",
       "      <th>0</th>\n",
       "      <td>technology</td>\n",
       "      <td>21st-Century Sports: How Digital Technology Is...</td>\n",
       "      <td>http://www.it.kmitl.ac.th/~teerapong/news_arch...</td>\n",
       "      <td>January</td>\n",
       "      <td>article-jan-0418</td>\n",
       "      <td>The sporting industry has come a long way sinc...</td>\n",
       "    </tr>\n",
       "    <tr>\n",
       "      <th>1</th>\n",
       "      <td>business</td>\n",
       "      <td>Asian quake hits European shares</td>\n",
       "      <td>http://www.it.kmitl.ac.th/~teerapong/news_arch...</td>\n",
       "      <td>January</td>\n",
       "      <td>article-jan-0027</td>\n",
       "      <td>Asian quake hits European shares Shares in Eur...</td>\n",
       "    </tr>\n",
       "    <tr>\n",
       "      <th>2</th>\n",
       "      <td>technology</td>\n",
       "      <td>BT offers free net phone calls</td>\n",
       "      <td>http://www.it.kmitl.ac.th/~teerapong/news_arch...</td>\n",
       "      <td>January</td>\n",
       "      <td>article-jan-0631</td>\n",
       "      <td>BT is offering customers free internet telepho...</td>\n",
       "    </tr>\n",
       "    <tr>\n",
       "      <th>3</th>\n",
       "      <td>business</td>\n",
       "      <td>Barclays shares up on merger talk</td>\n",
       "      <td>http://www.it.kmitl.ac.th/~teerapong/news_arch...</td>\n",
       "      <td>January</td>\n",
       "      <td>article-jan-2105</td>\n",
       "      <td>Barclays shares up on merger talk Shares in UK...</td>\n",
       "    </tr>\n",
       "    <tr>\n",
       "      <th>4</th>\n",
       "      <td>sport</td>\n",
       "      <td>Barkley fit for match in Ireland</td>\n",
       "      <td>http://www.it.kmitl.ac.th/~teerapong/news_arch...</td>\n",
       "      <td>January</td>\n",
       "      <td>article-jan-3300</td>\n",
       "      <td>England centre Olly Barkley has been passed fi...</td>\n",
       "    </tr>\n",
       "  </tbody>\n",
       "</table>\n",
       "</div>"
      ],
      "text/plain": [
       "     category                                              title  \\\n",
       "0  technology  21st-Century Sports: How Digital Technology Is...   \n",
       "1    business                   Asian quake hits European shares   \n",
       "2  technology                     BT offers free net phone calls   \n",
       "3    business                  Barclays shares up on merger talk   \n",
       "4       sport                   Barkley fit for match in Ireland   \n",
       "\n",
       "                                                link    month  \\\n",
       "0  http://www.it.kmitl.ac.th/~teerapong/news_arch...  January   \n",
       "1  http://www.it.kmitl.ac.th/~teerapong/news_arch...  January   \n",
       "2  http://www.it.kmitl.ac.th/~teerapong/news_arch...  January   \n",
       "3  http://www.it.kmitl.ac.th/~teerapong/news_arch...  January   \n",
       "4  http://www.it.kmitl.ac.th/~teerapong/news_arch...  January   \n",
       "\n",
       "                 id                                            content  \n",
       "0  article-jan-0418  The sporting industry has come a long way sinc...  \n",
       "1  article-jan-0027  Asian quake hits European shares Shares in Eur...  \n",
       "2  article-jan-0631  BT is offering customers free internet telepho...  \n",
       "3  article-jan-2105  Barclays shares up on merger talk Shares in UK...  \n",
       "4  article-jan-3300  England centre Olly Barkley has been passed fi...  "
      ]
     },
     "execution_count": 77,
     "metadata": {},
     "output_type": "execute_result"
    }
   ],
   "source": [
    "df = pd.read_csv('data.csv')\n",
    "df.head()"
   ]
  },
  {
   "cell_type": "code",
   "execution_count": null,
   "metadata": {},
   "outputs": [],
   "source": []
  },
  {
   "cell_type": "markdown",
   "metadata": {},
   "source": [
    "### คัดให้เหลือเฉพาะที่ใช้ในการวิเคราะห์\n",
    "- AllArticles_OnlyContent\n",
    "- AllArticles_HeadingPlusContent"
   ]
  },
  {
   "cell_type": "markdown",
   "metadata": {},
   "source": [
    "**csv**"
   ]
  },
  {
   "cell_type": "code",
   "execution_count": 78,
   "metadata": {},
   "outputs": [],
   "source": [
    "AllArticles_OnlyHeading = df['title']\n",
    "AllArticles_OnlyHeading.to_csv('datastore/AllArticles_OnlyHeading.csv', index=False)"
   ]
  },
  {
   "cell_type": "code",
   "execution_count": 79,
   "metadata": {},
   "outputs": [],
   "source": [
    "AllArticles_OnlyContent = df['content']\n",
    "AllArticles_OnlyContent.to_csv('datastore/AllArticles_OnlyContent.csv', index=False)"
   ]
  },
  {
   "cell_type": "code",
   "execution_count": 80,
   "metadata": {},
   "outputs": [],
   "source": [
    "AllArticles_HeadingPlusContent = df[['title','content']]\n",
    "AllArticles_HeadingPlusContent.to_csv('datastore/AllArticles_HeadingPlusContent.csv', index=False)"
   ]
  },
  {
   "cell_type": "code",
   "execution_count": 81,
   "metadata": {},
   "outputs": [],
   "source": [
    "Category = df['category']\n",
    "Category.to_csv('datastore/category.csv', index=False)"
   ]
  },
  {
   "cell_type": "markdown",
   "metadata": {},
   "source": [
    "**txt**"
   ]
  },
  {
   "cell_type": "code",
   "execution_count": 82,
   "metadata": {},
   "outputs": [],
   "source": [
    "AllArticles_OnlyHeading = df['title']\n",
    "AllArticles_OnlyHeading.to_csv(r'AllArticles_OnlyHeading.txt', header=None, index=None, sep=' ', mode='a')"
   ]
  },
  {
   "cell_type": "code",
   "execution_count": 83,
   "metadata": {},
   "outputs": [],
   "source": [
    "# AllArticles_OnlyContent = df['content']\n",
    "AllArticles_OnlyContent.to_csv(r'AllArticles_OnlyContent.txt', header=None, index=None, sep=' ', mode='a')"
   ]
  },
  {
   "cell_type": "code",
   "execution_count": 84,
   "metadata": {},
   "outputs": [],
   "source": [
    "# AllArticles_HeadingPlusContent = df[['title','content']]\n",
    "AllArticles_HeadingPlusContent.to_csv(r'AllArticles_HeadingPlusContent.txt', header=None, index=None, sep=' ', mode='a')"
   ]
  },
  {
   "cell_type": "code",
   "execution_count": 85,
   "metadata": {},
   "outputs": [],
   "source": [
    "Category.to_csv(r'target/category.txt', header=None, index=None, sep=' ', mode='a')"
   ]
  },
  {
   "cell_type": "code",
   "execution_count": null,
   "metadata": {},
   "outputs": [],
   "source": []
  },
  {
   "cell_type": "markdown",
   "metadata": {},
   "source": [
    "# Preprocessing"
   ]
  },
  {
   "cell_type": "code",
   "execution_count": 6,
   "metadata": {},
   "outputs": [
    {
     "name": "stdout",
     "output_type": "stream",
     "text": [
      "Read 1408 raw text documents\n"
     ]
    }
   ],
   "source": [
    "fin = open(\"AllArticles_OnlyContent.txt\",\"r\", encoding=\"utf8\")\n",
    "raw_documents = fin.readlines()\n",
    "fin.close()\n",
    "print(\"Read %d raw text documents\" % len(raw_documents))"
   ]
  },
  {
   "cell_type": "code",
   "execution_count": 89,
   "metadata": {},
   "outputs": [
    {
     "name": "stdout",
     "output_type": "stream",
     "text": [
      "\"The sporting industry has come a long way since the ‘60s. It has carved out for itself a niche with its roots so deep that I cannot fathom the sports industry showing any sign of decline any time soon - or later. The reason can be found in this seemingly subtle difference - other industries have cu\n"
     ]
    }
   ],
   "source": [
    "doc1 = raw_documents[0].strip()\n",
    "# print a snippet\n",
    "print(doc1[0:300])"
   ]
  },
  {
   "cell_type": "code",
   "execution_count": 90,
   "metadata": {},
   "outputs": [
    {
     "name": "stdout",
     "output_type": "stream",
     "text": [
      "['the', 'sporting', 'industry', 'has', 'come', 'long', 'way', 'since', 'the', '60s', 'it', 'has', 'carved', 'out', 'for', 'itself', 'niche', 'with', 'its', 'roots', 'so', 'deep', 'that', 'cannot', 'fathom', 'the', 'sports', 'industry', 'showing', 'any', 'sign', 'of', 'decline', 'any', 'time', 'soon', 'or', 'later', 'the', 'reason', 'can', 'be', 'found', 'in', 'this', 'seemingly', 'subtle', 'difference', 'other', 'industries', 'have', 'customers', 'the', 'sporting', 'industry', 'has', 'fans', 'vivek', 'ranadivé', 'leader', 'of', 'the', 'ownership', 'group', 'of', 'the', 'nba', 'sacramento', 'kings', 'explained', 'it', 'beautifully', 'fans', 'will', 'paint', 'their', 'face', 'purple', 'fans', 'will', 'evangelize', 'every', 'other', 'ceo', 'in', 'every', 'business', 'is', 'dying', 'to', 'be', 'in', 'our', 'position', 'they', 're', 'dying', 'to', 'have', 'fans', 'while', 'fan', 'passion', 'alone', 'could', 'almost', 'certainly', 'keep', 'the', 'industry', 'going', 'leagues', 'and', 'sporting', 'franchises', 'have', 'decided', 'not', 'to', 'rest', 'on', 'their', 'laurels', 'the', 'last', 'few', 'years', 'have', 'seen', 'the', 'steady', 'introduction', 'of', 'technology', 'into', 'the', 'world', 'of', 'sports', 'amplifying', 'fans', 'appreciation', 'of', 'games', 'enhancing', 'athletes', 'public', 'profiles', 'and', 'informing', 'their', 'training', 'methods', 'even', 'influencing', 'how', 'contests', 'are', 'waged', 'also', 'digital', 'technology', 'in', 'particular', 'has', 'helped', 'to', 'create', 'an', 'alternative', 'source', 'of', 'revenue', 'besides', 'the', 'games', 'themselves', 'corporate', 'sponsorship', 'they', 'achieved', 'this', 'by', 'capitalizing', 'on', 'the', 'ardor', 'of', 'their', 'customer', 'base', 'sorry', 'fan', 'base']\n"
     ]
    }
   ],
   "source": [
    "from sklearn.feature_extraction.text import CountVectorizer\n",
    "tokenize = CountVectorizer().build_tokenizer()\n",
    "# convert to lowercase, then tokenize\n",
    "tokens1 = tokenize(doc1.lower())\n",
    "print(tokens1)"
   ]
  },
  {
   "cell_type": "code",
   "execution_count": 93,
   "metadata": {},
   "outputs": [],
   "source": [
    "#set ของ stopwords ที่มีคนรวบรวมไว้ทั้งหมด\n",
    "from sklearn.feature_extraction import text\n",
    "stopwords = text.ENGLISH_STOP_WORDS"
   ]
  },
  {
   "cell_type": "code",
   "execution_count": 95,
   "metadata": {},
   "outputs": [
    {
     "name": "stdout",
     "output_type": "stream",
     "text": [
      "['sporting', 'industry', 'come', 'long', 'way', '60s', 'carved', 'niche', 'roots', 'deep', 'fathom', 'sports', 'industry', 'showing', 'sign', 'decline', 'time', 'soon', 'later', 'reason', 'seemingly', 'subtle', 'difference', 'industries', 'customers', 'sporting', 'industry', 'fans', 'vivek', 'ranadivé', 'leader', 'ownership', 'group', 'nba', 'sacramento', 'kings', 'explained', 'beautifully', 'fans', 'paint', 'face', 'purple', 'fans', 'evangelize', 'ceo', 'business', 'dying', 'position', 'dying', 'fans', 'fan', 'passion', 'certainly', 'industry', 'going', 'leagues', 'sporting', 'franchises', 'decided', 'rest', 'laurels', 'years', 'seen', 'steady', 'introduction', 'technology', 'world', 'sports', 'amplifying', 'fans', 'appreciation', 'games', 'enhancing', 'athletes', 'public', 'profiles', 'informing', 'training', 'methods', 'influencing', 'contests', 'waged', 'digital', 'technology', 'particular', 'helped', 'create', 'alternative', 'source', 'revenue', 'games', 'corporate', 'sponsorship', 'achieved', 'capitalizing', 'ardor', 'customer', 'base', 'sorry', 'fan', 'base']\n"
     ]
    }
   ],
   "source": [
    "#ตัดคำที่เป็น stopwords ออกไป\n",
    "filtered_tokens1 = []\n",
    "for token in tokens1:\n",
    "    if not token in stopwords:\n",
    "        filtered_tokens1.append(token)\n",
    "print(filtered_tokens1)"
   ]
  },
  {
   "cell_type": "code",
   "execution_count": 96,
   "metadata": {},
   "outputs": [
    {
     "name": "stdout",
     "output_type": "stream",
     "text": [
      "Created 1408 filtered token lists\n"
     ]
    }
   ],
   "source": [
    "all_filtered_tokens = []\n",
    "for doc in raw_documents:\n",
    "    # tokenize the next document\n",
    "    tokens = tokenize(doc.lower())\n",
    "    # remove the stopwords\n",
    "    filtered_tokens = []\n",
    "    for token in tokens:\n",
    "        if not token in stopwords:\n",
    "            filtered_tokens.append(token)  \n",
    "    # add to the overall list\n",
    "    all_filtered_tokens.append( filtered_tokens )\n",
    "print(\"Created %d filtered token lists\" % len(all_filtered_tokens) )"
   ]
  },
  {
   "cell_type": "code",
   "execution_count": 97,
   "metadata": {},
   "outputs": [
    {
     "name": "stdout",
     "output_type": "stream",
     "text": [
      "Found 22543 unique terms in this corpus\n"
     ]
    }
   ],
   "source": [
    "counts = {}\n",
    "# process filtered tokens for each document\n",
    "for doc_tokens in all_filtered_tokens:\n",
    "    for token in doc_tokens:\n",
    "        # increment existing?\n",
    "        if token in counts:\n",
    "            counts[token] += 1\n",
    "        # a new term?\n",
    "        else:\n",
    "            counts[token] = 1\n",
    "print(\"Found %d unique terms in this corpus\" % len(counts))"
   ]
  },
  {
   "cell_type": "code",
   "execution_count": 98,
   "metadata": {},
   "outputs": [],
   "source": [
    "import operator\n",
    "sorted_counts = sorted(counts.items(), key=operator.itemgetter(1), reverse=True)"
   ]
  },
  {
   "cell_type": "code",
   "execution_count": 99,
   "metadata": {},
   "outputs": [
    {
     "name": "stdout",
     "output_type": "stream",
     "text": [
      "said (count=4119)\n",
      "year (count=1549)\n",
      "people (count=1201)\n",
      "new (count=1193)\n",
      "mr (count=1092)\n",
      "world (count=952)\n",
      "time (count=926)\n",
      "game (count=874)\n",
      "closed (count=797)\n",
      "comments (count=789)\n",
      "news (count=762)\n",
      "article (count=744)\n",
      "online (count=721)\n",
      "just (count=683)\n",
      "market (count=638)\n",
      "like (count=618)\n",
      "games (count=601)\n",
      "company (count=598)\n",
      "years (count=597)\n",
      "players (count=597)\n"
     ]
    }
   ],
   "source": [
    "for i in range(20):\n",
    "    term = sorted_counts[i][0]\n",
    "    count = sorted_counts[i][1]\n",
    "    print( \"%s (count=%d)\" % ( term, count ) )"
   ]
  },
  {
   "cell_type": "code",
   "execution_count": 100,
   "metadata": {},
   "outputs": [
    {
     "name": "stdout",
     "output_type": "stream",
     "text": [
      "(1408, 22837)\n"
     ]
    }
   ],
   "source": [
    "from sklearn.feature_extraction.text import CountVectorizer\n",
    "vectorizer = CountVectorizer()\n",
    "X = vectorizer.fit_transform(raw_documents)\n",
    "print(X.shape)"
   ]
  },
  {
   "cell_type": "code",
   "execution_count": 101,
   "metadata": {},
   "outputs": [
    {
     "name": "stdout",
     "output_type": "stream",
     "text": [
      "Vocabulary has 22837 distinct terms\n"
     ]
    }
   ],
   "source": [
    "terms = vectorizer.get_feature_names()\n",
    "vocab = vectorizer.vocabulary_\n",
    "print(\"Vocabulary has %d distinct terms\" % len(terms))"
   ]
  },
  {
   "cell_type": "code",
   "execution_count": 102,
   "metadata": {},
   "outputs": [
    {
     "name": "stdout",
     "output_type": "stream",
     "text": [
      "['26bn', '26m', '27', '270', '271', '273', '274', '275bn', '275m', '276', '277', '277m', '27bn', '27m', '27th', '28', '280', '280bn', '280m', '281', '281m', '284m', '286', '2871', '28bn', '28m', '28th', '29', '290m', '291m']\n"
     ]
    }
   ],
   "source": [
    "print(terms[500:530])"
   ]
  },
  {
   "cell_type": "code",
   "execution_count": 103,
   "metadata": {},
   "outputs": [
    {
     "data": {
      "text/plain": [
       "8608"
      ]
     },
     "execution_count": 103,
     "metadata": {},
     "output_type": "execute_result"
    }
   ],
   "source": [
    "# what column is the term 'football' on?\n",
    "vocab[\"football\"]"
   ]
  },
  {
   "cell_type": "code",
   "execution_count": 104,
   "metadata": {},
   "outputs": [
    {
     "data": {
      "text/plain": [
       "22570"
      ]
     },
     "execution_count": 104,
     "metadata": {},
     "output_type": "execute_result"
    }
   ],
   "source": [
    "# what column is the term 'world' on?\n",
    "vocab[\"world\"]"
   ]
  },
  {
   "cell_type": "code",
   "execution_count": 105,
   "metadata": {},
   "outputs": [
    {
     "data": {
      "text/plain": [
       "20369"
      ]
     },
     "execution_count": 105,
     "metadata": {},
     "output_type": "execute_result"
    }
   ],
   "source": [
    "vocab[\"technology\"]"
   ]
  },
  {
   "cell_type": "code",
   "execution_count": 106,
   "metadata": {},
   "outputs": [],
   "source": [
    "from sklearn.feature_extraction.text import CountVectorizer\n",
    "vectorizer = CountVectorizer(ngram_range = (1,2))\n",
    "X = vectorizer.fit_transform(raw_documents)"
   ]
  },
  {
   "cell_type": "code",
   "execution_count": 107,
   "metadata": {},
   "outputs": [
    {
     "name": "stdout",
     "output_type": "stream",
     "text": [
      "Vocabulary has 251248 distinct terms\n"
     ]
    }
   ],
   "source": [
    "terms = vectorizer.get_feature_names()\n",
    "vocab = vectorizer.vocabulary_\n",
    "print(\"Vocabulary has %d distinct terms\" % len(terms))"
   ]
  },
  {
   "cell_type": "code",
   "execution_count": 108,
   "metadata": {},
   "outputs": [
    {
     "name": "stdout",
     "output_type": "stream",
     "text": [
      "['10 were', '10 which', '10 while', '10 win', '10 with', '10 world', '10 xbox', '10 yards', '10 year', '10 years']\n"
     ]
    }
   ],
   "source": [
    "print(terms[510:520])"
   ]
  },
  {
   "cell_type": "code",
   "execution_count": null,
   "metadata": {},
   "outputs": [],
   "source": []
  },
  {
   "cell_type": "code",
   "execution_count": 109,
   "metadata": {},
   "outputs": [
    {
     "data": {
      "text/plain": [
       "False"
      ]
     },
     "execution_count": 109,
     "metadata": {},
     "output_type": "execute_result"
    }
   ],
   "source": [
    "vectorizer = CountVectorizer(stop_words=\"english\")\n",
    "X = vectorizer.fit_transform(raw_documents)\n",
    "# Are standard stopwords gone?\n",
    "\"and\" in vectorizer.vocabulary_"
   ]
  },
  {
   "cell_type": "code",
   "execution_count": 111,
   "metadata": {},
   "outputs": [
    {
     "name": "stdout",
     "output_type": "stream",
     "text": [
      "Number of terms in model is 22837\n"
     ]
    }
   ],
   "source": [
    "# how many terms did we have with the last approach?\n",
    "vectorizer = CountVectorizer()\n",
    "X = vectorizer.fit_transform(raw_documents)\n",
    "print(\"Number of terms in model is %d\" % len(vectorizer.vocabulary_) )"
   ]
  },
  {
   "cell_type": "code",
   "execution_count": 112,
   "metadata": {},
   "outputs": [
    {
     "name": "stdout",
     "output_type": "stream",
     "text": [
      "Number of terms in model is 7047\n"
     ]
    }
   ],
   "source": [
    "# build another matrix, but filter terms appearing in less than 5 documents\n",
    "vectorizer = CountVectorizer(min_df = 5)\n",
    "X = vectorizer.fit_transform(raw_documents)\n",
    "print(\"Number of terms in model is %d\" % len(vectorizer.vocabulary_) )"
   ]
  },
  {
   "cell_type": "code",
   "execution_count": null,
   "metadata": {},
   "outputs": [],
   "source": []
  },
  {
   "cell_type": "code",
   "execution_count": 113,
   "metadata": {},
   "outputs": [
    {
     "name": "stdout",
     "output_type": "stream",
     "text": [
      "Requirement already satisfied: nltk in c:\\programdata\\anaconda3\\lib\\site-packages (3.5)\n",
      "Requirement already satisfied: joblib in c:\\programdata\\anaconda3\\lib\\site-packages (from nltk) (0.16.0)\n",
      "Requirement already satisfied: tqdm in c:\\programdata\\anaconda3\\lib\\site-packages (from nltk) (4.47.0)\n",
      "Requirement already satisfied: click in c:\\programdata\\anaconda3\\lib\\site-packages (from nltk) (7.1.2)\n",
      "Requirement already satisfied: regex in c:\\programdata\\anaconda3\\lib\\site-packages (from nltk) (2020.6.8)\n"
     ]
    }
   ],
   "source": [
    "!pip install nltk"
   ]
  },
  {
   "cell_type": "code",
   "execution_count": 115,
   "metadata": {},
   "outputs": [],
   "source": [
    "import nltk\n",
    "# define the function\n",
    "def stem_tokenizer(text):\n",
    "    # use the standard scikit-learn tokenizer first\n",
    "    standard_tokenizer = CountVectorizer().build_tokenizer()\n",
    "    tokens = standard_tokenizer(text)\n",
    "    # then use NLTK to perform stemming on each token\n",
    "    stemmer = PorterStemmer()\n",
    "    stems = []\n",
    "    for token in tokens:\n",
    "        stems.append( stemmer.stem(token.lower()) )\n",
    "    return stems"
   ]
  },
  {
   "cell_type": "code",
   "execution_count": 118,
   "metadata": {},
   "outputs": [
    {
     "name": "stdout",
     "output_type": "stream",
     "text": [
      "['27m', '27th', '28', '280', '280bn', '280m', '281', '281m', '284m', '286', '2871', '28bn', '28m', '28th', '29', '290m', '291m', '293', '294', '2940']\n"
     ]
    }
   ],
   "source": [
    "vectorizer = CountVectorizer(tokenizer=stem_tokenizer)\n",
    "X = vectorizer.fit_transform(raw_documents)\n",
    "# display some sample terms\n",
    "terms = vectorizer.get_feature_names()\n",
    "print(terms[500:520])"
   ]
  },
  {
   "cell_type": "code",
   "execution_count": 119,
   "metadata": {},
   "outputs": [],
   "source": [
    "# define the function\n",
    "def lemma_tokenizer(text):\n",
    "    # use the standard scikit-learn tokenizer first\n",
    "    standard_tokenizer = CountVectorizer().build_tokenizer()\n",
    "    tokens = standard_tokenizer(text)\n",
    "    # then use NLTK to perform lemmatisation on each token\n",
    "    lemmatizer = nltk.stem.WordNetLemmatizer()\n",
    "    lemma_tokens = []\n",
    "    for token in tokens:\n",
    "        lemma_tokens.append( lemmatizer.lemmatize(token))\n",
    "    return lemma_tokens"
   ]
  },
  {
   "cell_type": "code",
   "execution_count": 120,
   "metadata": {},
   "outputs": [],
   "source": [
    "#-----------------------------------------Tokenizer and WordNet Lemmatizer with POS--------------------------------------\n",
    "# define the function\n",
    "def lemma_tokenizer_w_pos_tag(text):\n",
    "    # define a nested function for converting POS tag for Lemmatizer\n",
    "    def convert_tags(tag):\n",
    "        if tag == 'vbd' or tag == 'vbg' or tag == 'vbz':\n",
    "            return 'v'\n",
    "        else: \n",
    "            return 'n'\n",
    "    \n",
    "    #-----------------------------------------------Using WordNet Lemmatizer-----------------------------------------\n",
    "    # use the standard scikit-learn tokenizer first\n",
    "    standard_tokenizer = CountVectorizer().build_tokenizer()\n",
    "    tokens = standard_tokenizer(text)\n",
    "    tokens_with_pos_tag = nltk.pos_tag(tokens)\n",
    "    # print(tokens_with_pos_tag)\n",
    "    # then use NLTK to perform lemmatisation on each token\n",
    "    lemmatizer = nltk.WordNetLemmatizer()\n",
    "    lemma_tokens = []\n",
    "    for token in tokens_with_pos_tag:\n",
    "        new_tag = convert_tags(token[1].lower())\n",
    "        lemma_tokens.append(lemmatizer.lemmatize(token[0], new_tag))\n",
    "    \n",
    "#     print(lemma_tokens)\n",
    "    return lemma_tokens"
   ]
  },
  {
   "cell_type": "markdown",
   "metadata": {},
   "source": [
    "## Use WordNet Lemmatizer without POS tagging"
   ]
  },
  {
   "cell_type": "code",
   "execution_count": 124,
   "metadata": {},
   "outputs": [
    {
     "data": {
      "text/plain": [
       "'\"The sporting industry has come a long way since the ‘60s. It has carved out for itself a niche with its roots so deep that I cannot fathom the sports industry showing any sign of decline any time soon - or later. The reason can be found in this seemingly subtle difference - other industries have customers; the sporting industry has fans. Vivek Ranadivé, leader of the ownership group of the NBA’s Sacramento Kings, explained it beautifully, “Fans will paint their face purple, fans will evangelize. ... Every other CEO in every business is dying to be in our position — they’re dying to have fans.“ While fan passion alone could almost certainly keep the industry going, leagues and sporting franchises have decided not to rest on their laurels. The last few years have seen the steady introduction of technology into the world of sports - amplifying fans’ appreciation of games, enhancing athletes’ public profiles and informing their training methods, even influencing how contests are waged. Also, digital technology in particular has helped to create an alternative source of revenue, besides the games themselves - corporate sponsorship. They achieved this by capitalizing on the ardor of their customer base - sorry, fan base.\"'"
      ]
     },
     "execution_count": 124,
     "metadata": {},
     "output_type": "execute_result"
    }
   ],
   "source": [
    "doc1"
   ]
  },
  {
   "cell_type": "code",
   "execution_count": 122,
   "metadata": {},
   "outputs": [
    {
     "name": "stdout",
     "output_type": "stream",
     "text": [
      "['the', 'sporting', 'industry', 'ha', 'come', 'long', 'way', 'since', '60', 'it', 'carved', 'out', 'for', 'itself', 'niche', 'with', 'root', 'so', 'deep', 'that', 'cannot', 'fathom', 'sport', 'showing', 'any', 'sign', 'of', 'decline', 'time', 'soon', 'or', 'later', 'reason', 'can', 'be', 'found', 'in', 'this', 'seemingly', 'subtle', 'difference', 'other', 'have', 'customer', 'fan', 'vivek', 'ranadivé', 'leader', 'ownership', 'group', 'nba', 'sacramento', 'king', 'explained', 'beautifully', 'will', 'paint', 'their', 'face', 'purple', 'evangelize', 'every', 'ceo', 'business', 'is', 'dying', 'to', 'our', 'position', 'they', 're', 'while', 'passion', 'alone', 'could', 'almost', 'certainly', 'keep', 'going', 'league', 'and', 'franchise', 'decided', 'not', 'rest', 'on', 'laurel', 'last', 'few', 'year', 'seen', 'steady', 'introduction', 'technology', 'into', 'world', 'amplifying', 'appreciation', 'game', 'enhancing']\n"
     ]
    }
   ],
   "source": [
    "vectorizer = CountVectorizer(tokenizer=lemma_tokenizer)\n",
    "X = vectorizer.fit_transform(raw_documents)\n",
    "# display some sample terms\n",
    "print(list(vectorizer.vocabulary_.keys())[0:100])\n",
    "# terms = vectorizer.get_feature_names()\n",
    "# print(terms[200:220])"
   ]
  },
  {
   "cell_type": "code",
   "execution_count": 123,
   "metadata": {},
   "outputs": [
    {
     "name": "stdout",
     "output_type": "stream",
     "text": [
      "['the', 'sporting', 'industry', 'have', 'come', 'long', 'way', 'since', '60', 'it', 'carved', 'out', 'for', 'itself', 'niche', 'with', 'root', 'so', 'deep', 'that', 'cannot', 'fathom', 'sport', 'show', 'any', 'sign', 'of', 'decline', 'time', 'soon', 'or', 'later', 'reason', 'can', 'be', 'found', 'in', 'this', 'seemingly', 'subtle', 'difference', 'other', 'customer', 'fan', 'vivek', 'ranadivé', 'leader', 'ownership', 'group', 'nba', 'sacramento', 'king', 'explain', 'beautifully', 'will', 'paint', 'their', 'face', 'purple', 'evangelize', 'every', 'ceo', 'business', 'die', 'to', 'our', 'position', 'they', 're', 'while', 'passion', 'alone', 'could', 'almost', 'certainly', 'keep', 'go', 'league', 'and', 'franchise', 'decided', 'not', 'rest', 'on', 'laurel', 'last', 'few', 'year', 'seen', 'steady', 'introduction', 'technology', 'into', 'world', 'amplify', 'appreciation', 'game', 'enhance', 'athlete', 'public']\n"
     ]
    }
   ],
   "source": [
    "# vectorizer = CountVectorizer(tokenizer=lemma_tokenizer)\n",
    "vectorizer = CountVectorizer(tokenizer=lemma_tokenizer_w_pos_tag)\n",
    "X = vectorizer.fit_transform(raw_documents)\n",
    "# display some sample terms\n",
    "print(list(vectorizer.vocabulary_.keys())[0:100])\n",
    "# terms = vectorizer.get_feature_names()\n",
    "# print(terms[201:221])"
   ]
  },
  {
   "cell_type": "code",
   "execution_count": 129,
   "metadata": {},
   "outputs": [
    {
     "name": "stdout",
     "output_type": "stream",
     "text": [
      "(1408, 8191)\n"
     ]
    }
   ],
   "source": [
    "# vectorizer = CountVectorizer(stop_words=\"english\",min_df = 3,tokenizer=lemma_tokenizer)\n",
    "vectorizer = CountVectorizer(stop_words=\"english\",min_df = 3,tokenizer=lemma_tokenizer_w_pos_tag)\n",
    "X = vectorizer.fit_transform(raw_documents)\n",
    "print(X.shape)"
   ]
  },
  {
   "cell_type": "code",
   "execution_count": 131,
   "metadata": {},
   "outputs": [
    {
     "name": "stdout",
     "output_type": "stream",
     "text": [
      "['sporting', 'industry', 'come', 'long', 'way', '60', 'niche', 'root', 'deep', 'sport', 'sign', 'decline', 'time', 'soon', 'later', 'reason', 'seemingly', 'difference', 'customer', 'fan', 'leader', 'ownership', 'group', 'nba', 'king', 'explain', 'paint', 'face', 'ceo', 'business', 'die', 'position', 'passion', 'certainly', 'league']\n"
     ]
    }
   ],
   "source": [
    "print(list(vectorizer.vocabulary_.keys())[0:35])"
   ]
  },
  {
   "cell_type": "markdown",
   "metadata": {},
   "source": [
    "### Term Weighting"
   ]
  },
  {
   "cell_type": "code",
   "execution_count": 140,
   "metadata": {},
   "outputs": [
    {
     "name": "stdout",
     "output_type": "stream",
     "text": [
      "  (0, 5658)\t0.12635917755557236\n",
      "  (0, 708)\t0.20685338848350532\n",
      "  (0, 1626)\t0.10054293773849095\n",
      "  (0, 275)\t0.10054293773849095\n",
      "  (0, 5720)\t0.12035408877745242\n",
      "  (0, 1533)\t0.08746627050335351\n",
      "  (0, 5139)\t0.08974570153347976\n",
      "  (0, 5667)\t0.0905643964991388\n",
      "  (0, 431)\t0.10588530273148258\n",
      "  (0, 1575)\t0.07900257323550364\n",
      "  (0, 2928)\t0.07738720046898899\n",
      "  (0, 4343)\t0.08641357455116963\n",
      "  (0, 1845)\t0.0689235032011391\n",
      "  (0, 3910)\t0.11713634041489018\n",
      "  (0, 6260)\t0.08182421776046826\n",
      "  (0, 4767)\t0.07281830699778001\n",
      "  (0, 595)\t0.09629300380643811\n",
      "  (0, 2157)\t0.11569618005034049\n",
      "  (0, 2668)\t0.11616721188662793\n",
      "  (0, 6714)\t0.04208676868346757\n",
      "  (0, 6069)\t0.11778346889329713\n",
      "  (0, 3277)\t0.12035408877745242\n",
      "  (0, 5786)\t0.11868327362541942\n",
      "  (0, 5400)\t0.06465409902620815\n",
      "  (0, 6755)\t0.04604042593612648\n",
      "  :\t:\n",
      "  (0, 3455)\t0.13482287482342226\n",
      "  (0, 4077)\t0.13482287482342226\n",
      "  (0, 2806)\t0.05982794722235783\n",
      "  (0, 4301)\t0.10054293773849095\n",
      "  (0, 3543)\t0.10054293773849095\n",
      "  (0, 2381)\t0.38365708673778803\n",
      "  (0, 1627)\t0.07527691548750995\n",
      "  (0, 3172)\t0.09988021395336265\n",
      "  (0, 1838)\t0.09420385710107047\n",
      "  (0, 5399)\t0.13160512646086\n",
      "  (0, 4901)\t0.08895790819578284\n",
      "  (0, 3518)\t0.07127137378725076\n",
      "  (0, 5654)\t0.07900257323550364\n",
      "  (0, 6180)\t0.039948953161750365\n",
      "  (0, 1703)\t0.0918559865149588\n",
      "  (0, 5542)\t0.08675860795840083\n",
      "  (0, 5531)\t0.08895790819578284\n",
      "  (0, 5724)\t0.1771497748668681\n",
      "  (0, 1709)\t0.10054293773849095\n",
      "  (0, 4119)\t0.12217036825248564\n",
      "  (0, 6600)\t0.04784771379100076\n",
      "  (0, 3679)\t0.05631141105885063\n",
      "  (0, 1307)\t0.05756172761411324\n",
      "  (0, 3173)\t0.2571808962744253\n",
      "  (0, 5723)\t0.31264346273834875\n"
     ]
    }
   ],
   "source": [
    "from sklearn.feature_extraction.text import TfidfVectorizer\n",
    "# we can pass in the same preprocessing parameters\n",
    "vectorizer = TfidfVectorizer(stop_words=\"english\",min_df = 5, max_df=1000, lowercase=True)\n",
    "X = vectorizer.fit_transform(raw_documents)\n",
    "# display some sample weighted values\n",
    "print(X[0])"
   ]
  },
  {
   "cell_type": "markdown",
   "metadata": {},
   "source": [
    "# Classification"
   ]
  },
  {
   "cell_type": "code",
   "execution_count": 7,
   "metadata": {},
   "outputs": [
    {
     "data": {
      "text/plain": [
       "'\"The sporting industry has come a long way since the ‘60s. It has carved out for itself a niche with its roots so deep that I cannot fathom the sports industry showing any sign of decline any time soon - or later. The reason can be found in this seemingly subtle difference - other industries have customers; the sporting industry has fans. Vivek Ranadivé, leader of the ownership group of the NBA’s Sacramento Kings, explained it beautifully, “Fans will paint their face purple, fans will evangelize. ... Every other CEO in every business is dying to be in our position — they’re dying to have fans.“ While fan passion alone could almost certainly keep the industry going, leagues and sporting franchises have decided not to rest on their laurels. The last few years have seen the steady introduction of technology into the world of sports - amplifying fans’ appreciation of games, enhancing athletes’ public profiles and informing their training methods, even influencing how contests are waged. Also, digital technology in particular has helped to create an alternative source of revenue, besides the games themselves - corporate sponsorship. They achieved this by capitalizing on the ardor of their customer base - sorry, fan base.\"\\n'"
      ]
     },
     "execution_count": 7,
     "metadata": {},
     "output_type": "execute_result"
    }
   ],
   "source": [
    "raw_documents[0]"
   ]
  },
  {
   "cell_type": "code",
   "execution_count": 8,
   "metadata": {},
   "outputs": [],
   "source": [
    "fin = open(\"target/category.txt\",\"r\", encoding=\"utf8\")\n",
    "y = fin.readlines()\n",
    "fin.close()"
   ]
  },
  {
   "cell_type": "code",
   "execution_count": 9,
   "metadata": {},
   "outputs": [
    {
     "data": {
      "text/plain": [
       "1408"
      ]
     },
     "execution_count": 9,
     "metadata": {},
     "output_type": "execute_result"
    }
   ],
   "source": [
    "len(raw_documents)"
   ]
  },
  {
   "cell_type": "code",
   "execution_count": 10,
   "metadata": {},
   "outputs": [
    {
     "data": {
      "text/plain": [
       "1408"
      ]
     },
     "execution_count": 10,
     "metadata": {},
     "output_type": "execute_result"
    }
   ],
   "source": [
    "len(y)"
   ]
  },
  {
   "cell_type": "code",
   "execution_count": 11,
   "metadata": {},
   "outputs": [],
   "source": [
    "from sklearn.model_selection import train_test_split\n",
    "X_train, X_test, y_train, y_test = train_test_split(raw_documents, y, test_size=0.2, random_state=42)"
   ]
  },
  {
   "cell_type": "code",
   "execution_count": 292,
   "metadata": {},
   "outputs": [],
   "source": [
    "# vectorizer = TfidfVectorizer(stop_words=\"english\",min_df = 5, max_df=1000)\n",
    "# X = vectorizer.fit_transform(X_train)"
   ]
  },
  {
   "cell_type": "code",
   "execution_count": 293,
   "metadata": {
    "scrolled": true
   },
   "outputs": [],
   "source": [
    "# from sklearn.feature_extraction.text import TfidfTransformer\n",
    "# tfidf_transformer = TfidfTransformer()\n",
    "# X_train_tfidf = tfidf_transformer.fit_transform(X)"
   ]
  },
  {
   "cell_type": "code",
   "execution_count": 294,
   "metadata": {},
   "outputs": [],
   "source": [
    "# count_vect = CountVectorizer()\n",
    "# X_train_counts = count_vect.fit_transform(train_data.data)\n",
    "\n",
    "# # transform a count matrix to a normalized tf-idf representation (tf-idf transformer)\n",
    "# tfidf_transformer = TfidfTransformer()\n",
    "# X_train_tfidf = tfidf_transformer.fit_transform(X_train_counts)\n"
   ]
  },
  {
   "cell_type": "code",
   "execution_count": null,
   "metadata": {},
   "outputs": [],
   "source": []
  },
  {
   "cell_type": "markdown",
   "metadata": {},
   "source": [
    "---"
   ]
  },
  {
   "cell_type": "code",
   "execution_count": 13,
   "metadata": {},
   "outputs": [],
   "source": [
    "import numpy as np\n",
    "from sklearn.datasets import fetch_20newsgroups\n",
    "from sklearn.feature_extraction.text import CountVectorizer\n",
    "from sklearn.feature_extraction.text import TfidfTransformer\n",
    "from sklearn.pipeline import Pipeline"
   ]
  },
  {
   "cell_type": "markdown",
   "metadata": {},
   "source": [
    "# KNN"
   ]
  },
  {
   "cell_type": "code",
   "execution_count": 79,
   "metadata": {},
   "outputs": [],
   "source": [
    "from sklearn.neighbors import KNeighborsClassifier"
   ]
  },
  {
   "cell_type": "code",
   "execution_count": 80,
   "metadata": {},
   "outputs": [],
   "source": [
    "X_train, X_test, y_train, y_test = train_test_split(raw_documents, y, test_size=0.2, random_state=42)"
   ]
  },
  {
   "cell_type": "code",
   "execution_count": 81,
   "metadata": {},
   "outputs": [],
   "source": [
    "# # Builds a dictionary of features and transforms documents to feature vectors and convert our text documents to a\n",
    "# # matrix of token counts (CountVectorizer)\n",
    "# count_vect = CountVectorizer()\n",
    "# X_train_counts = count_vect.fit_transform(train_data.data)\n",
    "\n",
    "# # transform a count matrix to a normalized tf-idf representation (tf-idf transformer)\n",
    "# tfidf_transformer = TfidfTransformer()\n",
    "# X_train_tfidf = tfidf_transformer.fit_transform(X_train_counts)\n"
   ]
  },
  {
   "cell_type": "code",
   "execution_count": 82,
   "metadata": {},
   "outputs": [],
   "source": [
    "# Builds a dictionary of features and transforms documents to feature vectors and convert our text documents to a\n",
    "# matrix of token counts (CountVectorizer)\n",
    "count_vect = CountVectorizer()\n",
    "X_train_counts = count_vect.fit_transform(X_train)\n",
    "\n",
    "# transform a count matrix to a normalized tf-idf representation (tf-idf transformer)\n",
    "tfidf_transformer = TfidfTransformer()\n",
    "X_train_tfidf = tfidf_transformer.fit_transform(X_train_counts)\n"
   ]
  },
  {
   "cell_type": "code",
   "execution_count": 83,
   "metadata": {},
   "outputs": [],
   "source": [
    "# knn = KNeighborsClassifier(n_neighbors=7)\n",
    "\n",
    "# # training our classifier ; train_data.target will be having numbers assigned for each category in train data\n",
    "# clf = knn.fit(X_train_tfidf, train_data.target)\n",
    "\n",
    "# # Input Data to predict their classes of the given categories\n",
    "# docs_new = ['I have a Harley Davidson and Yamaha.', 'I have a GTX 1050 GPU']\n",
    "# # building up feature vector of our input\n",
    "# X_new_counts = count_vect.transform(docs_new)\n",
    "# # We call transform instead of fit_transform because it's already been fit\n",
    "# X_new_tfidf = tfidf_transformer.transform(X_new_counts)\n",
    "\n"
   ]
  },
  {
   "cell_type": "code",
   "execution_count": 84,
   "metadata": {},
   "outputs": [],
   "source": [
    "knn = KNeighborsClassifier(n_neighbors=5)\n",
    "\n",
    "# training our classifier ; train_data.target will be having numbers assigned for each category in train data\n",
    "clf = knn.fit(X_train_tfidf, y_train)\n",
    "\n",
    "# Input Data to predict their classes of the given categories\n",
    "docs_new = [\"Ajinkya Rahane remains vice-captain in India's revised squad for the Australia Tests but Irfan Pathan feels a much more experienced Rohit Sharma has to lead the side in Virat Kohli's absence following the series opener. Kohli has been granted paternity leave after the first Test and Pathan said it is bound to have a huge impact on the team.\",\n",
    "            \"The S&P 500 and Dow were set to open at record highs on Monday, as news of the first successful late stage COVID-19 vaccine trials stirred hopes of the economy emerging from a year of pandemic-driven crisis.\"]\n",
    "\n",
    "# building up feature vector of our input\n",
    "X_new_counts = count_vect.transform(docs_new)\n",
    "# We call transform instead of fit_transform because it's already been fit\n",
    "X_new_tfidf = tfidf_transformer.transform(X_new_counts)\n"
   ]
  },
  {
   "cell_type": "code",
   "execution_count": 85,
   "metadata": {},
   "outputs": [],
   "source": [
    "# # predicting the category of our input text: Will give out number for category\n",
    "# predicted = clf.predict(X_new_tfidf)\n",
    "\n",
    "# for doc, category in zip(docs_new, predicted):\n",
    "#     print('%r => %s' % (doc, train_data.target_names[category]))\n"
   ]
  },
  {
   "cell_type": "code",
   "execution_count": 86,
   "metadata": {},
   "outputs": [
    {
     "name": "stdout",
     "output_type": "stream",
     "text": [
      "Ajinkya Rahane remains vice-captain in India's revised squad for the Australia Tests but Irfan Pathan feels a much more experienced Rohit Sharma has to lead the side in Virat Kohli's absence following the series opener. Kohli has been granted paternity leave after the first Test and Pathan said it is bound to have a huge impact on the team. ==> sport\n",
      "\n",
      "The S&P 500 and Dow were set to open at record highs on Monday, as news of the first successful late stage COVID-19 vaccine trials stirred hopes of the economy emerging from a year of pandemic-driven crisis. ==> business\n",
      "\n"
     ]
    }
   ],
   "source": [
    "# predicting the category of our input text: Will give out number for category\n",
    "predicted = clf.predict(X_new_tfidf)\n",
    "\n",
    "for doc, category in zip(docs_new, predicted):\n",
    "    print(doc, \"==>\",category)\n"
   ]
  },
  {
   "cell_type": "code",
   "execution_count": 87,
   "metadata": {},
   "outputs": [],
   "source": [
    "# # We can use Pipeline to add vectorizer -> transformer -> classifier all in a one compound classifier\n",
    "# text_clf = Pipeline([\n",
    "#     ('vect', CountVectorizer()),\n",
    "#     ('tfidf', TfidfTransformer()),\n",
    "#     ('clf', knn),\n",
    "# ])\n",
    "# # Fitting our train data to the pipeline\n",
    "# text_clf.fit(train_data.data, train_data.target)\n",
    "\n",
    "# # Test data \n",
    "# test_data = fetch_20newsgroups(subset='test',\n",
    "#                                categories=categories, shuffle=True, random_state=42)\n",
    "# docs_test = test_data.data\n",
    "# # Predicting our test data\n",
    "# predicted = text_clf.predict(docs_test)\n",
    "# print('We got an accuracy of',np.mean(predicted == test_data.target)*100, '% over the test data.')\n"
   ]
  },
  {
   "cell_type": "code",
   "execution_count": 88,
   "metadata": {
    "scrolled": true
   },
   "outputs": [
    {
     "name": "stdout",
     "output_type": "stream",
     "text": [
      "We got an accuracy of 94.32624113475178 % over the test data.\n"
     ]
    }
   ],
   "source": [
    "# We can use Pipeline to add vectorizer -> transformer -> classifier all in a one compound classifier\n",
    "text_clf = Pipeline([\n",
    "    ('vect', CountVectorizer()),\n",
    "    ('tfidf', TfidfTransformer()),\n",
    "    ('clf', knn),\n",
    "])\n",
    "# Fitting our train data to the pipeline\n",
    "text_clf.fit(X_train, y_train)\n",
    "\n",
    "# Test data \n",
    "test_data = fetch_20newsgroups(subset='test',\n",
    "                               categories=categories, shuffle=True, random_state=42)\n",
    "docs_test = X_test\n",
    "# Predicting our test data\n",
    "predicted = text_clf.predict(docs_test)\n",
    "print('We got an accuracy of',np.mean(predicted == y_test)*100, '% over the test data.')\n"
   ]
  },
  {
   "cell_type": "code",
   "execution_count": 89,
   "metadata": {},
   "outputs": [
    {
     "data": {
      "text/plain": [
       "0.9432624113475178"
      ]
     },
     "execution_count": 89,
     "metadata": {},
     "output_type": "execute_result"
    }
   ],
   "source": [
    "from sklearn.metrics import accuracy_score\n",
    "accuracy_score(y_test, predicted)"
   ]
  },
  {
   "cell_type": "code",
   "execution_count": 90,
   "metadata": {
    "scrolled": true
   },
   "outputs": [
    {
     "data": {
      "text/plain": [
       "array([[100,   3,  10],\n",
       "       [  0,  92,   1],\n",
       "       [  1,   1,  74]], dtype=int64)"
      ]
     },
     "execution_count": 90,
     "metadata": {},
     "output_type": "execute_result"
    }
   ],
   "source": [
    "from sklearn.metrics import confusion_matrix\n",
    "confusion_matrix(y_test, predicted)"
   ]
  },
  {
   "cell_type": "markdown",
   "metadata": {},
   "source": [
    "---"
   ]
  },
  {
   "cell_type": "markdown",
   "metadata": {},
   "source": [
    "# XGBoost"
   ]
  },
  {
   "cell_type": "code",
   "execution_count": 37,
   "metadata": {},
   "outputs": [],
   "source": [
    "X_train, X_test, y_train, y_test = train_test_split(raw_documents, y, test_size=0.2, random_state=42)"
   ]
  },
  {
   "cell_type": "code",
   "execution_count": 39,
   "metadata": {},
   "outputs": [],
   "source": [
    "# Builds a dictionary of features and transforms documents to feature vectors and convert our text documents to a\n",
    "# matrix of token counts (CountVectorizer)\n",
    "count_vect = CountVectorizer()\n",
    "X_train_counts = count_vect.fit_transform(X_train)\n",
    "\n",
    "# transform a count matrix to a normalized tf-idf representation (tf-idf transformer)\n",
    "tfidf_transformer = TfidfTransformer()\n",
    "X_train_tfidf = tfidf_transformer.fit_transform(X_train_counts)\n"
   ]
  },
  {
   "cell_type": "code",
   "execution_count": 50,
   "metadata": {},
   "outputs": [],
   "source": [
    "import xgboost as xgb\n",
    "xgb = xgb.XGBClassifier()\n",
    "\n",
    "# training our classifier ; train_data.target will be having numbers assigned for each category in train data\n",
    "clf = xgb.fit(X_train_tfidf, y_train)\n",
    "\n",
    "# Input Data to predict their classes of the given categories\n",
    "docs_new = [\"Ajinkya Rahane remains vice-captain in India's revised squad for the Australia Tests but Irfan Pathan feels a much more experienced Rohit Sharma has to lead the side in Virat Kohli's absence following the series opener. Kohli has been granted paternity leave after the first Test and Pathan said it is bound to have a huge impact on the team.\",\n",
    "            \"The S&P 500 and Dow were set to open at record highs on Monday, as news of the first successful late stage COVID-19 vaccine trials stirred hopes of the economy emerging from a year of pandemic-driven crisis.\"]\n",
    "# building up feature vector of our input\n",
    "X_new_counts = count_vect.transform(docs_new)\n",
    "# We call transform instead of fit_transform because it's already been fit\n",
    "X_new_tfidf = tfidf_transformer.transform(X_new_counts)\n"
   ]
  },
  {
   "cell_type": "code",
   "execution_count": 51,
   "metadata": {},
   "outputs": [
    {
     "name": "stdout",
     "output_type": "stream",
     "text": [
      "Ajinkya Rahane remains vice-captain in India's revised squad for the Australia Tests but Irfan Pathan feels a much more experienced Rohit Sharma has to lead the side in Virat Kohli's absence following the series opener. Kohli has been granted paternity leave after the first Test and Pathan said it is bound to have a huge impact on the team. ==> sport\n",
      "\n",
      "The S&P 500 and Dow were set to open at record highs on Monday, as news of the first successful late stage COVID-19 vaccine trials stirred hopes of the economy emerging from a year of pandemic-driven crisis. ==> business\n",
      "\n"
     ]
    }
   ],
   "source": [
    "# predicting the category of our input text: Will give out number for category\n",
    "predicted = clf.predict(X_new_tfidf)\n",
    "\n",
    "for doc, category in zip(docs_new, predicted):\n",
    "    print(doc, \"==>\",category)\n"
   ]
  },
  {
   "cell_type": "code",
   "execution_count": 52,
   "metadata": {
    "scrolled": true
   },
   "outputs": [
    {
     "name": "stdout",
     "output_type": "stream",
     "text": [
      "We got an accuracy of 94.68085106382979 % over the test data.\n"
     ]
    }
   ],
   "source": [
    "# We can use Pipeline to add vectorizer -> transformer -> classifier all in a one compound classifier\n",
    "text_clf = Pipeline([\n",
    "    ('vect', CountVectorizer()),\n",
    "    ('tfidf', TfidfTransformer()),\n",
    "    ('clf', xgb),\n",
    "])\n",
    "# Fitting our train data to the pipeline\n",
    "text_clf.fit(X_train, y_train)\n",
    "\n",
    "# Test data \n",
    "test_data = fetch_20newsgroups(subset='test',\n",
    "                               categories=categories, shuffle=True, random_state=42)\n",
    "docs_test = X_test\n",
    "# Predicting our test data\n",
    "predicted = text_clf.predict(docs_test)\n",
    "print('We got an accuracy of',np.mean(predicted == y_test)*100, '% over the test data.')\n"
   ]
  },
  {
   "cell_type": "code",
   "execution_count": 53,
   "metadata": {},
   "outputs": [
    {
     "data": {
      "text/plain": [
       "0.9468085106382979"
      ]
     },
     "execution_count": 53,
     "metadata": {},
     "output_type": "execute_result"
    }
   ],
   "source": [
    "from sklearn.metrics import accuracy_score\n",
    "accuracy_score(y_test, predicted)"
   ]
  },
  {
   "cell_type": "code",
   "execution_count": 54,
   "metadata": {
    "scrolled": false
   },
   "outputs": [
    {
     "data": {
      "text/plain": [
       "array([[105,   2,   6],\n",
       "       [  5,  88,   0],\n",
       "       [  2,   0,  74]], dtype=int64)"
      ]
     },
     "execution_count": 54,
     "metadata": {},
     "output_type": "execute_result"
    }
   ],
   "source": [
    "from sklearn.metrics import confusion_matrix\n",
    "confusion_matrix(y_test, predicted)"
   ]
  },
  {
   "cell_type": "markdown",
   "metadata": {},
   "source": [
    "---"
   ]
  },
  {
   "cell_type": "markdown",
   "metadata": {},
   "source": [
    "# Decision tree"
   ]
  },
  {
   "cell_type": "code",
   "execution_count": 91,
   "metadata": {},
   "outputs": [],
   "source": [
    "from sklearn import tree"
   ]
  },
  {
   "cell_type": "code",
   "execution_count": 92,
   "metadata": {},
   "outputs": [],
   "source": [
    "X_train, X_test, y_train, y_test = train_test_split(raw_documents, y, test_size=0.2, random_state=42)"
   ]
  },
  {
   "cell_type": "code",
   "execution_count": 93,
   "metadata": {},
   "outputs": [],
   "source": [
    "# Builds a dictionary of features and transforms documents to feature vectors and convert our text documents to a\n",
    "# matrix of token counts (CountVectorizer)\n",
    "count_vect = CountVectorizer()\n",
    "X_train_counts = count_vect.fit_transform(X_train)\n",
    "\n",
    "# transform a count matrix to a normalized tf-idf representation (tf-idf transformer)\n",
    "tfidf_transformer = TfidfTransformer()\n",
    "X_train_tfidf = tfidf_transformer.fit_transform(X_train_counts)\n"
   ]
  },
  {
   "cell_type": "code",
   "execution_count": 94,
   "metadata": {},
   "outputs": [],
   "source": [
    "dt = tree.DecisionTreeClassifier()\n",
    "\n",
    "# training our classifier ; train_data.target will be having numbers assigned for each category in train data\n",
    "clf = dt.fit(X_train_tfidf, y_train)\n",
    "\n",
    "# Input Data to predict their classes of the given categories\n",
    "docs_new = [\"Ajinkya Rahane remains vice-captain in India's revised squad for the Australia Tests but Irfan Pathan feels a much more experienced Rohit Sharma has to lead the side in Virat Kohli's absence following the series opener. Kohli has been granted paternity leave after the first Test and Pathan said it is bound to have a huge impact on the team.\",\n",
    "            \"The S&P 500 and Dow were set to open at record highs on Monday, as news of the first successful late stage COVID-19 vaccine trials stirred hopes of the economy emerging from a year of pandemic-driven crisis.\"]\n",
    "# building up feature vector of our input\n",
    "X_new_counts = count_vect.transform(docs_new)\n",
    "# We call transform instead of fit_transform because it's already been fit\n",
    "X_new_tfidf = tfidf_transformer.transform(X_new_counts)\n"
   ]
  },
  {
   "cell_type": "code",
   "execution_count": 95,
   "metadata": {},
   "outputs": [
    {
     "name": "stdout",
     "output_type": "stream",
     "text": [
      "Ajinkya Rahane remains vice-captain in India's revised squad for the Australia Tests but Irfan Pathan feels a much more experienced Rohit Sharma has to lead the side in Virat Kohli's absence following the series opener. Kohli has been granted paternity leave after the first Test and Pathan said it is bound to have a huge impact on the team. ==> sport\n",
      "\n",
      "The S&P 500 and Dow were set to open at record highs on Monday, as news of the first successful late stage COVID-19 vaccine trials stirred hopes of the economy emerging from a year of pandemic-driven crisis. ==> sport\n",
      "\n"
     ]
    }
   ],
   "source": [
    "# predicting the category of our input text: Will give out number for category\n",
    "predicted = clf.predict(X_new_tfidf)\n",
    "\n",
    "for doc, category in zip(docs_new, predicted):\n",
    "    print(doc, \"==>\",category)\n"
   ]
  },
  {
   "cell_type": "code",
   "execution_count": 96,
   "metadata": {
    "scrolled": true
   },
   "outputs": [
    {
     "name": "stdout",
     "output_type": "stream",
     "text": [
      "We got an accuracy of 82.26950354609929 % over the test data.\n"
     ]
    }
   ],
   "source": [
    "# We can use Pipeline to add vectorizer -> transformer -> classifier all in a one compound classifier\n",
    "text_clf = Pipeline([\n",
    "    ('vect', CountVectorizer()),\n",
    "    ('tfidf', TfidfTransformer()),\n",
    "    ('clf', dt),\n",
    "])\n",
    "# Fitting our train data to the pipeline\n",
    "text_clf.fit(X_train, y_train)\n",
    "\n",
    "# Test data \n",
    "test_data = fetch_20newsgroups(subset='test',\n",
    "                               categories=categories, shuffle=True, random_state=42)\n",
    "docs_test = X_test\n",
    "# Predicting our test data\n",
    "predicted = text_clf.predict(docs_test)\n",
    "print('We got an accuracy of',np.mean(predicted == y_test)*100, '% over the test data.')\n"
   ]
  },
  {
   "cell_type": "code",
   "execution_count": 97,
   "metadata": {},
   "outputs": [
    {
     "data": {
      "text/plain": [
       "0.8226950354609929"
      ]
     },
     "execution_count": 97,
     "metadata": {},
     "output_type": "execute_result"
    }
   ],
   "source": [
    "from sklearn.metrics import accuracy_score\n",
    "accuracy_score(y_test, predicted)"
   ]
  },
  {
   "cell_type": "code",
   "execution_count": 98,
   "metadata": {
    "scrolled": false
   },
   "outputs": [
    {
     "data": {
      "text/plain": [
       "array([[87, 10, 16],\n",
       "       [ 5, 85,  3],\n",
       "       [12,  4, 60]], dtype=int64)"
      ]
     },
     "execution_count": 98,
     "metadata": {},
     "output_type": "execute_result"
    }
   ],
   "source": [
    "from sklearn.metrics import confusion_matrix\n",
    "confusion_matrix(y_test, predicted)"
   ]
  },
  {
   "cell_type": "code",
   "execution_count": null,
   "metadata": {},
   "outputs": [],
   "source": []
  }
 ],
 "metadata": {
  "kernelspec": {
   "display_name": "Python 3",
   "language": "python",
   "name": "python3"
  },
  "language_info": {
   "codemirror_mode": {
    "name": "ipython",
    "version": 3
   },
   "file_extension": ".py",
   "mimetype": "text/x-python",
   "name": "python",
   "nbconvert_exporter": "python",
   "pygments_lexer": "ipython3",
   "version": "3.8.3"
  }
 },
 "nbformat": 4,
 "nbformat_minor": 4
}
