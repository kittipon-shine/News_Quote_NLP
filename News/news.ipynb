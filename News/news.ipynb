{
 "cells": [
  {
   "cell_type": "markdown",
   "metadata": {},
   "source": [
    "# Assignment 2 - DS4Biz Y63\n",
    "## TextScraping_Classification\n",
    "***\n",
    "\n",
    "### Team Detail\n",
    "**Team Name**: sompinandsomshine   \n",
    "***\n",
    "### *Student 1*\n",
    "**Student ID**: 61070278   \n",
    "**Student Full Name**: นายกิตติภณ สุรุ่งเรืองสกุล\n",
    "***\n",
    "### *Student 2*\n",
    "**Student ID**: 61070330   \n",
    "**Student Full Name**: นางสาวอิงฟ้า ภูติวรนาถ\n",
    "***"
   ]
  },
  {
   "cell_type": "markdown",
   "metadata": {},
   "source": [
    "import package ที่ต้องใช้\n",
    "\n",
    "- requests, bs4 ใช้ scrape ข้อมูลจากหน้าเว็บ\n",
    "- pandas(pd), numpy(np) ใช้จัดการข้อมูลที่ scrape มาเช่น ทำเป็น DataFrame, แปลงเป็น csv/txt\n",
    "- warnings ใช้ปิด warning ที่แจ้งเตือน\n",
    "- CountVectorizer, TfidfTransformer, TfidfVectorizer ใช้เตรียมข้อมูลเช่น ทำ term weighting\n",
    "- nltk ใช้ในการประมวลผลภาษาธรรมชาติเช่น กำจัด stopwords (คำที่เกิดขึ้นบ่อยและไม่มีอิทธิพลในการจำแนก)\n",
    "- Pipeline ทำให้การทำงานเป็นลำดับและนำมาใช้กับ GridSearchCV\n",
    "- train_test_split, cross_val_score, StratifiedKFold, GridSearchCV นำมาทำ model selection และหา best hyperparameter\n",
    "- neighbors(KNeighborsClassifier), xgboost(xgb), ensemble(RandomForestClassifier) model ที่จะนำมาใช้ในการทำนายว่าแต่ข่าวเป็นประเภทไหน"
   ]
  },
  {
   "cell_type": "code",
   "execution_count": 1,
   "metadata": {},
   "outputs": [],
   "source": [
    "import requests\n",
    "import bs4\n",
    "\n",
    "import pandas as pd\n",
    "import numpy as np\n",
    "\n",
    "import warnings\n",
    "warnings.filterwarnings('ignore')\n",
    "\n",
    "from sklearn.feature_extraction.text import CountVectorizer\n",
    "from sklearn.feature_extraction.text import TfidfTransformer\n",
    "from sklearn.feature_extraction.text import TfidfVectorizer\n",
    "\n",
    "import nltk\n",
    "from nltk.corpus import stopwords\n",
    "from sklearn.pipeline import Pipeline\n",
    "\n",
    "from sklearn.model_selection import train_test_split\n",
    "from sklearn.model_selection import StratifiedKFold\n",
    "from sklearn.model_selection import GridSearchCV\n",
    "from sklearn.model_selection import cross_val_score\n",
    "from sklearn.metrics import accuracy_score\n",
    "\n",
    "from sklearn.neighbors import KNeighborsClassifier\n",
    "import xgboost as xgb\n",
    "from sklearn.ensemble import RandomForestClassifier\n",
    "\n",
    "import matplotlib.pyplot as plt"
   ]
  },
  {
   "cell_type": "markdown",
   "metadata": {},
   "source": [
    "# Data Collection\n",
    "\n",
    "link: http://www.it.kmitl.ac.th/~teerapong/news_archive/index.html"
   ]
  },
  {
   "cell_type": "markdown",
   "metadata": {},
   "source": [
    "ใช้ **requests.get** ตรวจสอบว่าลิงก์ที่ต้องการ scrape ข้อมูลสามารถเข้าได้มั้ย"
   ]
  },
  {
   "cell_type": "code",
   "execution_count": 2,
   "metadata": {},
   "outputs": [
    {
     "name": "stdout",
     "output_type": "stream",
     "text": [
      "<Response [200]>\n"
     ]
    }
   ],
   "source": [
    "response = requests.get('http://www.it.kmitl.ac.th/~teerapong/news_archive/index.html') #ใส่ลิงก์ที่เราต้องการ scrape\n",
    "print(response) # response 200 คือสามารถเข้าถึงได้ พร้อมดึงข้อมูล"
   ]
  },
  {
   "cell_type": "markdown",
   "metadata": {},
   "source": [
    "ใช้ **bs4.BeautifulSoup** ในการอ่าน code ของลิงก์ที่เราใส่ไป"
   ]
  },
  {
   "cell_type": "code",
   "execution_count": 3,
   "metadata": {
    "scrolled": true
   },
   "outputs": [
    {
     "name": "stdout",
     "output_type": "stream",
     "text": [
      "<!DOCTYPE html>\n",
      "\n",
      "<html lang=\"en\">\n",
      "<head>\n",
      "<title>Online News Archive</title>\n",
      "<meta charset=\"utf-8\"/>\n",
      "<meta content=\"width=device-width, initial-scale=1\" name=\"viewport\"/>\n",
      "<meta content=\"noindex\" name=\"robots\"/>\n",
      "<meta content=\"news,articles,news\" name=\"keywords\">\n",
      "<meta content=\"Breaking News | International Headlines\" property=\"og:title\"/>\n",
      "<meta content=\"News Archive\" property=\"og:site_name\"/>\n",
      "<meta content=\"Latest news and more from the definitive brand of quality news.\" property=\"og:description\"/>\n",
      "<link href=\"css/bootstrap.min.css\" rel=\"stylesheet\"/>\n",
      "<script src=\"js/jquery-3.2.1.slim.min.js\"></script>\n",
      "<script src=\"js/popper.min.js\"></script>\n",
      "<script src=\"js/tether.min.js\"></script>\n",
      "<script src=\"js/jquery-3.2.1.slim.min.js\"></script>\n",
      "<script src=\"js/popper.min.js\"></script>\n",
      "<script src=\"js/tether.min.js\"></script>\n",
      "<script src=\"js/bootstrap.min.js\"></script>\n",
      "<style>\n",
      "\t  \t\t.main{ padding: 0; text-align: center;}\n",
      "\t  \t\t.footer{ padding: 6px;text-align: center; margin-top: 1em; }\n",
      "\n",
      "\t  \t\th1\n",
      "\t  \t\t{\n",
      "\t  \t\t\tfont-size: 180%;\n",
      "\t  \t\t\tmargin-top: 15px;\n",
      "\t  \t\t\tmargin-bottom: 15px;\n",
      "\t  \t\t}\n",
      "\t  \t\tul {list-style-type: none;}\n",
      "\t  \t\tli { margin-top: 5px; }\n",
      "\t  </style>\n",
      "</meta></head>\n",
      "<body>\n",
      "<div class=\"container\" style=\"margin-top: 2em;\">\n",
      "<div class=\"main\">\n",
      "<img alt=\"banner\" src=\"images/banner.jpg\" width=\"500\"/>\n",
      "<h1>News Article Archive</h1>\n",
      "<p>Archive of all news headlines and stories, organised per month.</p>\n",
      "<ul>\n",
      "<li>Articles — <a href=\"month-jan-2017.html\">January</a> [118]</li>\n",
      "<li>Articles — <a href=\"month-feb-2017.html\">February</a> [124]</li>\n",
      "<li>Articles — <a href=\"month-mar-2017.html\">March</a> [116]</li>\n",
      "<li>Articles — <a href=\"month-apr-2017.html\">April</a> [118]</li>\n",
      "<li>Articles — <a href=\"month-may-2017.html\">May</a> [115]</li>\n",
      "<li>Articles — <a href=\"month-jun-2017.html\">June</a> [115]</li>\n",
      "<li>Articles — <a href=\"month-jul-2017.html\">July</a> [122]</li>\n",
      "<li>Articles — <a href=\"month-aug-2017.html\">August</a> [116]</li>\n",
      "<li>Articles — <a href=\"month-sep-2017.html\">September</a> [113]</li>\n",
      "<li>Articles — <a href=\"month-oct-2017.html\">October</a> [124]</li>\n",
      "<li>Articles — <a href=\"month-nov-2017.html\">November</a> [122]</li>\n",
      "<li>Articles — <a href=\"month-dec-2017.html\">December</a> [115]</li>\n",
      "</ul>\n",
      "</div>\n",
      "<div class=\"footer\">\n",
      "<span><a href=\"#\">Terms &amp; Conditions</a> | <a href=\"#\">Privacy Policy</a> | <a href=\"#\">Cookie Information</a> </span><br/>\n",
      "<span>© <span class=\"thisyear\">2019-2020</span> — Original rights holders</span>\n",
      "</div>\n",
      "</div>\n",
      "</body>\n",
      "</html>\n",
      "\n"
     ]
    }
   ],
   "source": [
    "html_page = bs4.BeautifulSoup(response.content, 'html.parser') #เก็บ code ที่ได้ไว้ในตัวแปร html_page\n",
    "print(html_page)"
   ]
  },
  {
   "cell_type": "code",
   "execution_count": 4,
   "metadata": {},
   "outputs": [
    {
     "data": {
      "text/plain": [
       "[<a href=\"month-jan-2017.html\">January</a>,\n",
       " <a href=\"month-feb-2017.html\">February</a>,\n",
       " <a href=\"month-mar-2017.html\">March</a>,\n",
       " <a href=\"month-apr-2017.html\">April</a>,\n",
       " <a href=\"month-may-2017.html\">May</a>,\n",
       " <a href=\"month-jun-2017.html\">June</a>,\n",
       " <a href=\"month-jul-2017.html\">July</a>,\n",
       " <a href=\"month-aug-2017.html\">August</a>,\n",
       " <a href=\"month-sep-2017.html\">September</a>,\n",
       " <a href=\"month-oct-2017.html\">October</a>,\n",
       " <a href=\"month-nov-2017.html\">November</a>,\n",
       " <a href=\"month-dec-2017.html\">December</a>]"
      ]
     },
     "execution_count": 4,
     "metadata": {},
     "output_type": "execute_result"
    }
   ],
   "source": [
    "#ต้องการดึงลิงก์ข่าวของแต่ละเดือน\n",
    "selector = 'body > div > div.main > ul > li> a' #ลิงก์ข่าวของแต่ละเดือนอยู่ใน tags ul>li>a จึงกำหนดให้ไปดึง code ที่อยู่ในส่วนนั้นออกมา\n",
    "tags = html_page.select(selector) #โดยให้ return code ที่ตรงกับ selector ที่กำหนดไว้ทั้งหมดและเก็บไว้ในตัวแปร tags\n",
    "tags #เรียกดูผลลัพธ์ว่าตรงกับที่ต้องการมั้ย"
   ]
  },
  {
   "cell_type": "markdown",
   "metadata": {},
   "source": [
    "ได้ code ที่เป็นลิงก์มาหมดแล้วแต่ยังไม่พร้อมใช้งานเพราะ ลิงก์ที่ต้องการมีหน้าตาแบบนี้ http://www.it.kmitl.ac.th/~teerapong/news_archive/month-jan-2017.html จึงจะทำการสร้าง **list_archive** เพื่อรอเก็บลิงก์ที่พร้อมใช้งาน"
   ]
  },
  {
   "cell_type": "code",
   "execution_count": 5,
   "metadata": {},
   "outputs": [
    {
     "data": {
      "text/plain": [
       "['http://www.it.kmitl.ac.th/~teerapong/news_archive/month-jan-2017.html',\n",
       " 'http://www.it.kmitl.ac.th/~teerapong/news_archive/month-feb-2017.html',\n",
       " 'http://www.it.kmitl.ac.th/~teerapong/news_archive/month-mar-2017.html',\n",
       " 'http://www.it.kmitl.ac.th/~teerapong/news_archive/month-apr-2017.html',\n",
       " 'http://www.it.kmitl.ac.th/~teerapong/news_archive/month-may-2017.html',\n",
       " 'http://www.it.kmitl.ac.th/~teerapong/news_archive/month-jun-2017.html',\n",
       " 'http://www.it.kmitl.ac.th/~teerapong/news_archive/month-jul-2017.html',\n",
       " 'http://www.it.kmitl.ac.th/~teerapong/news_archive/month-aug-2017.html',\n",
       " 'http://www.it.kmitl.ac.th/~teerapong/news_archive/month-sep-2017.html',\n",
       " 'http://www.it.kmitl.ac.th/~teerapong/news_archive/month-oct-2017.html',\n",
       " 'http://www.it.kmitl.ac.th/~teerapong/news_archive/month-nov-2017.html',\n",
       " 'http://www.it.kmitl.ac.th/~teerapong/news_archive/month-dec-2017.html']"
      ]
     },
     "execution_count": 5,
     "metadata": {},
     "output_type": "execute_result"
    }
   ],
   "source": [
    "list_archive = [] #list ที่รอเก็บลิงก์ที่จะนำไปใช้งานต่อ\n",
    "for tag in tags: #ทำการวน for loop จากตัวแปร tags ที่เก็บ code ที่มีลิงก์อยู่\n",
    "    list_archive.append('http://www.it.kmitl.ac.th/~teerapong/news_archive/' + tag['href'])\n",
    "    '''นำ tag['href'] ซึ่งคือส่วนที่อยู่ใน href เท่านั้น (ex. month-jan-2017.html) มาต่อกับ http://www.it.kmitl.ac.th/~teerapong/news_archive/ \n",
    "    เพื่อให้ได้ลิงก์ตามที่เราต้องการ แล้วลิงก์นั้นไปเก็บไว้ใน list_archive ที่สร้างเอาไว้'''\n",
    "list_archive #เรียกดูผลลัพธ์ว่าตรงกับที่ต้องการมั้ย"
   ]
  },
  {
   "cell_type": "markdown",
   "metadata": {},
   "source": [
    "### Create function\n",
    "\n",
    "สร้าง Function ที่ใช้ในการ scrape\n",
    "\n",
    "- category ประเภทข่าว -> extract_category()\n",
    "- title หัวข้อข่าว -> extract_title()\n",
    "- link ลิงก์ข่าว -> extract_link_title()"
   ]
  },
  {
   "cell_type": "code",
   "execution_count": 6,
   "metadata": {},
   "outputs": [],
   "source": [
    "# สร้าง Function ที่ใช้ในการ scrape category\n",
    "def extract_category(html_page):\n",
    "    selector = 'body > div > div.main > table > tbody > tr> td.category' #กำหนดให้ดึงค่าที่อยู่ในตารางในส่วนของคอลัมน์  Article Category\n",
    "    tags = html_page.select(selector)\n",
    "    category = [] #สร้าง list ชื่อ category ไว้รอเก็บค่าที่ scrape ได้\n",
    "\n",
    "    for tag in tags: #ทำการวน for loop จากตัวแปร tags\n",
    "        if tag.text.strip() != 'N/A': #จะเอาข้อมูล category ใส่ใน list ชื่อ category ถ้าข้อมูลที่ดึงมาไม่เป็น N/A (ค่าว่าง)\n",
    "            category.append(tag.text.strip()) #เพิ่มข้อมูลที่ scrape ได้ใส่ไว้ใน list ชื่อ category\n",
    "\n",
    "    return category"
   ]
  },
  {
   "cell_type": "code",
   "execution_count": 7,
   "metadata": {},
   "outputs": [],
   "source": [
    "# สร้าง Function ที่ใช้ในการ scrape title\n",
    "def extract_title(html_page):\n",
    "    selector = 'body > div > div.main > table > tbody > tr > td.title > a' \n",
    "    #กำหนดให้ดึงค่าที่อยู่ในตารางในส่วนของคอลัมน์  Article Title และดึงไปที่ tag a เพราะแถวที่มีข้อมูลจะเป็น tag a แต่ถ้าไม่มีข้อมูลแล้วจะเป็น tag i\n",
    "    tags = html_page.select(selector)\n",
    "    title = [] #สร้าง list ชื่อ title ไว้รอเก็บค่าที่ scrape ได้\n",
    "    \n",
    "    for tag in tags: #ทำการวน for loop จากตัวแปร tags\n",
    "        title.append(tag.text.strip()) #เพิ่มข้อมูลที่ scrape ได้ใส่ไว้ใน list ชื่อ title\n",
    "        \n",
    "    return title"
   ]
  },
  {
   "cell_type": "code",
   "execution_count": 8,
   "metadata": {},
   "outputs": [],
   "source": [
    "# สร้าง Function ที่ใช้ในการ scrape link\n",
    "def extract_link_title(html_page):\n",
    "    selector = 'body > div > div.main > table > tbody > tr > td.title > a'\n",
    "    #กำหนดให้ดึงค่าที่อยู่ในตารางในส่วนของคอลัมน์  Article Title และดึงไปที่ tag a เพราะลิงก์ของข่าวอยู่ tag a\n",
    "    tags = html_page.select(selector)\n",
    "    link_title = [] #สร้าง list ชื่อ link_title ไว้รอเก็บค่าที่ scrape ได้\n",
    "    \n",
    "    for tag in tags: #ทำการวน for loop จากตัวแปร tags\n",
    "        link_title.append('http://www.it.kmitl.ac.th/~teerapong/news_archive/' + tag['href'])\n",
    "        #ทำการแก้ไขข้อมูลให้เป็นลิงก์ที่พร้อมใช้งาน แล้วค่อยเพิ่มข้อมูลใส่ไว้ใน list ชื่อ link_title\n",
    "        \n",
    "    return link_title"
   ]
  },
  {
   "cell_type": "code",
   "execution_count": 9,
   "metadata": {},
   "outputs": [
    {
     "name": "stdout",
     "output_type": "stream",
     "text": [
      "example:\n",
      " technology \n",
      " 21st-Century Sports: How Digital Technology Is Changing the Face Of The Sporting Industry \n",
      " http://www.it.kmitl.ac.th/~teerapong/news_archive/article-jan-0418.html\n"
     ]
    }
   ],
   "source": [
    "#ตัวอย่าง\n",
    "url = 'http://www.it.kmitl.ac.th/~teerapong/news_archive/month-jan-2017.html'\n",
    "response = requests.get(url)\n",
    "html_page = bs4.BeautifulSoup(response.content, 'html.parser')\n",
    "print('example:\\n', extract_category(html_page)[0],'\\n', extract_title(html_page)[0],'\\n', extract_link_title(html_page)[0])"
   ]
  },
  {
   "cell_type": "markdown",
   "metadata": {},
   "source": [
    "สร้าง Function **extract_news_archive_info()** สำหรับเรียกใช้งาน Function ในการ scrape category ประเภทข่าว, title หัวข้อข่าว, link ลิงก์ข่าว ทั้งหมด โดยใส่แค่ลิงก์เดือนก็จะดึง category ประเภทข่าว, title หัวข้อข่าว, link ลิงก์ข่าว ในเดือนนั้นออกมาทั้งหมด และจะ return กลับมาในรูปของ DataFrame"
   ]
  },
  {
   "cell_type": "code",
   "execution_count": 10,
   "metadata": {},
   "outputs": [],
   "source": [
    "def extract_news_archive_info(url): #รับลิงก์ของเดือนที่ต้องการดึงข้อมูล\n",
    "    response = requests.get(url)\n",
    "    html_page = bs4.BeautifulSoup(response.content, 'html.parser') #ดึงหน้าเว็บของลิงก์นั้น\n",
    "    \n",
    "    #เอาหน้าเว็บที่ดึงออกมาไปใส่ใน argument แต่ละ Function ที่ได้สร้างไว้เพื่อดึงข้อมูล ผลลัพธ์ที่ได้กลับมาจะอยู่ในรูปของ list\n",
    "    category = extract_category(html_page)\n",
    "    title = extract_title(html_page)\n",
    "    link_title = extract_link_title(html_page)\n",
    "\n",
    "    #เอาข้อมูลที่อยู่ในรูปของ list ที่ได้กลับมามาแปลงให้อยู่ในรูปของ pandas Series เพื่อที่จะได้เอาข้อมูลทั้ง 3 ตัวมา concat กันให้เป็น DataFrame\n",
    "    category = pd.Series(category)\n",
    "    title = pd.Series(title)\n",
    "    link_title = pd.Series(link_title)\n",
    "    \n",
    "    #เอาข้อมูลทั้ง 3 ตัวที่อยู่ในรูปของ pandas Series แล้วมา concat กันในแนวคอลัมน์ (เอาคอลัมน์มาต่อๆกัน)\n",
    "    result = pd.concat([category, title, link_title], axis=1)\n",
    "    #rename ชื่อ column ให้ตรงกับที่ต้องการใช้งาน โดยจะเปลี่ยนชื่อเป็น category-ประเภทข่าว, title-หัวข้อข่าว, link-ลิงก์ข่าว\n",
    "    result = result.rename(columns={0: \"category\", 1: \"title\", 2: \"link\"})\n",
    "    return result #return DataFrame"
   ]
  },
  {
   "cell_type": "code",
   "execution_count": 11,
   "metadata": {},
   "outputs": [
    {
     "data": {
      "text/html": [
       "<div>\n",
       "<style scoped>\n",
       "    .dataframe tbody tr th:only-of-type {\n",
       "        vertical-align: middle;\n",
       "    }\n",
       "\n",
       "    .dataframe tbody tr th {\n",
       "        vertical-align: top;\n",
       "    }\n",
       "\n",
       "    .dataframe thead th {\n",
       "        text-align: right;\n",
       "    }\n",
       "</style>\n",
       "<table border=\"1\" class=\"dataframe\">\n",
       "  <thead>\n",
       "    <tr style=\"text-align: right;\">\n",
       "      <th></th>\n",
       "      <th>category</th>\n",
       "      <th>title</th>\n",
       "      <th>link</th>\n",
       "    </tr>\n",
       "  </thead>\n",
       "  <tbody>\n",
       "    <tr>\n",
       "      <th>0</th>\n",
       "      <td>technology</td>\n",
       "      <td>21st-Century Sports: How Digital Technology Is...</td>\n",
       "      <td>http://www.it.kmitl.ac.th/~teerapong/news_arch...</td>\n",
       "    </tr>\n",
       "    <tr>\n",
       "      <th>1</th>\n",
       "      <td>business</td>\n",
       "      <td>Asian quake hits European shares</td>\n",
       "      <td>http://www.it.kmitl.ac.th/~teerapong/news_arch...</td>\n",
       "    </tr>\n",
       "    <tr>\n",
       "      <th>2</th>\n",
       "      <td>technology</td>\n",
       "      <td>BT offers free net phone calls</td>\n",
       "      <td>http://www.it.kmitl.ac.th/~teerapong/news_arch...</td>\n",
       "    </tr>\n",
       "    <tr>\n",
       "      <th>3</th>\n",
       "      <td>business</td>\n",
       "      <td>Barclays shares up on merger talk</td>\n",
       "      <td>http://www.it.kmitl.ac.th/~teerapong/news_arch...</td>\n",
       "    </tr>\n",
       "    <tr>\n",
       "      <th>4</th>\n",
       "      <td>sport</td>\n",
       "      <td>Barkley fit for match in Ireland</td>\n",
       "      <td>http://www.it.kmitl.ac.th/~teerapong/news_arch...</td>\n",
       "    </tr>\n",
       "    <tr>\n",
       "      <th>...</th>\n",
       "      <td>...</td>\n",
       "      <td>...</td>\n",
       "      <td>...</td>\n",
       "    </tr>\n",
       "    <tr>\n",
       "      <th>113</th>\n",
       "      <td>business</td>\n",
       "      <td>Worldcom boss 'left books alone'</td>\n",
       "      <td>http://www.it.kmitl.ac.th/~teerapong/news_arch...</td>\n",
       "    </tr>\n",
       "    <tr>\n",
       "      <th>114</th>\n",
       "      <td>technology</td>\n",
       "      <td>Xbox 2 may be unveiled in summer</td>\n",
       "      <td>http://www.it.kmitl.ac.th/~teerapong/news_arch...</td>\n",
       "    </tr>\n",
       "    <tr>\n",
       "      <th>115</th>\n",
       "      <td>technology</td>\n",
       "      <td>Xbox power cable 'fire fear'</td>\n",
       "      <td>http://www.it.kmitl.ac.th/~teerapong/news_arch...</td>\n",
       "    </tr>\n",
       "    <tr>\n",
       "      <th>116</th>\n",
       "      <td>business</td>\n",
       "      <td>Yangtze Electric's profits double</td>\n",
       "      <td>http://www.it.kmitl.ac.th/~teerapong/news_arch...</td>\n",
       "    </tr>\n",
       "    <tr>\n",
       "      <th>117</th>\n",
       "      <td>business</td>\n",
       "      <td>Yukos loses US bankruptcy battle</td>\n",
       "      <td>http://www.it.kmitl.ac.th/~teerapong/news_arch...</td>\n",
       "    </tr>\n",
       "  </tbody>\n",
       "</table>\n",
       "<p>118 rows × 3 columns</p>\n",
       "</div>"
      ],
      "text/plain": [
       "       category                                              title  \\\n",
       "0    technology  21st-Century Sports: How Digital Technology Is...   \n",
       "1      business                   Asian quake hits European shares   \n",
       "2    technology                     BT offers free net phone calls   \n",
       "3      business                  Barclays shares up on merger talk   \n",
       "4         sport                   Barkley fit for match in Ireland   \n",
       "..          ...                                                ...   \n",
       "113    business                   Worldcom boss 'left books alone'   \n",
       "114  technology                   Xbox 2 may be unveiled in summer   \n",
       "115  technology                       Xbox power cable 'fire fear'   \n",
       "116    business                  Yangtze Electric's profits double   \n",
       "117    business                   Yukos loses US bankruptcy battle   \n",
       "\n",
       "                                                  link  \n",
       "0    http://www.it.kmitl.ac.th/~teerapong/news_arch...  \n",
       "1    http://www.it.kmitl.ac.th/~teerapong/news_arch...  \n",
       "2    http://www.it.kmitl.ac.th/~teerapong/news_arch...  \n",
       "3    http://www.it.kmitl.ac.th/~teerapong/news_arch...  \n",
       "4    http://www.it.kmitl.ac.th/~teerapong/news_arch...  \n",
       "..                                                 ...  \n",
       "113  http://www.it.kmitl.ac.th/~teerapong/news_arch...  \n",
       "114  http://www.it.kmitl.ac.th/~teerapong/news_arch...  \n",
       "115  http://www.it.kmitl.ac.th/~teerapong/news_arch...  \n",
       "116  http://www.it.kmitl.ac.th/~teerapong/news_arch...  \n",
       "117  http://www.it.kmitl.ac.th/~teerapong/news_arch...  \n",
       "\n",
       "[118 rows x 3 columns]"
      ]
     },
     "execution_count": 11,
     "metadata": {},
     "output_type": "execute_result"
    }
   ],
   "source": [
    "#ตัวอย่าง อันนี้คือ DataFrame ที่ Function extract_news_archive_info() return กลับมา\n",
    "#ข้อมูลที่ return กลับมาจะเป็นข่าวทั้งหมดในเดือนที่เราส่งไป\n",
    "url = 'http://www.it.kmitl.ac.th/~teerapong/news_archive/month-jan-2017.html'\n",
    "extract_news_archive_info(url)"
   ]
  },
  {
   "cell_type": "markdown",
   "metadata": {},
   "source": [
    "### Create DataFrame\n",
    "สร้าง DataFrame เพื่อรอรับข้อมูลที่ scrape ได้\n",
    "\n",
    "ซึ่งข้อมูลที่เราจะ scrape คือลิงก์ข่าวในแต่ละเดือนใน list_archive โดยเราจะ scrape category ประเภทข่าว, title หัวข้อข่าว, link ลิงก์ข่าว"
   ]
  },
  {
   "cell_type": "code",
   "execution_count": 12,
   "metadata": {},
   "outputs": [
    {
     "data": {
      "text/html": [
       "<div>\n",
       "<style scoped>\n",
       "    .dataframe tbody tr th:only-of-type {\n",
       "        vertical-align: middle;\n",
       "    }\n",
       "\n",
       "    .dataframe tbody tr th {\n",
       "        vertical-align: top;\n",
       "    }\n",
       "\n",
       "    .dataframe thead th {\n",
       "        text-align: right;\n",
       "    }\n",
       "</style>\n",
       "<table border=\"1\" class=\"dataframe\">\n",
       "  <thead>\n",
       "    <tr style=\"text-align: right;\">\n",
       "      <th></th>\n",
       "      <th>category</th>\n",
       "      <th>title</th>\n",
       "      <th>link</th>\n",
       "    </tr>\n",
       "  </thead>\n",
       "  <tbody>\n",
       "  </tbody>\n",
       "</table>\n",
       "</div>"
      ],
      "text/plain": [
       "Empty DataFrame\n",
       "Columns: [category, title, link]\n",
       "Index: []"
      ]
     },
     "execution_count": 12,
     "metadata": {},
     "output_type": "execute_result"
    }
   ],
   "source": [
    "#สร้าง DataFrame ที่รอรับข้อมูลที่ scrape ได้และกำหนดชื่อ column ตามสิ่งที่จะ scrape\n",
    "df = pd.DataFrame(columns=['category', 'title', 'link'])\n",
    "df #ได้ df เปล่าๆที่รอรับข้อมูลที่ scrape ได้"
   ]
  },
  {
   "cell_type": "markdown",
   "metadata": {},
   "source": [
    "### เอา list_archive (ลิงก์เดือนทั้งหมด) ไปเข้า Function extract_news_archive_info()\n",
    "ขั้นตอนนี้ทำเพื่อให้ได้ข่าวทั้งหมดในทุกๆเดือนมารวมกันเป็น DataFrame อันเดียว"
   ]
  },
  {
   "cell_type": "code",
   "execution_count": 13,
   "metadata": {},
   "outputs": [
    {
     "data": {
      "text/plain": [
       "['http://www.it.kmitl.ac.th/~teerapong/news_archive/month-jan-2017.html',\n",
       " 'http://www.it.kmitl.ac.th/~teerapong/news_archive/month-feb-2017.html',\n",
       " 'http://www.it.kmitl.ac.th/~teerapong/news_archive/month-mar-2017.html',\n",
       " 'http://www.it.kmitl.ac.th/~teerapong/news_archive/month-apr-2017.html',\n",
       " 'http://www.it.kmitl.ac.th/~teerapong/news_archive/month-may-2017.html',\n",
       " 'http://www.it.kmitl.ac.th/~teerapong/news_archive/month-jun-2017.html',\n",
       " 'http://www.it.kmitl.ac.th/~teerapong/news_archive/month-jul-2017.html',\n",
       " 'http://www.it.kmitl.ac.th/~teerapong/news_archive/month-aug-2017.html',\n",
       " 'http://www.it.kmitl.ac.th/~teerapong/news_archive/month-sep-2017.html',\n",
       " 'http://www.it.kmitl.ac.th/~teerapong/news_archive/month-oct-2017.html',\n",
       " 'http://www.it.kmitl.ac.th/~teerapong/news_archive/month-nov-2017.html',\n",
       " 'http://www.it.kmitl.ac.th/~teerapong/news_archive/month-dec-2017.html']"
      ]
     },
     "execution_count": 13,
     "metadata": {},
     "output_type": "execute_result"
    }
   ],
   "source": [
    "list_archive"
   ]
  },
  {
   "cell_type": "markdown",
   "metadata": {},
   "source": [
    "เอาแต่ละลิงก์ใน list_archive ไปเข้า function extract_news_archive_info() และเพิ่มเข้าไปใน DataFrame ที่เราเตรียมไว้"
   ]
  },
  {
   "cell_type": "code",
   "execution_count": 14,
   "metadata": {},
   "outputs": [],
   "source": [
    "for url in list_archive: #วน for loop เพื่อเอาลิงก์เดือนทีละอันไปเข้า function\n",
    "    result = extract_news_archive_info(url) #เอาลิงก์เดือนไปเข้า function และเก็บ DataFrame ที่ return กลับมาในตัวแปร result\n",
    "    df = df.append(result, ignore_index=True) #เอา result ที่ได้จาก function ไปเพิ่มใน DataFrame ที่สร้างรอไว้"
   ]
  },
  {
   "cell_type": "code",
   "execution_count": 15,
   "metadata": {},
   "outputs": [
    {
     "data": {
      "text/html": [
       "<div>\n",
       "<style scoped>\n",
       "    .dataframe tbody tr th:only-of-type {\n",
       "        vertical-align: middle;\n",
       "    }\n",
       "\n",
       "    .dataframe tbody tr th {\n",
       "        vertical-align: top;\n",
       "    }\n",
       "\n",
       "    .dataframe thead th {\n",
       "        text-align: right;\n",
       "    }\n",
       "</style>\n",
       "<table border=\"1\" class=\"dataframe\">\n",
       "  <thead>\n",
       "    <tr style=\"text-align: right;\">\n",
       "      <th></th>\n",
       "      <th>category</th>\n",
       "      <th>title</th>\n",
       "      <th>link</th>\n",
       "    </tr>\n",
       "  </thead>\n",
       "  <tbody>\n",
       "    <tr>\n",
       "      <th>0</th>\n",
       "      <td>technology</td>\n",
       "      <td>21st-Century Sports: How Digital Technology Is...</td>\n",
       "      <td>http://www.it.kmitl.ac.th/~teerapong/news_arch...</td>\n",
       "    </tr>\n",
       "    <tr>\n",
       "      <th>1</th>\n",
       "      <td>business</td>\n",
       "      <td>Asian quake hits European shares</td>\n",
       "      <td>http://www.it.kmitl.ac.th/~teerapong/news_arch...</td>\n",
       "    </tr>\n",
       "    <tr>\n",
       "      <th>2</th>\n",
       "      <td>technology</td>\n",
       "      <td>BT offers free net phone calls</td>\n",
       "      <td>http://www.it.kmitl.ac.th/~teerapong/news_arch...</td>\n",
       "    </tr>\n",
       "    <tr>\n",
       "      <th>3</th>\n",
       "      <td>business</td>\n",
       "      <td>Barclays shares up on merger talk</td>\n",
       "      <td>http://www.it.kmitl.ac.th/~teerapong/news_arch...</td>\n",
       "    </tr>\n",
       "    <tr>\n",
       "      <th>4</th>\n",
       "      <td>sport</td>\n",
       "      <td>Barkley fit for match in Ireland</td>\n",
       "      <td>http://www.it.kmitl.ac.th/~teerapong/news_arch...</td>\n",
       "    </tr>\n",
       "    <tr>\n",
       "      <th>...</th>\n",
       "      <td>...</td>\n",
       "      <td>...</td>\n",
       "      <td>...</td>\n",
       "    </tr>\n",
       "    <tr>\n",
       "      <th>1403</th>\n",
       "      <td>sport</td>\n",
       "      <td>Woodward eyes Brennan for Lions</td>\n",
       "      <td>http://www.it.kmitl.ac.th/~teerapong/news_arch...</td>\n",
       "    </tr>\n",
       "    <tr>\n",
       "      <th>1404</th>\n",
       "      <td>business</td>\n",
       "      <td>WorldCom trial starts in New York</td>\n",
       "      <td>http://www.it.kmitl.ac.th/~teerapong/news_arch...</td>\n",
       "    </tr>\n",
       "    <tr>\n",
       "      <th>1405</th>\n",
       "      <td>business</td>\n",
       "      <td>Yukos accused of lying to court</td>\n",
       "      <td>http://www.it.kmitl.ac.th/~teerapong/news_arch...</td>\n",
       "    </tr>\n",
       "    <tr>\n",
       "      <th>1406</th>\n",
       "      <td>business</td>\n",
       "      <td>Yukos drops banks from court bid</td>\n",
       "      <td>http://www.it.kmitl.ac.th/~teerapong/news_arch...</td>\n",
       "    </tr>\n",
       "    <tr>\n",
       "      <th>1407</th>\n",
       "      <td>sport</td>\n",
       "      <td>Zambia confident and cautious</td>\n",
       "      <td>http://www.it.kmitl.ac.th/~teerapong/news_arch...</td>\n",
       "    </tr>\n",
       "  </tbody>\n",
       "</table>\n",
       "<p>1408 rows × 3 columns</p>\n",
       "</div>"
      ],
      "text/plain": [
       "        category                                              title  \\\n",
       "0     technology  21st-Century Sports: How Digital Technology Is...   \n",
       "1       business                   Asian quake hits European shares   \n",
       "2     technology                     BT offers free net phone calls   \n",
       "3       business                  Barclays shares up on merger talk   \n",
       "4          sport                   Barkley fit for match in Ireland   \n",
       "...          ...                                                ...   \n",
       "1403       sport                    Woodward eyes Brennan for Lions   \n",
       "1404    business                  WorldCom trial starts in New York   \n",
       "1405    business                    Yukos accused of lying to court   \n",
       "1406    business                   Yukos drops banks from court bid   \n",
       "1407       sport                      Zambia confident and cautious   \n",
       "\n",
       "                                                   link  \n",
       "0     http://www.it.kmitl.ac.th/~teerapong/news_arch...  \n",
       "1     http://www.it.kmitl.ac.th/~teerapong/news_arch...  \n",
       "2     http://www.it.kmitl.ac.th/~teerapong/news_arch...  \n",
       "3     http://www.it.kmitl.ac.th/~teerapong/news_arch...  \n",
       "4     http://www.it.kmitl.ac.th/~teerapong/news_arch...  \n",
       "...                                                 ...  \n",
       "1403  http://www.it.kmitl.ac.th/~teerapong/news_arch...  \n",
       "1404  http://www.it.kmitl.ac.th/~teerapong/news_arch...  \n",
       "1405  http://www.it.kmitl.ac.th/~teerapong/news_arch...  \n",
       "1406  http://www.it.kmitl.ac.th/~teerapong/news_arch...  \n",
       "1407  http://www.it.kmitl.ac.th/~teerapong/news_arch...  \n",
       "\n",
       "[1408 rows x 3 columns]"
      ]
     },
     "execution_count": 15,
     "metadata": {},
     "output_type": "execute_result"
    }
   ],
   "source": [
    "df #หน้าตาของ DataFrame ที่มีข้อมูล category ประเภทข่าว, title หัวข้อข่าว, link ลิงก์ข่าว ทั้งหมด"
   ]
  },
  {
   "cell_type": "markdown",
   "metadata": {},
   "source": [
    "ลองเช็คค่า null"
   ]
  },
  {
   "cell_type": "code",
   "execution_count": 16,
   "metadata": {},
   "outputs": [
    {
     "data": {
      "text/plain": [
       "category    0\n",
       "title       0\n",
       "link        0\n",
       "dtype: int64"
      ]
     },
     "execution_count": 16,
     "metadata": {},
     "output_type": "execute_result"
    }
   ],
   "source": [
    "df.isna().sum()\n",
    "#ไม่มีค่า null เพราะ clean ไปตอน scrape ข้อมูลแล้ว"
   ]
  },
  {
   "cell_type": "markdown",
   "metadata": {},
   "source": [
    "### Add id coloumn\n",
    "\n",
    "แต่ละข่าวมี id ของมันเองเลยจะทำการเก็บแยกเพิ่มอีกคอลัมน์"
   ]
  },
  {
   "cell_type": "code",
   "execution_count": 17,
   "metadata": {},
   "outputs": [
    {
     "data": {
      "text/plain": [
       "'http://www.it.kmitl.ac.th/~teerapong/news_archive/article-jan-0418.html'"
      ]
     },
     "execution_count": 17,
     "metadata": {},
     "output_type": "execute_result"
    }
   ],
   "source": [
    "#ในแต่ละลิงก์ข่าวจะมี id ของข่าวแฝงอยู่\n",
    "df['link'].iloc[0]"
   ]
  },
  {
   "cell_type": "code",
   "execution_count": 18,
   "metadata": {},
   "outputs": [
    {
     "data": {
      "text/html": [
       "<div>\n",
       "<style scoped>\n",
       "    .dataframe tbody tr th:only-of-type {\n",
       "        vertical-align: middle;\n",
       "    }\n",
       "\n",
       "    .dataframe tbody tr th {\n",
       "        vertical-align: top;\n",
       "    }\n",
       "\n",
       "    .dataframe thead th {\n",
       "        text-align: right;\n",
       "    }\n",
       "</style>\n",
       "<table border=\"1\" class=\"dataframe\">\n",
       "  <thead>\n",
       "    <tr style=\"text-align: right;\">\n",
       "      <th></th>\n",
       "      <th>category</th>\n",
       "      <th>title</th>\n",
       "      <th>link</th>\n",
       "      <th>id</th>\n",
       "    </tr>\n",
       "  </thead>\n",
       "  <tbody>\n",
       "    <tr>\n",
       "      <th>0</th>\n",
       "      <td>technology</td>\n",
       "      <td>21st-Century Sports: How Digital Technology Is...</td>\n",
       "      <td>http://www.it.kmitl.ac.th/~teerapong/news_arch...</td>\n",
       "      <td>article-jan-0418</td>\n",
       "    </tr>\n",
       "    <tr>\n",
       "      <th>1</th>\n",
       "      <td>business</td>\n",
       "      <td>Asian quake hits European shares</td>\n",
       "      <td>http://www.it.kmitl.ac.th/~teerapong/news_arch...</td>\n",
       "      <td>article-jan-0027</td>\n",
       "    </tr>\n",
       "    <tr>\n",
       "      <th>2</th>\n",
       "      <td>technology</td>\n",
       "      <td>BT offers free net phone calls</td>\n",
       "      <td>http://www.it.kmitl.ac.th/~teerapong/news_arch...</td>\n",
       "      <td>article-jan-0631</td>\n",
       "    </tr>\n",
       "    <tr>\n",
       "      <th>3</th>\n",
       "      <td>business</td>\n",
       "      <td>Barclays shares up on merger talk</td>\n",
       "      <td>http://www.it.kmitl.ac.th/~teerapong/news_arch...</td>\n",
       "      <td>article-jan-2105</td>\n",
       "    </tr>\n",
       "    <tr>\n",
       "      <th>4</th>\n",
       "      <td>sport</td>\n",
       "      <td>Barkley fit for match in Ireland</td>\n",
       "      <td>http://www.it.kmitl.ac.th/~teerapong/news_arch...</td>\n",
       "      <td>article-jan-3300</td>\n",
       "    </tr>\n",
       "    <tr>\n",
       "      <th>...</th>\n",
       "      <td>...</td>\n",
       "      <td>...</td>\n",
       "      <td>...</td>\n",
       "      <td>...</td>\n",
       "    </tr>\n",
       "    <tr>\n",
       "      <th>1403</th>\n",
       "      <td>sport</td>\n",
       "      <td>Woodward eyes Brennan for Lions</td>\n",
       "      <td>http://www.it.kmitl.ac.th/~teerapong/news_arch...</td>\n",
       "      <td>article-dec-2238</td>\n",
       "    </tr>\n",
       "    <tr>\n",
       "      <th>1404</th>\n",
       "      <td>business</td>\n",
       "      <td>WorldCom trial starts in New York</td>\n",
       "      <td>http://www.it.kmitl.ac.th/~teerapong/news_arch...</td>\n",
       "      <td>article-dec-2334</td>\n",
       "    </tr>\n",
       "    <tr>\n",
       "      <th>1405</th>\n",
       "      <td>business</td>\n",
       "      <td>Yukos accused of lying to court</td>\n",
       "      <td>http://www.it.kmitl.ac.th/~teerapong/news_arch...</td>\n",
       "      <td>article-dec-2095</td>\n",
       "    </tr>\n",
       "    <tr>\n",
       "      <th>1406</th>\n",
       "      <td>business</td>\n",
       "      <td>Yukos drops banks from court bid</td>\n",
       "      <td>http://www.it.kmitl.ac.th/~teerapong/news_arch...</td>\n",
       "      <td>article-dec-1351</td>\n",
       "    </tr>\n",
       "    <tr>\n",
       "      <th>1407</th>\n",
       "      <td>sport</td>\n",
       "      <td>Zambia confident and cautious</td>\n",
       "      <td>http://www.it.kmitl.ac.th/~teerapong/news_arch...</td>\n",
       "      <td>article-dec-0068</td>\n",
       "    </tr>\n",
       "  </tbody>\n",
       "</table>\n",
       "<p>1408 rows × 4 columns</p>\n",
       "</div>"
      ],
      "text/plain": [
       "        category                                              title  \\\n",
       "0     technology  21st-Century Sports: How Digital Technology Is...   \n",
       "1       business                   Asian quake hits European shares   \n",
       "2     technology                     BT offers free net phone calls   \n",
       "3       business                  Barclays shares up on merger talk   \n",
       "4          sport                   Barkley fit for match in Ireland   \n",
       "...          ...                                                ...   \n",
       "1403       sport                    Woodward eyes Brennan for Lions   \n",
       "1404    business                  WorldCom trial starts in New York   \n",
       "1405    business                    Yukos accused of lying to court   \n",
       "1406    business                   Yukos drops banks from court bid   \n",
       "1407       sport                      Zambia confident and cautious   \n",
       "\n",
       "                                                   link                id  \n",
       "0     http://www.it.kmitl.ac.th/~teerapong/news_arch...  article-jan-0418  \n",
       "1     http://www.it.kmitl.ac.th/~teerapong/news_arch...  article-jan-0027  \n",
       "2     http://www.it.kmitl.ac.th/~teerapong/news_arch...  article-jan-0631  \n",
       "3     http://www.it.kmitl.ac.th/~teerapong/news_arch...  article-jan-2105  \n",
       "4     http://www.it.kmitl.ac.th/~teerapong/news_arch...  article-jan-3300  \n",
       "...                                                 ...               ...  \n",
       "1403  http://www.it.kmitl.ac.th/~teerapong/news_arch...  article-dec-2238  \n",
       "1404  http://www.it.kmitl.ac.th/~teerapong/news_arch...  article-dec-2334  \n",
       "1405  http://www.it.kmitl.ac.th/~teerapong/news_arch...  article-dec-2095  \n",
       "1406  http://www.it.kmitl.ac.th/~teerapong/news_arch...  article-dec-1351  \n",
       "1407  http://www.it.kmitl.ac.th/~teerapong/news_arch...  article-dec-0068  \n",
       "\n",
       "[1408 rows x 4 columns]"
      ]
     },
     "execution_count": 18,
     "metadata": {},
     "output_type": "execute_result"
    }
   ],
   "source": [
    "#ใช้ index slicing ในการหา id ข่าว โดยจะเริ่มเก็บตั้งแต่ตัวที่ 50 ถึงตัวที่ 6 จากหลังสุด\n",
    "df['id'] = df['link'].str[50:-5]\n",
    "df"
   ]
  },
  {
   "cell_type": "markdown",
   "metadata": {},
   "source": [
    "### Get Content\n",
    "\n",
    "ดึงข้อมูลในลิงก์ข่าว"
   ]
  },
  {
   "cell_type": "code",
   "execution_count": 19,
   "metadata": {},
   "outputs": [],
   "source": [
    "list_content = [] #สร้าง list ชื่อ list_content ไว้เก็บข้อมูล content ทั้งหมด"
   ]
  },
  {
   "cell_type": "markdown",
   "metadata": {},
   "source": [
    "สร้าง Function ที่ใช่ในการดึงข้อมูลข่าวในลิงก์ข่าวที่ใส่เข้าไป"
   ]
  },
  {
   "cell_type": "code",
   "execution_count": 20,
   "metadata": {},
   "outputs": [],
   "source": [
    "def get_content(url): #รับลิงก์ข่าวและเก็บไว้ในชื่อ url\n",
    "    response = requests.get(url)\n",
    "    html_page = bs4.BeautifulSoup(response.content, 'html.parser')\n",
    "\n",
    "    selector = 'body > div > div.main > p' #เนื้อหาข่าวอยู่ในส่วน tag p\n",
    "    #เนื่องจากเนื้อหาข่าวมีหลายย่อหน้า (1 ย่อหน้า : 1 tag p) จึงใช้ select ในการดึง ค่าที่ได้จะอยู่ในรูปของ list\n",
    "    tags = html_page.select(selector) \n",
    "\n",
    "    content = '' #สร้างตัวแปร content รอเก็บเนื้อหาข่าวในรุปของ string\n",
    "    for tag in tags: #วน for loop ในตัวแปร tags\n",
    "        if tag.text.strip() != '': #ในเนื้อหาข่าวจะมีส่วนที่เป็นเว้นย่อหน้าเปล่าๆ ซึ่งเราไม่ต้องการเก็บส่วนนั้น จึงจะทำการเก็บเฉพาะส่วนที่ไม่ได้เว้นว่างไว้\n",
    "            if '.html' in str(tag): #ในส่วนล่างสุดในบางข่าวจะมีลิงก์ให้กดกลับไปที่หน้าหลัก ซึ่งเราก็ไม่ต้องการเก็บเช่นกัน จึงจะทำการข้ามไป\n",
    "                pass\n",
    "            elif 'Comments are closed for this article' in str(tag): #ในส่วนล่างสุดในบางข่าวจะมีบอกว่าปิดไม่ให้มีการคอมเมนต์ ซึ่งเราก็ไม่ต้องการเก็บเช่นกัน จึงจะทำการข้ามไป\n",
    "                pass\n",
    "            else:\n",
    "                content += tag.text.strip() + ' ' #หลังจากข้ามส่วนที่ไม่ต้องการเก็บไปหมดแล้วก็จะเพิ่มส่วนต้องการเก็บไว้ในตัวแปร content\n",
    "                \n",
    "    list_content.append(content.strip()) #หลังจากจบ loop ก็จะทำการเพิ่มเนื้อหาข่าวไปในตัวแปร list_content"
   ]
  },
  {
   "cell_type": "code",
   "execution_count": 21,
   "metadata": {},
   "outputs": [
    {
     "name": "stdout",
     "output_type": "stream",
     "text": [
      "example: http://www.it.kmitl.ac.th/~teerapong/news_archive/article-jan-0418.html\n"
     ]
    }
   ],
   "source": [
    "#df['link'] คือลิงก์ข่าวทั้งหมด\n",
    "print('example:', df['link'][0])"
   ]
  },
  {
   "cell_type": "code",
   "execution_count": 22,
   "metadata": {},
   "outputs": [],
   "source": [
    "for i in range(len(df)): #วน for loop ตามความยาวทั้งหมดของ df\n",
    "    get_content(df['link'].iloc[i]) #เอาลิงก์ข่าวใส่ไปใน function get_content()"
   ]
  },
  {
   "cell_type": "markdown",
   "metadata": {},
   "source": [
    "หลังจากวน for loop เพื่อลิงก์ข่าวใส่ไปใน function **get_content()** ครบหมดแล้ว ในตัวแปร list_content จะมีเนื้อหาข่าวทั้งหมด เราจะแปลง list_content จาก list ให้เป็น pandas Series เพื่อที่จะได้เอาไป concat กับ df ให้สมบูรณ์"
   ]
  },
  {
   "cell_type": "code",
   "execution_count": 23,
   "metadata": {},
   "outputs": [
    {
     "data": {
      "text/html": [
       "<div>\n",
       "<style scoped>\n",
       "    .dataframe tbody tr th:only-of-type {\n",
       "        vertical-align: middle;\n",
       "    }\n",
       "\n",
       "    .dataframe tbody tr th {\n",
       "        vertical-align: top;\n",
       "    }\n",
       "\n",
       "    .dataframe thead th {\n",
       "        text-align: right;\n",
       "    }\n",
       "</style>\n",
       "<table border=\"1\" class=\"dataframe\">\n",
       "  <thead>\n",
       "    <tr style=\"text-align: right;\">\n",
       "      <th></th>\n",
       "      <th>category</th>\n",
       "      <th>title</th>\n",
       "      <th>link</th>\n",
       "      <th>id</th>\n",
       "      <th>content</th>\n",
       "    </tr>\n",
       "  </thead>\n",
       "  <tbody>\n",
       "    <tr>\n",
       "      <th>0</th>\n",
       "      <td>technology</td>\n",
       "      <td>21st-Century Sports: How Digital Technology Is...</td>\n",
       "      <td>http://www.it.kmitl.ac.th/~teerapong/news_arch...</td>\n",
       "      <td>article-jan-0418</td>\n",
       "      <td>The sporting industry has come a long way sinc...</td>\n",
       "    </tr>\n",
       "    <tr>\n",
       "      <th>1</th>\n",
       "      <td>business</td>\n",
       "      <td>Asian quake hits European shares</td>\n",
       "      <td>http://www.it.kmitl.ac.th/~teerapong/news_arch...</td>\n",
       "      <td>article-jan-0027</td>\n",
       "      <td>Asian quake hits European shares Shares in Eur...</td>\n",
       "    </tr>\n",
       "    <tr>\n",
       "      <th>2</th>\n",
       "      <td>technology</td>\n",
       "      <td>BT offers free net phone calls</td>\n",
       "      <td>http://www.it.kmitl.ac.th/~teerapong/news_arch...</td>\n",
       "      <td>article-jan-0631</td>\n",
       "      <td>BT is offering customers free internet telepho...</td>\n",
       "    </tr>\n",
       "    <tr>\n",
       "      <th>3</th>\n",
       "      <td>business</td>\n",
       "      <td>Barclays shares up on merger talk</td>\n",
       "      <td>http://www.it.kmitl.ac.th/~teerapong/news_arch...</td>\n",
       "      <td>article-jan-2105</td>\n",
       "      <td>Barclays shares up on merger talk Shares in UK...</td>\n",
       "    </tr>\n",
       "    <tr>\n",
       "      <th>4</th>\n",
       "      <td>sport</td>\n",
       "      <td>Barkley fit for match in Ireland</td>\n",
       "      <td>http://www.it.kmitl.ac.th/~teerapong/news_arch...</td>\n",
       "      <td>article-jan-3300</td>\n",
       "      <td>England centre Olly Barkley has been passed fi...</td>\n",
       "    </tr>\n",
       "    <tr>\n",
       "      <th>...</th>\n",
       "      <td>...</td>\n",
       "      <td>...</td>\n",
       "      <td>...</td>\n",
       "      <td>...</td>\n",
       "      <td>...</td>\n",
       "    </tr>\n",
       "    <tr>\n",
       "      <th>1403</th>\n",
       "      <td>sport</td>\n",
       "      <td>Woodward eyes Brennan for Lions</td>\n",
       "      <td>http://www.it.kmitl.ac.th/~teerapong/news_arch...</td>\n",
       "      <td>article-dec-2238</td>\n",
       "      <td>Woodward eyes Brennan for Lions Toulouse's for...</td>\n",
       "    </tr>\n",
       "    <tr>\n",
       "      <th>1404</th>\n",
       "      <td>business</td>\n",
       "      <td>WorldCom trial starts in New York</td>\n",
       "      <td>http://www.it.kmitl.ac.th/~teerapong/news_arch...</td>\n",
       "      <td>article-dec-2334</td>\n",
       "      <td>The trial of Bernie Ebbers, former chief execu...</td>\n",
       "    </tr>\n",
       "    <tr>\n",
       "      <th>1405</th>\n",
       "      <td>business</td>\n",
       "      <td>Yukos accused of lying to court</td>\n",
       "      <td>http://www.it.kmitl.ac.th/~teerapong/news_arch...</td>\n",
       "      <td>article-dec-2095</td>\n",
       "      <td>Yukos accused of lying to court Russian oil fi...</td>\n",
       "    </tr>\n",
       "    <tr>\n",
       "      <th>1406</th>\n",
       "      <td>business</td>\n",
       "      <td>Yukos drops banks from court bid</td>\n",
       "      <td>http://www.it.kmitl.ac.th/~teerapong/news_arch...</td>\n",
       "      <td>article-dec-1351</td>\n",
       "      <td>Russian oil company Yukos has dropped the thre...</td>\n",
       "    </tr>\n",
       "    <tr>\n",
       "      <th>1407</th>\n",
       "      <td>sport</td>\n",
       "      <td>Zambia confident and cautious</td>\n",
       "      <td>http://www.it.kmitl.ac.th/~teerapong/news_arch...</td>\n",
       "      <td>article-dec-0068</td>\n",
       "      <td>Zambia's technical director, Kalusha Bwalya is...</td>\n",
       "    </tr>\n",
       "  </tbody>\n",
       "</table>\n",
       "<p>1408 rows × 5 columns</p>\n",
       "</div>"
      ],
      "text/plain": [
       "        category                                              title  \\\n",
       "0     technology  21st-Century Sports: How Digital Technology Is...   \n",
       "1       business                   Asian quake hits European shares   \n",
       "2     technology                     BT offers free net phone calls   \n",
       "3       business                  Barclays shares up on merger talk   \n",
       "4          sport                   Barkley fit for match in Ireland   \n",
       "...          ...                                                ...   \n",
       "1403       sport                    Woodward eyes Brennan for Lions   \n",
       "1404    business                  WorldCom trial starts in New York   \n",
       "1405    business                    Yukos accused of lying to court   \n",
       "1406    business                   Yukos drops banks from court bid   \n",
       "1407       sport                      Zambia confident and cautious   \n",
       "\n",
       "                                                   link                id  \\\n",
       "0     http://www.it.kmitl.ac.th/~teerapong/news_arch...  article-jan-0418   \n",
       "1     http://www.it.kmitl.ac.th/~teerapong/news_arch...  article-jan-0027   \n",
       "2     http://www.it.kmitl.ac.th/~teerapong/news_arch...  article-jan-0631   \n",
       "3     http://www.it.kmitl.ac.th/~teerapong/news_arch...  article-jan-2105   \n",
       "4     http://www.it.kmitl.ac.th/~teerapong/news_arch...  article-jan-3300   \n",
       "...                                                 ...               ...   \n",
       "1403  http://www.it.kmitl.ac.th/~teerapong/news_arch...  article-dec-2238   \n",
       "1404  http://www.it.kmitl.ac.th/~teerapong/news_arch...  article-dec-2334   \n",
       "1405  http://www.it.kmitl.ac.th/~teerapong/news_arch...  article-dec-2095   \n",
       "1406  http://www.it.kmitl.ac.th/~teerapong/news_arch...  article-dec-1351   \n",
       "1407  http://www.it.kmitl.ac.th/~teerapong/news_arch...  article-dec-0068   \n",
       "\n",
       "                                                content  \n",
       "0     The sporting industry has come a long way sinc...  \n",
       "1     Asian quake hits European shares Shares in Eur...  \n",
       "2     BT is offering customers free internet telepho...  \n",
       "3     Barclays shares up on merger talk Shares in UK...  \n",
       "4     England centre Olly Barkley has been passed fi...  \n",
       "...                                                 ...  \n",
       "1403  Woodward eyes Brennan for Lions Toulouse's for...  \n",
       "1404  The trial of Bernie Ebbers, former chief execu...  \n",
       "1405  Yukos accused of lying to court Russian oil fi...  \n",
       "1406  Russian oil company Yukos has dropped the thre...  \n",
       "1407  Zambia's technical director, Kalusha Bwalya is...  \n",
       "\n",
       "[1408 rows x 5 columns]"
      ]
     },
     "execution_count": 23,
     "metadata": {},
     "output_type": "execute_result"
    }
   ],
   "source": [
    "content = pd.Series(list_content) #แปลง list_content จาก list ให้เป็น pandas Series และเก็บไว้ในชื่อ content\n",
    "df = pd.concat([df, content], axis=1) #เอา content ที่เป็น pandas Series มารวมกับ df ที่มีอยู่แล้วในแนวคอลัมน์ (เอาคอลัมน์มาต่อกัน)\n",
    "df = df.rename(columns={0: \"content\"}) #rename ชื่อ column เพื่อให้สะดวกต่อการใช้งาน โดยจะเปลี่ยนชื่อเป็น content-เนื้อหาข่าว\n",
    "df"
   ]
  },
  {
   "cell_type": "markdown",
   "metadata": {},
   "source": [
    "## save DataFarame to csv/txt\n",
    "เพื่อให้ง่ายต่อการใช้ในภายหลัง"
   ]
  },
  {
   "cell_type": "code",
   "execution_count": 24,
   "metadata": {},
   "outputs": [],
   "source": [
    "df.to_csv('datastore/data.csv', index=False)"
   ]
  },
  {
   "cell_type": "code",
   "execution_count": 25,
   "metadata": {
    "scrolled": true
   },
   "outputs": [
    {
     "data": {
      "text/html": [
       "<div>\n",
       "<style scoped>\n",
       "    .dataframe tbody tr th:only-of-type {\n",
       "        vertical-align: middle;\n",
       "    }\n",
       "\n",
       "    .dataframe tbody tr th {\n",
       "        vertical-align: top;\n",
       "    }\n",
       "\n",
       "    .dataframe thead th {\n",
       "        text-align: right;\n",
       "    }\n",
       "</style>\n",
       "<table border=\"1\" class=\"dataframe\">\n",
       "  <thead>\n",
       "    <tr style=\"text-align: right;\">\n",
       "      <th></th>\n",
       "      <th>category</th>\n",
       "      <th>title</th>\n",
       "      <th>link</th>\n",
       "      <th>id</th>\n",
       "      <th>content</th>\n",
       "    </tr>\n",
       "  </thead>\n",
       "  <tbody>\n",
       "    <tr>\n",
       "      <th>0</th>\n",
       "      <td>technology</td>\n",
       "      <td>21st-Century Sports: How Digital Technology Is...</td>\n",
       "      <td>http://www.it.kmitl.ac.th/~teerapong/news_arch...</td>\n",
       "      <td>article-jan-0418</td>\n",
       "      <td>The sporting industry has come a long way sinc...</td>\n",
       "    </tr>\n",
       "    <tr>\n",
       "      <th>1</th>\n",
       "      <td>business</td>\n",
       "      <td>Asian quake hits European shares</td>\n",
       "      <td>http://www.it.kmitl.ac.th/~teerapong/news_arch...</td>\n",
       "      <td>article-jan-0027</td>\n",
       "      <td>Asian quake hits European shares Shares in Eur...</td>\n",
       "    </tr>\n",
       "    <tr>\n",
       "      <th>2</th>\n",
       "      <td>technology</td>\n",
       "      <td>BT offers free net phone calls</td>\n",
       "      <td>http://www.it.kmitl.ac.th/~teerapong/news_arch...</td>\n",
       "      <td>article-jan-0631</td>\n",
       "      <td>BT is offering customers free internet telepho...</td>\n",
       "    </tr>\n",
       "    <tr>\n",
       "      <th>3</th>\n",
       "      <td>business</td>\n",
       "      <td>Barclays shares up on merger talk</td>\n",
       "      <td>http://www.it.kmitl.ac.th/~teerapong/news_arch...</td>\n",
       "      <td>article-jan-2105</td>\n",
       "      <td>Barclays shares up on merger talk Shares in UK...</td>\n",
       "    </tr>\n",
       "    <tr>\n",
       "      <th>4</th>\n",
       "      <td>sport</td>\n",
       "      <td>Barkley fit for match in Ireland</td>\n",
       "      <td>http://www.it.kmitl.ac.th/~teerapong/news_arch...</td>\n",
       "      <td>article-jan-3300</td>\n",
       "      <td>England centre Olly Barkley has been passed fi...</td>\n",
       "    </tr>\n",
       "  </tbody>\n",
       "</table>\n",
       "</div>"
      ],
      "text/plain": [
       "     category                                              title  \\\n",
       "0  technology  21st-Century Sports: How Digital Technology Is...   \n",
       "1    business                   Asian quake hits European shares   \n",
       "2  technology                     BT offers free net phone calls   \n",
       "3    business                  Barclays shares up on merger talk   \n",
       "4       sport                   Barkley fit for match in Ireland   \n",
       "\n",
       "                                                link                id  \\\n",
       "0  http://www.it.kmitl.ac.th/~teerapong/news_arch...  article-jan-0418   \n",
       "1  http://www.it.kmitl.ac.th/~teerapong/news_arch...  article-jan-0027   \n",
       "2  http://www.it.kmitl.ac.th/~teerapong/news_arch...  article-jan-0631   \n",
       "3  http://www.it.kmitl.ac.th/~teerapong/news_arch...  article-jan-2105   \n",
       "4  http://www.it.kmitl.ac.th/~teerapong/news_arch...  article-jan-3300   \n",
       "\n",
       "                                             content  \n",
       "0  The sporting industry has come a long way sinc...  \n",
       "1  Asian quake hits European shares Shares in Eur...  \n",
       "2  BT is offering customers free internet telepho...  \n",
       "3  Barclays shares up on merger talk Shares in UK...  \n",
       "4  England centre Olly Barkley has been passed fi...  "
      ]
     },
     "execution_count": 25,
     "metadata": {},
     "output_type": "execute_result"
    }
   ],
   "source": [
    "df = pd.read_csv('datastore/data.csv')\n",
    "df.head()"
   ]
  },
  {
   "cell_type": "markdown",
   "metadata": {},
   "source": [
    "### คัดให้เหลือเฉพาะที่ใช้ในการวิเคราะห์\n",
    "- AllArticles_OnlyHeading\n",
    "- AllArticles_OnlyContent\n",
    "- AllArticles_HeadingPlusContent\n",
    "- Category"
   ]
  },
  {
   "cell_type": "code",
   "execution_count": 26,
   "metadata": {},
   "outputs": [],
   "source": [
    "AllArticles_OnlyHeading = df['title']\n",
    "AllArticles_OnlyContent = df['content']\n",
    "AllArticles_HeadingPlusContent = df[['title','content']]\n",
    "Category = df['category']"
   ]
  },
  {
   "cell_type": "markdown",
   "metadata": {},
   "source": [
    "**csv**\n",
    "\n",
    "save เป็นไฟล์ประเภท csv"
   ]
  },
  {
   "cell_type": "code",
   "execution_count": 27,
   "metadata": {},
   "outputs": [],
   "source": [
    "AllArticles_OnlyHeading.to_csv('datastore/AllArticles_OnlyHeading.csv', index=False)"
   ]
  },
  {
   "cell_type": "code",
   "execution_count": 28,
   "metadata": {},
   "outputs": [],
   "source": [
    "AllArticles_OnlyContent.to_csv('datastore/AllArticles_OnlyContent.csv', index=False)"
   ]
  },
  {
   "cell_type": "code",
   "execution_count": 29,
   "metadata": {},
   "outputs": [],
   "source": [
    "AllArticles_HeadingPlusContent.to_csv('datastore/AllArticles_HeadingPlusContent.csv', index=False)"
   ]
  },
  {
   "cell_type": "code",
   "execution_count": 30,
   "metadata": {},
   "outputs": [],
   "source": [
    "Category.to_csv('target/category.csv', index=False)"
   ]
  },
  {
   "cell_type": "markdown",
   "metadata": {},
   "source": [
    "**txt**\n",
    "\n",
    "save เป็นไฟล์ประเภท txt"
   ]
  },
  {
   "cell_type": "code",
   "execution_count": 31,
   "metadata": {},
   "outputs": [],
   "source": [
    "AllArticles_OnlyHeading.to_csv(r'datastore/AllArticles_OnlyHeading.txt', header=None, index=None, sep=' ', mode='a')"
   ]
  },
  {
   "cell_type": "code",
   "execution_count": 32,
   "metadata": {},
   "outputs": [],
   "source": [
    "AllArticles_OnlyContent.to_csv(r'datastore/AllArticles_OnlyContent.txt', header=None, index=None, sep=' ', mode='a')"
   ]
  },
  {
   "cell_type": "code",
   "execution_count": 33,
   "metadata": {},
   "outputs": [],
   "source": [
    "AllArticles_HeadingPlusContent.to_csv(r'datastore/AllArticles_HeadingPlusContent.txt', header=None, index=None, sep=' ', mode='a')"
   ]
  },
  {
   "cell_type": "code",
   "execution_count": 34,
   "metadata": {},
   "outputs": [],
   "source": [
    "Category.to_csv(r'target/category.txt', header=None, index=None, sep=' ', mode='a')"
   ]
  },
  {
   "cell_type": "code",
   "execution_count": null,
   "metadata": {},
   "outputs": [],
   "source": []
  },
  {
   "cell_type": "markdown",
   "metadata": {},
   "source": [
    "# Modeling\n",
    "ทำการ Tunning hyperparameter และหา Model ที่ดีที่สุดในการทำนาย\n",
    "\n",
    "- K-Nearest Neighbors\n",
    "- XGBoost\n",
    "- Random forest\n",
    "\n",
    "โหลดข้อมูลที่เคย save เก็บไว้\n",
    "\n",
    "- `AllArticles_OnlyContent.txt` คือข้อมูลที่มีเฉพาะเนื้อหาข่าวโดยจะเก็บข้อมูลในตัวแปร raw_documents\n",
    "- `target/category.txt` คือส่วนของ target หรือเฉลยว่าข่าวดังกล่าวอยู่ในประเภทอะไร"
   ]
  },
  {
   "cell_type": "code",
   "execution_count": 147,
   "metadata": {},
   "outputs": [
    {
     "name": "stdout",
     "output_type": "stream",
     "text": [
      "Read 1408 raw text documents\n"
     ]
    }
   ],
   "source": [
    "with open(\"datastore/AllArticles_OnlyContent.txt\",\"r\", encoding=\"utf8\") as f: #ตรวจสอบจำนวนบรรทัด\n",
    "    raw_documents = f.read().splitlines() #ใช้แยก string ที่จุดขึ้นบรรทัดใหม่คือ จุดที่มี '\\n' แล้วคืนค่ากลับมาเป็นข้อมูลประเภท list\n",
    "f.close() #ปิดไฟล์หลังใช้เสร็จ\n",
    "print(\"Read %d raw text documents\" % len(raw_documents)) #ตรวจสอบจำนวนบรรทัด"
   ]
  },
  {
   "cell_type": "code",
   "execution_count": 148,
   "metadata": {},
   "outputs": [
    {
     "data": {
      "text/plain": [
       "'\"The sporting industry has come a long way since the ‘60s. It has carved out for itself a niche with its roots so deep that I cannot fathom the sports industry showing any sign of decline any time soon - or later. The reason can be found in this seemingly subtle difference - other industries have customers; the sporting industry has fans. Vivek Ranadivé, leader of the ownership group of the NBA’s Sacramento Kings, explained it beautifully, “Fans will paint their face purple, fans will evangelize. ... Every other CEO in every business is dying to be in our position — they’re dying to have fans.“ While fan passion alone could almost certainly keep the industry going, leagues and sporting franchises have decided not to rest on their laurels. The last few years have seen the steady introduction of technology into the world of sports - amplifying fans’ appreciation of games, enhancing athletes’ public profiles and informing their training methods, even influencing how contests are waged. Also, digital technology in particular has helped to create an alternative source of revenue, besides the games themselves - corporate sponsorship. They achieved this by capitalizing on the ardor of their customer base - sorry, fan base.\"'"
      ]
     },
     "execution_count": 148,
     "metadata": {},
     "output_type": "execute_result"
    }
   ],
   "source": [
    "raw_documents[0] #เรียกดูข้อมูลตัวแรกที่อ่านมา"
   ]
  },
  {
   "cell_type": "code",
   "execution_count": 149,
   "metadata": {},
   "outputs": [
    {
     "name": "stdout",
     "output_type": "stream",
     "text": [
      "Read 1408\n"
     ]
    }
   ],
   "source": [
    "with open(\"target/category.txt\",\"r\", encoding=\"utf8\") as f: #ตรวจสอบจำนวนบรรทัด\n",
    "    y = f.read().splitlines() #ใช้แยก string ที่จุดขึ้นบรรทัดใหม่คือ จุดที่มี '\\n' แล้วคืนค่ากลับมาเป็นข้อมูลประเภท list\n",
    "f.close() #ปิดไฟล์หลังใช้เสร็จ\n",
    "print(\"Read %d\" % len(y)) #ตรวจสอบจำนวนบรรทัด"
   ]
  },
  {
   "cell_type": "markdown",
   "metadata": {},
   "source": [
    "## เช็คว่าข้อมูล imbalance ไหม"
   ]
  },
  {
   "cell_type": "code",
   "execution_count": 150,
   "metadata": {},
   "outputs": [
    {
     "data": {
      "text/html": [
       "<div>\n",
       "<style scoped>\n",
       "    .dataframe tbody tr th:only-of-type {\n",
       "        vertical-align: middle;\n",
       "    }\n",
       "\n",
       "    .dataframe tbody tr th {\n",
       "        vertical-align: top;\n",
       "    }\n",
       "\n",
       "    .dataframe thead th {\n",
       "        text-align: right;\n",
       "    }\n",
       "</style>\n",
       "<table border=\"1\" class=\"dataframe\">\n",
       "  <thead>\n",
       "    <tr style=\"text-align: right;\">\n",
       "      <th></th>\n",
       "      <th>news</th>\n",
       "      <th>target</th>\n",
       "    </tr>\n",
       "  </thead>\n",
       "  <tbody>\n",
       "    <tr>\n",
       "      <th>0</th>\n",
       "      <td>\"The sporting industry has come a long way sin...</td>\n",
       "      <td>technology</td>\n",
       "    </tr>\n",
       "    <tr>\n",
       "      <th>1</th>\n",
       "      <td>\"Asian quake hits European shares Shares in Eu...</td>\n",
       "      <td>business</td>\n",
       "    </tr>\n",
       "    <tr>\n",
       "      <th>2</th>\n",
       "      <td>\"BT is offering customers free internet teleph...</td>\n",
       "      <td>technology</td>\n",
       "    </tr>\n",
       "    <tr>\n",
       "      <th>3</th>\n",
       "      <td>\"Barclays shares up on merger talk Shares in U...</td>\n",
       "      <td>business</td>\n",
       "    </tr>\n",
       "    <tr>\n",
       "      <th>4</th>\n",
       "      <td>\"England centre Olly Barkley has been passed f...</td>\n",
       "      <td>sport</td>\n",
       "    </tr>\n",
       "    <tr>\n",
       "      <th>...</th>\n",
       "      <td>...</td>\n",
       "      <td>...</td>\n",
       "    </tr>\n",
       "    <tr>\n",
       "      <th>1403</th>\n",
       "      <td>\"Woodward eyes Brennan for Lions Toulouse's fo...</td>\n",
       "      <td>sport</td>\n",
       "    </tr>\n",
       "    <tr>\n",
       "      <th>1404</th>\n",
       "      <td>\"The trial of Bernie Ebbers, former chief exec...</td>\n",
       "      <td>business</td>\n",
       "    </tr>\n",
       "    <tr>\n",
       "      <th>1405</th>\n",
       "      <td>\"Yukos accused of lying to court Russian oil f...</td>\n",
       "      <td>business</td>\n",
       "    </tr>\n",
       "    <tr>\n",
       "      <th>1406</th>\n",
       "      <td>\"Russian oil company Yukos has dropped the thr...</td>\n",
       "      <td>business</td>\n",
       "    </tr>\n",
       "    <tr>\n",
       "      <th>1407</th>\n",
       "      <td>\"Zambia's technical director, Kalusha Bwalya i...</td>\n",
       "      <td>sport</td>\n",
       "    </tr>\n",
       "  </tbody>\n",
       "</table>\n",
       "<p>1408 rows × 2 columns</p>\n",
       "</div>"
      ],
      "text/plain": [
       "                                                   news      target\n",
       "0     \"The sporting industry has come a long way sin...  technology\n",
       "1     \"Asian quake hits European shares Shares in Eu...    business\n",
       "2     \"BT is offering customers free internet teleph...  technology\n",
       "3     \"Barclays shares up on merger talk Shares in U...    business\n",
       "4     \"England centre Olly Barkley has been passed f...       sport\n",
       "...                                                 ...         ...\n",
       "1403  \"Woodward eyes Brennan for Lions Toulouse's fo...       sport\n",
       "1404  \"The trial of Bernie Ebbers, former chief exec...    business\n",
       "1405  \"Yukos accused of lying to court Russian oil f...    business\n",
       "1406  \"Russian oil company Yukos has dropped the thr...    business\n",
       "1407  \"Zambia's technical director, Kalusha Bwalya i...       sport\n",
       "\n",
       "[1408 rows x 2 columns]"
      ]
     },
     "execution_count": 150,
     "metadata": {},
     "output_type": "execute_result"
    }
   ],
   "source": [
    "#สร้าง dataframe จากข้อมูลที่ดึงเข้ามา\n",
    "all_data = pd.DataFrame(list(zip(raw_documents, y)), \n",
    "               columns =['news', 'target'])\n",
    "all_data"
   ]
  },
  {
   "cell_type": "code",
   "execution_count": 151,
   "metadata": {},
   "outputs": [
    {
     "data": {
      "text/plain": [
       "sport         526\n",
       "business      491\n",
       "technology    391\n",
       "Name: target, dtype: int64"
      ]
     },
     "execution_count": 151,
     "metadata": {},
     "output_type": "execute_result"
    }
   ],
   "source": [
    "#นับจำนวนแต่ละ target แล้วเก็บไว้ที่ตัวแปร y_axis\n",
    "y_axis = all_data['target'].value_counts()\n",
    "y_axis"
   ]
  },
  {
   "cell_type": "code",
   "execution_count": 152,
   "metadata": {},
   "outputs": [
    {
     "data": {
      "text/plain": [
       "array(['technology', 'business', 'sport'], dtype=object)"
      ]
     },
     "execution_count": 152,
     "metadata": {},
     "output_type": "execute_result"
    }
   ],
   "source": [
    "#เก็บ target ไว้ที่ตัวแปร x_axis\n",
    "x_axis = all_data['target'].unique()\n",
    "x_axis"
   ]
  },
  {
   "cell_type": "code",
   "execution_count": 153,
   "metadata": {},
   "outputs": [
    {
     "data": {
      "text/plain": [
       "<BarContainer object of 3 artists>"
      ]
     },
     "execution_count": 153,
     "metadata": {},
     "output_type": "execute_result"
    },
    {
     "data": {
      "image/png": "[encoded data removed]",
      "text/plain": [
       "<Figure size 432x288 with 1 Axes>"
      ]
     },
     "metadata": {
      "needs_background": "light"
     },
     "output_type": "display_data"
    }
   ],
   "source": [
    "#plot กราฟเพื่อดูว่าข้อมูล imbalance ไหม\n",
    "plt.bar(x_axis, y_axis)"
   ]
  },
  {
   "cell_type": "markdown",
   "metadata": {},
   "source": [
    "ข้อมูลไม่ imbalance สามารถเอาไปใช้ได้ปกติ ไม่ต้องทำ upsampling หรือ downsampling"
   ]
  },
  {
   "cell_type": "markdown",
   "metadata": {},
   "source": [
    "### Text preprocessing\n",
    "สร้าง function ที่ต้องใช้ในการทำ preprocessing"
   ]
  },
  {
   "cell_type": "code",
   "execution_count": 154,
   "metadata": {},
   "outputs": [],
   "source": [
    "X_train, X_test, y_train, y_test = train_test_split(raw_documents, y, test_size=0.2, random_state=42) \n",
    "#แบ่งข้อมูลเป็น 2 ส่วน train 80% test 20%"
   ]
  },
  {
   "cell_type": "code",
   "execution_count": 155,
   "metadata": {},
   "outputs": [],
   "source": [
    "# Tokenizer and WordNet Lemmatizer with POS (part of speech)\n",
    "def lemma_tokenizer_w_pos_tag(text):\n",
    "\n",
    "    def convert_tags(tag):\n",
    "        #แปลง tag ที่เป็น vbd vbg vbz ให้เป็น v\n",
    "        if tag == 'vbd' or tag == 'vbg' or tag == 'vbz':\n",
    "            return 'v'\n",
    "        #นอกเหนือจากเงื่อนไขช้างบนให้เป็น n\n",
    "        else: \n",
    "            return 'n'\n",
    "\n",
    "    standard_tokenizer = CountVectorizer().build_tokenizer() #สร้างตัวที่ใช้แยก text (string) ที่เข้ามาออกเป็น tokens\n",
    "    tokens = standard_tokenizer(text) #แยก text (string) ที่เข้ามาออกเป็น tokens\n",
    "    tokens_with_pos_tag = nltk.pos_tag(tokens) #ติด pos_tag ให้กับแต่ละ token\n",
    "\n",
    "    lemmatizer = nltk.WordNetLemmatizer() #สร้างตัวที่ใช้แปลงรูปของคำให้อยู่รูปฟอร์มพื้นฐาน (รากคำ)\n",
    "    lemma_tokens = [] #สร้าง list ชื่อ lemma_tokens เพื่อรอเก็บคำหลังจากแปลงด้วย pos_tag อันใหม่\n",
    "    for token in tokens_with_pos_tag: #วน for loop ในตัวแปร tokens_with_pos_tag\n",
    "        new_tag = convert_tags(token[1].lower())\n",
    "        '''token[1] คือ pos_tag ที่เพิ่มเข้ามาเมื่อผ่านบรรทัดที่ 12 ( nltk.pos_tag(tokens) ) ใช้ .lower() เพื่อปรับให้เป็นตัวเล็ก\n",
    "        แล้วจึงทำการส่งไปที่ function convert_tags() เพื่อแปลงให้เหลือแค่ 2 แบบคือถ้าเป็น \n",
    "        VBD verb: past tense took,\n",
    "        VBG verb: gerund/present participle taking,\n",
    "        VBZ verb: 3rd person sing. present takes\n",
    "        จะแปลงให้เหลือแค่ v นอกเหนือจากนั้นจะแปลงเป็น n ทั้งหมด\n",
    "        ซึ่ง pos_tag ที่ได้มาใหม่จะเก็บไว้ในตัวแปร new_tag'''\n",
    "        \n",
    "        lemma_tokens.append(lemmatizer.lemmatize(token[0], new_tag))\n",
    "        '''จะนำ pos_tag ใหม่ที่ได้มาใช้กับ token[0] หรือคำที่ตอนบรรทัดที่ 12 เพื่อแปลงให้อยู่ในรูปของ pos_tag อันใหม่\n",
    "        เช่น token[0] = amplifying, new_tag = v ผลลัพธ์ที่ได้คือ amplify แล้วจะเอาผลลัพธ์เพิ่มเข้าไปใน list ชื่อ lemma_tokens''' \n",
    "    \n",
    "    return lemma_tokens"
   ]
  },
  {
   "cell_type": "markdown",
   "metadata": {},
   "source": [
    "ตัวอย่างเมื่อเอาคำเข้าไปใน function lemma_tokenizer_w_pos_tag()"
   ]
  },
  {
   "cell_type": "code",
   "execution_count": 156,
   "metadata": {},
   "outputs": [
    {
     "data": {
      "text/plain": [
       "['amplify']"
      ]
     },
     "execution_count": 156,
     "metadata": {},
     "output_type": "execute_result"
    }
   ],
   "source": [
    "lemma_tokenizer_w_pos_tag('amplifying')"
   ]
  },
  {
   "cell_type": "code",
   "execution_count": 324,
   "metadata": {},
   "outputs": [],
   "source": [
    "#ใช้ TfidfVectorizer() แทน CountVectorizer() และ TfidfTransformer()\n",
    "#default ของ analyzer คือ word, กำจัด stop_words\n",
    "non_weight = TfidfVectorizer(stop_words=\"english\",min_df = 0,tokenizer=lemma_tokenizer_w_pos_tag)"
   ]
  },
  {
   "cell_type": "code",
   "execution_count": 325,
   "metadata": {},
   "outputs": [],
   "source": [
    "#Term weighting ใน Scikit-learn เราสามารถสร้างที่ TF-IDF weighted document-term matrix โดยใช้ TfidfVectorizer() แทน CountVectorizer()\n",
    "#default ของ analyzer คือ word, กำจัด stop_words\n",
    "weight = TfidfVectorizer(analyzer='word', ngram_range=(1,3),\n",
    "                     min_df = 0, stop_words = 'english', sublinear_tf=True, lowercase=True)"
   ]
  },
  {
   "cell_type": "markdown",
   "metadata": {},
   "source": [
    "---"
   ]
  },
  {
   "cell_type": "markdown",
   "metadata": {},
   "source": [
    "สร้าง dict ชื่อ accuracy_dict เพื่อใช้เก็บค่า accuracy ของแต่ละ model"
   ]
  },
  {
   "cell_type": "code",
   "execution_count": 239,
   "metadata": {},
   "outputs": [],
   "source": [
    "accuracy_dict = dict() #สร้าง dict ชื่อ accuracy_dict เพื่อรอรับค่า accuracy"
   ]
  },
  {
   "cell_type": "code",
   "execution_count": null,
   "metadata": {},
   "outputs": [],
   "source": []
  },
  {
   "cell_type": "code",
   "execution_count": 160,
   "metadata": {},
   "outputs": [],
   "source": [
    "non_weight_raw_documents = non_weight.fit_transform(raw_documents)"
   ]
  },
  {
   "cell_type": "code",
   "execution_count": 161,
   "metadata": {},
   "outputs": [],
   "source": [
    "weight_raw_documents = weight.fit_transform(raw_documents)"
   ]
  },
  {
   "cell_type": "markdown",
   "metadata": {},
   "source": [
    "# GridSearchCV Function"
   ]
  },
  {
   "cell_type": "code",
   "execution_count": 184,
   "metadata": {},
   "outputs": [],
   "source": [
    "def tuning_params(model, params):\n",
    "    folds = 3 #กำหนด fold ที่จะใช้ในการทำ K-fold\n",
    "    skf = StratifiedKFold(n_splits=folds, shuffle = True, random_state = 1001) #ทำการกำหนดเครื่องมือ K-fold ว่าจะใช้ 5 folds โดย StratifiedKFold เป็นการแบ่งข้อมูลรูปแบบหนึ่ง\n",
    "    #เอา Classifier, params ใส่ลงไปและ กำหนด cv ด้วย k-flod ที่เรากำหนดไว้ในตัวแปร skf\n",
    "    grid = GridSearchCV(model, params, verbose = 3, cv=skf.split(X_train,y_train), n_jobs = -1)\n",
    "    grid.fit(X_train, y_train) #เอา GridSearchCV มา fit กับ train set\n",
    "    return(grid.best_params_)"
   ]
  },
  {
   "cell_type": "markdown",
   "metadata": {},
   "source": [
    "## <font color='red'>K-Nearest Neighbors</font>\n",
    "ในการทำ Tunning parameter จะต้องกำหนด parameter ที่เราจะทำการวิเคราะห์เช่น knn จะต้องมีการกำหนดจำนวน k"
   ]
  },
  {
   "cell_type": "code",
   "execution_count": 240,
   "metadata": {},
   "outputs": [],
   "source": [
    "#ทำการกำหนด parameter ที่จะเอาไปวิเคราะห์ โดยค่าที่กำหนดไว้คือ parameter ของ knn\n",
    "params = { \n",
    "    'n_neighbors' : list(np.arange(1,50,2)), #ให้ทำการทดลองหา k ที่ดีที่สุดตั้ง 1-50 โดยขยับทีละ 2 เช่น 1, 3, 5, ...\n",
    "    'weights' : ['uniform', 'distance'], #weight function ที่ใช้ในการทำนาย\n",
    "    'metric' : ['euclidean', 'manhattan'] #คิดระยะหางด้วยวิธีไหน\n",
    "}"
   ]
  },
  {
   "cell_type": "markdown",
   "metadata": {},
   "source": [
    "### KNN Tunning parameter แบบไม่ weight\n",
    "ทำการแบ่ง data ออกเป็น 2 ส่วนคือ **train set** (X_train, y_train) กับ **test set** (X_test, y_test) โดยส่วน train set จะใช้ในการทำ Tunning parameter, Model selection และ Train model โดยการทำ Tunning parameter จะใช้ **GridSearchCV**, การทำ Model selection จะใช้ **cross_val_score** โดยเลือก model ที่มีค่า accuracy สูงที่สุด"
   ]
  },
  {
   "cell_type": "code",
   "execution_count": 246,
   "metadata": {},
   "outputs": [],
   "source": [
    "X_train, X_test, y_train, y_test = train_test_split(non_weight_raw_documents, y, test_size=0.2, random_state=42)\n",
    "#แบ่งข้อมูลเป็น 2 ส่วน train 80% test 20%"
   ]
  },
  {
   "cell_type": "markdown",
   "metadata": {},
   "source": [
    "เอาค่าทั้งหมดที่เรากำหนดไว้มาใส่ GridSearchCV"
   ]
  },
  {
   "cell_type": "code",
   "execution_count": 187,
   "metadata": {},
   "outputs": [],
   "source": [
    "knn_non_weight=KNeighborsClassifier()"
   ]
  },
  {
   "cell_type": "code",
   "execution_count": 188,
   "metadata": {
    "scrolled": false
   },
   "outputs": [
    {
     "name": "stdout",
     "output_type": "stream",
     "text": [
      "Fitting 3 folds for each of 100 candidates, totalling 300 fits\n"
     ]
    },
    {
     "name": "stderr",
     "output_type": "stream",
     "text": [
      "[Parallel(n_jobs=-1)]: Using backend LokyBackend with 12 concurrent workers.\n",
      "[Parallel(n_jobs=-1)]: Done   8 tasks      | elapsed:    1.0s\n",
      "[Parallel(n_jobs=-1)]: Done 152 tasks      | elapsed:    2.7s\n",
      "[Parallel(n_jobs=-1)]: Done 300 out of 300 | elapsed:    8.6s finished\n"
     ]
    },
    {
     "data": {
      "text/plain": [
       "{'metric': 'euclidean', 'n_neighbors': 37, 'weights': 'uniform'}"
      ]
     },
     "execution_count": 188,
     "metadata": {},
     "output_type": "execute_result"
    }
   ],
   "source": [
    "knn_non_weight_best_params = tuning_params(knn_non_weight, params)\n",
    "knn_non_weight_best_params"
   ]
  },
  {
   "cell_type": "markdown",
   "metadata": {},
   "source": [
    "### KNN แบบไม่ weight Best params\n",
    "นำ best parameter ที่หาได้มาใส่ที่ classifier"
   ]
  },
  {
   "cell_type": "markdown",
   "metadata": {},
   "source": [
    "ทำการ fit model กับ parameter ที่ดีที่สุดที่วิเคราะห์มาได้"
   ]
  },
  {
   "cell_type": "code",
   "execution_count": 247,
   "metadata": {},
   "outputs": [
    {
     "data": {
      "text/plain": [
       "KNeighborsClassifier(metric='euclidean', n_neighbors=37)"
      ]
     },
     "execution_count": 247,
     "metadata": {},
     "output_type": "execute_result"
    }
   ],
   "source": [
    "# กำหนด parameter ตามที่หาได้\n",
    "knn_non_weight.set_params(**knn_non_weight_best_params)\n",
    "knn_non_weight.fit(X_train, y_train)"
   ]
  },
  {
   "cell_type": "markdown",
   "metadata": {},
   "source": [
    "หา accuracy ด้วย cross_val_score"
   ]
  },
  {
   "cell_type": "code",
   "execution_count": 248,
   "metadata": {},
   "outputs": [
    {
     "name": "stdout",
     "output_type": "stream",
     "text": [
      "knn_non_weight model:  0.9733723135271809\n"
     ]
    }
   ],
   "source": [
    "#cross_val_score จะ return accuracy ออกมาเป็น list โดยจำนวน accuracy ที่ return กลับมาจะเท่ากับ cv ที่เรากำหนดไว้\n",
    "scores = cross_val_score(knn_non_weight, X_train, y_train, scoring=\"accuracy\", cv=10)\n",
    "print(\"knn_non_weight model: \",scores.mean()) #เอา list ของ accuracy มาหา mean"
   ]
  },
  {
   "cell_type": "code",
   "execution_count": 249,
   "metadata": {},
   "outputs": [],
   "source": [
    "#เพิ่ม accuracy ที่เฉลี่ยกันแล้วไปใน accuracy_dict ที่สร้างรอไว้ โดยให้ key เป็นชื่อ model และ value เป็น accuracy\n",
    "accuracy_dict['knn_non_weight'] = scores.mean()"
   ]
  },
  {
   "cell_type": "markdown",
   "metadata": {},
   "source": [
    "#### Test KNN แบบไม่ weight\n",
    "เอา model ที่ใช้ parameter ที่ดีที่สุดมา test กับ test set ที่แบ่งไว้ตอนแรก"
   ]
  },
  {
   "cell_type": "code",
   "execution_count": 250,
   "metadata": {},
   "outputs": [],
   "source": [
    "#นำ X_test มาทำนาย\n",
    "predicted = knn_non_weight.predict(X_test)"
   ]
  },
  {
   "cell_type": "code",
   "execution_count": 251,
   "metadata": {
    "scrolled": true
   },
   "outputs": [
    {
     "data": {
      "text/plain": [
       "0.9468085106382979"
      ]
     },
     "execution_count": 251,
     "metadata": {},
     "output_type": "execute_result"
    }
   ],
   "source": [
    "# หา accuracy โดยเอา เฉลยของ X_test มาเทียบกับ predicted หรือค่าที่ model เราทำนาย\n",
    "accuracy_score(y_test, predicted)"
   ]
  },
  {
   "cell_type": "code",
   "execution_count": null,
   "metadata": {},
   "outputs": [],
   "source": []
  },
  {
   "cell_type": "markdown",
   "metadata": {},
   "source": [
    "### KNN Tunning parameter แบบ weight"
   ]
  },
  {
   "cell_type": "code",
   "execution_count": 252,
   "metadata": {},
   "outputs": [],
   "source": [
    "X_train, X_test, y_train, y_test = train_test_split(weight_raw_documents, y, test_size=0.2, random_state=42)\n",
    "#แบ่งข้อมูลเป็น 2 ส่วน train 80% test 20%"
   ]
  },
  {
   "cell_type": "markdown",
   "metadata": {},
   "source": [
    "เอาค่าทั้งหมดที่เรากำหนดไว้มาใส่ GridSearchCV"
   ]
  },
  {
   "cell_type": "code",
   "execution_count": 195,
   "metadata": {},
   "outputs": [],
   "source": [
    "knn_weight=KNeighborsClassifier()"
   ]
  },
  {
   "cell_type": "code",
   "execution_count": 196,
   "metadata": {
    "scrolled": false
   },
   "outputs": [
    {
     "name": "stdout",
     "output_type": "stream",
     "text": [
      "Fitting 3 folds for each of 100 candidates, totalling 300 fits\n"
     ]
    },
    {
     "name": "stderr",
     "output_type": "stream",
     "text": [
      "[Parallel(n_jobs=-1)]: Using backend LokyBackend with 12 concurrent workers.\n",
      "[Parallel(n_jobs=-1)]: Done   8 tasks      | elapsed:    0.1s\n",
      "[Parallel(n_jobs=-1)]: Done 184 tasks      | elapsed:    6.7s\n",
      "[Parallel(n_jobs=-1)]: Done 300 out of 300 | elapsed:   17.7s finished\n"
     ]
    },
    {
     "data": {
      "text/plain": [
       "{'metric': 'euclidean', 'n_neighbors': 41, 'weights': 'uniform'}"
      ]
     },
     "execution_count": 196,
     "metadata": {},
     "output_type": "execute_result"
    }
   ],
   "source": [
    "knn_weight_best_params = tuning_params(knn_weight, params)\n",
    "knn_weight_best_params"
   ]
  },
  {
   "cell_type": "markdown",
   "metadata": {},
   "source": [
    "### KNN แบบweight Best params\n",
    "นำ best parameter ที่หาได้มาใส่ที่ classifier"
   ]
  },
  {
   "cell_type": "markdown",
   "metadata": {},
   "source": [
    "ทำการ fit model กับ parameter ที่ดีที่สุดที่วิเคราะห์มาได้"
   ]
  },
  {
   "cell_type": "code",
   "execution_count": 253,
   "metadata": {},
   "outputs": [
    {
     "data": {
      "text/plain": [
       "KNeighborsClassifier(metric='euclidean', n_neighbors=41)"
      ]
     },
     "execution_count": 253,
     "metadata": {},
     "output_type": "execute_result"
    }
   ],
   "source": [
    "# กำหนด parameter ตามที่หาได้\n",
    "knn_weight.set_params(**knn_weight_best_params)\n",
    "knn_weight.fit(X_train, y_train)"
   ]
  },
  {
   "cell_type": "markdown",
   "metadata": {},
   "source": [
    "หา accuracy ด้วย cross_val_score"
   ]
  },
  {
   "cell_type": "code",
   "execution_count": 254,
   "metadata": {},
   "outputs": [
    {
     "name": "stdout",
     "output_type": "stream",
     "text": [
      "knn_weight model:  0.9751422250316055\n"
     ]
    }
   ],
   "source": [
    "#cross_val_score จะ return accuracy ออกมาเป็น list โดยจำนวน accuracy ที่ return กลับมาจะเท่ากับ cv ที่เรากำหนดไว้\n",
    "scores = cross_val_score(knn_weight, X_train, y_train, scoring=\"accuracy\", cv=10)\n",
    "print(\"knn_weight model: \",scores.mean()) #เอา list ของ accuracy มาหา mean"
   ]
  },
  {
   "cell_type": "code",
   "execution_count": 255,
   "metadata": {},
   "outputs": [],
   "source": [
    "#เพิ่ม accuracy ที่เฉลี่ยกันแล้วไปใน accuracy_dict ที่สร้างรอไว้ โดยให้ key เป็นชื่อ model และ value เป็น accuracy\n",
    "accuracy_dict['knn_weight'] = scores.mean()"
   ]
  },
  {
   "cell_type": "markdown",
   "metadata": {},
   "source": [
    "#### Test KNN แบบ weight\n",
    "เอา model ที่ใช้ parameter ที่ดีที่สุดมา test กับ test set ที่แบ่งไว้ตอนแรก"
   ]
  },
  {
   "cell_type": "code",
   "execution_count": 256,
   "metadata": {},
   "outputs": [],
   "source": [
    "#นำ X_test มาทำนาย\n",
    "predicted = knn_weight.predict(X_test)"
   ]
  },
  {
   "cell_type": "code",
   "execution_count": 257,
   "metadata": {
    "scrolled": true
   },
   "outputs": [
    {
     "data": {
      "text/plain": [
       "0.9680851063829787"
      ]
     },
     "execution_count": 257,
     "metadata": {},
     "output_type": "execute_result"
    }
   ],
   "source": [
    "# หา accuracy โดยเอา เฉลยของ X_test มาเทียบกับ predicted หรือค่าที่ model เราทำนาย\n",
    "accuracy_score(y_test, predicted)"
   ]
  },
  {
   "cell_type": "markdown",
   "metadata": {},
   "source": [
    "---"
   ]
  },
  {
   "cell_type": "markdown",
   "metadata": {},
   "source": [
    "## <font color='red'>XGBoost</font>"
   ]
  },
  {
   "cell_type": "code",
   "execution_count": 202,
   "metadata": {},
   "outputs": [],
   "source": [
    "#ค่าที่กำหนดไว้คือ parameter ของ XGBoost\n",
    "params = {\n",
    "        'min_child_weight': [1, 5],\n",
    "        'gamma': [0.5, 1, 1.5],\n",
    "        'subsample': [0.6, 0.8, 1.0],\n",
    "        'colsample_bytree': [0.6, 0.8, 1.0],\n",
    "        'max_depth': [3, 4, 5]\n",
    "        }"
   ]
  },
  {
   "cell_type": "markdown",
   "metadata": {},
   "source": [
    "### XGBoost Tunning parameter แบบไม่ weight"
   ]
  },
  {
   "cell_type": "code",
   "execution_count": 258,
   "metadata": {},
   "outputs": [],
   "source": [
    "X_train, X_test, y_train, y_test = train_test_split(non_weight_raw_documents, y, test_size=0.2, random_state=42)\n",
    "#แบ่งข้อมูลเป็น 2 ส่วน train 80% test 20%"
   ]
  },
  {
   "cell_type": "markdown",
   "metadata": {},
   "source": [
    "เอาค่าทั้งหมดที่เรากำหนดไว้มาใส่ GridSearchCV"
   ]
  },
  {
   "cell_type": "code",
   "execution_count": 204,
   "metadata": {},
   "outputs": [],
   "source": [
    "import xgboost as xgb\n",
    "xgb_non_weight = xgb.XGBClassifier() #เรียกใช้ XGBoost"
   ]
  },
  {
   "cell_type": "code",
   "execution_count": 205,
   "metadata": {
    "scrolled": false
   },
   "outputs": [
    {
     "name": "stdout",
     "output_type": "stream",
     "text": [
      "Fitting 3 folds for each of 162 candidates, totalling 486 fits\n"
     ]
    },
    {
     "name": "stderr",
     "output_type": "stream",
     "text": [
      "[Parallel(n_jobs=-1)]: Using backend LokyBackend with 12 concurrent workers.\n",
      "[Parallel(n_jobs=-1)]: Done   8 tasks      | elapsed:    8.8s\n",
      "[Parallel(n_jobs=-1)]: Done 104 tasks      | elapsed:   51.0s\n",
      "[Parallel(n_jobs=-1)]: Done 264 tasks      | elapsed:  2.3min\n",
      "[Parallel(n_jobs=-1)]: Done 486 out of 486 | elapsed:  4.6min finished\n"
     ]
    },
    {
     "data": {
      "text/plain": [
       "{'colsample_bytree': 0.6,\n",
       " 'gamma': 0.5,\n",
       " 'max_depth': 5,\n",
       " 'min_child_weight': 1,\n",
       " 'subsample': 0.6}"
      ]
     },
     "execution_count": 205,
     "metadata": {},
     "output_type": "execute_result"
    }
   ],
   "source": [
    "xgb_non_weight_best_params = tuning_params(xgb_non_weight, params)\n",
    "xgb_non_weight_best_params"
   ]
  },
  {
   "cell_type": "markdown",
   "metadata": {},
   "source": [
    "### XGBoost แบบไม่ weight Best params\n",
    "นำ best parameter ที่หาได้มาใส่ที่ classifier"
   ]
  },
  {
   "cell_type": "markdown",
   "metadata": {},
   "source": [
    "ทำการ fit model กับ parameter ที่ดีที่สุดที่วิเคราะห์มาได้"
   ]
  },
  {
   "cell_type": "code",
   "execution_count": 259,
   "metadata": {},
   "outputs": [
    {
     "data": {
      "text/plain": [
       "XGBClassifier(base_score=0.5, booster='gbtree', colsample_bylevel=1,\n",
       "              colsample_bynode=1, colsample_bytree=0.6, gamma=0.5, gpu_id=-1,\n",
       "              importance_type='gain', interaction_constraints='',\n",
       "              learning_rate=0.300000012, max_delta_step=0, max_depth=5,\n",
       "              min_child_weight=1, missing=nan, monotone_constraints='()',\n",
       "              n_estimators=100, n_jobs=0, num_parallel_tree=1,\n",
       "              objective='multi:softprob', random_state=0, reg_alpha=0,\n",
       "              reg_lambda=1, scale_pos_weight=None, subsample=0.6,\n",
       "              tree_method='exact', validate_parameters=1, verbosity=None)"
      ]
     },
     "execution_count": 259,
     "metadata": {},
     "output_type": "execute_result"
    }
   ],
   "source": [
    "# กำหนด parameter ตามที่หาได้\n",
    "xgb_non_weight.set_params(**xgb_non_weight_best_params)\n",
    "xgb_non_weight.fit(X_train, y_train)"
   ]
  },
  {
   "cell_type": "markdown",
   "metadata": {},
   "source": [
    "หา accuracy ด้วย cross_val_score"
   ]
  },
  {
   "cell_type": "code",
   "execution_count": 260,
   "metadata": {},
   "outputs": [
    {
     "name": "stdout",
     "output_type": "stream",
     "text": [
      "xgb_non_weight model:  0.9671381163084705\n"
     ]
    }
   ],
   "source": [
    "#cross_val_score จะ return accuracy ออกมาเป็น list โดยจำนวน accuracy ที่ return กลับมาจะเท่ากับ cv ที่เรากำหนดไว้\n",
    "scores = cross_val_score(xgb_non_weight, X_train, y_train, scoring=\"accuracy\", cv=10)\n",
    "print(\"xgb_non_weight model: \",scores.mean()) #เอา list ของ accuracy มาหา mean"
   ]
  },
  {
   "cell_type": "code",
   "execution_count": 261,
   "metadata": {},
   "outputs": [],
   "source": [
    "#เพิ่ม accuracy ที่เฉลี่ยกันแล้วไปใน accuracy_dict ที่สร้างรอไว้ โดยให้ key เป็นชื่อ model และ value เป็น accuracy\n",
    "accuracy_dict['xgb_non_weight'] = scores.mean()"
   ]
  },
  {
   "cell_type": "markdown",
   "metadata": {},
   "source": [
    "#### Test XGBoost แบบไม่ weight\n",
    "เอา model ที่ใช้ parameter ที่ดีที่สุดมา test กับ test set ที่แบ่งไว้ตอนแรก"
   ]
  },
  {
   "cell_type": "code",
   "execution_count": 262,
   "metadata": {},
   "outputs": [],
   "source": [
    "#นำ X_test มาทำนาย\n",
    "predicted = xgb_non_weight.predict(X_test)"
   ]
  },
  {
   "cell_type": "code",
   "execution_count": 263,
   "metadata": {
    "scrolled": true
   },
   "outputs": [
    {
     "data": {
      "text/plain": [
       "0.9397163120567376"
      ]
     },
     "execution_count": 263,
     "metadata": {},
     "output_type": "execute_result"
    }
   ],
   "source": [
    "# หา accuracy โดยเอา เฉลยของ X_test มาเทียบกับ predicted หรือค่าที่ model เราทำนาย\n",
    "accuracy_score(y_test, predicted)"
   ]
  },
  {
   "cell_type": "markdown",
   "metadata": {},
   "source": [
    "### XGBoost Tunning parameter แบบ weight"
   ]
  },
  {
   "cell_type": "code",
   "execution_count": 264,
   "metadata": {},
   "outputs": [],
   "source": [
    "X_train, X_test, y_train, y_test = train_test_split(weight_raw_documents, y, test_size=0.2, random_state=42)\n",
    "#แบ่งข้อมูลเป็น 2 ส่วน train 80% test 20%"
   ]
  },
  {
   "cell_type": "markdown",
   "metadata": {},
   "source": [
    "เอาค่าทั้งหมดที่เรากำหนดไว้มาใส่ GridSearchCV"
   ]
  },
  {
   "cell_type": "code",
   "execution_count": 213,
   "metadata": {},
   "outputs": [],
   "source": [
    "import xgboost as xgb\n",
    "xgb_weight = xgb.XGBClassifier() #เรียกใช้ XGBoost"
   ]
  },
  {
   "cell_type": "code",
   "execution_count": 214,
   "metadata": {
    "scrolled": false
   },
   "outputs": [
    {
     "name": "stdout",
     "output_type": "stream",
     "text": [
      "Fitting 3 folds for each of 162 candidates, totalling 486 fits\n"
     ]
    },
    {
     "name": "stderr",
     "output_type": "stream",
     "text": [
      "[Parallel(n_jobs=-1)]: Using backend LokyBackend with 12 concurrent workers.\n",
      "[Parallel(n_jobs=-1)]: Done   8 tasks      | elapsed:  1.3min\n",
      "[Parallel(n_jobs=-1)]: Done 104 tasks      | elapsed: 13.2min\n",
      "[Parallel(n_jobs=-1)]: Done 264 tasks      | elapsed: 34.2min\n",
      "[Parallel(n_jobs=-1)]: Done 486 out of 486 | elapsed: 63.9min finished\n"
     ]
    },
    {
     "data": {
      "text/plain": [
       "{'colsample_bytree': 0.6,\n",
       " 'gamma': 1.5,\n",
       " 'max_depth': 3,\n",
       " 'min_child_weight': 1,\n",
       " 'subsample': 0.6}"
      ]
     },
     "execution_count": 214,
     "metadata": {},
     "output_type": "execute_result"
    }
   ],
   "source": [
    "xgb_weight_best_params = tuning_params(xgb_weight, params)\n",
    "xgb_weight_best_params"
   ]
  },
  {
   "cell_type": "markdown",
   "metadata": {},
   "source": [
    "### XGBoost แบบ weight Best params\n",
    "นำ best parameter ที่หาได้มาใส่ที่ classifier"
   ]
  },
  {
   "cell_type": "markdown",
   "metadata": {},
   "source": [
    "ทำการ fit model กับ parameter ที่ดีที่สุดที่วิเคราะห์มาได้"
   ]
  },
  {
   "cell_type": "code",
   "execution_count": 265,
   "metadata": {},
   "outputs": [
    {
     "data": {
      "text/plain": [
       "XGBClassifier(base_score=0.5, booster='gbtree', colsample_bylevel=1,\n",
       "              colsample_bynode=1, colsample_bytree=0.6, gamma=1.5, gpu_id=-1,\n",
       "              importance_type='gain', interaction_constraints='',\n",
       "              learning_rate=0.300000012, max_delta_step=0, max_depth=3,\n",
       "              min_child_weight=1, missing=nan, monotone_constraints='()',\n",
       "              n_estimators=100, n_jobs=0, num_parallel_tree=1,\n",
       "              objective='multi:softprob', random_state=0, reg_alpha=0,\n",
       "              reg_lambda=1, scale_pos_weight=None, subsample=0.6,\n",
       "              tree_method='exact', validate_parameters=1, verbosity=None)"
      ]
     },
     "execution_count": 265,
     "metadata": {},
     "output_type": "execute_result"
    }
   ],
   "source": [
    "# กำหนด parameter ตามที่หาได้\n",
    "xgb_weight.set_params(**xgb_weight_best_params)\n",
    "xgb_weight.fit(X_train, y_train)"
   ]
  },
  {
   "cell_type": "markdown",
   "metadata": {},
   "source": [
    "หา accuracy ด้วย cross_val_score"
   ]
  },
  {
   "cell_type": "code",
   "execution_count": 266,
   "metadata": {},
   "outputs": [
    {
     "name": "stdout",
     "output_type": "stream",
     "text": [
      "xgb_weight model:  0.9626738305941845\n"
     ]
    }
   ],
   "source": [
    "#cross_val_score จะ return accuracy ออกมาเป็น list โดยจำนวน accuracy ที่ return กลับมาจะเท่ากับ cv ที่เรากำหนดไว้\n",
    "scores = cross_val_score(xgb_weight, X_train, y_train, scoring=\"accuracy\", cv=10)\n",
    "print(\"xgb_weight model: \",scores.mean()) #เอา list ของ accuracy มาหา mean"
   ]
  },
  {
   "cell_type": "code",
   "execution_count": 267,
   "metadata": {},
   "outputs": [],
   "source": [
    "#เพิ่ม accuracy ที่เฉลี่ยกันแล้วไปใน accuracy_dict ที่สร้างรอไว้ โดยให้ key เป็นชื่อ model และ value เป็น accuracy\n",
    "accuracy_dict['xgb_weight'] = scores.mean()"
   ]
  },
  {
   "cell_type": "markdown",
   "metadata": {},
   "source": [
    "#### Test XGBoost แบบ weight\n",
    "เอา model ที่ใช้ parameter ที่ดีที่สุดมา test กับ test set ที่แบ่งไว้ตอนแรก"
   ]
  },
  {
   "cell_type": "code",
   "execution_count": 268,
   "metadata": {},
   "outputs": [],
   "source": [
    "#นำ X_test มาทำนาย\n",
    "predicted = xgb_weight.predict(X_test)"
   ]
  },
  {
   "cell_type": "code",
   "execution_count": 269,
   "metadata": {
    "scrolled": true
   },
   "outputs": [
    {
     "data": {
      "text/plain": [
       "0.9468085106382979"
      ]
     },
     "execution_count": 269,
     "metadata": {},
     "output_type": "execute_result"
    }
   ],
   "source": [
    "# หา accuracy โดยเอา เฉลยของ X_test มาเทียบกับ predicted หรือค่าที่ model เราทำนาย\n",
    "accuracy_score(y_test, predicted)"
   ]
  },
  {
   "cell_type": "markdown",
   "metadata": {},
   "source": [
    "---"
   ]
  },
  {
   "cell_type": "code",
   "execution_count": null,
   "metadata": {},
   "outputs": [],
   "source": []
  },
  {
   "cell_type": "markdown",
   "metadata": {},
   "source": [
    "## <font color='red'>Random forest</font>"
   ]
  },
  {
   "cell_type": "code",
   "execution_count": 271,
   "metadata": {},
   "outputs": [],
   "source": [
    "#ค่าที่กำหนดไว้คือ parameter ของ Random forest\n",
    "params = { \n",
    "    'n_estimators': [200, 500],\n",
    "    'max_features': ['auto', 'sqrt', 'log2'],\n",
    "    'max_depth' : [4,5,6,7,8],\n",
    "    'criterion' :['gini', 'entropy']\n",
    "}"
   ]
  },
  {
   "cell_type": "markdown",
   "metadata": {},
   "source": [
    "### Random forest Tunning parameter แบบไม่ weight"
   ]
  },
  {
   "cell_type": "code",
   "execution_count": 222,
   "metadata": {},
   "outputs": [],
   "source": [
    "X_train, X_test, y_train, y_test = train_test_split(non_weight_raw_documents, y, test_size=0.2, random_state=42)\n",
    "#แบ่งข้อมูลเป็น 2 ส่วน train 80% test 20%"
   ]
  },
  {
   "cell_type": "markdown",
   "metadata": {},
   "source": [
    "เอาค่าทั้งหมดที่เรากำหนดไว้มาใส่ GridSearchCV"
   ]
  },
  {
   "cell_type": "code",
   "execution_count": 223,
   "metadata": {},
   "outputs": [],
   "source": [
    "from sklearn.ensemble import RandomForestClassifier\n",
    "rf_non_weight = RandomForestClassifier() #เรียกใช้ Random Forest"
   ]
  },
  {
   "cell_type": "code",
   "execution_count": 224,
   "metadata": {
    "scrolled": false
   },
   "outputs": [
    {
     "name": "stdout",
     "output_type": "stream",
     "text": [
      "Fitting 3 folds for each of 60 candidates, totalling 180 fits\n"
     ]
    },
    {
     "name": "stderr",
     "output_type": "stream",
     "text": [
      "[Parallel(n_jobs=-1)]: Using backend LokyBackend with 12 concurrent workers.\n",
      "[Parallel(n_jobs=-1)]: Done   8 tasks      | elapsed:    2.0s\n",
      "[Parallel(n_jobs=-1)]: Done 104 tasks      | elapsed:   10.6s\n",
      "[Parallel(n_jobs=-1)]: Done 180 out of 180 | elapsed:   17.9s finished\n"
     ]
    },
    {
     "data": {
      "text/plain": [
       "{'criterion': 'gini',\n",
       " 'max_depth': 8,\n",
       " 'max_features': 'auto',\n",
       " 'n_estimators': 500}"
      ]
     },
     "execution_count": 224,
     "metadata": {},
     "output_type": "execute_result"
    }
   ],
   "source": [
    "rf_non_weight_best_params = tuning_params(rf_non_weight, params)\n",
    "rf_non_weight_best_params"
   ]
  },
  {
   "cell_type": "markdown",
   "metadata": {},
   "source": [
    "### Random forest แบบไม่ weight Best params\n",
    "นำ best parameter ที่หาได้มาใส่ที่ classifier"
   ]
  },
  {
   "cell_type": "markdown",
   "metadata": {},
   "source": [
    "ทำการ fit model กับ parameter ที่ดีที่สุดที่วิเคราะห์มาได้"
   ]
  },
  {
   "cell_type": "code",
   "execution_count": 272,
   "metadata": {},
   "outputs": [
    {
     "data": {
      "text/plain": [
       "RandomForestClassifier(max_depth=8, n_estimators=500)"
      ]
     },
     "execution_count": 272,
     "metadata": {},
     "output_type": "execute_result"
    }
   ],
   "source": [
    "# กำหนด parameter ตามที่หาได้\n",
    "rf_non_weight.set_params(**rf_non_weight_best_params)\n",
    "rf_non_weight.fit(X_train, y_train)"
   ]
  },
  {
   "cell_type": "markdown",
   "metadata": {},
   "source": [
    "หา accuracy ด้วย cross_val_score"
   ]
  },
  {
   "cell_type": "code",
   "execution_count": 273,
   "metadata": {},
   "outputs": [
    {
     "name": "stdout",
     "output_type": "stream",
     "text": [
      "rf_non_weight model:  0.9405420353982301\n"
     ]
    }
   ],
   "source": [
    "#cross_val_score จะ return accuracy ออกมาเป็น list โดยจำนวน accuracy ที่ return กลับมาจะเท่ากับ cv ที่เรากำหนดไว้\n",
    "scores = cross_val_score(rf_non_weight, X_train, y_train, scoring=\"accuracy\", cv=10)\n",
    "print(\"rf_non_weight model: \",scores.mean()) #เอา list ของ accuracy มาหา mean"
   ]
  },
  {
   "cell_type": "code",
   "execution_count": 274,
   "metadata": {},
   "outputs": [],
   "source": [
    "#เพิ่ม accuracy ที่เฉลี่ยกันแล้วไปใน accuracy_dict ที่สร้างรอไว้ โดยให้ key เป็นชื่อ model และ value เป็น accuracy\n",
    "accuracy_dict['rf_non_weight'] = scores.mean()"
   ]
  },
  {
   "cell_type": "markdown",
   "metadata": {},
   "source": [
    "#### Test Random forest แบบไม่ weight\n",
    "เอา model ที่ใช้ parameter ที่ดีที่สุดมา test กับ test set ที่แบ่งไว้ตอนแรก"
   ]
  },
  {
   "cell_type": "code",
   "execution_count": 275,
   "metadata": {},
   "outputs": [],
   "source": [
    "#นำ X_test มาทำนาย\n",
    "predicted = rf_non_weight.predict(X_test)"
   ]
  },
  {
   "cell_type": "code",
   "execution_count": 276,
   "metadata": {
    "scrolled": true
   },
   "outputs": [
    {
     "data": {
      "text/plain": [
       "0.9148936170212766"
      ]
     },
     "execution_count": 276,
     "metadata": {},
     "output_type": "execute_result"
    }
   ],
   "source": [
    "# หา accuracy โดยเอา เฉลยของ X_test มาเทียบกับ predicted หรือค่าที่ model เราทำนาย\n",
    "accuracy_score(y_test, predicted)"
   ]
  },
  {
   "cell_type": "markdown",
   "metadata": {},
   "source": [
    "### Random forest Tunning parameter แบบ weight"
   ]
  },
  {
   "cell_type": "code",
   "execution_count": 277,
   "metadata": {},
   "outputs": [],
   "source": [
    "X_train, X_test, y_train, y_test = train_test_split(weight_raw_documents, y, test_size=0.2, random_state=42)\n",
    "#แบ่งข้อมูลเป็น 2 ส่วน train 80% test 20%"
   ]
  },
  {
   "cell_type": "markdown",
   "metadata": {},
   "source": [
    "เอาค่าทั้งหมดที่เรากำหนดไว้มาใส่ GridSearchCV"
   ]
  },
  {
   "cell_type": "code",
   "execution_count": 231,
   "metadata": {},
   "outputs": [],
   "source": [
    "from sklearn.ensemble import RandomForestClassifier\n",
    "rf_weight = RandomForestClassifier() #เรียกใช้ Random Forest"
   ]
  },
  {
   "cell_type": "code",
   "execution_count": 232,
   "metadata": {
    "scrolled": false
   },
   "outputs": [
    {
     "name": "stderr",
     "output_type": "stream",
     "text": [
      "[Parallel(n_jobs=-1)]: Using backend LokyBackend with 12 concurrent workers.\n"
     ]
    },
    {
     "name": "stdout",
     "output_type": "stream",
     "text": [
      "Fitting 3 folds for each of 60 candidates, totalling 180 fits\n"
     ]
    },
    {
     "name": "stderr",
     "output_type": "stream",
     "text": [
      "[Parallel(n_jobs=-1)]: Done   8 tasks      | elapsed:    7.7s\n",
      "[Parallel(n_jobs=-1)]: Done 104 tasks      | elapsed:  1.3min\n",
      "[Parallel(n_jobs=-1)]: Done 180 out of 180 | elapsed:  2.2min finished\n"
     ]
    },
    {
     "data": {
      "text/plain": [
       "{'criterion': 'gini',\n",
       " 'max_depth': 8,\n",
       " 'max_features': 'auto',\n",
       " 'n_estimators': 200}"
      ]
     },
     "execution_count": 232,
     "metadata": {},
     "output_type": "execute_result"
    }
   ],
   "source": [
    "rf_weight_best_params = tuning_params(rf_weight, params)\n",
    "rf_weight_best_params"
   ]
  },
  {
   "cell_type": "markdown",
   "metadata": {},
   "source": [
    "### Random forest แบบ weight Best params\n",
    "นำ best parameter ที่หาได้มาใส่ที่ classifier"
   ]
  },
  {
   "cell_type": "markdown",
   "metadata": {},
   "source": [
    "ทำการ fit model กับ parameter ที่ดีที่สุดที่วิเคราะห์มาได้"
   ]
  },
  {
   "cell_type": "code",
   "execution_count": 278,
   "metadata": {},
   "outputs": [
    {
     "data": {
      "text/plain": [
       "RandomForestClassifier(max_depth=8, n_estimators=200)"
      ]
     },
     "execution_count": 278,
     "metadata": {},
     "output_type": "execute_result"
    }
   ],
   "source": [
    "# กำหนด parameter ตามที่หาได้\n",
    "rf_weight.set_params(**rf_weight_best_params)\n",
    "rf_weight.fit(X_train, y_train)"
   ]
  },
  {
   "cell_type": "markdown",
   "metadata": {},
   "source": [
    "หา accuracy ด้วย cross_val_score"
   ]
  },
  {
   "cell_type": "code",
   "execution_count": 279,
   "metadata": {},
   "outputs": [
    {
     "name": "stdout",
     "output_type": "stream",
     "text": [
      "rf_weight model:  0.9298830594184577\n"
     ]
    }
   ],
   "source": [
    "#cross_val_score จะ return accuracy ออกมาเป็น list โดยจำนวน accuracy ที่ return กลับมาจะเท่ากับ cv ที่เรากำหนดไว้\n",
    "scores = cross_val_score(rf_weight, X_train, y_train, scoring=\"accuracy\", cv=10)\n",
    "print(\"rf_weight model: \",scores.mean()) #เอา list ของ accuracy มาหา mean"
   ]
  },
  {
   "cell_type": "code",
   "execution_count": 280,
   "metadata": {},
   "outputs": [],
   "source": [
    "#เพิ่ม accuracy ที่เฉลี่ยกันแล้วไปใน accuracy_dict ที่สร้างรอไว้ โดยให้ key เป็นชื่อ model และ value เป็น accuracy\n",
    "accuracy_dict['rf_weight'] = scores.mean()"
   ]
  },
  {
   "cell_type": "markdown",
   "metadata": {},
   "source": [
    "#### Test Random forest แบบ weight\n",
    "เอา model ที่ใช้ parameter ที่ดีที่สุดมา test กับ test set ที่แบ่งไว้ตอนแรก"
   ]
  },
  {
   "cell_type": "code",
   "execution_count": 281,
   "metadata": {},
   "outputs": [],
   "source": [
    "#นำ X_test มาทำนาย\n",
    "predicted = xgb_weight.predict(X_test)"
   ]
  },
  {
   "cell_type": "code",
   "execution_count": 282,
   "metadata": {
    "scrolled": true
   },
   "outputs": [
    {
     "data": {
      "text/plain": [
       "0.9468085106382979"
      ]
     },
     "execution_count": 282,
     "metadata": {},
     "output_type": "execute_result"
    }
   ],
   "source": [
    "# หา accuracy โดยเอา เฉลยของ X_test มาเทียบกับ predicted หรือค่าที่ model เราทำนาย\n",
    "accuracy_score(y_test, predicted)"
   ]
  },
  {
   "cell_type": "markdown",
   "metadata": {},
   "source": [
    "---"
   ]
  },
  {
   "cell_type": "markdown",
   "metadata": {},
   "source": [
    "# Conclusion\n",
    "หลังจากทำการทดสอบ model ทุกแบบแล้ว จึงนำ accuracy ที่ได้จาก cross_val_score มาเปรียบเทียบกัน"
   ]
  },
  {
   "cell_type": "code",
   "execution_count": 283,
   "metadata": {},
   "outputs": [
    {
     "data": {
      "text/plain": [
       "{'knn_non_weight': 0.9733723135271809,\n",
       " 'knn_weight': 0.9751422250316055,\n",
       " 'xgb_non_weight': 0.9671381163084705,\n",
       " 'xgb_weight': 0.9626738305941845,\n",
       " 'rf_non_weight': 0.9405420353982301,\n",
       " 'rf_weight': 0.9298830594184577}"
      ]
     },
     "execution_count": 283,
     "metadata": {},
     "output_type": "execute_result"
    }
   ],
   "source": [
    "accuracy_dict"
   ]
  },
  {
   "cell_type": "code",
   "execution_count": 284,
   "metadata": {},
   "outputs": [
    {
     "data": {
      "text/html": [
       "<div>\n",
       "<style scoped>\n",
       "    .dataframe tbody tr th:only-of-type {\n",
       "        vertical-align: middle;\n",
       "    }\n",
       "\n",
       "    .dataframe tbody tr th {\n",
       "        vertical-align: top;\n",
       "    }\n",
       "\n",
       "    .dataframe thead th {\n",
       "        text-align: right;\n",
       "    }\n",
       "</style>\n",
       "<table border=\"1\" class=\"dataframe\">\n",
       "  <thead>\n",
       "    <tr style=\"text-align: right;\">\n",
       "      <th></th>\n",
       "      <th>Model</th>\n",
       "      <th>Accuracy</th>\n",
       "    </tr>\n",
       "  </thead>\n",
       "  <tbody>\n",
       "    <tr>\n",
       "      <th>0</th>\n",
       "      <td>knn_non_weight</td>\n",
       "      <td>0.973372</td>\n",
       "    </tr>\n",
       "    <tr>\n",
       "      <th>1</th>\n",
       "      <td>knn_weight</td>\n",
       "      <td>0.975142</td>\n",
       "    </tr>\n",
       "    <tr>\n",
       "      <th>2</th>\n",
       "      <td>xgb_non_weight</td>\n",
       "      <td>0.967138</td>\n",
       "    </tr>\n",
       "    <tr>\n",
       "      <th>3</th>\n",
       "      <td>xgb_weight</td>\n",
       "      <td>0.962674</td>\n",
       "    </tr>\n",
       "    <tr>\n",
       "      <th>4</th>\n",
       "      <td>rf_non_weight</td>\n",
       "      <td>0.940542</td>\n",
       "    </tr>\n",
       "    <tr>\n",
       "      <th>5</th>\n",
       "      <td>rf_weight</td>\n",
       "      <td>0.929883</td>\n",
       "    </tr>\n",
       "  </tbody>\n",
       "</table>\n",
       "</div>"
      ],
      "text/plain": [
       "            Model  Accuracy\n",
       "0  knn_non_weight  0.973372\n",
       "1      knn_weight  0.975142\n",
       "2  xgb_non_weight  0.967138\n",
       "3      xgb_weight  0.962674\n",
       "4   rf_non_weight  0.940542\n",
       "5       rf_weight  0.929883"
      ]
     },
     "execution_count": 284,
     "metadata": {},
     "output_type": "execute_result"
    }
   ],
   "source": [
    "# นำ accuracy_dict มาแปลงเป็น DataFrame เพื่อให้ง่ายต่อการอ่านและเปรียบเทียบ\n",
    "accuracy_df = pd.DataFrame(list(accuracy_dict.items()),columns = ['Model','Accuracy'])\n",
    "accuracy_df"
   ]
  },
  {
   "cell_type": "code",
   "execution_count": 285,
   "metadata": {},
   "outputs": [],
   "source": [
    "#ทำการเรียงลำดับตามค่า Accuracy โดยเรียงจากมากไปน้อย\n",
    "accuracy_df = accuracy_df.sort_values(by=['Accuracy'], ascending=False)"
   ]
  },
  {
   "cell_type": "code",
   "execution_count": 304,
   "metadata": {},
   "outputs": [
    {
     "data": {
      "image/png": "[encoded data removed]",
      "text/plain": [
       "<Figure size 936x360 with 1 Axes>"
      ]
     },
     "metadata": {
      "needs_background": "light"
     },
     "output_type": "display_data"
    }
   ],
   "source": [
    "#ทำการ plot bar chart เพื่อให้ง่ายต่อการอ่านค่าและเปรียบเทียบ โดยกำหนดให้ take log เพื่อใช้ในการแสดงค่า\n",
    "plt.rcParams[\"figure.figsize\"] = (13,5)\n",
    "plt.bar(accuracy_df['Model'], accuracy_df['Accuracy'].round(4), log=True)\n",
    "plt.ylabel('Accuracy')\n",
    "plt.xlabel('Model');"
   ]
  },
  {
   "cell_type": "markdown",
   "metadata": {},
   "source": [
    "**สรุปผล**: Model KNN ที่ใช้วิธี Term weighting ให้ accuracy สูงที่สุด"
   ]
  },
  {
   "cell_type": "code",
   "execution_count": null,
   "metadata": {},
   "outputs": [],
   "source": []
  }
 ],
 "metadata": {
  "kernelspec": {
   "display_name": "Python 3",
   "language": "python",
   "name": "python3"
  },
  "language_info": {
   "codemirror_mode": {
    "name": "ipython",
    "version": 3
   },
   "file_extension": ".py",
   "mimetype": "text/x-python",
   "name": "python",
   "nbconvert_exporter": "python",
   "pygments_lexer": "ipython3",
   "version": "3.8.3"
  }
 },
 "nbformat": 4,
 "nbformat_minor": 4
}
