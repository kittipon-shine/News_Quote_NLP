{
 "cells": [
  {
   "cell_type": "markdown",
   "metadata": {},
   "source": [
    "# Assignment 2 - DS4Biz Y63\n",
    "## TextScraping_Classification\n",
    "***\n",
    "\n",
    "### Team Detail\n",
    "**Team Name**: sompinandsomshine   \n",
    "***\n",
    "### *Student 1*\n",
    "**Student ID**: 61070278   \n",
    "**Student Full Name**: นายกิตติภณ สุรุ่งเรืองสกุล\n",
    "***\n",
    "### *Student 2*\n",
    "**Student ID**: 61070330   \n",
    "**Student Full Name**: นางสาวอิงฟ้า ภูติวรนาถ\n",
    "***"
   ]
  },
  {
   "cell_type": "markdown",
   "metadata": {},
   "source": [
    "#### link: http://www.it.kmitl.ac.th/~teerapong/news_archive/index.html"
   ]
  },
  {
   "cell_type": "code",
   "execution_count": null,
   "metadata": {},
   "outputs": [],
   "source": []
  },
  {
   "cell_type": "markdown",
   "metadata": {},
   "source": [
    "# Data Collection"
   ]
  },
  {
   "cell_type": "code",
   "execution_count": 4,
   "metadata": {},
   "outputs": [],
   "source": [
    "import requests\n",
    "#https://requests.readthedocs.io/en/master/\n",
    "import bs4\n",
    "#https://www.crummy.com/software/BeautifulSoup/bs4/doc/\n",
    "\n",
    "import pandas as pd"
   ]
  },
  {
   "cell_type": "code",
   "execution_count": 2,
   "metadata": {
    "scrolled": true
   },
   "outputs": [
    {
     "name": "stdout",
     "output_type": "stream",
     "text": [
      "<Response [200]>\n",
      "<class 'requests.models.Response'>\n"
     ]
    }
   ],
   "source": [
    "response = requests.get('http://www.it.kmitl.ac.th/~teerapong/news_archive/index.html')\n",
    "print(response)\n",
    "print(type(response))"
   ]
  },
  {
   "cell_type": "code",
   "execution_count": 3,
   "metadata": {},
   "outputs": [
    {
     "name": "stdout",
     "output_type": "stream",
     "text": [
      "<!DOCTYPE html>\n",
      "\n",
      "<html lang=\"en\">\n",
      "<head>\n",
      "<title>Online News Archive</title>\n",
      "<meta charset=\"utf-8\"/>\n",
      "<meta content=\"width=device-width, initial-scale=1\" name=\"viewport\"/>\n",
      "<meta content=\"noindex\" name=\"robots\"/>\n",
      "<meta content=\"news,articles,news\" name=\"keywords\">\n",
      "<meta content=\"Breaking News | International Headlines\" property=\"og:title\"/>\n",
      "<meta content=\"News Archive\" property=\"og:site_name\"/>\n",
      "<meta content=\"Latest news and more from the definitive brand of quality news.\" property=\"og:description\"/>\n",
      "<link href=\"css/bootstrap.min.css\" rel=\"stylesheet\"/>\n",
      "<script src=\"js/jquery-3.2.1.slim.min.js\"></script>\n",
      "<script src=\"js/popper.min.js\"></script>\n",
      "<script src=\"js/tether.min.js\"></script>\n",
      "<script src=\"js/jquery-3.2.1.slim.min.js\"></script>\n",
      "<script src=\"js/popper.min.js\"></script>\n",
      "<script src=\"js/tether.min.js\"></script>\n",
      "<script src=\"js/bootstrap.min.js\"></script>\n",
      "<style>\n",
      "\t  \t\t.main{ padding: 0; text-align: center;}\n",
      "\t  \t\t.footer{ padding: 6px;text-align: center; margin-top: 1em; }\n",
      "\n",
      "\t  \t\th1\n",
      "\t  \t\t{\n",
      "\t  \t\t\tfont-size: 180%;\n",
      "\t  \t\t\tmargin-top: 15px;\n",
      "\t  \t\t\tmargin-bottom: 15px;\n",
      "\t  \t\t}\n",
      "\t  \t\tul {list-style-type: none;}\n",
      "\t  \t\tli { margin-top: 5px; }\n",
      "\t  </style>\n",
      "</meta></head>\n",
      "<body>\n",
      "<div class=\"container\" style=\"margin-top: 2em;\">\n",
      "<div class=\"main\">\n",
      "<img alt=\"banner\" src=\"images/banner.jpg\" width=\"500\"/>\n",
      "<h1>News Article Archive</h1>\n",
      "<p>Archive of all news headlines and stories, organised per month.</p>\n",
      "<ul>\n",
      "<li>Articles — <a href=\"month-jan-2017.html\">January</a> [118]</li>\n",
      "<li>Articles — <a href=\"month-feb-2017.html\">February</a> [124]</li>\n",
      "<li>Articles — <a href=\"month-mar-2017.html\">March</a> [116]</li>\n",
      "<li>Articles — <a href=\"month-apr-2017.html\">April</a> [118]</li>\n",
      "<li>Articles — <a href=\"month-may-2017.html\">May</a> [115]</li>\n",
      "<li>Articles — <a href=\"month-jun-2017.html\">June</a> [115]</li>\n",
      "<li>Articles — <a href=\"month-jul-2017.html\">July</a> [122]</li>\n",
      "<li>Articles — <a href=\"month-aug-2017.html\">August</a> [116]</li>\n",
      "<li>Articles — <a href=\"month-sep-2017.html\">September</a> [113]</li>\n",
      "<li>Articles — <a href=\"month-oct-2017.html\">October</a> [124]</li>\n",
      "<li>Articles — <a href=\"month-nov-2017.html\">November</a> [122]</li>\n",
      "<li>Articles — <a href=\"month-dec-2017.html\">December</a> [115]</li>\n",
      "</ul>\n",
      "</div>\n",
      "<div class=\"footer\">\n",
      "<span><a href=\"#\">Terms &amp; Conditions</a> | <a href=\"#\">Privacy Policy</a> | <a href=\"#\">Cookie Information</a> </span><br/>\n",
      "<span>© <span class=\"thisyear\">2019-2020</span> — Original rights holders</span>\n",
      "</div>\n",
      "</div>\n",
      "</body>\n",
      "</html>\n",
      "\n"
     ]
    }
   ],
   "source": [
    "html_page = bs4.BeautifulSoup(response.content, 'html.parser')\n",
    "print(html_page)"
   ]
  },
  {
   "cell_type": "code",
   "execution_count": 4,
   "metadata": {},
   "outputs": [
    {
     "data": {
      "text/plain": [
       "[<a href=\"month-jan-2017.html\">January</a>,\n",
       " <a href=\"month-feb-2017.html\">February</a>,\n",
       " <a href=\"month-mar-2017.html\">March</a>,\n",
       " <a href=\"month-apr-2017.html\">April</a>,\n",
       " <a href=\"month-may-2017.html\">May</a>,\n",
       " <a href=\"month-jun-2017.html\">June</a>,\n",
       " <a href=\"month-jul-2017.html\">July</a>,\n",
       " <a href=\"month-aug-2017.html\">August</a>,\n",
       " <a href=\"month-sep-2017.html\">September</a>,\n",
       " <a href=\"month-oct-2017.html\">October</a>,\n",
       " <a href=\"month-nov-2017.html\">November</a>,\n",
       " <a href=\"month-dec-2017.html\">December</a>]"
      ]
     },
     "execution_count": 4,
     "metadata": {},
     "output_type": "execute_result"
    }
   ],
   "source": [
    "# nested elements\n",
    "selector = 'body > div > div.main > ul > li> a'\n",
    "tags = html_page.select(selector)\n",
    "tags"
   ]
  },
  {
   "cell_type": "code",
   "execution_count": 5,
   "metadata": {},
   "outputs": [
    {
     "data": {
      "text/plain": [
       "['http://www.it.kmitl.ac.th/~teerapong/news_archive/month-jan-2017.html',\n",
       " 'http://www.it.kmitl.ac.th/~teerapong/news_archive/month-feb-2017.html',\n",
       " 'http://www.it.kmitl.ac.th/~teerapong/news_archive/month-mar-2017.html',\n",
       " 'http://www.it.kmitl.ac.th/~teerapong/news_archive/month-apr-2017.html',\n",
       " 'http://www.it.kmitl.ac.th/~teerapong/news_archive/month-may-2017.html',\n",
       " 'http://www.it.kmitl.ac.th/~teerapong/news_archive/month-jun-2017.html',\n",
       " 'http://www.it.kmitl.ac.th/~teerapong/news_archive/month-jul-2017.html',\n",
       " 'http://www.it.kmitl.ac.th/~teerapong/news_archive/month-aug-2017.html',\n",
       " 'http://www.it.kmitl.ac.th/~teerapong/news_archive/month-sep-2017.html',\n",
       " 'http://www.it.kmitl.ac.th/~teerapong/news_archive/month-oct-2017.html',\n",
       " 'http://www.it.kmitl.ac.th/~teerapong/news_archive/month-nov-2017.html',\n",
       " 'http://www.it.kmitl.ac.th/~teerapong/news_archive/month-dec-2017.html']"
      ]
     },
     "execution_count": 5,
     "metadata": {},
     "output_type": "execute_result"
    }
   ],
   "source": [
    "list_archive = []\n",
    "for tag in tags:\n",
    "    list_archive.append('http://www.it.kmitl.ac.th/~teerapong/news_archive/' + tag['href'])\n",
    "list_archive"
   ]
  },
  {
   "cell_type": "markdown",
   "metadata": {},
   "source": [
    "### Create DataFrame"
   ]
  },
  {
   "cell_type": "code",
   "execution_count": 6,
   "metadata": {},
   "outputs": [
    {
     "data": {
      "text/html": [
       "<div>\n",
       "<style scoped>\n",
       "    .dataframe tbody tr th:only-of-type {\n",
       "        vertical-align: middle;\n",
       "    }\n",
       "\n",
       "    .dataframe tbody tr th {\n",
       "        vertical-align: top;\n",
       "    }\n",
       "\n",
       "    .dataframe thead th {\n",
       "        text-align: right;\n",
       "    }\n",
       "</style>\n",
       "<table border=\"1\" class=\"dataframe\">\n",
       "  <thead>\n",
       "    <tr style=\"text-align: right;\">\n",
       "      <th></th>\n",
       "      <th>category</th>\n",
       "      <th>title</th>\n",
       "      <th>link</th>\n",
       "    </tr>\n",
       "  </thead>\n",
       "  <tbody>\n",
       "  </tbody>\n",
       "</table>\n",
       "</div>"
      ],
      "text/plain": [
       "Empty DataFrame\n",
       "Columns: [category, title, link]\n",
       "Index: []"
      ]
     },
     "execution_count": 6,
     "metadata": {},
     "output_type": "execute_result"
    }
   ],
   "source": [
    "df = pd.DataFrame(columns=['category', 'title', 'link'])\n",
    "df"
   ]
  },
  {
   "cell_type": "markdown",
   "metadata": {},
   "source": [
    "### Create function"
   ]
  },
  {
   "cell_type": "code",
   "execution_count": 7,
   "metadata": {},
   "outputs": [],
   "source": [
    "def extract_category(html_page):\n",
    "    selector = 'body > div > div.main > table > tbody > tr> td.category'\n",
    "    tags = html_page.select(selector)\n",
    "    category = []\n",
    "\n",
    "    for tag in tags:\n",
    "        if tag.text.strip() != 'N/A':\n",
    "#             print(tag.text.strip())\n",
    "            category.append(tag.text.strip())\n",
    "\n",
    "    return category"
   ]
  },
  {
   "cell_type": "code",
   "execution_count": 8,
   "metadata": {},
   "outputs": [],
   "source": [
    "def extract_title(html_page):\n",
    "    selector = 'body > div > div.main > table > tbody > tr > td.title > a'\n",
    "    tags = html_page.select(selector)\n",
    "    title = []\n",
    "    \n",
    "    for tag in tags:\n",
    "        title.append(tag.text.strip())\n",
    "        \n",
    "    return title"
   ]
  },
  {
   "cell_type": "code",
   "execution_count": 9,
   "metadata": {},
   "outputs": [],
   "source": [
    "def extract_link_title(html_page):\n",
    "    selector = 'body > div > div.main > table > tbody > tr > td.title > a'\n",
    "    tags = html_page.select(selector)\n",
    "    link_title = []\n",
    "    \n",
    "    for tag in tags:    \n",
    "        link_title.append('http://www.it.kmitl.ac.th/~teerapong/news_archive/' + tag['href'])\n",
    "        \n",
    "    return link_title"
   ]
  },
  {
   "cell_type": "code",
   "execution_count": 10,
   "metadata": {},
   "outputs": [],
   "source": [
    "def extract_month(html_page):\n",
    "    selector = 'body > div > div.main > h1'\n",
    "    tag = html_page.select_one(selector)\n",
    "    month = tag.text.split()[-1]\n",
    "    return month"
   ]
  },
  {
   "cell_type": "code",
   "execution_count": 11,
   "metadata": {},
   "outputs": [],
   "source": [
    "url = 'http://www.it.kmitl.ac.th/~teerapong/news_archive/month-jan-2017.html'\n",
    "response = requests.get(url)\n",
    "html_page = bs4.BeautifulSoup(response.content, 'html.parser')\n",
    "# extract_category(html_page)\n",
    "# extract_title(html_page)\n",
    "# extract_link_title(html_page)\n",
    "# extract_month(html_page)"
   ]
  },
  {
   "cell_type": "code",
   "execution_count": 12,
   "metadata": {},
   "outputs": [],
   "source": [
    "# ['Jan']*118"
   ]
  },
  {
   "cell_type": "code",
   "execution_count": 13,
   "metadata": {},
   "outputs": [],
   "source": [
    "def extract_news_archive_info(url):\n",
    "    response = requests.get(url)\n",
    "    html_page = bs4.BeautifulSoup(response.content, 'html.parser')\n",
    "    \n",
    "    category = extract_category(html_page)\n",
    "    title = extract_title(html_page)\n",
    "    link_title = extract_link_title(html_page)\n",
    "    month = extract_month(html_page)\n",
    "    \n",
    "#     news_archive_dict = {\n",
    "#         'Article Category': category,\n",
    "#         'Article Title': title,\n",
    "#         'Article link': link_title\n",
    "#     }\n",
    "\n",
    "    news_archive_list = [category,\n",
    "            title,\n",
    "            link_title\n",
    "                        ]\n",
    "    \n",
    "#     return news_archive_list\n",
    "    category = pd.Series(news_archive_list[0])\n",
    "    title = pd.Series(news_archive_list[1])\n",
    "    link_title = pd.Series(news_archive_list[2])\n",
    "    month_series = pd.Series([month]*len(category))\n",
    "    \n",
    "    result = pd.concat([category, title, link_title, month_series], axis=1)\n",
    "    result = result.rename(columns={0: \"category\", 1: \"title\", 2: \"link\", 3:'month'})\n",
    "    return result"
   ]
  },
  {
   "cell_type": "code",
   "execution_count": 14,
   "metadata": {},
   "outputs": [],
   "source": [
    "# url = 'http://www.it.kmitl.ac.th/~teerapong/news_archive/month-jan-2017.html'\n",
    "# df = extract_news_archive_info(url)\n",
    "# df"
   ]
  },
  {
   "cell_type": "code",
   "execution_count": 15,
   "metadata": {},
   "outputs": [],
   "source": [
    "# category = pd.Series(news_archive_list[0])\n",
    "# title = pd.Series(news_archive_list[1])\n",
    "# link_title = pd.Series(news_archive_list[2])"
   ]
  },
  {
   "cell_type": "code",
   "execution_count": 16,
   "metadata": {
    "scrolled": true
   },
   "outputs": [],
   "source": [
    "# df = pd.concat([category, title, link_title], axis=1)\n",
    "# df = df.rename(columns={0: \"category\", 1: \"title\", 2: \"link_title\"})\n"
   ]
  },
  {
   "cell_type": "markdown",
   "metadata": {},
   "source": [
    "### เอา url ไปเข้า Function"
   ]
  },
  {
   "cell_type": "code",
   "execution_count": 17,
   "metadata": {},
   "outputs": [
    {
     "data": {
      "text/plain": [
       "['http://www.it.kmitl.ac.th/~teerapong/news_archive/month-jan-2017.html',\n",
       " 'http://www.it.kmitl.ac.th/~teerapong/news_archive/month-feb-2017.html',\n",
       " 'http://www.it.kmitl.ac.th/~teerapong/news_archive/month-mar-2017.html',\n",
       " 'http://www.it.kmitl.ac.th/~teerapong/news_archive/month-apr-2017.html',\n",
       " 'http://www.it.kmitl.ac.th/~teerapong/news_archive/month-may-2017.html',\n",
       " 'http://www.it.kmitl.ac.th/~teerapong/news_archive/month-jun-2017.html',\n",
       " 'http://www.it.kmitl.ac.th/~teerapong/news_archive/month-jul-2017.html',\n",
       " 'http://www.it.kmitl.ac.th/~teerapong/news_archive/month-aug-2017.html',\n",
       " 'http://www.it.kmitl.ac.th/~teerapong/news_archive/month-sep-2017.html',\n",
       " 'http://www.it.kmitl.ac.th/~teerapong/news_archive/month-oct-2017.html',\n",
       " 'http://www.it.kmitl.ac.th/~teerapong/news_archive/month-nov-2017.html',\n",
       " 'http://www.it.kmitl.ac.th/~teerapong/news_archive/month-dec-2017.html']"
      ]
     },
     "execution_count": 17,
     "metadata": {},
     "output_type": "execute_result"
    }
   ],
   "source": [
    "list_archive"
   ]
  },
  {
   "cell_type": "code",
   "execution_count": 18,
   "metadata": {},
   "outputs": [],
   "source": [
    "for url in list_archive:\n",
    "    result = extract_news_archive_info(url)\n",
    "    df = df.append(result, ignore_index=True)"
   ]
  },
  {
   "cell_type": "code",
   "execution_count": 19,
   "metadata": {},
   "outputs": [
    {
     "data": {
      "text/plain": [
       "category    0\n",
       "title       0\n",
       "link        0\n",
       "month       0\n",
       "dtype: int64"
      ]
     },
     "execution_count": 19,
     "metadata": {},
     "output_type": "execute_result"
    }
   ],
   "source": [
    "df.isna().sum()"
   ]
  },
  {
   "cell_type": "code",
   "execution_count": 20,
   "metadata": {},
   "outputs": [
    {
     "data": {
      "text/html": [
       "<div>\n",
       "<style scoped>\n",
       "    .dataframe tbody tr th:only-of-type {\n",
       "        vertical-align: middle;\n",
       "    }\n",
       "\n",
       "    .dataframe tbody tr th {\n",
       "        vertical-align: top;\n",
       "    }\n",
       "\n",
       "    .dataframe thead th {\n",
       "        text-align: right;\n",
       "    }\n",
       "</style>\n",
       "<table border=\"1\" class=\"dataframe\">\n",
       "  <thead>\n",
       "    <tr style=\"text-align: right;\">\n",
       "      <th></th>\n",
       "      <th>category</th>\n",
       "      <th>title</th>\n",
       "      <th>link</th>\n",
       "      <th>month</th>\n",
       "    </tr>\n",
       "  </thead>\n",
       "  <tbody>\n",
       "    <tr>\n",
       "      <th>0</th>\n",
       "      <td>technology</td>\n",
       "      <td>21st-Century Sports: How Digital Technology Is...</td>\n",
       "      <td>http://www.it.kmitl.ac.th/~teerapong/news_arch...</td>\n",
       "      <td>January</td>\n",
       "    </tr>\n",
       "    <tr>\n",
       "      <th>1</th>\n",
       "      <td>business</td>\n",
       "      <td>Asian quake hits European shares</td>\n",
       "      <td>http://www.it.kmitl.ac.th/~teerapong/news_arch...</td>\n",
       "      <td>January</td>\n",
       "    </tr>\n",
       "    <tr>\n",
       "      <th>2</th>\n",
       "      <td>technology</td>\n",
       "      <td>BT offers free net phone calls</td>\n",
       "      <td>http://www.it.kmitl.ac.th/~teerapong/news_arch...</td>\n",
       "      <td>January</td>\n",
       "    </tr>\n",
       "    <tr>\n",
       "      <th>3</th>\n",
       "      <td>business</td>\n",
       "      <td>Barclays shares up on merger talk</td>\n",
       "      <td>http://www.it.kmitl.ac.th/~teerapong/news_arch...</td>\n",
       "      <td>January</td>\n",
       "    </tr>\n",
       "    <tr>\n",
       "      <th>4</th>\n",
       "      <td>sport</td>\n",
       "      <td>Barkley fit for match in Ireland</td>\n",
       "      <td>http://www.it.kmitl.ac.th/~teerapong/news_arch...</td>\n",
       "      <td>January</td>\n",
       "    </tr>\n",
       "    <tr>\n",
       "      <th>...</th>\n",
       "      <td>...</td>\n",
       "      <td>...</td>\n",
       "      <td>...</td>\n",
       "      <td>...</td>\n",
       "    </tr>\n",
       "    <tr>\n",
       "      <th>1403</th>\n",
       "      <td>sport</td>\n",
       "      <td>Woodward eyes Brennan for Lions</td>\n",
       "      <td>http://www.it.kmitl.ac.th/~teerapong/news_arch...</td>\n",
       "      <td>December</td>\n",
       "    </tr>\n",
       "    <tr>\n",
       "      <th>1404</th>\n",
       "      <td>business</td>\n",
       "      <td>WorldCom trial starts in New York</td>\n",
       "      <td>http://www.it.kmitl.ac.th/~teerapong/news_arch...</td>\n",
       "      <td>December</td>\n",
       "    </tr>\n",
       "    <tr>\n",
       "      <th>1405</th>\n",
       "      <td>business</td>\n",
       "      <td>Yukos accused of lying to court</td>\n",
       "      <td>http://www.it.kmitl.ac.th/~teerapong/news_arch...</td>\n",
       "      <td>December</td>\n",
       "    </tr>\n",
       "    <tr>\n",
       "      <th>1406</th>\n",
       "      <td>business</td>\n",
       "      <td>Yukos drops banks from court bid</td>\n",
       "      <td>http://www.it.kmitl.ac.th/~teerapong/news_arch...</td>\n",
       "      <td>December</td>\n",
       "    </tr>\n",
       "    <tr>\n",
       "      <th>1407</th>\n",
       "      <td>sport</td>\n",
       "      <td>Zambia confident and cautious</td>\n",
       "      <td>http://www.it.kmitl.ac.th/~teerapong/news_arch...</td>\n",
       "      <td>December</td>\n",
       "    </tr>\n",
       "  </tbody>\n",
       "</table>\n",
       "<p>1408 rows × 4 columns</p>\n",
       "</div>"
      ],
      "text/plain": [
       "        category                                              title  \\\n",
       "0     technology  21st-Century Sports: How Digital Technology Is...   \n",
       "1       business                   Asian quake hits European shares   \n",
       "2     technology                     BT offers free net phone calls   \n",
       "3       business                  Barclays shares up on merger talk   \n",
       "4          sport                   Barkley fit for match in Ireland   \n",
       "...          ...                                                ...   \n",
       "1403       sport                    Woodward eyes Brennan for Lions   \n",
       "1404    business                  WorldCom trial starts in New York   \n",
       "1405    business                    Yukos accused of lying to court   \n",
       "1406    business                   Yukos drops banks from court bid   \n",
       "1407       sport                      Zambia confident and cautious   \n",
       "\n",
       "                                                   link     month  \n",
       "0     http://www.it.kmitl.ac.th/~teerapong/news_arch...   January  \n",
       "1     http://www.it.kmitl.ac.th/~teerapong/news_arch...   January  \n",
       "2     http://www.it.kmitl.ac.th/~teerapong/news_arch...   January  \n",
       "3     http://www.it.kmitl.ac.th/~teerapong/news_arch...   January  \n",
       "4     http://www.it.kmitl.ac.th/~teerapong/news_arch...   January  \n",
       "...                                                 ...       ...  \n",
       "1403  http://www.it.kmitl.ac.th/~teerapong/news_arch...  December  \n",
       "1404  http://www.it.kmitl.ac.th/~teerapong/news_arch...  December  \n",
       "1405  http://www.it.kmitl.ac.th/~teerapong/news_arch...  December  \n",
       "1406  http://www.it.kmitl.ac.th/~teerapong/news_arch...  December  \n",
       "1407  http://www.it.kmitl.ac.th/~teerapong/news_arch...  December  \n",
       "\n",
       "[1408 rows x 4 columns]"
      ]
     },
     "execution_count": 20,
     "metadata": {},
     "output_type": "execute_result"
    }
   ],
   "source": [
    "df"
   ]
  },
  {
   "cell_type": "code",
   "execution_count": null,
   "metadata": {},
   "outputs": [],
   "source": [
    "# df['link'].iloc[0][50:-5]"
   ]
  },
  {
   "cell_type": "markdown",
   "metadata": {},
   "source": [
    "### Add id coloumn"
   ]
  },
  {
   "cell_type": "code",
   "execution_count": 21,
   "metadata": {},
   "outputs": [
    {
     "data": {
      "text/html": [
       "<div>\n",
       "<style scoped>\n",
       "    .dataframe tbody tr th:only-of-type {\n",
       "        vertical-align: middle;\n",
       "    }\n",
       "\n",
       "    .dataframe tbody tr th {\n",
       "        vertical-align: top;\n",
       "    }\n",
       "\n",
       "    .dataframe thead th {\n",
       "        text-align: right;\n",
       "    }\n",
       "</style>\n",
       "<table border=\"1\" class=\"dataframe\">\n",
       "  <thead>\n",
       "    <tr style=\"text-align: right;\">\n",
       "      <th></th>\n",
       "      <th>category</th>\n",
       "      <th>title</th>\n",
       "      <th>link</th>\n",
       "      <th>month</th>\n",
       "      <th>id</th>\n",
       "    </tr>\n",
       "  </thead>\n",
       "  <tbody>\n",
       "    <tr>\n",
       "      <th>0</th>\n",
       "      <td>technology</td>\n",
       "      <td>21st-Century Sports: How Digital Technology Is...</td>\n",
       "      <td>http://www.it.kmitl.ac.th/~teerapong/news_arch...</td>\n",
       "      <td>January</td>\n",
       "      <td>article-jan-0418</td>\n",
       "    </tr>\n",
       "    <tr>\n",
       "      <th>1</th>\n",
       "      <td>business</td>\n",
       "      <td>Asian quake hits European shares</td>\n",
       "      <td>http://www.it.kmitl.ac.th/~teerapong/news_arch...</td>\n",
       "      <td>January</td>\n",
       "      <td>article-jan-0027</td>\n",
       "    </tr>\n",
       "    <tr>\n",
       "      <th>2</th>\n",
       "      <td>technology</td>\n",
       "      <td>BT offers free net phone calls</td>\n",
       "      <td>http://www.it.kmitl.ac.th/~teerapong/news_arch...</td>\n",
       "      <td>January</td>\n",
       "      <td>article-jan-0631</td>\n",
       "    </tr>\n",
       "    <tr>\n",
       "      <th>3</th>\n",
       "      <td>business</td>\n",
       "      <td>Barclays shares up on merger talk</td>\n",
       "      <td>http://www.it.kmitl.ac.th/~teerapong/news_arch...</td>\n",
       "      <td>January</td>\n",
       "      <td>article-jan-2105</td>\n",
       "    </tr>\n",
       "    <tr>\n",
       "      <th>4</th>\n",
       "      <td>sport</td>\n",
       "      <td>Barkley fit for match in Ireland</td>\n",
       "      <td>http://www.it.kmitl.ac.th/~teerapong/news_arch...</td>\n",
       "      <td>January</td>\n",
       "      <td>article-jan-3300</td>\n",
       "    </tr>\n",
       "    <tr>\n",
       "      <th>...</th>\n",
       "      <td>...</td>\n",
       "      <td>...</td>\n",
       "      <td>...</td>\n",
       "      <td>...</td>\n",
       "      <td>...</td>\n",
       "    </tr>\n",
       "    <tr>\n",
       "      <th>1403</th>\n",
       "      <td>sport</td>\n",
       "      <td>Woodward eyes Brennan for Lions</td>\n",
       "      <td>http://www.it.kmitl.ac.th/~teerapong/news_arch...</td>\n",
       "      <td>December</td>\n",
       "      <td>article-dec-2238</td>\n",
       "    </tr>\n",
       "    <tr>\n",
       "      <th>1404</th>\n",
       "      <td>business</td>\n",
       "      <td>WorldCom trial starts in New York</td>\n",
       "      <td>http://www.it.kmitl.ac.th/~teerapong/news_arch...</td>\n",
       "      <td>December</td>\n",
       "      <td>article-dec-2334</td>\n",
       "    </tr>\n",
       "    <tr>\n",
       "      <th>1405</th>\n",
       "      <td>business</td>\n",
       "      <td>Yukos accused of lying to court</td>\n",
       "      <td>http://www.it.kmitl.ac.th/~teerapong/news_arch...</td>\n",
       "      <td>December</td>\n",
       "      <td>article-dec-2095</td>\n",
       "    </tr>\n",
       "    <tr>\n",
       "      <th>1406</th>\n",
       "      <td>business</td>\n",
       "      <td>Yukos drops banks from court bid</td>\n",
       "      <td>http://www.it.kmitl.ac.th/~teerapong/news_arch...</td>\n",
       "      <td>December</td>\n",
       "      <td>article-dec-1351</td>\n",
       "    </tr>\n",
       "    <tr>\n",
       "      <th>1407</th>\n",
       "      <td>sport</td>\n",
       "      <td>Zambia confident and cautious</td>\n",
       "      <td>http://www.it.kmitl.ac.th/~teerapong/news_arch...</td>\n",
       "      <td>December</td>\n",
       "      <td>article-dec-0068</td>\n",
       "    </tr>\n",
       "  </tbody>\n",
       "</table>\n",
       "<p>1408 rows × 5 columns</p>\n",
       "</div>"
      ],
      "text/plain": [
       "        category                                              title  \\\n",
       "0     technology  21st-Century Sports: How Digital Technology Is...   \n",
       "1       business                   Asian quake hits European shares   \n",
       "2     technology                     BT offers free net phone calls   \n",
       "3       business                  Barclays shares up on merger talk   \n",
       "4          sport                   Barkley fit for match in Ireland   \n",
       "...          ...                                                ...   \n",
       "1403       sport                    Woodward eyes Brennan for Lions   \n",
       "1404    business                  WorldCom trial starts in New York   \n",
       "1405    business                    Yukos accused of lying to court   \n",
       "1406    business                   Yukos drops banks from court bid   \n",
       "1407       sport                      Zambia confident and cautious   \n",
       "\n",
       "                                                   link     month  \\\n",
       "0     http://www.it.kmitl.ac.th/~teerapong/news_arch...   January   \n",
       "1     http://www.it.kmitl.ac.th/~teerapong/news_arch...   January   \n",
       "2     http://www.it.kmitl.ac.th/~teerapong/news_arch...   January   \n",
       "3     http://www.it.kmitl.ac.th/~teerapong/news_arch...   January   \n",
       "4     http://www.it.kmitl.ac.th/~teerapong/news_arch...   January   \n",
       "...                                                 ...       ...   \n",
       "1403  http://www.it.kmitl.ac.th/~teerapong/news_arch...  December   \n",
       "1404  http://www.it.kmitl.ac.th/~teerapong/news_arch...  December   \n",
       "1405  http://www.it.kmitl.ac.th/~teerapong/news_arch...  December   \n",
       "1406  http://www.it.kmitl.ac.th/~teerapong/news_arch...  December   \n",
       "1407  http://www.it.kmitl.ac.th/~teerapong/news_arch...  December   \n",
       "\n",
       "                    id  \n",
       "0     article-jan-0418  \n",
       "1     article-jan-0027  \n",
       "2     article-jan-0631  \n",
       "3     article-jan-2105  \n",
       "4     article-jan-3300  \n",
       "...                ...  \n",
       "1403  article-dec-2238  \n",
       "1404  article-dec-2334  \n",
       "1405  article-dec-2095  \n",
       "1406  article-dec-1351  \n",
       "1407  article-dec-0068  \n",
       "\n",
       "[1408 rows x 5 columns]"
      ]
     },
     "execution_count": 21,
     "metadata": {},
     "output_type": "execute_result"
    }
   ],
   "source": [
    "df['id'] = df['link'].str[50:-5]\n",
    "df"
   ]
  },
  {
   "cell_type": "code",
   "execution_count": null,
   "metadata": {},
   "outputs": [],
   "source": [
    "# for i in range(len(result)):\n",
    "#     print(result['link'].iloc[i])"
   ]
  },
  {
   "cell_type": "markdown",
   "metadata": {},
   "source": [
    "### Get Content"
   ]
  },
  {
   "cell_type": "code",
   "execution_count": null,
   "metadata": {
    "scrolled": true
   },
   "outputs": [],
   "source": [
    "# response = requests.get('http://www.it.kmitl.ac.th/~teerapong/news_archive/article-jan-0418.html')\n",
    "# response = requests.get('http://www.it.kmitl.ac.th/~teerapong/news_archive/article-jan-4187.html')\n",
    "# print(response)\n",
    "# print(type(response))"
   ]
  },
  {
   "cell_type": "code",
   "execution_count": 23,
   "metadata": {},
   "outputs": [],
   "source": [
    "list_content = []"
   ]
  },
  {
   "cell_type": "code",
   "execution_count": 24,
   "metadata": {},
   "outputs": [],
   "source": [
    "def get_content(url):\n",
    "    response = requests.get(url)\n",
    "\n",
    "    html_page = bs4.BeautifulSoup(response.content, 'html.parser')\n",
    "\n",
    "    selector = 'body > div > div.main > p'\n",
    "    tags = html_page.select(selector)\n",
    "\n",
    "    content = ''\n",
    "    for tag in tags:\n",
    "        if tag.text.strip() != '':\n",
    "            if '.html' in str(tag):\n",
    "                pass\n",
    "            else:\n",
    "                content += tag.text.strip() + ' '\n",
    "                \n",
    "    list_content.append(content.replace(\"\\'\", \"'\").strip())\n"
   ]
  },
  {
   "cell_type": "code",
   "execution_count": 25,
   "metadata": {},
   "outputs": [],
   "source": [
    "# get_content('http://www.it.kmitl.ac.th/~teerapong/news_archive/article-jan-4187.html')\n",
    "# print(list_content[0])"
   ]
  },
  {
   "cell_type": "code",
   "execution_count": 26,
   "metadata": {},
   "outputs": [],
   "source": [
    "for i in range(len(df)):\n",
    "    get_content(df['link'].iloc[i])"
   ]
  },
  {
   "cell_type": "code",
   "execution_count": null,
   "metadata": {},
   "outputs": [],
   "source": [
    "# df['link'].iloc[1403]"
   ]
  },
  {
   "cell_type": "code",
   "execution_count": 27,
   "metadata": {},
   "outputs": [
    {
     "data": {
      "text/html": [
       "<div>\n",
       "<style scoped>\n",
       "    .dataframe tbody tr th:only-of-type {\n",
       "        vertical-align: middle;\n",
       "    }\n",
       "\n",
       "    .dataframe tbody tr th {\n",
       "        vertical-align: top;\n",
       "    }\n",
       "\n",
       "    .dataframe thead th {\n",
       "        text-align: right;\n",
       "    }\n",
       "</style>\n",
       "<table border=\"1\" class=\"dataframe\">\n",
       "  <thead>\n",
       "    <tr style=\"text-align: right;\">\n",
       "      <th></th>\n",
       "      <th>category</th>\n",
       "      <th>title</th>\n",
       "      <th>link</th>\n",
       "      <th>month</th>\n",
       "      <th>id</th>\n",
       "      <th>content</th>\n",
       "    </tr>\n",
       "  </thead>\n",
       "  <tbody>\n",
       "    <tr>\n",
       "      <th>0</th>\n",
       "      <td>technology</td>\n",
       "      <td>21st-Century Sports: How Digital Technology Is...</td>\n",
       "      <td>http://www.it.kmitl.ac.th/~teerapong/news_arch...</td>\n",
       "      <td>January</td>\n",
       "      <td>article-jan-0418</td>\n",
       "      <td>The sporting industry has come a long way sinc...</td>\n",
       "    </tr>\n",
       "    <tr>\n",
       "      <th>1</th>\n",
       "      <td>business</td>\n",
       "      <td>Asian quake hits European shares</td>\n",
       "      <td>http://www.it.kmitl.ac.th/~teerapong/news_arch...</td>\n",
       "      <td>January</td>\n",
       "      <td>article-jan-0027</td>\n",
       "      <td>Asian quake hits European shares Shares in Eur...</td>\n",
       "    </tr>\n",
       "    <tr>\n",
       "      <th>2</th>\n",
       "      <td>technology</td>\n",
       "      <td>BT offers free net phone calls</td>\n",
       "      <td>http://www.it.kmitl.ac.th/~teerapong/news_arch...</td>\n",
       "      <td>January</td>\n",
       "      <td>article-jan-0631</td>\n",
       "      <td>BT is offering customers free internet telepho...</td>\n",
       "    </tr>\n",
       "    <tr>\n",
       "      <th>3</th>\n",
       "      <td>business</td>\n",
       "      <td>Barclays shares up on merger talk</td>\n",
       "      <td>http://www.it.kmitl.ac.th/~teerapong/news_arch...</td>\n",
       "      <td>January</td>\n",
       "      <td>article-jan-2105</td>\n",
       "      <td>Barclays shares up on merger talk Shares in UK...</td>\n",
       "    </tr>\n",
       "    <tr>\n",
       "      <th>4</th>\n",
       "      <td>sport</td>\n",
       "      <td>Barkley fit for match in Ireland</td>\n",
       "      <td>http://www.it.kmitl.ac.th/~teerapong/news_arch...</td>\n",
       "      <td>January</td>\n",
       "      <td>article-jan-3300</td>\n",
       "      <td>England centre Olly Barkley has been passed fi...</td>\n",
       "    </tr>\n",
       "    <tr>\n",
       "      <th>...</th>\n",
       "      <td>...</td>\n",
       "      <td>...</td>\n",
       "      <td>...</td>\n",
       "      <td>...</td>\n",
       "      <td>...</td>\n",
       "      <td>...</td>\n",
       "    </tr>\n",
       "    <tr>\n",
       "      <th>1403</th>\n",
       "      <td>sport</td>\n",
       "      <td>Woodward eyes Brennan for Lions</td>\n",
       "      <td>http://www.it.kmitl.ac.th/~teerapong/news_arch...</td>\n",
       "      <td>December</td>\n",
       "      <td>article-dec-2238</td>\n",
       "      <td>Woodward eyes Brennan for Lions Toulouse's for...</td>\n",
       "    </tr>\n",
       "    <tr>\n",
       "      <th>1404</th>\n",
       "      <td>business</td>\n",
       "      <td>WorldCom trial starts in New York</td>\n",
       "      <td>http://www.it.kmitl.ac.th/~teerapong/news_arch...</td>\n",
       "      <td>December</td>\n",
       "      <td>article-dec-2334</td>\n",
       "      <td>The trial of Bernie Ebbers, former chief execu...</td>\n",
       "    </tr>\n",
       "    <tr>\n",
       "      <th>1405</th>\n",
       "      <td>business</td>\n",
       "      <td>Yukos accused of lying to court</td>\n",
       "      <td>http://www.it.kmitl.ac.th/~teerapong/news_arch...</td>\n",
       "      <td>December</td>\n",
       "      <td>article-dec-2095</td>\n",
       "      <td>Yukos accused of lying to court Russian oil fi...</td>\n",
       "    </tr>\n",
       "    <tr>\n",
       "      <th>1406</th>\n",
       "      <td>business</td>\n",
       "      <td>Yukos drops banks from court bid</td>\n",
       "      <td>http://www.it.kmitl.ac.th/~teerapong/news_arch...</td>\n",
       "      <td>December</td>\n",
       "      <td>article-dec-1351</td>\n",
       "      <td>Russian oil company Yukos has dropped the thre...</td>\n",
       "    </tr>\n",
       "    <tr>\n",
       "      <th>1407</th>\n",
       "      <td>sport</td>\n",
       "      <td>Zambia confident and cautious</td>\n",
       "      <td>http://www.it.kmitl.ac.th/~teerapong/news_arch...</td>\n",
       "      <td>December</td>\n",
       "      <td>article-dec-0068</td>\n",
       "      <td>Zambia's technical director, Kalusha Bwalya is...</td>\n",
       "    </tr>\n",
       "  </tbody>\n",
       "</table>\n",
       "<p>1408 rows × 6 columns</p>\n",
       "</div>"
      ],
      "text/plain": [
       "        category                                              title  \\\n",
       "0     technology  21st-Century Sports: How Digital Technology Is...   \n",
       "1       business                   Asian quake hits European shares   \n",
       "2     technology                     BT offers free net phone calls   \n",
       "3       business                  Barclays shares up on merger talk   \n",
       "4          sport                   Barkley fit for match in Ireland   \n",
       "...          ...                                                ...   \n",
       "1403       sport                    Woodward eyes Brennan for Lions   \n",
       "1404    business                  WorldCom trial starts in New York   \n",
       "1405    business                    Yukos accused of lying to court   \n",
       "1406    business                   Yukos drops banks from court bid   \n",
       "1407       sport                      Zambia confident and cautious   \n",
       "\n",
       "                                                   link     month  \\\n",
       "0     http://www.it.kmitl.ac.th/~teerapong/news_arch...   January   \n",
       "1     http://www.it.kmitl.ac.th/~teerapong/news_arch...   January   \n",
       "2     http://www.it.kmitl.ac.th/~teerapong/news_arch...   January   \n",
       "3     http://www.it.kmitl.ac.th/~teerapong/news_arch...   January   \n",
       "4     http://www.it.kmitl.ac.th/~teerapong/news_arch...   January   \n",
       "...                                                 ...       ...   \n",
       "1403  http://www.it.kmitl.ac.th/~teerapong/news_arch...  December   \n",
       "1404  http://www.it.kmitl.ac.th/~teerapong/news_arch...  December   \n",
       "1405  http://www.it.kmitl.ac.th/~teerapong/news_arch...  December   \n",
       "1406  http://www.it.kmitl.ac.th/~teerapong/news_arch...  December   \n",
       "1407  http://www.it.kmitl.ac.th/~teerapong/news_arch...  December   \n",
       "\n",
       "                    id                                            content  \n",
       "0     article-jan-0418  The sporting industry has come a long way sinc...  \n",
       "1     article-jan-0027  Asian quake hits European shares Shares in Eur...  \n",
       "2     article-jan-0631  BT is offering customers free internet telepho...  \n",
       "3     article-jan-2105  Barclays shares up on merger talk Shares in UK...  \n",
       "4     article-jan-3300  England centre Olly Barkley has been passed fi...  \n",
       "...                ...                                                ...  \n",
       "1403  article-dec-2238  Woodward eyes Brennan for Lions Toulouse's for...  \n",
       "1404  article-dec-2334  The trial of Bernie Ebbers, former chief execu...  \n",
       "1405  article-dec-2095  Yukos accused of lying to court Russian oil fi...  \n",
       "1406  article-dec-1351  Russian oil company Yukos has dropped the thre...  \n",
       "1407  article-dec-0068  Zambia's technical director, Kalusha Bwalya is...  \n",
       "\n",
       "[1408 rows x 6 columns]"
      ]
     },
     "execution_count": 27,
     "metadata": {},
     "output_type": "execute_result"
    }
   ],
   "source": [
    "content = pd.Series(list_content)\n",
    "df = pd.concat([df, content], axis=1)\n",
    "df = df.rename(columns={0: \"content\"})\n",
    "df"
   ]
  },
  {
   "cell_type": "code",
   "execution_count": null,
   "metadata": {},
   "outputs": [],
   "source": [
    "# print(df['link'].iloc[1403])\n",
    "# print(df['id'].iloc[1403])\n",
    "# print(df['content'].iloc[1403])"
   ]
  },
  {
   "cell_type": "markdown",
   "metadata": {},
   "source": [
    "## save DataFarame to csv\n",
    "เพื่อให้ง่ายต่อการใช้ในภายหลัง"
   ]
  },
  {
   "cell_type": "code",
   "execution_count": 28,
   "metadata": {},
   "outputs": [],
   "source": [
    "# df.to_csv('data.csv', index=False)"
   ]
  },
  {
   "cell_type": "code",
   "execution_count": 5,
   "metadata": {
    "scrolled": true
   },
   "outputs": [
    {
     "data": {
      "text/html": [
       "<div>\n",
       "<style scoped>\n",
       "    .dataframe tbody tr th:only-of-type {\n",
       "        vertical-align: middle;\n",
       "    }\n",
       "\n",
       "    .dataframe tbody tr th {\n",
       "        vertical-align: top;\n",
       "    }\n",
       "\n",
       "    .dataframe thead th {\n",
       "        text-align: right;\n",
       "    }\n",
       "</style>\n",
       "<table border=\"1\" class=\"dataframe\">\n",
       "  <thead>\n",
       "    <tr style=\"text-align: right;\">\n",
       "      <th></th>\n",
       "      <th>category</th>\n",
       "      <th>title</th>\n",
       "      <th>link</th>\n",
       "      <th>month</th>\n",
       "      <th>id</th>\n",
       "      <th>content</th>\n",
       "    </tr>\n",
       "  </thead>\n",
       "  <tbody>\n",
       "    <tr>\n",
       "      <th>0</th>\n",
       "      <td>technology</td>\n",
       "      <td>21st-Century Sports: How Digital Technology Is...</td>\n",
       "      <td>http://www.it.kmitl.ac.th/~teerapong/news_arch...</td>\n",
       "      <td>January</td>\n",
       "      <td>article-jan-0418</td>\n",
       "      <td>The sporting industry has come a long way sinc...</td>\n",
       "    </tr>\n",
       "    <tr>\n",
       "      <th>1</th>\n",
       "      <td>business</td>\n",
       "      <td>Asian quake hits European shares</td>\n",
       "      <td>http://www.it.kmitl.ac.th/~teerapong/news_arch...</td>\n",
       "      <td>January</td>\n",
       "      <td>article-jan-0027</td>\n",
       "      <td>Asian quake hits European shares Shares in Eur...</td>\n",
       "    </tr>\n",
       "    <tr>\n",
       "      <th>2</th>\n",
       "      <td>technology</td>\n",
       "      <td>BT offers free net phone calls</td>\n",
       "      <td>http://www.it.kmitl.ac.th/~teerapong/news_arch...</td>\n",
       "      <td>January</td>\n",
       "      <td>article-jan-0631</td>\n",
       "      <td>BT is offering customers free internet telepho...</td>\n",
       "    </tr>\n",
       "    <tr>\n",
       "      <th>3</th>\n",
       "      <td>business</td>\n",
       "      <td>Barclays shares up on merger talk</td>\n",
       "      <td>http://www.it.kmitl.ac.th/~teerapong/news_arch...</td>\n",
       "      <td>January</td>\n",
       "      <td>article-jan-2105</td>\n",
       "      <td>Barclays shares up on merger talk Shares in UK...</td>\n",
       "    </tr>\n",
       "    <tr>\n",
       "      <th>4</th>\n",
       "      <td>sport</td>\n",
       "      <td>Barkley fit for match in Ireland</td>\n",
       "      <td>http://www.it.kmitl.ac.th/~teerapong/news_arch...</td>\n",
       "      <td>January</td>\n",
       "      <td>article-jan-3300</td>\n",
       "      <td>England centre Olly Barkley has been passed fi...</td>\n",
       "    </tr>\n",
       "  </tbody>\n",
       "</table>\n",
       "</div>"
      ],
      "text/plain": [
       "     category                                              title  \\\n",
       "0  technology  21st-Century Sports: How Digital Technology Is...   \n",
       "1    business                   Asian quake hits European shares   \n",
       "2  technology                     BT offers free net phone calls   \n",
       "3    business                  Barclays shares up on merger talk   \n",
       "4       sport                   Barkley fit for match in Ireland   \n",
       "\n",
       "                                                link    month  \\\n",
       "0  http://www.it.kmitl.ac.th/~teerapong/news_arch...  January   \n",
       "1  http://www.it.kmitl.ac.th/~teerapong/news_arch...  January   \n",
       "2  http://www.it.kmitl.ac.th/~teerapong/news_arch...  January   \n",
       "3  http://www.it.kmitl.ac.th/~teerapong/news_arch...  January   \n",
       "4  http://www.it.kmitl.ac.th/~teerapong/news_arch...  January   \n",
       "\n",
       "                 id                                            content  \n",
       "0  article-jan-0418  The sporting industry has come a long way sinc...  \n",
       "1  article-jan-0027  Asian quake hits European shares Shares in Eur...  \n",
       "2  article-jan-0631  BT is offering customers free internet telepho...  \n",
       "3  article-jan-2105  Barclays shares up on merger talk Shares in UK...  \n",
       "4  article-jan-3300  England centre Olly Barkley has been passed fi...  "
      ]
     },
     "execution_count": 5,
     "metadata": {},
     "output_type": "execute_result"
    }
   ],
   "source": [
    "df = pd.read_csv('data.csv')\n",
    "df.head()"
   ]
  },
  {
   "cell_type": "code",
   "execution_count": null,
   "metadata": {},
   "outputs": [],
   "source": []
  },
  {
   "cell_type": "markdown",
   "metadata": {},
   "source": [
    "### คัดให้เหลือเฉพาะที่ใช้ในการวิเคราะห์\n",
    "- AllArticles_OnlyContent\n",
    "- AllArticles_HeadingPlusContent"
   ]
  },
  {
   "cell_type": "code",
   "execution_count": 9,
   "metadata": {},
   "outputs": [],
   "source": [
    "AllArticles_OnlyContent = df['content']\n",
    "AllArticles_OnlyContent.to_csv('datastore/AllArticles_OnlyContent.csv', index=False)"
   ]
  },
  {
   "cell_type": "code",
   "execution_count": 10,
   "metadata": {},
   "outputs": [],
   "source": [
    "AllArticles_HeadingPlusContent = df[['title','content']]\n",
    "AllArticles_HeadingPlusContent.to_csv('datastore/AllArticles_HeadingPlusContent.csv', index=False)"
   ]
  },
  {
   "cell_type": "markdown",
   "metadata": {},
   "source": [
    "### บันทึก category\n",
    "folder target"
   ]
  },
  {
   "cell_type": "code",
   "execution_count": 17,
   "metadata": {},
   "outputs": [],
   "source": [
    "# list(df['category'])"
   ]
  },
  {
   "cell_type": "code",
   "execution_count": 19,
   "metadata": {},
   "outputs": [],
   "source": [
    "f = open(\"target/category.txt\", \"a\")\n",
    "\n",
    "for i in list(df['category']):\n",
    "    f.write(i + '\\n')\n",
    "\n",
    "f.close()"
   ]
  },
  {
   "cell_type": "code",
   "execution_count": null,
   "metadata": {},
   "outputs": [],
   "source": []
  }
 ],
 "metadata": {
  "kernelspec": {
   "display_name": "Python 3",
   "language": "python",
   "name": "python3"
  },
  "language_info": {
   "codemirror_mode": {
    "name": "ipython",
    "version": 3
   },
   "file_extension": ".py",
   "mimetype": "text/x-python",
   "name": "python",
   "nbconvert_exporter": "python",
   "pygments_lexer": "ipython3",
   "version": "3.8.3"
  }
 },
 "nbformat": 4,
 "nbformat_minor": 4
}
