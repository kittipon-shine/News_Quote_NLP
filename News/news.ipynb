{
 "cells": [
  {
   "cell_type": "markdown",
   "metadata": {},
   "source": [
    "# Assignment 2 - DS4Biz Y63\n",
    "## TextScraping_Classification\n",
    "***\n",
    "\n",
    "### Team Detail\n",
    "**Team Name**: sompinandsomshine   \n",
    "***\n",
    "### *Student 1*\n",
    "**Student ID**: 61070278   \n",
    "**Student Full Name**: นายกิตติภณ สุรุ่งเรืองสกุล\n",
    "***\n",
    "### *Student 2*\n",
    "**Student ID**: 61070330   \n",
    "**Student Full Name**: นางสาวอิงฟ้า ภูติวรนาถ\n",
    "***"
   ]
  },
  {
   "cell_type": "markdown",
   "metadata": {},
   "source": [
    "#### link: http://www.it.kmitl.ac.th/~teerapong/news_archive/index.html"
   ]
  },
  {
   "cell_type": "code",
   "execution_count": null,
   "metadata": {},
   "outputs": [],
   "source": []
  },
  {
   "cell_type": "markdown",
   "metadata": {},
   "source": [
    "# Data Collection"
   ]
  },
  {
   "cell_type": "code",
   "execution_count": 46,
   "metadata": {},
   "outputs": [],
   "source": [
    "import requests\n",
    "#https://requests.readthedocs.io/en/master/\n",
    "import bs4\n",
    "#https://www.crummy.com/software/BeautifulSoup/bs4/doc/\n",
    "\n",
    "import pandas as pd"
   ]
  },
  {
   "cell_type": "code",
   "execution_count": 47,
   "metadata": {
    "scrolled": true
   },
   "outputs": [
    {
     "name": "stdout",
     "output_type": "stream",
     "text": [
      "<Response [200]>\n",
      "<class 'requests.models.Response'>\n"
     ]
    }
   ],
   "source": [
    "response = requests.get('http://www.it.kmitl.ac.th/~teerapong/news_archive/index.html')\n",
    "print(response)\n",
    "print(type(response))"
   ]
  },
  {
   "cell_type": "code",
   "execution_count": 48,
   "metadata": {},
   "outputs": [
    {
     "name": "stdout",
     "output_type": "stream",
     "text": [
      "<!DOCTYPE html>\n",
      "\n",
      "<html lang=\"en\">\n",
      "<head>\n",
      "<title>Online News Archive</title>\n",
      "<meta charset=\"utf-8\"/>\n",
      "<meta content=\"width=device-width, initial-scale=1\" name=\"viewport\"/>\n",
      "<meta content=\"noindex\" name=\"robots\"/>\n",
      "<meta content=\"news,articles,news\" name=\"keywords\">\n",
      "<meta content=\"Breaking News | International Headlines\" property=\"og:title\"/>\n",
      "<meta content=\"News Archive\" property=\"og:site_name\"/>\n",
      "<meta content=\"Latest news and more from the definitive brand of quality news.\" property=\"og:description\"/>\n",
      "<link href=\"css/bootstrap.min.css\" rel=\"stylesheet\"/>\n",
      "<script src=\"js/jquery-3.2.1.slim.min.js\"></script>\n",
      "<script src=\"js/popper.min.js\"></script>\n",
      "<script src=\"js/tether.min.js\"></script>\n",
      "<script src=\"js/jquery-3.2.1.slim.min.js\"></script>\n",
      "<script src=\"js/popper.min.js\"></script>\n",
      "<script src=\"js/tether.min.js\"></script>\n",
      "<script src=\"js/bootstrap.min.js\"></script>\n",
      "<style>\n",
      "\t  \t\t.main{ padding: 0; text-align: center;}\n",
      "\t  \t\t.footer{ padding: 6px;text-align: center; margin-top: 1em; }\n",
      "\n",
      "\t  \t\th1\n",
      "\t  \t\t{\n",
      "\t  \t\t\tfont-size: 180%;\n",
      "\t  \t\t\tmargin-top: 15px;\n",
      "\t  \t\t\tmargin-bottom: 15px;\n",
      "\t  \t\t}\n",
      "\t  \t\tul {list-style-type: none;}\n",
      "\t  \t\tli { margin-top: 5px; }\n",
      "\t  </style>\n",
      "</meta></head>\n",
      "<body>\n",
      "<div class=\"container\" style=\"margin-top: 2em;\">\n",
      "<div class=\"main\">\n",
      "<img alt=\"banner\" src=\"images/banner.jpg\" width=\"500\"/>\n",
      "<h1>News Article Archive</h1>\n",
      "<p>Archive of all news headlines and stories, organised per month.</p>\n",
      "<ul>\n",
      "<li>Articles — <a href=\"month-jan-2017.html\">January</a> [118]</li>\n",
      "<li>Articles — <a href=\"month-feb-2017.html\">February</a> [124]</li>\n",
      "<li>Articles — <a href=\"month-mar-2017.html\">March</a> [116]</li>\n",
      "<li>Articles — <a href=\"month-apr-2017.html\">April</a> [118]</li>\n",
      "<li>Articles — <a href=\"month-may-2017.html\">May</a> [115]</li>\n",
      "<li>Articles — <a href=\"month-jun-2017.html\">June</a> [115]</li>\n",
      "<li>Articles — <a href=\"month-jul-2017.html\">July</a> [122]</li>\n",
      "<li>Articles — <a href=\"month-aug-2017.html\">August</a> [116]</li>\n",
      "<li>Articles — <a href=\"month-sep-2017.html\">September</a> [113]</li>\n",
      "<li>Articles — <a href=\"month-oct-2017.html\">October</a> [124]</li>\n",
      "<li>Articles — <a href=\"month-nov-2017.html\">November</a> [122]</li>\n",
      "<li>Articles — <a href=\"month-dec-2017.html\">December</a> [115]</li>\n",
      "</ul>\n",
      "</div>\n",
      "<div class=\"footer\">\n",
      "<span><a href=\"#\">Terms &amp; Conditions</a> | <a href=\"#\">Privacy Policy</a> | <a href=\"#\">Cookie Information</a> </span><br/>\n",
      "<span>© <span class=\"thisyear\">2019-2020</span> — Original rights holders</span>\n",
      "</div>\n",
      "</div>\n",
      "</body>\n",
      "</html>\n",
      "\n"
     ]
    }
   ],
   "source": [
    "html_page = bs4.BeautifulSoup(response.content, 'html.parser')\n",
    "print(html_page)"
   ]
  },
  {
   "cell_type": "code",
   "execution_count": 49,
   "metadata": {},
   "outputs": [
    {
     "data": {
      "text/plain": [
       "[<a href=\"month-jan-2017.html\">January</a>,\n",
       " <a href=\"month-feb-2017.html\">February</a>,\n",
       " <a href=\"month-mar-2017.html\">March</a>,\n",
       " <a href=\"month-apr-2017.html\">April</a>,\n",
       " <a href=\"month-may-2017.html\">May</a>,\n",
       " <a href=\"month-jun-2017.html\">June</a>,\n",
       " <a href=\"month-jul-2017.html\">July</a>,\n",
       " <a href=\"month-aug-2017.html\">August</a>,\n",
       " <a href=\"month-sep-2017.html\">September</a>,\n",
       " <a href=\"month-oct-2017.html\">October</a>,\n",
       " <a href=\"month-nov-2017.html\">November</a>,\n",
       " <a href=\"month-dec-2017.html\">December</a>]"
      ]
     },
     "execution_count": 49,
     "metadata": {},
     "output_type": "execute_result"
    }
   ],
   "source": [
    "# nested elements\n",
    "selector = 'body > div > div.main > ul > li> a'\n",
    "tags = html_page.select(selector)\n",
    "tags"
   ]
  },
  {
   "cell_type": "code",
   "execution_count": 50,
   "metadata": {},
   "outputs": [
    {
     "data": {
      "text/plain": [
       "['http://www.it.kmitl.ac.th/~teerapong/news_archive/month-jan-2017.html',\n",
       " 'http://www.it.kmitl.ac.th/~teerapong/news_archive/month-feb-2017.html',\n",
       " 'http://www.it.kmitl.ac.th/~teerapong/news_archive/month-mar-2017.html',\n",
       " 'http://www.it.kmitl.ac.th/~teerapong/news_archive/month-apr-2017.html',\n",
       " 'http://www.it.kmitl.ac.th/~teerapong/news_archive/month-may-2017.html',\n",
       " 'http://www.it.kmitl.ac.th/~teerapong/news_archive/month-jun-2017.html',\n",
       " 'http://www.it.kmitl.ac.th/~teerapong/news_archive/month-jul-2017.html',\n",
       " 'http://www.it.kmitl.ac.th/~teerapong/news_archive/month-aug-2017.html',\n",
       " 'http://www.it.kmitl.ac.th/~teerapong/news_archive/month-sep-2017.html',\n",
       " 'http://www.it.kmitl.ac.th/~teerapong/news_archive/month-oct-2017.html',\n",
       " 'http://www.it.kmitl.ac.th/~teerapong/news_archive/month-nov-2017.html',\n",
       " 'http://www.it.kmitl.ac.th/~teerapong/news_archive/month-dec-2017.html']"
      ]
     },
     "execution_count": 50,
     "metadata": {},
     "output_type": "execute_result"
    }
   ],
   "source": [
    "list_archive = []\n",
    "for tag in tags:\n",
    "    list_archive.append('http://www.it.kmitl.ac.th/~teerapong/news_archive/' + tag['href'])\n",
    "list_archive"
   ]
  },
  {
   "cell_type": "markdown",
   "metadata": {},
   "source": [
    "### Create DataFrame"
   ]
  },
  {
   "cell_type": "code",
   "execution_count": 51,
   "metadata": {},
   "outputs": [
    {
     "data": {
      "text/html": [
       "<div>\n",
       "<style scoped>\n",
       "    .dataframe tbody tr th:only-of-type {\n",
       "        vertical-align: middle;\n",
       "    }\n",
       "\n",
       "    .dataframe tbody tr th {\n",
       "        vertical-align: top;\n",
       "    }\n",
       "\n",
       "    .dataframe thead th {\n",
       "        text-align: right;\n",
       "    }\n",
       "</style>\n",
       "<table border=\"1\" class=\"dataframe\">\n",
       "  <thead>\n",
       "    <tr style=\"text-align: right;\">\n",
       "      <th></th>\n",
       "      <th>category</th>\n",
       "      <th>title</th>\n",
       "      <th>link</th>\n",
       "    </tr>\n",
       "  </thead>\n",
       "  <tbody>\n",
       "  </tbody>\n",
       "</table>\n",
       "</div>"
      ],
      "text/plain": [
       "Empty DataFrame\n",
       "Columns: [category, title, link]\n",
       "Index: []"
      ]
     },
     "execution_count": 51,
     "metadata": {},
     "output_type": "execute_result"
    }
   ],
   "source": [
    "df = pd.DataFrame(columns=['category', 'title', 'link'])\n",
    "df"
   ]
  },
  {
   "cell_type": "markdown",
   "metadata": {},
   "source": [
    "### Create function"
   ]
  },
  {
   "cell_type": "code",
   "execution_count": 52,
   "metadata": {},
   "outputs": [],
   "source": [
    "def extract_category(html_page):\n",
    "    selector = 'body > div > div.main > table > tbody > tr> td.category'\n",
    "    tags = html_page.select(selector)\n",
    "    category = []\n",
    "\n",
    "    for tag in tags:\n",
    "        if tag.text.strip() != 'N/A':\n",
    "#             print(tag.text.strip())\n",
    "            category.append(tag.text.strip())\n",
    "\n",
    "    return category"
   ]
  },
  {
   "cell_type": "code",
   "execution_count": 53,
   "metadata": {},
   "outputs": [],
   "source": [
    "def extract_title(html_page):\n",
    "    selector = 'body > div > div.main > table > tbody > tr > td.title > a'\n",
    "    tags = html_page.select(selector)\n",
    "    title = []\n",
    "    \n",
    "    for tag in tags:\n",
    "        title.append(tag.text.strip())\n",
    "        \n",
    "    return title"
   ]
  },
  {
   "cell_type": "code",
   "execution_count": 54,
   "metadata": {},
   "outputs": [],
   "source": [
    "def extract_link_title(html_page):\n",
    "    selector = 'body > div > div.main > table > tbody > tr > td.title > a'\n",
    "    tags = html_page.select(selector)\n",
    "    link_title = []\n",
    "    \n",
    "    for tag in tags:    \n",
    "        link_title.append('http://www.it.kmitl.ac.th/~teerapong/news_archive/' + tag['href'])\n",
    "        \n",
    "    return link_title"
   ]
  },
  {
   "cell_type": "code",
   "execution_count": 55,
   "metadata": {},
   "outputs": [],
   "source": [
    "def extract_month(html_page):\n",
    "    selector = 'body > div > div.main > h1'\n",
    "    tag = html_page.select_one(selector)\n",
    "    month = tag.text.split()[-1]\n",
    "    return month"
   ]
  },
  {
   "cell_type": "code",
   "execution_count": 56,
   "metadata": {},
   "outputs": [],
   "source": [
    "url = 'http://www.it.kmitl.ac.th/~teerapong/news_archive/month-jan-2017.html'\n",
    "response = requests.get(url)\n",
    "html_page = bs4.BeautifulSoup(response.content, 'html.parser')\n",
    "# extract_category(html_page)\n",
    "# extract_title(html_page)\n",
    "# extract_link_title(html_page)\n",
    "# extract_month(html_page)"
   ]
  },
  {
   "cell_type": "code",
   "execution_count": 57,
   "metadata": {},
   "outputs": [],
   "source": [
    "# ['Jan']*118"
   ]
  },
  {
   "cell_type": "code",
   "execution_count": 58,
   "metadata": {},
   "outputs": [],
   "source": [
    "def extract_news_archive_info(url):\n",
    "    response = requests.get(url)\n",
    "    html_page = bs4.BeautifulSoup(response.content, 'html.parser')\n",
    "    \n",
    "    category = extract_category(html_page)\n",
    "    title = extract_title(html_page)\n",
    "    link_title = extract_link_title(html_page)\n",
    "    month = extract_month(html_page)\n",
    "    \n",
    "#     news_archive_dict = {\n",
    "#         'Article Category': category,\n",
    "#         'Article Title': title,\n",
    "#         'Article link': link_title\n",
    "#     }\n",
    "\n",
    "    news_archive_list = [category,\n",
    "            title,\n",
    "            link_title\n",
    "                        ]\n",
    "    \n",
    "#     return news_archive_list\n",
    "    category = pd.Series(news_archive_list[0])\n",
    "    title = pd.Series(news_archive_list[1])\n",
    "    link_title = pd.Series(news_archive_list[2])\n",
    "    month_series = pd.Series([month]*len(category))\n",
    "    \n",
    "    result = pd.concat([category, title, link_title, month_series], axis=1)\n",
    "    result = result.rename(columns={0: \"category\", 1: \"title\", 2: \"link\", 3:'month'})\n",
    "    return result"
   ]
  },
  {
   "cell_type": "code",
   "execution_count": 59,
   "metadata": {},
   "outputs": [],
   "source": [
    "# url = 'http://www.it.kmitl.ac.th/~teerapong/news_archive/month-jan-2017.html'\n",
    "# df = extract_news_archive_info(url)\n",
    "# df"
   ]
  },
  {
   "cell_type": "code",
   "execution_count": 60,
   "metadata": {},
   "outputs": [],
   "source": [
    "# category = pd.Series(news_archive_list[0])\n",
    "# title = pd.Series(news_archive_list[1])\n",
    "# link_title = pd.Series(news_archive_list[2])"
   ]
  },
  {
   "cell_type": "code",
   "execution_count": 61,
   "metadata": {
    "scrolled": true
   },
   "outputs": [],
   "source": [
    "# df = pd.concat([category, title, link_title], axis=1)\n",
    "# df = df.rename(columns={0: \"category\", 1: \"title\", 2: \"link_title\"})\n"
   ]
  },
  {
   "cell_type": "markdown",
   "metadata": {},
   "source": [
    "### เอา url ไปเข้า Function"
   ]
  },
  {
   "cell_type": "code",
   "execution_count": 62,
   "metadata": {},
   "outputs": [
    {
     "data": {
      "text/plain": [
       "['http://www.it.kmitl.ac.th/~teerapong/news_archive/month-jan-2017.html',\n",
       " 'http://www.it.kmitl.ac.th/~teerapong/news_archive/month-feb-2017.html',\n",
       " 'http://www.it.kmitl.ac.th/~teerapong/news_archive/month-mar-2017.html',\n",
       " 'http://www.it.kmitl.ac.th/~teerapong/news_archive/month-apr-2017.html',\n",
       " 'http://www.it.kmitl.ac.th/~teerapong/news_archive/month-may-2017.html',\n",
       " 'http://www.it.kmitl.ac.th/~teerapong/news_archive/month-jun-2017.html',\n",
       " 'http://www.it.kmitl.ac.th/~teerapong/news_archive/month-jul-2017.html',\n",
       " 'http://www.it.kmitl.ac.th/~teerapong/news_archive/month-aug-2017.html',\n",
       " 'http://www.it.kmitl.ac.th/~teerapong/news_archive/month-sep-2017.html',\n",
       " 'http://www.it.kmitl.ac.th/~teerapong/news_archive/month-oct-2017.html',\n",
       " 'http://www.it.kmitl.ac.th/~teerapong/news_archive/month-nov-2017.html',\n",
       " 'http://www.it.kmitl.ac.th/~teerapong/news_archive/month-dec-2017.html']"
      ]
     },
     "execution_count": 62,
     "metadata": {},
     "output_type": "execute_result"
    }
   ],
   "source": [
    "list_archive"
   ]
  },
  {
   "cell_type": "code",
   "execution_count": 63,
   "metadata": {},
   "outputs": [],
   "source": [
    "for url in list_archive:\n",
    "    result = extract_news_archive_info(url)\n",
    "    df = df.append(result, ignore_index=True)"
   ]
  },
  {
   "cell_type": "code",
   "execution_count": 64,
   "metadata": {},
   "outputs": [
    {
     "data": {
      "text/plain": [
       "category    0\n",
       "title       0\n",
       "link        0\n",
       "month       0\n",
       "dtype: int64"
      ]
     },
     "execution_count": 64,
     "metadata": {},
     "output_type": "execute_result"
    }
   ],
   "source": [
    "df.isna().sum()"
   ]
  },
  {
   "cell_type": "code",
   "execution_count": 65,
   "metadata": {},
   "outputs": [
    {
     "data": {
      "text/html": [
       "<div>\n",
       "<style scoped>\n",
       "    .dataframe tbody tr th:only-of-type {\n",
       "        vertical-align: middle;\n",
       "    }\n",
       "\n",
       "    .dataframe tbody tr th {\n",
       "        vertical-align: top;\n",
       "    }\n",
       "\n",
       "    .dataframe thead th {\n",
       "        text-align: right;\n",
       "    }\n",
       "</style>\n",
       "<table border=\"1\" class=\"dataframe\">\n",
       "  <thead>\n",
       "    <tr style=\"text-align: right;\">\n",
       "      <th></th>\n",
       "      <th>category</th>\n",
       "      <th>title</th>\n",
       "      <th>link</th>\n",
       "      <th>month</th>\n",
       "    </tr>\n",
       "  </thead>\n",
       "  <tbody>\n",
       "    <tr>\n",
       "      <th>0</th>\n",
       "      <td>technology</td>\n",
       "      <td>21st-Century Sports: How Digital Technology Is...</td>\n",
       "      <td>http://www.it.kmitl.ac.th/~teerapong/news_arch...</td>\n",
       "      <td>January</td>\n",
       "    </tr>\n",
       "    <tr>\n",
       "      <th>1</th>\n",
       "      <td>business</td>\n",
       "      <td>Asian quake hits European shares</td>\n",
       "      <td>http://www.it.kmitl.ac.th/~teerapong/news_arch...</td>\n",
       "      <td>January</td>\n",
       "    </tr>\n",
       "    <tr>\n",
       "      <th>2</th>\n",
       "      <td>technology</td>\n",
       "      <td>BT offers free net phone calls</td>\n",
       "      <td>http://www.it.kmitl.ac.th/~teerapong/news_arch...</td>\n",
       "      <td>January</td>\n",
       "    </tr>\n",
       "    <tr>\n",
       "      <th>3</th>\n",
       "      <td>business</td>\n",
       "      <td>Barclays shares up on merger talk</td>\n",
       "      <td>http://www.it.kmitl.ac.th/~teerapong/news_arch...</td>\n",
       "      <td>January</td>\n",
       "    </tr>\n",
       "    <tr>\n",
       "      <th>4</th>\n",
       "      <td>sport</td>\n",
       "      <td>Barkley fit for match in Ireland</td>\n",
       "      <td>http://www.it.kmitl.ac.th/~teerapong/news_arch...</td>\n",
       "      <td>January</td>\n",
       "    </tr>\n",
       "    <tr>\n",
       "      <th>...</th>\n",
       "      <td>...</td>\n",
       "      <td>...</td>\n",
       "      <td>...</td>\n",
       "      <td>...</td>\n",
       "    </tr>\n",
       "    <tr>\n",
       "      <th>1403</th>\n",
       "      <td>sport</td>\n",
       "      <td>Woodward eyes Brennan for Lions</td>\n",
       "      <td>http://www.it.kmitl.ac.th/~teerapong/news_arch...</td>\n",
       "      <td>December</td>\n",
       "    </tr>\n",
       "    <tr>\n",
       "      <th>1404</th>\n",
       "      <td>business</td>\n",
       "      <td>WorldCom trial starts in New York</td>\n",
       "      <td>http://www.it.kmitl.ac.th/~teerapong/news_arch...</td>\n",
       "      <td>December</td>\n",
       "    </tr>\n",
       "    <tr>\n",
       "      <th>1405</th>\n",
       "      <td>business</td>\n",
       "      <td>Yukos accused of lying to court</td>\n",
       "      <td>http://www.it.kmitl.ac.th/~teerapong/news_arch...</td>\n",
       "      <td>December</td>\n",
       "    </tr>\n",
       "    <tr>\n",
       "      <th>1406</th>\n",
       "      <td>business</td>\n",
       "      <td>Yukos drops banks from court bid</td>\n",
       "      <td>http://www.it.kmitl.ac.th/~teerapong/news_arch...</td>\n",
       "      <td>December</td>\n",
       "    </tr>\n",
       "    <tr>\n",
       "      <th>1407</th>\n",
       "      <td>sport</td>\n",
       "      <td>Zambia confident and cautious</td>\n",
       "      <td>http://www.it.kmitl.ac.th/~teerapong/news_arch...</td>\n",
       "      <td>December</td>\n",
       "    </tr>\n",
       "  </tbody>\n",
       "</table>\n",
       "<p>1408 rows × 4 columns</p>\n",
       "</div>"
      ],
      "text/plain": [
       "        category                                              title  \\\n",
       "0     technology  21st-Century Sports: How Digital Technology Is...   \n",
       "1       business                   Asian quake hits European shares   \n",
       "2     technology                     BT offers free net phone calls   \n",
       "3       business                  Barclays shares up on merger talk   \n",
       "4          sport                   Barkley fit for match in Ireland   \n",
       "...          ...                                                ...   \n",
       "1403       sport                    Woodward eyes Brennan for Lions   \n",
       "1404    business                  WorldCom trial starts in New York   \n",
       "1405    business                    Yukos accused of lying to court   \n",
       "1406    business                   Yukos drops banks from court bid   \n",
       "1407       sport                      Zambia confident and cautious   \n",
       "\n",
       "                                                   link     month  \n",
       "0     http://www.it.kmitl.ac.th/~teerapong/news_arch...   January  \n",
       "1     http://www.it.kmitl.ac.th/~teerapong/news_arch...   January  \n",
       "2     http://www.it.kmitl.ac.th/~teerapong/news_arch...   January  \n",
       "3     http://www.it.kmitl.ac.th/~teerapong/news_arch...   January  \n",
       "4     http://www.it.kmitl.ac.th/~teerapong/news_arch...   January  \n",
       "...                                                 ...       ...  \n",
       "1403  http://www.it.kmitl.ac.th/~teerapong/news_arch...  December  \n",
       "1404  http://www.it.kmitl.ac.th/~teerapong/news_arch...  December  \n",
       "1405  http://www.it.kmitl.ac.th/~teerapong/news_arch...  December  \n",
       "1406  http://www.it.kmitl.ac.th/~teerapong/news_arch...  December  \n",
       "1407  http://www.it.kmitl.ac.th/~teerapong/news_arch...  December  \n",
       "\n",
       "[1408 rows x 4 columns]"
      ]
     },
     "execution_count": 65,
     "metadata": {},
     "output_type": "execute_result"
    }
   ],
   "source": [
    "df"
   ]
  },
  {
   "cell_type": "code",
   "execution_count": 66,
   "metadata": {},
   "outputs": [],
   "source": [
    "# df['link'].iloc[0][50:-5]"
   ]
  },
  {
   "cell_type": "markdown",
   "metadata": {},
   "source": [
    "### Add id coloumn"
   ]
  },
  {
   "cell_type": "code",
   "execution_count": 67,
   "metadata": {},
   "outputs": [
    {
     "data": {
      "text/html": [
       "<div>\n",
       "<style scoped>\n",
       "    .dataframe tbody tr th:only-of-type {\n",
       "        vertical-align: middle;\n",
       "    }\n",
       "\n",
       "    .dataframe tbody tr th {\n",
       "        vertical-align: top;\n",
       "    }\n",
       "\n",
       "    .dataframe thead th {\n",
       "        text-align: right;\n",
       "    }\n",
       "</style>\n",
       "<table border=\"1\" class=\"dataframe\">\n",
       "  <thead>\n",
       "    <tr style=\"text-align: right;\">\n",
       "      <th></th>\n",
       "      <th>category</th>\n",
       "      <th>title</th>\n",
       "      <th>link</th>\n",
       "      <th>month</th>\n",
       "      <th>id</th>\n",
       "    </tr>\n",
       "  </thead>\n",
       "  <tbody>\n",
       "    <tr>\n",
       "      <th>0</th>\n",
       "      <td>technology</td>\n",
       "      <td>21st-Century Sports: How Digital Technology Is...</td>\n",
       "      <td>http://www.it.kmitl.ac.th/~teerapong/news_arch...</td>\n",
       "      <td>January</td>\n",
       "      <td>article-jan-0418</td>\n",
       "    </tr>\n",
       "    <tr>\n",
       "      <th>1</th>\n",
       "      <td>business</td>\n",
       "      <td>Asian quake hits European shares</td>\n",
       "      <td>http://www.it.kmitl.ac.th/~teerapong/news_arch...</td>\n",
       "      <td>January</td>\n",
       "      <td>article-jan-0027</td>\n",
       "    </tr>\n",
       "    <tr>\n",
       "      <th>2</th>\n",
       "      <td>technology</td>\n",
       "      <td>BT offers free net phone calls</td>\n",
       "      <td>http://www.it.kmitl.ac.th/~teerapong/news_arch...</td>\n",
       "      <td>January</td>\n",
       "      <td>article-jan-0631</td>\n",
       "    </tr>\n",
       "    <tr>\n",
       "      <th>3</th>\n",
       "      <td>business</td>\n",
       "      <td>Barclays shares up on merger talk</td>\n",
       "      <td>http://www.it.kmitl.ac.th/~teerapong/news_arch...</td>\n",
       "      <td>January</td>\n",
       "      <td>article-jan-2105</td>\n",
       "    </tr>\n",
       "    <tr>\n",
       "      <th>4</th>\n",
       "      <td>sport</td>\n",
       "      <td>Barkley fit for match in Ireland</td>\n",
       "      <td>http://www.it.kmitl.ac.th/~teerapong/news_arch...</td>\n",
       "      <td>January</td>\n",
       "      <td>article-jan-3300</td>\n",
       "    </tr>\n",
       "    <tr>\n",
       "      <th>...</th>\n",
       "      <td>...</td>\n",
       "      <td>...</td>\n",
       "      <td>...</td>\n",
       "      <td>...</td>\n",
       "      <td>...</td>\n",
       "    </tr>\n",
       "    <tr>\n",
       "      <th>1403</th>\n",
       "      <td>sport</td>\n",
       "      <td>Woodward eyes Brennan for Lions</td>\n",
       "      <td>http://www.it.kmitl.ac.th/~teerapong/news_arch...</td>\n",
       "      <td>December</td>\n",
       "      <td>article-dec-2238</td>\n",
       "    </tr>\n",
       "    <tr>\n",
       "      <th>1404</th>\n",
       "      <td>business</td>\n",
       "      <td>WorldCom trial starts in New York</td>\n",
       "      <td>http://www.it.kmitl.ac.th/~teerapong/news_arch...</td>\n",
       "      <td>December</td>\n",
       "      <td>article-dec-2334</td>\n",
       "    </tr>\n",
       "    <tr>\n",
       "      <th>1405</th>\n",
       "      <td>business</td>\n",
       "      <td>Yukos accused of lying to court</td>\n",
       "      <td>http://www.it.kmitl.ac.th/~teerapong/news_arch...</td>\n",
       "      <td>December</td>\n",
       "      <td>article-dec-2095</td>\n",
       "    </tr>\n",
       "    <tr>\n",
       "      <th>1406</th>\n",
       "      <td>business</td>\n",
       "      <td>Yukos drops banks from court bid</td>\n",
       "      <td>http://www.it.kmitl.ac.th/~teerapong/news_arch...</td>\n",
       "      <td>December</td>\n",
       "      <td>article-dec-1351</td>\n",
       "    </tr>\n",
       "    <tr>\n",
       "      <th>1407</th>\n",
       "      <td>sport</td>\n",
       "      <td>Zambia confident and cautious</td>\n",
       "      <td>http://www.it.kmitl.ac.th/~teerapong/news_arch...</td>\n",
       "      <td>December</td>\n",
       "      <td>article-dec-0068</td>\n",
       "    </tr>\n",
       "  </tbody>\n",
       "</table>\n",
       "<p>1408 rows × 5 columns</p>\n",
       "</div>"
      ],
      "text/plain": [
       "        category                                              title  \\\n",
       "0     technology  21st-Century Sports: How Digital Technology Is...   \n",
       "1       business                   Asian quake hits European shares   \n",
       "2     technology                     BT offers free net phone calls   \n",
       "3       business                  Barclays shares up on merger talk   \n",
       "4          sport                   Barkley fit for match in Ireland   \n",
       "...          ...                                                ...   \n",
       "1403       sport                    Woodward eyes Brennan for Lions   \n",
       "1404    business                  WorldCom trial starts in New York   \n",
       "1405    business                    Yukos accused of lying to court   \n",
       "1406    business                   Yukos drops banks from court bid   \n",
       "1407       sport                      Zambia confident and cautious   \n",
       "\n",
       "                                                   link     month  \\\n",
       "0     http://www.it.kmitl.ac.th/~teerapong/news_arch...   January   \n",
       "1     http://www.it.kmitl.ac.th/~teerapong/news_arch...   January   \n",
       "2     http://www.it.kmitl.ac.th/~teerapong/news_arch...   January   \n",
       "3     http://www.it.kmitl.ac.th/~teerapong/news_arch...   January   \n",
       "4     http://www.it.kmitl.ac.th/~teerapong/news_arch...   January   \n",
       "...                                                 ...       ...   \n",
       "1403  http://www.it.kmitl.ac.th/~teerapong/news_arch...  December   \n",
       "1404  http://www.it.kmitl.ac.th/~teerapong/news_arch...  December   \n",
       "1405  http://www.it.kmitl.ac.th/~teerapong/news_arch...  December   \n",
       "1406  http://www.it.kmitl.ac.th/~teerapong/news_arch...  December   \n",
       "1407  http://www.it.kmitl.ac.th/~teerapong/news_arch...  December   \n",
       "\n",
       "                    id  \n",
       "0     article-jan-0418  \n",
       "1     article-jan-0027  \n",
       "2     article-jan-0631  \n",
       "3     article-jan-2105  \n",
       "4     article-jan-3300  \n",
       "...                ...  \n",
       "1403  article-dec-2238  \n",
       "1404  article-dec-2334  \n",
       "1405  article-dec-2095  \n",
       "1406  article-dec-1351  \n",
       "1407  article-dec-0068  \n",
       "\n",
       "[1408 rows x 5 columns]"
      ]
     },
     "execution_count": 67,
     "metadata": {},
     "output_type": "execute_result"
    }
   ],
   "source": [
    "df['id'] = df['link'].str[50:-5]\n",
    "df"
   ]
  },
  {
   "cell_type": "code",
   "execution_count": 68,
   "metadata": {},
   "outputs": [],
   "source": [
    "# for i in range(len(result)):\n",
    "#     print(result['link'].iloc[i])"
   ]
  },
  {
   "cell_type": "markdown",
   "metadata": {},
   "source": [
    "### Get Content"
   ]
  },
  {
   "cell_type": "code",
   "execution_count": 70,
   "metadata": {},
   "outputs": [],
   "source": [
    "list_content = []"
   ]
  },
  {
   "cell_type": "code",
   "execution_count": 71,
   "metadata": {},
   "outputs": [],
   "source": [
    "def get_content(url):\n",
    "    response = requests.get(url)\n",
    "\n",
    "    html_page = bs4.BeautifulSoup(response.content, 'html.parser')\n",
    "\n",
    "    selector = 'body > div > div.main > p'\n",
    "    tags = html_page.select(selector)\n",
    "\n",
    "    content = ''\n",
    "    for tag in tags:\n",
    "        if tag.text.strip() != '':\n",
    "            if '.html' in str(tag):\n",
    "                pass\n",
    "            else:\n",
    "                content += tag.text.strip() + ' '\n",
    "                \n",
    "    list_content.append(content.strip())\n"
   ]
  },
  {
   "cell_type": "code",
   "execution_count": 72,
   "metadata": {},
   "outputs": [],
   "source": [
    "# get_content('http://www.it.kmitl.ac.th/~teerapong/news_archive/article-jan-4187.html')\n",
    "# print(list_content[0])"
   ]
  },
  {
   "cell_type": "code",
   "execution_count": 73,
   "metadata": {},
   "outputs": [],
   "source": [
    "for i in range(len(df)):\n",
    "    get_content(df['link'].iloc[i])"
   ]
  },
  {
   "cell_type": "code",
   "execution_count": 29,
   "metadata": {},
   "outputs": [],
   "source": [
    "# df['link'].iloc[1403]"
   ]
  },
  {
   "cell_type": "code",
   "execution_count": 74,
   "metadata": {},
   "outputs": [
    {
     "data": {
      "text/html": [
       "<div>\n",
       "<style scoped>\n",
       "    .dataframe tbody tr th:only-of-type {\n",
       "        vertical-align: middle;\n",
       "    }\n",
       "\n",
       "    .dataframe tbody tr th {\n",
       "        vertical-align: top;\n",
       "    }\n",
       "\n",
       "    .dataframe thead th {\n",
       "        text-align: right;\n",
       "    }\n",
       "</style>\n",
       "<table border=\"1\" class=\"dataframe\">\n",
       "  <thead>\n",
       "    <tr style=\"text-align: right;\">\n",
       "      <th></th>\n",
       "      <th>category</th>\n",
       "      <th>title</th>\n",
       "      <th>link</th>\n",
       "      <th>month</th>\n",
       "      <th>id</th>\n",
       "      <th>content</th>\n",
       "    </tr>\n",
       "  </thead>\n",
       "  <tbody>\n",
       "    <tr>\n",
       "      <th>0</th>\n",
       "      <td>technology</td>\n",
       "      <td>21st-Century Sports: How Digital Technology Is...</td>\n",
       "      <td>http://www.it.kmitl.ac.th/~teerapong/news_arch...</td>\n",
       "      <td>January</td>\n",
       "      <td>article-jan-0418</td>\n",
       "      <td>The sporting industry has come a long way sinc...</td>\n",
       "    </tr>\n",
       "    <tr>\n",
       "      <th>1</th>\n",
       "      <td>business</td>\n",
       "      <td>Asian quake hits European shares</td>\n",
       "      <td>http://www.it.kmitl.ac.th/~teerapong/news_arch...</td>\n",
       "      <td>January</td>\n",
       "      <td>article-jan-0027</td>\n",
       "      <td>Asian quake hits European shares Shares in Eur...</td>\n",
       "    </tr>\n",
       "    <tr>\n",
       "      <th>2</th>\n",
       "      <td>technology</td>\n",
       "      <td>BT offers free net phone calls</td>\n",
       "      <td>http://www.it.kmitl.ac.th/~teerapong/news_arch...</td>\n",
       "      <td>January</td>\n",
       "      <td>article-jan-0631</td>\n",
       "      <td>BT is offering customers free internet telepho...</td>\n",
       "    </tr>\n",
       "    <tr>\n",
       "      <th>3</th>\n",
       "      <td>business</td>\n",
       "      <td>Barclays shares up on merger talk</td>\n",
       "      <td>http://www.it.kmitl.ac.th/~teerapong/news_arch...</td>\n",
       "      <td>January</td>\n",
       "      <td>article-jan-2105</td>\n",
       "      <td>Barclays shares up on merger talk Shares in UK...</td>\n",
       "    </tr>\n",
       "    <tr>\n",
       "      <th>4</th>\n",
       "      <td>sport</td>\n",
       "      <td>Barkley fit for match in Ireland</td>\n",
       "      <td>http://www.it.kmitl.ac.th/~teerapong/news_arch...</td>\n",
       "      <td>January</td>\n",
       "      <td>article-jan-3300</td>\n",
       "      <td>England centre Olly Barkley has been passed fi...</td>\n",
       "    </tr>\n",
       "    <tr>\n",
       "      <th>...</th>\n",
       "      <td>...</td>\n",
       "      <td>...</td>\n",
       "      <td>...</td>\n",
       "      <td>...</td>\n",
       "      <td>...</td>\n",
       "      <td>...</td>\n",
       "    </tr>\n",
       "    <tr>\n",
       "      <th>1403</th>\n",
       "      <td>sport</td>\n",
       "      <td>Woodward eyes Brennan for Lions</td>\n",
       "      <td>http://www.it.kmitl.ac.th/~teerapong/news_arch...</td>\n",
       "      <td>December</td>\n",
       "      <td>article-dec-2238</td>\n",
       "      <td>Woodward eyes Brennan for Lions Toulouse's for...</td>\n",
       "    </tr>\n",
       "    <tr>\n",
       "      <th>1404</th>\n",
       "      <td>business</td>\n",
       "      <td>WorldCom trial starts in New York</td>\n",
       "      <td>http://www.it.kmitl.ac.th/~teerapong/news_arch...</td>\n",
       "      <td>December</td>\n",
       "      <td>article-dec-2334</td>\n",
       "      <td>The trial of Bernie Ebbers, former chief execu...</td>\n",
       "    </tr>\n",
       "    <tr>\n",
       "      <th>1405</th>\n",
       "      <td>business</td>\n",
       "      <td>Yukos accused of lying to court</td>\n",
       "      <td>http://www.it.kmitl.ac.th/~teerapong/news_arch...</td>\n",
       "      <td>December</td>\n",
       "      <td>article-dec-2095</td>\n",
       "      <td>Yukos accused of lying to court Russian oil fi...</td>\n",
       "    </tr>\n",
       "    <tr>\n",
       "      <th>1406</th>\n",
       "      <td>business</td>\n",
       "      <td>Yukos drops banks from court bid</td>\n",
       "      <td>http://www.it.kmitl.ac.th/~teerapong/news_arch...</td>\n",
       "      <td>December</td>\n",
       "      <td>article-dec-1351</td>\n",
       "      <td>Russian oil company Yukos has dropped the thre...</td>\n",
       "    </tr>\n",
       "    <tr>\n",
       "      <th>1407</th>\n",
       "      <td>sport</td>\n",
       "      <td>Zambia confident and cautious</td>\n",
       "      <td>http://www.it.kmitl.ac.th/~teerapong/news_arch...</td>\n",
       "      <td>December</td>\n",
       "      <td>article-dec-0068</td>\n",
       "      <td>Zambia's technical director, Kalusha Bwalya is...</td>\n",
       "    </tr>\n",
       "  </tbody>\n",
       "</table>\n",
       "<p>1408 rows × 6 columns</p>\n",
       "</div>"
      ],
      "text/plain": [
       "        category                                              title  \\\n",
       "0     technology  21st-Century Sports: How Digital Technology Is...   \n",
       "1       business                   Asian quake hits European shares   \n",
       "2     technology                     BT offers free net phone calls   \n",
       "3       business                  Barclays shares up on merger talk   \n",
       "4          sport                   Barkley fit for match in Ireland   \n",
       "...          ...                                                ...   \n",
       "1403       sport                    Woodward eyes Brennan for Lions   \n",
       "1404    business                  WorldCom trial starts in New York   \n",
       "1405    business                    Yukos accused of lying to court   \n",
       "1406    business                   Yukos drops banks from court bid   \n",
       "1407       sport                      Zambia confident and cautious   \n",
       "\n",
       "                                                   link     month  \\\n",
       "0     http://www.it.kmitl.ac.th/~teerapong/news_arch...   January   \n",
       "1     http://www.it.kmitl.ac.th/~teerapong/news_arch...   January   \n",
       "2     http://www.it.kmitl.ac.th/~teerapong/news_arch...   January   \n",
       "3     http://www.it.kmitl.ac.th/~teerapong/news_arch...   January   \n",
       "4     http://www.it.kmitl.ac.th/~teerapong/news_arch...   January   \n",
       "...                                                 ...       ...   \n",
       "1403  http://www.it.kmitl.ac.th/~teerapong/news_arch...  December   \n",
       "1404  http://www.it.kmitl.ac.th/~teerapong/news_arch...  December   \n",
       "1405  http://www.it.kmitl.ac.th/~teerapong/news_arch...  December   \n",
       "1406  http://www.it.kmitl.ac.th/~teerapong/news_arch...  December   \n",
       "1407  http://www.it.kmitl.ac.th/~teerapong/news_arch...  December   \n",
       "\n",
       "                    id                                            content  \n",
       "0     article-jan-0418  The sporting industry has come a long way sinc...  \n",
       "1     article-jan-0027  Asian quake hits European shares Shares in Eur...  \n",
       "2     article-jan-0631  BT is offering customers free internet telepho...  \n",
       "3     article-jan-2105  Barclays shares up on merger talk Shares in UK...  \n",
       "4     article-jan-3300  England centre Olly Barkley has been passed fi...  \n",
       "...                ...                                                ...  \n",
       "1403  article-dec-2238  Woodward eyes Brennan for Lions Toulouse's for...  \n",
       "1404  article-dec-2334  The trial of Bernie Ebbers, former chief execu...  \n",
       "1405  article-dec-2095  Yukos accused of lying to court Russian oil fi...  \n",
       "1406  article-dec-1351  Russian oil company Yukos has dropped the thre...  \n",
       "1407  article-dec-0068  Zambia's technical director, Kalusha Bwalya is...  \n",
       "\n",
       "[1408 rows x 6 columns]"
      ]
     },
     "execution_count": 74,
     "metadata": {},
     "output_type": "execute_result"
    }
   ],
   "source": [
    "content = pd.Series(list_content)\n",
    "df = pd.concat([df, content], axis=1)\n",
    "df = df.rename(columns={0: \"content\"})\n",
    "df"
   ]
  },
  {
   "cell_type": "code",
   "execution_count": 75,
   "metadata": {},
   "outputs": [],
   "source": [
    "# print(df['link'].iloc[1403])\n",
    "# print(df['id'].iloc[1403])\n",
    "# print(df['content'].iloc[1403])"
   ]
  },
  {
   "cell_type": "markdown",
   "metadata": {},
   "source": [
    "## save DataFarame to csv/txt\n",
    "เพื่อให้ง่ายต่อการใช้ในภายหลัง"
   ]
  },
  {
   "cell_type": "code",
   "execution_count": 76,
   "metadata": {},
   "outputs": [],
   "source": [
    "# df.to_csv('data.csv', index=False)"
   ]
  },
  {
   "cell_type": "code",
   "execution_count": 77,
   "metadata": {
    "scrolled": true
   },
   "outputs": [
    {
     "data": {
      "text/html": [
       "<div>\n",
       "<style scoped>\n",
       "    .dataframe tbody tr th:only-of-type {\n",
       "        vertical-align: middle;\n",
       "    }\n",
       "\n",
       "    .dataframe tbody tr th {\n",
       "        vertical-align: top;\n",
       "    }\n",
       "\n",
       "    .dataframe thead th {\n",
       "        text-align: right;\n",
       "    }\n",
       "</style>\n",
       "<table border=\"1\" class=\"dataframe\">\n",
       "  <thead>\n",
       "    <tr style=\"text-align: right;\">\n",
       "      <th></th>\n",
       "      <th>category</th>\n",
       "      <th>title</th>\n",
       "      <th>link</th>\n",
       "      <th>month</th>\n",
       "      <th>id</th>\n",
       "      <th>content</th>\n",
       "    </tr>\n",
       "  </thead>\n",
       "  <tbody>\n",
       "    <tr>\n",
       "      <th>0</th>\n",
       "      <td>technology</td>\n",
       "      <td>21st-Century Sports: How Digital Technology Is...</td>\n",
       "      <td>http://www.it.kmitl.ac.th/~teerapong/news_arch...</td>\n",
       "      <td>January</td>\n",
       "      <td>article-jan-0418</td>\n",
       "      <td>The sporting industry has come a long way sinc...</td>\n",
       "    </tr>\n",
       "    <tr>\n",
       "      <th>1</th>\n",
       "      <td>business</td>\n",
       "      <td>Asian quake hits European shares</td>\n",
       "      <td>http://www.it.kmitl.ac.th/~teerapong/news_arch...</td>\n",
       "      <td>January</td>\n",
       "      <td>article-jan-0027</td>\n",
       "      <td>Asian quake hits European shares Shares in Eur...</td>\n",
       "    </tr>\n",
       "    <tr>\n",
       "      <th>2</th>\n",
       "      <td>technology</td>\n",
       "      <td>BT offers free net phone calls</td>\n",
       "      <td>http://www.it.kmitl.ac.th/~teerapong/news_arch...</td>\n",
       "      <td>January</td>\n",
       "      <td>article-jan-0631</td>\n",
       "      <td>BT is offering customers free internet telepho...</td>\n",
       "    </tr>\n",
       "    <tr>\n",
       "      <th>3</th>\n",
       "      <td>business</td>\n",
       "      <td>Barclays shares up on merger talk</td>\n",
       "      <td>http://www.it.kmitl.ac.th/~teerapong/news_arch...</td>\n",
       "      <td>January</td>\n",
       "      <td>article-jan-2105</td>\n",
       "      <td>Barclays shares up on merger talk Shares in UK...</td>\n",
       "    </tr>\n",
       "    <tr>\n",
       "      <th>4</th>\n",
       "      <td>sport</td>\n",
       "      <td>Barkley fit for match in Ireland</td>\n",
       "      <td>http://www.it.kmitl.ac.th/~teerapong/news_arch...</td>\n",
       "      <td>January</td>\n",
       "      <td>article-jan-3300</td>\n",
       "      <td>England centre Olly Barkley has been passed fi...</td>\n",
       "    </tr>\n",
       "  </tbody>\n",
       "</table>\n",
       "</div>"
      ],
      "text/plain": [
       "     category                                              title  \\\n",
       "0  technology  21st-Century Sports: How Digital Technology Is...   \n",
       "1    business                   Asian quake hits European shares   \n",
       "2  technology                     BT offers free net phone calls   \n",
       "3    business                  Barclays shares up on merger talk   \n",
       "4       sport                   Barkley fit for match in Ireland   \n",
       "\n",
       "                                                link    month  \\\n",
       "0  http://www.it.kmitl.ac.th/~teerapong/news_arch...  January   \n",
       "1  http://www.it.kmitl.ac.th/~teerapong/news_arch...  January   \n",
       "2  http://www.it.kmitl.ac.th/~teerapong/news_arch...  January   \n",
       "3  http://www.it.kmitl.ac.th/~teerapong/news_arch...  January   \n",
       "4  http://www.it.kmitl.ac.th/~teerapong/news_arch...  January   \n",
       "\n",
       "                 id                                            content  \n",
       "0  article-jan-0418  The sporting industry has come a long way sinc...  \n",
       "1  article-jan-0027  Asian quake hits European shares Shares in Eur...  \n",
       "2  article-jan-0631  BT is offering customers free internet telepho...  \n",
       "3  article-jan-2105  Barclays shares up on merger talk Shares in UK...  \n",
       "4  article-jan-3300  England centre Olly Barkley has been passed fi...  "
      ]
     },
     "execution_count": 77,
     "metadata": {},
     "output_type": "execute_result"
    }
   ],
   "source": [
    "df = pd.read_csv('data.csv')\n",
    "df.head()"
   ]
  },
  {
   "cell_type": "code",
   "execution_count": null,
   "metadata": {},
   "outputs": [],
   "source": []
  },
  {
   "cell_type": "markdown",
   "metadata": {},
   "source": [
    "### คัดให้เหลือเฉพาะที่ใช้ในการวิเคราะห์\n",
    "- AllArticles_OnlyContent\n",
    "- AllArticles_HeadingPlusContent"
   ]
  },
  {
   "cell_type": "markdown",
   "metadata": {},
   "source": [
    "**csv**"
   ]
  },
  {
   "cell_type": "code",
   "execution_count": 78,
   "metadata": {},
   "outputs": [],
   "source": [
    "AllArticles_OnlyHeading = df['title']\n",
    "AllArticles_OnlyHeading.to_csv('datastore/AllArticles_OnlyHeading.csv', index=False)"
   ]
  },
  {
   "cell_type": "code",
   "execution_count": 79,
   "metadata": {},
   "outputs": [],
   "source": [
    "AllArticles_OnlyContent = df['content']\n",
    "AllArticles_OnlyContent.to_csv('datastore/AllArticles_OnlyContent.csv', index=False)"
   ]
  },
  {
   "cell_type": "code",
   "execution_count": 80,
   "metadata": {},
   "outputs": [],
   "source": [
    "AllArticles_HeadingPlusContent = df[['title','content']]\n",
    "AllArticles_HeadingPlusContent.to_csv('datastore/AllArticles_HeadingPlusContent.csv', index=False)"
   ]
  },
  {
   "cell_type": "code",
   "execution_count": 81,
   "metadata": {},
   "outputs": [],
   "source": [
    "Category = df['category']\n",
    "Category.to_csv('datastore/category.csv', index=False)"
   ]
  },
  {
   "cell_type": "markdown",
   "metadata": {},
   "source": [
    "**txt**"
   ]
  },
  {
   "cell_type": "code",
   "execution_count": 82,
   "metadata": {},
   "outputs": [],
   "source": [
    "AllArticles_OnlyHeading = df['title']\n",
    "AllArticles_OnlyHeading.to_csv(r'AllArticles_OnlyHeading.txt', header=None, index=None, sep=' ', mode='a')"
   ]
  },
  {
   "cell_type": "code",
   "execution_count": 83,
   "metadata": {},
   "outputs": [],
   "source": [
    "# AllArticles_OnlyContent = df['content']\n",
    "AllArticles_OnlyContent.to_csv(r'AllArticles_OnlyContent.txt', header=None, index=None, sep=' ', mode='a')"
   ]
  },
  {
   "cell_type": "code",
   "execution_count": 84,
   "metadata": {},
   "outputs": [],
   "source": [
    "# AllArticles_HeadingPlusContent = df[['title','content']]\n",
    "AllArticles_HeadingPlusContent.to_csv(r'AllArticles_HeadingPlusContent.txt', header=None, index=None, sep=' ', mode='a')"
   ]
  },
  {
   "cell_type": "code",
   "execution_count": 85,
   "metadata": {},
   "outputs": [],
   "source": [
    "Category.to_csv(r'target/category.txt', header=None, index=None, sep=' ', mode='a')"
   ]
  },
  {
   "cell_type": "code",
   "execution_count": null,
   "metadata": {},
   "outputs": [],
   "source": []
  },
  {
   "cell_type": "markdown",
   "metadata": {},
   "source": [
    "# Preprocessing"
   ]
  },
  {
   "cell_type": "code",
   "execution_count": 86,
   "metadata": {},
   "outputs": [
    {
     "name": "stdout",
     "output_type": "stream",
     "text": [
      "Read 1408 raw text documents\n"
     ]
    }
   ],
   "source": [
    "fin = open(\"AllArticles_OnlyContent.txt\",\"r\", encoding=\"utf8\")\n",
    "raw_documents = fin.readlines()\n",
    "fin.close()\n",
    "print(\"Read %d raw text documents\" % len(raw_documents))"
   ]
  },
  {
   "cell_type": "code",
   "execution_count": 89,
   "metadata": {},
   "outputs": [
    {
     "name": "stdout",
     "output_type": "stream",
     "text": [
      "\"The sporting industry has come a long way since the ‘60s. It has carved out for itself a niche with its roots so deep that I cannot fathom the sports industry showing any sign of decline any time soon - or later. The reason can be found in this seemingly subtle difference - other industries have cu\n"
     ]
    }
   ],
   "source": [
    "doc1 = raw_documents[0].strip()\n",
    "# print a snippet\n",
    "print(doc1[0:300])"
   ]
  },
  {
   "cell_type": "code",
   "execution_count": 90,
   "metadata": {},
   "outputs": [
    {
     "name": "stdout",
     "output_type": "stream",
     "text": [
      "['the', 'sporting', 'industry', 'has', 'come', 'long', 'way', 'since', 'the', '60s', 'it', 'has', 'carved', 'out', 'for', 'itself', 'niche', 'with', 'its', 'roots', 'so', 'deep', 'that', 'cannot', 'fathom', 'the', 'sports', 'industry', 'showing', 'any', 'sign', 'of', 'decline', 'any', 'time', 'soon', 'or', 'later', 'the', 'reason', 'can', 'be', 'found', 'in', 'this', 'seemingly', 'subtle', 'difference', 'other', 'industries', 'have', 'customers', 'the', 'sporting', 'industry', 'has', 'fans', 'vivek', 'ranadivé', 'leader', 'of', 'the', 'ownership', 'group', 'of', 'the', 'nba', 'sacramento', 'kings', 'explained', 'it', 'beautifully', 'fans', 'will', 'paint', 'their', 'face', 'purple', 'fans', 'will', 'evangelize', 'every', 'other', 'ceo', 'in', 'every', 'business', 'is', 'dying', 'to', 'be', 'in', 'our', 'position', 'they', 're', 'dying', 'to', 'have', 'fans', 'while', 'fan', 'passion', 'alone', 'could', 'almost', 'certainly', 'keep', 'the', 'industry', 'going', 'leagues', 'and', 'sporting', 'franchises', 'have', 'decided', 'not', 'to', 'rest', 'on', 'their', 'laurels', 'the', 'last', 'few', 'years', 'have', 'seen', 'the', 'steady', 'introduction', 'of', 'technology', 'into', 'the', 'world', 'of', 'sports', 'amplifying', 'fans', 'appreciation', 'of', 'games', 'enhancing', 'athletes', 'public', 'profiles', 'and', 'informing', 'their', 'training', 'methods', 'even', 'influencing', 'how', 'contests', 'are', 'waged', 'also', 'digital', 'technology', 'in', 'particular', 'has', 'helped', 'to', 'create', 'an', 'alternative', 'source', 'of', 'revenue', 'besides', 'the', 'games', 'themselves', 'corporate', 'sponsorship', 'they', 'achieved', 'this', 'by', 'capitalizing', 'on', 'the', 'ardor', 'of', 'their', 'customer', 'base', 'sorry', 'fan', 'base']\n"
     ]
    }
   ],
   "source": [
    "from sklearn.feature_extraction.text import CountVectorizer\n",
    "tokenize = CountVectorizer().build_tokenizer()\n",
    "# convert to lowercase, then tokenize\n",
    "tokens1 = tokenize(doc1.lower())\n",
    "print(tokens1)"
   ]
  },
  {
   "cell_type": "code",
   "execution_count": 93,
   "metadata": {},
   "outputs": [],
   "source": [
    "#set ของ stopwords ที่มีคนรวบรวมไว้ทั้งหมด\n",
    "from sklearn.feature_extraction import text\n",
    "stopwords = text.ENGLISH_STOP_WORDS"
   ]
  },
  {
   "cell_type": "code",
   "execution_count": 95,
   "metadata": {},
   "outputs": [
    {
     "name": "stdout",
     "output_type": "stream",
     "text": [
      "['sporting', 'industry', 'come', 'long', 'way', '60s', 'carved', 'niche', 'roots', 'deep', 'fathom', 'sports', 'industry', 'showing', 'sign', 'decline', 'time', 'soon', 'later', 'reason', 'seemingly', 'subtle', 'difference', 'industries', 'customers', 'sporting', 'industry', 'fans', 'vivek', 'ranadivé', 'leader', 'ownership', 'group', 'nba', 'sacramento', 'kings', 'explained', 'beautifully', 'fans', 'paint', 'face', 'purple', 'fans', 'evangelize', 'ceo', 'business', 'dying', 'position', 'dying', 'fans', 'fan', 'passion', 'certainly', 'industry', 'going', 'leagues', 'sporting', 'franchises', 'decided', 'rest', 'laurels', 'years', 'seen', 'steady', 'introduction', 'technology', 'world', 'sports', 'amplifying', 'fans', 'appreciation', 'games', 'enhancing', 'athletes', 'public', 'profiles', 'informing', 'training', 'methods', 'influencing', 'contests', 'waged', 'digital', 'technology', 'particular', 'helped', 'create', 'alternative', 'source', 'revenue', 'games', 'corporate', 'sponsorship', 'achieved', 'capitalizing', 'ardor', 'customer', 'base', 'sorry', 'fan', 'base']\n"
     ]
    }
   ],
   "source": [
    "#ตัดคำที่เป็น stopwords ออกไป\n",
    "filtered_tokens1 = []\n",
    "for token in tokens1:\n",
    "    if not token in stopwords:\n",
    "        filtered_tokens1.append(token)\n",
    "print(filtered_tokens1)"
   ]
  },
  {
   "cell_type": "code",
   "execution_count": 96,
   "metadata": {},
   "outputs": [
    {
     "name": "stdout",
     "output_type": "stream",
     "text": [
      "Created 1408 filtered token lists\n"
     ]
    }
   ],
   "source": [
    "all_filtered_tokens = []\n",
    "for doc in raw_documents:\n",
    "    # tokenize the next document\n",
    "    tokens = tokenize(doc.lower())\n",
    "    # remove the stopwords\n",
    "    filtered_tokens = []\n",
    "    for token in tokens:\n",
    "        if not token in stopwords:\n",
    "            filtered_tokens.append(token)  \n",
    "    # add to the overall list\n",
    "    all_filtered_tokens.append( filtered_tokens )\n",
    "print(\"Created %d filtered token lists\" % len(all_filtered_tokens) )"
   ]
  },
  {
   "cell_type": "code",
   "execution_count": 97,
   "metadata": {},
   "outputs": [
    {
     "name": "stdout",
     "output_type": "stream",
     "text": [
      "Found 22543 unique terms in this corpus\n"
     ]
    }
   ],
   "source": [
    "counts = {}\n",
    "# process filtered tokens for each document\n",
    "for doc_tokens in all_filtered_tokens:\n",
    "    for token in doc_tokens:\n",
    "        # increment existing?\n",
    "        if token in counts:\n",
    "            counts[token] += 1\n",
    "        # a new term?\n",
    "        else:\n",
    "            counts[token] = 1\n",
    "print(\"Found %d unique terms in this corpus\" % len(counts))"
   ]
  },
  {
   "cell_type": "code",
   "execution_count": 98,
   "metadata": {},
   "outputs": [],
   "source": [
    "import operator\n",
    "sorted_counts = sorted(counts.items(), key=operator.itemgetter(1), reverse=True)"
   ]
  },
  {
   "cell_type": "code",
   "execution_count": 99,
   "metadata": {},
   "outputs": [
    {
     "name": "stdout",
     "output_type": "stream",
     "text": [
      "said (count=4119)\n",
      "year (count=1549)\n",
      "people (count=1201)\n",
      "new (count=1193)\n",
      "mr (count=1092)\n",
      "world (count=952)\n",
      "time (count=926)\n",
      "game (count=874)\n",
      "closed (count=797)\n",
      "comments (count=789)\n",
      "news (count=762)\n",
      "article (count=744)\n",
      "online (count=721)\n",
      "just (count=683)\n",
      "market (count=638)\n",
      "like (count=618)\n",
      "games (count=601)\n",
      "company (count=598)\n",
      "years (count=597)\n",
      "players (count=597)\n"
     ]
    }
   ],
   "source": [
    "for i in range(20):\n",
    "    term = sorted_counts[i][0]\n",
    "    count = sorted_counts[i][1]\n",
    "    print( \"%s (count=%d)\" % ( term, count ) )"
   ]
  },
  {
   "cell_type": "code",
   "execution_count": 100,
   "metadata": {},
   "outputs": [
    {
     "name": "stdout",
     "output_type": "stream",
     "text": [
      "(1408, 22837)\n"
     ]
    }
   ],
   "source": [
    "from sklearn.feature_extraction.text import CountVectorizer\n",
    "vectorizer = CountVectorizer()\n",
    "X = vectorizer.fit_transform(raw_documents)\n",
    "print(X.shape)"
   ]
  },
  {
   "cell_type": "code",
   "execution_count": 101,
   "metadata": {},
   "outputs": [
    {
     "name": "stdout",
     "output_type": "stream",
     "text": [
      "Vocabulary has 22837 distinct terms\n"
     ]
    }
   ],
   "source": [
    "terms = vectorizer.get_feature_names()\n",
    "vocab = vectorizer.vocabulary_\n",
    "print(\"Vocabulary has %d distinct terms\" % len(terms))"
   ]
  },
  {
   "cell_type": "code",
   "execution_count": 102,
   "metadata": {},
   "outputs": [
    {
     "name": "stdout",
     "output_type": "stream",
     "text": [
      "['26bn', '26m', '27', '270', '271', '273', '274', '275bn', '275m', '276', '277', '277m', '27bn', '27m', '27th', '28', '280', '280bn', '280m', '281', '281m', '284m', '286', '2871', '28bn', '28m', '28th', '29', '290m', '291m']\n"
     ]
    }
   ],
   "source": [
    "print(terms[500:530])"
   ]
  },
  {
   "cell_type": "code",
   "execution_count": 103,
   "metadata": {},
   "outputs": [
    {
     "data": {
      "text/plain": [
       "8608"
      ]
     },
     "execution_count": 103,
     "metadata": {},
     "output_type": "execute_result"
    }
   ],
   "source": [
    "# what column is the term 'football' on?\n",
    "vocab[\"football\"]"
   ]
  },
  {
   "cell_type": "code",
   "execution_count": 104,
   "metadata": {},
   "outputs": [
    {
     "data": {
      "text/plain": [
       "22570"
      ]
     },
     "execution_count": 104,
     "metadata": {},
     "output_type": "execute_result"
    }
   ],
   "source": [
    "# what column is the term 'world' on?\n",
    "vocab[\"world\"]"
   ]
  },
  {
   "cell_type": "code",
   "execution_count": 105,
   "metadata": {},
   "outputs": [
    {
     "data": {
      "text/plain": [
       "20369"
      ]
     },
     "execution_count": 105,
     "metadata": {},
     "output_type": "execute_result"
    }
   ],
   "source": [
    "vocab[\"technology\"]"
   ]
  },
  {
   "cell_type": "code",
   "execution_count": 106,
   "metadata": {},
   "outputs": [],
   "source": [
    "from sklearn.feature_extraction.text import CountVectorizer\n",
    "vectorizer = CountVectorizer(ngram_range = (1,2))\n",
    "X = vectorizer.fit_transform(raw_documents)"
   ]
  },
  {
   "cell_type": "code",
   "execution_count": 107,
   "metadata": {},
   "outputs": [
    {
     "name": "stdout",
     "output_type": "stream",
     "text": [
      "Vocabulary has 251248 distinct terms\n"
     ]
    }
   ],
   "source": [
    "terms = vectorizer.get_feature_names()\n",
    "vocab = vectorizer.vocabulary_\n",
    "print(\"Vocabulary has %d distinct terms\" % len(terms))"
   ]
  },
  {
   "cell_type": "code",
   "execution_count": 108,
   "metadata": {},
   "outputs": [
    {
     "name": "stdout",
     "output_type": "stream",
     "text": [
      "['10 were', '10 which', '10 while', '10 win', '10 with', '10 world', '10 xbox', '10 yards', '10 year', '10 years']\n"
     ]
    }
   ],
   "source": [
    "print(terms[510:520])"
   ]
  },
  {
   "cell_type": "code",
   "execution_count": null,
   "metadata": {},
   "outputs": [],
   "source": []
  },
  {
   "cell_type": "code",
   "execution_count": 109,
   "metadata": {},
   "outputs": [
    {
     "data": {
      "text/plain": [
       "False"
      ]
     },
     "execution_count": 109,
     "metadata": {},
     "output_type": "execute_result"
    }
   ],
   "source": [
    "vectorizer = CountVectorizer(stop_words=\"english\")\n",
    "X = vectorizer.fit_transform(raw_documents)\n",
    "# Are standard stopwords gone?\n",
    "\"and\" in vectorizer.vocabulary_"
   ]
  },
  {
   "cell_type": "code",
   "execution_count": 111,
   "metadata": {},
   "outputs": [
    {
     "name": "stdout",
     "output_type": "stream",
     "text": [
      "Number of terms in model is 22837\n"
     ]
    }
   ],
   "source": [
    "# how many terms did we have with the last approach?\n",
    "vectorizer = CountVectorizer()\n",
    "X = vectorizer.fit_transform(raw_documents)\n",
    "print(\"Number of terms in model is %d\" % len(vectorizer.vocabulary_) )"
   ]
  },
  {
   "cell_type": "code",
   "execution_count": 112,
   "metadata": {},
   "outputs": [
    {
     "name": "stdout",
     "output_type": "stream",
     "text": [
      "Number of terms in model is 7047\n"
     ]
    }
   ],
   "source": [
    "# build another matrix, but filter terms appearing in less than 5 documents\n",
    "vectorizer = CountVectorizer(min_df = 5)\n",
    "X = vectorizer.fit_transform(raw_documents)\n",
    "print(\"Number of terms in model is %d\" % len(vectorizer.vocabulary_) )"
   ]
  },
  {
   "cell_type": "code",
   "execution_count": null,
   "metadata": {},
   "outputs": [],
   "source": []
  },
  {
   "cell_type": "code",
   "execution_count": 113,
   "metadata": {},
   "outputs": [
    {
     "name": "stdout",
     "output_type": "stream",
     "text": [
      "Requirement already satisfied: nltk in c:\\programdata\\anaconda3\\lib\\site-packages (3.5)\n",
      "Requirement already satisfied: joblib in c:\\programdata\\anaconda3\\lib\\site-packages (from nltk) (0.16.0)\n",
      "Requirement already satisfied: tqdm in c:\\programdata\\anaconda3\\lib\\site-packages (from nltk) (4.47.0)\n",
      "Requirement already satisfied: click in c:\\programdata\\anaconda3\\lib\\site-packages (from nltk) (7.1.2)\n",
      "Requirement already satisfied: regex in c:\\programdata\\anaconda3\\lib\\site-packages (from nltk) (2020.6.8)\n"
     ]
    }
   ],
   "source": [
    "!pip install nltk"
   ]
  },
  {
   "cell_type": "code",
   "execution_count": 115,
   "metadata": {},
   "outputs": [],
   "source": [
    "import nltk\n",
    "# define the function\n",
    "def stem_tokenizer(text):\n",
    "    # use the standard scikit-learn tokenizer first\n",
    "    standard_tokenizer = CountVectorizer().build_tokenizer()\n",
    "    tokens = standard_tokenizer(text)\n",
    "    # then use NLTK to perform stemming on each token\n",
    "    stemmer = PorterStemmer()\n",
    "    stems = []\n",
    "    for token in tokens:\n",
    "        stems.append( stemmer.stem(token.lower()) )\n",
    "    return stems"
   ]
  },
  {
   "cell_type": "code",
   "execution_count": 118,
   "metadata": {},
   "outputs": [
    {
     "name": "stdout",
     "output_type": "stream",
     "text": [
      "['27m', '27th', '28', '280', '280bn', '280m', '281', '281m', '284m', '286', '2871', '28bn', '28m', '28th', '29', '290m', '291m', '293', '294', '2940']\n"
     ]
    }
   ],
   "source": [
    "vectorizer = CountVectorizer(tokenizer=stem_tokenizer)\n",
    "X = vectorizer.fit_transform(raw_documents)\n",
    "# display some sample terms\n",
    "terms = vectorizer.get_feature_names()\n",
    "print(terms[500:520])"
   ]
  },
  {
   "cell_type": "code",
   "execution_count": 119,
   "metadata": {},
   "outputs": [],
   "source": [
    "# define the function\n",
    "def lemma_tokenizer(text):\n",
    "    # use the standard scikit-learn tokenizer first\n",
    "    standard_tokenizer = CountVectorizer().build_tokenizer()\n",
    "    tokens = standard_tokenizer(text)\n",
    "    # then use NLTK to perform lemmatisation on each token\n",
    "    lemmatizer = nltk.stem.WordNetLemmatizer()\n",
    "    lemma_tokens = []\n",
    "    for token in tokens:\n",
    "        lemma_tokens.append( lemmatizer.lemmatize(token))\n",
    "    return lemma_tokens"
   ]
  },
  {
   "cell_type": "code",
   "execution_count": 120,
   "metadata": {},
   "outputs": [],
   "source": [
    "#-----------------------------------------Tokenizer and WordNet Lemmatizer with POS--------------------------------------\n",
    "# define the function\n",
    "def lemma_tokenizer_w_pos_tag(text):\n",
    "    # define a nested function for converting POS tag for Lemmatizer\n",
    "    def convert_tags(tag):\n",
    "        if tag == 'vbd' or tag == 'vbg' or tag == 'vbz':\n",
    "            return 'v'\n",
    "        else: \n",
    "            return 'n'\n",
    "    \n",
    "    #-----------------------------------------------Using WordNet Lemmatizer-----------------------------------------\n",
    "    # use the standard scikit-learn tokenizer first\n",
    "    standard_tokenizer = CountVectorizer().build_tokenizer()\n",
    "    tokens = standard_tokenizer(text)\n",
    "    tokens_with_pos_tag = nltk.pos_tag(tokens)\n",
    "    # print(tokens_with_pos_tag)\n",
    "    # then use NLTK to perform lemmatisation on each token\n",
    "    lemmatizer = nltk.WordNetLemmatizer()\n",
    "    lemma_tokens = []\n",
    "    for token in tokens_with_pos_tag:\n",
    "        new_tag = convert_tags(token[1].lower())\n",
    "        lemma_tokens.append(lemmatizer.lemmatize(token[0], new_tag))\n",
    "    \n",
    "#     print(lemma_tokens)\n",
    "    return lemma_tokens"
   ]
  },
  {
   "cell_type": "markdown",
   "metadata": {},
   "source": [
    "## Use WordNet Lemmatizer without POS tagging"
   ]
  },
  {
   "cell_type": "code",
   "execution_count": 124,
   "metadata": {},
   "outputs": [
    {
     "data": {
      "text/plain": [
       "'\"The sporting industry has come a long way since the ‘60s. It has carved out for itself a niche with its roots so deep that I cannot fathom the sports industry showing any sign of decline any time soon - or later. The reason can be found in this seemingly subtle difference - other industries have customers; the sporting industry has fans. Vivek Ranadivé, leader of the ownership group of the NBA’s Sacramento Kings, explained it beautifully, “Fans will paint their face purple, fans will evangelize. ... Every other CEO in every business is dying to be in our position — they’re dying to have fans.“ While fan passion alone could almost certainly keep the industry going, leagues and sporting franchises have decided not to rest on their laurels. The last few years have seen the steady introduction of technology into the world of sports - amplifying fans’ appreciation of games, enhancing athletes’ public profiles and informing their training methods, even influencing how contests are waged. Also, digital technology in particular has helped to create an alternative source of revenue, besides the games themselves - corporate sponsorship. They achieved this by capitalizing on the ardor of their customer base - sorry, fan base.\"'"
      ]
     },
     "execution_count": 124,
     "metadata": {},
     "output_type": "execute_result"
    }
   ],
   "source": [
    "doc1"
   ]
  },
  {
   "cell_type": "code",
   "execution_count": 122,
   "metadata": {},
   "outputs": [
    {
     "name": "stdout",
     "output_type": "stream",
     "text": [
      "['the', 'sporting', 'industry', 'ha', 'come', 'long', 'way', 'since', '60', 'it', 'carved', 'out', 'for', 'itself', 'niche', 'with', 'root', 'so', 'deep', 'that', 'cannot', 'fathom', 'sport', 'showing', 'any', 'sign', 'of', 'decline', 'time', 'soon', 'or', 'later', 'reason', 'can', 'be', 'found', 'in', 'this', 'seemingly', 'subtle', 'difference', 'other', 'have', 'customer', 'fan', 'vivek', 'ranadivé', 'leader', 'ownership', 'group', 'nba', 'sacramento', 'king', 'explained', 'beautifully', 'will', 'paint', 'their', 'face', 'purple', 'evangelize', 'every', 'ceo', 'business', 'is', 'dying', 'to', 'our', 'position', 'they', 're', 'while', 'passion', 'alone', 'could', 'almost', 'certainly', 'keep', 'going', 'league', 'and', 'franchise', 'decided', 'not', 'rest', 'on', 'laurel', 'last', 'few', 'year', 'seen', 'steady', 'introduction', 'technology', 'into', 'world', 'amplifying', 'appreciation', 'game', 'enhancing']\n"
     ]
    }
   ],
   "source": [
    "vectorizer = CountVectorizer(tokenizer=lemma_tokenizer)\n",
    "X = vectorizer.fit_transform(raw_documents)\n",
    "# display some sample terms\n",
    "print(list(vectorizer.vocabulary_.keys())[0:100])\n",
    "# terms = vectorizer.get_feature_names()\n",
    "# print(terms[200:220])"
   ]
  },
  {
   "cell_type": "code",
   "execution_count": 123,
   "metadata": {},
   "outputs": [
    {
     "name": "stdout",
     "output_type": "stream",
     "text": [
      "['the', 'sporting', 'industry', 'have', 'come', 'long', 'way', 'since', '60', 'it', 'carved', 'out', 'for', 'itself', 'niche', 'with', 'root', 'so', 'deep', 'that', 'cannot', 'fathom', 'sport', 'show', 'any', 'sign', 'of', 'decline', 'time', 'soon', 'or', 'later', 'reason', 'can', 'be', 'found', 'in', 'this', 'seemingly', 'subtle', 'difference', 'other', 'customer', 'fan', 'vivek', 'ranadivé', 'leader', 'ownership', 'group', 'nba', 'sacramento', 'king', 'explain', 'beautifully', 'will', 'paint', 'their', 'face', 'purple', 'evangelize', 'every', 'ceo', 'business', 'die', 'to', 'our', 'position', 'they', 're', 'while', 'passion', 'alone', 'could', 'almost', 'certainly', 'keep', 'go', 'league', 'and', 'franchise', 'decided', 'not', 'rest', 'on', 'laurel', 'last', 'few', 'year', 'seen', 'steady', 'introduction', 'technology', 'into', 'world', 'amplify', 'appreciation', 'game', 'enhance', 'athlete', 'public']\n"
     ]
    }
   ],
   "source": [
    "# vectorizer = CountVectorizer(tokenizer=lemma_tokenizer)\n",
    "vectorizer = CountVectorizer(tokenizer=lemma_tokenizer_w_pos_tag)\n",
    "X = vectorizer.fit_transform(raw_documents)\n",
    "# display some sample terms\n",
    "print(list(vectorizer.vocabulary_.keys())[0:100])\n",
    "# terms = vectorizer.get_feature_names()\n",
    "# print(terms[201:221])"
   ]
  },
  {
   "cell_type": "code",
   "execution_count": 129,
   "metadata": {},
   "outputs": [
    {
     "name": "stdout",
     "output_type": "stream",
     "text": [
      "(1408, 8191)\n"
     ]
    }
   ],
   "source": [
    "# vectorizer = CountVectorizer(stop_words=\"english\",min_df = 3,tokenizer=lemma_tokenizer)\n",
    "vectorizer = CountVectorizer(stop_words=\"english\",min_df = 3,tokenizer=lemma_tokenizer_w_pos_tag)\n",
    "X = vectorizer.fit_transform(raw_documents)\n",
    "print(X.shape)"
   ]
  },
  {
   "cell_type": "code",
   "execution_count": 131,
   "metadata": {},
   "outputs": [
    {
     "name": "stdout",
     "output_type": "stream",
     "text": [
      "['sporting', 'industry', 'come', 'long', 'way', '60', 'niche', 'root', 'deep', 'sport', 'sign', 'decline', 'time', 'soon', 'later', 'reason', 'seemingly', 'difference', 'customer', 'fan', 'leader', 'ownership', 'group', 'nba', 'king', 'explain', 'paint', 'face', 'ceo', 'business', 'die', 'position', 'passion', 'certainly', 'league']\n"
     ]
    }
   ],
   "source": [
    "print(list(vectorizer.vocabulary_.keys())[0:35])"
   ]
  },
  {
   "cell_type": "markdown",
   "metadata": {},
   "source": [
    "### Term Weighting"
   ]
  },
  {
   "cell_type": "code",
   "execution_count": 140,
   "metadata": {},
   "outputs": [
    {
     "name": "stdout",
     "output_type": "stream",
     "text": [
      "  (0, 5658)\t0.12635917755557236\n",
      "  (0, 708)\t0.20685338848350532\n",
      "  (0, 1626)\t0.10054293773849095\n",
      "  (0, 275)\t0.10054293773849095\n",
      "  (0, 5720)\t0.12035408877745242\n",
      "  (0, 1533)\t0.08746627050335351\n",
      "  (0, 5139)\t0.08974570153347976\n",
      "  (0, 5667)\t0.0905643964991388\n",
      "  (0, 431)\t0.10588530273148258\n",
      "  (0, 1575)\t0.07900257323550364\n",
      "  (0, 2928)\t0.07738720046898899\n",
      "  (0, 4343)\t0.08641357455116963\n",
      "  (0, 1845)\t0.0689235032011391\n",
      "  (0, 3910)\t0.11713634041489018\n",
      "  (0, 6260)\t0.08182421776046826\n",
      "  (0, 4767)\t0.07281830699778001\n",
      "  (0, 595)\t0.09629300380643811\n",
      "  (0, 2157)\t0.11569618005034049\n",
      "  (0, 2668)\t0.11616721188662793\n",
      "  (0, 6714)\t0.04208676868346757\n",
      "  (0, 6069)\t0.11778346889329713\n",
      "  (0, 3277)\t0.12035408877745242\n",
      "  (0, 5786)\t0.11868327362541942\n",
      "  (0, 5400)\t0.06465409902620815\n",
      "  (0, 6755)\t0.04604042593612648\n",
      "  :\t:\n",
      "  (0, 3455)\t0.13482287482342226\n",
      "  (0, 4077)\t0.13482287482342226\n",
      "  (0, 2806)\t0.05982794722235783\n",
      "  (0, 4301)\t0.10054293773849095\n",
      "  (0, 3543)\t0.10054293773849095\n",
      "  (0, 2381)\t0.38365708673778803\n",
      "  (0, 1627)\t0.07527691548750995\n",
      "  (0, 3172)\t0.09988021395336265\n",
      "  (0, 1838)\t0.09420385710107047\n",
      "  (0, 5399)\t0.13160512646086\n",
      "  (0, 4901)\t0.08895790819578284\n",
      "  (0, 3518)\t0.07127137378725076\n",
      "  (0, 5654)\t0.07900257323550364\n",
      "  (0, 6180)\t0.039948953161750365\n",
      "  (0, 1703)\t0.0918559865149588\n",
      "  (0, 5542)\t0.08675860795840083\n",
      "  (0, 5531)\t0.08895790819578284\n",
      "  (0, 5724)\t0.1771497748668681\n",
      "  (0, 1709)\t0.10054293773849095\n",
      "  (0, 4119)\t0.12217036825248564\n",
      "  (0, 6600)\t0.04784771379100076\n",
      "  (0, 3679)\t0.05631141105885063\n",
      "  (0, 1307)\t0.05756172761411324\n",
      "  (0, 3173)\t0.2571808962744253\n",
      "  (0, 5723)\t0.31264346273834875\n"
     ]
    }
   ],
   "source": [
    "from sklearn.feature_extraction.text import TfidfVectorizer\n",
    "# we can pass in the same preprocessing parameters\n",
    "vectorizer = TfidfVectorizer(stop_words=\"english\",min_df = 5, max_df=1000, lowercase=True)\n",
    "X = vectorizer.fit_transform(raw_documents)\n",
    "# display some sample weighted values\n",
    "print(X[0])"
   ]
  },
  {
   "cell_type": "markdown",
   "metadata": {},
   "source": [
    "# Classification"
   ]
  },
  {
   "cell_type": "code",
   "execution_count": 312,
   "metadata": {},
   "outputs": [
    {
     "data": {
      "text/plain": [
       "'\"The sporting industry has come a long way since the ‘60s. It has carved out for itself a niche with its roots so deep that I cannot fathom the sports industry showing any sign of decline any time soon - or later. The reason can be found in this seemingly subtle difference - other industries have customers; the sporting industry has fans. Vivek Ranadivé, leader of the ownership group of the NBA’s Sacramento Kings, explained it beautifully, “Fans will paint their face purple, fans will evangelize. ... Every other CEO in every business is dying to be in our position — they’re dying to have fans.“ While fan passion alone could almost certainly keep the industry going, leagues and sporting franchises have decided not to rest on their laurels. The last few years have seen the steady introduction of technology into the world of sports - amplifying fans’ appreciation of games, enhancing athletes’ public profiles and informing their training methods, even influencing how contests are waged. Also, digital technology in particular has helped to create an alternative source of revenue, besides the games themselves - corporate sponsorship. They achieved this by capitalizing on the ardor of their customer base - sorry, fan base.\"\\n'"
      ]
     },
     "execution_count": 312,
     "metadata": {},
     "output_type": "execute_result"
    }
   ],
   "source": [
    "raw_documents[0]"
   ]
  },
  {
   "cell_type": "code",
   "execution_count": 313,
   "metadata": {},
   "outputs": [],
   "source": [
    "fin = open(\"target/category.txt\",\"r\", encoding=\"utf8\")\n",
    "y = fin.readlines()\n",
    "fin.close()"
   ]
  },
  {
   "cell_type": "code",
   "execution_count": 314,
   "metadata": {},
   "outputs": [
    {
     "data": {
      "text/plain": [
       "1408"
      ]
     },
     "execution_count": 314,
     "metadata": {},
     "output_type": "execute_result"
    }
   ],
   "source": [
    "len(raw_documents)"
   ]
  },
  {
   "cell_type": "code",
   "execution_count": 315,
   "metadata": {},
   "outputs": [
    {
     "data": {
      "text/plain": [
       "1408"
      ]
     },
     "execution_count": 315,
     "metadata": {},
     "output_type": "execute_result"
    }
   ],
   "source": [
    "len(y)"
   ]
  },
  {
   "cell_type": "code",
   "execution_count": 316,
   "metadata": {},
   "outputs": [],
   "source": [
    "from sklearn.model_selection import train_test_split\n",
    "X_train, X_test, y_train, y_test = train_test_split(raw_documents, y, test_size=0.2, random_state=42)"
   ]
  },
  {
   "cell_type": "code",
   "execution_count": 292,
   "metadata": {},
   "outputs": [],
   "source": [
    "# vectorizer = TfidfVectorizer(stop_words=\"english\",min_df = 5, max_df=1000)\n",
    "# X = vectorizer.fit_transform(X_train)"
   ]
  },
  {
   "cell_type": "code",
   "execution_count": 293,
   "metadata": {
    "scrolled": true
   },
   "outputs": [],
   "source": [
    "# from sklearn.feature_extraction.text import TfidfTransformer\n",
    "# tfidf_transformer = TfidfTransformer()\n",
    "# X_train_tfidf = tfidf_transformer.fit_transform(X)"
   ]
  },
  {
   "cell_type": "code",
   "execution_count": 294,
   "metadata": {},
   "outputs": [],
   "source": [
    "# count_vect = CountVectorizer()\n",
    "# X_train_counts = count_vect.fit_transform(train_data.data)\n",
    "\n",
    "# # transform a count matrix to a normalized tf-idf representation (tf-idf transformer)\n",
    "# tfidf_transformer = TfidfTransformer()\n",
    "# X_train_tfidf = tfidf_transformer.fit_transform(X_train_counts)\n"
   ]
  },
  {
   "cell_type": "code",
   "execution_count": null,
   "metadata": {},
   "outputs": [],
   "source": []
  },
  {
   "cell_type": "code",
   "execution_count": null,
   "metadata": {},
   "outputs": [],
   "source": []
  },
  {
   "cell_type": "markdown",
   "metadata": {},
   "source": [
    "### KNN"
   ]
  },
  {
   "cell_type": "code",
   "execution_count": 295,
   "metadata": {},
   "outputs": [
    {
     "ename": "ValueError",
     "evalue": "Expected 2D array, got 1D array instead:\narray=['\"Lleyton Hewitt gave himself the perfect preparation for next week\\'s Australian Open with victory over Ivo Minar in the final of the Sydney International. The defending champion brushed aside the Czech qualifier 7-5 6-0. The Australian world number three strolled to the first five games of the match but was shocked as Minar won the next five. The top seed was rattled but recovered to close out the set and raced to victory in exactly an hour. \"\"It was a strange match . . . momentum swings,\"\" said Hewitt. \"\"I felt like I came out of the blocks extremely well, but then he loosened up a bit. \"\"When he got back to 5-5, I had to try to settle down and take it up a notch, and I was able to do that.\"\" Hewitt has now lifted the Sydney title four times in the last six years. \"\"It just keeps getting better and better every year,\"\" Hewitt said. \"\"I\\'ve only played this tournament four times and I\\'ve won it four times.\"\" Hewitt went into the final as a short-priced favourite to clinch his 24th career title after dropping only one set all week. He is set to meet Frenchman Arnaud Clement in the first round of the Australian Open. Minar, ranked 158th in the world, was forced to pull out of the Australian Open qualifying draw to play in his first ATP final. \"\"For me, this was a big success,\"\" said the 20-year-old. \"\"I was so nervous last night I couldn\\'t sleep. I\\'ve never played a top-10 player before. \"\"I wanted to play qualifying in Melbourne, but it\\'s Saturday and I\\'m still here. But this is a main draw and I need the points and the money.\"\" Alicia Molik takes on Samantha Stosur in an all-Australian women\\'s final later on Saturday. Comments are closed for this article.\"\\n'\n '\"The world\\'s largest retailer, Wal-Mart, has agreed to pay a total of $14.5m (£7.74m) to settle a lawsuit over gun sales violations in California. The lawsuit alleged Wal-Mart committed thousands of gun sales violations in California between 2000 and 2003. The total payment includes $5m in fines and more than $4m to fund state compliance checks with gun laws and prevent ammunition sales to minors. Wal-Mart agreed to suspend firearms sales in its California stores in 2003, The alleged violations included the sale of guns to 23 people who were not allowed to possess them, and delivering 36 guns to customers who acquired them for people not allowed to own firearms. Although Wal-Mart has suspended firearms sales in the state, California attorney general Bill Lockyer said he wanted to be sure the giant supermarket chain would follow state rules in future. \"\"Wal-Mart\\'s failure to comply with gun safety laws put the lives of all Californians at risk by placing guns in the hands of criminals and other prohibited persons,\"\" said Mr Lockyer. \"\"Although Wal-Mart has suspended gun sales in California, this settlement will ensure that it follows state law if it renews sales and will also provide valuable public education about the importance of gun safety.\"\" The world\\'s largest retailer has not yet decided whether to resume firearms sales in California, company spokesman Gus Whitcomb said.\"\\n'\n '\"Jose Antonio Reyes has added to speculation linking him with a move from Arsenal to Real Madrid after falling victim to a radio prank. The Spaniard believed he was talking to Real Madrid sporting director Emilio Butragueno when he allegedly berated his team-mates as \"\"bad people\"\". \"\"I wish I was playing for Real Madrid,\"\" the 21-year-old told Cadena Cope. \"\"Hopefully it could happen. I love the way Madrid play. I\\'m not happy with the way things are.\"\" The striker joined the Gunners from Seville for £17m at the start of 2004, but it has frequently been reported that he is homesick. He began the season in superb form but has struggled to maintain his high standards as Arsenal have gradually lost the Premiership initiative to Manchester United and Chelsea. \"\"If I\\'m not (playing for Real) I\\'m going to have to carry on playing with some bad people,\"\" he added. \"\"I\\'m sure there are none in the Real dressing room. \"\"I\\'m happy Madrid is interested in me because it has always been my dream since I was little to play there.\"\" Before the story surfaced, Reyes had moved to play down reports linking him with the Spanish giants, issuing a statement through Arsenal describing the speculation as \"\"flattering\"\". \"\"I have seen the stories in the media linking me with Real Madrid,\"\" he had said on Thursday lunchtime. \"\"But not only am I under contract at Arsenal, I am happy here and committed to helping the team win more trophies.\"\" Butragueno, meanwhile, was angry at being impersonated by the radio disc jockey. \"\"It is a disgrace, there is no foundation to this,\"\" he said. \"\"He is an Arsenal player and we have to be respectful. We have to be careful because of the rumours that appear in the news.\"\"\"\\n'\n ...\n '\"Club football in South America continues to suffer from the continent\\'s economic crisis. The best players are lured across the Atlantic - 900 players left Brazil alone in 2004. And crowds are low, with money tight and the fear of violence proving a powerful incentive to stay at home. The average attendance in this year\\'s Brazilian Championship was a record low of 8,139. Furthermore, in 2004 no new talent exploded on the continent with quite the same force as Diego, Robinho and Carlos Tevez in the two previous years. There is no doubt that the highlight of South America\\'s footballing year has to come from the international game. There were some dramatic tournaments in 2004. The Copa America, held in Peru last July, could hardly have come to a more exciting conclusion. With the last kick of the final Brazil scored one of the most decisive equalising goals in the history of football. Argentina thought they had the game won and were in no state to take penalties when Adriano\\'s 93rd-minute blast forced a shoot-out. Earlier in the year there was intense disappointment for Brazil when they amazingly failed to qualify for the Olympic football tournament. The gold medal is the only title they lack but they will have to wait four more years after missing out on the two qualification slots up for grabs in South America\\'s Under-23 Championships, held in Chile in January. Argentina and Paraguay made it through and went on to secure gold and silver in Athens. These tournaments were terrific but the real highlights of the year in South American football could only come from the World Cup qualification campaign. The reason? It is the only time that all the great players come back home and play competitive matches in front of their own fans. I well remember getting a shiver down my spine awaiting the kick-off of the match between Brazil and Argentina at the start of June. Euro 2004 was about to get under way. The thought struck me that the accumulation of talent on the Belo Horizonte pitch was at least as outstanding as that about to go into action in Portugal. For 90 minutes Brazil was the capital of the football world. Ronaldo obviously felt the sense of occasion. He will probably never play a bigger match in Brazil and it was taking place in the stadium where he had made his name over a decade earlier. He was unstoppable, suffering and scoring three penalties in Brazil\\'s 3-1 win. If Ronaldo\\'s performance was the individual highlight of the year, my collective prize goes to Argentina in a match they played a few months later. In October I was down in Buenos Aires to see their first match under new coach Jose Pekerman. Nerves were settled with an early goal and old rivals Uruguay were blasted away. Soon after half-time Argentina were four up and although Uruguay hit back with two consolation goals, it was the performance of the hosts that lingers in the memory. Argentina\\'s goals were magnificent team efforts involving all of the fundamentals of well-played football. The ball moved quickly around the field, with plenty of running off the ball to provide options and lots of crisp, accurate passing, mixing long and short to find gaps in the defence. The crowd responded in fine style, creating the kind of atmosphere familiar to all those old enough to remember the 1978 World Cup. These, then, were my highlights of 2004. With seven vital rounds of World Cup qualifiers scheduled for next year, South American football should come up with much more to celebrate in 2005. Comments are closed for this article.\"\\n'\n '\"Double Olympic champion Kelly Holmes was back to her best as she comfortably won the 1,000m at the Norwich Union Birmingham Indoor Grand Prix. The 34-year-old, running only her second competitive race of the season, shook off the rust to win in two minutes, 35.39 seconds. But she is still undecided about competing in the European Championships in Madrid from 4-6 March. \"\"I\\'ll probably be entered and make my mind up at the last minute,\"\" she said. \"\"My training hasn\\'t gone as well as expected but I\\'ve got two weeks to decide. \"\"I need to take my time and make sure I feel good about what I\\'m doing. \"\"I felt very good here but with the crowd behind you, you feel like you can do anything.\"\" American was the eventual winner of the men\\'s 60m race which almost ended in farce. Three athletes were disqualified for false starting, including Britain\\'s Mark Lewis-Francis, who was the first man guilty of coming out of his blocks too quickly. World 100m champion Kim Collins clinched second spot ahead of world 60m record holder and Scott\\'s training partner Maurice Greene. Jason Gardener\\'s unbeaten run came to an end as he came fifth and he will need to improve if he is to defend his European title in Madrid. \"\"You can\\'t win them all,\"\" said Gardener afterwards. \"\"And I was very disappointed as I know I\\'m capable of doing better.\"\" Russian was back on record-breaking form in the pole vault at the National Indoor Arena. The Olympic champion set a new world mark of 4.88m to break her own record - which she set just six days ago - and beat Russian rival Svetlana Feofanova. It was Isinbayeva\\'s 11th world record - indoors or out - since July 2003. \"\"I\\'m so happy and I will do my best to break the 5m barrier soon,\"\" the 22-year-old told Online News Sport. Jamaica\\'s stormed to a personal best of 7.13 seconds to claim the women\\'s 60m sprint. Belgian Kim Gevaert, who will be one of the favourites for next month\\'s European title, took second while American Muna Lee was third. There was disappointment for British pair Jeanette Kwakye and Joice Maduaka who finished seventh and eighth respectively. Jamaican stretched her unbeaten record to 25 races as she effortlessly claimed the 200m. The Olympic champion set a new indoor personal best of 22.38 seconds - the fastest time in the world this season. fought off fellow Briton Tim Abeyie to take the men\\'s 200m in a personal best of 20.88. continued her outstanding start to the season, beating a strong international field, which included two-time Olympic 100m hurdles bronze medallist Melissa Morrison, to claim the women\\'s 60m hurdles. The 25-year-old Briton clocked 7.98 seconds while pre-European Championships favourite Russian Irina Shevchenko finished down in sixth. Ethiopia\\'s failed in her bid to smash compatriot Berhane Adere\\'s world 3,000m record but still won the event in emphatic style. The Olympic 5,000m champion was inside record pace but dropped off over the final third, finishing in eight minutes, 33.05 seconds - the fourth fastest time ever recorded for the event. Britain\\'s Jo Pavey bravely decided to go with Defar as she strode away from the field and took second in a season\\'s best 8:41.43. Kenyan also missed out on the indoor 1500m world record, which Hicham El Guerrouj has held for the last eight years. Lagat settled for silver behind El Guerrouj in Athens and was almost four seconds short of the Moroccan\\'s world best, clocking 3:35.27 in Birmingham. And was still struggling to find his form after the death of his fiancee this year. The Olympic 10,000m champion had comfortably led the men\\'s two mile race after his younger brother Tariku had set the pace. But fellow Ethiopian appeared ominously on Bekele\\'s shoulder with two laps to go before surging past him at the bell to win in 8:14.28. Jamaican made the most of a blistering start to take the men\\'s 400m title in 45.91 seconds. World indoor champion, Alleyne Francique, faded badly and finished in fourth while American duo Jerry Harris and James Davis took second and third respectively. Swede showed her class in the long jump as she stole top spot from Jade Johnson with the very last jump of the competition. The Olympic heptathlon gold medallist reached 6.66m to better Johnson\\'s mark of 6.52m - her second personal best inside a week. \"\"I was quite surprised because I didn\\'t think I\\'d end up with second place,\"\" said Johnson, who wore London\\'s 2012 Olympic bid slogan, \"\"Back the Bid\"\", on her shorts. \"\"But I\\'m pleased and hopefully I\\'ll get a bit better for the Europeans. I really want to win a medal.\"\" won the men\\'s event with a season\\'s best of 7.95m, taking the scalp of world indoor champion Savante Stringfellow of the USA. Comments are closed for this article.\"\\n'\n '\"Nissan names successor to Ghosn Nissan has named a lifetime employee to run its operations after Carlos Ghosn, its highly successful boss, takes charge at Renault. As chief operating officer, Toshiyuki Shiga will run Nissan on a daily basis, although Mr Ghosn, who masterminded its recovery, will remain chief executive. Mr Ghosn is to become chairman and chief executive of Renault, which owns 44% of the Japanese carmaker, in April. Mr Ghosn transformed Nissan into a fast-growing and profitable business. Mr Shiga will nominally serve as Mr Ghosn\\'s deputy. However, he will be Nissan\\'s most senior Japan-based executive and will be in charge of the firm\\'s global sales and marketing. He is currently in charge of Nissan\\'s operations across Asia and Australasia and is credited with significantly improving its sales in China. He will inherit a strong legacy from Mr Ghosn, who has overseen a dramatic turnaround in Nissan\\'s fortunes in the past five years. Dubbed \\'le cost killer\\' for pushing through huge cost cuts in previous jobs, Mr Ghosn reduced Nissan\\'s overheads by 20% and trimmed its workforce by about 200,000 after taking charge in 1999. These actions helped Nissan turn a 684bn yen ($6.4bn) loss in 2000 into a 331bn yen ($2.7bn) profit the following year. During his tenure, Nissan has increased its market share and made significant strides in key export markets. Nissan aims to increase vehicle sales to more than four million by 2008, launching 28 new models in the process. In his new job as Renault chief executive, Mr Ghosn will devote 40% of his time to Renault, 40% to Nissan and the rest to the group\\'s activities in North America and other key markets. Mr Ghosn said Mr Shiga\\'s appointment would ensure a \"\"seamless\"\" transition in management. \"\"I need a leadership team capable of accelerating the performance and delivery of results that has characterized Nissan over the past six years,\"\" Mr Ghosn said. \"\"I have full confidence in Toshiyuki Shiga and the new leadership team to help me implement the next chapter of Nissan\\'s growth.\"\" Nissan also announced a number of other management appointments with promotions for several younger executives.\"\\n'].\nReshape your data either using array.reshape(-1, 1) if your data has a single feature or array.reshape(1, -1) if it contains a single sample.",
     "output_type": "error",
     "traceback": [
      "\u001b[1;31m---------------------------------------------------------------------------\u001b[0m",
      "\u001b[1;31mValueError\u001b[0m                                Traceback (most recent call last)",
      "\u001b[1;32m<ipython-input-295-c4d44492c362>\u001b[0m in \u001b[0;36m<module>\u001b[1;34m\u001b[0m\n\u001b[0;32m      1\u001b[0m \u001b[1;32mfrom\u001b[0m \u001b[0msklearn\u001b[0m\u001b[1;33m.\u001b[0m\u001b[0mneighbors\u001b[0m \u001b[1;32mimport\u001b[0m \u001b[0mKNeighborsClassifier\u001b[0m\u001b[1;33m\u001b[0m\u001b[1;33m\u001b[0m\u001b[0m\n\u001b[0;32m      2\u001b[0m \u001b[0mknn\u001b[0m \u001b[1;33m=\u001b[0m \u001b[0mKNeighborsClassifier\u001b[0m\u001b[1;33m(\u001b[0m\u001b[0mn_neighbors\u001b[0m\u001b[1;33m=\u001b[0m\u001b[1;36m3\u001b[0m\u001b[1;33m)\u001b[0m\u001b[1;33m\u001b[0m\u001b[1;33m\u001b[0m\u001b[0m\n\u001b[1;32m----> 3\u001b[1;33m \u001b[0mknn\u001b[0m\u001b[1;33m.\u001b[0m\u001b[0mfit\u001b[0m\u001b[1;33m(\u001b[0m\u001b[0mX_train\u001b[0m\u001b[1;33m,\u001b[0m \u001b[0my_train\u001b[0m\u001b[1;33m)\u001b[0m\u001b[1;33m\u001b[0m\u001b[1;33m\u001b[0m\u001b[0m\n\u001b[0m",
      "\u001b[1;32mC:\\ProgramData\\Anaconda3\\lib\\site-packages\\sklearn\\neighbors\\_base.py\u001b[0m in \u001b[0;36mfit\u001b[1;34m(self, X, y)\u001b[0m\n\u001b[0;32m   1129\u001b[0m         \"\"\"\n\u001b[0;32m   1130\u001b[0m         \u001b[1;32mif\u001b[0m \u001b[1;32mnot\u001b[0m \u001b[0misinstance\u001b[0m\u001b[1;33m(\u001b[0m\u001b[0mX\u001b[0m\u001b[1;33m,\u001b[0m \u001b[1;33m(\u001b[0m\u001b[0mKDTree\u001b[0m\u001b[1;33m,\u001b[0m \u001b[0mBallTree\u001b[0m\u001b[1;33m)\u001b[0m\u001b[1;33m)\u001b[0m\u001b[1;33m:\u001b[0m\u001b[1;33m\u001b[0m\u001b[1;33m\u001b[0m\u001b[0m\n\u001b[1;32m-> 1131\u001b[1;33m             X, y = self._validate_data(X, y, accept_sparse=\"csr\",\n\u001b[0m\u001b[0;32m   1132\u001b[0m                                        multi_output=True)\n\u001b[0;32m   1133\u001b[0m \u001b[1;33m\u001b[0m\u001b[0m\n",
      "\u001b[1;32mC:\\ProgramData\\Anaconda3\\lib\\site-packages\\sklearn\\base.py\u001b[0m in \u001b[0;36m_validate_data\u001b[1;34m(self, X, y, reset, validate_separately, **check_params)\u001b[0m\n\u001b[0;32m    430\u001b[0m                 \u001b[0my\u001b[0m \u001b[1;33m=\u001b[0m \u001b[0mcheck_array\u001b[0m\u001b[1;33m(\u001b[0m\u001b[0my\u001b[0m\u001b[1;33m,\u001b[0m \u001b[1;33m**\u001b[0m\u001b[0mcheck_y_params\u001b[0m\u001b[1;33m)\u001b[0m\u001b[1;33m\u001b[0m\u001b[1;33m\u001b[0m\u001b[0m\n\u001b[0;32m    431\u001b[0m             \u001b[1;32melse\u001b[0m\u001b[1;33m:\u001b[0m\u001b[1;33m\u001b[0m\u001b[1;33m\u001b[0m\u001b[0m\n\u001b[1;32m--> 432\u001b[1;33m                 \u001b[0mX\u001b[0m\u001b[1;33m,\u001b[0m \u001b[0my\u001b[0m \u001b[1;33m=\u001b[0m \u001b[0mcheck_X_y\u001b[0m\u001b[1;33m(\u001b[0m\u001b[0mX\u001b[0m\u001b[1;33m,\u001b[0m \u001b[0my\u001b[0m\u001b[1;33m,\u001b[0m \u001b[1;33m**\u001b[0m\u001b[0mcheck_params\u001b[0m\u001b[1;33m)\u001b[0m\u001b[1;33m\u001b[0m\u001b[1;33m\u001b[0m\u001b[0m\n\u001b[0m\u001b[0;32m    433\u001b[0m             \u001b[0mout\u001b[0m \u001b[1;33m=\u001b[0m \u001b[0mX\u001b[0m\u001b[1;33m,\u001b[0m \u001b[0my\u001b[0m\u001b[1;33m\u001b[0m\u001b[1;33m\u001b[0m\u001b[0m\n\u001b[0;32m    434\u001b[0m \u001b[1;33m\u001b[0m\u001b[0m\n",
      "\u001b[1;32mC:\\ProgramData\\Anaconda3\\lib\\site-packages\\sklearn\\utils\\validation.py\u001b[0m in \u001b[0;36minner_f\u001b[1;34m(*args, **kwargs)\u001b[0m\n\u001b[0;32m     71\u001b[0m                           FutureWarning)\n\u001b[0;32m     72\u001b[0m         \u001b[0mkwargs\u001b[0m\u001b[1;33m.\u001b[0m\u001b[0mupdate\u001b[0m\u001b[1;33m(\u001b[0m\u001b[1;33m{\u001b[0m\u001b[0mk\u001b[0m\u001b[1;33m:\u001b[0m \u001b[0marg\u001b[0m \u001b[1;32mfor\u001b[0m \u001b[0mk\u001b[0m\u001b[1;33m,\u001b[0m \u001b[0marg\u001b[0m \u001b[1;32min\u001b[0m \u001b[0mzip\u001b[0m\u001b[1;33m(\u001b[0m\u001b[0msig\u001b[0m\u001b[1;33m.\u001b[0m\u001b[0mparameters\u001b[0m\u001b[1;33m,\u001b[0m \u001b[0margs\u001b[0m\u001b[1;33m)\u001b[0m\u001b[1;33m}\u001b[0m\u001b[1;33m)\u001b[0m\u001b[1;33m\u001b[0m\u001b[1;33m\u001b[0m\u001b[0m\n\u001b[1;32m---> 73\u001b[1;33m         \u001b[1;32mreturn\u001b[0m \u001b[0mf\u001b[0m\u001b[1;33m(\u001b[0m\u001b[1;33m**\u001b[0m\u001b[0mkwargs\u001b[0m\u001b[1;33m)\u001b[0m\u001b[1;33m\u001b[0m\u001b[1;33m\u001b[0m\u001b[0m\n\u001b[0m\u001b[0;32m     74\u001b[0m     \u001b[1;32mreturn\u001b[0m \u001b[0minner_f\u001b[0m\u001b[1;33m\u001b[0m\u001b[1;33m\u001b[0m\u001b[0m\n\u001b[0;32m     75\u001b[0m \u001b[1;33m\u001b[0m\u001b[0m\n",
      "\u001b[1;32mC:\\ProgramData\\Anaconda3\\lib\\site-packages\\sklearn\\utils\\validation.py\u001b[0m in \u001b[0;36mcheck_X_y\u001b[1;34m(X, y, accept_sparse, accept_large_sparse, dtype, order, copy, force_all_finite, ensure_2d, allow_nd, multi_output, ensure_min_samples, ensure_min_features, y_numeric, estimator)\u001b[0m\n\u001b[0;32m    794\u001b[0m         \u001b[1;32mraise\u001b[0m \u001b[0mValueError\u001b[0m\u001b[1;33m(\u001b[0m\u001b[1;34m\"y cannot be None\"\u001b[0m\u001b[1;33m)\u001b[0m\u001b[1;33m\u001b[0m\u001b[1;33m\u001b[0m\u001b[0m\n\u001b[0;32m    795\u001b[0m \u001b[1;33m\u001b[0m\u001b[0m\n\u001b[1;32m--> 796\u001b[1;33m     X = check_array(X, accept_sparse=accept_sparse,\n\u001b[0m\u001b[0;32m    797\u001b[0m                     \u001b[0maccept_large_sparse\u001b[0m\u001b[1;33m=\u001b[0m\u001b[0maccept_large_sparse\u001b[0m\u001b[1;33m,\u001b[0m\u001b[1;33m\u001b[0m\u001b[1;33m\u001b[0m\u001b[0m\n\u001b[0;32m    798\u001b[0m                     \u001b[0mdtype\u001b[0m\u001b[1;33m=\u001b[0m\u001b[0mdtype\u001b[0m\u001b[1;33m,\u001b[0m \u001b[0morder\u001b[0m\u001b[1;33m=\u001b[0m\u001b[0morder\u001b[0m\u001b[1;33m,\u001b[0m \u001b[0mcopy\u001b[0m\u001b[1;33m=\u001b[0m\u001b[0mcopy\u001b[0m\u001b[1;33m,\u001b[0m\u001b[1;33m\u001b[0m\u001b[1;33m\u001b[0m\u001b[0m\n",
      "\u001b[1;32mC:\\ProgramData\\Anaconda3\\lib\\site-packages\\sklearn\\utils\\validation.py\u001b[0m in \u001b[0;36minner_f\u001b[1;34m(*args, **kwargs)\u001b[0m\n\u001b[0;32m     71\u001b[0m                           FutureWarning)\n\u001b[0;32m     72\u001b[0m         \u001b[0mkwargs\u001b[0m\u001b[1;33m.\u001b[0m\u001b[0mupdate\u001b[0m\u001b[1;33m(\u001b[0m\u001b[1;33m{\u001b[0m\u001b[0mk\u001b[0m\u001b[1;33m:\u001b[0m \u001b[0marg\u001b[0m \u001b[1;32mfor\u001b[0m \u001b[0mk\u001b[0m\u001b[1;33m,\u001b[0m \u001b[0marg\u001b[0m \u001b[1;32min\u001b[0m \u001b[0mzip\u001b[0m\u001b[1;33m(\u001b[0m\u001b[0msig\u001b[0m\u001b[1;33m.\u001b[0m\u001b[0mparameters\u001b[0m\u001b[1;33m,\u001b[0m \u001b[0margs\u001b[0m\u001b[1;33m)\u001b[0m\u001b[1;33m}\u001b[0m\u001b[1;33m)\u001b[0m\u001b[1;33m\u001b[0m\u001b[1;33m\u001b[0m\u001b[0m\n\u001b[1;32m---> 73\u001b[1;33m         \u001b[1;32mreturn\u001b[0m \u001b[0mf\u001b[0m\u001b[1;33m(\u001b[0m\u001b[1;33m**\u001b[0m\u001b[0mkwargs\u001b[0m\u001b[1;33m)\u001b[0m\u001b[1;33m\u001b[0m\u001b[1;33m\u001b[0m\u001b[0m\n\u001b[0m\u001b[0;32m     74\u001b[0m     \u001b[1;32mreturn\u001b[0m \u001b[0minner_f\u001b[0m\u001b[1;33m\u001b[0m\u001b[1;33m\u001b[0m\u001b[0m\n\u001b[0;32m     75\u001b[0m \u001b[1;33m\u001b[0m\u001b[0m\n",
      "\u001b[1;32mC:\\ProgramData\\Anaconda3\\lib\\site-packages\\sklearn\\utils\\validation.py\u001b[0m in \u001b[0;36mcheck_array\u001b[1;34m(array, accept_sparse, accept_large_sparse, dtype, order, copy, force_all_finite, ensure_2d, allow_nd, ensure_min_samples, ensure_min_features, estimator)\u001b[0m\n\u001b[0;32m    618\u001b[0m             \u001b[1;31m# If input is 1D raise error\u001b[0m\u001b[1;33m\u001b[0m\u001b[1;33m\u001b[0m\u001b[1;33m\u001b[0m\u001b[0m\n\u001b[0;32m    619\u001b[0m             \u001b[1;32mif\u001b[0m \u001b[0marray\u001b[0m\u001b[1;33m.\u001b[0m\u001b[0mndim\u001b[0m \u001b[1;33m==\u001b[0m \u001b[1;36m1\u001b[0m\u001b[1;33m:\u001b[0m\u001b[1;33m\u001b[0m\u001b[1;33m\u001b[0m\u001b[0m\n\u001b[1;32m--> 620\u001b[1;33m                 raise ValueError(\n\u001b[0m\u001b[0;32m    621\u001b[0m                     \u001b[1;34m\"Expected 2D array, got 1D array instead:\\narray={}.\\n\"\u001b[0m\u001b[1;33m\u001b[0m\u001b[1;33m\u001b[0m\u001b[0m\n\u001b[0;32m    622\u001b[0m                     \u001b[1;34m\"Reshape your data either using array.reshape(-1, 1) if \"\u001b[0m\u001b[1;33m\u001b[0m\u001b[1;33m\u001b[0m\u001b[0m\n",
      "\u001b[1;31mValueError\u001b[0m: Expected 2D array, got 1D array instead:\narray=['\"Lleyton Hewitt gave himself the perfect preparation for next week\\'s Australian Open with victory over Ivo Minar in the final of the Sydney International. The defending champion brushed aside the Czech qualifier 7-5 6-0. The Australian world number three strolled to the first five games of the match but was shocked as Minar won the next five. The top seed was rattled but recovered to close out the set and raced to victory in exactly an hour. \"\"It was a strange match . . . momentum swings,\"\" said Hewitt. \"\"I felt like I came out of the blocks extremely well, but then he loosened up a bit. \"\"When he got back to 5-5, I had to try to settle down and take it up a notch, and I was able to do that.\"\" Hewitt has now lifted the Sydney title four times in the last six years. \"\"It just keeps getting better and better every year,\"\" Hewitt said. \"\"I\\'ve only played this tournament four times and I\\'ve won it four times.\"\" Hewitt went into the final as a short-priced favourite to clinch his 24th career title after dropping only one set all week. He is set to meet Frenchman Arnaud Clement in the first round of the Australian Open. Minar, ranked 158th in the world, was forced to pull out of the Australian Open qualifying draw to play in his first ATP final. \"\"For me, this was a big success,\"\" said the 20-year-old. \"\"I was so nervous last night I couldn\\'t sleep. I\\'ve never played a top-10 player before. \"\"I wanted to play qualifying in Melbourne, but it\\'s Saturday and I\\'m still here. But this is a main draw and I need the points and the money.\"\" Alicia Molik takes on Samantha Stosur in an all-Australian women\\'s final later on Saturday. Comments are closed for this article.\"\\n'\n '\"The world\\'s largest retailer, Wal-Mart, has agreed to pay a total of $14.5m (£7.74m) to settle a lawsuit over gun sales violations in California. The lawsuit alleged Wal-Mart committed thousands of gun sales violations in California between 2000 and 2003. The total payment includes $5m in fines and more than $4m to fund state compliance checks with gun laws and prevent ammunition sales to minors. Wal-Mart agreed to suspend firearms sales in its California stores in 2003, The alleged violations included the sale of guns to 23 people who were not allowed to possess them, and delivering 36 guns to customers who acquired them for people not allowed to own firearms. Although Wal-Mart has suspended firearms sales in the state, California attorney general Bill Lockyer said he wanted to be sure the giant supermarket chain would follow state rules in future. \"\"Wal-Mart\\'s failure to comply with gun safety laws put the lives of all Californians at risk by placing guns in the hands of criminals and other prohibited persons,\"\" said Mr Lockyer. \"\"Although Wal-Mart has suspended gun sales in California, this settlement will ensure that it follows state law if it renews sales and will also provide valuable public education about the importance of gun safety.\"\" The world\\'s largest retailer has not yet decided whether to resume firearms sales in California, company spokesman Gus Whitcomb said.\"\\n'\n '\"Jose Antonio Reyes has added to speculation linking him with a move from Arsenal to Real Madrid after falling victim to a radio prank. The Spaniard believed he was talking to Real Madrid sporting director Emilio Butragueno when he allegedly berated his team-mates as \"\"bad people\"\". \"\"I wish I was playing for Real Madrid,\"\" the 21-year-old told Cadena Cope. \"\"Hopefully it could happen. I love the way Madrid play. I\\'m not happy with the way things are.\"\" The striker joined the Gunners from Seville for £17m at the start of 2004, but it has frequently been reported that he is homesick. He began the season in superb form but has struggled to maintain his high standards as Arsenal have gradually lost the Premiership initiative to Manchester United and Chelsea. \"\"If I\\'m not (playing for Real) I\\'m going to have to carry on playing with some bad people,\"\" he added. \"\"I\\'m sure there are none in the Real dressing room. \"\"I\\'m happy Madrid is interested in me because it has always been my dream since I was little to play there.\"\" Before the story surfaced, Reyes had moved to play down reports linking him with the Spanish giants, issuing a statement through Arsenal describing the speculation as \"\"flattering\"\". \"\"I have seen the stories in the media linking me with Real Madrid,\"\" he had said on Thursday lunchtime. \"\"But not only am I under contract at Arsenal, I am happy here and committed to helping the team win more trophies.\"\" Butragueno, meanwhile, was angry at being impersonated by the radio disc jockey. \"\"It is a disgrace, there is no foundation to this,\"\" he said. \"\"He is an Arsenal player and we have to be respectful. We have to be careful because of the rumours that appear in the news.\"\"\"\\n'\n ...\n '\"Club football in South America continues to suffer from the continent\\'s economic crisis. The best players are lured across the Atlantic - 900 players left Brazil alone in 2004. And crowds are low, with money tight and the fear of violence proving a powerful incentive to stay at home. The average attendance in this year\\'s Brazilian Championship was a record low of 8,139. Furthermore, in 2004 no new talent exploded on the continent with quite the same force as Diego, Robinho and Carlos Tevez in the two previous years. There is no doubt that the highlight of South America\\'s footballing year has to come from the international game. There were some dramatic tournaments in 2004. The Copa America, held in Peru last July, could hardly have come to a more exciting conclusion. With the last kick of the final Brazil scored one of the most decisive equalising goals in the history of football. Argentina thought they had the game won and were in no state to take penalties when Adriano\\'s 93rd-minute blast forced a shoot-out. Earlier in the year there was intense disappointment for Brazil when they amazingly failed to qualify for the Olympic football tournament. The gold medal is the only title they lack but they will have to wait four more years after missing out on the two qualification slots up for grabs in South America\\'s Under-23 Championships, held in Chile in January. Argentina and Paraguay made it through and went on to secure gold and silver in Athens. These tournaments were terrific but the real highlights of the year in South American football could only come from the World Cup qualification campaign. The reason? It is the only time that all the great players come back home and play competitive matches in front of their own fans. I well remember getting a shiver down my spine awaiting the kick-off of the match between Brazil and Argentina at the start of June. Euro 2004 was about to get under way. The thought struck me that the accumulation of talent on the Belo Horizonte pitch was at least as outstanding as that about to go into action in Portugal. For 90 minutes Brazil was the capital of the football world. Ronaldo obviously felt the sense of occasion. He will probably never play a bigger match in Brazil and it was taking place in the stadium where he had made his name over a decade earlier. He was unstoppable, suffering and scoring three penalties in Brazil\\'s 3-1 win. If Ronaldo\\'s performance was the individual highlight of the year, my collective prize goes to Argentina in a match they played a few months later. In October I was down in Buenos Aires to see their first match under new coach Jose Pekerman. Nerves were settled with an early goal and old rivals Uruguay were blasted away. Soon after half-time Argentina were four up and although Uruguay hit back with two consolation goals, it was the performance of the hosts that lingers in the memory. Argentina\\'s goals were magnificent team efforts involving all of the fundamentals of well-played football. The ball moved quickly around the field, with plenty of running off the ball to provide options and lots of crisp, accurate passing, mixing long and short to find gaps in the defence. The crowd responded in fine style, creating the kind of atmosphere familiar to all those old enough to remember the 1978 World Cup. These, then, were my highlights of 2004. With seven vital rounds of World Cup qualifiers scheduled for next year, South American football should come up with much more to celebrate in 2005. Comments are closed for this article.\"\\n'\n '\"Double Olympic champion Kelly Holmes was back to her best as she comfortably won the 1,000m at the Norwich Union Birmingham Indoor Grand Prix. The 34-year-old, running only her second competitive race of the season, shook off the rust to win in two minutes, 35.39 seconds. But she is still undecided about competing in the European Championships in Madrid from 4-6 March. \"\"I\\'ll probably be entered and make my mind up at the last minute,\"\" she said. \"\"My training hasn\\'t gone as well as expected but I\\'ve got two weeks to decide. \"\"I need to take my time and make sure I feel good about what I\\'m doing. \"\"I felt very good here but with the crowd behind you, you feel like you can do anything.\"\" American was the eventual winner of the men\\'s 60m race which almost ended in farce. Three athletes were disqualified for false starting, including Britain\\'s Mark Lewis-Francis, who was the first man guilty of coming out of his blocks too quickly. World 100m champion Kim Collins clinched second spot ahead of world 60m record holder and Scott\\'s training partner Maurice Greene. Jason Gardener\\'s unbeaten run came to an end as he came fifth and he will need to improve if he is to defend his European title in Madrid. \"\"You can\\'t win them all,\"\" said Gardener afterwards. \"\"And I was very disappointed as I know I\\'m capable of doing better.\"\" Russian was back on record-breaking form in the pole vault at the National Indoor Arena. The Olympic champion set a new world mark of 4.88m to break her own record - which she set just six days ago - and beat Russian rival Svetlana Feofanova. It was Isinbayeva\\'s 11th world record - indoors or out - since July 2003. \"\"I\\'m so happy and I will do my best to break the 5m barrier soon,\"\" the 22-year-old told Online News Sport. Jamaica\\'s stormed to a personal best of 7.13 seconds to claim the women\\'s 60m sprint. Belgian Kim Gevaert, who will be one of the favourites for next month\\'s European title, took second while American Muna Lee was third. There was disappointment for British pair Jeanette Kwakye and Joice Maduaka who finished seventh and eighth respectively. Jamaican stretched her unbeaten record to 25 races as she effortlessly claimed the 200m. The Olympic champion set a new indoor personal best of 22.38 seconds - the fastest time in the world this season. fought off fellow Briton Tim Abeyie to take the men\\'s 200m in a personal best of 20.88. continued her outstanding start to the season, beating a strong international field, which included two-time Olympic 100m hurdles bronze medallist Melissa Morrison, to claim the women\\'s 60m hurdles. The 25-year-old Briton clocked 7.98 seconds while pre-European Championships favourite Russian Irina Shevchenko finished down in sixth. Ethiopia\\'s failed in her bid to smash compatriot Berhane Adere\\'s world 3,000m record but still won the event in emphatic style. The Olympic 5,000m champion was inside record pace but dropped off over the final third, finishing in eight minutes, 33.05 seconds - the fourth fastest time ever recorded for the event. Britain\\'s Jo Pavey bravely decided to go with Defar as she strode away from the field and took second in a season\\'s best 8:41.43. Kenyan also missed out on the indoor 1500m world record, which Hicham El Guerrouj has held for the last eight years. Lagat settled for silver behind El Guerrouj in Athens and was almost four seconds short of the Moroccan\\'s world best, clocking 3:35.27 in Birmingham. And was still struggling to find his form after the death of his fiancee this year. The Olympic 10,000m champion had comfortably led the men\\'s two mile race after his younger brother Tariku had set the pace. But fellow Ethiopian appeared ominously on Bekele\\'s shoulder with two laps to go before surging past him at the bell to win in 8:14.28. Jamaican made the most of a blistering start to take the men\\'s 400m title in 45.91 seconds. World indoor champion, Alleyne Francique, faded badly and finished in fourth while American duo Jerry Harris and James Davis took second and third respectively. Swede showed her class in the long jump as she stole top spot from Jade Johnson with the very last jump of the competition. The Olympic heptathlon gold medallist reached 6.66m to better Johnson\\'s mark of 6.52m - her second personal best inside a week. \"\"I was quite surprised because I didn\\'t think I\\'d end up with second place,\"\" said Johnson, who wore London\\'s 2012 Olympic bid slogan, \"\"Back the Bid\"\", on her shorts. \"\"But I\\'m pleased and hopefully I\\'ll get a bit better for the Europeans. I really want to win a medal.\"\" won the men\\'s event with a season\\'s best of 7.95m, taking the scalp of world indoor champion Savante Stringfellow of the USA. Comments are closed for this article.\"\\n'\n '\"Nissan names successor to Ghosn Nissan has named a lifetime employee to run its operations after Carlos Ghosn, its highly successful boss, takes charge at Renault. As chief operating officer, Toshiyuki Shiga will run Nissan on a daily basis, although Mr Ghosn, who masterminded its recovery, will remain chief executive. Mr Ghosn is to become chairman and chief executive of Renault, which owns 44% of the Japanese carmaker, in April. Mr Ghosn transformed Nissan into a fast-growing and profitable business. Mr Shiga will nominally serve as Mr Ghosn\\'s deputy. However, he will be Nissan\\'s most senior Japan-based executive and will be in charge of the firm\\'s global sales and marketing. He is currently in charge of Nissan\\'s operations across Asia and Australasia and is credited with significantly improving its sales in China. He will inherit a strong legacy from Mr Ghosn, who has overseen a dramatic turnaround in Nissan\\'s fortunes in the past five years. Dubbed \\'le cost killer\\' for pushing through huge cost cuts in previous jobs, Mr Ghosn reduced Nissan\\'s overheads by 20% and trimmed its workforce by about 200,000 after taking charge in 1999. These actions helped Nissan turn a 684bn yen ($6.4bn) loss in 2000 into a 331bn yen ($2.7bn) profit the following year. During his tenure, Nissan has increased its market share and made significant strides in key export markets. Nissan aims to increase vehicle sales to more than four million by 2008, launching 28 new models in the process. In his new job as Renault chief executive, Mr Ghosn will devote 40% of his time to Renault, 40% to Nissan and the rest to the group\\'s activities in North America and other key markets. Mr Ghosn said Mr Shiga\\'s appointment would ensure a \"\"seamless\"\" transition in management. \"\"I need a leadership team capable of accelerating the performance and delivery of results that has characterized Nissan over the past six years,\"\" Mr Ghosn said. \"\"I have full confidence in Toshiyuki Shiga and the new leadership team to help me implement the next chapter of Nissan\\'s growth.\"\" Nissan also announced a number of other management appointments with promotions for several younger executives.\"\\n'].\nReshape your data either using array.reshape(-1, 1) if your data has a single feature or array.reshape(1, -1) if it contains a single sample."
     ]
    }
   ],
   "source": [
    "from sklearn.neighbors import KNeighborsClassifier\n",
    "knn = KNeighborsClassifier(n_neighbors=3)\n",
    "knn.fit(X_train, y_train)"
   ]
  },
  {
   "cell_type": "code",
   "execution_count": 277,
   "metadata": {},
   "outputs": [],
   "source": [
    "X_test = vectorizer.transform(X_test)"
   ]
  },
  {
   "cell_type": "code",
   "execution_count": 287,
   "metadata": {},
   "outputs": [
    {
     "data": {
      "text/plain": [
       "(282, 5887)"
      ]
     },
     "execution_count": 287,
     "metadata": {},
     "output_type": "execute_result"
    }
   ],
   "source": [
    "X_test.shape"
   ]
  },
  {
   "cell_type": "code",
   "execution_count": 278,
   "metadata": {},
   "outputs": [
    {
     "ename": "ValueError",
     "evalue": "Incompatible dimension for X and Y matrices: X.shape[1] == 5887 while Y.shape[1] == 35653",
     "output_type": "error",
     "traceback": [
      "\u001b[1;31m---------------------------------------------------------------------------\u001b[0m",
      "\u001b[1;31mValueError\u001b[0m                                Traceback (most recent call last)",
      "\u001b[1;32m<ipython-input-278-08dc72747141>\u001b[0m in \u001b[0;36m<module>\u001b[1;34m\u001b[0m\n\u001b[1;32m----> 1\u001b[1;33m \u001b[0my_pred\u001b[0m \u001b[1;33m=\u001b[0m \u001b[0mknn\u001b[0m\u001b[1;33m.\u001b[0m\u001b[0mpredict\u001b[0m\u001b[1;33m(\u001b[0m\u001b[0mX_test\u001b[0m\u001b[1;33m)\u001b[0m\u001b[1;33m\u001b[0m\u001b[1;33m\u001b[0m\u001b[0m\n\u001b[0m",
      "\u001b[1;32mC:\\ProgramData\\Anaconda3\\lib\\site-packages\\sklearn\\neighbors\\_classification.py\u001b[0m in \u001b[0;36mpredict\u001b[1;34m(self, X)\u001b[0m\n\u001b[0;32m    173\u001b[0m         \u001b[0mX\u001b[0m \u001b[1;33m=\u001b[0m \u001b[0mcheck_array\u001b[0m\u001b[1;33m(\u001b[0m\u001b[0mX\u001b[0m\u001b[1;33m,\u001b[0m \u001b[0maccept_sparse\u001b[0m\u001b[1;33m=\u001b[0m\u001b[1;34m'csr'\u001b[0m\u001b[1;33m)\u001b[0m\u001b[1;33m\u001b[0m\u001b[1;33m\u001b[0m\u001b[0m\n\u001b[0;32m    174\u001b[0m \u001b[1;33m\u001b[0m\u001b[0m\n\u001b[1;32m--> 175\u001b[1;33m         \u001b[0mneigh_dist\u001b[0m\u001b[1;33m,\u001b[0m \u001b[0mneigh_ind\u001b[0m \u001b[1;33m=\u001b[0m \u001b[0mself\u001b[0m\u001b[1;33m.\u001b[0m\u001b[0mkneighbors\u001b[0m\u001b[1;33m(\u001b[0m\u001b[0mX\u001b[0m\u001b[1;33m)\u001b[0m\u001b[1;33m\u001b[0m\u001b[1;33m\u001b[0m\u001b[0m\n\u001b[0m\u001b[0;32m    176\u001b[0m         \u001b[0mclasses_\u001b[0m \u001b[1;33m=\u001b[0m \u001b[0mself\u001b[0m\u001b[1;33m.\u001b[0m\u001b[0mclasses_\u001b[0m\u001b[1;33m\u001b[0m\u001b[1;33m\u001b[0m\u001b[0m\n\u001b[0;32m    177\u001b[0m         \u001b[0m_y\u001b[0m \u001b[1;33m=\u001b[0m \u001b[0mself\u001b[0m\u001b[1;33m.\u001b[0m\u001b[0m_y\u001b[0m\u001b[1;33m\u001b[0m\u001b[1;33m\u001b[0m\u001b[0m\n",
      "\u001b[1;32mC:\\ProgramData\\Anaconda3\\lib\\site-packages\\sklearn\\neighbors\\_base.py\u001b[0m in \u001b[0;36mkneighbors\u001b[1;34m(self, X, n_neighbors, return_distance)\u001b[0m\n\u001b[0;32m    639\u001b[0m                 \u001b[0mkwds\u001b[0m \u001b[1;33m=\u001b[0m \u001b[0mself\u001b[0m\u001b[1;33m.\u001b[0m\u001b[0meffective_metric_params_\u001b[0m\u001b[1;33m\u001b[0m\u001b[1;33m\u001b[0m\u001b[0m\n\u001b[0;32m    640\u001b[0m \u001b[1;33m\u001b[0m\u001b[0m\n\u001b[1;32m--> 641\u001b[1;33m             chunked_results = list(pairwise_distances_chunked(\n\u001b[0m\u001b[0;32m    642\u001b[0m                 \u001b[0mX\u001b[0m\u001b[1;33m,\u001b[0m \u001b[0mself\u001b[0m\u001b[1;33m.\u001b[0m\u001b[0m_fit_X\u001b[0m\u001b[1;33m,\u001b[0m \u001b[0mreduce_func\u001b[0m\u001b[1;33m=\u001b[0m\u001b[0mreduce_func\u001b[0m\u001b[1;33m,\u001b[0m\u001b[1;33m\u001b[0m\u001b[1;33m\u001b[0m\u001b[0m\n\u001b[0;32m    643\u001b[0m                 \u001b[0mmetric\u001b[0m\u001b[1;33m=\u001b[0m\u001b[0mself\u001b[0m\u001b[1;33m.\u001b[0m\u001b[0meffective_metric_\u001b[0m\u001b[1;33m,\u001b[0m \u001b[0mn_jobs\u001b[0m\u001b[1;33m=\u001b[0m\u001b[0mn_jobs\u001b[0m\u001b[1;33m,\u001b[0m\u001b[1;33m\u001b[0m\u001b[1;33m\u001b[0m\u001b[0m\n",
      "\u001b[1;32mC:\\ProgramData\\Anaconda3\\lib\\site-packages\\sklearn\\metrics\\pairwise.py\u001b[0m in \u001b[0;36mpairwise_distances_chunked\u001b[1;34m(X, Y, reduce_func, metric, n_jobs, working_memory, **kwds)\u001b[0m\n\u001b[0;32m   1610\u001b[0m         \u001b[1;32melse\u001b[0m\u001b[1;33m:\u001b[0m\u001b[1;33m\u001b[0m\u001b[1;33m\u001b[0m\u001b[0m\n\u001b[0;32m   1611\u001b[0m             \u001b[0mX_chunk\u001b[0m \u001b[1;33m=\u001b[0m \u001b[0mX\u001b[0m\u001b[1;33m[\u001b[0m\u001b[0msl\u001b[0m\u001b[1;33m]\u001b[0m\u001b[1;33m\u001b[0m\u001b[1;33m\u001b[0m\u001b[0m\n\u001b[1;32m-> 1612\u001b[1;33m         D_chunk = pairwise_distances(X_chunk, Y, metric=metric,\n\u001b[0m\u001b[0;32m   1613\u001b[0m                                      n_jobs=n_jobs, **kwds)\n\u001b[0;32m   1614\u001b[0m         if ((X is Y or Y is None)\n",
      "\u001b[1;32mC:\\ProgramData\\Anaconda3\\lib\\site-packages\\sklearn\\utils\\validation.py\u001b[0m in \u001b[0;36minner_f\u001b[1;34m(*args, **kwargs)\u001b[0m\n\u001b[0;32m     71\u001b[0m                           FutureWarning)\n\u001b[0;32m     72\u001b[0m         \u001b[0mkwargs\u001b[0m\u001b[1;33m.\u001b[0m\u001b[0mupdate\u001b[0m\u001b[1;33m(\u001b[0m\u001b[1;33m{\u001b[0m\u001b[0mk\u001b[0m\u001b[1;33m:\u001b[0m \u001b[0marg\u001b[0m \u001b[1;32mfor\u001b[0m \u001b[0mk\u001b[0m\u001b[1;33m,\u001b[0m \u001b[0marg\u001b[0m \u001b[1;32min\u001b[0m \u001b[0mzip\u001b[0m\u001b[1;33m(\u001b[0m\u001b[0msig\u001b[0m\u001b[1;33m.\u001b[0m\u001b[0mparameters\u001b[0m\u001b[1;33m,\u001b[0m \u001b[0margs\u001b[0m\u001b[1;33m)\u001b[0m\u001b[1;33m}\u001b[0m\u001b[1;33m)\u001b[0m\u001b[1;33m\u001b[0m\u001b[1;33m\u001b[0m\u001b[0m\n\u001b[1;32m---> 73\u001b[1;33m         \u001b[1;32mreturn\u001b[0m \u001b[0mf\u001b[0m\u001b[1;33m(\u001b[0m\u001b[1;33m**\u001b[0m\u001b[0mkwargs\u001b[0m\u001b[1;33m)\u001b[0m\u001b[1;33m\u001b[0m\u001b[1;33m\u001b[0m\u001b[0m\n\u001b[0m\u001b[0;32m     74\u001b[0m     \u001b[1;32mreturn\u001b[0m \u001b[0minner_f\u001b[0m\u001b[1;33m\u001b[0m\u001b[1;33m\u001b[0m\u001b[0m\n\u001b[0;32m     75\u001b[0m \u001b[1;33m\u001b[0m\u001b[0m\n",
      "\u001b[1;32mC:\\ProgramData\\Anaconda3\\lib\\site-packages\\sklearn\\metrics\\pairwise.py\u001b[0m in \u001b[0;36mpairwise_distances\u001b[1;34m(X, Y, metric, n_jobs, force_all_finite, **kwds)\u001b[0m\n\u001b[0;32m   1773\u001b[0m         \u001b[0mfunc\u001b[0m \u001b[1;33m=\u001b[0m \u001b[0mpartial\u001b[0m\u001b[1;33m(\u001b[0m\u001b[0mdistance\u001b[0m\u001b[1;33m.\u001b[0m\u001b[0mcdist\u001b[0m\u001b[1;33m,\u001b[0m \u001b[0mmetric\u001b[0m\u001b[1;33m=\u001b[0m\u001b[0mmetric\u001b[0m\u001b[1;33m,\u001b[0m \u001b[1;33m**\u001b[0m\u001b[0mkwds\u001b[0m\u001b[1;33m)\u001b[0m\u001b[1;33m\u001b[0m\u001b[1;33m\u001b[0m\u001b[0m\n\u001b[0;32m   1774\u001b[0m \u001b[1;33m\u001b[0m\u001b[0m\n\u001b[1;32m-> 1775\u001b[1;33m     \u001b[1;32mreturn\u001b[0m \u001b[0m_parallel_pairwise\u001b[0m\u001b[1;33m(\u001b[0m\u001b[0mX\u001b[0m\u001b[1;33m,\u001b[0m \u001b[0mY\u001b[0m\u001b[1;33m,\u001b[0m \u001b[0mfunc\u001b[0m\u001b[1;33m,\u001b[0m \u001b[0mn_jobs\u001b[0m\u001b[1;33m,\u001b[0m \u001b[1;33m**\u001b[0m\u001b[0mkwds\u001b[0m\u001b[1;33m)\u001b[0m\u001b[1;33m\u001b[0m\u001b[1;33m\u001b[0m\u001b[0m\n\u001b[0m\u001b[0;32m   1776\u001b[0m \u001b[1;33m\u001b[0m\u001b[0m\n\u001b[0;32m   1777\u001b[0m \u001b[1;33m\u001b[0m\u001b[0m\n",
      "\u001b[1;32mC:\\ProgramData\\Anaconda3\\lib\\site-packages\\sklearn\\metrics\\pairwise.py\u001b[0m in \u001b[0;36m_parallel_pairwise\u001b[1;34m(X, Y, func, n_jobs, **kwds)\u001b[0m\n\u001b[0;32m   1357\u001b[0m \u001b[1;33m\u001b[0m\u001b[0m\n\u001b[0;32m   1358\u001b[0m     \u001b[1;32mif\u001b[0m \u001b[0meffective_n_jobs\u001b[0m\u001b[1;33m(\u001b[0m\u001b[0mn_jobs\u001b[0m\u001b[1;33m)\u001b[0m \u001b[1;33m==\u001b[0m \u001b[1;36m1\u001b[0m\u001b[1;33m:\u001b[0m\u001b[1;33m\u001b[0m\u001b[1;33m\u001b[0m\u001b[0m\n\u001b[1;32m-> 1359\u001b[1;33m         \u001b[1;32mreturn\u001b[0m \u001b[0mfunc\u001b[0m\u001b[1;33m(\u001b[0m\u001b[0mX\u001b[0m\u001b[1;33m,\u001b[0m \u001b[0mY\u001b[0m\u001b[1;33m,\u001b[0m \u001b[1;33m**\u001b[0m\u001b[0mkwds\u001b[0m\u001b[1;33m)\u001b[0m\u001b[1;33m\u001b[0m\u001b[1;33m\u001b[0m\u001b[0m\n\u001b[0m\u001b[0;32m   1360\u001b[0m \u001b[1;33m\u001b[0m\u001b[0m\n\u001b[0;32m   1361\u001b[0m     \u001b[1;31m# enforce a threading backend to prevent data communication overhead\u001b[0m\u001b[1;33m\u001b[0m\u001b[1;33m\u001b[0m\u001b[1;33m\u001b[0m\u001b[0m\n",
      "\u001b[1;32mC:\\ProgramData\\Anaconda3\\lib\\site-packages\\sklearn\\utils\\validation.py\u001b[0m in \u001b[0;36minner_f\u001b[1;34m(*args, **kwargs)\u001b[0m\n\u001b[0;32m     71\u001b[0m                           FutureWarning)\n\u001b[0;32m     72\u001b[0m         \u001b[0mkwargs\u001b[0m\u001b[1;33m.\u001b[0m\u001b[0mupdate\u001b[0m\u001b[1;33m(\u001b[0m\u001b[1;33m{\u001b[0m\u001b[0mk\u001b[0m\u001b[1;33m:\u001b[0m \u001b[0marg\u001b[0m \u001b[1;32mfor\u001b[0m \u001b[0mk\u001b[0m\u001b[1;33m,\u001b[0m \u001b[0marg\u001b[0m \u001b[1;32min\u001b[0m \u001b[0mzip\u001b[0m\u001b[1;33m(\u001b[0m\u001b[0msig\u001b[0m\u001b[1;33m.\u001b[0m\u001b[0mparameters\u001b[0m\u001b[1;33m,\u001b[0m \u001b[0margs\u001b[0m\u001b[1;33m)\u001b[0m\u001b[1;33m}\u001b[0m\u001b[1;33m)\u001b[0m\u001b[1;33m\u001b[0m\u001b[1;33m\u001b[0m\u001b[0m\n\u001b[1;32m---> 73\u001b[1;33m         \u001b[1;32mreturn\u001b[0m \u001b[0mf\u001b[0m\u001b[1;33m(\u001b[0m\u001b[1;33m**\u001b[0m\u001b[0mkwargs\u001b[0m\u001b[1;33m)\u001b[0m\u001b[1;33m\u001b[0m\u001b[1;33m\u001b[0m\u001b[0m\n\u001b[0m\u001b[0;32m     74\u001b[0m     \u001b[1;32mreturn\u001b[0m \u001b[0minner_f\u001b[0m\u001b[1;33m\u001b[0m\u001b[1;33m\u001b[0m\u001b[0m\n\u001b[0;32m     75\u001b[0m \u001b[1;33m\u001b[0m\u001b[0m\n",
      "\u001b[1;32mC:\\ProgramData\\Anaconda3\\lib\\site-packages\\sklearn\\metrics\\pairwise.py\u001b[0m in \u001b[0;36meuclidean_distances\u001b[1;34m(X, Y, Y_norm_squared, squared, X_norm_squared)\u001b[0m\n\u001b[0;32m    266\u001b[0m     \u001b[0mpaired_distances\u001b[0m \u001b[1;33m:\u001b[0m \u001b[0mdistances\u001b[0m \u001b[0mbetweens\u001b[0m \u001b[0mpairs\u001b[0m \u001b[0mof\u001b[0m \u001b[0melements\u001b[0m \u001b[0mof\u001b[0m \u001b[0mX\u001b[0m \u001b[1;32mand\u001b[0m \u001b[0mY\u001b[0m\u001b[1;33m.\u001b[0m\u001b[1;33m\u001b[0m\u001b[1;33m\u001b[0m\u001b[0m\n\u001b[0;32m    267\u001b[0m     \"\"\"\n\u001b[1;32m--> 268\u001b[1;33m     \u001b[0mX\u001b[0m\u001b[1;33m,\u001b[0m \u001b[0mY\u001b[0m \u001b[1;33m=\u001b[0m \u001b[0mcheck_pairwise_arrays\u001b[0m\u001b[1;33m(\u001b[0m\u001b[0mX\u001b[0m\u001b[1;33m,\u001b[0m \u001b[0mY\u001b[0m\u001b[1;33m)\u001b[0m\u001b[1;33m\u001b[0m\u001b[1;33m\u001b[0m\u001b[0m\n\u001b[0m\u001b[0;32m    269\u001b[0m \u001b[1;33m\u001b[0m\u001b[0m\n\u001b[0;32m    270\u001b[0m     \u001b[1;31m# If norms are passed as float32, they are unused. If arrays are passed as\u001b[0m\u001b[1;33m\u001b[0m\u001b[1;33m\u001b[0m\u001b[1;33m\u001b[0m\u001b[0m\n",
      "\u001b[1;32mC:\\ProgramData\\Anaconda3\\lib\\site-packages\\sklearn\\utils\\validation.py\u001b[0m in \u001b[0;36minner_f\u001b[1;34m(*args, **kwargs)\u001b[0m\n\u001b[0;32m     71\u001b[0m                           FutureWarning)\n\u001b[0;32m     72\u001b[0m         \u001b[0mkwargs\u001b[0m\u001b[1;33m.\u001b[0m\u001b[0mupdate\u001b[0m\u001b[1;33m(\u001b[0m\u001b[1;33m{\u001b[0m\u001b[0mk\u001b[0m\u001b[1;33m:\u001b[0m \u001b[0marg\u001b[0m \u001b[1;32mfor\u001b[0m \u001b[0mk\u001b[0m\u001b[1;33m,\u001b[0m \u001b[0marg\u001b[0m \u001b[1;32min\u001b[0m \u001b[0mzip\u001b[0m\u001b[1;33m(\u001b[0m\u001b[0msig\u001b[0m\u001b[1;33m.\u001b[0m\u001b[0mparameters\u001b[0m\u001b[1;33m,\u001b[0m \u001b[0margs\u001b[0m\u001b[1;33m)\u001b[0m\u001b[1;33m}\u001b[0m\u001b[1;33m)\u001b[0m\u001b[1;33m\u001b[0m\u001b[1;33m\u001b[0m\u001b[0m\n\u001b[1;32m---> 73\u001b[1;33m         \u001b[1;32mreturn\u001b[0m \u001b[0mf\u001b[0m\u001b[1;33m(\u001b[0m\u001b[1;33m**\u001b[0m\u001b[0mkwargs\u001b[0m\u001b[1;33m)\u001b[0m\u001b[1;33m\u001b[0m\u001b[1;33m\u001b[0m\u001b[0m\n\u001b[0m\u001b[0;32m     74\u001b[0m     \u001b[1;32mreturn\u001b[0m \u001b[0minner_f\u001b[0m\u001b[1;33m\u001b[0m\u001b[1;33m\u001b[0m\u001b[0m\n\u001b[0;32m     75\u001b[0m \u001b[1;33m\u001b[0m\u001b[0m\n",
      "\u001b[1;32mC:\\ProgramData\\Anaconda3\\lib\\site-packages\\sklearn\\metrics\\pairwise.py\u001b[0m in \u001b[0;36mcheck_pairwise_arrays\u001b[1;34m(X, Y, precomputed, dtype, accept_sparse, force_all_finite, copy)\u001b[0m\n\u001b[0;32m    156\u001b[0m                              (X.shape[0], X.shape[1], Y.shape[0]))\n\u001b[0;32m    157\u001b[0m     \u001b[1;32melif\u001b[0m \u001b[0mX\u001b[0m\u001b[1;33m.\u001b[0m\u001b[0mshape\u001b[0m\u001b[1;33m[\u001b[0m\u001b[1;36m1\u001b[0m\u001b[1;33m]\u001b[0m \u001b[1;33m!=\u001b[0m \u001b[0mY\u001b[0m\u001b[1;33m.\u001b[0m\u001b[0mshape\u001b[0m\u001b[1;33m[\u001b[0m\u001b[1;36m1\u001b[0m\u001b[1;33m]\u001b[0m\u001b[1;33m:\u001b[0m\u001b[1;33m\u001b[0m\u001b[1;33m\u001b[0m\u001b[0m\n\u001b[1;32m--> 158\u001b[1;33m         raise ValueError(\"Incompatible dimension for X and Y matrices: \"\n\u001b[0m\u001b[0;32m    159\u001b[0m                          \"X.shape[1] == %d while Y.shape[1] == %d\" % (\n\u001b[0;32m    160\u001b[0m                              X.shape[1], Y.shape[1]))\n",
      "\u001b[1;31mValueError\u001b[0m: Incompatible dimension for X and Y matrices: X.shape[1] == 5887 while Y.shape[1] == 35653"
     ]
    }
   ],
   "source": [
    "y_pred = knn.predict(X_test)"
   ]
  },
  {
   "cell_type": "code",
   "execution_count": 274,
   "metadata": {},
   "outputs": [
    {
     "ename": "ValueError",
     "evalue": "Found input variables with inconsistent numbers of samples: [282, 1408]",
     "output_type": "error",
     "traceback": [
      "\u001b[1;31m---------------------------------------------------------------------------\u001b[0m",
      "\u001b[1;31mValueError\u001b[0m                                Traceback (most recent call last)",
      "\u001b[1;32m<ipython-input-274-ce094bccd796>\u001b[0m in \u001b[0;36m<module>\u001b[1;34m\u001b[0m\n\u001b[0;32m      1\u001b[0m \u001b[1;32mfrom\u001b[0m \u001b[0msklearn\u001b[0m\u001b[1;33m.\u001b[0m\u001b[0mmetrics\u001b[0m \u001b[1;32mimport\u001b[0m \u001b[0maccuracy_score\u001b[0m\u001b[1;33m\u001b[0m\u001b[1;33m\u001b[0m\u001b[0m\n\u001b[1;32m----> 2\u001b[1;33m \u001b[0maccuracy_score\u001b[0m\u001b[1;33m(\u001b[0m\u001b[0my_test\u001b[0m\u001b[1;33m,\u001b[0m \u001b[0my_pred\u001b[0m\u001b[1;33m)\u001b[0m\u001b[1;33m\u001b[0m\u001b[1;33m\u001b[0m\u001b[0m\n\u001b[0m",
      "\u001b[1;32mC:\\ProgramData\\Anaconda3\\lib\\site-packages\\sklearn\\utils\\validation.py\u001b[0m in \u001b[0;36minner_f\u001b[1;34m(*args, **kwargs)\u001b[0m\n\u001b[0;32m     71\u001b[0m                           FutureWarning)\n\u001b[0;32m     72\u001b[0m         \u001b[0mkwargs\u001b[0m\u001b[1;33m.\u001b[0m\u001b[0mupdate\u001b[0m\u001b[1;33m(\u001b[0m\u001b[1;33m{\u001b[0m\u001b[0mk\u001b[0m\u001b[1;33m:\u001b[0m \u001b[0marg\u001b[0m \u001b[1;32mfor\u001b[0m \u001b[0mk\u001b[0m\u001b[1;33m,\u001b[0m \u001b[0marg\u001b[0m \u001b[1;32min\u001b[0m \u001b[0mzip\u001b[0m\u001b[1;33m(\u001b[0m\u001b[0msig\u001b[0m\u001b[1;33m.\u001b[0m\u001b[0mparameters\u001b[0m\u001b[1;33m,\u001b[0m \u001b[0margs\u001b[0m\u001b[1;33m)\u001b[0m\u001b[1;33m}\u001b[0m\u001b[1;33m)\u001b[0m\u001b[1;33m\u001b[0m\u001b[1;33m\u001b[0m\u001b[0m\n\u001b[1;32m---> 73\u001b[1;33m         \u001b[1;32mreturn\u001b[0m \u001b[0mf\u001b[0m\u001b[1;33m(\u001b[0m\u001b[1;33m**\u001b[0m\u001b[0mkwargs\u001b[0m\u001b[1;33m)\u001b[0m\u001b[1;33m\u001b[0m\u001b[1;33m\u001b[0m\u001b[0m\n\u001b[0m\u001b[0;32m     74\u001b[0m     \u001b[1;32mreturn\u001b[0m \u001b[0minner_f\u001b[0m\u001b[1;33m\u001b[0m\u001b[1;33m\u001b[0m\u001b[0m\n\u001b[0;32m     75\u001b[0m \u001b[1;33m\u001b[0m\u001b[0m\n",
      "\u001b[1;32mC:\\ProgramData\\Anaconda3\\lib\\site-packages\\sklearn\\metrics\\_classification.py\u001b[0m in \u001b[0;36maccuracy_score\u001b[1;34m(y_true, y_pred, normalize, sample_weight)\u001b[0m\n\u001b[0;32m    185\u001b[0m \u001b[1;33m\u001b[0m\u001b[0m\n\u001b[0;32m    186\u001b[0m     \u001b[1;31m# Compute accuracy for each possible representation\u001b[0m\u001b[1;33m\u001b[0m\u001b[1;33m\u001b[0m\u001b[1;33m\u001b[0m\u001b[0m\n\u001b[1;32m--> 187\u001b[1;33m     \u001b[0my_type\u001b[0m\u001b[1;33m,\u001b[0m \u001b[0my_true\u001b[0m\u001b[1;33m,\u001b[0m \u001b[0my_pred\u001b[0m \u001b[1;33m=\u001b[0m \u001b[0m_check_targets\u001b[0m\u001b[1;33m(\u001b[0m\u001b[0my_true\u001b[0m\u001b[1;33m,\u001b[0m \u001b[0my_pred\u001b[0m\u001b[1;33m)\u001b[0m\u001b[1;33m\u001b[0m\u001b[1;33m\u001b[0m\u001b[0m\n\u001b[0m\u001b[0;32m    188\u001b[0m     \u001b[0mcheck_consistent_length\u001b[0m\u001b[1;33m(\u001b[0m\u001b[0my_true\u001b[0m\u001b[1;33m,\u001b[0m \u001b[0my_pred\u001b[0m\u001b[1;33m,\u001b[0m \u001b[0msample_weight\u001b[0m\u001b[1;33m)\u001b[0m\u001b[1;33m\u001b[0m\u001b[1;33m\u001b[0m\u001b[0m\n\u001b[0;32m    189\u001b[0m     \u001b[1;32mif\u001b[0m \u001b[0my_type\u001b[0m\u001b[1;33m.\u001b[0m\u001b[0mstartswith\u001b[0m\u001b[1;33m(\u001b[0m\u001b[1;34m'multilabel'\u001b[0m\u001b[1;33m)\u001b[0m\u001b[1;33m:\u001b[0m\u001b[1;33m\u001b[0m\u001b[1;33m\u001b[0m\u001b[0m\n",
      "\u001b[1;32mC:\\ProgramData\\Anaconda3\\lib\\site-packages\\sklearn\\metrics\\_classification.py\u001b[0m in \u001b[0;36m_check_targets\u001b[1;34m(y_true, y_pred)\u001b[0m\n\u001b[0;32m     79\u001b[0m     \u001b[0my_pred\u001b[0m \u001b[1;33m:\u001b[0m \u001b[0marray\u001b[0m \u001b[1;32mor\u001b[0m \u001b[0mindicator\u001b[0m \u001b[0mmatrix\u001b[0m\u001b[1;33m\u001b[0m\u001b[1;33m\u001b[0m\u001b[0m\n\u001b[0;32m     80\u001b[0m     \"\"\"\n\u001b[1;32m---> 81\u001b[1;33m     \u001b[0mcheck_consistent_length\u001b[0m\u001b[1;33m(\u001b[0m\u001b[0my_true\u001b[0m\u001b[1;33m,\u001b[0m \u001b[0my_pred\u001b[0m\u001b[1;33m)\u001b[0m\u001b[1;33m\u001b[0m\u001b[1;33m\u001b[0m\u001b[0m\n\u001b[0m\u001b[0;32m     82\u001b[0m     \u001b[0mtype_true\u001b[0m \u001b[1;33m=\u001b[0m \u001b[0mtype_of_target\u001b[0m\u001b[1;33m(\u001b[0m\u001b[0my_true\u001b[0m\u001b[1;33m)\u001b[0m\u001b[1;33m\u001b[0m\u001b[1;33m\u001b[0m\u001b[0m\n\u001b[0;32m     83\u001b[0m     \u001b[0mtype_pred\u001b[0m \u001b[1;33m=\u001b[0m \u001b[0mtype_of_target\u001b[0m\u001b[1;33m(\u001b[0m\u001b[0my_pred\u001b[0m\u001b[1;33m)\u001b[0m\u001b[1;33m\u001b[0m\u001b[1;33m\u001b[0m\u001b[0m\n",
      "\u001b[1;32mC:\\ProgramData\\Anaconda3\\lib\\site-packages\\sklearn\\utils\\validation.py\u001b[0m in \u001b[0;36mcheck_consistent_length\u001b[1;34m(*arrays)\u001b[0m\n\u001b[0;32m    254\u001b[0m     \u001b[0muniques\u001b[0m \u001b[1;33m=\u001b[0m \u001b[0mnp\u001b[0m\u001b[1;33m.\u001b[0m\u001b[0munique\u001b[0m\u001b[1;33m(\u001b[0m\u001b[0mlengths\u001b[0m\u001b[1;33m)\u001b[0m\u001b[1;33m\u001b[0m\u001b[1;33m\u001b[0m\u001b[0m\n\u001b[0;32m    255\u001b[0m     \u001b[1;32mif\u001b[0m \u001b[0mlen\u001b[0m\u001b[1;33m(\u001b[0m\u001b[0muniques\u001b[0m\u001b[1;33m)\u001b[0m \u001b[1;33m>\u001b[0m \u001b[1;36m1\u001b[0m\u001b[1;33m:\u001b[0m\u001b[1;33m\u001b[0m\u001b[1;33m\u001b[0m\u001b[0m\n\u001b[1;32m--> 256\u001b[1;33m         raise ValueError(\"Found input variables with inconsistent numbers of\"\n\u001b[0m\u001b[0;32m    257\u001b[0m                          \" samples: %r\" % [int(l) for l in lengths])\n\u001b[0;32m    258\u001b[0m \u001b[1;33m\u001b[0m\u001b[0m\n",
      "\u001b[1;31mValueError\u001b[0m: Found input variables with inconsistent numbers of samples: [282, 1408]"
     ]
    }
   ],
   "source": [
    "from sklearn.metrics import accuracy_score\n",
    "accuracy_score(y_test, y_pred)"
   ]
  },
  {
   "cell_type": "code",
   "execution_count": 185,
   "metadata": {
    "scrolled": true
   },
   "outputs": [
    {
     "data": {
      "text/plain": [
       "array([[113,   0,   0],\n",
       "       [  0,  93,   0],\n",
       "       [  0,   0,  76]], dtype=int64)"
      ]
     },
     "execution_count": 185,
     "metadata": {},
     "output_type": "execute_result"
    }
   ],
   "source": [
    "from sklearn.metrics import confusion_matrix\n",
    "confusion_matrix(y_test, y_pred)"
   ]
  },
  {
   "cell_type": "markdown",
   "metadata": {},
   "source": [
    "### XGBoost"
   ]
  },
  {
   "cell_type": "code",
   "execution_count": 186,
   "metadata": {},
   "outputs": [],
   "source": [
    "import xgboost as xgb"
   ]
  },
  {
   "cell_type": "code",
   "execution_count": 187,
   "metadata": {},
   "outputs": [
    {
     "data": {
      "text/plain": [
       "XGBClassifier(base_score=0.5, booster='gbtree', colsample_bylevel=1,\n",
       "              colsample_bynode=1, colsample_bytree=1, gamma=0, gpu_id=-1,\n",
       "              importance_type='gain', interaction_constraints='',\n",
       "              learning_rate=0.300000012, max_delta_step=0, max_depth=6,\n",
       "              min_child_weight=1, missing=nan, monotone_constraints='()',\n",
       "              n_estimators=100, n_jobs=0, num_parallel_tree=1,\n",
       "              objective='multi:softprob', random_state=0, reg_alpha=0,\n",
       "              reg_lambda=1, scale_pos_weight=None, subsample=1,\n",
       "              tree_method='exact', validate_parameters=1, verbosity=None)"
      ]
     },
     "execution_count": 187,
     "metadata": {},
     "output_type": "execute_result"
    }
   ],
   "source": [
    "xgb = xgb.XGBClassifier()\n",
    "xgb.fit(X_train, y_train)\n",
    "# scores = cross_val_score(xgb, X_train, y_train, cv=5)\n",
    "# return scores.mean()\n",
    "# list_accuracy.append(scores.mean())"
   ]
  },
  {
   "cell_type": "code",
   "execution_count": 188,
   "metadata": {},
   "outputs": [],
   "source": [
    "X_test = vectorizer.transform(y_test)"
   ]
  },
  {
   "cell_type": "code",
   "execution_count": 189,
   "metadata": {},
   "outputs": [],
   "source": [
    "y_pred = xgb.predict(X_test)"
   ]
  },
  {
   "cell_type": "code",
   "execution_count": 190,
   "metadata": {},
   "outputs": [
    {
     "data": {
      "text/plain": [
       "0.32978723404255317"
      ]
     },
     "execution_count": 190,
     "metadata": {},
     "output_type": "execute_result"
    }
   ],
   "source": [
    "from sklearn.metrics import accuracy_score\n",
    "accuracy_score(y_test, y_pred)"
   ]
  },
  {
   "cell_type": "code",
   "execution_count": 191,
   "metadata": {
    "scrolled": true
   },
   "outputs": [
    {
     "data": {
      "text/plain": [
       "array([[  0, 113,   0],\n",
       "       [  0,  93,   0],\n",
       "       [  0,  76,   0]], dtype=int64)"
      ]
     },
     "execution_count": 191,
     "metadata": {},
     "output_type": "execute_result"
    }
   ],
   "source": [
    "from sklearn.metrics import confusion_matrix\n",
    "confusion_matrix(y_test, y_pred)"
   ]
  },
  {
   "cell_type": "code",
   "execution_count": null,
   "metadata": {},
   "outputs": [],
   "source": []
  },
  {
   "cell_type": "markdown",
   "metadata": {},
   "source": [
    "---"
   ]
  },
  {
   "cell_type": "markdown",
   "metadata": {},
   "source": [
    "# KNN"
   ]
  },
  {
   "cell_type": "code",
   "execution_count": 317,
   "metadata": {},
   "outputs": [],
   "source": [
    "X_train, X_test, y_train, y_test = train_test_split(raw_documents, y, test_size=0.2, random_state=42)"
   ]
  },
  {
   "cell_type": "code",
   "execution_count": 318,
   "metadata": {},
   "outputs": [],
   "source": [
    "import numpy as np\n",
    "from sklearn.datasets import fetch_20newsgroups\n",
    "from sklearn.feature_extraction.text import CountVectorizer\n",
    "from sklearn.feature_extraction.text import TfidfTransformer\n",
    "from sklearn.neighbors import KNeighborsClassifier\n",
    "from sklearn.pipeline import Pipeline"
   ]
  },
  {
   "cell_type": "code",
   "execution_count": 319,
   "metadata": {},
   "outputs": [],
   "source": [
    "from sklearn.datasets import fetch_20newsgroups"
   ]
  },
  {
   "cell_type": "code",
   "execution_count": 320,
   "metadata": {},
   "outputs": [
    {
     "name": "stdout",
     "output_type": "stream",
     "text": [
      "['comp.graphics', 'rec.motorcycles', 'sci.electronics', 'sci.med']\n",
      "From: kreyling@lds.loral.com (Ed Kreyling 6966)\n",
      "Subject: Sun-os and 8bit ASCII graphics\n",
      "Organization: Loral Data Systems\n",
      "comp.graphics\n",
      "comp.graphics\n",
      "comp.graphics\n",
      "rec.motorcycles\n",
      "comp.graphics\n",
      "sci.med\n",
      "sci.electronics\n",
      "sci.electronics\n",
      "comp.graphics\n",
      "rec.motorcycles\n",
      "sci.electronics\n"
     ]
    }
   ],
   "source": [
    "# We defined the categories which we want to classify\n",
    "categories = ['rec.motorcycles', 'sci.electronics',\n",
    "              'comp.graphics', 'sci.med']\n",
    "\n",
    "# sklearn provides us with subset data for training and testing\n",
    "train_data = fetch_20newsgroups(subset='train',\n",
    "                                categories=categories, shuffle=True, random_state=42)\n",
    "\n",
    "print(train_data.target_names)\n",
    "\n",
    "print(\"\\n\".join(train_data.data[0].split(\"\\n\")[:3]))\n",
    "print(train_data.target_names[train_data.target[0]])\n",
    "\n",
    "# Let's look at categories of our first ten training data\n",
    "for t in train_data.target[:10]:\n",
    "    print(train_data.target_names[t])\n"
   ]
  },
  {
   "cell_type": "code",
   "execution_count": 321,
   "metadata": {},
   "outputs": [],
   "source": [
    "# # Builds a dictionary of features and transforms documents to feature vectors and convert our text documents to a\n",
    "# # matrix of token counts (CountVectorizer)\n",
    "# count_vect = CountVectorizer()\n",
    "# X_train_counts = count_vect.fit_transform(train_data.data)\n",
    "\n",
    "# # transform a count matrix to a normalized tf-idf representation (tf-idf transformer)\n",
    "# tfidf_transformer = TfidfTransformer()\n",
    "# X_train_tfidf = tfidf_transformer.fit_transform(X_train_counts)\n"
   ]
  },
  {
   "cell_type": "code",
   "execution_count": 322,
   "metadata": {},
   "outputs": [],
   "source": [
    "# Builds a dictionary of features and transforms documents to feature vectors and convert our text documents to a\n",
    "# matrix of token counts (CountVectorizer)\n",
    "count_vect = CountVectorizer()\n",
    "X_train_counts = count_vect.fit_transform(X_train)\n",
    "\n",
    "# transform a count matrix to a normalized tf-idf representation (tf-idf transformer)\n",
    "tfidf_transformer = TfidfTransformer()\n",
    "X_train_tfidf = tfidf_transformer.fit_transform(X_train_counts)\n"
   ]
  },
  {
   "cell_type": "code",
   "execution_count": 323,
   "metadata": {},
   "outputs": [],
   "source": [
    "# knn = KNeighborsClassifier(n_neighbors=7)\n",
    "\n",
    "# # training our classifier ; train_data.target will be having numbers assigned for each category in train data\n",
    "# clf = knn.fit(X_train_tfidf, train_data.target)\n",
    "\n",
    "# # Input Data to predict their classes of the given categories\n",
    "# docs_new = ['I have a Harley Davidson and Yamaha.', 'I have a GTX 1050 GPU']\n",
    "# # building up feature vector of our input\n",
    "# X_new_counts = count_vect.transform(docs_new)\n",
    "# # We call transform instead of fit_transform because it's already been fit\n",
    "# X_new_tfidf = tfidf_transformer.transform(X_new_counts)\n",
    "\n"
   ]
  },
  {
   "cell_type": "code",
   "execution_count": 324,
   "metadata": {},
   "outputs": [],
   "source": [
    "knn = KNeighborsClassifier(n_neighbors=5)\n",
    "\n",
    "# training our classifier ; train_data.target will be having numbers assigned for each category in train data\n",
    "clf = knn.fit(X_train_tfidf, y_train)\n",
    "\n",
    "# Input Data to predict their classes of the given categories\n",
    "docs_new = ['I have a Harley Davidson and Yamaha.', 'I have a GTX 1050 GPU']\n",
    "# building up feature vector of our input\n",
    "X_new_counts = count_vect.transform(docs_new)\n",
    "# We call transform instead of fit_transform because it's already been fit\n",
    "X_new_tfidf = tfidf_transformer.transform(X_new_counts)\n"
   ]
  },
  {
   "cell_type": "code",
   "execution_count": 328,
   "metadata": {},
   "outputs": [],
   "source": [
    "# # predicting the category of our input text: Will give out number for category\n",
    "# predicted = clf.predict(X_new_tfidf)\n",
    "\n",
    "# for doc, category in zip(docs_new, predicted):\n",
    "#     print('%r => %s' % (doc, train_data.target_names[category]))\n"
   ]
  },
  {
   "cell_type": "code",
   "execution_count": 331,
   "metadata": {},
   "outputs": [
    {
     "name": "stdout",
     "output_type": "stream",
     "text": [
      "I have a Harley Davidson and Yamaha. ==> sport\n",
      "\n",
      "I have a GTX 1050 GPU ==> sport\n",
      "\n"
     ]
    }
   ],
   "source": [
    "# predicting the category of our input text: Will give out number for category\n",
    "predicted = clf.predict(X_new_tfidf)\n",
    "\n",
    "for doc, category in zip(docs_new, predicted):\n",
    "    print(doc, \"==>\",category)\n"
   ]
  },
  {
   "cell_type": "code",
   "execution_count": 332,
   "metadata": {},
   "outputs": [],
   "source": [
    "# # We can use Pipeline to add vectorizer -> transformer -> classifier all in a one compound classifier\n",
    "# text_clf = Pipeline([\n",
    "#     ('vect', CountVectorizer()),\n",
    "#     ('tfidf', TfidfTransformer()),\n",
    "#     ('clf', knn),\n",
    "# ])\n",
    "# # Fitting our train data to the pipeline\n",
    "# text_clf.fit(train_data.data, train_data.target)\n",
    "\n",
    "# # Test data \n",
    "# test_data = fetch_20newsgroups(subset='test',\n",
    "#                                categories=categories, shuffle=True, random_state=42)\n",
    "# docs_test = test_data.data\n",
    "# # Predicting our test data\n",
    "# predicted = text_clf.predict(docs_test)\n",
    "# print('We got an accuracy of',np.mean(predicted == test_data.target)*100, '% over the test data.')\n"
   ]
  },
  {
   "cell_type": "code",
   "execution_count": 333,
   "metadata": {},
   "outputs": [
    {
     "name": "stdout",
     "output_type": "stream",
     "text": [
      "We got an accuracy of 94.32624113475178 % over the test data.\n"
     ]
    }
   ],
   "source": [
    "# We can use Pipeline to add vectorizer -> transformer -> classifier all in a one compound classifier\n",
    "text_clf = Pipeline([\n",
    "    ('vect', CountVectorizer()),\n",
    "    ('tfidf', TfidfTransformer()),\n",
    "    ('clf', knn),\n",
    "])\n",
    "# Fitting our train data to the pipeline\n",
    "text_clf.fit(X_train, y_train)\n",
    "\n",
    "# Test data \n",
    "test_data = fetch_20newsgroups(subset='test',\n",
    "                               categories=categories, shuffle=True, random_state=42)\n",
    "docs_test = X_test\n",
    "# Predicting our test data\n",
    "predicted = text_clf.predict(docs_test)\n",
    "print('We got an accuracy of',np.mean(predicted == y_test)*100, '% over the test data.')\n"
   ]
  }
 ],
 "metadata": {
  "kernelspec": {
   "display_name": "Python 3",
   "language": "python",
   "name": "python3"
  },
  "language_info": {
   "codemirror_mode": {
    "name": "ipython",
    "version": 3
   },
   "file_extension": ".py",
   "mimetype": "text/x-python",
   "name": "python",
   "nbconvert_exporter": "python",
   "pygments_lexer": "ipython3",
   "version": "3.8.3"
  }
 },
 "nbformat": 4,
 "nbformat_minor": 4
}
