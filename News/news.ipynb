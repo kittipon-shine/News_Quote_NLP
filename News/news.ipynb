{
 "cells": [
  {
   "cell_type": "markdown",
   "metadata": {},
   "source": [
    "# Assignment 2 - DS4Biz Y63\n",
    "## TextScraping_Classification\n",
    "***\n",
    "\n",
    "### Team Detail\n",
    "**Team Name**: sompinandsomshine   \n",
    "***\n",
    "### *Student 1*\n",
    "**Student ID**: 61070278   \n",
    "**Student Full Name**: นายกิตติภณ สุรุ่งเรืองสกุล\n",
    "***\n",
    "### *Student 2*\n",
    "**Student ID**: 61070330   \n",
    "**Student Full Name**: นางสาวอิงฟ้า ภูติวรนาถ\n",
    "***"
   ]
  },
  {
   "cell_type": "markdown",
   "metadata": {},
   "source": [
    "link: http://www.it.kmitl.ac.th/~teerapong/news_archive/index.html"
   ]
  },
  {
   "cell_type": "markdown",
   "metadata": {},
   "source": [
    "# Data Collection"
   ]
  },
  {
   "cell_type": "code",
   "execution_count": 389,
   "metadata": {},
   "outputs": [],
   "source": [
    "import requests\n",
    "import bs4\n",
    "\n",
    "import pandas as pd\n",
    "import numpy as np\n",
    "\n",
    "import warnings\n",
    "warnings.filterwarnings('ignore')"
   ]
  },
  {
   "cell_type": "code",
   "execution_count": 107,
   "metadata": {
    "scrolled": true
   },
   "outputs": [
    {
     "name": "stdout",
     "output_type": "stream",
     "text": [
      "<Response [200]>\n",
      "<class 'requests.models.Response'>\n"
     ]
    }
   ],
   "source": [
    "response = requests.get('http://www.it.kmitl.ac.th/~teerapong/news_archive/index.html')\n",
    "print(response)\n",
    "print(type(response))"
   ]
  },
  {
   "cell_type": "code",
   "execution_count": 108,
   "metadata": {},
   "outputs": [
    {
     "name": "stdout",
     "output_type": "stream",
     "text": [
      "<!DOCTYPE html>\n",
      "\n",
      "<html lang=\"en\">\n",
      "<head>\n",
      "<title>Online News Archive</title>\n",
      "<meta charset=\"utf-8\"/>\n",
      "<meta content=\"width=device-width, initial-scale=1\" name=\"viewport\"/>\n",
      "<meta content=\"noindex\" name=\"robots\"/>\n",
      "<meta content=\"news,articles,news\" name=\"keywords\">\n",
      "<meta content=\"Breaking News | International Headlines\" property=\"og:title\"/>\n",
      "<meta content=\"News Archive\" property=\"og:site_name\"/>\n",
      "<meta content=\"Latest news and more from the definitive brand of quality news.\" property=\"og:description\"/>\n",
      "<link href=\"css/bootstrap.min.css\" rel=\"stylesheet\"/>\n",
      "<script src=\"js/jquery-3.2.1.slim.min.js\"></script>\n",
      "<script src=\"js/popper.min.js\"></script>\n",
      "<script src=\"js/tether.min.js\"></script>\n",
      "<script src=\"js/jquery-3.2.1.slim.min.js\"></script>\n",
      "<script src=\"js/popper.min.js\"></script>\n",
      "<script src=\"js/tether.min.js\"></script>\n",
      "<script src=\"js/bootstrap.min.js\"></script>\n",
      "<style>\n",
      "\t  \t\t.main{ padding: 0; text-align: center;}\n",
      "\t  \t\t.footer{ padding: 6px;text-align: center; margin-top: 1em; }\n",
      "\n",
      "\t  \t\th1\n",
      "\t  \t\t{\n",
      "\t  \t\t\tfont-size: 180%;\n",
      "\t  \t\t\tmargin-top: 15px;\n",
      "\t  \t\t\tmargin-bottom: 15px;\n",
      "\t  \t\t}\n",
      "\t  \t\tul {list-style-type: none;}\n",
      "\t  \t\tli { margin-top: 5px; }\n",
      "\t  </style>\n",
      "</meta></head>\n",
      "<body>\n",
      "<div class=\"container\" style=\"margin-top: 2em;\">\n",
      "<div class=\"main\">\n",
      "<img alt=\"banner\" src=\"images/banner.jpg\" width=\"500\"/>\n",
      "<h1>News Article Archive</h1>\n",
      "<p>Archive of all news headlines and stories, organised per month.</p>\n",
      "<ul>\n",
      "<li>Articles — <a href=\"month-jan-2017.html\">January</a> [118]</li>\n",
      "<li>Articles — <a href=\"month-feb-2017.html\">February</a> [124]</li>\n",
      "<li>Articles — <a href=\"month-mar-2017.html\">March</a> [116]</li>\n",
      "<li>Articles — <a href=\"month-apr-2017.html\">April</a> [118]</li>\n",
      "<li>Articles — <a href=\"month-may-2017.html\">May</a> [115]</li>\n",
      "<li>Articles — <a href=\"month-jun-2017.html\">June</a> [115]</li>\n",
      "<li>Articles — <a href=\"month-jul-2017.html\">July</a> [122]</li>\n",
      "<li>Articles — <a href=\"month-aug-2017.html\">August</a> [116]</li>\n",
      "<li>Articles — <a href=\"month-sep-2017.html\">September</a> [113]</li>\n",
      "<li>Articles — <a href=\"month-oct-2017.html\">October</a> [124]</li>\n",
      "<li>Articles — <a href=\"month-nov-2017.html\">November</a> [122]</li>\n",
      "<li>Articles — <a href=\"month-dec-2017.html\">December</a> [115]</li>\n",
      "</ul>\n",
      "</div>\n",
      "<div class=\"footer\">\n",
      "<span><a href=\"#\">Terms &amp; Conditions</a> | <a href=\"#\">Privacy Policy</a> | <a href=\"#\">Cookie Information</a> </span><br/>\n",
      "<span>© <span class=\"thisyear\">2019-2020</span> — Original rights holders</span>\n",
      "</div>\n",
      "</div>\n",
      "</body>\n",
      "</html>\n",
      "\n"
     ]
    }
   ],
   "source": [
    "html_page = bs4.BeautifulSoup(response.content, 'html.parser')\n",
    "print(html_page)"
   ]
  },
  {
   "cell_type": "code",
   "execution_count": 109,
   "metadata": {},
   "outputs": [
    {
     "data": {
      "text/plain": [
       "[<a href=\"month-jan-2017.html\">January</a>,\n",
       " <a href=\"month-feb-2017.html\">February</a>,\n",
       " <a href=\"month-mar-2017.html\">March</a>,\n",
       " <a href=\"month-apr-2017.html\">April</a>,\n",
       " <a href=\"month-may-2017.html\">May</a>,\n",
       " <a href=\"month-jun-2017.html\">June</a>,\n",
       " <a href=\"month-jul-2017.html\">July</a>,\n",
       " <a href=\"month-aug-2017.html\">August</a>,\n",
       " <a href=\"month-sep-2017.html\">September</a>,\n",
       " <a href=\"month-oct-2017.html\">October</a>,\n",
       " <a href=\"month-nov-2017.html\">November</a>,\n",
       " <a href=\"month-dec-2017.html\">December</a>]"
      ]
     },
     "execution_count": 109,
     "metadata": {},
     "output_type": "execute_result"
    }
   ],
   "source": [
    "# nested elements\n",
    "selector = 'body > div > div.main > ul > li> a'\n",
    "tags = html_page.select(selector)\n",
    "tags"
   ]
  },
  {
   "cell_type": "code",
   "execution_count": 110,
   "metadata": {},
   "outputs": [
    {
     "data": {
      "text/plain": [
       "['http://www.it.kmitl.ac.th/~teerapong/news_archive/month-jan-2017.html',\n",
       " 'http://www.it.kmitl.ac.th/~teerapong/news_archive/month-feb-2017.html',\n",
       " 'http://www.it.kmitl.ac.th/~teerapong/news_archive/month-mar-2017.html',\n",
       " 'http://www.it.kmitl.ac.th/~teerapong/news_archive/month-apr-2017.html',\n",
       " 'http://www.it.kmitl.ac.th/~teerapong/news_archive/month-may-2017.html',\n",
       " 'http://www.it.kmitl.ac.th/~teerapong/news_archive/month-jun-2017.html',\n",
       " 'http://www.it.kmitl.ac.th/~teerapong/news_archive/month-jul-2017.html',\n",
       " 'http://www.it.kmitl.ac.th/~teerapong/news_archive/month-aug-2017.html',\n",
       " 'http://www.it.kmitl.ac.th/~teerapong/news_archive/month-sep-2017.html',\n",
       " 'http://www.it.kmitl.ac.th/~teerapong/news_archive/month-oct-2017.html',\n",
       " 'http://www.it.kmitl.ac.th/~teerapong/news_archive/month-nov-2017.html',\n",
       " 'http://www.it.kmitl.ac.th/~teerapong/news_archive/month-dec-2017.html']"
      ]
     },
     "execution_count": 110,
     "metadata": {},
     "output_type": "execute_result"
    }
   ],
   "source": [
    "list_archive = []\n",
    "for tag in tags:\n",
    "    list_archive.append('http://www.it.kmitl.ac.th/~teerapong/news_archive/' + tag['href'])\n",
    "list_archive"
   ]
  },
  {
   "cell_type": "markdown",
   "metadata": {},
   "source": [
    "### Create DataFrame"
   ]
  },
  {
   "cell_type": "code",
   "execution_count": 111,
   "metadata": {},
   "outputs": [
    {
     "data": {
      "text/html": [
       "<div>\n",
       "<style scoped>\n",
       "    .dataframe tbody tr th:only-of-type {\n",
       "        vertical-align: middle;\n",
       "    }\n",
       "\n",
       "    .dataframe tbody tr th {\n",
       "        vertical-align: top;\n",
       "    }\n",
       "\n",
       "    .dataframe thead th {\n",
       "        text-align: right;\n",
       "    }\n",
       "</style>\n",
       "<table border=\"1\" class=\"dataframe\">\n",
       "  <thead>\n",
       "    <tr style=\"text-align: right;\">\n",
       "      <th></th>\n",
       "      <th>category</th>\n",
       "      <th>title</th>\n",
       "      <th>link</th>\n",
       "    </tr>\n",
       "  </thead>\n",
       "  <tbody>\n",
       "  </tbody>\n",
       "</table>\n",
       "</div>"
      ],
      "text/plain": [
       "Empty DataFrame\n",
       "Columns: [category, title, link]\n",
       "Index: []"
      ]
     },
     "execution_count": 111,
     "metadata": {},
     "output_type": "execute_result"
    }
   ],
   "source": [
    "df = pd.DataFrame(columns=['category', 'title', 'link'])\n",
    "df"
   ]
  },
  {
   "cell_type": "markdown",
   "metadata": {},
   "source": [
    "### Create function"
   ]
  },
  {
   "cell_type": "code",
   "execution_count": 112,
   "metadata": {},
   "outputs": [],
   "source": [
    "def extract_category(html_page):\n",
    "    selector = 'body > div > div.main > table > tbody > tr> td.category'\n",
    "    tags = html_page.select(selector)\n",
    "    category = []\n",
    "\n",
    "    for tag in tags:\n",
    "        if tag.text.strip() != 'N/A':\n",
    "#             print(tag.text.strip())\n",
    "            category.append(tag.text.strip())\n",
    "\n",
    "    return category"
   ]
  },
  {
   "cell_type": "code",
   "execution_count": 113,
   "metadata": {},
   "outputs": [],
   "source": [
    "def extract_title(html_page):\n",
    "    selector = 'body > div > div.main > table > tbody > tr > td.title > a'\n",
    "    tags = html_page.select(selector)\n",
    "    title = []\n",
    "    \n",
    "    for tag in tags:\n",
    "        title.append(tag.text.strip())\n",
    "        \n",
    "    return title"
   ]
  },
  {
   "cell_type": "code",
   "execution_count": 114,
   "metadata": {},
   "outputs": [],
   "source": [
    "def extract_link_title(html_page):\n",
    "    selector = 'body > div > div.main > table > tbody > tr > td.title > a'\n",
    "    tags = html_page.select(selector)\n",
    "    link_title = []\n",
    "    \n",
    "    for tag in tags:    \n",
    "        link_title.append('http://www.it.kmitl.ac.th/~teerapong/news_archive/' + tag['href'])\n",
    "        \n",
    "    return link_title"
   ]
  },
  {
   "cell_type": "code",
   "execution_count": 115,
   "metadata": {},
   "outputs": [],
   "source": [
    "def extract_month(html_page):\n",
    "    selector = 'body > div > div.main > h1'\n",
    "    tag = html_page.select_one(selector)\n",
    "    month = tag.text.split()[-1]\n",
    "    return month"
   ]
  },
  {
   "cell_type": "code",
   "execution_count": 116,
   "metadata": {},
   "outputs": [],
   "source": [
    "url = 'http://www.it.kmitl.ac.th/~teerapong/news_archive/month-jan-2017.html'\n",
    "response = requests.get(url)\n",
    "html_page = bs4.BeautifulSoup(response.content, 'html.parser')\n",
    "# extract_category(html_page)\n",
    "# extract_title(html_page)\n",
    "# extract_link_title(html_page)\n",
    "# extract_month(html_page)"
   ]
  },
  {
   "cell_type": "code",
   "execution_count": 117,
   "metadata": {},
   "outputs": [],
   "source": [
    "def extract_news_archive_info(url):\n",
    "    response = requests.get(url)\n",
    "    html_page = bs4.BeautifulSoup(response.content, 'html.parser')\n",
    "    \n",
    "    category = extract_category(html_page)\n",
    "    title = extract_title(html_page)\n",
    "    link_title = extract_link_title(html_page)\n",
    "    month = extract_month(html_page)\n",
    "    \n",
    "#     news_archive_dict = {\n",
    "#         'Article Category': category,\n",
    "#         'Article Title': title,\n",
    "#         'Article link': link_title\n",
    "#     }\n",
    "\n",
    "    news_archive_list = [category,\n",
    "            title,\n",
    "            link_title\n",
    "                        ]\n",
    "    \n",
    "#     return news_archive_list\n",
    "    category = pd.Series(news_archive_list[0])\n",
    "    title = pd.Series(news_archive_list[1])\n",
    "    link_title = pd.Series(news_archive_list[2])\n",
    "    month_series = pd.Series([month]*len(category))\n",
    "    \n",
    "    result = pd.concat([category, title, link_title, month_series], axis=1)\n",
    "    result = result.rename(columns={0: \"category\", 1: \"title\", 2: \"link\", 3:'month'})\n",
    "    return result"
   ]
  },
  {
   "cell_type": "markdown",
   "metadata": {},
   "source": [
    "### เอา url ไปเข้า Function"
   ]
  },
  {
   "cell_type": "code",
   "execution_count": 118,
   "metadata": {},
   "outputs": [
    {
     "data": {
      "text/plain": [
       "['http://www.it.kmitl.ac.th/~teerapong/news_archive/month-jan-2017.html',\n",
       " 'http://www.it.kmitl.ac.th/~teerapong/news_archive/month-feb-2017.html',\n",
       " 'http://www.it.kmitl.ac.th/~teerapong/news_archive/month-mar-2017.html',\n",
       " 'http://www.it.kmitl.ac.th/~teerapong/news_archive/month-apr-2017.html',\n",
       " 'http://www.it.kmitl.ac.th/~teerapong/news_archive/month-may-2017.html',\n",
       " 'http://www.it.kmitl.ac.th/~teerapong/news_archive/month-jun-2017.html',\n",
       " 'http://www.it.kmitl.ac.th/~teerapong/news_archive/month-jul-2017.html',\n",
       " 'http://www.it.kmitl.ac.th/~teerapong/news_archive/month-aug-2017.html',\n",
       " 'http://www.it.kmitl.ac.th/~teerapong/news_archive/month-sep-2017.html',\n",
       " 'http://www.it.kmitl.ac.th/~teerapong/news_archive/month-oct-2017.html',\n",
       " 'http://www.it.kmitl.ac.th/~teerapong/news_archive/month-nov-2017.html',\n",
       " 'http://www.it.kmitl.ac.th/~teerapong/news_archive/month-dec-2017.html']"
      ]
     },
     "execution_count": 118,
     "metadata": {},
     "output_type": "execute_result"
    }
   ],
   "source": [
    "list_archive"
   ]
  },
  {
   "cell_type": "code",
   "execution_count": 119,
   "metadata": {},
   "outputs": [],
   "source": [
    "for url in list_archive:\n",
    "    result = extract_news_archive_info(url)\n",
    "    df = df.append(result, ignore_index=True)"
   ]
  },
  {
   "cell_type": "code",
   "execution_count": 120,
   "metadata": {},
   "outputs": [
    {
     "data": {
      "text/plain": [
       "category    0\n",
       "title       0\n",
       "link        0\n",
       "month       0\n",
       "dtype: int64"
      ]
     },
     "execution_count": 120,
     "metadata": {},
     "output_type": "execute_result"
    }
   ],
   "source": [
    "df.isna().sum()"
   ]
  },
  {
   "cell_type": "code",
   "execution_count": 121,
   "metadata": {},
   "outputs": [
    {
     "data": {
      "text/html": [
       "<div>\n",
       "<style scoped>\n",
       "    .dataframe tbody tr th:only-of-type {\n",
       "        vertical-align: middle;\n",
       "    }\n",
       "\n",
       "    .dataframe tbody tr th {\n",
       "        vertical-align: top;\n",
       "    }\n",
       "\n",
       "    .dataframe thead th {\n",
       "        text-align: right;\n",
       "    }\n",
       "</style>\n",
       "<table border=\"1\" class=\"dataframe\">\n",
       "  <thead>\n",
       "    <tr style=\"text-align: right;\">\n",
       "      <th></th>\n",
       "      <th>category</th>\n",
       "      <th>title</th>\n",
       "      <th>link</th>\n",
       "      <th>month</th>\n",
       "    </tr>\n",
       "  </thead>\n",
       "  <tbody>\n",
       "    <tr>\n",
       "      <th>0</th>\n",
       "      <td>technology</td>\n",
       "      <td>21st-Century Sports: How Digital Technology Is...</td>\n",
       "      <td>http://www.it.kmitl.ac.th/~teerapong/news_arch...</td>\n",
       "      <td>January</td>\n",
       "    </tr>\n",
       "    <tr>\n",
       "      <th>1</th>\n",
       "      <td>business</td>\n",
       "      <td>Asian quake hits European shares</td>\n",
       "      <td>http://www.it.kmitl.ac.th/~teerapong/news_arch...</td>\n",
       "      <td>January</td>\n",
       "    </tr>\n",
       "    <tr>\n",
       "      <th>2</th>\n",
       "      <td>technology</td>\n",
       "      <td>BT offers free net phone calls</td>\n",
       "      <td>http://www.it.kmitl.ac.th/~teerapong/news_arch...</td>\n",
       "      <td>January</td>\n",
       "    </tr>\n",
       "    <tr>\n",
       "      <th>3</th>\n",
       "      <td>business</td>\n",
       "      <td>Barclays shares up on merger talk</td>\n",
       "      <td>http://www.it.kmitl.ac.th/~teerapong/news_arch...</td>\n",
       "      <td>January</td>\n",
       "    </tr>\n",
       "    <tr>\n",
       "      <th>4</th>\n",
       "      <td>sport</td>\n",
       "      <td>Barkley fit for match in Ireland</td>\n",
       "      <td>http://www.it.kmitl.ac.th/~teerapong/news_arch...</td>\n",
       "      <td>January</td>\n",
       "    </tr>\n",
       "    <tr>\n",
       "      <th>...</th>\n",
       "      <td>...</td>\n",
       "      <td>...</td>\n",
       "      <td>...</td>\n",
       "      <td>...</td>\n",
       "    </tr>\n",
       "    <tr>\n",
       "      <th>1403</th>\n",
       "      <td>sport</td>\n",
       "      <td>Woodward eyes Brennan for Lions</td>\n",
       "      <td>http://www.it.kmitl.ac.th/~teerapong/news_arch...</td>\n",
       "      <td>December</td>\n",
       "    </tr>\n",
       "    <tr>\n",
       "      <th>1404</th>\n",
       "      <td>business</td>\n",
       "      <td>WorldCom trial starts in New York</td>\n",
       "      <td>http://www.it.kmitl.ac.th/~teerapong/news_arch...</td>\n",
       "      <td>December</td>\n",
       "    </tr>\n",
       "    <tr>\n",
       "      <th>1405</th>\n",
       "      <td>business</td>\n",
       "      <td>Yukos accused of lying to court</td>\n",
       "      <td>http://www.it.kmitl.ac.th/~teerapong/news_arch...</td>\n",
       "      <td>December</td>\n",
       "    </tr>\n",
       "    <tr>\n",
       "      <th>1406</th>\n",
       "      <td>business</td>\n",
       "      <td>Yukos drops banks from court bid</td>\n",
       "      <td>http://www.it.kmitl.ac.th/~teerapong/news_arch...</td>\n",
       "      <td>December</td>\n",
       "    </tr>\n",
       "    <tr>\n",
       "      <th>1407</th>\n",
       "      <td>sport</td>\n",
       "      <td>Zambia confident and cautious</td>\n",
       "      <td>http://www.it.kmitl.ac.th/~teerapong/news_arch...</td>\n",
       "      <td>December</td>\n",
       "    </tr>\n",
       "  </tbody>\n",
       "</table>\n",
       "<p>1408 rows × 4 columns</p>\n",
       "</div>"
      ],
      "text/plain": [
       "        category                                              title  \\\n",
       "0     technology  21st-Century Sports: How Digital Technology Is...   \n",
       "1       business                   Asian quake hits European shares   \n",
       "2     technology                     BT offers free net phone calls   \n",
       "3       business                  Barclays shares up on merger talk   \n",
       "4          sport                   Barkley fit for match in Ireland   \n",
       "...          ...                                                ...   \n",
       "1403       sport                    Woodward eyes Brennan for Lions   \n",
       "1404    business                  WorldCom trial starts in New York   \n",
       "1405    business                    Yukos accused of lying to court   \n",
       "1406    business                   Yukos drops banks from court bid   \n",
       "1407       sport                      Zambia confident and cautious   \n",
       "\n",
       "                                                   link     month  \n",
       "0     http://www.it.kmitl.ac.th/~teerapong/news_arch...   January  \n",
       "1     http://www.it.kmitl.ac.th/~teerapong/news_arch...   January  \n",
       "2     http://www.it.kmitl.ac.th/~teerapong/news_arch...   January  \n",
       "3     http://www.it.kmitl.ac.th/~teerapong/news_arch...   January  \n",
       "4     http://www.it.kmitl.ac.th/~teerapong/news_arch...   January  \n",
       "...                                                 ...       ...  \n",
       "1403  http://www.it.kmitl.ac.th/~teerapong/news_arch...  December  \n",
       "1404  http://www.it.kmitl.ac.th/~teerapong/news_arch...  December  \n",
       "1405  http://www.it.kmitl.ac.th/~teerapong/news_arch...  December  \n",
       "1406  http://www.it.kmitl.ac.th/~teerapong/news_arch...  December  \n",
       "1407  http://www.it.kmitl.ac.th/~teerapong/news_arch...  December  \n",
       "\n",
       "[1408 rows x 4 columns]"
      ]
     },
     "execution_count": 121,
     "metadata": {},
     "output_type": "execute_result"
    }
   ],
   "source": [
    "df"
   ]
  },
  {
   "cell_type": "code",
   "execution_count": 122,
   "metadata": {},
   "outputs": [],
   "source": [
    "# df['link'].iloc[0][50:-5]"
   ]
  },
  {
   "cell_type": "markdown",
   "metadata": {},
   "source": [
    "### Add id coloumn"
   ]
  },
  {
   "cell_type": "code",
   "execution_count": 123,
   "metadata": {},
   "outputs": [
    {
     "data": {
      "text/html": [
       "<div>\n",
       "<style scoped>\n",
       "    .dataframe tbody tr th:only-of-type {\n",
       "        vertical-align: middle;\n",
       "    }\n",
       "\n",
       "    .dataframe tbody tr th {\n",
       "        vertical-align: top;\n",
       "    }\n",
       "\n",
       "    .dataframe thead th {\n",
       "        text-align: right;\n",
       "    }\n",
       "</style>\n",
       "<table border=\"1\" class=\"dataframe\">\n",
       "  <thead>\n",
       "    <tr style=\"text-align: right;\">\n",
       "      <th></th>\n",
       "      <th>category</th>\n",
       "      <th>title</th>\n",
       "      <th>link</th>\n",
       "      <th>month</th>\n",
       "      <th>id</th>\n",
       "    </tr>\n",
       "  </thead>\n",
       "  <tbody>\n",
       "    <tr>\n",
       "      <th>0</th>\n",
       "      <td>technology</td>\n",
       "      <td>21st-Century Sports: How Digital Technology Is...</td>\n",
       "      <td>http://www.it.kmitl.ac.th/~teerapong/news_arch...</td>\n",
       "      <td>January</td>\n",
       "      <td>article-jan-0418</td>\n",
       "    </tr>\n",
       "    <tr>\n",
       "      <th>1</th>\n",
       "      <td>business</td>\n",
       "      <td>Asian quake hits European shares</td>\n",
       "      <td>http://www.it.kmitl.ac.th/~teerapong/news_arch...</td>\n",
       "      <td>January</td>\n",
       "      <td>article-jan-0027</td>\n",
       "    </tr>\n",
       "    <tr>\n",
       "      <th>2</th>\n",
       "      <td>technology</td>\n",
       "      <td>BT offers free net phone calls</td>\n",
       "      <td>http://www.it.kmitl.ac.th/~teerapong/news_arch...</td>\n",
       "      <td>January</td>\n",
       "      <td>article-jan-0631</td>\n",
       "    </tr>\n",
       "    <tr>\n",
       "      <th>3</th>\n",
       "      <td>business</td>\n",
       "      <td>Barclays shares up on merger talk</td>\n",
       "      <td>http://www.it.kmitl.ac.th/~teerapong/news_arch...</td>\n",
       "      <td>January</td>\n",
       "      <td>article-jan-2105</td>\n",
       "    </tr>\n",
       "    <tr>\n",
       "      <th>4</th>\n",
       "      <td>sport</td>\n",
       "      <td>Barkley fit for match in Ireland</td>\n",
       "      <td>http://www.it.kmitl.ac.th/~teerapong/news_arch...</td>\n",
       "      <td>January</td>\n",
       "      <td>article-jan-3300</td>\n",
       "    </tr>\n",
       "    <tr>\n",
       "      <th>...</th>\n",
       "      <td>...</td>\n",
       "      <td>...</td>\n",
       "      <td>...</td>\n",
       "      <td>...</td>\n",
       "      <td>...</td>\n",
       "    </tr>\n",
       "    <tr>\n",
       "      <th>1403</th>\n",
       "      <td>sport</td>\n",
       "      <td>Woodward eyes Brennan for Lions</td>\n",
       "      <td>http://www.it.kmitl.ac.th/~teerapong/news_arch...</td>\n",
       "      <td>December</td>\n",
       "      <td>article-dec-2238</td>\n",
       "    </tr>\n",
       "    <tr>\n",
       "      <th>1404</th>\n",
       "      <td>business</td>\n",
       "      <td>WorldCom trial starts in New York</td>\n",
       "      <td>http://www.it.kmitl.ac.th/~teerapong/news_arch...</td>\n",
       "      <td>December</td>\n",
       "      <td>article-dec-2334</td>\n",
       "    </tr>\n",
       "    <tr>\n",
       "      <th>1405</th>\n",
       "      <td>business</td>\n",
       "      <td>Yukos accused of lying to court</td>\n",
       "      <td>http://www.it.kmitl.ac.th/~teerapong/news_arch...</td>\n",
       "      <td>December</td>\n",
       "      <td>article-dec-2095</td>\n",
       "    </tr>\n",
       "    <tr>\n",
       "      <th>1406</th>\n",
       "      <td>business</td>\n",
       "      <td>Yukos drops banks from court bid</td>\n",
       "      <td>http://www.it.kmitl.ac.th/~teerapong/news_arch...</td>\n",
       "      <td>December</td>\n",
       "      <td>article-dec-1351</td>\n",
       "    </tr>\n",
       "    <tr>\n",
       "      <th>1407</th>\n",
       "      <td>sport</td>\n",
       "      <td>Zambia confident and cautious</td>\n",
       "      <td>http://www.it.kmitl.ac.th/~teerapong/news_arch...</td>\n",
       "      <td>December</td>\n",
       "      <td>article-dec-0068</td>\n",
       "    </tr>\n",
       "  </tbody>\n",
       "</table>\n",
       "<p>1408 rows × 5 columns</p>\n",
       "</div>"
      ],
      "text/plain": [
       "        category                                              title  \\\n",
       "0     technology  21st-Century Sports: How Digital Technology Is...   \n",
       "1       business                   Asian quake hits European shares   \n",
       "2     technology                     BT offers free net phone calls   \n",
       "3       business                  Barclays shares up on merger talk   \n",
       "4          sport                   Barkley fit for match in Ireland   \n",
       "...          ...                                                ...   \n",
       "1403       sport                    Woodward eyes Brennan for Lions   \n",
       "1404    business                  WorldCom trial starts in New York   \n",
       "1405    business                    Yukos accused of lying to court   \n",
       "1406    business                   Yukos drops banks from court bid   \n",
       "1407       sport                      Zambia confident and cautious   \n",
       "\n",
       "                                                   link     month  \\\n",
       "0     http://www.it.kmitl.ac.th/~teerapong/news_arch...   January   \n",
       "1     http://www.it.kmitl.ac.th/~teerapong/news_arch...   January   \n",
       "2     http://www.it.kmitl.ac.th/~teerapong/news_arch...   January   \n",
       "3     http://www.it.kmitl.ac.th/~teerapong/news_arch...   January   \n",
       "4     http://www.it.kmitl.ac.th/~teerapong/news_arch...   January   \n",
       "...                                                 ...       ...   \n",
       "1403  http://www.it.kmitl.ac.th/~teerapong/news_arch...  December   \n",
       "1404  http://www.it.kmitl.ac.th/~teerapong/news_arch...  December   \n",
       "1405  http://www.it.kmitl.ac.th/~teerapong/news_arch...  December   \n",
       "1406  http://www.it.kmitl.ac.th/~teerapong/news_arch...  December   \n",
       "1407  http://www.it.kmitl.ac.th/~teerapong/news_arch...  December   \n",
       "\n",
       "                    id  \n",
       "0     article-jan-0418  \n",
       "1     article-jan-0027  \n",
       "2     article-jan-0631  \n",
       "3     article-jan-2105  \n",
       "4     article-jan-3300  \n",
       "...                ...  \n",
       "1403  article-dec-2238  \n",
       "1404  article-dec-2334  \n",
       "1405  article-dec-2095  \n",
       "1406  article-dec-1351  \n",
       "1407  article-dec-0068  \n",
       "\n",
       "[1408 rows x 5 columns]"
      ]
     },
     "execution_count": 123,
     "metadata": {},
     "output_type": "execute_result"
    }
   ],
   "source": [
    "df['id'] = df['link'].str[50:-5]\n",
    "df"
   ]
  },
  {
   "cell_type": "markdown",
   "metadata": {},
   "source": [
    "### Get Content"
   ]
  },
  {
   "cell_type": "code",
   "execution_count": 124,
   "metadata": {},
   "outputs": [],
   "source": [
    "list_content = []"
   ]
  },
  {
   "cell_type": "code",
   "execution_count": 125,
   "metadata": {},
   "outputs": [],
   "source": [
    "def get_content(url):\n",
    "    response = requests.get(url)\n",
    "\n",
    "    html_page = bs4.BeautifulSoup(response.content, 'html.parser')\n",
    "\n",
    "    selector = 'body > div > div.main > p'\n",
    "    tags = html_page.select(selector)\n",
    "\n",
    "    content = ''\n",
    "    for tag in tags:\n",
    "        if tag.text.strip() != '':\n",
    "            if '.html' in str(tag):\n",
    "                pass\n",
    "            else:\n",
    "                content += tag.text.strip() + ' '\n",
    "                \n",
    "    list_content.append(content.strip())\n"
   ]
  },
  {
   "cell_type": "code",
   "execution_count": 126,
   "metadata": {},
   "outputs": [],
   "source": [
    "for i in range(len(df)):\n",
    "    get_content(df['link'].iloc[i])"
   ]
  },
  {
   "cell_type": "code",
   "execution_count": 127,
   "metadata": {},
   "outputs": [
    {
     "data": {
      "text/html": [
       "<div>\n",
       "<style scoped>\n",
       "    .dataframe tbody tr th:only-of-type {\n",
       "        vertical-align: middle;\n",
       "    }\n",
       "\n",
       "    .dataframe tbody tr th {\n",
       "        vertical-align: top;\n",
       "    }\n",
       "\n",
       "    .dataframe thead th {\n",
       "        text-align: right;\n",
       "    }\n",
       "</style>\n",
       "<table border=\"1\" class=\"dataframe\">\n",
       "  <thead>\n",
       "    <tr style=\"text-align: right;\">\n",
       "      <th></th>\n",
       "      <th>category</th>\n",
       "      <th>title</th>\n",
       "      <th>link</th>\n",
       "      <th>month</th>\n",
       "      <th>id</th>\n",
       "      <th>content</th>\n",
       "    </tr>\n",
       "  </thead>\n",
       "  <tbody>\n",
       "    <tr>\n",
       "      <th>0</th>\n",
       "      <td>technology</td>\n",
       "      <td>21st-Century Sports: How Digital Technology Is...</td>\n",
       "      <td>http://www.it.kmitl.ac.th/~teerapong/news_arch...</td>\n",
       "      <td>January</td>\n",
       "      <td>article-jan-0418</td>\n",
       "      <td>The sporting industry has come a long way sinc...</td>\n",
       "    </tr>\n",
       "    <tr>\n",
       "      <th>1</th>\n",
       "      <td>business</td>\n",
       "      <td>Asian quake hits European shares</td>\n",
       "      <td>http://www.it.kmitl.ac.th/~teerapong/news_arch...</td>\n",
       "      <td>January</td>\n",
       "      <td>article-jan-0027</td>\n",
       "      <td>Asian quake hits European shares Shares in Eur...</td>\n",
       "    </tr>\n",
       "    <tr>\n",
       "      <th>2</th>\n",
       "      <td>technology</td>\n",
       "      <td>BT offers free net phone calls</td>\n",
       "      <td>http://www.it.kmitl.ac.th/~teerapong/news_arch...</td>\n",
       "      <td>January</td>\n",
       "      <td>article-jan-0631</td>\n",
       "      <td>BT is offering customers free internet telepho...</td>\n",
       "    </tr>\n",
       "    <tr>\n",
       "      <th>3</th>\n",
       "      <td>business</td>\n",
       "      <td>Barclays shares up on merger talk</td>\n",
       "      <td>http://www.it.kmitl.ac.th/~teerapong/news_arch...</td>\n",
       "      <td>January</td>\n",
       "      <td>article-jan-2105</td>\n",
       "      <td>Barclays shares up on merger talk Shares in UK...</td>\n",
       "    </tr>\n",
       "    <tr>\n",
       "      <th>4</th>\n",
       "      <td>sport</td>\n",
       "      <td>Barkley fit for match in Ireland</td>\n",
       "      <td>http://www.it.kmitl.ac.th/~teerapong/news_arch...</td>\n",
       "      <td>January</td>\n",
       "      <td>article-jan-3300</td>\n",
       "      <td>England centre Olly Barkley has been passed fi...</td>\n",
       "    </tr>\n",
       "    <tr>\n",
       "      <th>...</th>\n",
       "      <td>...</td>\n",
       "      <td>...</td>\n",
       "      <td>...</td>\n",
       "      <td>...</td>\n",
       "      <td>...</td>\n",
       "      <td>...</td>\n",
       "    </tr>\n",
       "    <tr>\n",
       "      <th>1403</th>\n",
       "      <td>sport</td>\n",
       "      <td>Woodward eyes Brennan for Lions</td>\n",
       "      <td>http://www.it.kmitl.ac.th/~teerapong/news_arch...</td>\n",
       "      <td>December</td>\n",
       "      <td>article-dec-2238</td>\n",
       "      <td>Woodward eyes Brennan for Lions Toulouse's for...</td>\n",
       "    </tr>\n",
       "    <tr>\n",
       "      <th>1404</th>\n",
       "      <td>business</td>\n",
       "      <td>WorldCom trial starts in New York</td>\n",
       "      <td>http://www.it.kmitl.ac.th/~teerapong/news_arch...</td>\n",
       "      <td>December</td>\n",
       "      <td>article-dec-2334</td>\n",
       "      <td>The trial of Bernie Ebbers, former chief execu...</td>\n",
       "    </tr>\n",
       "    <tr>\n",
       "      <th>1405</th>\n",
       "      <td>business</td>\n",
       "      <td>Yukos accused of lying to court</td>\n",
       "      <td>http://www.it.kmitl.ac.th/~teerapong/news_arch...</td>\n",
       "      <td>December</td>\n",
       "      <td>article-dec-2095</td>\n",
       "      <td>Yukos accused of lying to court Russian oil fi...</td>\n",
       "    </tr>\n",
       "    <tr>\n",
       "      <th>1406</th>\n",
       "      <td>business</td>\n",
       "      <td>Yukos drops banks from court bid</td>\n",
       "      <td>http://www.it.kmitl.ac.th/~teerapong/news_arch...</td>\n",
       "      <td>December</td>\n",
       "      <td>article-dec-1351</td>\n",
       "      <td>Russian oil company Yukos has dropped the thre...</td>\n",
       "    </tr>\n",
       "    <tr>\n",
       "      <th>1407</th>\n",
       "      <td>sport</td>\n",
       "      <td>Zambia confident and cautious</td>\n",
       "      <td>http://www.it.kmitl.ac.th/~teerapong/news_arch...</td>\n",
       "      <td>December</td>\n",
       "      <td>article-dec-0068</td>\n",
       "      <td>Zambia's technical director, Kalusha Bwalya is...</td>\n",
       "    </tr>\n",
       "  </tbody>\n",
       "</table>\n",
       "<p>1408 rows × 6 columns</p>\n",
       "</div>"
      ],
      "text/plain": [
       "        category                                              title  \\\n",
       "0     technology  21st-Century Sports: How Digital Technology Is...   \n",
       "1       business                   Asian quake hits European shares   \n",
       "2     technology                     BT offers free net phone calls   \n",
       "3       business                  Barclays shares up on merger talk   \n",
       "4          sport                   Barkley fit for match in Ireland   \n",
       "...          ...                                                ...   \n",
       "1403       sport                    Woodward eyes Brennan for Lions   \n",
       "1404    business                  WorldCom trial starts in New York   \n",
       "1405    business                    Yukos accused of lying to court   \n",
       "1406    business                   Yukos drops banks from court bid   \n",
       "1407       sport                      Zambia confident and cautious   \n",
       "\n",
       "                                                   link     month  \\\n",
       "0     http://www.it.kmitl.ac.th/~teerapong/news_arch...   January   \n",
       "1     http://www.it.kmitl.ac.th/~teerapong/news_arch...   January   \n",
       "2     http://www.it.kmitl.ac.th/~teerapong/news_arch...   January   \n",
       "3     http://www.it.kmitl.ac.th/~teerapong/news_arch...   January   \n",
       "4     http://www.it.kmitl.ac.th/~teerapong/news_arch...   January   \n",
       "...                                                 ...       ...   \n",
       "1403  http://www.it.kmitl.ac.th/~teerapong/news_arch...  December   \n",
       "1404  http://www.it.kmitl.ac.th/~teerapong/news_arch...  December   \n",
       "1405  http://www.it.kmitl.ac.th/~teerapong/news_arch...  December   \n",
       "1406  http://www.it.kmitl.ac.th/~teerapong/news_arch...  December   \n",
       "1407  http://www.it.kmitl.ac.th/~teerapong/news_arch...  December   \n",
       "\n",
       "                    id                                            content  \n",
       "0     article-jan-0418  The sporting industry has come a long way sinc...  \n",
       "1     article-jan-0027  Asian quake hits European shares Shares in Eur...  \n",
       "2     article-jan-0631  BT is offering customers free internet telepho...  \n",
       "3     article-jan-2105  Barclays shares up on merger talk Shares in UK...  \n",
       "4     article-jan-3300  England centre Olly Barkley has been passed fi...  \n",
       "...                ...                                                ...  \n",
       "1403  article-dec-2238  Woodward eyes Brennan for Lions Toulouse's for...  \n",
       "1404  article-dec-2334  The trial of Bernie Ebbers, former chief execu...  \n",
       "1405  article-dec-2095  Yukos accused of lying to court Russian oil fi...  \n",
       "1406  article-dec-1351  Russian oil company Yukos has dropped the thre...  \n",
       "1407  article-dec-0068  Zambia's technical director, Kalusha Bwalya is...  \n",
       "\n",
       "[1408 rows x 6 columns]"
      ]
     },
     "execution_count": 127,
     "metadata": {},
     "output_type": "execute_result"
    }
   ],
   "source": [
    "content = pd.Series(list_content)\n",
    "df = pd.concat([df, content], axis=1)\n",
    "df = df.rename(columns={0: \"content\"})\n",
    "df"
   ]
  },
  {
   "cell_type": "markdown",
   "metadata": {},
   "source": [
    "## save DataFarame to csv/txt\n",
    "เพื่อให้ง่ายต่อการใช้ในภายหลัง"
   ]
  },
  {
   "cell_type": "code",
   "execution_count": 128,
   "metadata": {},
   "outputs": [],
   "source": [
    "# df.to_csv('data.csv', index=False)"
   ]
  },
  {
   "cell_type": "code",
   "execution_count": 129,
   "metadata": {
    "scrolled": true
   },
   "outputs": [
    {
     "data": {
      "text/html": [
       "<div>\n",
       "<style scoped>\n",
       "    .dataframe tbody tr th:only-of-type {\n",
       "        vertical-align: middle;\n",
       "    }\n",
       "\n",
       "    .dataframe tbody tr th {\n",
       "        vertical-align: top;\n",
       "    }\n",
       "\n",
       "    .dataframe thead th {\n",
       "        text-align: right;\n",
       "    }\n",
       "</style>\n",
       "<table border=\"1\" class=\"dataframe\">\n",
       "  <thead>\n",
       "    <tr style=\"text-align: right;\">\n",
       "      <th></th>\n",
       "      <th>category</th>\n",
       "      <th>title</th>\n",
       "      <th>link</th>\n",
       "      <th>month</th>\n",
       "      <th>id</th>\n",
       "      <th>content</th>\n",
       "    </tr>\n",
       "  </thead>\n",
       "  <tbody>\n",
       "    <tr>\n",
       "      <th>0</th>\n",
       "      <td>technology</td>\n",
       "      <td>21st-Century Sports: How Digital Technology Is...</td>\n",
       "      <td>http://www.it.kmitl.ac.th/~teerapong/news_arch...</td>\n",
       "      <td>January</td>\n",
       "      <td>article-jan-0418</td>\n",
       "      <td>The sporting industry has come a long way sinc...</td>\n",
       "    </tr>\n",
       "    <tr>\n",
       "      <th>1</th>\n",
       "      <td>business</td>\n",
       "      <td>Asian quake hits European shares</td>\n",
       "      <td>http://www.it.kmitl.ac.th/~teerapong/news_arch...</td>\n",
       "      <td>January</td>\n",
       "      <td>article-jan-0027</td>\n",
       "      <td>Asian quake hits European shares Shares in Eur...</td>\n",
       "    </tr>\n",
       "    <tr>\n",
       "      <th>2</th>\n",
       "      <td>technology</td>\n",
       "      <td>BT offers free net phone calls</td>\n",
       "      <td>http://www.it.kmitl.ac.th/~teerapong/news_arch...</td>\n",
       "      <td>January</td>\n",
       "      <td>article-jan-0631</td>\n",
       "      <td>BT is offering customers free internet telepho...</td>\n",
       "    </tr>\n",
       "    <tr>\n",
       "      <th>3</th>\n",
       "      <td>business</td>\n",
       "      <td>Barclays shares up on merger talk</td>\n",
       "      <td>http://www.it.kmitl.ac.th/~teerapong/news_arch...</td>\n",
       "      <td>January</td>\n",
       "      <td>article-jan-2105</td>\n",
       "      <td>Barclays shares up on merger talk Shares in UK...</td>\n",
       "    </tr>\n",
       "    <tr>\n",
       "      <th>4</th>\n",
       "      <td>sport</td>\n",
       "      <td>Barkley fit for match in Ireland</td>\n",
       "      <td>http://www.it.kmitl.ac.th/~teerapong/news_arch...</td>\n",
       "      <td>January</td>\n",
       "      <td>article-jan-3300</td>\n",
       "      <td>England centre Olly Barkley has been passed fi...</td>\n",
       "    </tr>\n",
       "  </tbody>\n",
       "</table>\n",
       "</div>"
      ],
      "text/plain": [
       "     category                                              title  \\\n",
       "0  technology  21st-Century Sports: How Digital Technology Is...   \n",
       "1    business                   Asian quake hits European shares   \n",
       "2  technology                     BT offers free net phone calls   \n",
       "3    business                  Barclays shares up on merger talk   \n",
       "4       sport                   Barkley fit for match in Ireland   \n",
       "\n",
       "                                                link    month  \\\n",
       "0  http://www.it.kmitl.ac.th/~teerapong/news_arch...  January   \n",
       "1  http://www.it.kmitl.ac.th/~teerapong/news_arch...  January   \n",
       "2  http://www.it.kmitl.ac.th/~teerapong/news_arch...  January   \n",
       "3  http://www.it.kmitl.ac.th/~teerapong/news_arch...  January   \n",
       "4  http://www.it.kmitl.ac.th/~teerapong/news_arch...  January   \n",
       "\n",
       "                 id                                            content  \n",
       "0  article-jan-0418  The sporting industry has come a long way sinc...  \n",
       "1  article-jan-0027  Asian quake hits European shares Shares in Eur...  \n",
       "2  article-jan-0631  BT is offering customers free internet telepho...  \n",
       "3  article-jan-2105  Barclays shares up on merger talk Shares in UK...  \n",
       "4  article-jan-3300  England centre Olly Barkley has been passed fi...  "
      ]
     },
     "execution_count": 129,
     "metadata": {},
     "output_type": "execute_result"
    }
   ],
   "source": [
    "df = pd.read_csv('data.csv')\n",
    "df.head()"
   ]
  },
  {
   "cell_type": "code",
   "execution_count": null,
   "metadata": {},
   "outputs": [],
   "source": []
  },
  {
   "cell_type": "markdown",
   "metadata": {},
   "source": [
    "### คัดให้เหลือเฉพาะที่ใช้ในการวิเคราะห์\n",
    "- AllArticles_OnlyContent\n",
    "- AllArticles_HeadingPlusContent"
   ]
  },
  {
   "cell_type": "markdown",
   "metadata": {},
   "source": [
    "**csv**"
   ]
  },
  {
   "cell_type": "code",
   "execution_count": 130,
   "metadata": {},
   "outputs": [],
   "source": [
    "AllArticles_OnlyHeading = df['title']\n",
    "AllArticles_OnlyHeading.to_csv('datastore/AllArticles_OnlyHeading.csv', index=False)"
   ]
  },
  {
   "cell_type": "code",
   "execution_count": 131,
   "metadata": {},
   "outputs": [],
   "source": [
    "AllArticles_OnlyContent = df['content']\n",
    "AllArticles_OnlyContent.to_csv('datastore/AllArticles_OnlyContent.csv', index=False)"
   ]
  },
  {
   "cell_type": "code",
   "execution_count": 132,
   "metadata": {},
   "outputs": [],
   "source": [
    "AllArticles_HeadingPlusContent = df[['title','content']]\n",
    "AllArticles_HeadingPlusContent.to_csv('datastore/AllArticles_HeadingPlusContent.csv', index=False)"
   ]
  },
  {
   "cell_type": "code",
   "execution_count": 133,
   "metadata": {},
   "outputs": [],
   "source": [
    "Category = df['category']\n",
    "Category.to_csv('datastore/category.csv', index=False)"
   ]
  },
  {
   "cell_type": "markdown",
   "metadata": {},
   "source": [
    "**txt**"
   ]
  },
  {
   "cell_type": "code",
   "execution_count": 134,
   "metadata": {},
   "outputs": [],
   "source": [
    "AllArticles_OnlyHeading = df['title']\n",
    "AllArticles_OnlyHeading.to_csv(r'AllArticles_OnlyHeading.txt', header=None, index=None, sep=' ', mode='a')"
   ]
  },
  {
   "cell_type": "code",
   "execution_count": 135,
   "metadata": {},
   "outputs": [],
   "source": [
    "# AllArticles_OnlyContent = df['content']\n",
    "AllArticles_OnlyContent.to_csv(r'AllArticles_OnlyContent.txt', header=None, index=None, sep=' ', mode='a')"
   ]
  },
  {
   "cell_type": "code",
   "execution_count": 136,
   "metadata": {},
   "outputs": [],
   "source": [
    "# AllArticles_HeadingPlusContent = df[['title','content']]\n",
    "AllArticles_HeadingPlusContent.to_csv(r'AllArticles_HeadingPlusContent.txt', header=None, index=None, sep=' ', mode='a')"
   ]
  },
  {
   "cell_type": "code",
   "execution_count": 137,
   "metadata": {},
   "outputs": [],
   "source": [
    "Category.to_csv(r'target/category.txt', header=None, index=None, sep=' ', mode='a')"
   ]
  },
  {
   "cell_type": "code",
   "execution_count": null,
   "metadata": {},
   "outputs": [],
   "source": []
  },
  {
   "cell_type": "markdown",
   "metadata": {},
   "source": [
    "# Preprocessing"
   ]
  },
  {
   "cell_type": "code",
   "execution_count": 138,
   "metadata": {},
   "outputs": [
    {
     "name": "stdout",
     "output_type": "stream",
     "text": [
      "Read 1408 raw text documents\n"
     ]
    }
   ],
   "source": [
    "fin = open(\"AllArticles_OnlyContent.txt\",\"r\", encoding=\"utf8\")\n",
    "raw_documents = fin.readlines()\n",
    "fin.close()\n",
    "print(\"Read %d raw text documents\" % len(raw_documents))"
   ]
  },
  {
   "cell_type": "code",
   "execution_count": 139,
   "metadata": {},
   "outputs": [
    {
     "name": "stdout",
     "output_type": "stream",
     "text": [
      "\"The sporting industry has come a long way since the ‘60s. It has carved out for itself a niche with its roots so deep that I cannot fathom the sports industry showing any sign of decline any time soon - or later. The reason can be found in this seemingly subtle difference - other industries have cu\n"
     ]
    }
   ],
   "source": [
    "doc1 = raw_documents[0].strip()\n",
    "# print a snippet\n",
    "print(doc1[0:300])"
   ]
  },
  {
   "cell_type": "code",
   "execution_count": 140,
   "metadata": {},
   "outputs": [
    {
     "name": "stdout",
     "output_type": "stream",
     "text": [
      "['the', 'sporting', 'industry', 'has', 'come', 'long', 'way', 'since', 'the', '60s', 'it', 'has', 'carved', 'out', 'for', 'itself', 'niche', 'with', 'its', 'roots', 'so', 'deep', 'that', 'cannot', 'fathom', 'the', 'sports', 'industry', 'showing', 'any', 'sign', 'of', 'decline', 'any', 'time', 'soon', 'or', 'later', 'the', 'reason', 'can', 'be', 'found', 'in', 'this', 'seemingly', 'subtle', 'difference', 'other', 'industries', 'have', 'customers', 'the', 'sporting', 'industry', 'has', 'fans', 'vivek', 'ranadivé', 'leader', 'of', 'the', 'ownership', 'group', 'of', 'the', 'nba', 'sacramento', 'kings', 'explained', 'it', 'beautifully', 'fans', 'will', 'paint', 'their', 'face', 'purple', 'fans', 'will', 'evangelize', 'every', 'other', 'ceo', 'in', 'every', 'business', 'is', 'dying', 'to', 'be', 'in', 'our', 'position', 'they', 're', 'dying', 'to', 'have', 'fans', 'while', 'fan', 'passion', 'alone', 'could', 'almost', 'certainly', 'keep', 'the', 'industry', 'going', 'leagues', 'and', 'sporting', 'franchises', 'have', 'decided', 'not', 'to', 'rest', 'on', 'their', 'laurels', 'the', 'last', 'few', 'years', 'have', 'seen', 'the', 'steady', 'introduction', 'of', 'technology', 'into', 'the', 'world', 'of', 'sports', 'amplifying', 'fans', 'appreciation', 'of', 'games', 'enhancing', 'athletes', 'public', 'profiles', 'and', 'informing', 'their', 'training', 'methods', 'even', 'influencing', 'how', 'contests', 'are', 'waged', 'also', 'digital', 'technology', 'in', 'particular', 'has', 'helped', 'to', 'create', 'an', 'alternative', 'source', 'of', 'revenue', 'besides', 'the', 'games', 'themselves', 'corporate', 'sponsorship', 'they', 'achieved', 'this', 'by', 'capitalizing', 'on', 'the', 'ardor', 'of', 'their', 'customer', 'base', 'sorry', 'fan', 'base']\n"
     ]
    }
   ],
   "source": [
    "from sklearn.feature_extraction.text import CountVectorizer\n",
    "tokenize = CountVectorizer().build_tokenizer()\n",
    "# convert to lowercase, then tokenize\n",
    "tokens1 = tokenize(doc1.lower())\n",
    "print(tokens1)"
   ]
  },
  {
   "cell_type": "code",
   "execution_count": 141,
   "metadata": {},
   "outputs": [],
   "source": [
    "#set ของ stopwords ที่มีคนรวบรวมไว้ทั้งหมด\n",
    "from sklearn.feature_extraction import text\n",
    "stopwords = text.ENGLISH_STOP_WORDS"
   ]
  },
  {
   "cell_type": "code",
   "execution_count": 142,
   "metadata": {},
   "outputs": [
    {
     "name": "stdout",
     "output_type": "stream",
     "text": [
      "['sporting', 'industry', 'come', 'long', 'way', '60s', 'carved', 'niche', 'roots', 'deep', 'fathom', 'sports', 'industry', 'showing', 'sign', 'decline', 'time', 'soon', 'later', 'reason', 'seemingly', 'subtle', 'difference', 'industries', 'customers', 'sporting', 'industry', 'fans', 'vivek', 'ranadivé', 'leader', 'ownership', 'group', 'nba', 'sacramento', 'kings', 'explained', 'beautifully', 'fans', 'paint', 'face', 'purple', 'fans', 'evangelize', 'ceo', 'business', 'dying', 'position', 'dying', 'fans', 'fan', 'passion', 'certainly', 'industry', 'going', 'leagues', 'sporting', 'franchises', 'decided', 'rest', 'laurels', 'years', 'seen', 'steady', 'introduction', 'technology', 'world', 'sports', 'amplifying', 'fans', 'appreciation', 'games', 'enhancing', 'athletes', 'public', 'profiles', 'informing', 'training', 'methods', 'influencing', 'contests', 'waged', 'digital', 'technology', 'particular', 'helped', 'create', 'alternative', 'source', 'revenue', 'games', 'corporate', 'sponsorship', 'achieved', 'capitalizing', 'ardor', 'customer', 'base', 'sorry', 'fan', 'base']\n"
     ]
    }
   ],
   "source": [
    "#ตัดคำที่เป็น stopwords ออกไป\n",
    "filtered_tokens1 = []\n",
    "for token in tokens1:\n",
    "    if not token in stopwords:\n",
    "        filtered_tokens1.append(token)\n",
    "print(filtered_tokens1)"
   ]
  },
  {
   "cell_type": "code",
   "execution_count": 143,
   "metadata": {},
   "outputs": [
    {
     "name": "stdout",
     "output_type": "stream",
     "text": [
      "Created 1408 filtered token lists\n"
     ]
    }
   ],
   "source": [
    "all_filtered_tokens = []\n",
    "for doc in raw_documents:\n",
    "    # tokenize the next document\n",
    "    tokens = tokenize(doc.lower())\n",
    "    # remove the stopwords\n",
    "    filtered_tokens = []\n",
    "    for token in tokens:\n",
    "        if not token in stopwords:\n",
    "            filtered_tokens.append(token)  \n",
    "    # add to the overall list\n",
    "    all_filtered_tokens.append( filtered_tokens )\n",
    "print(\"Created %d filtered token lists\" % len(all_filtered_tokens) )"
   ]
  },
  {
   "cell_type": "code",
   "execution_count": 144,
   "metadata": {},
   "outputs": [
    {
     "name": "stdout",
     "output_type": "stream",
     "text": [
      "Found 22543 unique terms in this corpus\n"
     ]
    }
   ],
   "source": [
    "counts = {}\n",
    "# process filtered tokens for each document\n",
    "for doc_tokens in all_filtered_tokens:\n",
    "    for token in doc_tokens:\n",
    "        # increment existing?\n",
    "        if token in counts:\n",
    "            counts[token] += 1\n",
    "        # a new term?\n",
    "        else:\n",
    "            counts[token] = 1\n",
    "print(\"Found %d unique terms in this corpus\" % len(counts))"
   ]
  },
  {
   "cell_type": "code",
   "execution_count": 145,
   "metadata": {},
   "outputs": [],
   "source": [
    "import operator\n",
    "sorted_counts = sorted(counts.items(), key=operator.itemgetter(1), reverse=True)"
   ]
  },
  {
   "cell_type": "code",
   "execution_count": 146,
   "metadata": {},
   "outputs": [
    {
     "name": "stdout",
     "output_type": "stream",
     "text": [
      "said (count=4119)\n",
      "year (count=1549)\n",
      "people (count=1201)\n",
      "new (count=1193)\n",
      "mr (count=1092)\n",
      "world (count=952)\n",
      "time (count=926)\n",
      "game (count=874)\n",
      "closed (count=797)\n",
      "comments (count=789)\n",
      "news (count=762)\n",
      "article (count=744)\n",
      "online (count=721)\n",
      "just (count=683)\n",
      "market (count=638)\n",
      "like (count=618)\n",
      "games (count=601)\n",
      "company (count=598)\n",
      "years (count=597)\n",
      "players (count=597)\n"
     ]
    }
   ],
   "source": [
    "for i in range(20):\n",
    "    term = sorted_counts[i][0]\n",
    "    count = sorted_counts[i][1]\n",
    "    print( \"%s (count=%d)\" % ( term, count ) )"
   ]
  },
  {
   "cell_type": "code",
   "execution_count": 147,
   "metadata": {},
   "outputs": [
    {
     "name": "stdout",
     "output_type": "stream",
     "text": [
      "(1408, 22837)\n"
     ]
    }
   ],
   "source": [
    "from sklearn.feature_extraction.text import CountVectorizer\n",
    "vectorizer = CountVectorizer()\n",
    "X = vectorizer.fit_transform(raw_documents)\n",
    "print(X.shape)"
   ]
  },
  {
   "cell_type": "code",
   "execution_count": 148,
   "metadata": {},
   "outputs": [
    {
     "name": "stdout",
     "output_type": "stream",
     "text": [
      "Vocabulary has 22837 distinct terms\n"
     ]
    }
   ],
   "source": [
    "terms = vectorizer.get_feature_names()\n",
    "vocab = vectorizer.vocabulary_\n",
    "print(\"Vocabulary has %d distinct terms\" % len(terms))"
   ]
  },
  {
   "cell_type": "code",
   "execution_count": 149,
   "metadata": {},
   "outputs": [
    {
     "name": "stdout",
     "output_type": "stream",
     "text": [
      "['26bn', '26m', '27', '270', '271', '273', '274', '275bn', '275m', '276', '277', '277m', '27bn', '27m', '27th', '28', '280', '280bn', '280m', '281', '281m', '284m', '286', '2871', '28bn', '28m', '28th', '29', '290m', '291m']\n"
     ]
    }
   ],
   "source": [
    "print(terms[500:530])"
   ]
  },
  {
   "cell_type": "code",
   "execution_count": 150,
   "metadata": {},
   "outputs": [
    {
     "data": {
      "text/plain": [
       "8608"
      ]
     },
     "execution_count": 150,
     "metadata": {},
     "output_type": "execute_result"
    }
   ],
   "source": [
    "# what column is the term 'football' on?\n",
    "vocab[\"football\"]"
   ]
  },
  {
   "cell_type": "code",
   "execution_count": 151,
   "metadata": {},
   "outputs": [
    {
     "data": {
      "text/plain": [
       "22570"
      ]
     },
     "execution_count": 151,
     "metadata": {},
     "output_type": "execute_result"
    }
   ],
   "source": [
    "# what column is the term 'world' on?\n",
    "vocab[\"world\"]"
   ]
  },
  {
   "cell_type": "code",
   "execution_count": 152,
   "metadata": {},
   "outputs": [
    {
     "data": {
      "text/plain": [
       "20369"
      ]
     },
     "execution_count": 152,
     "metadata": {},
     "output_type": "execute_result"
    }
   ],
   "source": [
    "vocab[\"technology\"]"
   ]
  },
  {
   "cell_type": "code",
   "execution_count": 153,
   "metadata": {},
   "outputs": [],
   "source": [
    "from sklearn.feature_extraction.text import CountVectorizer\n",
    "vectorizer = CountVectorizer(ngram_range = (1,2))\n",
    "X = vectorizer.fit_transform(raw_documents)"
   ]
  },
  {
   "cell_type": "code",
   "execution_count": 154,
   "metadata": {},
   "outputs": [
    {
     "name": "stdout",
     "output_type": "stream",
     "text": [
      "Vocabulary has 251248 distinct terms\n"
     ]
    }
   ],
   "source": [
    "terms = vectorizer.get_feature_names()\n",
    "vocab = vectorizer.vocabulary_\n",
    "print(\"Vocabulary has %d distinct terms\" % len(terms))"
   ]
  },
  {
   "cell_type": "code",
   "execution_count": 155,
   "metadata": {},
   "outputs": [
    {
     "name": "stdout",
     "output_type": "stream",
     "text": [
      "['10 were', '10 which', '10 while', '10 win', '10 with', '10 world', '10 xbox', '10 yards', '10 year', '10 years']\n"
     ]
    }
   ],
   "source": [
    "print(terms[510:520])"
   ]
  },
  {
   "cell_type": "code",
   "execution_count": null,
   "metadata": {},
   "outputs": [],
   "source": []
  },
  {
   "cell_type": "code",
   "execution_count": 156,
   "metadata": {},
   "outputs": [
    {
     "data": {
      "text/plain": [
       "False"
      ]
     },
     "execution_count": 156,
     "metadata": {},
     "output_type": "execute_result"
    }
   ],
   "source": [
    "vectorizer = CountVectorizer(stop_words=\"english\")\n",
    "X = vectorizer.fit_transform(raw_documents)\n",
    "# Are standard stopwords gone?\n",
    "\"and\" in vectorizer.vocabulary_"
   ]
  },
  {
   "cell_type": "code",
   "execution_count": 157,
   "metadata": {},
   "outputs": [
    {
     "name": "stdout",
     "output_type": "stream",
     "text": [
      "Number of terms in model is 22837\n"
     ]
    }
   ],
   "source": [
    "# how many terms did we have with the last approach?\n",
    "vectorizer = CountVectorizer()\n",
    "X = vectorizer.fit_transform(raw_documents)\n",
    "print(\"Number of terms in model is %d\" % len(vectorizer.vocabulary_) )"
   ]
  },
  {
   "cell_type": "code",
   "execution_count": 158,
   "metadata": {},
   "outputs": [
    {
     "name": "stdout",
     "output_type": "stream",
     "text": [
      "Number of terms in model is 7047\n"
     ]
    }
   ],
   "source": [
    "# build another matrix, but filter terms appearing in less than 5 documents\n",
    "vectorizer = CountVectorizer(min_df = 5)\n",
    "X = vectorizer.fit_transform(raw_documents)\n",
    "print(\"Number of terms in model is %d\" % len(vectorizer.vocabulary_) )"
   ]
  },
  {
   "cell_type": "code",
   "execution_count": null,
   "metadata": {},
   "outputs": [],
   "source": []
  },
  {
   "cell_type": "code",
   "execution_count": 159,
   "metadata": {},
   "outputs": [
    {
     "name": "stdout",
     "output_type": "stream",
     "text": [
      "Requirement already satisfied: nltk in c:\\programdata\\anaconda3\\lib\\site-packages (3.5)\n",
      "Requirement already satisfied: regex in c:\\programdata\\anaconda3\\lib\\site-packages (from nltk) (2020.6.8)\n",
      "Requirement already satisfied: tqdm in c:\\programdata\\anaconda3\\lib\\site-packages (from nltk) (4.47.0)\n",
      "Requirement already satisfied: joblib in c:\\programdata\\anaconda3\\lib\\site-packages (from nltk) (0.16.0)\n",
      "Requirement already satisfied: click in c:\\programdata\\anaconda3\\lib\\site-packages (from nltk) (7.1.2)\n"
     ]
    }
   ],
   "source": [
    "!pip install nltk"
   ]
  },
  {
   "cell_type": "code",
   "execution_count": 160,
   "metadata": {},
   "outputs": [],
   "source": [
    "import nltk\n",
    "from nltk.stem import PorterStemmer\n",
    "# define the function\n",
    "def stem_tokenizer(text):\n",
    "    # use the standard scikit-learn tokenizer first\n",
    "    standard_tokenizer = CountVectorizer().build_tokenizer()\n",
    "    tokens = standard_tokenizer(text)\n",
    "    # then use NLTK to perform stemming on each token\n",
    "    stemmer = PorterStemmer()\n",
    "    stems = []\n",
    "    for token in tokens:\n",
    "        stems.append( stemmer.stem(token.lower()) )\n",
    "    return stems"
   ]
  },
  {
   "cell_type": "code",
   "execution_count": 161,
   "metadata": {},
   "outputs": [
    {
     "name": "stdout",
     "output_type": "stream",
     "text": [
      "['27m', '27th', '28', '280', '280bn', '280m', '281', '281m', '284m', '286', '2871', '28bn', '28m', '28th', '29', '290m', '291m', '293', '294', '2940']\n"
     ]
    }
   ],
   "source": [
    "vectorizer = CountVectorizer(tokenizer=stem_tokenizer)\n",
    "X = vectorizer.fit_transform(raw_documents)\n",
    "# display some sample terms\n",
    "terms = vectorizer.get_feature_names()\n",
    "print(terms[500:520])"
   ]
  },
  {
   "cell_type": "code",
   "execution_count": 162,
   "metadata": {},
   "outputs": [],
   "source": [
    "# define the function\n",
    "def lemma_tokenizer(text):\n",
    "    # use the standard scikit-learn tokenizer first\n",
    "    standard_tokenizer = CountVectorizer().build_tokenizer()\n",
    "    tokens = standard_tokenizer(text)\n",
    "    # then use NLTK to perform lemmatisation on each token\n",
    "    lemmatizer = nltk.stem.WordNetLemmatizer()\n",
    "    lemma_tokens = []\n",
    "    for token in tokens:\n",
    "        lemma_tokens.append( lemmatizer.lemmatize(token))\n",
    "    return lemma_tokens"
   ]
  },
  {
   "cell_type": "code",
   "execution_count": 163,
   "metadata": {},
   "outputs": [],
   "source": [
    "#-----------------------------------------Tokenizer and WordNet Lemmatizer with POS--------------------------------------\n",
    "# define the function\n",
    "def lemma_tokenizer_w_pos_tag(text):\n",
    "    # define a nested function for converting POS tag for Lemmatizer\n",
    "    def convert_tags(tag):\n",
    "        if tag == 'vbd' or tag == 'vbg' or tag == 'vbz':\n",
    "            return 'v'\n",
    "        else: \n",
    "            return 'n'\n",
    "    \n",
    "    #-----------------------------------------------Using WordNet Lemmatizer-----------------------------------------\n",
    "    # use the standard scikit-learn tokenizer first\n",
    "    standard_tokenizer = CountVectorizer().build_tokenizer()\n",
    "    tokens = standard_tokenizer(text)\n",
    "    tokens_with_pos_tag = nltk.pos_tag(tokens)\n",
    "    # print(tokens_with_pos_tag)\n",
    "    # then use NLTK to perform lemmatisation on each token\n",
    "    lemmatizer = nltk.WordNetLemmatizer()\n",
    "    lemma_tokens = []\n",
    "    for token in tokens_with_pos_tag:\n",
    "        new_tag = convert_tags(token[1].lower())\n",
    "        lemma_tokens.append(lemmatizer.lemmatize(token[0], new_tag))\n",
    "    \n",
    "#     print(lemma_tokens)\n",
    "    return lemma_tokens"
   ]
  },
  {
   "cell_type": "markdown",
   "metadata": {},
   "source": [
    "## Use WordNet Lemmatizer without POS tagging"
   ]
  },
  {
   "cell_type": "code",
   "execution_count": 164,
   "metadata": {},
   "outputs": [
    {
     "data": {
      "text/plain": [
       "'\"The sporting industry has come a long way since the ‘60s. It has carved out for itself a niche with its roots so deep that I cannot fathom the sports industry showing any sign of decline any time soon - or later. The reason can be found in this seemingly subtle difference - other industries have customers; the sporting industry has fans. Vivek Ranadivé, leader of the ownership group of the NBA’s Sacramento Kings, explained it beautifully, “Fans will paint their face purple, fans will evangelize. ... Every other CEO in every business is dying to be in our position — they’re dying to have fans.“ While fan passion alone could almost certainly keep the industry going, leagues and sporting franchises have decided not to rest on their laurels. The last few years have seen the steady introduction of technology into the world of sports - amplifying fans’ appreciation of games, enhancing athletes’ public profiles and informing their training methods, even influencing how contests are waged. Also, digital technology in particular has helped to create an alternative source of revenue, besides the games themselves - corporate sponsorship. They achieved this by capitalizing on the ardor of their customer base - sorry, fan base.\"'"
      ]
     },
     "execution_count": 164,
     "metadata": {},
     "output_type": "execute_result"
    }
   ],
   "source": [
    "doc1"
   ]
  },
  {
   "cell_type": "code",
   "execution_count": 165,
   "metadata": {},
   "outputs": [
    {
     "name": "stdout",
     "output_type": "stream",
     "text": [
      "['the', 'sporting', 'industry', 'ha', 'come', 'long', 'way', 'since', '60', 'it', 'carved', 'out', 'for', 'itself', 'niche', 'with', 'root', 'so', 'deep', 'that', 'cannot', 'fathom', 'sport', 'showing', 'any', 'sign', 'of', 'decline', 'time', 'soon', 'or', 'later', 'reason', 'can', 'be', 'found', 'in', 'this', 'seemingly', 'subtle', 'difference', 'other', 'have', 'customer', 'fan', 'vivek', 'ranadivé', 'leader', 'ownership', 'group', 'nba', 'sacramento', 'king', 'explained', 'beautifully', 'will', 'paint', 'their', 'face', 'purple', 'evangelize', 'every', 'ceo', 'business', 'is', 'dying', 'to', 'our', 'position', 'they', 're', 'while', 'passion', 'alone', 'could', 'almost', 'certainly', 'keep', 'going', 'league', 'and', 'franchise', 'decided', 'not', 'rest', 'on', 'laurel', 'last', 'few', 'year', 'seen', 'steady', 'introduction', 'technology', 'into', 'world', 'amplifying', 'appreciation', 'game', 'enhancing']\n"
     ]
    }
   ],
   "source": [
    "vectorizer = CountVectorizer(tokenizer=lemma_tokenizer)\n",
    "X = vectorizer.fit_transform(raw_documents)\n",
    "# display some sample terms\n",
    "print(list(vectorizer.vocabulary_.keys())[0:100])\n",
    "# terms = vectorizer.get_feature_names()\n",
    "# print(terms[200:220])"
   ]
  },
  {
   "cell_type": "code",
   "execution_count": 166,
   "metadata": {},
   "outputs": [
    {
     "name": "stdout",
     "output_type": "stream",
     "text": [
      "['the', 'sporting', 'industry', 'have', 'come', 'long', 'way', 'since', '60', 'it', 'carved', 'out', 'for', 'itself', 'niche', 'with', 'root', 'so', 'deep', 'that', 'cannot', 'fathom', 'sport', 'show', 'any', 'sign', 'of', 'decline', 'time', 'soon', 'or', 'later', 'reason', 'can', 'be', 'found', 'in', 'this', 'seemingly', 'subtle', 'difference', 'other', 'customer', 'fan', 'vivek', 'ranadivé', 'leader', 'ownership', 'group', 'nba', 'sacramento', 'king', 'explain', 'beautifully', 'will', 'paint', 'their', 'face', 'purple', 'evangelize', 'every', 'ceo', 'business', 'die', 'to', 'our', 'position', 'they', 're', 'while', 'passion', 'alone', 'could', 'almost', 'certainly', 'keep', 'go', 'league', 'and', 'franchise', 'decided', 'not', 'rest', 'on', 'laurel', 'last', 'few', 'year', 'seen', 'steady', 'introduction', 'technology', 'into', 'world', 'amplify', 'appreciation', 'game', 'enhance', 'athlete', 'public']\n"
     ]
    }
   ],
   "source": [
    "# vectorizer = CountVectorizer(tokenizer=lemma_tokenizer)\n",
    "vectorizer = CountVectorizer(tokenizer=lemma_tokenizer_w_pos_tag)\n",
    "X = vectorizer.fit_transform(raw_documents)\n",
    "# display some sample terms\n",
    "print(list(vectorizer.vocabulary_.keys())[0:100])\n",
    "# terms = vectorizer.get_feature_names()\n",
    "# print(terms[201:221])"
   ]
  },
  {
   "cell_type": "code",
   "execution_count": 167,
   "metadata": {},
   "outputs": [
    {
     "name": "stderr",
     "output_type": "stream",
     "text": [
      "C:\\ProgramData\\Anaconda3\\lib\\site-packages\\sklearn\\feature_extraction\\text.py:383: UserWarning: Your stop_words may be inconsistent with your preprocessing. Tokenizing the stop words generated tokens ['le', 'u'] not in stop_words.\n",
      "  warnings.warn('Your stop_words may be inconsistent with '\n"
     ]
    },
    {
     "name": "stdout",
     "output_type": "stream",
     "text": [
      "(1408, 8191)\n"
     ]
    }
   ],
   "source": [
    "# vectorizer = CountVectorizer(stop_words=\"english\",min_df = 3,tokenizer=lemma_tokenizer)\n",
    "vectorizer = CountVectorizer(stop_words=\"english\",min_df = 3,tokenizer=lemma_tokenizer_w_pos_tag)\n",
    "X = vectorizer.fit_transform(raw_documents)\n",
    "print(X.shape)"
   ]
  },
  {
   "cell_type": "code",
   "execution_count": 168,
   "metadata": {},
   "outputs": [
    {
     "name": "stdout",
     "output_type": "stream",
     "text": [
      "['sporting', 'industry', 'come', 'long', 'way', '60', 'niche', 'root', 'deep', 'sport', 'sign', 'decline', 'time', 'soon', 'later', 'reason', 'seemingly', 'difference', 'customer', 'fan', 'leader', 'ownership', 'group', 'nba', 'king', 'explain', 'paint', 'face', 'ceo', 'business', 'die', 'position', 'passion', 'certainly', 'league']\n"
     ]
    }
   ],
   "source": [
    "print(list(vectorizer.vocabulary_.keys())[0:35])"
   ]
  },
  {
   "cell_type": "markdown",
   "metadata": {},
   "source": [
    "### Term Weighting"
   ]
  },
  {
   "cell_type": "code",
   "execution_count": 169,
   "metadata": {},
   "outputs": [
    {
     "name": "stdout",
     "output_type": "stream",
     "text": [
      "  (0, 5658)\t0.12635917755557236\n",
      "  (0, 708)\t0.20685338848350532\n",
      "  (0, 1626)\t0.10054293773849095\n",
      "  (0, 275)\t0.10054293773849095\n",
      "  (0, 5720)\t0.12035408877745242\n",
      "  (0, 1533)\t0.08746627050335351\n",
      "  (0, 5139)\t0.08974570153347976\n",
      "  (0, 5667)\t0.0905643964991388\n",
      "  (0, 431)\t0.10588530273148258\n",
      "  (0, 1575)\t0.07900257323550364\n",
      "  (0, 2928)\t0.07738720046898899\n",
      "  (0, 4343)\t0.08641357455116963\n",
      "  (0, 1845)\t0.0689235032011391\n",
      "  (0, 3910)\t0.11713634041489018\n",
      "  (0, 6260)\t0.08182421776046826\n",
      "  (0, 4767)\t0.07281830699778001\n",
      "  (0, 595)\t0.09629300380643811\n",
      "  (0, 2157)\t0.11569618005034049\n",
      "  (0, 2668)\t0.11616721188662793\n",
      "  (0, 6714)\t0.04208676868346757\n",
      "  (0, 6069)\t0.11778346889329713\n",
      "  (0, 3277)\t0.12035408877745242\n",
      "  (0, 5786)\t0.11868327362541942\n",
      "  (0, 5400)\t0.06465409902620815\n",
      "  (0, 6755)\t0.04604042593612648\n",
      "  :\t:\n",
      "  (0, 3455)\t0.13482287482342226\n",
      "  (0, 4077)\t0.13482287482342226\n",
      "  (0, 2806)\t0.05982794722235783\n",
      "  (0, 4301)\t0.10054293773849095\n",
      "  (0, 3543)\t0.10054293773849095\n",
      "  (0, 2381)\t0.38365708673778803\n",
      "  (0, 1627)\t0.07527691548750995\n",
      "  (0, 3172)\t0.09988021395336265\n",
      "  (0, 1838)\t0.09420385710107047\n",
      "  (0, 5399)\t0.13160512646086\n",
      "  (0, 4901)\t0.08895790819578284\n",
      "  (0, 3518)\t0.07127137378725076\n",
      "  (0, 5654)\t0.07900257323550364\n",
      "  (0, 6180)\t0.039948953161750365\n",
      "  (0, 1703)\t0.0918559865149588\n",
      "  (0, 5542)\t0.08675860795840083\n",
      "  (0, 5531)\t0.08895790819578284\n",
      "  (0, 5724)\t0.1771497748668681\n",
      "  (0, 1709)\t0.10054293773849095\n",
      "  (0, 4119)\t0.12217036825248564\n",
      "  (0, 6600)\t0.04784771379100076\n",
      "  (0, 3679)\t0.05631141105885063\n",
      "  (0, 1307)\t0.05756172761411324\n",
      "  (0, 3173)\t0.2571808962744253\n",
      "  (0, 5723)\t0.31264346273834875\n"
     ]
    }
   ],
   "source": [
    "from sklearn.feature_extraction.text import TfidfVectorizer\n",
    "# we can pass in the same preprocessing parameters\n",
    "vectorizer = TfidfVectorizer(stop_words=\"english\",min_df = 5, max_df=1000, lowercase=True)\n",
    "X = vectorizer.fit_transform(raw_documents)\n",
    "# display some sample weighted values\n",
    "print(X[0])"
   ]
  },
  {
   "cell_type": "markdown",
   "metadata": {},
   "source": [
    "# Classification"
   ]
  },
  {
   "cell_type": "code",
   "execution_count": 272,
   "metadata": {},
   "outputs": [
    {
     "data": {
      "text/plain": [
       "'\"The sporting industry has come a long way since the ‘60s. It has carved out for itself a niche with its roots so deep that I cannot fathom the sports industry showing any sign of decline any time soon - or later. The reason can be found in this seemingly subtle difference - other industries have customers; the sporting industry has fans. Vivek Ranadivé, leader of the ownership group of the NBA’s Sacramento Kings, explained it beautifully, “Fans will paint their face purple, fans will evangelize. ... Every other CEO in every business is dying to be in our position — they’re dying to have fans.“ While fan passion alone could almost certainly keep the industry going, leagues and sporting franchises have decided not to rest on their laurels. The last few years have seen the steady introduction of technology into the world of sports - amplifying fans’ appreciation of games, enhancing athletes’ public profiles and informing their training methods, even influencing how contests are waged. Also, digital technology in particular has helped to create an alternative source of revenue, besides the games themselves - corporate sponsorship. They achieved this by capitalizing on the ardor of their customer base - sorry, fan base.\"\\n'"
      ]
     },
     "execution_count": 272,
     "metadata": {},
     "output_type": "execute_result"
    }
   ],
   "source": [
    "raw_documents[0]"
   ]
  },
  {
   "cell_type": "code",
   "execution_count": 171,
   "metadata": {},
   "outputs": [],
   "source": [
    "fin = open(\"target/category.txt\",\"r\", encoding=\"utf8\")\n",
    "y = fin.readlines()\n",
    "fin.close()"
   ]
  },
  {
   "cell_type": "code",
   "execution_count": null,
   "metadata": {},
   "outputs": [],
   "source": []
  },
  {
   "cell_type": "markdown",
   "metadata": {},
   "source": [
    "---"
   ]
  },
  {
   "cell_type": "code",
   "execution_count": 610,
   "metadata": {},
   "outputs": [],
   "source": [
    "from sklearn.feature_extraction.text import CountVectorizer\n",
    "from sklearn.feature_extraction.text import TfidfTransformer\n",
    "from sklearn.feature_extraction.text import TfidfVectorizer\n",
    "\n",
    "from nltk.corpus import stopwords\n",
    "\n",
    "from sklearn.pipeline import Pipeline\n"
   ]
  },
  {
   "cell_type": "markdown",
   "metadata": {},
   "source": [
    "# KNN"
   ]
  },
  {
   "cell_type": "code",
   "execution_count": 611,
   "metadata": {},
   "outputs": [],
   "source": [
    "from sklearn.neighbors import KNeighborsClassifier"
   ]
  },
  {
   "cell_type": "code",
   "execution_count": 612,
   "metadata": {},
   "outputs": [],
   "source": [
    "X_train, X_test, y_train, y_test = train_test_split(raw_documents, y, test_size=0.2, random_state=42)"
   ]
  },
  {
   "cell_type": "markdown",
   "metadata": {},
   "source": [
    "- CountVectorizer\n",
    "- TfidfTransformer"
   ]
  },
  {
   "cell_type": "code",
   "execution_count": 613,
   "metadata": {
    "scrolled": true
   },
   "outputs": [],
   "source": [
    "# We can use Pipeline to add vectorizer -> transformer -> classifier all in a one compound classifier\n",
    "clf = Pipeline([\n",
    "    ('vect', CountVectorizer(stop_words=\"english\",min_df = 3,tokenizer=lemma_tokenizer_w_pos_tag)),\n",
    "    ('tfidf', TfidfTransformer()),\n",
    "    ('knn', KNeighborsClassifier(n_neighbors=5)),\n",
    "])\n",
    "\n",
    "clf.fit(X_train, y_train)\n",
    "\n",
    "predicted = clf.predict(X_test)\n"
   ]
  },
  {
   "cell_type": "code",
   "execution_count": 614,
   "metadata": {},
   "outputs": [
    {
     "data": {
      "text/plain": [
       "0.950354609929078"
      ]
     },
     "execution_count": 614,
     "metadata": {},
     "output_type": "execute_result"
    }
   ],
   "source": [
    "from sklearn.metrics import accuracy_score\n",
    "accuracy_score(y_test, predicted)"
   ]
  },
  {
   "cell_type": "code",
   "execution_count": 615,
   "metadata": {
    "scrolled": true
   },
   "outputs": [
    {
     "data": {
      "text/plain": [
       "array([[105,   2,   6],\n",
       "       [  2,  90,   1],\n",
       "       [  0,   3,  73]], dtype=int64)"
      ]
     },
     "execution_count": 615,
     "metadata": {},
     "output_type": "execute_result"
    }
   ],
   "source": [
    "from sklearn.metrics import confusion_matrix\n",
    "confusion_matrix(y_test, predicted)"
   ]
  },
  {
   "cell_type": "markdown",
   "metadata": {},
   "source": [
    "### cross_val_score"
   ]
  },
  {
   "cell_type": "code",
   "execution_count": 616,
   "metadata": {},
   "outputs": [],
   "source": [
    "clf_knn3 = Pipeline([\n",
    "    ('vect', CountVectorizer(stop_words=\"english\",min_df = 3,tokenizer=lemma_tokenizer_w_pos_tag)),\n",
    "    ('tfidf', TfidfTransformer()),\n",
    "    ('knn', KNeighborsClassifier(n_neighbors=3)),\n",
    "])\n",
    "\n",
    "clf_knn5 = Pipeline([\n",
    "    ('vect', CountVectorizer(stop_words=\"english\",min_df = 3,tokenizer=lemma_tokenizer_w_pos_tag)),\n",
    "    ('tfidf', TfidfTransformer()),\n",
    "    ('knn', KNeighborsClassifier(n_neighbors=5)),\n",
    "])\n",
    "\n",
    "clf_knn7 = Pipeline([\n",
    "    ('vect', CountVectorizer(stop_words=\"english\",min_df = 3,tokenizer=lemma_tokenizer_w_pos_tag)),\n",
    "    ('tfidf', TfidfTransformer()),\n",
    "    ('knn', KNeighborsClassifier(n_neighbors=7)),\n",
    "])"
   ]
  },
  {
   "cell_type": "code",
   "execution_count": 617,
   "metadata": {},
   "outputs": [],
   "source": [
    "score_knn3 = cross_val_score(clf_knn3, raw_documents, y, scoring=\"accuracy\", cv=10)\n",
    "score_knn5 = cross_val_score(clf_knn5, raw_documents, y, scoring=\"accuracy\", cv=10)\n",
    "score_knn7 = cross_val_score(clf_knn7, raw_documents, y, scoring=\"accuracy\", cv=10)\n"
   ]
  },
  {
   "cell_type": "code",
   "execution_count": 618,
   "metadata": {},
   "outputs": [
    {
     "name": "stdout",
     "output_type": "stream",
     "text": [
      "0.9573758865248225\n",
      "0.9616312056737588\n",
      "0.9609219858156027\n"
     ]
    }
   ],
   "source": [
    "print(score_knn3.mean())\n",
    "print(score_knn5.mean())\n",
    "print(score_knn7.mean())"
   ]
  },
  {
   "cell_type": "code",
   "execution_count": null,
   "metadata": {},
   "outputs": [],
   "source": []
  },
  {
   "cell_type": "markdown",
   "metadata": {},
   "source": [
    "### Term Weighting\n",
    "- TfidfVectorizer"
   ]
  },
  {
   "cell_type": "code",
   "execution_count": 619,
   "metadata": {},
   "outputs": [],
   "source": [
    "X_train, X_test, y_train, y_test = train_test_split(raw_documents, y, test_size=0.2, random_state=42)"
   ]
  },
  {
   "cell_type": "code",
   "execution_count": 620,
   "metadata": {},
   "outputs": [
    {
     "name": "stdout",
     "output_type": "stream",
     "text": [
      "(1126, 401370)\n"
     ]
    }
   ],
   "source": [
    "vectorizer = TfidfVectorizer(analyzer='word', ngram_range=(1,3),\n",
    "                     min_df = 0, stop_words = 'english', sublinear_tf=True, lowercase=True)\n",
    "X_train = vectorizer.fit_transform(X_train)\n",
    "\n",
    "print(X_train.shape)"
   ]
  },
  {
   "cell_type": "code",
   "execution_count": 621,
   "metadata": {},
   "outputs": [
    {
     "data": {
      "text/plain": [
       "KNeighborsClassifier()"
      ]
     },
     "execution_count": 621,
     "metadata": {},
     "output_type": "execute_result"
    }
   ],
   "source": [
    "knn = KNeighborsClassifier(n_neighbors=5)\n",
    "\n",
    "clf = knn.fit(X_train, y_train)\n",
    "clf"
   ]
  },
  {
   "cell_type": "code",
   "execution_count": 622,
   "metadata": {},
   "outputs": [],
   "source": [
    "X_new_tfidf = vectorizer.transform(X_test)\n",
    "\n",
    "predicted = clf.predict(X_new_tfidf)"
   ]
  },
  {
   "cell_type": "code",
   "execution_count": 623,
   "metadata": {},
   "outputs": [
    {
     "data": {
      "text/plain": [
       "0.9858156028368794"
      ]
     },
     "execution_count": 623,
     "metadata": {},
     "output_type": "execute_result"
    }
   ],
   "source": [
    "from sklearn.metrics import accuracy_score\n",
    "accuracy_score(y_test, predicted)"
   ]
  },
  {
   "cell_type": "code",
   "execution_count": 624,
   "metadata": {
    "scrolled": false
   },
   "outputs": [
    {
     "data": {
      "text/plain": [
       "array([[110,   0,   3],\n",
       "       [  1,  92,   0],\n",
       "       [  0,   0,  76]], dtype=int64)"
      ]
     },
     "execution_count": 624,
     "metadata": {},
     "output_type": "execute_result"
    }
   ],
   "source": [
    "from sklearn.metrics import confusion_matrix\n",
    "confusion_matrix(y_test, predicted)"
   ]
  },
  {
   "cell_type": "markdown",
   "metadata": {},
   "source": [
    "### cross_val_score"
   ]
  },
  {
   "cell_type": "code",
   "execution_count": 625,
   "metadata": {},
   "outputs": [],
   "source": [
    "clf_weight_knn3 = Pipeline([('vect', TfidfVectorizer(analyzer='word', ngram_range=(1,3),\n",
    "                     min_df = 0, stop_words = 'english', sublinear_tf=True, lowercase=True)), ('knn', KNeighborsClassifier(n_neighbors=3))])\n",
    "clf_weight_knn5 = Pipeline([('vect', TfidfVectorizer(analyzer='word', ngram_range=(1,3),\n",
    "                     min_df = 0, stop_words = 'english', sublinear_tf=True, lowercase=True)), ('knn', KNeighborsClassifier(n_neighbors=5))])\n",
    "clf_weight_knn7 = Pipeline([('vect', TfidfVectorizer(analyzer='word', ngram_range=(1,3),\n",
    "                     min_df = 0, stop_words = 'english', sublinear_tf=True, lowercase=True)), ('knn', KNeighborsClassifier(n_neighbors=7))])"
   ]
  },
  {
   "cell_type": "code",
   "execution_count": 626,
   "metadata": {},
   "outputs": [],
   "source": [
    "score_weight_knn3 = cross_val_score(clf_weight_knn3, raw_documents, y, scoring=\"accuracy\", cv=10)\n",
    "score_weight_knn5 = cross_val_score(clf_weight_knn5, raw_documents, y, scoring=\"accuracy\", cv=10)\n",
    "score_weight_knn7 = cross_val_score(clf_weight_knn7, raw_documents, y, scoring=\"accuracy\", cv=10)\n"
   ]
  },
  {
   "cell_type": "code",
   "execution_count": 627,
   "metadata": {
    "scrolled": true
   },
   "outputs": [
    {
     "name": "stdout",
     "output_type": "stream",
     "text": [
      "0.9708611955420464\n",
      "0.9701469098277608\n",
      "0.9722796352583585\n"
     ]
    }
   ],
   "source": [
    "print(score_weight_knn3.mean())\n",
    "print(score_weight_knn5.mean())\n",
    "print(score_weight_knn7.mean())"
   ]
  },
  {
   "cell_type": "markdown",
   "metadata": {},
   "source": [
    "---"
   ]
  },
  {
   "cell_type": "markdown",
   "metadata": {},
   "source": [
    "# XGBoost"
   ]
  },
  {
   "cell_type": "code",
   "execution_count": 628,
   "metadata": {},
   "outputs": [],
   "source": [
    "X_train, X_test, y_train, y_test = train_test_split(raw_documents, y, test_size=0.2, random_state=42)"
   ]
  },
  {
   "cell_type": "code",
   "execution_count": 629,
   "metadata": {},
   "outputs": [],
   "source": [
    "import xgboost as xgb\n",
    "\n",
    "clf = Pipeline([\n",
    "    ('vect', CountVectorizer(stop_words=\"english\",min_df = 3,tokenizer=lemma_tokenizer_w_pos_tag)),\n",
    "    ('tfidf', TfidfTransformer()),\n",
    "    ('xgb', xgb.XGBClassifier()),\n",
    "])\n",
    "\n",
    "clf.fit(X_train, y_train)\n",
    "\n",
    "predicted = clf.predict(X_test)\n"
   ]
  },
  {
   "cell_type": "code",
   "execution_count": 630,
   "metadata": {},
   "outputs": [
    {
     "data": {
      "text/plain": [
       "0.9432624113475178"
      ]
     },
     "execution_count": 630,
     "metadata": {},
     "output_type": "execute_result"
    }
   ],
   "source": [
    "from sklearn.metrics import accuracy_score\n",
    "accuracy_score(y_test, predicted)"
   ]
  },
  {
   "cell_type": "code",
   "execution_count": 631,
   "metadata": {},
   "outputs": [
    {
     "data": {
      "text/plain": [
       "array([[106,   1,   6],\n",
       "       [  5,  88,   0],\n",
       "       [  2,   2,  72]], dtype=int64)"
      ]
     },
     "execution_count": 631,
     "metadata": {},
     "output_type": "execute_result"
    }
   ],
   "source": [
    "from sklearn.metrics import confusion_matrix\n",
    "confusion_matrix(y_test, predicted)"
   ]
  },
  {
   "cell_type": "markdown",
   "metadata": {},
   "source": [
    "### cross_val_score"
   ]
  },
  {
   "cell_type": "code",
   "execution_count": 632,
   "metadata": {},
   "outputs": [],
   "source": [
    "clf_xgb = Pipeline([\n",
    "    ('vect', CountVectorizer(stop_words=\"english\",min_df = 3,tokenizer=lemma_tokenizer_w_pos_tag)),\n",
    "    ('tfidf', TfidfTransformer()),\n",
    "    ('xgb', xgb.XGBClassifier()),\n",
    "])\n"
   ]
  },
  {
   "cell_type": "code",
   "execution_count": 633,
   "metadata": {},
   "outputs": [],
   "source": [
    "score = cross_val_score(clf_xgb, raw_documents, y, scoring=\"accuracy\", cv=10)"
   ]
  },
  {
   "cell_type": "code",
   "execution_count": 634,
   "metadata": {},
   "outputs": [
    {
     "name": "stdout",
     "output_type": "stream",
     "text": [
      "0.9637588652482268\n"
     ]
    }
   ],
   "source": [
    "print(score.mean())"
   ]
  },
  {
   "cell_type": "markdown",
   "metadata": {},
   "source": [
    "### Term Weighting\n",
    "- TfidfVectorizer"
   ]
  },
  {
   "cell_type": "code",
   "execution_count": 635,
   "metadata": {},
   "outputs": [],
   "source": [
    "X_train, X_test, y_train, y_test = train_test_split(raw_documents, y, test_size=0.2, random_state=42)"
   ]
  },
  {
   "cell_type": "code",
   "execution_count": 636,
   "metadata": {},
   "outputs": [
    {
     "name": "stdout",
     "output_type": "stream",
     "text": [
      "(1126, 401370)\n"
     ]
    }
   ],
   "source": [
    "vectorizer = TfidfVectorizer(analyzer='word', ngram_range=(1,3),\n",
    "                     min_df = 0, stop_words = 'english', sublinear_tf=True)\n",
    "X_train = vectorizer.fit_transform(X_train)\n",
    "\n",
    "print(X_train.shape)"
   ]
  },
  {
   "cell_type": "code",
   "execution_count": 637,
   "metadata": {},
   "outputs": [
    {
     "data": {
      "text/plain": [
       "XGBClassifier(base_score=0.5, booster='gbtree', colsample_bylevel=1,\n",
       "              colsample_bynode=1, colsample_bytree=1, gamma=0, gpu_id=-1,\n",
       "              importance_type='gain', interaction_constraints='',\n",
       "              learning_rate=0.300000012, max_delta_step=0, max_depth=6,\n",
       "              min_child_weight=1, missing=nan, monotone_constraints='()',\n",
       "              n_estimators=100, n_jobs=0, num_parallel_tree=1,\n",
       "              objective='multi:softprob', random_state=0, reg_alpha=0,\n",
       "              reg_lambda=1, scale_pos_weight=None, subsample=1,\n",
       "              tree_method='exact', validate_parameters=1, verbosity=None)"
      ]
     },
     "execution_count": 637,
     "metadata": {},
     "output_type": "execute_result"
    }
   ],
   "source": [
    "import xgboost as xgb\n",
    "\n",
    "xgb = xgb.XGBClassifier()\n",
    "\n",
    "clf = xgb.fit(X_train, y_train)\n",
    "clf"
   ]
  },
  {
   "cell_type": "code",
   "execution_count": 638,
   "metadata": {},
   "outputs": [],
   "source": [
    "X_new_tfidf = vectorizer.transform(X_test)\n",
    "\n",
    "predicted = clf.predict(X_new_tfidf)"
   ]
  },
  {
   "cell_type": "code",
   "execution_count": 639,
   "metadata": {},
   "outputs": [
    {
     "data": {
      "text/plain": [
       "0.9361702127659575"
      ]
     },
     "execution_count": 639,
     "metadata": {},
     "output_type": "execute_result"
    }
   ],
   "source": [
    "from sklearn.metrics import accuracy_score\n",
    "accuracy_score(y_test, predicted)"
   ]
  },
  {
   "cell_type": "code",
   "execution_count": 640,
   "metadata": {
    "scrolled": false
   },
   "outputs": [
    {
     "data": {
      "text/plain": [
       "array([[107,   0,   6],\n",
       "       [  3,  90,   0],\n",
       "       [  6,   3,  67]], dtype=int64)"
      ]
     },
     "execution_count": 640,
     "metadata": {},
     "output_type": "execute_result"
    }
   ],
   "source": [
    "from sklearn.metrics import confusion_matrix\n",
    "confusion_matrix(y_test, predicted)"
   ]
  },
  {
   "cell_type": "markdown",
   "metadata": {},
   "source": [
    "### cross_val_score"
   ]
  },
  {
   "cell_type": "code",
   "execution_count": 641,
   "metadata": {},
   "outputs": [],
   "source": [
    "import xgboost as xgb\n",
    "\n",
    "clf_weight_xgb = Pipeline([('vect', TfidfVectorizer(analyzer='word', ngram_range=(1,3),\n",
    "                     min_df = 0, stop_words = 'english', sublinear_tf=True)), ('xgb', xgb.XGBClassifier())])\n"
   ]
  },
  {
   "cell_type": "code",
   "execution_count": 642,
   "metadata": {},
   "outputs": [],
   "source": [
    "score = cross_val_score(clf_weight_xgb, raw_documents, y, scoring=\"accuracy\", cv=10)\n"
   ]
  },
  {
   "cell_type": "code",
   "execution_count": 643,
   "metadata": {
    "scrolled": true
   },
   "outputs": [
    {
     "name": "stdout",
     "output_type": "stream",
     "text": [
      "0.9573758865248225\n"
     ]
    }
   ],
   "source": [
    "print(score.mean())\n"
   ]
  },
  {
   "cell_type": "markdown",
   "metadata": {},
   "source": [
    "---"
   ]
  },
  {
   "cell_type": "markdown",
   "metadata": {},
   "source": [
    "# Decision tree"
   ]
  },
  {
   "cell_type": "code",
   "execution_count": 644,
   "metadata": {},
   "outputs": [],
   "source": [
    "from sklearn import tree"
   ]
  },
  {
   "cell_type": "code",
   "execution_count": 645,
   "metadata": {},
   "outputs": [],
   "source": [
    "X_train, X_test, y_train, y_test = train_test_split(raw_documents, y, test_size=0.2, random_state=42)"
   ]
  },
  {
   "cell_type": "code",
   "execution_count": 646,
   "metadata": {},
   "outputs": [],
   "source": [
    "clf = Pipeline([\n",
    "    ('vect', CountVectorizer(stop_words=\"english\",min_df = 3,tokenizer=lemma_tokenizer_w_pos_tag)),\n",
    "    ('tfidf', TfidfTransformer()),\n",
    "    ('dt', tree.DecisionTreeClassifier()),\n",
    "])\n",
    "\n",
    "clf.fit(X_train, y_train)\n",
    "\n",
    "predicted = clf.predict(X_test)\n"
   ]
  },
  {
   "cell_type": "code",
   "execution_count": 647,
   "metadata": {},
   "outputs": [
    {
     "data": {
      "text/plain": [
       "0.8475177304964538"
      ]
     },
     "execution_count": 647,
     "metadata": {},
     "output_type": "execute_result"
    }
   ],
   "source": [
    "from sklearn.metrics import accuracy_score\n",
    "accuracy_score(y_test, predicted)"
   ]
  },
  {
   "cell_type": "code",
   "execution_count": 648,
   "metadata": {},
   "outputs": [
    {
     "data": {
      "text/plain": [
       "array([[89,  9, 15],\n",
       "       [ 5, 88,  0],\n",
       "       [ 8,  6, 62]], dtype=int64)"
      ]
     },
     "execution_count": 648,
     "metadata": {},
     "output_type": "execute_result"
    }
   ],
   "source": [
    "from sklearn.metrics import confusion_matrix\n",
    "confusion_matrix(y_test, predicted)"
   ]
  },
  {
   "cell_type": "markdown",
   "metadata": {},
   "source": [
    "### cross_val_score"
   ]
  },
  {
   "cell_type": "code",
   "execution_count": 649,
   "metadata": {},
   "outputs": [],
   "source": [
    "clf_dt = Pipeline([\n",
    "    ('vect', CountVectorizer(stop_words=\"english\",min_df = 3,tokenizer=lemma_tokenizer_w_pos_tag)),\n",
    "    ('tfidf', TfidfTransformer()),\n",
    "    ('dt', tree.DecisionTreeClassifier()),\n",
    "])\n"
   ]
  },
  {
   "cell_type": "code",
   "execution_count": 650,
   "metadata": {},
   "outputs": [],
   "source": [
    "score = cross_val_score(clf_dt, raw_documents, y, scoring=\"accuracy\", cv=10)"
   ]
  },
  {
   "cell_type": "code",
   "execution_count": 651,
   "metadata": {},
   "outputs": [
    {
     "name": "stdout",
     "output_type": "stream",
     "text": [
      "0.866484295845998\n"
     ]
    }
   ],
   "source": [
    "print(score.mean())"
   ]
  },
  {
   "cell_type": "markdown",
   "metadata": {},
   "source": [
    "### Term Weighting\n",
    "- TfidfVectorizer"
   ]
  },
  {
   "cell_type": "code",
   "execution_count": 652,
   "metadata": {},
   "outputs": [],
   "source": [
    "X_train, X_test, y_train, y_test = train_test_split(raw_documents, y, test_size=0.2, random_state=42)"
   ]
  },
  {
   "cell_type": "code",
   "execution_count": 653,
   "metadata": {},
   "outputs": [
    {
     "name": "stdout",
     "output_type": "stream",
     "text": [
      "(1126, 401370)\n"
     ]
    }
   ],
   "source": [
    "vectorizer = TfidfVectorizer(analyzer='word', ngram_range=(1,3),\n",
    "                     min_df = 0, stop_words = 'english', sublinear_tf=True)\n",
    "X_train = vectorizer.fit_transform(X_train)\n",
    "\n",
    "print(X_train.shape)"
   ]
  },
  {
   "cell_type": "code",
   "execution_count": 654,
   "metadata": {},
   "outputs": [
    {
     "data": {
      "text/plain": [
       "DecisionTreeClassifier()"
      ]
     },
     "execution_count": 654,
     "metadata": {},
     "output_type": "execute_result"
    }
   ],
   "source": [
    "dt = tree.DecisionTreeClassifier()\n",
    "\n",
    "clf = dt.fit(X_train, y_train)\n",
    "clf"
   ]
  },
  {
   "cell_type": "code",
   "execution_count": 655,
   "metadata": {},
   "outputs": [],
   "source": [
    "X_new_tfidf = vectorizer.transform(X_test)\n",
    "\n",
    "predicted = clf.predict(X_new_tfidf)"
   ]
  },
  {
   "cell_type": "code",
   "execution_count": 656,
   "metadata": {},
   "outputs": [
    {
     "data": {
      "text/plain": [
       "0.8617021276595744"
      ]
     },
     "execution_count": 656,
     "metadata": {},
     "output_type": "execute_result"
    }
   ],
   "source": [
    "from sklearn.metrics import accuracy_score\n",
    "accuracy_score(y_test, predicted)"
   ]
  },
  {
   "cell_type": "code",
   "execution_count": 657,
   "metadata": {
    "scrolled": false
   },
   "outputs": [
    {
     "data": {
      "text/plain": [
       "array([[89,  6, 18],\n",
       "       [ 4, 89,  0],\n",
       "       [ 6,  5, 65]], dtype=int64)"
      ]
     },
     "execution_count": 657,
     "metadata": {},
     "output_type": "execute_result"
    }
   ],
   "source": [
    "from sklearn.metrics import confusion_matrix\n",
    "confusion_matrix(y_test, predicted)"
   ]
  },
  {
   "cell_type": "markdown",
   "metadata": {},
   "source": [
    "### cross_val_score"
   ]
  },
  {
   "cell_type": "code",
   "execution_count": 658,
   "metadata": {},
   "outputs": [],
   "source": [
    "import xgboost as xgb\n",
    "\n",
    "clf_weight_dt = Pipeline([('vect', TfidfVectorizer(analyzer='word', ngram_range=(1,3),\n",
    "                     min_df = 0, stop_words = 'english', sublinear_tf=True)), ('dt', tree.DecisionTreeClassifier())])\n"
   ]
  },
  {
   "cell_type": "code",
   "execution_count": 659,
   "metadata": {},
   "outputs": [],
   "source": [
    "score = cross_val_score(clf_weight_dt, raw_documents, y, scoring=\"accuracy\", cv=10)\n"
   ]
  },
  {
   "cell_type": "code",
   "execution_count": 660,
   "metadata": {
    "scrolled": true
   },
   "outputs": [
    {
     "name": "stdout",
     "output_type": "stream",
     "text": [
      "0.8721225937183383\n"
     ]
    }
   ],
   "source": [
    "print(score.mean())\n"
   ]
  },
  {
   "cell_type": "code",
   "execution_count": null,
   "metadata": {},
   "outputs": [],
   "source": []
  },
  {
   "cell_type": "markdown",
   "metadata": {},
   "source": [
    "---"
   ]
  },
  {
   "cell_type": "markdown",
   "metadata": {},
   "source": [
    "### Test"
   ]
  },
  {
   "cell_type": "markdown",
   "metadata": {},
   "source": [
    "#### unseen data\n",
    "- https://www.60secondsnow.com/sports/\n",
    "- https://www.60secondsnow.com/business/\n",
    "- https://www.60secondsnow.com/technology/"
   ]
  },
  {
   "cell_type": "code",
   "execution_count": 700,
   "metadata": {},
   "outputs": [],
   "source": [
    "# sport, business, technology, sport, business\n",
    "docs_new = [\"Ajinkya Rahane remains vice-captain in India's revised squad for the Australia Tests but Irfan Pathan feels a much more experienced Rohit Sharma has to lead the side in Virat Kohli's absence following the series opener. Kohli has been granted paternity leave after the first Test and Pathan said it is bound to have a huge impact on the team.\",\n",
    "            \"The S&P 500 and Dow were set to open at record highs on Monday, as news of the first successful late stage COVID-19 vaccine trials stirred hopes of the economy emerging from a year of pandemic-driven crisis.\",\n",
    "            \"Apple One More Thing event brought in a couple of new products, including the new M1 processor. Based on the 5nm architecture. The company also launched three new products based on the new Apple M1 processor, namely the MacBook Air, MacBook Pro, and the Apple Mini. Here's everything you need to know about the new offerings.\",\n",
    "            \"The FIGC has rejected appeals from Napoli and Roma against 3-0 defeats imposed on them earlier this season. Gennaro Gattuso's men did not turn up for the game in Turin last month and were also docked a point by Lega Serie A for failing to fulfil their fixture obligations. Napoli argued they were banned from travelling by local health authorities.\",\n",
    "            \"On Wednesday, global index provider MSCI (Morgan Stanley Capital International) announced changes to its Global Standard Indexes as part of its semi-annual index review. As part of the changes, two Indian stocks, that is Bosch and LIC Housing Finance, will be removed from the index. On the other hand, 12 stocks will be added to the index\"]\n"
   ]
  },
  {
   "cell_type": "markdown",
   "metadata": {},
   "source": [
    "## แบบ weight"
   ]
  },
  {
   "cell_type": "code",
   "execution_count": 699,
   "metadata": {},
   "outputs": [],
   "source": [
    "X_train, X_test, y_train, y_test = train_test_split(raw_documents, y, test_size=0.2, random_state=42)"
   ]
  },
  {
   "cell_type": "code",
   "execution_count": 701,
   "metadata": {},
   "outputs": [
    {
     "name": "stdout",
     "output_type": "stream",
     "text": [
      "(1126, 401370)\n"
     ]
    }
   ],
   "source": [
    "vectorizer = TfidfVectorizer(analyzer='word', ngram_range=(1,3),\n",
    "                     min_df = 0, stop_words = 'english', sublinear_tf=True, lowercase=True)\n",
    "X_train = vectorizer.fit_transform(X_train)\n",
    "\n",
    "print(X_train.shape)"
   ]
  },
  {
   "cell_type": "markdown",
   "metadata": {},
   "source": [
    "#### knn"
   ]
  },
  {
   "cell_type": "code",
   "execution_count": 702,
   "metadata": {},
   "outputs": [
    {
     "data": {
      "text/plain": [
       "KNeighborsClassifier(n_neighbors=7)"
      ]
     },
     "execution_count": 702,
     "metadata": {},
     "output_type": "execute_result"
    }
   ],
   "source": [
    "knn = KNeighborsClassifier(n_neighbors=7)\n",
    "\n",
    "clf_weight_knn7 = knn.fit(X_train, y_train)\n",
    "clf_weight_knn7"
   ]
  },
  {
   "cell_type": "code",
   "execution_count": 703,
   "metadata": {},
   "outputs": [],
   "source": [
    "new_tfidf = vectorizer.transform(docs_new)\n",
    "\n",
    "predicted_knn = clf_weight_knn7.predict(new_tfidf)\n"
   ]
  },
  {
   "cell_type": "markdown",
   "metadata": {},
   "source": [
    "#### dt"
   ]
  },
  {
   "cell_type": "code",
   "execution_count": 704,
   "metadata": {},
   "outputs": [
    {
     "data": {
      "text/plain": [
       "DecisionTreeClassifier()"
      ]
     },
     "execution_count": 704,
     "metadata": {},
     "output_type": "execute_result"
    }
   ],
   "source": [
    "dt = tree.DecisionTreeClassifier()\n",
    "\n",
    "clf_weight_dt = dt.fit(X_train, y_train)\n",
    "clf_weight_dt"
   ]
  },
  {
   "cell_type": "code",
   "execution_count": 705,
   "metadata": {},
   "outputs": [],
   "source": [
    "new_tfidf = vectorizer.transform(docs_new)\n",
    "\n",
    "predicted_dt = clf_weight_dt.predict(new_tfidf)"
   ]
  },
  {
   "cell_type": "markdown",
   "metadata": {},
   "source": [
    "### แบบไม่ weight"
   ]
  },
  {
   "cell_type": "code",
   "execution_count": 706,
   "metadata": {},
   "outputs": [],
   "source": [
    "X_train, X_test, y_train, y_test = train_test_split(raw_documents, y, test_size=0.2, random_state=42)"
   ]
  },
  {
   "cell_type": "markdown",
   "metadata": {},
   "source": [
    "#### xgb"
   ]
  },
  {
   "cell_type": "code",
   "execution_count": 707,
   "metadata": {},
   "outputs": [],
   "source": [
    "import xgboost as xgb\n",
    "\n",
    "clf_xgb = Pipeline([\n",
    "    ('vect', CountVectorizer(stop_words=\"english\",min_df = 3,tokenizer=lemma_tokenizer_w_pos_tag)),\n",
    "    ('tfidf', TfidfTransformer()),\n",
    "    ('xgb', xgb.XGBClassifier()),\n",
    "])"
   ]
  },
  {
   "cell_type": "code",
   "execution_count": 708,
   "metadata": {},
   "outputs": [],
   "source": [
    "clf_xgb.fit(X_train, y_train)\n",
    "\n",
    "predicted_xgb = clf_xgb.predict(docs_new)"
   ]
  },
  {
   "cell_type": "markdown",
   "metadata": {},
   "source": [
    "### result"
   ]
  },
  {
   "cell_type": "code",
   "execution_count": 709,
   "metadata": {},
   "outputs": [
    {
     "name": "stdout",
     "output_type": "stream",
     "text": [
      "knn: ['sport\\n' 'business\\n' 'technology\\n' 'sport\\n' 'business\\n']\n",
      "dt: ['business\\n' 'business\\n' 'business\\n' 'sport\\n' 'business\\n']\n",
      "xgb: ['sport\\n' 'business\\n' 'business\\n' 'sport\\n' 'sport\\n']\n"
     ]
    }
   ],
   "source": [
    "# sport, business, technology, sport, business\n",
    "\n",
    "print(\"knn:\",predicted_knn)\n",
    "print(\"dt:\",predicted_dt)\n",
    "print(\"xgb:\",predicted_xgb)"
   ]
  },
  {
   "cell_type": "code",
   "execution_count": null,
   "metadata": {},
   "outputs": [],
   "source": []
  }
 ],
 "metadata": {
  "kernelspec": {
   "display_name": "Python 3",
   "language": "python",
   "name": "python3"
  },
  "language_info": {
   "codemirror_mode": {
    "name": "ipython",
    "version": 3
   },
   "file_extension": ".py",
   "mimetype": "text/x-python",
   "name": "python",
   "nbconvert_exporter": "python",
   "pygments_lexer": "ipython3",
   "version": "3.8.3"
  }
 },
 "nbformat": 4,
 "nbformat_minor": 4
}
