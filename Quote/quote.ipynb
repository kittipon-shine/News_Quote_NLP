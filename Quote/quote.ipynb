{
 "cells": [
  {
   "cell_type": "markdown",
   "metadata": {
    "id": "qHRywNU32KhZ"
   },
   "source": [
    "# Assignment 2 - DS4Biz Y63\n",
    "## TextScraping_Classification\n",
    "***\n",
    "\n",
    "### Team Detail\n",
    "**Team Name**: sompinandsomshine   \n",
    "***\n",
    "### *Student 1*\n",
    "**Student ID**: 61070278   \n",
    "**Student Full Name**: นายกิตติภณ สุรุ่งเรืองสกุล\n",
    "***\n",
    "### *Student 2*\n",
    "**Student ID**: 61070330   \n",
    "**Student Full Name**: นางสาวอิงฟ้า ภูติวรนาถ\n",
    "***"
   ]
  },
  {
   "cell_type": "markdown",
   "metadata": {
    "id": "gx0SQvCq2Khd"
   },
   "source": [
    "#### link: https://quotes.toscrape.com/"
   ]
  },
  {
   "cell_type": "markdown",
   "metadata": {
    "id": "gQCUC3SM2Khk"
   },
   "source": [
    "# Data Collection"
   ]
  },
  {
   "cell_type": "code",
   "execution_count": 1,
   "metadata": {
    "executionInfo": {
     "elapsed": 1837,
     "status": "ok",
     "timestamp": 1605258507418,
     "user": {
      "displayName": "ENGFAH PUTIVARANAT",
      "photoUrl": "",
      "userId": "14896843217925999521"
     },
     "user_tz": -420
    },
    "id": "otwFg1EK2Khm"
   },
   "outputs": [],
   "source": [
    "import requests\n",
    "#https://requests.readthedocs.io/en/master/\n",
    "import bs4\n",
    "#https://www.crummy.com/software/BeautifulSoup/bs4/doc/\n",
    "\n",
    "import pandas as pd\n",
    "import numpy as np\n",
    "\n",
    "import warnings\n",
    "warnings.filterwarnings('ignore')\n",
    "\n",
    "from sklearn.feature_extraction.text import CountVectorizer\n",
    "from sklearn.feature_extraction.text import TfidfTransformer\n",
    "from sklearn.feature_extraction.text import TfidfVectorizer\n",
    "\n",
    "import nltk\n",
    "from nltk.corpus import stopwords\n",
    "\n",
    "from sklearn.pipeline import Pipeline\n",
    "from sklearn.model_selection import train_test_split\n",
    "from sklearn.model_selection import cross_val_score\n",
    "from sklearn.model_selection import StratifiedKFold\n",
    "from sklearn.model_selection import GridSearchCV\n",
    "\n",
    "\n",
    "from sklearn.neighbors import KNeighborsClassifier\n",
    "# import xgboost as xgb\n",
    "from sklearn.ensemble import RandomForestClassifier"
   ]
  },
  {
   "cell_type": "code",
   "execution_count": 2,
   "metadata": {
    "colab": {
     "base_uri": "https://localhost:8080/"
    },
    "executionInfo": {
     "elapsed": 1825,
     "status": "ok",
     "timestamp": 1605258507421,
     "user": {
      "displayName": "ENGFAH PUTIVARANAT",
      "photoUrl": "",
      "userId": "14896843217925999521"
     },
     "user_tz": -420
    },
    "id": "711GJX3y2Khq",
    "outputId": "e499eaf2-3bd1-4192-a987-a10592d1ebbe"
   },
   "outputs": [
    {
     "name": "stdout",
     "output_type": "stream",
     "text": [
      "<Response [200]>\n",
      "<class 'requests.models.Response'>\n"
     ]
    }
   ],
   "source": [
    "response = requests.get('https://quotes.toscrape.com/page/1/')\n",
    "print(response)\n",
    "print(type(response))\n",
    "html_page = bs4.BeautifulSoup(response.content, 'html.parser')\n",
    "# print(html_page)"
   ]
  },
  {
   "cell_type": "markdown",
   "metadata": {
    "id": "9qyrSdr23bYY"
   },
   "source": []
  },
  {
   "cell_type": "code",
   "execution_count": 3,
   "metadata": {
    "colab": {
     "base_uri": "https://localhost:8080/",
     "height": 441
    },
    "executionInfo": {
     "elapsed": 877,
     "status": "error",
     "timestamp": 1605258796382,
     "user": {
      "displayName": "ENGFAH PUTIVARANAT",
      "photoUrl": "",
      "userId": "14896843217925999521"
     },
     "user_tz": -420
    },
    "id": "qKncSUSY2Khu",
    "outputId": "ab86fe20-c0b5-4181-b6f6-67f42e6093af"
   },
   "outputs": [],
   "source": [
    "list_page = []\n",
    "cur = 1\n",
    "while 1:\n",
    "    url = 'https://quotes.toscrape.com/page/'+str(cur)+'/'\n",
    "    response = requests.get(url)\n",
    "    html_page = bs4.BeautifulSoup(response.content, 'html.parser')\n",
    "    selector = 'body > div > div:nth-child(2) > div.col-md-8'\n",
    "    tag = html_page.select_one(selector)\n",
    "    if 'No quotes found!' in tag.text:\n",
    "        break\n",
    "    else:\n",
    "        list_page.append(url)\n",
    "        cur += 1\n"
   ]
  },
  {
   "cell_type": "code",
   "execution_count": 4,
   "metadata": {
    "executionInfo": {
     "elapsed": 2247,
     "status": "aborted",
     "timestamp": 1605258507860,
     "user": {
      "displayName": "ENGFAH PUTIVARANAT",
      "photoUrl": "",
      "userId": "14896843217925999521"
     },
     "user_tz": -420
    },
    "id": "fq2fOLbm2Khx"
   },
   "outputs": [
    {
     "data": {
      "text/plain": [
       "['https://quotes.toscrape.com/page/1/',\n",
       " 'https://quotes.toscrape.com/page/2/',\n",
       " 'https://quotes.toscrape.com/page/3/',\n",
       " 'https://quotes.toscrape.com/page/4/',\n",
       " 'https://quotes.toscrape.com/page/5/',\n",
       " 'https://quotes.toscrape.com/page/6/',\n",
       " 'https://quotes.toscrape.com/page/7/',\n",
       " 'https://quotes.toscrape.com/page/8/',\n",
       " 'https://quotes.toscrape.com/page/9/',\n",
       " 'https://quotes.toscrape.com/page/10/']"
      ]
     },
     "execution_count": 4,
     "metadata": {},
     "output_type": "execute_result"
    }
   ],
   "source": [
    "list_page"
   ]
  },
  {
   "cell_type": "code",
   "execution_count": 5,
   "metadata": {
    "executionInfo": {
     "elapsed": 2238,
     "status": "aborted",
     "timestamp": 1605258507862,
     "user": {
      "displayName": "ENGFAH PUTIVARANAT",
      "photoUrl": "",
      "userId": "14896843217925999521"
     },
     "user_tz": -420
    },
    "id": "omR_rhTb2Kh0"
   },
   "outputs": [
    {
     "data": {
      "text/html": [
       "<div>\n",
       "<style scoped>\n",
       "    .dataframe tbody tr th:only-of-type {\n",
       "        vertical-align: middle;\n",
       "    }\n",
       "\n",
       "    .dataframe tbody tr th {\n",
       "        vertical-align: top;\n",
       "    }\n",
       "\n",
       "    .dataframe thead th {\n",
       "        text-align: right;\n",
       "    }\n",
       "</style>\n",
       "<table border=\"1\" class=\"dataframe\">\n",
       "  <thead>\n",
       "    <tr style=\"text-align: right;\">\n",
       "      <th></th>\n",
       "      <th>content</th>\n",
       "      <th>author</th>\n",
       "      <th>tags</th>\n",
       "      <th>link_author</th>\n",
       "    </tr>\n",
       "  </thead>\n",
       "  <tbody>\n",
       "  </tbody>\n",
       "</table>\n",
       "</div>"
      ],
      "text/plain": [
       "Empty DataFrame\n",
       "Columns: [content, author, tags, link_author]\n",
       "Index: []"
      ]
     },
     "execution_count": 5,
     "metadata": {},
     "output_type": "execute_result"
    }
   ],
   "source": [
    "df = pd.DataFrame(columns=['content','author','tags', 'link_author'])\n",
    "df"
   ]
  },
  {
   "cell_type": "code",
   "execution_count": 6,
   "metadata": {
    "executionInfo": {
     "elapsed": 2236,
     "status": "aborted",
     "timestamp": 1605258507863,
     "user": {
      "displayName": "ENGFAH PUTIVARANAT",
      "photoUrl": "",
      "userId": "14896843217925999521"
     },
     "user_tz": -420
    },
    "id": "iqUszuN72Kh4"
   },
   "outputs": [],
   "source": [
    "# Content\n",
    "def extract_content(html_page):\n",
    "    selector = 'div.col-md-8 > div > span.text'\n",
    "    tags = html_page.select(selector)\n",
    "    content = []\n",
    "    \n",
    "    for tag in tags:\n",
    "        content.append(tag.text.strip().replace('“', '').replace('”', ''))\n",
    "        \n",
    "    return content"
   ]
  },
  {
   "cell_type": "code",
   "execution_count": 7,
   "metadata": {
    "executionInfo": {
     "elapsed": 2236,
     "status": "aborted",
     "timestamp": 1605258507867,
     "user": {
      "displayName": "ENGFAH PUTIVARANAT",
      "photoUrl": "",
      "userId": "14896843217925999521"
     },
     "user_tz": -420
    },
    "id": "nqtltEla2Kh8"
   },
   "outputs": [],
   "source": [
    "# Author\n",
    "def extract_author(html_page):\n",
    "    selector = 'div.col-md-8 > div > span > small'\n",
    "    tags = html_page.select(selector)\n",
    "    author = []\n",
    "    \n",
    "    for tag in tags:\n",
    "        author.append(tag.text.strip().replace('-', ' '))\n",
    "        \n",
    "    return author"
   ]
  },
  {
   "cell_type": "code",
   "execution_count": 8,
   "metadata": {
    "executionInfo": {
     "elapsed": 2236,
     "status": "aborted",
     "timestamp": 1605258507869,
     "user": {
      "displayName": "ENGFAH PUTIVARANAT",
      "photoUrl": "",
      "userId": "14896843217925999521"
     },
     "user_tz": -420
    },
    "id": "5cCLJJUL2KiA"
   },
   "outputs": [],
   "source": [
    "# tags\n",
    "def extract_tags(html_page):\n",
    "    selector = 'div.col-md-8 > div > div > meta'\n",
    "    tags = html_page.select(selector)\n",
    "    quote_tags = []\n",
    "    \n",
    "    for tag in tags:\n",
    "#         print(tag['content'])\n",
    "        quote_tags.append(tag['content'])\n",
    "        \n",
    "    return quote_tags"
   ]
  },
  {
   "cell_type": "code",
   "execution_count": 9,
   "metadata": {
    "executionInfo": {
     "elapsed": 2234,
     "status": "aborted",
     "timestamp": 1605258507870,
     "user": {
      "displayName": "ENGFAH PUTIVARANAT",
      "photoUrl": "",
      "userId": "14896843217925999521"
     },
     "user_tz": -420
    },
    "id": "movHceSQ2KiE"
   },
   "outputs": [],
   "source": [
    "# link_author\n",
    "def extract_link_author(html_page):\n",
    "    selector = 'div.col-md-8 > div > span > a'\n",
    "    tags = html_page.select(selector)\n",
    "    link_author = []\n",
    "    \n",
    "    for tag in tags:\n",
    "#         print(tag['content'])\n",
    "        link_author.append('https://quotes.toscrape.com/author/' + tag['href'].split('/')[-1] + '/')\n",
    "        \n",
    "    return link_author"
   ]
  },
  {
   "cell_type": "code",
   "execution_count": 10,
   "metadata": {
    "executionInfo": {
     "elapsed": 2232,
     "status": "aborted",
     "timestamp": 1605258507872,
     "user": {
      "displayName": "ENGFAH PUTIVARANAT",
      "photoUrl": "",
      "userId": "14896843217925999521"
     },
     "user_tz": -420
    },
    "id": "d9nZ_dXQ2KiI"
   },
   "outputs": [],
   "source": [
    "# response = requests.get('https://quotes.toscrape.com/page/1/')\n",
    "# html_page = bs4.BeautifulSoup(response.content, 'html.parser')\n",
    "\n",
    "# extract_content(html_page)"
   ]
  },
  {
   "cell_type": "code",
   "execution_count": 11,
   "metadata": {
    "executionInfo": {
     "elapsed": 2230,
     "status": "aborted",
     "timestamp": 1605258507873,
     "user": {
      "displayName": "ENGFAH PUTIVARANAT",
      "photoUrl": "",
      "userId": "14896843217925999521"
     },
     "user_tz": -420
    },
    "id": "7ERJMKwy2KiL",
    "scrolled": true
   },
   "outputs": [],
   "source": [
    "def extract_quotes(url):\n",
    "    response = requests.get(url)\n",
    "    html_page = bs4.BeautifulSoup(response.content, 'html.parser')\n",
    "\n",
    "    content = extract_content(html_page)\n",
    "    author = extract_author(html_page)\n",
    "    tags = extract_tags(html_page)\n",
    "    link_author = extract_link_author(html_page)\n",
    "    \n",
    "    Alltags = {'content':content,'author':author,'tags':tags,'link_author':link_author}\n",
    "    result = pd.DataFrame(Alltags)\n",
    "    return result"
   ]
  },
  {
   "cell_type": "code",
   "execution_count": 12,
   "metadata": {
    "executionInfo": {
     "elapsed": 2222,
     "status": "aborted",
     "timestamp": 1605258507875,
     "user": {
      "displayName": "ENGFAH PUTIVARANAT",
      "photoUrl": "",
      "userId": "14896843217925999521"
     },
     "user_tz": -420
    },
    "id": "sPG9wZUI2KiO"
   },
   "outputs": [
    {
     "data": {
      "text/html": [
       "<div>\n",
       "<style scoped>\n",
       "    .dataframe tbody tr th:only-of-type {\n",
       "        vertical-align: middle;\n",
       "    }\n",
       "\n",
       "    .dataframe tbody tr th {\n",
       "        vertical-align: top;\n",
       "    }\n",
       "\n",
       "    .dataframe thead th {\n",
       "        text-align: right;\n",
       "    }\n",
       "</style>\n",
       "<table border=\"1\" class=\"dataframe\">\n",
       "  <thead>\n",
       "    <tr style=\"text-align: right;\">\n",
       "      <th></th>\n",
       "      <th>content</th>\n",
       "      <th>author</th>\n",
       "      <th>tags</th>\n",
       "      <th>link_author</th>\n",
       "    </tr>\n",
       "  </thead>\n",
       "  <tbody>\n",
       "    <tr>\n",
       "      <th>0</th>\n",
       "      <td>The world as we have created it is a process o...</td>\n",
       "      <td>Albert Einstein</td>\n",
       "      <td>change,deep-thoughts,thinking,world</td>\n",
       "      <td>https://quotes.toscrape.com/author/Albert-Eins...</td>\n",
       "    </tr>\n",
       "    <tr>\n",
       "      <th>1</th>\n",
       "      <td>It is our choices, Harry, that show what we tr...</td>\n",
       "      <td>J.K. Rowling</td>\n",
       "      <td>abilities,choices</td>\n",
       "      <td>https://quotes.toscrape.com/author/J-K-Rowling/</td>\n",
       "    </tr>\n",
       "    <tr>\n",
       "      <th>2</th>\n",
       "      <td>There are only two ways to live your life. One...</td>\n",
       "      <td>Albert Einstein</td>\n",
       "      <td>inspirational,life,live,miracle,miracles</td>\n",
       "      <td>https://quotes.toscrape.com/author/Albert-Eins...</td>\n",
       "    </tr>\n",
       "    <tr>\n",
       "      <th>3</th>\n",
       "      <td>The person, be it gentleman or lady, who has n...</td>\n",
       "      <td>Jane Austen</td>\n",
       "      <td>aliteracy,books,classic,humor</td>\n",
       "      <td>https://quotes.toscrape.com/author/Jane-Austen/</td>\n",
       "    </tr>\n",
       "    <tr>\n",
       "      <th>4</th>\n",
       "      <td>Imperfection is beauty, madness is genius and ...</td>\n",
       "      <td>Marilyn Monroe</td>\n",
       "      <td>be-yourself,inspirational</td>\n",
       "      <td>https://quotes.toscrape.com/author/Marilyn-Mon...</td>\n",
       "    </tr>\n",
       "  </tbody>\n",
       "</table>\n",
       "</div>"
      ],
      "text/plain": [
       "                                             content           author  \\\n",
       "0  The world as we have created it is a process o...  Albert Einstein   \n",
       "1  It is our choices, Harry, that show what we tr...     J.K. Rowling   \n",
       "2  There are only two ways to live your life. One...  Albert Einstein   \n",
       "3  The person, be it gentleman or lady, who has n...      Jane Austen   \n",
       "4  Imperfection is beauty, madness is genius and ...   Marilyn Monroe   \n",
       "\n",
       "                                       tags  \\\n",
       "0       change,deep-thoughts,thinking,world   \n",
       "1                         abilities,choices   \n",
       "2  inspirational,life,live,miracle,miracles   \n",
       "3             aliteracy,books,classic,humor   \n",
       "4                 be-yourself,inspirational   \n",
       "\n",
       "                                         link_author  \n",
       "0  https://quotes.toscrape.com/author/Albert-Eins...  \n",
       "1    https://quotes.toscrape.com/author/J-K-Rowling/  \n",
       "2  https://quotes.toscrape.com/author/Albert-Eins...  \n",
       "3    https://quotes.toscrape.com/author/Jane-Austen/  \n",
       "4  https://quotes.toscrape.com/author/Marilyn-Mon...  "
      ]
     },
     "execution_count": 12,
     "metadata": {},
     "output_type": "execute_result"
    }
   ],
   "source": [
    "for url in list_page:\n",
    "    result = extract_quotes(url)\n",
    "    df = df.append(result, ignore_index=True)\n",
    "df.head()"
   ]
  },
  {
   "cell_type": "code",
   "execution_count": 13,
   "metadata": {
    "executionInfo": {
     "elapsed": 2215,
     "status": "aborted",
     "timestamp": 1605258507878,
     "user": {
      "displayName": "ENGFAH PUTIVARANAT",
      "photoUrl": "",
      "userId": "14896843217925999521"
     },
     "user_tz": -420
    },
    "id": "N5D2kpqn2KiQ",
    "scrolled": true
   },
   "outputs": [
    {
     "data": {
      "text/plain": [
       "content        0\n",
       "author         0\n",
       "tags           0\n",
       "link_author    0\n",
       "dtype: int64"
      ]
     },
     "execution_count": 13,
     "metadata": {},
     "output_type": "execute_result"
    }
   ],
   "source": [
    "df.isna().sum()"
   ]
  },
  {
   "cell_type": "markdown",
   "metadata": {
    "id": "StHKFLuG2KiV"
   },
   "source": [
    "## author"
   ]
  },
  {
   "cell_type": "code",
   "execution_count": 14,
   "metadata": {
    "executionInfo": {
     "elapsed": 2219,
     "status": "aborted",
     "timestamp": 1605258507884,
     "user": {
      "displayName": "ENGFAH PUTIVARANAT",
      "photoUrl": "",
      "userId": "14896843217925999521"
     },
     "user_tz": -420
    },
    "id": "gazwMyoF2KiV"
   },
   "outputs": [],
   "source": [
    "# df_author = pd.DataFrame(columns=['Born_date','Born_location','Author_description'])\n",
    "# df_author"
   ]
  },
  {
   "cell_type": "code",
   "execution_count": 15,
   "metadata": {
    "executionInfo": {
     "elapsed": 2219,
     "status": "aborted",
     "timestamp": 1605258507887,
     "user": {
      "displayName": "ENGFAH PUTIVARANAT",
      "photoUrl": "",
      "userId": "14896843217925999521"
     },
     "user_tz": -420
    },
    "id": "sBsU3Fu22KiY"
   },
   "outputs": [],
   "source": [
    "# df['Link_author'].iloc[0]"
   ]
  },
  {
   "cell_type": "code",
   "execution_count": 16,
   "metadata": {
    "executionInfo": {
     "elapsed": 2216,
     "status": "aborted",
     "timestamp": 1605258507888,
     "user": {
      "displayName": "ENGFAH PUTIVARANAT",
      "photoUrl": "",
      "userId": "14896843217925999521"
     },
     "user_tz": -420
    },
    "id": "2UoX5mmh2Kib"
   },
   "outputs": [],
   "source": [
    "# author born date\n",
    "def born_date(html_page):\n",
    "    born_date = html_page.findAll(\"span\", {\"class\": \"author-born-date\"})\n",
    "    born_date = born_date[0].text.replace(',', '').replace(' ', '-')\n",
    "    return born_date"
   ]
  },
  {
   "cell_type": "code",
   "execution_count": 17,
   "metadata": {
    "executionInfo": {
     "elapsed": 2213,
     "status": "aborted",
     "timestamp": 1605258507890,
     "user": {
      "displayName": "ENGFAH PUTIVARANAT",
      "photoUrl": "",
      "userId": "14896843217925999521"
     },
     "user_tz": -420
    },
    "id": "CZFRj1yQ2Kic"
   },
   "outputs": [],
   "source": [
    "# author born location\n",
    "def born_location(html_page):\n",
    "    born_location = html_page.findAll(\"span\", {\"class\": \"author-born-location\"})\n",
    "    born_location = born_location[0].text.replace(',', '|')\n",
    "    return born_location"
   ]
  },
  {
   "cell_type": "code",
   "execution_count": 18,
   "metadata": {
    "executionInfo": {
     "elapsed": 2209,
     "status": "aborted",
     "timestamp": 1605258507891,
     "user": {
      "displayName": "ENGFAH PUTIVARANAT",
      "photoUrl": "",
      "userId": "14896843217925999521"
     },
     "user_tz": -420
    },
    "id": "glQD2haA2Kie"
   },
   "outputs": [],
   "source": [
    "# author Description\n",
    "def description(html_page):\n",
    "    description = html_page.findAll(\"div\", {\"class\": \"author-description\"})\n",
    "    description = description[0].text.strip()\n",
    "    return description"
   ]
  },
  {
   "cell_type": "code",
   "execution_count": 19,
   "metadata": {
    "executionInfo": {
     "elapsed": 2206,
     "status": "aborted",
     "timestamp": 1605258507893,
     "user": {
      "displayName": "ENGFAH PUTIVARANAT",
      "photoUrl": "",
      "userId": "14896843217925999521"
     },
     "user_tz": -420
    },
    "id": "hKcfwDnj2Kig"
   },
   "outputs": [],
   "source": [
    "# author Description\n",
    "def author_name(html_page):\n",
    "    author_name = html_page.findAll(\"h3\", {\"class\": \"author-title\"})\n",
    "    author_name = author_name[0].text.strip().replace('-', ' ')\n",
    "    return author_name"
   ]
  },
  {
   "cell_type": "code",
   "execution_count": 20,
   "metadata": {
    "executionInfo": {
     "elapsed": 2203,
     "status": "aborted",
     "timestamp": 1605258507895,
     "user": {
      "displayName": "ENGFAH PUTIVARANAT",
      "photoUrl": "",
      "userId": "14896843217925999521"
     },
     "user_tz": -420
    },
    "id": "gRydp5q02Kii"
   },
   "outputs": [],
   "source": [
    "# def extract_author(url):\n",
    "#     response = requests.get(url)\n",
    "#     html_page = bs4.BeautifulSoup(response.content, 'html.parser')\n",
    "\n",
    "#     date = born_date(html_page)\n",
    "#     location = born_location(html_page)\n",
    "#     description_text = description(html_page)\n",
    "    \n",
    "#     Alldetail = {'Born_date': date, 'Born_location': location, 'Author_description':description_text}\n",
    "#     result = pd.DataFrame(Alldetail)\n",
    "#     return result"
   ]
  },
  {
   "cell_type": "code",
   "execution_count": 21,
   "metadata": {
    "executionInfo": {
     "elapsed": 2201,
     "status": "aborted",
     "timestamp": 1605258507896,
     "user": {
      "displayName": "ENGFAH PUTIVARANAT",
      "photoUrl": "",
      "userId": "14896843217925999521"
     },
     "user_tz": -420
    },
    "id": "tUZvw2632Kik"
   },
   "outputs": [],
   "source": [
    "list_born_date = []\n",
    "list_born_location = []\n",
    "list_description = []\n",
    "list_author_name = []\n",
    "\n",
    "for link_author in list(df['link_author'].unique()):\n",
    "    \n",
    "#     response = requests.get('https://quotes.toscrape.com/author/Albert-Einstein/')\n",
    "    response = requests.get(link_author)\n",
    "    html_page = bs4.BeautifulSoup(response.content, 'html.parser')\n",
    "    \n",
    "    list_born_date.append(born_date(html_page))\n",
    "    list_born_location.append(born_location(html_page))\n",
    "    list_description.append(description(html_page))\n",
    "    list_author_name.append(author_name(html_page))"
   ]
  },
  {
   "cell_type": "code",
   "execution_count": 22,
   "metadata": {
    "executionInfo": {
     "elapsed": 2199,
     "status": "aborted",
     "timestamp": 1605258507897,
     "user": {
      "displayName": "ENGFAH PUTIVARANAT",
      "photoUrl": "",
      "userId": "14896843217925999521"
     },
     "user_tz": -420
    },
    "id": "LjaDZ38z2Kim",
    "scrolled": true
   },
   "outputs": [],
   "source": [
    "Alldetail = {'author': list_author_name, 'born_date': list_born_date, 'born_location': list_born_location, 'author_description':list_description}\n",
    "author_df = pd.DataFrame(Alldetail)"
   ]
  },
  {
   "cell_type": "code",
   "execution_count": 23,
   "metadata": {
    "executionInfo": {
     "elapsed": 2191,
     "status": "aborted",
     "timestamp": 1605258507898,
     "user": {
      "displayName": "ENGFAH PUTIVARANAT",
      "photoUrl": "",
      "userId": "14896843217925999521"
     },
     "user_tz": -420
    },
    "id": "XXlyZf362Kip"
   },
   "outputs": [
    {
     "data": {
      "text/html": [
       "<div>\n",
       "<style scoped>\n",
       "    .dataframe tbody tr th:only-of-type {\n",
       "        vertical-align: middle;\n",
       "    }\n",
       "\n",
       "    .dataframe tbody tr th {\n",
       "        vertical-align: top;\n",
       "    }\n",
       "\n",
       "    .dataframe thead th {\n",
       "        text-align: right;\n",
       "    }\n",
       "</style>\n",
       "<table border=\"1\" class=\"dataframe\">\n",
       "  <thead>\n",
       "    <tr style=\"text-align: right;\">\n",
       "      <th></th>\n",
       "      <th>author</th>\n",
       "      <th>born_date</th>\n",
       "      <th>born_location</th>\n",
       "      <th>author_description</th>\n",
       "    </tr>\n",
       "  </thead>\n",
       "  <tbody>\n",
       "    <tr>\n",
       "      <th>0</th>\n",
       "      <td>Albert Einstein</td>\n",
       "      <td>March-14-1879</td>\n",
       "      <td>in Ulm| Germany</td>\n",
       "      <td>In 1879, Albert Einstein was born in Ulm, Germ...</td>\n",
       "    </tr>\n",
       "    <tr>\n",
       "      <th>1</th>\n",
       "      <td>J.K. Rowling</td>\n",
       "      <td>July-31-1965</td>\n",
       "      <td>in Yate| South Gloucestershire| England| The U...</td>\n",
       "      <td>See also: Robert GalbraithAlthough she writes ...</td>\n",
       "    </tr>\n",
       "    <tr>\n",
       "      <th>2</th>\n",
       "      <td>Jane Austen</td>\n",
       "      <td>December-16-1775</td>\n",
       "      <td>in Steventon Rectory| Hampshire| The United Ki...</td>\n",
       "      <td>Jane Austen was an English novelist whose work...</td>\n",
       "    </tr>\n",
       "    <tr>\n",
       "      <th>3</th>\n",
       "      <td>Marilyn Monroe</td>\n",
       "      <td>June-01-1926</td>\n",
       "      <td>in The United States</td>\n",
       "      <td>Marilyn Monroe (born Norma Jeane Mortenson; Ju...</td>\n",
       "    </tr>\n",
       "    <tr>\n",
       "      <th>4</th>\n",
       "      <td>André Gide</td>\n",
       "      <td>November-22-1869</td>\n",
       "      <td>in Paris| France</td>\n",
       "      <td>André Paul Guillaume Gide was a French author ...</td>\n",
       "    </tr>\n",
       "  </tbody>\n",
       "</table>\n",
       "</div>"
      ],
      "text/plain": [
       "            author         born_date  \\\n",
       "0  Albert Einstein     March-14-1879   \n",
       "1     J.K. Rowling      July-31-1965   \n",
       "2      Jane Austen  December-16-1775   \n",
       "3   Marilyn Monroe      June-01-1926   \n",
       "4       André Gide  November-22-1869   \n",
       "\n",
       "                                       born_location  \\\n",
       "0                                    in Ulm| Germany   \n",
       "1  in Yate| South Gloucestershire| England| The U...   \n",
       "2  in Steventon Rectory| Hampshire| The United Ki...   \n",
       "3                               in The United States   \n",
       "4                                   in Paris| France   \n",
       "\n",
       "                                  author_description  \n",
       "0  In 1879, Albert Einstein was born in Ulm, Germ...  \n",
       "1  See also: Robert GalbraithAlthough she writes ...  \n",
       "2  Jane Austen was an English novelist whose work...  \n",
       "3  Marilyn Monroe (born Norma Jeane Mortenson; Ju...  \n",
       "4  André Paul Guillaume Gide was a French author ...  "
      ]
     },
     "execution_count": 23,
     "metadata": {},
     "output_type": "execute_result"
    }
   ],
   "source": [
    "author_df.head()"
   ]
  },
  {
   "cell_type": "code",
   "execution_count": 24,
   "metadata": {
    "executionInfo": {
     "elapsed": 2183,
     "status": "aborted",
     "timestamp": 1605258507899,
     "user": {
      "displayName": "ENGFAH PUTIVARANAT",
      "photoUrl": "",
      "userId": "14896843217925999521"
     },
     "user_tz": -420
    },
    "id": "oqtg8nMH2Kis"
   },
   "outputs": [
    {
     "data": {
      "text/html": [
       "<div>\n",
       "<style scoped>\n",
       "    .dataframe tbody tr th:only-of-type {\n",
       "        vertical-align: middle;\n",
       "    }\n",
       "\n",
       "    .dataframe tbody tr th {\n",
       "        vertical-align: top;\n",
       "    }\n",
       "\n",
       "    .dataframe thead th {\n",
       "        text-align: right;\n",
       "    }\n",
       "</style>\n",
       "<table border=\"1\" class=\"dataframe\">\n",
       "  <thead>\n",
       "    <tr style=\"text-align: right;\">\n",
       "      <th></th>\n",
       "      <th>content</th>\n",
       "      <th>author</th>\n",
       "      <th>tags</th>\n",
       "      <th>link_author</th>\n",
       "    </tr>\n",
       "  </thead>\n",
       "  <tbody>\n",
       "    <tr>\n",
       "      <th>0</th>\n",
       "      <td>The world as we have created it is a process o...</td>\n",
       "      <td>Albert Einstein</td>\n",
       "      <td>change,deep-thoughts,thinking,world</td>\n",
       "      <td>https://quotes.toscrape.com/author/Albert-Eins...</td>\n",
       "    </tr>\n",
       "    <tr>\n",
       "      <th>1</th>\n",
       "      <td>It is our choices, Harry, that show what we tr...</td>\n",
       "      <td>J.K. Rowling</td>\n",
       "      <td>abilities,choices</td>\n",
       "      <td>https://quotes.toscrape.com/author/J-K-Rowling/</td>\n",
       "    </tr>\n",
       "    <tr>\n",
       "      <th>2</th>\n",
       "      <td>There are only two ways to live your life. One...</td>\n",
       "      <td>Albert Einstein</td>\n",
       "      <td>inspirational,life,live,miracle,miracles</td>\n",
       "      <td>https://quotes.toscrape.com/author/Albert-Eins...</td>\n",
       "    </tr>\n",
       "    <tr>\n",
       "      <th>3</th>\n",
       "      <td>The person, be it gentleman or lady, who has n...</td>\n",
       "      <td>Jane Austen</td>\n",
       "      <td>aliteracy,books,classic,humor</td>\n",
       "      <td>https://quotes.toscrape.com/author/Jane-Austen/</td>\n",
       "    </tr>\n",
       "    <tr>\n",
       "      <th>4</th>\n",
       "      <td>Imperfection is beauty, madness is genius and ...</td>\n",
       "      <td>Marilyn Monroe</td>\n",
       "      <td>be-yourself,inspirational</td>\n",
       "      <td>https://quotes.toscrape.com/author/Marilyn-Mon...</td>\n",
       "    </tr>\n",
       "  </tbody>\n",
       "</table>\n",
       "</div>"
      ],
      "text/plain": [
       "                                             content           author  \\\n",
       "0  The world as we have created it is a process o...  Albert Einstein   \n",
       "1  It is our choices, Harry, that show what we tr...     J.K. Rowling   \n",
       "2  There are only two ways to live your life. One...  Albert Einstein   \n",
       "3  The person, be it gentleman or lady, who has n...      Jane Austen   \n",
       "4  Imperfection is beauty, madness is genius and ...   Marilyn Monroe   \n",
       "\n",
       "                                       tags  \\\n",
       "0       change,deep-thoughts,thinking,world   \n",
       "1                         abilities,choices   \n",
       "2  inspirational,life,live,miracle,miracles   \n",
       "3             aliteracy,books,classic,humor   \n",
       "4                 be-yourself,inspirational   \n",
       "\n",
       "                                         link_author  \n",
       "0  https://quotes.toscrape.com/author/Albert-Eins...  \n",
       "1    https://quotes.toscrape.com/author/J-K-Rowling/  \n",
       "2  https://quotes.toscrape.com/author/Albert-Eins...  \n",
       "3    https://quotes.toscrape.com/author/Jane-Austen/  \n",
       "4  https://quotes.toscrape.com/author/Marilyn-Mon...  "
      ]
     },
     "execution_count": 24,
     "metadata": {},
     "output_type": "execute_result"
    }
   ],
   "source": [
    "df.head()"
   ]
  },
  {
   "cell_type": "code",
   "execution_count": 25,
   "metadata": {
    "executionInfo": {
     "elapsed": 2177,
     "status": "aborted",
     "timestamp": 1605258507900,
     "user": {
      "displayName": "ENGFAH PUTIVARANAT",
      "photoUrl": "",
      "userId": "14896843217925999521"
     },
     "user_tz": -420
    },
    "id": "QeSG4ybW2Kiu"
   },
   "outputs": [],
   "source": [
    "# df.set_index('Author').join(other.set_index('key'))"
   ]
  },
  {
   "cell_type": "code",
   "execution_count": 26,
   "metadata": {
    "executionInfo": {
     "elapsed": 2175,
     "status": "aborted",
     "timestamp": 1605258507901,
     "user": {
      "displayName": "ENGFAH PUTIVARANAT",
      "photoUrl": "",
      "userId": "14896843217925999521"
     },
     "user_tz": -420
    },
    "id": "J1B9ifm82Kiw"
   },
   "outputs": [],
   "source": [
    "# result['Author'].value_counts()"
   ]
  },
  {
   "cell_type": "code",
   "execution_count": 27,
   "metadata": {
    "executionInfo": {
     "elapsed": 2169,
     "status": "aborted",
     "timestamp": 1605258507902,
     "user": {
      "displayName": "ENGFAH PUTIVARANAT",
      "photoUrl": "",
      "userId": "14896843217925999521"
     },
     "user_tz": -420
    },
    "id": "aM4WEFAG2Kiz"
   },
   "outputs": [
    {
     "data": {
      "text/html": [
       "<div>\n",
       "<style scoped>\n",
       "    .dataframe tbody tr th:only-of-type {\n",
       "        vertical-align: middle;\n",
       "    }\n",
       "\n",
       "    .dataframe tbody tr th {\n",
       "        vertical-align: top;\n",
       "    }\n",
       "\n",
       "    .dataframe thead th {\n",
       "        text-align: right;\n",
       "    }\n",
       "</style>\n",
       "<table border=\"1\" class=\"dataframe\">\n",
       "  <thead>\n",
       "    <tr style=\"text-align: right;\">\n",
       "      <th></th>\n",
       "      <th>content</th>\n",
       "      <th>author</th>\n",
       "      <th>tags</th>\n",
       "      <th>link_author</th>\n",
       "      <th>born_date</th>\n",
       "      <th>born_location</th>\n",
       "      <th>author_description</th>\n",
       "    </tr>\n",
       "  </thead>\n",
       "  <tbody>\n",
       "    <tr>\n",
       "      <th>0</th>\n",
       "      <td>The world as we have created it is a process o...</td>\n",
       "      <td>Albert Einstein</td>\n",
       "      <td>change,deep-thoughts,thinking,world</td>\n",
       "      <td>https://quotes.toscrape.com/author/Albert-Eins...</td>\n",
       "      <td>March-14-1879</td>\n",
       "      <td>in Ulm| Germany</td>\n",
       "      <td>In 1879, Albert Einstein was born in Ulm, Germ...</td>\n",
       "    </tr>\n",
       "    <tr>\n",
       "      <th>1</th>\n",
       "      <td>It is our choices, Harry, that show what we tr...</td>\n",
       "      <td>J.K. Rowling</td>\n",
       "      <td>abilities,choices</td>\n",
       "      <td>https://quotes.toscrape.com/author/J-K-Rowling/</td>\n",
       "      <td>July-31-1965</td>\n",
       "      <td>in Yate| South Gloucestershire| England| The U...</td>\n",
       "      <td>See also: Robert GalbraithAlthough she writes ...</td>\n",
       "    </tr>\n",
       "    <tr>\n",
       "      <th>2</th>\n",
       "      <td>There are only two ways to live your life. One...</td>\n",
       "      <td>Albert Einstein</td>\n",
       "      <td>inspirational,life,live,miracle,miracles</td>\n",
       "      <td>https://quotes.toscrape.com/author/Albert-Eins...</td>\n",
       "      <td>March-14-1879</td>\n",
       "      <td>in Ulm| Germany</td>\n",
       "      <td>In 1879, Albert Einstein was born in Ulm, Germ...</td>\n",
       "    </tr>\n",
       "    <tr>\n",
       "      <th>3</th>\n",
       "      <td>The person, be it gentleman or lady, who has n...</td>\n",
       "      <td>Jane Austen</td>\n",
       "      <td>aliteracy,books,classic,humor</td>\n",
       "      <td>https://quotes.toscrape.com/author/Jane-Austen/</td>\n",
       "      <td>December-16-1775</td>\n",
       "      <td>in Steventon Rectory| Hampshire| The United Ki...</td>\n",
       "      <td>Jane Austen was an English novelist whose work...</td>\n",
       "    </tr>\n",
       "    <tr>\n",
       "      <th>4</th>\n",
       "      <td>Imperfection is beauty, madness is genius and ...</td>\n",
       "      <td>Marilyn Monroe</td>\n",
       "      <td>be-yourself,inspirational</td>\n",
       "      <td>https://quotes.toscrape.com/author/Marilyn-Mon...</td>\n",
       "      <td>June-01-1926</td>\n",
       "      <td>in The United States</td>\n",
       "      <td>Marilyn Monroe (born Norma Jeane Mortenson; Ju...</td>\n",
       "    </tr>\n",
       "  </tbody>\n",
       "</table>\n",
       "</div>"
      ],
      "text/plain": [
       "                                             content           author  \\\n",
       "0  The world as we have created it is a process o...  Albert Einstein   \n",
       "1  It is our choices, Harry, that show what we tr...     J.K. Rowling   \n",
       "2  There are only two ways to live your life. One...  Albert Einstein   \n",
       "3  The person, be it gentleman or lady, who has n...      Jane Austen   \n",
       "4  Imperfection is beauty, madness is genius and ...   Marilyn Monroe   \n",
       "\n",
       "                                       tags  \\\n",
       "0       change,deep-thoughts,thinking,world   \n",
       "1                         abilities,choices   \n",
       "2  inspirational,life,live,miracle,miracles   \n",
       "3             aliteracy,books,classic,humor   \n",
       "4                 be-yourself,inspirational   \n",
       "\n",
       "                                         link_author         born_date  \\\n",
       "0  https://quotes.toscrape.com/author/Albert-Eins...     March-14-1879   \n",
       "1    https://quotes.toscrape.com/author/J-K-Rowling/      July-31-1965   \n",
       "2  https://quotes.toscrape.com/author/Albert-Eins...     March-14-1879   \n",
       "3    https://quotes.toscrape.com/author/Jane-Austen/  December-16-1775   \n",
       "4  https://quotes.toscrape.com/author/Marilyn-Mon...      June-01-1926   \n",
       "\n",
       "                                       born_location  \\\n",
       "0                                    in Ulm| Germany   \n",
       "1  in Yate| South Gloucestershire| England| The U...   \n",
       "2                                    in Ulm| Germany   \n",
       "3  in Steventon Rectory| Hampshire| The United Ki...   \n",
       "4                               in The United States   \n",
       "\n",
       "                                  author_description  \n",
       "0  In 1879, Albert Einstein was born in Ulm, Germ...  \n",
       "1  See also: Robert GalbraithAlthough she writes ...  \n",
       "2  In 1879, Albert Einstein was born in Ulm, Germ...  \n",
       "3  Jane Austen was an English novelist whose work...  \n",
       "4  Marilyn Monroe (born Norma Jeane Mortenson; Ju...  "
      ]
     },
     "execution_count": 27,
     "metadata": {},
     "output_type": "execute_result"
    }
   ],
   "source": [
    "content_author_df = pd.merge(df, author_df, on='author', how='left')\n",
    "content_author_df.head()"
   ]
  },
  {
   "cell_type": "markdown",
   "metadata": {
    "id": "NYrD0LLN2Ki1"
   },
   "source": [
    "## save DataFarame to csv\n",
    "เพื่อให้ง่ายต่อการใช้ในภายหลัง\n",
    "- content.csv รายละเอียดของ quote\n",
    "- author.csv รายละเอียดของผู้เขียน\n",
    "- content_author.csv รายละเอียดของ quote และผู้เขียน"
   ]
  },
  {
   "cell_type": "code",
   "execution_count": 28,
   "metadata": {
    "executionInfo": {
     "elapsed": 2167,
     "status": "aborted",
     "timestamp": 1605258507904,
     "user": {
      "displayName": "ENGFAH PUTIVARANAT",
      "photoUrl": "",
      "userId": "14896843217925999521"
     },
     "user_tz": -420
    },
    "id": "WM-B0u-_2Ki2"
   },
   "outputs": [],
   "source": [
    "df.to_csv('content.csv', index=False)\n",
    "author_df.to_csv('author.csv', index=False)\n",
    "content_author_df.to_csv('content_author.csv', index=False)"
   ]
  },
  {
   "cell_type": "code",
   "execution_count": 29,
   "metadata": {
    "executionInfo": {
     "elapsed": 2158,
     "status": "aborted",
     "timestamp": 1605258507904,
     "user": {
      "displayName": "ENGFAH PUTIVARANAT",
      "photoUrl": "",
      "userId": "14896843217925999521"
     },
     "user_tz": -420
    },
    "id": "BMMrV_ZN2Ki3"
   },
   "outputs": [
    {
     "data": {
      "text/html": [
       "<div>\n",
       "<style scoped>\n",
       "    .dataframe tbody tr th:only-of-type {\n",
       "        vertical-align: middle;\n",
       "    }\n",
       "\n",
       "    .dataframe tbody tr th {\n",
       "        vertical-align: top;\n",
       "    }\n",
       "\n",
       "    .dataframe thead th {\n",
       "        text-align: right;\n",
       "    }\n",
       "</style>\n",
       "<table border=\"1\" class=\"dataframe\">\n",
       "  <thead>\n",
       "    <tr style=\"text-align: right;\">\n",
       "      <th></th>\n",
       "      <th>content</th>\n",
       "      <th>author</th>\n",
       "      <th>tags</th>\n",
       "      <th>link_author</th>\n",
       "    </tr>\n",
       "  </thead>\n",
       "  <tbody>\n",
       "    <tr>\n",
       "      <th>0</th>\n",
       "      <td>The world as we have created it is a process o...</td>\n",
       "      <td>Albert Einstein</td>\n",
       "      <td>change,deep-thoughts,thinking,world</td>\n",
       "      <td>https://quotes.toscrape.com/author/Albert-Eins...</td>\n",
       "    </tr>\n",
       "    <tr>\n",
       "      <th>1</th>\n",
       "      <td>It is our choices, Harry, that show what we tr...</td>\n",
       "      <td>J.K. Rowling</td>\n",
       "      <td>abilities,choices</td>\n",
       "      <td>https://quotes.toscrape.com/author/J-K-Rowling/</td>\n",
       "    </tr>\n",
       "    <tr>\n",
       "      <th>2</th>\n",
       "      <td>There are only two ways to live your life. One...</td>\n",
       "      <td>Albert Einstein</td>\n",
       "      <td>inspirational,life,live,miracle,miracles</td>\n",
       "      <td>https://quotes.toscrape.com/author/Albert-Eins...</td>\n",
       "    </tr>\n",
       "    <tr>\n",
       "      <th>3</th>\n",
       "      <td>The person, be it gentleman or lady, who has n...</td>\n",
       "      <td>Jane Austen</td>\n",
       "      <td>aliteracy,books,classic,humor</td>\n",
       "      <td>https://quotes.toscrape.com/author/Jane-Austen/</td>\n",
       "    </tr>\n",
       "    <tr>\n",
       "      <th>4</th>\n",
       "      <td>Imperfection is beauty, madness is genius and ...</td>\n",
       "      <td>Marilyn Monroe</td>\n",
       "      <td>be-yourself,inspirational</td>\n",
       "      <td>https://quotes.toscrape.com/author/Marilyn-Mon...</td>\n",
       "    </tr>\n",
       "  </tbody>\n",
       "</table>\n",
       "</div>"
      ],
      "text/plain": [
       "                                             content           author  \\\n",
       "0  The world as we have created it is a process o...  Albert Einstein   \n",
       "1  It is our choices, Harry, that show what we tr...     J.K. Rowling   \n",
       "2  There are only two ways to live your life. One...  Albert Einstein   \n",
       "3  The person, be it gentleman or lady, who has n...      Jane Austen   \n",
       "4  Imperfection is beauty, madness is genius and ...   Marilyn Monroe   \n",
       "\n",
       "                                       tags  \\\n",
       "0       change,deep-thoughts,thinking,world   \n",
       "1                         abilities,choices   \n",
       "2  inspirational,life,live,miracle,miracles   \n",
       "3             aliteracy,books,classic,humor   \n",
       "4                 be-yourself,inspirational   \n",
       "\n",
       "                                         link_author  \n",
       "0  https://quotes.toscrape.com/author/Albert-Eins...  \n",
       "1    https://quotes.toscrape.com/author/J-K-Rowling/  \n",
       "2  https://quotes.toscrape.com/author/Albert-Eins...  \n",
       "3    https://quotes.toscrape.com/author/Jane-Austen/  \n",
       "4  https://quotes.toscrape.com/author/Marilyn-Mon...  "
      ]
     },
     "execution_count": 29,
     "metadata": {},
     "output_type": "execute_result"
    }
   ],
   "source": [
    "df = pd.read_csv('content.csv')\n",
    "df.head()"
   ]
  },
  {
   "cell_type": "code",
   "execution_count": 30,
   "metadata": {
    "executionInfo": {
     "elapsed": 2149,
     "status": "aborted",
     "timestamp": 1605258507905,
     "user": {
      "displayName": "ENGFAH PUTIVARANAT",
      "photoUrl": "",
      "userId": "14896843217925999521"
     },
     "user_tz": -420
    },
    "id": "Cpk7jyHo2Ki6"
   },
   "outputs": [
    {
     "data": {
      "text/plain": [
       "content        0\n",
       "author         0\n",
       "tags           3\n",
       "link_author    0\n",
       "dtype: int64"
      ]
     },
     "execution_count": 30,
     "metadata": {},
     "output_type": "execute_result"
    }
   ],
   "source": [
    "df.isna().sum()"
   ]
  },
  {
   "cell_type": "code",
   "execution_count": 31,
   "metadata": {
    "executionInfo": {
     "elapsed": 2144,
     "status": "aborted",
     "timestamp": 1605258507906,
     "user": {
      "displayName": "ENGFAH PUTIVARANAT",
      "photoUrl": "",
      "userId": "14896843217925999521"
     },
     "user_tz": -420
    },
    "id": "k-z2MRVA2Ki9"
   },
   "outputs": [
    {
     "data": {
      "text/html": [
       "<div>\n",
       "<style scoped>\n",
       "    .dataframe tbody tr th:only-of-type {\n",
       "        vertical-align: middle;\n",
       "    }\n",
       "\n",
       "    .dataframe tbody tr th {\n",
       "        vertical-align: top;\n",
       "    }\n",
       "\n",
       "    .dataframe thead th {\n",
       "        text-align: right;\n",
       "    }\n",
       "</style>\n",
       "<table border=\"1\" class=\"dataframe\">\n",
       "  <thead>\n",
       "    <tr style=\"text-align: right;\">\n",
       "      <th></th>\n",
       "      <th>content</th>\n",
       "      <th>author</th>\n",
       "      <th>tags</th>\n",
       "      <th>link_author</th>\n",
       "    </tr>\n",
       "  </thead>\n",
       "  <tbody>\n",
       "    <tr>\n",
       "      <th>27</th>\n",
       "      <td>It is impossible to live without failing at so...</td>\n",
       "      <td>J.K. Rowling</td>\n",
       "      <td>NaN</td>\n",
       "      <td>https://quotes.toscrape.com/author/J-K-Rowling/</td>\n",
       "    </tr>\n",
       "    <tr>\n",
       "      <th>42</th>\n",
       "      <td>You believe lies so you eventually learn to tr...</td>\n",
       "      <td>Marilyn Monroe</td>\n",
       "      <td>NaN</td>\n",
       "      <td>https://quotes.toscrape.com/author/Marilyn-Mon...</td>\n",
       "    </tr>\n",
       "    <tr>\n",
       "      <th>78</th>\n",
       "      <td>The question isn't who is going to let me; it'...</td>\n",
       "      <td>Ayn Rand</td>\n",
       "      <td>NaN</td>\n",
       "      <td>https://quotes.toscrape.com/author/Ayn-Rand/</td>\n",
       "    </tr>\n",
       "  </tbody>\n",
       "</table>\n",
       "</div>"
      ],
      "text/plain": [
       "                                              content          author tags  \\\n",
       "27  It is impossible to live without failing at so...    J.K. Rowling  NaN   \n",
       "42  You believe lies so you eventually learn to tr...  Marilyn Monroe  NaN   \n",
       "78  The question isn't who is going to let me; it'...        Ayn Rand  NaN   \n",
       "\n",
       "                                          link_author  \n",
       "27    https://quotes.toscrape.com/author/J-K-Rowling/  \n",
       "42  https://quotes.toscrape.com/author/Marilyn-Mon...  \n",
       "78       https://quotes.toscrape.com/author/Ayn-Rand/  "
      ]
     },
     "execution_count": 31,
     "metadata": {},
     "output_type": "execute_result"
    }
   ],
   "source": [
    "df[df['tags'].isna()]"
   ]
  },
  {
   "cell_type": "code",
   "execution_count": null,
   "metadata": {
    "executionInfo": {
     "elapsed": 2140,
     "status": "aborted",
     "timestamp": 1605258507906,
     "user": {
      "displayName": "ENGFAH PUTIVARANAT",
      "photoUrl": "",
      "userId": "14896843217925999521"
     },
     "user_tz": -420
    },
    "id": "vQjv-8wq2Ki-"
   },
   "outputs": [],
   "source": []
  },
  {
   "cell_type": "markdown",
   "metadata": {
    "id": "hlZ_5-NV2KjB"
   },
   "source": [
    "### บันทึก tags\n",
    "folder target"
   ]
  },
  {
   "cell_type": "code",
   "execution_count": 32,
   "metadata": {
    "executionInfo": {
     "elapsed": 2133,
     "status": "aborted",
     "timestamp": 1605258507907,
     "user": {
      "displayName": "ENGFAH PUTIVARANAT",
      "photoUrl": "",
      "userId": "14896843217925999521"
     },
     "user_tz": -420
    },
    "id": "rFlC9kUP2KjB"
   },
   "outputs": [
    {
     "data": {
      "text/plain": [
       "0                   change,deep-thoughts,thinking,world\n",
       "1                                     abilities,choices\n",
       "2              inspirational,life,live,miracle,miracles\n",
       "3                         aliteracy,books,classic,humor\n",
       "4                             be-yourself,inspirational\n",
       "                            ...                        \n",
       "95                                  better-life-empathy\n",
       "96    books,children,difficult,grown-ups,write,write...\n",
       "97                                                truth\n",
       "98                                        inspirational\n",
       "99                                           books,mind\n",
       "Name: tags, Length: 100, dtype: object"
      ]
     },
     "execution_count": 32,
     "metadata": {},
     "output_type": "execute_result"
    }
   ],
   "source": [
    "df['tags']"
   ]
  },
  {
   "cell_type": "code",
   "execution_count": 33,
   "metadata": {
    "executionInfo": {
     "elapsed": 2132,
     "status": "aborted",
     "timestamp": 1605258507908,
     "user": {
      "displayName": "ENGFAH PUTIVARANAT",
      "photoUrl": "",
      "userId": "14896843217925999521"
     },
     "user_tz": -420
    },
    "id": "stZnZ_Tp2KjD"
   },
   "outputs": [],
   "source": [
    "df['tags'].to_csv(r'target/tags.txt', header=None, index=None, sep=' ', mode='a')"
   ]
  },
  {
   "cell_type": "markdown",
   "metadata": {
    "executionInfo": {
     "elapsed": 2131,
     "status": "aborted",
     "timestamp": 1605258507909,
     "user": {
      "displayName": "ENGFAH PUTIVARANAT",
      "photoUrl": "",
      "userId": "14896843217925999521"
     },
     "user_tz": -420
    },
    "id": "CmW1bEwU2KjG"
   },
   "source": [
    "แง้ว"
   ]
  },
  {
   "cell_type": "code",
   "execution_count": 34,
   "metadata": {},
   "outputs": [
    {
     "name": "stdout",
     "output_type": "stream",
     "text": [
      "<class 'pandas.core.frame.DataFrame'>\n",
      "RangeIndex: 100 entries, 0 to 99\n",
      "Data columns (total 4 columns):\n",
      " #   Column       Non-Null Count  Dtype \n",
      "---  ------       --------------  ----- \n",
      " 0   content      100 non-null    object\n",
      " 1   author       100 non-null    object\n",
      " 2   tags         97 non-null     object\n",
      " 3   link_author  100 non-null    object\n",
      "dtypes: object(4)\n",
      "memory usage: 3.2+ KB\n"
     ]
    }
   ],
   "source": [
    "df.info()"
   ]
  },
  {
   "cell_type": "code",
   "execution_count": 35,
   "metadata": {},
   "outputs": [
    {
     "data": {
      "text/html": [
       "<div>\n",
       "<style scoped>\n",
       "    .dataframe tbody tr th:only-of-type {\n",
       "        vertical-align: middle;\n",
       "    }\n",
       "\n",
       "    .dataframe tbody tr th {\n",
       "        vertical-align: top;\n",
       "    }\n",
       "\n",
       "    .dataframe thead th {\n",
       "        text-align: right;\n",
       "    }\n",
       "</style>\n",
       "<table border=\"1\" class=\"dataframe\">\n",
       "  <thead>\n",
       "    <tr style=\"text-align: right;\">\n",
       "      <th></th>\n",
       "      <th>content</th>\n",
       "      <th>author</th>\n",
       "      <th>tags</th>\n",
       "      <th>link_author</th>\n",
       "    </tr>\n",
       "  </thead>\n",
       "  <tbody>\n",
       "    <tr>\n",
       "      <th>27</th>\n",
       "      <td>It is impossible to live without failing at so...</td>\n",
       "      <td>J.K. Rowling</td>\n",
       "      <td>NaN</td>\n",
       "      <td>https://quotes.toscrape.com/author/J-K-Rowling/</td>\n",
       "    </tr>\n",
       "    <tr>\n",
       "      <th>42</th>\n",
       "      <td>You believe lies so you eventually learn to tr...</td>\n",
       "      <td>Marilyn Monroe</td>\n",
       "      <td>NaN</td>\n",
       "      <td>https://quotes.toscrape.com/author/Marilyn-Mon...</td>\n",
       "    </tr>\n",
       "    <tr>\n",
       "      <th>78</th>\n",
       "      <td>The question isn't who is going to let me; it'...</td>\n",
       "      <td>Ayn Rand</td>\n",
       "      <td>NaN</td>\n",
       "      <td>https://quotes.toscrape.com/author/Ayn-Rand/</td>\n",
       "    </tr>\n",
       "  </tbody>\n",
       "</table>\n",
       "</div>"
      ],
      "text/plain": [
       "                                              content          author tags  \\\n",
       "27  It is impossible to live without failing at so...    J.K. Rowling  NaN   \n",
       "42  You believe lies so you eventually learn to tr...  Marilyn Monroe  NaN   \n",
       "78  The question isn't who is going to let me; it'...        Ayn Rand  NaN   \n",
       "\n",
       "                                          link_author  \n",
       "27    https://quotes.toscrape.com/author/J-K-Rowling/  \n",
       "42  https://quotes.toscrape.com/author/Marilyn-Mon...  \n",
       "78       https://quotes.toscrape.com/author/Ayn-Rand/  "
      ]
     },
     "execution_count": 35,
     "metadata": {},
     "output_type": "execute_result"
    }
   ],
   "source": [
    "df[df['tags'].isna()]"
   ]
  },
  {
   "cell_type": "code",
   "execution_count": 36,
   "metadata": {},
   "outputs": [],
   "source": [
    "df = df.dropna(subset=['tags'])"
   ]
  },
  {
   "cell_type": "code",
   "execution_count": 37,
   "metadata": {
    "scrolled": false
   },
   "outputs": [
    {
     "name": "stdout",
     "output_type": "stream",
     "text": [
      "<class 'pandas.core.frame.DataFrame'>\n",
      "Int64Index: 97 entries, 0 to 99\n",
      "Data columns (total 4 columns):\n",
      " #   Column       Non-Null Count  Dtype \n",
      "---  ------       --------------  ----- \n",
      " 0   content      97 non-null     object\n",
      " 1   author       97 non-null     object\n",
      " 2   tags         97 non-null     object\n",
      " 3   link_author  97 non-null     object\n",
      "dtypes: object(4)\n",
      "memory usage: 3.8+ KB\n"
     ]
    }
   ],
   "source": [
    "df.info()"
   ]
  },
  {
   "cell_type": "code",
   "execution_count": 38,
   "metadata": {},
   "outputs": [
    {
     "data": {
      "text/html": [
       "<div>\n",
       "<style scoped>\n",
       "    .dataframe tbody tr th:only-of-type {\n",
       "        vertical-align: middle;\n",
       "    }\n",
       "\n",
       "    .dataframe tbody tr th {\n",
       "        vertical-align: top;\n",
       "    }\n",
       "\n",
       "    .dataframe thead th {\n",
       "        text-align: right;\n",
       "    }\n",
       "</style>\n",
       "<table border=\"1\" class=\"dataframe\">\n",
       "  <thead>\n",
       "    <tr style=\"text-align: right;\">\n",
       "      <th></th>\n",
       "      <th>abilities</th>\n",
       "      <th>activism</th>\n",
       "      <th>adulthood</th>\n",
       "      <th>adventure</th>\n",
       "      <th>age</th>\n",
       "      <th>alcohol</th>\n",
       "      <th>aliteracy</th>\n",
       "      <th>apathy</th>\n",
       "      <th>attributed</th>\n",
       "      <th>attributed-no-source</th>\n",
       "      <th>...</th>\n",
       "      <th>unhappy-marriage</th>\n",
       "      <th>value</th>\n",
       "      <th>wander</th>\n",
       "      <th>wisdom</th>\n",
       "      <th>women</th>\n",
       "      <th>world</th>\n",
       "      <th>write</th>\n",
       "      <th>writers</th>\n",
       "      <th>writing</th>\n",
       "      <th>yourself</th>\n",
       "    </tr>\n",
       "  </thead>\n",
       "  <tbody>\n",
       "    <tr>\n",
       "      <th>0</th>\n",
       "      <td>0</td>\n",
       "      <td>0</td>\n",
       "      <td>0</td>\n",
       "      <td>0</td>\n",
       "      <td>0</td>\n",
       "      <td>0</td>\n",
       "      <td>0</td>\n",
       "      <td>0</td>\n",
       "      <td>0</td>\n",
       "      <td>0</td>\n",
       "      <td>...</td>\n",
       "      <td>0</td>\n",
       "      <td>0</td>\n",
       "      <td>0</td>\n",
       "      <td>0</td>\n",
       "      <td>0</td>\n",
       "      <td>1</td>\n",
       "      <td>0</td>\n",
       "      <td>0</td>\n",
       "      <td>0</td>\n",
       "      <td>0</td>\n",
       "    </tr>\n",
       "    <tr>\n",
       "      <th>1</th>\n",
       "      <td>1</td>\n",
       "      <td>0</td>\n",
       "      <td>0</td>\n",
       "      <td>0</td>\n",
       "      <td>0</td>\n",
       "      <td>0</td>\n",
       "      <td>0</td>\n",
       "      <td>0</td>\n",
       "      <td>0</td>\n",
       "      <td>0</td>\n",
       "      <td>...</td>\n",
       "      <td>0</td>\n",
       "      <td>0</td>\n",
       "      <td>0</td>\n",
       "      <td>0</td>\n",
       "      <td>0</td>\n",
       "      <td>0</td>\n",
       "      <td>0</td>\n",
       "      <td>0</td>\n",
       "      <td>0</td>\n",
       "      <td>0</td>\n",
       "    </tr>\n",
       "    <tr>\n",
       "      <th>2</th>\n",
       "      <td>0</td>\n",
       "      <td>0</td>\n",
       "      <td>0</td>\n",
       "      <td>0</td>\n",
       "      <td>0</td>\n",
       "      <td>0</td>\n",
       "      <td>0</td>\n",
       "      <td>0</td>\n",
       "      <td>0</td>\n",
       "      <td>0</td>\n",
       "      <td>...</td>\n",
       "      <td>0</td>\n",
       "      <td>0</td>\n",
       "      <td>0</td>\n",
       "      <td>0</td>\n",
       "      <td>0</td>\n",
       "      <td>0</td>\n",
       "      <td>0</td>\n",
       "      <td>0</td>\n",
       "      <td>0</td>\n",
       "      <td>0</td>\n",
       "    </tr>\n",
       "    <tr>\n",
       "      <th>3</th>\n",
       "      <td>0</td>\n",
       "      <td>0</td>\n",
       "      <td>0</td>\n",
       "      <td>0</td>\n",
       "      <td>0</td>\n",
       "      <td>0</td>\n",
       "      <td>1</td>\n",
       "      <td>0</td>\n",
       "      <td>0</td>\n",
       "      <td>0</td>\n",
       "      <td>...</td>\n",
       "      <td>0</td>\n",
       "      <td>0</td>\n",
       "      <td>0</td>\n",
       "      <td>0</td>\n",
       "      <td>0</td>\n",
       "      <td>0</td>\n",
       "      <td>0</td>\n",
       "      <td>0</td>\n",
       "      <td>0</td>\n",
       "      <td>0</td>\n",
       "    </tr>\n",
       "    <tr>\n",
       "      <th>4</th>\n",
       "      <td>0</td>\n",
       "      <td>0</td>\n",
       "      <td>0</td>\n",
       "      <td>0</td>\n",
       "      <td>0</td>\n",
       "      <td>0</td>\n",
       "      <td>0</td>\n",
       "      <td>0</td>\n",
       "      <td>0</td>\n",
       "      <td>0</td>\n",
       "      <td>...</td>\n",
       "      <td>0</td>\n",
       "      <td>0</td>\n",
       "      <td>0</td>\n",
       "      <td>0</td>\n",
       "      <td>0</td>\n",
       "      <td>0</td>\n",
       "      <td>0</td>\n",
       "      <td>0</td>\n",
       "      <td>0</td>\n",
       "      <td>0</td>\n",
       "    </tr>\n",
       "    <tr>\n",
       "      <th>...</th>\n",
       "      <td>...</td>\n",
       "      <td>...</td>\n",
       "      <td>...</td>\n",
       "      <td>...</td>\n",
       "      <td>...</td>\n",
       "      <td>...</td>\n",
       "      <td>...</td>\n",
       "      <td>...</td>\n",
       "      <td>...</td>\n",
       "      <td>...</td>\n",
       "      <td>...</td>\n",
       "      <td>...</td>\n",
       "      <td>...</td>\n",
       "      <td>...</td>\n",
       "      <td>...</td>\n",
       "      <td>...</td>\n",
       "      <td>...</td>\n",
       "      <td>...</td>\n",
       "      <td>...</td>\n",
       "      <td>...</td>\n",
       "      <td>...</td>\n",
       "    </tr>\n",
       "    <tr>\n",
       "      <th>92</th>\n",
       "      <td>0</td>\n",
       "      <td>0</td>\n",
       "      <td>0</td>\n",
       "      <td>0</td>\n",
       "      <td>0</td>\n",
       "      <td>0</td>\n",
       "      <td>0</td>\n",
       "      <td>0</td>\n",
       "      <td>0</td>\n",
       "      <td>0</td>\n",
       "      <td>...</td>\n",
       "      <td>0</td>\n",
       "      <td>0</td>\n",
       "      <td>0</td>\n",
       "      <td>0</td>\n",
       "      <td>0</td>\n",
       "      <td>0</td>\n",
       "      <td>0</td>\n",
       "      <td>0</td>\n",
       "      <td>0</td>\n",
       "      <td>0</td>\n",
       "    </tr>\n",
       "    <tr>\n",
       "      <th>93</th>\n",
       "      <td>0</td>\n",
       "      <td>0</td>\n",
       "      <td>0</td>\n",
       "      <td>0</td>\n",
       "      <td>0</td>\n",
       "      <td>0</td>\n",
       "      <td>0</td>\n",
       "      <td>0</td>\n",
       "      <td>0</td>\n",
       "      <td>0</td>\n",
       "      <td>...</td>\n",
       "      <td>0</td>\n",
       "      <td>0</td>\n",
       "      <td>0</td>\n",
       "      <td>0</td>\n",
       "      <td>0</td>\n",
       "      <td>0</td>\n",
       "      <td>1</td>\n",
       "      <td>1</td>\n",
       "      <td>1</td>\n",
       "      <td>0</td>\n",
       "    </tr>\n",
       "    <tr>\n",
       "      <th>94</th>\n",
       "      <td>0</td>\n",
       "      <td>0</td>\n",
       "      <td>0</td>\n",
       "      <td>0</td>\n",
       "      <td>0</td>\n",
       "      <td>0</td>\n",
       "      <td>0</td>\n",
       "      <td>0</td>\n",
       "      <td>0</td>\n",
       "      <td>0</td>\n",
       "      <td>...</td>\n",
       "      <td>0</td>\n",
       "      <td>0</td>\n",
       "      <td>0</td>\n",
       "      <td>0</td>\n",
       "      <td>0</td>\n",
       "      <td>0</td>\n",
       "      <td>0</td>\n",
       "      <td>0</td>\n",
       "      <td>0</td>\n",
       "      <td>0</td>\n",
       "    </tr>\n",
       "    <tr>\n",
       "      <th>95</th>\n",
       "      <td>0</td>\n",
       "      <td>0</td>\n",
       "      <td>0</td>\n",
       "      <td>0</td>\n",
       "      <td>0</td>\n",
       "      <td>0</td>\n",
       "      <td>0</td>\n",
       "      <td>0</td>\n",
       "      <td>0</td>\n",
       "      <td>0</td>\n",
       "      <td>...</td>\n",
       "      <td>0</td>\n",
       "      <td>0</td>\n",
       "      <td>0</td>\n",
       "      <td>0</td>\n",
       "      <td>0</td>\n",
       "      <td>0</td>\n",
       "      <td>0</td>\n",
       "      <td>0</td>\n",
       "      <td>0</td>\n",
       "      <td>0</td>\n",
       "    </tr>\n",
       "    <tr>\n",
       "      <th>96</th>\n",
       "      <td>0</td>\n",
       "      <td>0</td>\n",
       "      <td>0</td>\n",
       "      <td>0</td>\n",
       "      <td>0</td>\n",
       "      <td>0</td>\n",
       "      <td>0</td>\n",
       "      <td>0</td>\n",
       "      <td>0</td>\n",
       "      <td>0</td>\n",
       "      <td>...</td>\n",
       "      <td>0</td>\n",
       "      <td>0</td>\n",
       "      <td>0</td>\n",
       "      <td>0</td>\n",
       "      <td>0</td>\n",
       "      <td>0</td>\n",
       "      <td>0</td>\n",
       "      <td>0</td>\n",
       "      <td>0</td>\n",
       "      <td>0</td>\n",
       "    </tr>\n",
       "  </tbody>\n",
       "</table>\n",
       "<p>97 rows × 137 columns</p>\n",
       "</div>"
      ],
      "text/plain": [
       "    abilities  activism  adulthood  adventure  age  alcohol  aliteracy  \\\n",
       "0           0         0          0          0    0        0          0   \n",
       "1           1         0          0          0    0        0          0   \n",
       "2           0         0          0          0    0        0          0   \n",
       "3           0         0          0          0    0        0          1   \n",
       "4           0         0          0          0    0        0          0   \n",
       "..        ...       ...        ...        ...  ...      ...        ...   \n",
       "92          0         0          0          0    0        0          0   \n",
       "93          0         0          0          0    0        0          0   \n",
       "94          0         0          0          0    0        0          0   \n",
       "95          0         0          0          0    0        0          0   \n",
       "96          0         0          0          0    0        0          0   \n",
       "\n",
       "    apathy  attributed  attributed-no-source  ...  unhappy-marriage  value  \\\n",
       "0        0           0                     0  ...                 0      0   \n",
       "1        0           0                     0  ...                 0      0   \n",
       "2        0           0                     0  ...                 0      0   \n",
       "3        0           0                     0  ...                 0      0   \n",
       "4        0           0                     0  ...                 0      0   \n",
       "..     ...         ...                   ...  ...               ...    ...   \n",
       "92       0           0                     0  ...                 0      0   \n",
       "93       0           0                     0  ...                 0      0   \n",
       "94       0           0                     0  ...                 0      0   \n",
       "95       0           0                     0  ...                 0      0   \n",
       "96       0           0                     0  ...                 0      0   \n",
       "\n",
       "    wander  wisdom  women  world  write  writers  writing  yourself  \n",
       "0        0       0      0      1      0        0        0         0  \n",
       "1        0       0      0      0      0        0        0         0  \n",
       "2        0       0      0      0      0        0        0         0  \n",
       "3        0       0      0      0      0        0        0         0  \n",
       "4        0       0      0      0      0        0        0         0  \n",
       "..     ...     ...    ...    ...    ...      ...      ...       ...  \n",
       "92       0       0      0      0      0        0        0         0  \n",
       "93       0       0      0      0      1        1        1         0  \n",
       "94       0       0      0      0      0        0        0         0  \n",
       "95       0       0      0      0      0        0        0         0  \n",
       "96       0       0      0      0      0        0        0         0  \n",
       "\n",
       "[97 rows x 137 columns]"
      ]
     },
     "execution_count": 38,
     "metadata": {},
     "output_type": "execute_result"
    }
   ],
   "source": [
    "from sklearn.preprocessing import MultiLabelBinarizer\n",
    "\n",
    "tags_new = []\n",
    "for i in df['tags']:\n",
    "    tags_new.append(i.split(',')) #for each tags cell, create a list of items from the original string, using a comma as a delimeter\n",
    "    \n",
    "#add new tags column to the dataframe\n",
    "df['tags_new'] = tags_new \n",
    "\n",
    "## MultiLabelBinarizer takes an iterable list and turns it into columns with binary values that represent the list.\n",
    "## For example, [Comedy, Drama] -> Comedy and Drama columns with a value of 1, all other columns with a value of 0\n",
    "\n",
    "#initialize MultiLabelBinarizer \n",
    "mlb = MultiLabelBinarizer() \n",
    "\n",
    "#transform the tags_new column to a series of columns with binary values\n",
    "binary_labels = pd.DataFrame(mlb.fit_transform(df['tags_new']),columns=mlb.classes_) \n",
    "\n",
    "\n",
    "#order columns alphabetically\n",
    "binary_labels = binary_labels.sort_index(axis=1) \n",
    "\n",
    "binary_labels"
   ]
  },
  {
   "cell_type": "code",
   "execution_count": 39,
   "metadata": {},
   "outputs": [],
   "source": [
    "# binary_labels.to_csv(r'target/binary_labels.csv', index=False)"
   ]
  },
  {
   "cell_type": "code",
   "execution_count": 40,
   "metadata": {},
   "outputs": [],
   "source": [
    "# #Drop non-properly formatted columns\n",
    "# df_all = df_all.drop(columns=['author', 'link_author','tags_new'])\n",
    "# df_all.head(7)"
   ]
  },
  {
   "cell_type": "code",
   "execution_count": 41,
   "metadata": {},
   "outputs": [],
   "source": [
    "tags_dict = {}\n",
    "# รัน for loop เพื่อเก็บ tags และจำนวนที่เจอ ไว้ใน dict\n",
    "for column in binary_labels:\n",
    "    sum_num = binary_labels[column].sum(axis=0)\n",
    "    tags_dict.update({column : sum_num})\n",
    "    \n",
    "# sort dict\n",
    "sort_tags_dict = {k: v for k, v in sorted(tags_dict.items(), key=lambda item: item[1], reverse = True)};"
   ]
  },
  {
   "cell_type": "code",
   "execution_count": 42,
   "metadata": {},
   "outputs": [
    {
     "data": {
      "text/plain": [
       "['love',\n",
       " 'inspirational',\n",
       " 'life',\n",
       " 'humor',\n",
       " 'books',\n",
       " 'reading',\n",
       " 'friendship',\n",
       " 'friends',\n",
       " 'truth',\n",
       " 'attributed-no-source',\n",
       " 'death',\n",
       " 'simile',\n",
       " 'writing',\n",
       " 'children',\n",
       " 'classic']"
      ]
     },
     "execution_count": 42,
     "metadata": {},
     "output_type": "execute_result"
    }
   ],
   "source": [
    "# tags ที่มีเยอะสุด 15 tags แรก\n",
    "top15_tags = list(sort_tags_dict)[:15]\n",
    "top15_tags"
   ]
  },
  {
   "cell_type": "code",
   "execution_count": 43,
   "metadata": {},
   "outputs": [
    {
     "data": {
      "image/png": "[encoded data removed]",
      "text/plain": [
       "<Figure size 3960x2016 with 1 Axes>"
      ]
     },
     "metadata": {},
     "output_type": "display_data"
    }
   ],
   "source": [
    "import seaborn as sns\n",
    "import matplotlib.pyplot as plt\n",
    "\n",
    "x = top15_tags\n",
    "y = []\n",
    "for i in top15_tags:\n",
    "    y.append(sort_tags_dict[i])\n",
    "\n",
    "sns.set(font_scale = 3)\n",
    "plt.figure(figsize=(55,28))\n",
    "ax = sns.barplot(x, y)\n",
    "plt.title(\"Tags having multiple labels Top 15\", fontsize=50)\n",
    "plt.ylabel('Frequency', fontsize=35)\n",
    "plt.xlabel('Name of tags', fontsize=35)\n",
    "\n",
    "#adding the text labels\n",
    "rects = ax.patches\n",
    "labels = y\n",
    "for rect, label in zip(rects, labels):\n",
    "    height = rect.get_height()\n",
    "    ax.text(rect.get_x() + rect.get_width()/2, height+1/5, label, ha='center', va='bottom', fontsize=35)\n",
    "plt.show()"
   ]
  },
  {
   "cell_type": "code",
   "execution_count": 44,
   "metadata": {},
   "outputs": [
    {
     "data": {
      "text/html": [
       "<div>\n",
       "<style scoped>\n",
       "    .dataframe tbody tr th:only-of-type {\n",
       "        vertical-align: middle;\n",
       "    }\n",
       "\n",
       "    .dataframe tbody tr th {\n",
       "        vertical-align: top;\n",
       "    }\n",
       "\n",
       "    .dataframe thead th {\n",
       "        text-align: right;\n",
       "    }\n",
       "</style>\n",
       "<table border=\"1\" class=\"dataframe\">\n",
       "  <thead>\n",
       "    <tr style=\"text-align: right;\">\n",
       "      <th></th>\n",
       "      <th>content</th>\n",
       "      <th>author</th>\n",
       "      <th>tags</th>\n",
       "      <th>link_author</th>\n",
       "      <th>tags_new</th>\n",
       "      <th>abilities</th>\n",
       "      <th>activism</th>\n",
       "      <th>adulthood</th>\n",
       "      <th>adventure</th>\n",
       "      <th>age</th>\n",
       "      <th>...</th>\n",
       "      <th>unhappy-marriage</th>\n",
       "      <th>value</th>\n",
       "      <th>wander</th>\n",
       "      <th>wisdom</th>\n",
       "      <th>women</th>\n",
       "      <th>world</th>\n",
       "      <th>write</th>\n",
       "      <th>writers</th>\n",
       "      <th>writing</th>\n",
       "      <th>yourself</th>\n",
       "    </tr>\n",
       "  </thead>\n",
       "  <tbody>\n",
       "    <tr>\n",
       "      <th>0</th>\n",
       "      <td>The world as we have created it is a process o...</td>\n",
       "      <td>Albert Einstein</td>\n",
       "      <td>change,deep-thoughts,thinking,world</td>\n",
       "      <td>https://quotes.toscrape.com/author/Albert-Eins...</td>\n",
       "      <td>[change, deep-thoughts, thinking, world]</td>\n",
       "      <td>0</td>\n",
       "      <td>0</td>\n",
       "      <td>0</td>\n",
       "      <td>0</td>\n",
       "      <td>0</td>\n",
       "      <td>...</td>\n",
       "      <td>0</td>\n",
       "      <td>0</td>\n",
       "      <td>0</td>\n",
       "      <td>0</td>\n",
       "      <td>0</td>\n",
       "      <td>1</td>\n",
       "      <td>0</td>\n",
       "      <td>0</td>\n",
       "      <td>0</td>\n",
       "      <td>0</td>\n",
       "    </tr>\n",
       "    <tr>\n",
       "      <th>1</th>\n",
       "      <td>It is our choices, Harry, that show what we tr...</td>\n",
       "      <td>J.K. Rowling</td>\n",
       "      <td>abilities,choices</td>\n",
       "      <td>https://quotes.toscrape.com/author/J-K-Rowling/</td>\n",
       "      <td>[abilities, choices]</td>\n",
       "      <td>1</td>\n",
       "      <td>0</td>\n",
       "      <td>0</td>\n",
       "      <td>0</td>\n",
       "      <td>0</td>\n",
       "      <td>...</td>\n",
       "      <td>0</td>\n",
       "      <td>0</td>\n",
       "      <td>0</td>\n",
       "      <td>0</td>\n",
       "      <td>0</td>\n",
       "      <td>0</td>\n",
       "      <td>0</td>\n",
       "      <td>0</td>\n",
       "      <td>0</td>\n",
       "      <td>0</td>\n",
       "    </tr>\n",
       "    <tr>\n",
       "      <th>2</th>\n",
       "      <td>There are only two ways to live your life. One...</td>\n",
       "      <td>Albert Einstein</td>\n",
       "      <td>inspirational,life,live,miracle,miracles</td>\n",
       "      <td>https://quotes.toscrape.com/author/Albert-Eins...</td>\n",
       "      <td>[inspirational, life, live, miracle, miracles]</td>\n",
       "      <td>0</td>\n",
       "      <td>0</td>\n",
       "      <td>0</td>\n",
       "      <td>0</td>\n",
       "      <td>0</td>\n",
       "      <td>...</td>\n",
       "      <td>0</td>\n",
       "      <td>0</td>\n",
       "      <td>0</td>\n",
       "      <td>0</td>\n",
       "      <td>0</td>\n",
       "      <td>0</td>\n",
       "      <td>0</td>\n",
       "      <td>0</td>\n",
       "      <td>0</td>\n",
       "      <td>0</td>\n",
       "    </tr>\n",
       "    <tr>\n",
       "      <th>3</th>\n",
       "      <td>The person, be it gentleman or lady, who has n...</td>\n",
       "      <td>Jane Austen</td>\n",
       "      <td>aliteracy,books,classic,humor</td>\n",
       "      <td>https://quotes.toscrape.com/author/Jane-Austen/</td>\n",
       "      <td>[aliteracy, books, classic, humor]</td>\n",
       "      <td>0</td>\n",
       "      <td>0</td>\n",
       "      <td>0</td>\n",
       "      <td>0</td>\n",
       "      <td>0</td>\n",
       "      <td>...</td>\n",
       "      <td>0</td>\n",
       "      <td>0</td>\n",
       "      <td>0</td>\n",
       "      <td>0</td>\n",
       "      <td>0</td>\n",
       "      <td>0</td>\n",
       "      <td>0</td>\n",
       "      <td>0</td>\n",
       "      <td>0</td>\n",
       "      <td>0</td>\n",
       "    </tr>\n",
       "    <tr>\n",
       "      <th>4</th>\n",
       "      <td>Imperfection is beauty, madness is genius and ...</td>\n",
       "      <td>Marilyn Monroe</td>\n",
       "      <td>be-yourself,inspirational</td>\n",
       "      <td>https://quotes.toscrape.com/author/Marilyn-Mon...</td>\n",
       "      <td>[be-yourself, inspirational]</td>\n",
       "      <td>0</td>\n",
       "      <td>0</td>\n",
       "      <td>0</td>\n",
       "      <td>0</td>\n",
       "      <td>0</td>\n",
       "      <td>...</td>\n",
       "      <td>0</td>\n",
       "      <td>0</td>\n",
       "      <td>0</td>\n",
       "      <td>0</td>\n",
       "      <td>0</td>\n",
       "      <td>0</td>\n",
       "      <td>0</td>\n",
       "      <td>0</td>\n",
       "      <td>0</td>\n",
       "      <td>0</td>\n",
       "    </tr>\n",
       "    <tr>\n",
       "      <th>...</th>\n",
       "      <td>...</td>\n",
       "      <td>...</td>\n",
       "      <td>...</td>\n",
       "      <td>...</td>\n",
       "      <td>...</td>\n",
       "      <td>...</td>\n",
       "      <td>...</td>\n",
       "      <td>...</td>\n",
       "      <td>...</td>\n",
       "      <td>...</td>\n",
       "      <td>...</td>\n",
       "      <td>...</td>\n",
       "      <td>...</td>\n",
       "      <td>...</td>\n",
       "      <td>...</td>\n",
       "      <td>...</td>\n",
       "      <td>...</td>\n",
       "      <td>...</td>\n",
       "      <td>...</td>\n",
       "      <td>...</td>\n",
       "      <td>...</td>\n",
       "    </tr>\n",
       "    <tr>\n",
       "      <th>92</th>\n",
       "      <td>To die will be an awfully big adventure.</td>\n",
       "      <td>J.M. Barrie</td>\n",
       "      <td>adventure,love</td>\n",
       "      <td>https://quotes.toscrape.com/author/J-M-Barrie/</td>\n",
       "      <td>[adventure, love]</td>\n",
       "      <td>0</td>\n",
       "      <td>0</td>\n",
       "      <td>0</td>\n",
       "      <td>0</td>\n",
       "      <td>0</td>\n",
       "      <td>...</td>\n",
       "      <td>0</td>\n",
       "      <td>0</td>\n",
       "      <td>0</td>\n",
       "      <td>0</td>\n",
       "      <td>0</td>\n",
       "      <td>0</td>\n",
       "      <td>0</td>\n",
       "      <td>0</td>\n",
       "      <td>0</td>\n",
       "      <td>0</td>\n",
       "    </tr>\n",
       "    <tr>\n",
       "      <th>93</th>\n",
       "      <td>It takes courage to grow up and become who you...</td>\n",
       "      <td>E.E. Cummings</td>\n",
       "      <td>courage</td>\n",
       "      <td>https://quotes.toscrape.com/author/E-E-Cummings/</td>\n",
       "      <td>[courage]</td>\n",
       "      <td>0</td>\n",
       "      <td>0</td>\n",
       "      <td>0</td>\n",
       "      <td>0</td>\n",
       "      <td>0</td>\n",
       "      <td>...</td>\n",
       "      <td>0</td>\n",
       "      <td>0</td>\n",
       "      <td>0</td>\n",
       "      <td>0</td>\n",
       "      <td>0</td>\n",
       "      <td>0</td>\n",
       "      <td>1</td>\n",
       "      <td>1</td>\n",
       "      <td>1</td>\n",
       "      <td>0</td>\n",
       "    </tr>\n",
       "    <tr>\n",
       "      <th>94</th>\n",
       "      <td>But better to get hurt by the truth than comfo...</td>\n",
       "      <td>Khaled Hosseini</td>\n",
       "      <td>life</td>\n",
       "      <td>https://quotes.toscrape.com/author/Khaled-Hoss...</td>\n",
       "      <td>[life]</td>\n",
       "      <td>0</td>\n",
       "      <td>0</td>\n",
       "      <td>0</td>\n",
       "      <td>0</td>\n",
       "      <td>0</td>\n",
       "      <td>...</td>\n",
       "      <td>0</td>\n",
       "      <td>0</td>\n",
       "      <td>0</td>\n",
       "      <td>0</td>\n",
       "      <td>0</td>\n",
       "      <td>0</td>\n",
       "      <td>0</td>\n",
       "      <td>0</td>\n",
       "      <td>0</td>\n",
       "      <td>0</td>\n",
       "    </tr>\n",
       "    <tr>\n",
       "      <th>95</th>\n",
       "      <td>You never really understand a person until you...</td>\n",
       "      <td>Harper Lee</td>\n",
       "      <td>better-life-empathy</td>\n",
       "      <td>https://quotes.toscrape.com/author/Harper-Lee/</td>\n",
       "      <td>[better-life-empathy]</td>\n",
       "      <td>0</td>\n",
       "      <td>0</td>\n",
       "      <td>0</td>\n",
       "      <td>0</td>\n",
       "      <td>0</td>\n",
       "      <td>...</td>\n",
       "      <td>0</td>\n",
       "      <td>0</td>\n",
       "      <td>0</td>\n",
       "      <td>0</td>\n",
       "      <td>0</td>\n",
       "      <td>0</td>\n",
       "      <td>0</td>\n",
       "      <td>0</td>\n",
       "      <td>0</td>\n",
       "      <td>0</td>\n",
       "    </tr>\n",
       "    <tr>\n",
       "      <th>96</th>\n",
       "      <td>You have to write the book that wants to be wr...</td>\n",
       "      <td>Madeleine L'Engle</td>\n",
       "      <td>books,children,difficult,grown-ups,write,write...</td>\n",
       "      <td>https://quotes.toscrape.com/author/Madeleine-L...</td>\n",
       "      <td>[books, children, difficult, grown-ups, write,...</td>\n",
       "      <td>0</td>\n",
       "      <td>0</td>\n",
       "      <td>0</td>\n",
       "      <td>0</td>\n",
       "      <td>0</td>\n",
       "      <td>...</td>\n",
       "      <td>0</td>\n",
       "      <td>0</td>\n",
       "      <td>0</td>\n",
       "      <td>0</td>\n",
       "      <td>0</td>\n",
       "      <td>0</td>\n",
       "      <td>0</td>\n",
       "      <td>0</td>\n",
       "      <td>0</td>\n",
       "      <td>0</td>\n",
       "    </tr>\n",
       "  </tbody>\n",
       "</table>\n",
       "<p>94 rows × 142 columns</p>\n",
       "</div>"
      ],
      "text/plain": [
       "                                              content             author  \\\n",
       "0   The world as we have created it is a process o...    Albert Einstein   \n",
       "1   It is our choices, Harry, that show what we tr...       J.K. Rowling   \n",
       "2   There are only two ways to live your life. One...    Albert Einstein   \n",
       "3   The person, be it gentleman or lady, who has n...        Jane Austen   \n",
       "4   Imperfection is beauty, madness is genius and ...     Marilyn Monroe   \n",
       "..                                                ...                ...   \n",
       "92           To die will be an awfully big adventure.        J.M. Barrie   \n",
       "93  It takes courage to grow up and become who you...      E.E. Cummings   \n",
       "94  But better to get hurt by the truth than comfo...    Khaled Hosseini   \n",
       "95  You never really understand a person until you...         Harper Lee   \n",
       "96  You have to write the book that wants to be wr...  Madeleine L'Engle   \n",
       "\n",
       "                                                 tags  \\\n",
       "0                 change,deep-thoughts,thinking,world   \n",
       "1                                   abilities,choices   \n",
       "2            inspirational,life,live,miracle,miracles   \n",
       "3                       aliteracy,books,classic,humor   \n",
       "4                           be-yourself,inspirational   \n",
       "..                                                ...   \n",
       "92                                     adventure,love   \n",
       "93                                            courage   \n",
       "94                                               life   \n",
       "95                                better-life-empathy   \n",
       "96  books,children,difficult,grown-ups,write,write...   \n",
       "\n",
       "                                          link_author  \\\n",
       "0   https://quotes.toscrape.com/author/Albert-Eins...   \n",
       "1     https://quotes.toscrape.com/author/J-K-Rowling/   \n",
       "2   https://quotes.toscrape.com/author/Albert-Eins...   \n",
       "3     https://quotes.toscrape.com/author/Jane-Austen/   \n",
       "4   https://quotes.toscrape.com/author/Marilyn-Mon...   \n",
       "..                                                ...   \n",
       "92     https://quotes.toscrape.com/author/J-M-Barrie/   \n",
       "93   https://quotes.toscrape.com/author/E-E-Cummings/   \n",
       "94  https://quotes.toscrape.com/author/Khaled-Hoss...   \n",
       "95     https://quotes.toscrape.com/author/Harper-Lee/   \n",
       "96  https://quotes.toscrape.com/author/Madeleine-L...   \n",
       "\n",
       "                                             tags_new  abilities  activism  \\\n",
       "0            [change, deep-thoughts, thinking, world]          0         0   \n",
       "1                                [abilities, choices]          1         0   \n",
       "2      [inspirational, life, live, miracle, miracles]          0         0   \n",
       "3                  [aliteracy, books, classic, humor]          0         0   \n",
       "4                        [be-yourself, inspirational]          0         0   \n",
       "..                                                ...        ...       ...   \n",
       "92                                  [adventure, love]          0         0   \n",
       "93                                          [courage]          0         0   \n",
       "94                                             [life]          0         0   \n",
       "95                              [better-life-empathy]          0         0   \n",
       "96  [books, children, difficult, grown-ups, write,...          0         0   \n",
       "\n",
       "    adulthood  adventure  age  ...  unhappy-marriage  value  wander  wisdom  \\\n",
       "0           0          0    0  ...                 0      0       0       0   \n",
       "1           0          0    0  ...                 0      0       0       0   \n",
       "2           0          0    0  ...                 0      0       0       0   \n",
       "3           0          0    0  ...                 0      0       0       0   \n",
       "4           0          0    0  ...                 0      0       0       0   \n",
       "..        ...        ...  ...  ...               ...    ...     ...     ...   \n",
       "92          0          0    0  ...                 0      0       0       0   \n",
       "93          0          0    0  ...                 0      0       0       0   \n",
       "94          0          0    0  ...                 0      0       0       0   \n",
       "95          0          0    0  ...                 0      0       0       0   \n",
       "96          0          0    0  ...                 0      0       0       0   \n",
       "\n",
       "    women  world  write  writers  writing  yourself  \n",
       "0       0      1      0        0        0         0  \n",
       "1       0      0      0        0        0         0  \n",
       "2       0      0      0        0        0         0  \n",
       "3       0      0      0        0        0         0  \n",
       "4       0      0      0        0        0         0  \n",
       "..    ...    ...    ...      ...      ...       ...  \n",
       "92      0      0      0        0        0         0  \n",
       "93      0      0      1        1        1         0  \n",
       "94      0      0      0        0        0         0  \n",
       "95      0      0      0        0        0         0  \n",
       "96      0      0      0        0        0         0  \n",
       "\n",
       "[94 rows x 142 columns]"
      ]
     },
     "execution_count": 44,
     "metadata": {},
     "output_type": "execute_result"
    }
   ],
   "source": [
    "#bring data frames together\n",
    "df_all = df.merge(binary_labels, how='inner', left_index=True, right_index=True)\n",
    "df_all"
   ]
  },
  {
   "cell_type": "code",
   "execution_count": 45,
   "metadata": {
    "scrolled": true
   },
   "outputs": [
    {
     "data": {
      "text/html": [
       "<div>\n",
       "<style scoped>\n",
       "    .dataframe tbody tr th:only-of-type {\n",
       "        vertical-align: middle;\n",
       "    }\n",
       "\n",
       "    .dataframe tbody tr th {\n",
       "        vertical-align: top;\n",
       "    }\n",
       "\n",
       "    .dataframe thead th {\n",
       "        text-align: right;\n",
       "    }\n",
       "</style>\n",
       "<table border=\"1\" class=\"dataframe\">\n",
       "  <thead>\n",
       "    <tr style=\"text-align: right;\">\n",
       "      <th></th>\n",
       "      <th>content</th>\n",
       "      <th>tags</th>\n",
       "      <th>love</th>\n",
       "      <th>inspirational</th>\n",
       "      <th>life</th>\n",
       "      <th>humor</th>\n",
       "      <th>books</th>\n",
       "      <th>reading</th>\n",
       "      <th>friendship</th>\n",
       "      <th>friends</th>\n",
       "      <th>truth</th>\n",
       "      <th>attributed-no-source</th>\n",
       "      <th>death</th>\n",
       "      <th>simile</th>\n",
       "      <th>writing</th>\n",
       "      <th>children</th>\n",
       "      <th>classic</th>\n",
       "    </tr>\n",
       "  </thead>\n",
       "  <tbody>\n",
       "    <tr>\n",
       "      <th>0</th>\n",
       "      <td>The world as we have created it is a process o...</td>\n",
       "      <td>change,deep-thoughts,thinking,world</td>\n",
       "      <td>0</td>\n",
       "      <td>0</td>\n",
       "      <td>0</td>\n",
       "      <td>0</td>\n",
       "      <td>0</td>\n",
       "      <td>0</td>\n",
       "      <td>0</td>\n",
       "      <td>0</td>\n",
       "      <td>0</td>\n",
       "      <td>0</td>\n",
       "      <td>0</td>\n",
       "      <td>0</td>\n",
       "      <td>0</td>\n",
       "      <td>0</td>\n",
       "      <td>0</td>\n",
       "    </tr>\n",
       "    <tr>\n",
       "      <th>1</th>\n",
       "      <td>It is our choices, Harry, that show what we tr...</td>\n",
       "      <td>abilities,choices</td>\n",
       "      <td>0</td>\n",
       "      <td>0</td>\n",
       "      <td>0</td>\n",
       "      <td>0</td>\n",
       "      <td>0</td>\n",
       "      <td>0</td>\n",
       "      <td>0</td>\n",
       "      <td>0</td>\n",
       "      <td>0</td>\n",
       "      <td>0</td>\n",
       "      <td>0</td>\n",
       "      <td>0</td>\n",
       "      <td>0</td>\n",
       "      <td>0</td>\n",
       "      <td>0</td>\n",
       "    </tr>\n",
       "    <tr>\n",
       "      <th>2</th>\n",
       "      <td>There are only two ways to live your life. One...</td>\n",
       "      <td>inspirational,life,live,miracle,miracles</td>\n",
       "      <td>0</td>\n",
       "      <td>1</td>\n",
       "      <td>1</td>\n",
       "      <td>0</td>\n",
       "      <td>0</td>\n",
       "      <td>0</td>\n",
       "      <td>0</td>\n",
       "      <td>0</td>\n",
       "      <td>0</td>\n",
       "      <td>0</td>\n",
       "      <td>0</td>\n",
       "      <td>0</td>\n",
       "      <td>0</td>\n",
       "      <td>0</td>\n",
       "      <td>0</td>\n",
       "    </tr>\n",
       "    <tr>\n",
       "      <th>3</th>\n",
       "      <td>The person, be it gentleman or lady, who has n...</td>\n",
       "      <td>aliteracy,books,classic,humor</td>\n",
       "      <td>0</td>\n",
       "      <td>0</td>\n",
       "      <td>0</td>\n",
       "      <td>1</td>\n",
       "      <td>1</td>\n",
       "      <td>0</td>\n",
       "      <td>0</td>\n",
       "      <td>0</td>\n",
       "      <td>0</td>\n",
       "      <td>0</td>\n",
       "      <td>0</td>\n",
       "      <td>0</td>\n",
       "      <td>0</td>\n",
       "      <td>0</td>\n",
       "      <td>1</td>\n",
       "    </tr>\n",
       "    <tr>\n",
       "      <th>4</th>\n",
       "      <td>Imperfection is beauty, madness is genius and ...</td>\n",
       "      <td>be-yourself,inspirational</td>\n",
       "      <td>0</td>\n",
       "      <td>1</td>\n",
       "      <td>0</td>\n",
       "      <td>0</td>\n",
       "      <td>0</td>\n",
       "      <td>0</td>\n",
       "      <td>0</td>\n",
       "      <td>0</td>\n",
       "      <td>0</td>\n",
       "      <td>0</td>\n",
       "      <td>0</td>\n",
       "      <td>0</td>\n",
       "      <td>0</td>\n",
       "      <td>0</td>\n",
       "      <td>0</td>\n",
       "    </tr>\n",
       "    <tr>\n",
       "      <th>...</th>\n",
       "      <td>...</td>\n",
       "      <td>...</td>\n",
       "      <td>...</td>\n",
       "      <td>...</td>\n",
       "      <td>...</td>\n",
       "      <td>...</td>\n",
       "      <td>...</td>\n",
       "      <td>...</td>\n",
       "      <td>...</td>\n",
       "      <td>...</td>\n",
       "      <td>...</td>\n",
       "      <td>...</td>\n",
       "      <td>...</td>\n",
       "      <td>...</td>\n",
       "      <td>...</td>\n",
       "      <td>...</td>\n",
       "      <td>...</td>\n",
       "    </tr>\n",
       "    <tr>\n",
       "      <th>92</th>\n",
       "      <td>To die will be an awfully big adventure.</td>\n",
       "      <td>adventure,love</td>\n",
       "      <td>0</td>\n",
       "      <td>0</td>\n",
       "      <td>0</td>\n",
       "      <td>0</td>\n",
       "      <td>0</td>\n",
       "      <td>0</td>\n",
       "      <td>0</td>\n",
       "      <td>0</td>\n",
       "      <td>0</td>\n",
       "      <td>0</td>\n",
       "      <td>0</td>\n",
       "      <td>0</td>\n",
       "      <td>0</td>\n",
       "      <td>0</td>\n",
       "      <td>0</td>\n",
       "    </tr>\n",
       "    <tr>\n",
       "      <th>93</th>\n",
       "      <td>It takes courage to grow up and become who you...</td>\n",
       "      <td>courage</td>\n",
       "      <td>0</td>\n",
       "      <td>0</td>\n",
       "      <td>0</td>\n",
       "      <td>0</td>\n",
       "      <td>1</td>\n",
       "      <td>0</td>\n",
       "      <td>0</td>\n",
       "      <td>0</td>\n",
       "      <td>0</td>\n",
       "      <td>0</td>\n",
       "      <td>0</td>\n",
       "      <td>0</td>\n",
       "      <td>1</td>\n",
       "      <td>1</td>\n",
       "      <td>0</td>\n",
       "    </tr>\n",
       "    <tr>\n",
       "      <th>94</th>\n",
       "      <td>But better to get hurt by the truth than comfo...</td>\n",
       "      <td>life</td>\n",
       "      <td>0</td>\n",
       "      <td>0</td>\n",
       "      <td>0</td>\n",
       "      <td>0</td>\n",
       "      <td>0</td>\n",
       "      <td>0</td>\n",
       "      <td>0</td>\n",
       "      <td>0</td>\n",
       "      <td>1</td>\n",
       "      <td>0</td>\n",
       "      <td>0</td>\n",
       "      <td>0</td>\n",
       "      <td>0</td>\n",
       "      <td>0</td>\n",
       "      <td>0</td>\n",
       "    </tr>\n",
       "    <tr>\n",
       "      <th>95</th>\n",
       "      <td>You never really understand a person until you...</td>\n",
       "      <td>better-life-empathy</td>\n",
       "      <td>0</td>\n",
       "      <td>1</td>\n",
       "      <td>0</td>\n",
       "      <td>0</td>\n",
       "      <td>0</td>\n",
       "      <td>0</td>\n",
       "      <td>0</td>\n",
       "      <td>0</td>\n",
       "      <td>0</td>\n",
       "      <td>0</td>\n",
       "      <td>0</td>\n",
       "      <td>0</td>\n",
       "      <td>0</td>\n",
       "      <td>0</td>\n",
       "      <td>0</td>\n",
       "    </tr>\n",
       "    <tr>\n",
       "      <th>96</th>\n",
       "      <td>You have to write the book that wants to be wr...</td>\n",
       "      <td>books,children,difficult,grown-ups,write,write...</td>\n",
       "      <td>0</td>\n",
       "      <td>0</td>\n",
       "      <td>0</td>\n",
       "      <td>0</td>\n",
       "      <td>1</td>\n",
       "      <td>0</td>\n",
       "      <td>0</td>\n",
       "      <td>0</td>\n",
       "      <td>0</td>\n",
       "      <td>0</td>\n",
       "      <td>0</td>\n",
       "      <td>0</td>\n",
       "      <td>0</td>\n",
       "      <td>0</td>\n",
       "      <td>0</td>\n",
       "    </tr>\n",
       "  </tbody>\n",
       "</table>\n",
       "<p>94 rows × 17 columns</p>\n",
       "</div>"
      ],
      "text/plain": [
       "                                              content  \\\n",
       "0   The world as we have created it is a process o...   \n",
       "1   It is our choices, Harry, that show what we tr...   \n",
       "2   There are only two ways to live your life. One...   \n",
       "3   The person, be it gentleman or lady, who has n...   \n",
       "4   Imperfection is beauty, madness is genius and ...   \n",
       "..                                                ...   \n",
       "92           To die will be an awfully big adventure.   \n",
       "93  It takes courage to grow up and become who you...   \n",
       "94  But better to get hurt by the truth than comfo...   \n",
       "95  You never really understand a person until you...   \n",
       "96  You have to write the book that wants to be wr...   \n",
       "\n",
       "                                                 tags  love  inspirational  \\\n",
       "0                 change,deep-thoughts,thinking,world     0              0   \n",
       "1                                   abilities,choices     0              0   \n",
       "2            inspirational,life,live,miracle,miracles     0              1   \n",
       "3                       aliteracy,books,classic,humor     0              0   \n",
       "4                           be-yourself,inspirational     0              1   \n",
       "..                                                ...   ...            ...   \n",
       "92                                     adventure,love     0              0   \n",
       "93                                            courage     0              0   \n",
       "94                                               life     0              0   \n",
       "95                                better-life-empathy     0              1   \n",
       "96  books,children,difficult,grown-ups,write,write...     0              0   \n",
       "\n",
       "    life  humor  books  reading  friendship  friends  truth  \\\n",
       "0      0      0      0        0           0        0      0   \n",
       "1      0      0      0        0           0        0      0   \n",
       "2      1      0      0        0           0        0      0   \n",
       "3      0      1      1        0           0        0      0   \n",
       "4      0      0      0        0           0        0      0   \n",
       "..   ...    ...    ...      ...         ...      ...    ...   \n",
       "92     0      0      0        0           0        0      0   \n",
       "93     0      0      1        0           0        0      0   \n",
       "94     0      0      0        0           0        0      1   \n",
       "95     0      0      0        0           0        0      0   \n",
       "96     0      0      1        0           0        0      0   \n",
       "\n",
       "    attributed-no-source  death  simile  writing  children  classic  \n",
       "0                      0      0       0        0         0        0  \n",
       "1                      0      0       0        0         0        0  \n",
       "2                      0      0       0        0         0        0  \n",
       "3                      0      0       0        0         0        1  \n",
       "4                      0      0       0        0         0        0  \n",
       "..                   ...    ...     ...      ...       ...      ...  \n",
       "92                     0      0       0        0         0        0  \n",
       "93                     0      0       0        1         1        0  \n",
       "94                     0      0       0        0         0        0  \n",
       "95                     0      0       0        0         0        0  \n",
       "96                     0      0       0        0         0        0  \n",
       "\n",
       "[94 rows x 17 columns]"
      ]
     },
     "execution_count": 45,
     "metadata": {},
     "output_type": "execute_result"
    }
   ],
   "source": [
    "# select column\n",
    "df_all = df_all[[\"content\", \"tags\"] + top15_tags]\n",
    "df_all"
   ]
  },
  {
   "cell_type": "code",
   "execution_count": null,
   "metadata": {},
   "outputs": [],
   "source": []
  },
  {
   "cell_type": "markdown",
   "metadata": {},
   "source": [
    "### คัดให้เหลือเฉพาะที่ใช้ในการวิเคราะห์\n",
    "- AllArticles_OnlyHeading\n",
    "- AllArticles_OnlyContent\n",
    "- AllArticles_HeadingPlusContent\n",
    "- Category"
   ]
  },
  {
   "cell_type": "code",
   "execution_count": 46,
   "metadata": {},
   "outputs": [],
   "source": [
    "# AllArticles_OnlyHeading = df['title']\n",
    "AllArticles_OnlyContent = df_all['content']\n",
    "# AllArticles_HeadingPlusContent = df_all[['title','content']]\n",
    "tags = df_all['tags']"
   ]
  },
  {
   "cell_type": "markdown",
   "metadata": {},
   "source": [
    "**csv**"
   ]
  },
  {
   "cell_type": "code",
   "execution_count": 47,
   "metadata": {},
   "outputs": [],
   "source": [
    "# AllArticles_OnlyHeading.to_csv('datastore/AllArticles_OnlyHeading.csv', index=False)"
   ]
  },
  {
   "cell_type": "code",
   "execution_count": 48,
   "metadata": {},
   "outputs": [],
   "source": [
    "AllArticles_OnlyContent.to_csv('datastore/AllArticles_OnlyContent.csv', index=False)"
   ]
  },
  {
   "cell_type": "code",
   "execution_count": 49,
   "metadata": {},
   "outputs": [],
   "source": [
    "# AllArticles_HeadingPlusContent.to_csv('datastore/AllArticles_HeadingPlusContent.csv', index=False)"
   ]
  },
  {
   "cell_type": "code",
   "execution_count": 50,
   "metadata": {},
   "outputs": [],
   "source": [
    "tags.to_csv('target/tags.csv', index=False)"
   ]
  },
  {
   "cell_type": "markdown",
   "metadata": {},
   "source": [
    "**txt**"
   ]
  },
  {
   "cell_type": "code",
   "execution_count": 51,
   "metadata": {},
   "outputs": [],
   "source": [
    "# AllArticles_OnlyHeading.to_csv(r'AllArticles_OnlyHeading.txt', header=None, index=None, sep=' ', mode='a')"
   ]
  },
  {
   "cell_type": "code",
   "execution_count": 52,
   "metadata": {},
   "outputs": [],
   "source": [
    "AllArticles_OnlyContent.to_csv(r'AllArticles_OnlyContent.txt', header=None, index=None, sep=' ', mode='a')"
   ]
  },
  {
   "cell_type": "code",
   "execution_count": 53,
   "metadata": {},
   "outputs": [],
   "source": [
    "# AllArticles_HeadingPlusContent.to_csv(r'AllArticles_HeadingPlusContent.txt', header=None, index=None, sep=' ', mode='a')"
   ]
  },
  {
   "cell_type": "code",
   "execution_count": 54,
   "metadata": {},
   "outputs": [],
   "source": [
    "tags.to_csv(r'target/tags.txt', header=None, index=None, sep=' ', mode='a')"
   ]
  },
  {
   "cell_type": "code",
   "execution_count": 55,
   "metadata": {},
   "outputs": [],
   "source": [
    "binary_labels.to_csv(r'target/tags3.txt', header=None, index=None, sep=' ', mode='a')"
   ]
  },
  {
   "cell_type": "code",
   "execution_count": null,
   "metadata": {},
   "outputs": [],
   "source": []
  },
  {
   "cell_type": "code",
   "execution_count": 56,
   "metadata": {},
   "outputs": [],
   "source": [
    "#-----------------------------------------Tokenizer and WordNet Lemmatizer with POS (part of speech)--------------------------------------\n",
    "def lemma_tokenizer_w_pos_tag(text):\n",
    "    # define a nested function for converting POS tag for Lemmatizer\n",
    "    def convert_tags(tag):\n",
    "        if tag == 'vbd' or tag == 'vbg' or tag == 'vbz':\n",
    "            return 'v'\n",
    "        else: \n",
    "            return 'n'\n",
    "    \n",
    "    #-----------------------------------------------Using WordNet Lemmatizer-----------------------------------------\n",
    "    # use the standard scikit-learn tokenizer first\n",
    "    standard_tokenizer = CountVectorizer().build_tokenizer()\n",
    "    tokens = standard_tokenizer(text)\n",
    "    tokens_with_pos_tag = nltk.pos_tag(tokens)\n",
    "\n",
    "    # then use NLTK to perform lemmatisation on each token\n",
    "    lemmatizer = nltk.WordNetLemmatizer()\n",
    "    lemma_tokens = []\n",
    "    for token in tokens_with_pos_tag:\n",
    "        new_tag = convert_tags(token[1].lower())\n",
    "        lemma_tokens.append(lemmatizer.lemmatize(token[0], new_tag))\n",
    "    \n",
    "    return lemma_tokens"
   ]
  },
  {
   "cell_type": "code",
   "execution_count": 57,
   "metadata": {},
   "outputs": [
    {
     "name": "stdout",
     "output_type": "stream",
     "text": [
      "Read 188 raw text documents\n"
     ]
    }
   ],
   "source": [
    "fin = open(\"AllArticles_OnlyContent.txt\",\"r\", encoding=\"utf8\")\n",
    "raw_documents = fin.readlines()\n",
    "fin.close()\n",
    "print(\"Read %d raw text documents\" % len(raw_documents))"
   ]
  },
  {
   "cell_type": "code",
   "execution_count": 58,
   "metadata": {},
   "outputs": [],
   "source": [
    "# with open(\"datastore/AllArticles_OnlyContent.txt\",\"r\", encoding=\"utf8\") as f:\n",
    "#     raw_documents = f.read().splitlines() #ใช้แยก string ที่จุดขึ้นบรรทัดใหม่คือ จุดที่มี '\\n' แล้วคืนค่ากลับมาเป็นข้อมูลประเภท list\n",
    "# f.close()\n",
    "# print(\"Read %d raw text documents\" % len(raw_documents))"
   ]
  },
  {
   "cell_type": "code",
   "execution_count": 59,
   "metadata": {},
   "outputs": [
    {
     "data": {
      "text/plain": [
       "'\"The world as we have created it is a process of our thinking. It cannot be changed without changing our thinking.\"\\n'"
      ]
     },
     "execution_count": 59,
     "metadata": {},
     "output_type": "execute_result"
    }
   ],
   "source": [
    "raw_documents[0]"
   ]
  },
  {
   "cell_type": "code",
   "execution_count": 60,
   "metadata": {},
   "outputs": [
    {
     "data": {
      "text/plain": [
       "'The world as we have created it is a process of our thinking. It cannot be changed without changing our thinking.'"
      ]
     },
     "execution_count": 60,
     "metadata": {},
     "output_type": "execute_result"
    }
   ],
   "source": [
    "df_all['content'][0]"
   ]
  },
  {
   "cell_type": "code",
   "execution_count": 61,
   "metadata": {},
   "outputs": [],
   "source": [
    "# pd.Series(y).value_counts()"
   ]
  },
  {
   "cell_type": "code",
   "execution_count": 62,
   "metadata": {},
   "outputs": [
    {
     "data": {
      "text/plain": [
       "['The',\n",
       " 'world',\n",
       " 'a',\n",
       " 'we',\n",
       " 'have',\n",
       " 'created',\n",
       " 'it',\n",
       " 'be',\n",
       " 'process',\n",
       " 'of',\n",
       " 'our',\n",
       " 'think',\n",
       " 'It',\n",
       " 'cannot',\n",
       " 'be',\n",
       " 'changed',\n",
       " 'without',\n",
       " 'change',\n",
       " 'our',\n",
       " 'thinking']"
      ]
     },
     "execution_count": 62,
     "metadata": {},
     "output_type": "execute_result"
    }
   ],
   "source": [
    "lemma_tokenizer_w_pos_tag(df_all['content'][0])"
   ]
  },
  {
   "cell_type": "code",
   "execution_count": 63,
   "metadata": {},
   "outputs": [
    {
     "data": {
      "text/plain": [
       "Index(['love', 'inspirational', 'life', 'humor', 'books', 'reading',\n",
       "       'friendship', 'friends', 'truth', 'attributed-no-source', 'death',\n",
       "       'simile', 'writing', 'children', 'classic'],\n",
       "      dtype='object')"
      ]
     },
     "execution_count": 63,
     "metadata": {},
     "output_type": "execute_result"
    }
   ],
   "source": [
    "# df_all['love'][1]\n",
    "df_all.columns[2::]"
   ]
  },
  {
   "cell_type": "code",
   "execution_count": 64,
   "metadata": {},
   "outputs": [
    {
     "data": {
      "text/plain": [
       "(94, 17)"
      ]
     },
     "execution_count": 64,
     "metadata": {},
     "output_type": "execute_result"
    }
   ],
   "source": [
    "df_all.shape"
   ]
  },
  {
   "cell_type": "code",
   "execution_count": 65,
   "metadata": {},
   "outputs": [],
   "source": [
    "# # def y_tags()\n",
    "# for j in range(94):\n",
    "#     for i in df_all.columns[2::]:\n",
    "#         print(df_all[i][j])"
   ]
  },
  {
   "cell_type": "markdown",
   "metadata": {},
   "source": [
    "# <span style=\"color:red\">K-Nearest Neighbors<span>"
   ]
  },
  {
   "cell_type": "code",
   "execution_count": 66,
   "metadata": {
    "scrolled": true
   },
   "outputs": [
    {
     "name": "stderr",
     "output_type": "stream",
     "text": [
      "[nltk_data] Downloading package averaged_perceptron_tagger to\n",
      "[nltk_data]     C:\\Users\\Pin\\AppData\\Roaming\\nltk_data...\n",
      "[nltk_data]   Package averaged_perceptron_tagger is already up-to-\n",
      "[nltk_data]       date!\n"
     ]
    },
    {
     "data": {
      "text/plain": [
       "True"
      ]
     },
     "execution_count": 66,
     "metadata": {},
     "output_type": "execute_result"
    }
   ],
   "source": [
    "import nltk\n",
    "nltk.download('averaged_perceptron_tagger')"
   ]
  },
  {
   "cell_type": "code",
   "execution_count": 67,
   "metadata": {},
   "outputs": [
    {
     "data": {
      "text/plain": [
       "['love',\n",
       " 'inspirational',\n",
       " 'life',\n",
       " 'humor',\n",
       " 'books',\n",
       " 'reading',\n",
       " 'friendship',\n",
       " 'friends',\n",
       " 'truth',\n",
       " 'attributed-no-source',\n",
       " 'death',\n",
       " 'simile',\n",
       " 'writing',\n",
       " 'children',\n",
       " 'classic']"
      ]
     },
     "execution_count": 67,
     "metadata": {},
     "output_type": "execute_result"
    }
   ],
   "source": [
    "top15_tags"
   ]
  },
  {
   "cell_type": "code",
   "execution_count": 68,
   "metadata": {},
   "outputs": [],
   "source": [
    "from sklearn.model_selection import train_test_split\n",
    "\n",
    "def train_test_data(tags_name):\n",
    "    x = df_all['content']\n",
    "#     x = raw_documents\n",
    "    y = df_all[tags_name]\n",
    "    X_train, X_test, y_train, y_test = train_test_split(x, y, random_state=42, test_size=0.1) #, shuffle=True\n",
    "    return X_train, X_test, y_train, y_test"
   ]
  },
  {
   "cell_type": "code",
   "execution_count": 69,
   "metadata": {},
   "outputs": [],
   "source": [
    "X_train, X_test, y_train, y_test = train_test_data('love')"
   ]
  },
  {
   "cell_type": "code",
   "execution_count": 70,
   "metadata": {},
   "outputs": [
    {
     "name": "stdout",
     "output_type": "stream",
     "text": [
      "(84,)\n",
      "(10,)\n",
      "(84,)\n",
      "(10,)\n"
     ]
    }
   ],
   "source": [
    "print(X_train.shape)\n",
    "print(X_test.shape)\n",
    "print(y_train.shape)\n",
    "print(y_test.shape)"
   ]
  },
  {
   "cell_type": "code",
   "execution_count": null,
   "metadata": {},
   "outputs": [],
   "source": []
  },
  {
   "cell_type": "code",
   "execution_count": 71,
   "metadata": {},
   "outputs": [],
   "source": [
    "pipe = Pipeline([\n",
    "    ('vect', CountVectorizer(stop_words=\"english\",min_df = 0,tokenizer=lemma_tokenizer_w_pos_tag)),\n",
    "    ('tfidf', TfidfTransformer()),\n",
    "]).fit(X_train)"
   ]
  },
  {
   "cell_type": "code",
   "execution_count": 72,
   "metadata": {},
   "outputs": [],
   "source": [
    "vectorizer = TfidfVectorizer(analyzer='word', ngram_range=(1,3),min_df = 0, \n",
    "                             stop_words = 'english', sublinear_tf=True, lowercase=True)"
   ]
  },
  {
   "cell_type": "code",
   "execution_count": 73,
   "metadata": {},
   "outputs": [],
   "source": [
    "params = { \n",
    "    'n_neighbors' : list(np.arange(1,50,2)),\n",
    "    'weights' : ['uniform', 'distance'], \n",
    "    'metric' : ['euclidean', 'manhattan'] \n",
    "}"
   ]
  },
  {
   "cell_type": "markdown",
   "metadata": {},
   "source": [
    "Tunning parameter "
   ]
  },
  {
   "cell_type": "code",
   "execution_count": 74,
   "metadata": {
    "scrolled": true
   },
   "outputs": [
    {
     "name": "stdout",
     "output_type": "stream",
     "text": [
      "Fitting 5 folds for each of 100 candidates, totalling 500 fits\n"
     ]
    },
    {
     "name": "stderr",
     "output_type": "stream",
     "text": [
      "[Parallel(n_jobs=-1)]: Using backend LokyBackend with 8 concurrent workers.\n",
      "[Parallel(n_jobs=-1)]: Done  16 tasks      | elapsed:    4.7s\n",
      "[Parallel(n_jobs=-1)]: Done 378 tasks      | elapsed:    5.4s\n",
      "[Parallel(n_jobs=-1)]: Done 500 out of 500 | elapsed:    5.6s finished\n"
     ]
    },
    {
     "name": "stdout",
     "output_type": "stream",
     "text": [
      "love -> Accuracy: 0.881 (0.324)\n",
      "Precision Score: 0.400\n",
      "recall Score: 0.500\n",
      "Fitting 5 folds for each of 100 candidates, totalling 500 fits\n"
     ]
    },
    {
     "name": "stderr",
     "output_type": "stream",
     "text": [
      "[Parallel(n_jobs=-1)]: Using backend LokyBackend with 8 concurrent workers.\n",
      "[Parallel(n_jobs=-1)]: Done  16 tasks      | elapsed:    0.0s\n",
      "[Parallel(n_jobs=-1)]: Done 500 out of 500 | elapsed:    0.8s finished\n"
     ]
    },
    {
     "name": "stdout",
     "output_type": "stream",
     "text": [
      "inspirational -> Accuracy: 0.893 (0.309)\n",
      "Precision Score: 0.300\n",
      "recall Score: 0.500\n",
      "Fitting 5 folds for each of 100 candidates, totalling 500 fits\n"
     ]
    },
    {
     "name": "stderr",
     "output_type": "stream",
     "text": [
      "[Parallel(n_jobs=-1)]: Using backend LokyBackend with 8 concurrent workers.\n",
      "[Parallel(n_jobs=-1)]: Done  16 tasks      | elapsed:    0.0s\n",
      "[Parallel(n_jobs=-1)]: Done 500 out of 500 | elapsed:    0.7s finished\n"
     ]
    },
    {
     "name": "stdout",
     "output_type": "stream",
     "text": [
      "life -> Accuracy: 0.869 (0.337)\n",
      "Precision Score: 0.400\n",
      "recall Score: 0.500\n",
      "Fitting 5 folds for each of 100 candidates, totalling 500 fits\n"
     ]
    },
    {
     "name": "stderr",
     "output_type": "stream",
     "text": [
      "[Parallel(n_jobs=-1)]: Using backend LokyBackend with 8 concurrent workers.\n",
      "[Parallel(n_jobs=-1)]: Done  16 tasks      | elapsed:    0.0s\n",
      "[Parallel(n_jobs=-1)]: Done 500 out of 500 | elapsed:    0.7s finished\n"
     ]
    },
    {
     "name": "stdout",
     "output_type": "stream",
     "text": [
      "humor -> Accuracy: 0.869 (0.337)\n",
      "Precision Score: 0.450\n",
      "recall Score: 0.500\n",
      "Fitting 5 folds for each of 100 candidates, totalling 500 fits\n"
     ]
    },
    {
     "name": "stderr",
     "output_type": "stream",
     "text": [
      "[Parallel(n_jobs=-1)]: Using backend LokyBackend with 8 concurrent workers.\n",
      "[Parallel(n_jobs=-1)]: Done  16 tasks      | elapsed:    0.0s\n",
      "[Parallel(n_jobs=-1)]: Done 500 out of 500 | elapsed:    0.7s finished\n"
     ]
    },
    {
     "name": "stdout",
     "output_type": "stream",
     "text": [
      "books -> Accuracy: 0.893 (0.309)\n",
      "Precision Score: 0.450\n",
      "recall Score: 0.500\n",
      "Fitting 5 folds for each of 100 candidates, totalling 500 fits\n"
     ]
    },
    {
     "name": "stderr",
     "output_type": "stream",
     "text": [
      "[Parallel(n_jobs=-1)]: Using backend LokyBackend with 8 concurrent workers.\n",
      "[Parallel(n_jobs=-1)]: Done  16 tasks      | elapsed:    0.0s\n",
      "[Parallel(n_jobs=-1)]: Done 500 out of 500 | elapsed:    0.5s finished\n"
     ]
    },
    {
     "name": "stdout",
     "output_type": "stream",
     "text": [
      "reading -> Accuracy: 0.929 (0.258)\n",
      "Precision Score: 0.450\n",
      "recall Score: 0.500\n",
      "Fitting 5 folds for each of 100 candidates, totalling 500 fits\n"
     ]
    },
    {
     "name": "stderr",
     "output_type": "stream",
     "text": [
      "[Parallel(n_jobs=-1)]: Using backend LokyBackend with 8 concurrent workers.\n",
      "[Parallel(n_jobs=-1)]: Done  16 tasks      | elapsed:    0.0s\n",
      "[Parallel(n_jobs=-1)]: Done 500 out of 500 | elapsed:    0.6s finished\n"
     ]
    },
    {
     "name": "stdout",
     "output_type": "stream",
     "text": [
      "friendship -> Accuracy: 0.940 (0.237)\n",
      "Precision Score: 1.000\n",
      "recall Score: 1.000\n",
      "Fitting 5 folds for each of 100 candidates, totalling 500 fits\n"
     ]
    },
    {
     "name": "stderr",
     "output_type": "stream",
     "text": [
      "[Parallel(n_jobs=-1)]: Using backend LokyBackend with 8 concurrent workers.\n",
      "[Parallel(n_jobs=-1)]: Done  16 tasks      | elapsed:    0.0s\n",
      "[Parallel(n_jobs=-1)]: Done 500 out of 500 | elapsed:    0.6s finished\n"
     ]
    },
    {
     "name": "stdout",
     "output_type": "stream",
     "text": [
      "friends -> Accuracy: 0.964 (0.186)\n",
      "Precision Score: 0.450\n",
      "recall Score: 0.500\n",
      "Fitting 5 folds for each of 100 candidates, totalling 500 fits\n"
     ]
    },
    {
     "name": "stderr",
     "output_type": "stream",
     "text": [
      "[Parallel(n_jobs=-1)]: Using backend LokyBackend with 8 concurrent workers.\n",
      "[Parallel(n_jobs=-1)]: Done  16 tasks      | elapsed:    0.0s\n",
      "[Parallel(n_jobs=-1)]: Done 500 out of 500 | elapsed:    0.6s finished\n"
     ]
    },
    {
     "name": "stdout",
     "output_type": "stream",
     "text": [
      "truth -> Accuracy: 0.952 (0.213)\n",
      "Precision Score: 1.000\n",
      "recall Score: 1.000\n",
      "Fitting 5 folds for each of 100 candidates, totalling 500 fits\n"
     ]
    },
    {
     "name": "stderr",
     "output_type": "stream",
     "text": [
      "[Parallel(n_jobs=-1)]: Using backend LokyBackend with 8 concurrent workers.\n",
      "[Parallel(n_jobs=-1)]: Done  16 tasks      | elapsed:    0.0s\n",
      "[Parallel(n_jobs=-1)]: Done 500 out of 500 | elapsed:    0.5s finished\n"
     ]
    },
    {
     "name": "stdout",
     "output_type": "stream",
     "text": [
      "attributed-no-source -> Accuracy: 0.976 (0.152)\n",
      "Precision Score: 0.450\n",
      "recall Score: 0.500\n",
      "Fitting 5 folds for each of 100 candidates, totalling 500 fits\n"
     ]
    },
    {
     "name": "stderr",
     "output_type": "stream",
     "text": [
      "[Parallel(n_jobs=-1)]: Using backend LokyBackend with 8 concurrent workers.\n",
      "[Parallel(n_jobs=-1)]: Done  16 tasks      | elapsed:    0.0s\n",
      "[Parallel(n_jobs=-1)]: Done 500 out of 500 | elapsed:    0.6s finished\n"
     ]
    },
    {
     "name": "stdout",
     "output_type": "stream",
     "text": [
      "death -> Accuracy: 0.964 (0.186)\n",
      "Precision Score: 1.000\n",
      "recall Score: 1.000\n",
      "Fitting 5 folds for each of 100 candidates, totalling 500 fits\n"
     ]
    },
    {
     "name": "stderr",
     "output_type": "stream",
     "text": [
      "[Parallel(n_jobs=-1)]: Using backend LokyBackend with 8 concurrent workers.\n",
      "[Parallel(n_jobs=-1)]: Done  16 tasks      | elapsed:    0.0s\n",
      "[Parallel(n_jobs=-1)]: Done 500 out of 500 | elapsed:    0.7s finished\n"
     ]
    },
    {
     "name": "stdout",
     "output_type": "stream",
     "text": [
      "simile -> Accuracy: 0.976 (0.152)\n",
      "Precision Score: 1.000\n",
      "recall Score: 1.000\n",
      "Fitting 5 folds for each of 100 candidates, totalling 500 fits\n"
     ]
    },
    {
     "name": "stderr",
     "output_type": "stream",
     "text": [
      "[Parallel(n_jobs=-1)]: Using backend LokyBackend with 8 concurrent workers.\n",
      "[Parallel(n_jobs=-1)]: Done  16 tasks      | elapsed:    0.0s\n",
      "[Parallel(n_jobs=-1)]: Done 500 out of 500 | elapsed:    0.6s finished\n"
     ]
    },
    {
     "name": "stdout",
     "output_type": "stream",
     "text": [
      "writing -> Accuracy: 0.964 (0.186)\n",
      "Precision Score: 1.000\n",
      "recall Score: 1.000\n",
      "Fitting 5 folds for each of 100 candidates, totalling 500 fits\n"
     ]
    },
    {
     "name": "stderr",
     "output_type": "stream",
     "text": [
      "[Parallel(n_jobs=-1)]: Using backend LokyBackend with 8 concurrent workers.\n",
      "[Parallel(n_jobs=-1)]: Done  16 tasks      | elapsed:    0.0s\n",
      "[Parallel(n_jobs=-1)]: Done 500 out of 500 | elapsed:    0.6s finished\n"
     ]
    },
    {
     "name": "stdout",
     "output_type": "stream",
     "text": [
      "children -> Accuracy: 0.988 (0.108)\n",
      "Precision Score: 0.450\n",
      "recall Score: 0.500\n",
      "Fitting 5 folds for each of 100 candidates, totalling 500 fits\n"
     ]
    },
    {
     "name": "stderr",
     "output_type": "stream",
     "text": [
      "[Parallel(n_jobs=-1)]: Using backend LokyBackend with 8 concurrent workers.\n",
      "[Parallel(n_jobs=-1)]: Done  16 tasks      | elapsed:    0.0s\n"
     ]
    },
    {
     "name": "stdout",
     "output_type": "stream",
     "text": [
      "classic -> Accuracy: 0.976 (0.152)\n",
      "Precision Score: 1.000\n",
      "recall Score: 1.000\n"
     ]
    },
    {
     "name": "stderr",
     "output_type": "stream",
     "text": [
      "[Parallel(n_jobs=-1)]: Done 500 out of 500 | elapsed:    0.6s finished\n"
     ]
    }
   ],
   "source": [
    "from numpy import mean\n",
    "from numpy import std\n",
    "from sklearn.model_selection import LeaveOneOut\n",
    "from sklearn.model_selection import cross_val_score\n",
    "from sklearn import metrics\n",
    "from sklearn.metrics import precision_score\n",
    "from sklearn.metrics import recall_score\n",
    "\n",
    "accuracy_knn_list = []\n",
    "precision_knn_list = []\n",
    "recall_knn_list = []\n",
    "\n",
    "for tags_name in top15_tags:\n",
    "    X_train, X_test, y_train, y_test = train_test_data(tags_name)\n",
    "    X_train = pipe.transform(X_train)\n",
    "    X_new_tfidf = pipe.transform(X_test)\n",
    "\n",
    "#     folds = 5 \n",
    "    knn = KNeighborsClassifier() \n",
    "    skf = StratifiedKFold(n_splits=5, shuffle = True, random_state = 1001) \n",
    "    knn_grid = GridSearchCV(knn, params, verbose = 3, cv=skf.split(X_train,y_train), n_jobs = -1)\n",
    "    knn_grid.fit(X_train, y_train);\n",
    "#     print(knn_grid.best_params_)\n",
    "#     k_list.append(knn_grid.best_params_['n_neighbors'])\n",
    "    \n",
    "    \n",
    "    knn=KNeighborsClassifier(metric=knn_grid.best_params_['metric'], \n",
    "                             n_neighbors=knn_grid.best_params_['n_neighbors'], \n",
    "                             weights=knn_grid.best_params_['weights'])\n",
    "    knn.fit(X_train, y_train)\n",
    "    cv = LeaveOneOut()\n",
    "    scores = cross_val_score(knn, X_train, y_train, scoring='accuracy', cv=cv, n_jobs = -1)\n",
    "    accuracy_knn_list.append(mean(scores))\n",
    "    print('%s -> Accuracy: %.3f (%.3f)' % (tags_name ,mean(scores), std(scores)))\n",
    "    \n",
    "    knn_pred = knn.predict(X_new_tfidf)\n",
    "    precision = metrics.precision_score(y_test, knn_pred, average='macro')\n",
    "    precision_knn_list.append(precision)\n",
    "    print('Precision Score: %.3f' % precision)\n",
    "    \n",
    "    recall = metrics.recall_score(y_test, knn_pred, average='macro')\n",
    "    recall_knn_list.append(recall)\n",
    "    print('recall Score: %.3f' % recall)\n"
   ]
  },
  {
   "cell_type": "code",
   "execution_count": 75,
   "metadata": {},
   "outputs": [
    {
     "data": {
      "text/plain": [
       "[0.5, 0.5, 0.5, 0.5, 0.5, 0.5, 1.0, 0.5, 1.0, 0.5, 1.0, 1.0, 1.0, 0.5, 1.0]"
      ]
     },
     "execution_count": 75,
     "metadata": {},
     "output_type": "execute_result"
    }
   ],
   "source": [
    "recall_knn_list"
   ]
  },
  {
   "cell_type": "code",
   "execution_count": 76,
   "metadata": {},
   "outputs": [
    {
     "data": {
      "text/html": [
       "<style  type=\"text/css\" >\n",
       "#T_b115d4e4_3b70_11eb_9284_0433c2baf4a9row15_col0,#T_b115d4e4_3b70_11eb_9284_0433c2baf4a9row15_col1,#T_b115d4e4_3b70_11eb_9284_0433c2baf4a9row15_col2,#T_b115d4e4_3b70_11eb_9284_0433c2baf4a9row15_col3{\n",
       "            background-color:  yellow;\n",
       "        }</style><table id=\"T_b115d4e4_3b70_11eb_9284_0433c2baf4a9\" ><thead>    <tr>        <th class=\"blank level0\" ></th>        <th class=\"col_heading level0 col0\" >Tags</th>        <th class=\"col_heading level0 col1\" >Accuracy</th>        <th class=\"col_heading level0 col2\" >Precision</th>        <th class=\"col_heading level0 col3\" >Recall</th>    </tr></thead><tbody>\n",
       "                <tr>\n",
       "                        <th id=\"T_b115d4e4_3b70_11eb_9284_0433c2baf4a9level0_row0\" class=\"row_heading level0 row0\" >0</th>\n",
       "                        <td id=\"T_b115d4e4_3b70_11eb_9284_0433c2baf4a9row0_col0\" class=\"data row0 col0\" >friendship</td>\n",
       "                        <td id=\"T_b115d4e4_3b70_11eb_9284_0433c2baf4a9row0_col1\" class=\"data row0 col1\" >0.940476</td>\n",
       "                        <td id=\"T_b115d4e4_3b70_11eb_9284_0433c2baf4a9row0_col2\" class=\"data row0 col2\" >1.000000</td>\n",
       "                        <td id=\"T_b115d4e4_3b70_11eb_9284_0433c2baf4a9row0_col3\" class=\"data row0 col3\" >1.000000</td>\n",
       "            </tr>\n",
       "            <tr>\n",
       "                        <th id=\"T_b115d4e4_3b70_11eb_9284_0433c2baf4a9level0_row1\" class=\"row_heading level0 row1\" >1</th>\n",
       "                        <td id=\"T_b115d4e4_3b70_11eb_9284_0433c2baf4a9row1_col0\" class=\"data row1 col0\" >truth</td>\n",
       "                        <td id=\"T_b115d4e4_3b70_11eb_9284_0433c2baf4a9row1_col1\" class=\"data row1 col1\" >0.952381</td>\n",
       "                        <td id=\"T_b115d4e4_3b70_11eb_9284_0433c2baf4a9row1_col2\" class=\"data row1 col2\" >1.000000</td>\n",
       "                        <td id=\"T_b115d4e4_3b70_11eb_9284_0433c2baf4a9row1_col3\" class=\"data row1 col3\" >1.000000</td>\n",
       "            </tr>\n",
       "            <tr>\n",
       "                        <th id=\"T_b115d4e4_3b70_11eb_9284_0433c2baf4a9level0_row2\" class=\"row_heading level0 row2\" >2</th>\n",
       "                        <td id=\"T_b115d4e4_3b70_11eb_9284_0433c2baf4a9row2_col0\" class=\"data row2 col0\" >death</td>\n",
       "                        <td id=\"T_b115d4e4_3b70_11eb_9284_0433c2baf4a9row2_col1\" class=\"data row2 col1\" >0.964286</td>\n",
       "                        <td id=\"T_b115d4e4_3b70_11eb_9284_0433c2baf4a9row2_col2\" class=\"data row2 col2\" >1.000000</td>\n",
       "                        <td id=\"T_b115d4e4_3b70_11eb_9284_0433c2baf4a9row2_col3\" class=\"data row2 col3\" >1.000000</td>\n",
       "            </tr>\n",
       "            <tr>\n",
       "                        <th id=\"T_b115d4e4_3b70_11eb_9284_0433c2baf4a9level0_row3\" class=\"row_heading level0 row3\" >3</th>\n",
       "                        <td id=\"T_b115d4e4_3b70_11eb_9284_0433c2baf4a9row3_col0\" class=\"data row3 col0\" >simile</td>\n",
       "                        <td id=\"T_b115d4e4_3b70_11eb_9284_0433c2baf4a9row3_col1\" class=\"data row3 col1\" >0.976190</td>\n",
       "                        <td id=\"T_b115d4e4_3b70_11eb_9284_0433c2baf4a9row3_col2\" class=\"data row3 col2\" >1.000000</td>\n",
       "                        <td id=\"T_b115d4e4_3b70_11eb_9284_0433c2baf4a9row3_col3\" class=\"data row3 col3\" >1.000000</td>\n",
       "            </tr>\n",
       "            <tr>\n",
       "                        <th id=\"T_b115d4e4_3b70_11eb_9284_0433c2baf4a9level0_row4\" class=\"row_heading level0 row4\" >4</th>\n",
       "                        <td id=\"T_b115d4e4_3b70_11eb_9284_0433c2baf4a9row4_col0\" class=\"data row4 col0\" >writing</td>\n",
       "                        <td id=\"T_b115d4e4_3b70_11eb_9284_0433c2baf4a9row4_col1\" class=\"data row4 col1\" >0.964286</td>\n",
       "                        <td id=\"T_b115d4e4_3b70_11eb_9284_0433c2baf4a9row4_col2\" class=\"data row4 col2\" >1.000000</td>\n",
       "                        <td id=\"T_b115d4e4_3b70_11eb_9284_0433c2baf4a9row4_col3\" class=\"data row4 col3\" >1.000000</td>\n",
       "            </tr>\n",
       "            <tr>\n",
       "                        <th id=\"T_b115d4e4_3b70_11eb_9284_0433c2baf4a9level0_row5\" class=\"row_heading level0 row5\" >5</th>\n",
       "                        <td id=\"T_b115d4e4_3b70_11eb_9284_0433c2baf4a9row5_col0\" class=\"data row5 col0\" >classic</td>\n",
       "                        <td id=\"T_b115d4e4_3b70_11eb_9284_0433c2baf4a9row5_col1\" class=\"data row5 col1\" >0.976190</td>\n",
       "                        <td id=\"T_b115d4e4_3b70_11eb_9284_0433c2baf4a9row5_col2\" class=\"data row5 col2\" >1.000000</td>\n",
       "                        <td id=\"T_b115d4e4_3b70_11eb_9284_0433c2baf4a9row5_col3\" class=\"data row5 col3\" >1.000000</td>\n",
       "            </tr>\n",
       "            <tr>\n",
       "                        <th id=\"T_b115d4e4_3b70_11eb_9284_0433c2baf4a9level0_row6\" class=\"row_heading level0 row6\" >6</th>\n",
       "                        <td id=\"T_b115d4e4_3b70_11eb_9284_0433c2baf4a9row6_col0\" class=\"data row6 col0\" >humor</td>\n",
       "                        <td id=\"T_b115d4e4_3b70_11eb_9284_0433c2baf4a9row6_col1\" class=\"data row6 col1\" >0.869048</td>\n",
       "                        <td id=\"T_b115d4e4_3b70_11eb_9284_0433c2baf4a9row6_col2\" class=\"data row6 col2\" >0.450000</td>\n",
       "                        <td id=\"T_b115d4e4_3b70_11eb_9284_0433c2baf4a9row6_col3\" class=\"data row6 col3\" >0.500000</td>\n",
       "            </tr>\n",
       "            <tr>\n",
       "                        <th id=\"T_b115d4e4_3b70_11eb_9284_0433c2baf4a9level0_row7\" class=\"row_heading level0 row7\" >7</th>\n",
       "                        <td id=\"T_b115d4e4_3b70_11eb_9284_0433c2baf4a9row7_col0\" class=\"data row7 col0\" >books</td>\n",
       "                        <td id=\"T_b115d4e4_3b70_11eb_9284_0433c2baf4a9row7_col1\" class=\"data row7 col1\" >0.892857</td>\n",
       "                        <td id=\"T_b115d4e4_3b70_11eb_9284_0433c2baf4a9row7_col2\" class=\"data row7 col2\" >0.450000</td>\n",
       "                        <td id=\"T_b115d4e4_3b70_11eb_9284_0433c2baf4a9row7_col3\" class=\"data row7 col3\" >0.500000</td>\n",
       "            </tr>\n",
       "            <tr>\n",
       "                        <th id=\"T_b115d4e4_3b70_11eb_9284_0433c2baf4a9level0_row8\" class=\"row_heading level0 row8\" >8</th>\n",
       "                        <td id=\"T_b115d4e4_3b70_11eb_9284_0433c2baf4a9row8_col0\" class=\"data row8 col0\" >reading</td>\n",
       "                        <td id=\"T_b115d4e4_3b70_11eb_9284_0433c2baf4a9row8_col1\" class=\"data row8 col1\" >0.928571</td>\n",
       "                        <td id=\"T_b115d4e4_3b70_11eb_9284_0433c2baf4a9row8_col2\" class=\"data row8 col2\" >0.450000</td>\n",
       "                        <td id=\"T_b115d4e4_3b70_11eb_9284_0433c2baf4a9row8_col3\" class=\"data row8 col3\" >0.500000</td>\n",
       "            </tr>\n",
       "            <tr>\n",
       "                        <th id=\"T_b115d4e4_3b70_11eb_9284_0433c2baf4a9level0_row9\" class=\"row_heading level0 row9\" >9</th>\n",
       "                        <td id=\"T_b115d4e4_3b70_11eb_9284_0433c2baf4a9row9_col0\" class=\"data row9 col0\" >friends</td>\n",
       "                        <td id=\"T_b115d4e4_3b70_11eb_9284_0433c2baf4a9row9_col1\" class=\"data row9 col1\" >0.964286</td>\n",
       "                        <td id=\"T_b115d4e4_3b70_11eb_9284_0433c2baf4a9row9_col2\" class=\"data row9 col2\" >0.450000</td>\n",
       "                        <td id=\"T_b115d4e4_3b70_11eb_9284_0433c2baf4a9row9_col3\" class=\"data row9 col3\" >0.500000</td>\n",
       "            </tr>\n",
       "            <tr>\n",
       "                        <th id=\"T_b115d4e4_3b70_11eb_9284_0433c2baf4a9level0_row10\" class=\"row_heading level0 row10\" >10</th>\n",
       "                        <td id=\"T_b115d4e4_3b70_11eb_9284_0433c2baf4a9row10_col0\" class=\"data row10 col0\" >attributed-no-source</td>\n",
       "                        <td id=\"T_b115d4e4_3b70_11eb_9284_0433c2baf4a9row10_col1\" class=\"data row10 col1\" >0.976190</td>\n",
       "                        <td id=\"T_b115d4e4_3b70_11eb_9284_0433c2baf4a9row10_col2\" class=\"data row10 col2\" >0.450000</td>\n",
       "                        <td id=\"T_b115d4e4_3b70_11eb_9284_0433c2baf4a9row10_col3\" class=\"data row10 col3\" >0.500000</td>\n",
       "            </tr>\n",
       "            <tr>\n",
       "                        <th id=\"T_b115d4e4_3b70_11eb_9284_0433c2baf4a9level0_row11\" class=\"row_heading level0 row11\" >11</th>\n",
       "                        <td id=\"T_b115d4e4_3b70_11eb_9284_0433c2baf4a9row11_col0\" class=\"data row11 col0\" >children</td>\n",
       "                        <td id=\"T_b115d4e4_3b70_11eb_9284_0433c2baf4a9row11_col1\" class=\"data row11 col1\" >0.988095</td>\n",
       "                        <td id=\"T_b115d4e4_3b70_11eb_9284_0433c2baf4a9row11_col2\" class=\"data row11 col2\" >0.450000</td>\n",
       "                        <td id=\"T_b115d4e4_3b70_11eb_9284_0433c2baf4a9row11_col3\" class=\"data row11 col3\" >0.500000</td>\n",
       "            </tr>\n",
       "            <tr>\n",
       "                        <th id=\"T_b115d4e4_3b70_11eb_9284_0433c2baf4a9level0_row12\" class=\"row_heading level0 row12\" >12</th>\n",
       "                        <td id=\"T_b115d4e4_3b70_11eb_9284_0433c2baf4a9row12_col0\" class=\"data row12 col0\" >love</td>\n",
       "                        <td id=\"T_b115d4e4_3b70_11eb_9284_0433c2baf4a9row12_col1\" class=\"data row12 col1\" >0.880952</td>\n",
       "                        <td id=\"T_b115d4e4_3b70_11eb_9284_0433c2baf4a9row12_col2\" class=\"data row12 col2\" >0.400000</td>\n",
       "                        <td id=\"T_b115d4e4_3b70_11eb_9284_0433c2baf4a9row12_col3\" class=\"data row12 col3\" >0.500000</td>\n",
       "            </tr>\n",
       "            <tr>\n",
       "                        <th id=\"T_b115d4e4_3b70_11eb_9284_0433c2baf4a9level0_row13\" class=\"row_heading level0 row13\" >13</th>\n",
       "                        <td id=\"T_b115d4e4_3b70_11eb_9284_0433c2baf4a9row13_col0\" class=\"data row13 col0\" >life</td>\n",
       "                        <td id=\"T_b115d4e4_3b70_11eb_9284_0433c2baf4a9row13_col1\" class=\"data row13 col1\" >0.869048</td>\n",
       "                        <td id=\"T_b115d4e4_3b70_11eb_9284_0433c2baf4a9row13_col2\" class=\"data row13 col2\" >0.400000</td>\n",
       "                        <td id=\"T_b115d4e4_3b70_11eb_9284_0433c2baf4a9row13_col3\" class=\"data row13 col3\" >0.500000</td>\n",
       "            </tr>\n",
       "            <tr>\n",
       "                        <th id=\"T_b115d4e4_3b70_11eb_9284_0433c2baf4a9level0_row14\" class=\"row_heading level0 row14\" >14</th>\n",
       "                        <td id=\"T_b115d4e4_3b70_11eb_9284_0433c2baf4a9row14_col0\" class=\"data row14 col0\" >inspirational</td>\n",
       "                        <td id=\"T_b115d4e4_3b70_11eb_9284_0433c2baf4a9row14_col1\" class=\"data row14 col1\" >0.892857</td>\n",
       "                        <td id=\"T_b115d4e4_3b70_11eb_9284_0433c2baf4a9row14_col2\" class=\"data row14 col2\" >0.300000</td>\n",
       "                        <td id=\"T_b115d4e4_3b70_11eb_9284_0433c2baf4a9row14_col3\" class=\"data row14 col3\" >0.500000</td>\n",
       "            </tr>\n",
       "            <tr>\n",
       "                        <th id=\"T_b115d4e4_3b70_11eb_9284_0433c2baf4a9level0_row15\" class=\"row_heading level0 row15\" >15</th>\n",
       "                        <td id=\"T_b115d4e4_3b70_11eb_9284_0433c2baf4a9row15_col0\" class=\"data row15 col0\" >Average</td>\n",
       "                        <td id=\"T_b115d4e4_3b70_11eb_9284_0433c2baf4a9row15_col1\" class=\"data row15 col1\" >0.935714</td>\n",
       "                        <td id=\"T_b115d4e4_3b70_11eb_9284_0433c2baf4a9row15_col2\" class=\"data row15 col2\" >0.653333</td>\n",
       "                        <td id=\"T_b115d4e4_3b70_11eb_9284_0433c2baf4a9row15_col3\" class=\"data row15 col3\" >0.700000</td>\n",
       "            </tr>\n",
       "    </tbody></table>"
      ],
      "text/plain": [
       "<pandas.io.formats.style.Styler at 0x24fa88adbb0>"
      ]
     },
     "execution_count": 76,
     "metadata": {},
     "output_type": "execute_result"
    }
   ],
   "source": [
    "data = {'Tags': np.array(top15_tags), 'Accuracy': np.array(accuracy_knn_list), \n",
    "        'Precision': np.array(precision_knn_list), 'Recall': np.array(recall_knn_list)}\n",
    "df_knn = pd.DataFrame(data=data)\n",
    "df_knn = df_knn.sort_values(by=['Precision'], ascending=False).reset_index(drop=True)\n",
    "\n",
    "# เพิ่ม Row ที่เป็นค่าเฉลี่ยของ Accuracy\n",
    "df_knn = df_knn.append({'Tags' : 'Average' , \n",
    "                        'Accuracy' : (sum(accuracy_knn_list)/15), \n",
    "                        'Precision' : (sum(precision_knn_list)/15),\n",
    "                        'Recall': (sum(recall_knn_list)/15)}, ignore_index=True)\n",
    "\n",
    "# highlight row in Dataframe\n",
    "color = (df_knn['Tags'] == 'Average').map({True: 'background-color: yellow', False: ''})\n",
    "df_knn.style.apply(lambda s: color)"
   ]
  },
  {
   "cell_type": "markdown",
   "metadata": {},
   "source": [
    "KNN Tunning parameter (weighting)"
   ]
  },
  {
   "cell_type": "code",
   "execution_count": 77,
   "metadata": {},
   "outputs": [],
   "source": [
    "from sklearn.feature_extraction.text import CountVectorizer\n",
    "from sklearn.feature_extraction.text import TfidfTransformer\n",
    "from sklearn.feature_extraction.text import TfidfVectorizer"
   ]
  },
  {
   "cell_type": "code",
   "execution_count": 78,
   "metadata": {},
   "outputs": [
    {
     "name": "stdout",
     "output_type": "stream",
     "text": [
      "Fitting 5 folds for each of 100 candidates, totalling 500 fits\n"
     ]
    },
    {
     "name": "stderr",
     "output_type": "stream",
     "text": [
      "[Parallel(n_jobs=-1)]: Using backend LokyBackend with 8 concurrent workers.\n",
      "[Parallel(n_jobs=-1)]: Done  16 tasks      | elapsed:    0.0s\n",
      "[Parallel(n_jobs=-1)]: Done 500 out of 500 | elapsed:    0.6s finished\n"
     ]
    },
    {
     "name": "stdout",
     "output_type": "stream",
     "text": [
      "love -> Accuracy: 0.869 (0.337)\n",
      "Precision Score: 0.400\n",
      "recall Score: 0.500\n",
      "Fitting 5 folds for each of 100 candidates, totalling 500 fits\n"
     ]
    },
    {
     "name": "stderr",
     "output_type": "stream",
     "text": [
      "[Parallel(n_jobs=-1)]: Using backend LokyBackend with 8 concurrent workers.\n",
      "[Parallel(n_jobs=-1)]: Done  16 tasks      | elapsed:    0.0s\n",
      "[Parallel(n_jobs=-1)]: Done 500 out of 500 | elapsed:    0.6s finished\n"
     ]
    },
    {
     "name": "stdout",
     "output_type": "stream",
     "text": [
      "inspirational -> Accuracy: 0.893 (0.309)\n",
      "Precision Score: 0.300\n",
      "recall Score: 0.500\n",
      "Fitting 5 folds for each of 100 candidates, totalling 500 fits\n"
     ]
    },
    {
     "name": "stderr",
     "output_type": "stream",
     "text": [
      "[Parallel(n_jobs=-1)]: Using backend LokyBackend with 8 concurrent workers.\n",
      "[Parallel(n_jobs=-1)]: Done  16 tasks      | elapsed:    0.0s\n",
      "[Parallel(n_jobs=-1)]: Done 500 out of 500 | elapsed:    0.6s finished\n"
     ]
    },
    {
     "name": "stdout",
     "output_type": "stream",
     "text": [
      "life -> Accuracy: 0.881 (0.324)\n",
      "Precision Score: 0.400\n",
      "recall Score: 0.500\n",
      "Fitting 5 folds for each of 100 candidates, totalling 500 fits\n"
     ]
    },
    {
     "name": "stderr",
     "output_type": "stream",
     "text": [
      "[Parallel(n_jobs=-1)]: Using backend LokyBackend with 8 concurrent workers.\n",
      "[Parallel(n_jobs=-1)]: Done  16 tasks      | elapsed:    0.0s\n",
      "[Parallel(n_jobs=-1)]: Done 500 out of 500 | elapsed:    0.6s finished\n"
     ]
    },
    {
     "name": "stdout",
     "output_type": "stream",
     "text": [
      "humor -> Accuracy: 0.881 (0.324)\n",
      "Precision Score: 0.444\n",
      "recall Score: 0.444\n",
      "Fitting 5 folds for each of 100 candidates, totalling 500 fits\n"
     ]
    },
    {
     "name": "stderr",
     "output_type": "stream",
     "text": [
      "[Parallel(n_jobs=-1)]: Using backend LokyBackend with 8 concurrent workers.\n",
      "[Parallel(n_jobs=-1)]: Done  16 tasks      | elapsed:    0.0s\n",
      "[Parallel(n_jobs=-1)]: Done 500 out of 500 | elapsed:    0.6s finished\n"
     ]
    },
    {
     "name": "stdout",
     "output_type": "stream",
     "text": [
      "books -> Accuracy: 0.857 (0.350)\n",
      "Precision Score: 0.450\n",
      "recall Score: 0.500\n",
      "Fitting 5 folds for each of 100 candidates, totalling 500 fits\n"
     ]
    },
    {
     "name": "stderr",
     "output_type": "stream",
     "text": [
      "[Parallel(n_jobs=-1)]: Using backend LokyBackend with 8 concurrent workers.\n",
      "[Parallel(n_jobs=-1)]: Done  16 tasks      | elapsed:    0.0s\n",
      "[Parallel(n_jobs=-1)]: Done 500 out of 500 | elapsed:    0.7s finished\n"
     ]
    },
    {
     "name": "stdout",
     "output_type": "stream",
     "text": [
      "reading -> Accuracy: 0.929 (0.258)\n",
      "Precision Score: 0.450\n",
      "recall Score: 0.500\n",
      "Fitting 5 folds for each of 100 candidates, totalling 500 fits\n"
     ]
    },
    {
     "name": "stderr",
     "output_type": "stream",
     "text": [
      "[Parallel(n_jobs=-1)]: Using backend LokyBackend with 8 concurrent workers.\n",
      "[Parallel(n_jobs=-1)]: Done  16 tasks      | elapsed:    0.0s\n",
      "[Parallel(n_jobs=-1)]: Done 500 out of 500 | elapsed:    0.7s finished\n"
     ]
    },
    {
     "name": "stdout",
     "output_type": "stream",
     "text": [
      "friendship -> Accuracy: 0.929 (0.258)\n",
      "Precision Score: 1.000\n",
      "recall Score: 1.000\n",
      "Fitting 5 folds for each of 100 candidates, totalling 500 fits\n"
     ]
    },
    {
     "name": "stderr",
     "output_type": "stream",
     "text": [
      "[Parallel(n_jobs=-1)]: Using backend LokyBackend with 8 concurrent workers.\n",
      "[Parallel(n_jobs=-1)]: Done  16 tasks      | elapsed:    0.0s\n",
      "[Parallel(n_jobs=-1)]: Done 500 out of 500 | elapsed:    0.7s finished\n"
     ]
    },
    {
     "name": "stdout",
     "output_type": "stream",
     "text": [
      "friends -> Accuracy: 0.964 (0.186)\n",
      "Precision Score: 0.450\n",
      "recall Score: 0.500\n",
      "Fitting 5 folds for each of 100 candidates, totalling 500 fits\n"
     ]
    },
    {
     "name": "stderr",
     "output_type": "stream",
     "text": [
      "[Parallel(n_jobs=-1)]: Using backend LokyBackend with 8 concurrent workers.\n",
      "[Parallel(n_jobs=-1)]: Done  16 tasks      | elapsed:    0.0s\n",
      "[Parallel(n_jobs=-1)]: Done 500 out of 500 | elapsed:    0.6s finished\n"
     ]
    },
    {
     "name": "stdout",
     "output_type": "stream",
     "text": [
      "truth -> Accuracy: 0.952 (0.213)\n",
      "Precision Score: 1.000\n",
      "recall Score: 1.000\n",
      "Fitting 5 folds for each of 100 candidates, totalling 500 fits\n"
     ]
    },
    {
     "name": "stderr",
     "output_type": "stream",
     "text": [
      "[Parallel(n_jobs=-1)]: Using backend LokyBackend with 8 concurrent workers.\n",
      "[Parallel(n_jobs=-1)]: Done  16 tasks      | elapsed:    0.0s\n",
      "[Parallel(n_jobs=-1)]: Done 500 out of 500 | elapsed:    0.6s finished\n"
     ]
    },
    {
     "name": "stdout",
     "output_type": "stream",
     "text": [
      "attributed-no-source -> Accuracy: 0.976 (0.152)\n",
      "Precision Score: 0.450\n",
      "recall Score: 0.500\n",
      "Fitting 5 folds for each of 100 candidates, totalling 500 fits\n"
     ]
    },
    {
     "name": "stderr",
     "output_type": "stream",
     "text": [
      "[Parallel(n_jobs=-1)]: Using backend LokyBackend with 8 concurrent workers.\n",
      "[Parallel(n_jobs=-1)]: Done  16 tasks      | elapsed:    0.0s\n",
      "[Parallel(n_jobs=-1)]: Done 500 out of 500 | elapsed:    0.6s finished\n"
     ]
    },
    {
     "name": "stdout",
     "output_type": "stream",
     "text": [
      "death -> Accuracy: 0.964 (0.186)\n",
      "Precision Score: 1.000\n",
      "recall Score: 1.000\n",
      "Fitting 5 folds for each of 100 candidates, totalling 500 fits\n"
     ]
    },
    {
     "name": "stderr",
     "output_type": "stream",
     "text": [
      "[Parallel(n_jobs=-1)]: Using backend LokyBackend with 8 concurrent workers.\n",
      "[Parallel(n_jobs=-1)]: Done  16 tasks      | elapsed:    0.0s\n",
      "[Parallel(n_jobs=-1)]: Done 500 out of 500 | elapsed:    0.7s finished\n"
     ]
    },
    {
     "name": "stdout",
     "output_type": "stream",
     "text": [
      "simile -> Accuracy: 0.976 (0.152)\n",
      "Precision Score: 1.000\n",
      "recall Score: 1.000\n",
      "Fitting 5 folds for each of 100 candidates, totalling 500 fits\n"
     ]
    },
    {
     "name": "stderr",
     "output_type": "stream",
     "text": [
      "[Parallel(n_jobs=-1)]: Using backend LokyBackend with 8 concurrent workers.\n",
      "[Parallel(n_jobs=-1)]: Done  16 tasks      | elapsed:    0.1s\n",
      "[Parallel(n_jobs=-1)]: Done 500 out of 500 | elapsed:    0.8s finished\n"
     ]
    },
    {
     "name": "stdout",
     "output_type": "stream",
     "text": [
      "writing -> Accuracy: 0.964 (0.186)\n",
      "Precision Score: 1.000\n",
      "recall Score: 1.000\n",
      "Fitting 5 folds for each of 100 candidates, totalling 500 fits\n"
     ]
    },
    {
     "name": "stderr",
     "output_type": "stream",
     "text": [
      "[Parallel(n_jobs=-1)]: Using backend LokyBackend with 8 concurrent workers.\n",
      "[Parallel(n_jobs=-1)]: Done  16 tasks      | elapsed:    0.0s\n",
      "[Parallel(n_jobs=-1)]: Done 500 out of 500 | elapsed:    0.7s finished\n"
     ]
    },
    {
     "name": "stdout",
     "output_type": "stream",
     "text": [
      "children -> Accuracy: 0.988 (0.108)\n",
      "Precision Score: 0.450\n",
      "recall Score: 0.500\n",
      "Fitting 5 folds for each of 100 candidates, totalling 500 fits\n"
     ]
    },
    {
     "name": "stderr",
     "output_type": "stream",
     "text": [
      "[Parallel(n_jobs=-1)]: Using backend LokyBackend with 8 concurrent workers.\n",
      "[Parallel(n_jobs=-1)]: Done  16 tasks      | elapsed:    0.0s\n",
      "[Parallel(n_jobs=-1)]: Done 500 out of 500 | elapsed:    0.8s finished\n"
     ]
    },
    {
     "name": "stdout",
     "output_type": "stream",
     "text": [
      "classic -> Accuracy: 0.976 (0.152)\n",
      "Precision Score: 1.000\n",
      "recall Score: 1.000\n"
     ]
    }
   ],
   "source": [
    "from numpy import mean\n",
    "from numpy import std\n",
    "from sklearn.model_selection import LeaveOneOut\n",
    "from sklearn.model_selection import cross_val_score\n",
    "from sklearn import metrics\n",
    "from sklearn.metrics import precision_score\n",
    "from sklearn.metrics import recall_score\n",
    "\n",
    "\n",
    "accuracy_knn_list = []\n",
    "precision_knn_list = []\n",
    "recall_knn_list = []\n",
    "\n",
    "for tags_name in top15_tags:\n",
    "    X_train, X_test, y_train, y_test = train_test_data(tags_name)\n",
    "    X_train = vectorizer.fit_transform(X_train)\n",
    "    X_new_tfidf = vectorizer.transform(X_test)\n",
    "\n",
    "    folds = 5 \n",
    "    knn = KNeighborsClassifier() \n",
    "    skf = StratifiedKFold(n_splits=folds, shuffle = True, random_state = 1001) \n",
    "    knn_grid = GridSearchCV(knn, params, verbose = 3, cv=skf.split(X_train,y_train), n_jobs = -1)\n",
    "    knn_grid.fit(X_train, y_train);\n",
    "#     print(knn_grid.best_params_)\n",
    "#     k_list.append(knn_grid.best_params_['n_neighbors'])\n",
    "    \n",
    "    \n",
    "    knn=KNeighborsClassifier(metric=knn_grid.best_params_['metric'], \n",
    "                             n_neighbors=knn_grid.best_params_['n_neighbors'], \n",
    "                             weights=knn_grid.best_params_['weights'])\n",
    "    knn.fit(X_train, y_train)\n",
    "    cv = LeaveOneOut()\n",
    "    scores = cross_val_score(knn, X_train, y_train, scoring='accuracy', cv=cv, n_jobs = -1)\n",
    "    accuracy_knn_list.append(mean(scores))\n",
    "    print('%s -> Accuracy: %.3f (%.3f)' % (tags_name ,mean(scores), std(scores)))\n",
    "    \n",
    "    knn_pred = knn.predict(X_new_tfidf)\n",
    "    precision = metrics.precision_score(y_test, knn_pred, average='macro')\n",
    "    precision_knn_list.append(precision)\n",
    "    print('Precision Score: %.3f' % precision)\n",
    "    \n",
    "    recall = metrics.recall_score(y_test, knn_pred, average='macro')\n",
    "    recall_knn_list.append(recall)\n",
    "    print('recall Score: %.3f' % recall)\n"
   ]
  },
  {
   "cell_type": "code",
   "execution_count": 79,
   "metadata": {},
   "outputs": [
    {
     "data": {
      "text/html": [
       "<style  type=\"text/css\" >\n",
       "#T_b9eb8a63_3b70_11eb_a042_0433c2baf4a9row15_col0,#T_b9eb8a63_3b70_11eb_a042_0433c2baf4a9row15_col1,#T_b9eb8a63_3b70_11eb_a042_0433c2baf4a9row15_col2,#T_b9eb8a63_3b70_11eb_a042_0433c2baf4a9row15_col3{\n",
       "            background-color:  yellow;\n",
       "        }</style><table id=\"T_b9eb8a63_3b70_11eb_a042_0433c2baf4a9\" ><thead>    <tr>        <th class=\"blank level0\" ></th>        <th class=\"col_heading level0 col0\" >Tags</th>        <th class=\"col_heading level0 col1\" >Accuracy</th>        <th class=\"col_heading level0 col2\" >Precision</th>        <th class=\"col_heading level0 col3\" >Recall</th>    </tr></thead><tbody>\n",
       "                <tr>\n",
       "                        <th id=\"T_b9eb8a63_3b70_11eb_a042_0433c2baf4a9level0_row0\" class=\"row_heading level0 row0\" >0</th>\n",
       "                        <td id=\"T_b9eb8a63_3b70_11eb_a042_0433c2baf4a9row0_col0\" class=\"data row0 col0\" >friendship</td>\n",
       "                        <td id=\"T_b9eb8a63_3b70_11eb_a042_0433c2baf4a9row0_col1\" class=\"data row0 col1\" >0.928571</td>\n",
       "                        <td id=\"T_b9eb8a63_3b70_11eb_a042_0433c2baf4a9row0_col2\" class=\"data row0 col2\" >1.000000</td>\n",
       "                        <td id=\"T_b9eb8a63_3b70_11eb_a042_0433c2baf4a9row0_col3\" class=\"data row0 col3\" >1.000000</td>\n",
       "            </tr>\n",
       "            <tr>\n",
       "                        <th id=\"T_b9eb8a63_3b70_11eb_a042_0433c2baf4a9level0_row1\" class=\"row_heading level0 row1\" >1</th>\n",
       "                        <td id=\"T_b9eb8a63_3b70_11eb_a042_0433c2baf4a9row1_col0\" class=\"data row1 col0\" >truth</td>\n",
       "                        <td id=\"T_b9eb8a63_3b70_11eb_a042_0433c2baf4a9row1_col1\" class=\"data row1 col1\" >0.952381</td>\n",
       "                        <td id=\"T_b9eb8a63_3b70_11eb_a042_0433c2baf4a9row1_col2\" class=\"data row1 col2\" >1.000000</td>\n",
       "                        <td id=\"T_b9eb8a63_3b70_11eb_a042_0433c2baf4a9row1_col3\" class=\"data row1 col3\" >1.000000</td>\n",
       "            </tr>\n",
       "            <tr>\n",
       "                        <th id=\"T_b9eb8a63_3b70_11eb_a042_0433c2baf4a9level0_row2\" class=\"row_heading level0 row2\" >2</th>\n",
       "                        <td id=\"T_b9eb8a63_3b70_11eb_a042_0433c2baf4a9row2_col0\" class=\"data row2 col0\" >death</td>\n",
       "                        <td id=\"T_b9eb8a63_3b70_11eb_a042_0433c2baf4a9row2_col1\" class=\"data row2 col1\" >0.964286</td>\n",
       "                        <td id=\"T_b9eb8a63_3b70_11eb_a042_0433c2baf4a9row2_col2\" class=\"data row2 col2\" >1.000000</td>\n",
       "                        <td id=\"T_b9eb8a63_3b70_11eb_a042_0433c2baf4a9row2_col3\" class=\"data row2 col3\" >1.000000</td>\n",
       "            </tr>\n",
       "            <tr>\n",
       "                        <th id=\"T_b9eb8a63_3b70_11eb_a042_0433c2baf4a9level0_row3\" class=\"row_heading level0 row3\" >3</th>\n",
       "                        <td id=\"T_b9eb8a63_3b70_11eb_a042_0433c2baf4a9row3_col0\" class=\"data row3 col0\" >simile</td>\n",
       "                        <td id=\"T_b9eb8a63_3b70_11eb_a042_0433c2baf4a9row3_col1\" class=\"data row3 col1\" >0.976190</td>\n",
       "                        <td id=\"T_b9eb8a63_3b70_11eb_a042_0433c2baf4a9row3_col2\" class=\"data row3 col2\" >1.000000</td>\n",
       "                        <td id=\"T_b9eb8a63_3b70_11eb_a042_0433c2baf4a9row3_col3\" class=\"data row3 col3\" >1.000000</td>\n",
       "            </tr>\n",
       "            <tr>\n",
       "                        <th id=\"T_b9eb8a63_3b70_11eb_a042_0433c2baf4a9level0_row4\" class=\"row_heading level0 row4\" >4</th>\n",
       "                        <td id=\"T_b9eb8a63_3b70_11eb_a042_0433c2baf4a9row4_col0\" class=\"data row4 col0\" >writing</td>\n",
       "                        <td id=\"T_b9eb8a63_3b70_11eb_a042_0433c2baf4a9row4_col1\" class=\"data row4 col1\" >0.964286</td>\n",
       "                        <td id=\"T_b9eb8a63_3b70_11eb_a042_0433c2baf4a9row4_col2\" class=\"data row4 col2\" >1.000000</td>\n",
       "                        <td id=\"T_b9eb8a63_3b70_11eb_a042_0433c2baf4a9row4_col3\" class=\"data row4 col3\" >1.000000</td>\n",
       "            </tr>\n",
       "            <tr>\n",
       "                        <th id=\"T_b9eb8a63_3b70_11eb_a042_0433c2baf4a9level0_row5\" class=\"row_heading level0 row5\" >5</th>\n",
       "                        <td id=\"T_b9eb8a63_3b70_11eb_a042_0433c2baf4a9row5_col0\" class=\"data row5 col0\" >classic</td>\n",
       "                        <td id=\"T_b9eb8a63_3b70_11eb_a042_0433c2baf4a9row5_col1\" class=\"data row5 col1\" >0.976190</td>\n",
       "                        <td id=\"T_b9eb8a63_3b70_11eb_a042_0433c2baf4a9row5_col2\" class=\"data row5 col2\" >1.000000</td>\n",
       "                        <td id=\"T_b9eb8a63_3b70_11eb_a042_0433c2baf4a9row5_col3\" class=\"data row5 col3\" >1.000000</td>\n",
       "            </tr>\n",
       "            <tr>\n",
       "                        <th id=\"T_b9eb8a63_3b70_11eb_a042_0433c2baf4a9level0_row6\" class=\"row_heading level0 row6\" >6</th>\n",
       "                        <td id=\"T_b9eb8a63_3b70_11eb_a042_0433c2baf4a9row6_col0\" class=\"data row6 col0\" >books</td>\n",
       "                        <td id=\"T_b9eb8a63_3b70_11eb_a042_0433c2baf4a9row6_col1\" class=\"data row6 col1\" >0.857143</td>\n",
       "                        <td id=\"T_b9eb8a63_3b70_11eb_a042_0433c2baf4a9row6_col2\" class=\"data row6 col2\" >0.450000</td>\n",
       "                        <td id=\"T_b9eb8a63_3b70_11eb_a042_0433c2baf4a9row6_col3\" class=\"data row6 col3\" >0.500000</td>\n",
       "            </tr>\n",
       "            <tr>\n",
       "                        <th id=\"T_b9eb8a63_3b70_11eb_a042_0433c2baf4a9level0_row7\" class=\"row_heading level0 row7\" >7</th>\n",
       "                        <td id=\"T_b9eb8a63_3b70_11eb_a042_0433c2baf4a9row7_col0\" class=\"data row7 col0\" >reading</td>\n",
       "                        <td id=\"T_b9eb8a63_3b70_11eb_a042_0433c2baf4a9row7_col1\" class=\"data row7 col1\" >0.928571</td>\n",
       "                        <td id=\"T_b9eb8a63_3b70_11eb_a042_0433c2baf4a9row7_col2\" class=\"data row7 col2\" >0.450000</td>\n",
       "                        <td id=\"T_b9eb8a63_3b70_11eb_a042_0433c2baf4a9row7_col3\" class=\"data row7 col3\" >0.500000</td>\n",
       "            </tr>\n",
       "            <tr>\n",
       "                        <th id=\"T_b9eb8a63_3b70_11eb_a042_0433c2baf4a9level0_row8\" class=\"row_heading level0 row8\" >8</th>\n",
       "                        <td id=\"T_b9eb8a63_3b70_11eb_a042_0433c2baf4a9row8_col0\" class=\"data row8 col0\" >friends</td>\n",
       "                        <td id=\"T_b9eb8a63_3b70_11eb_a042_0433c2baf4a9row8_col1\" class=\"data row8 col1\" >0.964286</td>\n",
       "                        <td id=\"T_b9eb8a63_3b70_11eb_a042_0433c2baf4a9row8_col2\" class=\"data row8 col2\" >0.450000</td>\n",
       "                        <td id=\"T_b9eb8a63_3b70_11eb_a042_0433c2baf4a9row8_col3\" class=\"data row8 col3\" >0.500000</td>\n",
       "            </tr>\n",
       "            <tr>\n",
       "                        <th id=\"T_b9eb8a63_3b70_11eb_a042_0433c2baf4a9level0_row9\" class=\"row_heading level0 row9\" >9</th>\n",
       "                        <td id=\"T_b9eb8a63_3b70_11eb_a042_0433c2baf4a9row9_col0\" class=\"data row9 col0\" >attributed-no-source</td>\n",
       "                        <td id=\"T_b9eb8a63_3b70_11eb_a042_0433c2baf4a9row9_col1\" class=\"data row9 col1\" >0.976190</td>\n",
       "                        <td id=\"T_b9eb8a63_3b70_11eb_a042_0433c2baf4a9row9_col2\" class=\"data row9 col2\" >0.450000</td>\n",
       "                        <td id=\"T_b9eb8a63_3b70_11eb_a042_0433c2baf4a9row9_col3\" class=\"data row9 col3\" >0.500000</td>\n",
       "            </tr>\n",
       "            <tr>\n",
       "                        <th id=\"T_b9eb8a63_3b70_11eb_a042_0433c2baf4a9level0_row10\" class=\"row_heading level0 row10\" >10</th>\n",
       "                        <td id=\"T_b9eb8a63_3b70_11eb_a042_0433c2baf4a9row10_col0\" class=\"data row10 col0\" >children</td>\n",
       "                        <td id=\"T_b9eb8a63_3b70_11eb_a042_0433c2baf4a9row10_col1\" class=\"data row10 col1\" >0.988095</td>\n",
       "                        <td id=\"T_b9eb8a63_3b70_11eb_a042_0433c2baf4a9row10_col2\" class=\"data row10 col2\" >0.450000</td>\n",
       "                        <td id=\"T_b9eb8a63_3b70_11eb_a042_0433c2baf4a9row10_col3\" class=\"data row10 col3\" >0.500000</td>\n",
       "            </tr>\n",
       "            <tr>\n",
       "                        <th id=\"T_b9eb8a63_3b70_11eb_a042_0433c2baf4a9level0_row11\" class=\"row_heading level0 row11\" >11</th>\n",
       "                        <td id=\"T_b9eb8a63_3b70_11eb_a042_0433c2baf4a9row11_col0\" class=\"data row11 col0\" >humor</td>\n",
       "                        <td id=\"T_b9eb8a63_3b70_11eb_a042_0433c2baf4a9row11_col1\" class=\"data row11 col1\" >0.880952</td>\n",
       "                        <td id=\"T_b9eb8a63_3b70_11eb_a042_0433c2baf4a9row11_col2\" class=\"data row11 col2\" >0.444444</td>\n",
       "                        <td id=\"T_b9eb8a63_3b70_11eb_a042_0433c2baf4a9row11_col3\" class=\"data row11 col3\" >0.444444</td>\n",
       "            </tr>\n",
       "            <tr>\n",
       "                        <th id=\"T_b9eb8a63_3b70_11eb_a042_0433c2baf4a9level0_row12\" class=\"row_heading level0 row12\" >12</th>\n",
       "                        <td id=\"T_b9eb8a63_3b70_11eb_a042_0433c2baf4a9row12_col0\" class=\"data row12 col0\" >love</td>\n",
       "                        <td id=\"T_b9eb8a63_3b70_11eb_a042_0433c2baf4a9row12_col1\" class=\"data row12 col1\" >0.869048</td>\n",
       "                        <td id=\"T_b9eb8a63_3b70_11eb_a042_0433c2baf4a9row12_col2\" class=\"data row12 col2\" >0.400000</td>\n",
       "                        <td id=\"T_b9eb8a63_3b70_11eb_a042_0433c2baf4a9row12_col3\" class=\"data row12 col3\" >0.500000</td>\n",
       "            </tr>\n",
       "            <tr>\n",
       "                        <th id=\"T_b9eb8a63_3b70_11eb_a042_0433c2baf4a9level0_row13\" class=\"row_heading level0 row13\" >13</th>\n",
       "                        <td id=\"T_b9eb8a63_3b70_11eb_a042_0433c2baf4a9row13_col0\" class=\"data row13 col0\" >life</td>\n",
       "                        <td id=\"T_b9eb8a63_3b70_11eb_a042_0433c2baf4a9row13_col1\" class=\"data row13 col1\" >0.880952</td>\n",
       "                        <td id=\"T_b9eb8a63_3b70_11eb_a042_0433c2baf4a9row13_col2\" class=\"data row13 col2\" >0.400000</td>\n",
       "                        <td id=\"T_b9eb8a63_3b70_11eb_a042_0433c2baf4a9row13_col3\" class=\"data row13 col3\" >0.500000</td>\n",
       "            </tr>\n",
       "            <tr>\n",
       "                        <th id=\"T_b9eb8a63_3b70_11eb_a042_0433c2baf4a9level0_row14\" class=\"row_heading level0 row14\" >14</th>\n",
       "                        <td id=\"T_b9eb8a63_3b70_11eb_a042_0433c2baf4a9row14_col0\" class=\"data row14 col0\" >inspirational</td>\n",
       "                        <td id=\"T_b9eb8a63_3b70_11eb_a042_0433c2baf4a9row14_col1\" class=\"data row14 col1\" >0.892857</td>\n",
       "                        <td id=\"T_b9eb8a63_3b70_11eb_a042_0433c2baf4a9row14_col2\" class=\"data row14 col2\" >0.300000</td>\n",
       "                        <td id=\"T_b9eb8a63_3b70_11eb_a042_0433c2baf4a9row14_col3\" class=\"data row14 col3\" >0.500000</td>\n",
       "            </tr>\n",
       "            <tr>\n",
       "                        <th id=\"T_b9eb8a63_3b70_11eb_a042_0433c2baf4a9level0_row15\" class=\"row_heading level0 row15\" >15</th>\n",
       "                        <td id=\"T_b9eb8a63_3b70_11eb_a042_0433c2baf4a9row15_col0\" class=\"data row15 col0\" >Average</td>\n",
       "                        <td id=\"T_b9eb8a63_3b70_11eb_a042_0433c2baf4a9row15_col1\" class=\"data row15 col1\" >0.933333</td>\n",
       "                        <td id=\"T_b9eb8a63_3b70_11eb_a042_0433c2baf4a9row15_col2\" class=\"data row15 col2\" >0.652963</td>\n",
       "                        <td id=\"T_b9eb8a63_3b70_11eb_a042_0433c2baf4a9row15_col3\" class=\"data row15 col3\" >0.696296</td>\n",
       "            </tr>\n",
       "    </tbody></table>"
      ],
      "text/plain": [
       "<pandas.io.formats.style.Styler at 0x24fad8c0790>"
      ]
     },
     "execution_count": 79,
     "metadata": {},
     "output_type": "execute_result"
    }
   ],
   "source": [
    "data = {'Tags': np.array(top15_tags), 'Accuracy': np.array(accuracy_knn_list), \n",
    "        'Precision': np.array(precision_knn_list), 'Recall': np.array(recall_knn_list)}\n",
    "df_knn = pd.DataFrame(data=data)\n",
    "df_knn = df_knn.sort_values(by=['Precision'], ascending=False).reset_index(drop=True)\n",
    "\n",
    "# เพิ่ม Row ที่เป็นค่าเฉลี่ยของ Accuracy\n",
    "df_knn = df_knn.append({'Tags' : 'Average' , \n",
    "                        'Accuracy' : (sum(accuracy_knn_list)/15), \n",
    "                        'Precision' : (sum(precision_knn_list)/15),\n",
    "                        'Recall': (sum(recall_knn_list)/15)} , ignore_index=True)\n",
    "\n",
    "# highlight row in Dataframe\n",
    "color = (df_knn['Tags'] == 'Average').map({True: 'background-color: yellow', False: ''})\n",
    "df_knn.style.apply(lambda s: color)"
   ]
  },
  {
   "cell_type": "code",
   "execution_count": null,
   "metadata": {},
   "outputs": [],
   "source": []
  },
  {
   "cell_type": "code",
   "execution_count": null,
   "metadata": {},
   "outputs": [],
   "source": []
  }
 ],
 "metadata": {
  "colab": {
   "name": "quote.ipynb",
   "provenance": []
  },
  "kernelspec": {
   "display_name": "Python 3",
   "language": "python",
   "name": "python3"
  },
  "language_info": {
   "codemirror_mode": {
    "name": "ipython",
    "version": 3
   },
   "file_extension": ".py",
   "mimetype": "text/x-python",
   "name": "python",
   "nbconvert_exporter": "python",
   "pygments_lexer": "ipython3",
   "version": "3.8.3"
  }
 },
 "nbformat": 4,
 "nbformat_minor": 1
}
