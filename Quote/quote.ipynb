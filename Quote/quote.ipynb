{
 "cells": [
  {
   "cell_type": "markdown",
   "metadata": {},
   "source": [
    "# Assignment 2 - DS4Biz Y63\n",
    "## TextScraping_Classification\n",
    "***\n",
    "\n",
    "### Team Detail\n",
    "**Team Name**: sompinandsomshine   \n",
    "***\n",
    "### *Student 1*\n",
    "**Student ID**: 61070278   \n",
    "**Student Full Name**: นายกิตติภณ สุรุ่งเรืองสกุล\n",
    "***\n",
    "### *Student 2*\n",
    "**Student ID**: 61070330   \n",
    "**Student Full Name**: นางสาวอิงฟ้า ภูติวรนาถ\n",
    "***"
   ]
  },
  {
   "cell_type": "markdown",
   "metadata": {},
   "source": [
    "#### link: https://quotes.toscrape.com/"
   ]
  },
  {
   "cell_type": "code",
   "execution_count": null,
   "metadata": {},
   "outputs": [],
   "source": []
  },
  {
   "cell_type": "markdown",
   "metadata": {},
   "source": [
    "# Data Collection"
   ]
  },
  {
   "cell_type": "code",
   "execution_count": 1,
   "metadata": {},
   "outputs": [],
   "source": [
    "import requests\n",
    "#https://requests.readthedocs.io/en/master/\n",
    "import bs4\n",
    "#https://www.crummy.com/software/BeautifulSoup/bs4/doc/\n",
    "\n",
    "import pandas as pd"
   ]
  },
  {
   "cell_type": "code",
   "execution_count": 2,
   "metadata": {},
   "outputs": [
    {
     "name": "stdout",
     "output_type": "stream",
     "text": [
      "<Response [200]>\n",
      "<class 'requests.models.Response'>\n"
     ]
    }
   ],
   "source": [
    "response = requests.get('https://quotes.toscrape.com/page/1/')\n",
    "print(response)\n",
    "print(type(response))\n",
    "html_page = bs4.BeautifulSoup(response.content, 'html.parser')\n",
    "# print(html_page)"
   ]
  },
  {
   "cell_type": "code",
   "execution_count": 3,
   "metadata": {},
   "outputs": [],
   "source": [
    "list_page = []\n",
    "cur = 1\n",
    "while 1:\n",
    "    url = 'https://quotes.toscrape.com/page/'+str(cur)+'/'\n",
    "    response = requests.get(url)\n",
    "    html_page = bs4.BeautifulSoup(response.content, 'html.parser')\n",
    "    selector = 'body > div > div:nth-child(2) > div.col-md-8'\n",
    "    tag = html_page.select_one(selector)\n",
    "    if 'No quotes found!' in tag.text:\n",
    "        break\n",
    "    else:\n",
    "        list_page.append(url)\n",
    "        cur += 1\n"
   ]
  },
  {
   "cell_type": "code",
   "execution_count": 4,
   "metadata": {},
   "outputs": [
    {
     "data": {
      "text/plain": [
       "['https://quotes.toscrape.com/page/1/',\n",
       " 'https://quotes.toscrape.com/page/2/',\n",
       " 'https://quotes.toscrape.com/page/3/',\n",
       " 'https://quotes.toscrape.com/page/4/',\n",
       " 'https://quotes.toscrape.com/page/5/',\n",
       " 'https://quotes.toscrape.com/page/6/',\n",
       " 'https://quotes.toscrape.com/page/7/',\n",
       " 'https://quotes.toscrape.com/page/8/',\n",
       " 'https://quotes.toscrape.com/page/9/',\n",
       " 'https://quotes.toscrape.com/page/10/']"
      ]
     },
     "execution_count": 4,
     "metadata": {},
     "output_type": "execute_result"
    }
   ],
   "source": [
    "list_page"
   ]
  },
  {
   "cell_type": "code",
   "execution_count": 5,
   "metadata": {},
   "outputs": [
    {
     "data": {
      "text/html": [
       "<div>\n",
       "<style scoped>\n",
       "    .dataframe tbody tr th:only-of-type {\n",
       "        vertical-align: middle;\n",
       "    }\n",
       "\n",
       "    .dataframe tbody tr th {\n",
       "        vertical-align: top;\n",
       "    }\n",
       "\n",
       "    .dataframe thead th {\n",
       "        text-align: right;\n",
       "    }\n",
       "</style>\n",
       "<table border=\"1\" class=\"dataframe\">\n",
       "  <thead>\n",
       "    <tr style=\"text-align: right;\">\n",
       "      <th></th>\n",
       "      <th>content</th>\n",
       "      <th>author</th>\n",
       "      <th>tags</th>\n",
       "      <th>link_author</th>\n",
       "    </tr>\n",
       "  </thead>\n",
       "  <tbody>\n",
       "  </tbody>\n",
       "</table>\n",
       "</div>"
      ],
      "text/plain": [
       "Empty DataFrame\n",
       "Columns: [content, author, tags, link_author]\n",
       "Index: []"
      ]
     },
     "execution_count": 5,
     "metadata": {},
     "output_type": "execute_result"
    }
   ],
   "source": [
    "df = pd.DataFrame(columns=['content','author','tags', 'link_author'])\n",
    "df"
   ]
  },
  {
   "cell_type": "code",
   "execution_count": 6,
   "metadata": {},
   "outputs": [],
   "source": [
    "# Content\n",
    "def extract_content(html_page):\n",
    "    selector = 'div.col-md-8 > div > span.text'\n",
    "    tags = html_page.select(selector)\n",
    "    content = []\n",
    "    \n",
    "    for tag in tags:\n",
    "        content.append(tag.text.strip().replace('“', '').replace('”', ''))\n",
    "        \n",
    "    return content"
   ]
  },
  {
   "cell_type": "code",
   "execution_count": 7,
   "metadata": {},
   "outputs": [],
   "source": [
    "# Author\n",
    "def extract_author(html_page):\n",
    "    selector = 'div.col-md-8 > div > span > small'\n",
    "    tags = html_page.select(selector)\n",
    "    author = []\n",
    "    \n",
    "    for tag in tags:\n",
    "        author.append(tag.text.strip())\n",
    "        \n",
    "    return author"
   ]
  },
  {
   "cell_type": "code",
   "execution_count": 8,
   "metadata": {},
   "outputs": [],
   "source": [
    "# tags\n",
    "def extract_tags(html_page):\n",
    "    selector = 'div.col-md-8 > div > div > meta'\n",
    "    tags = html_page.select(selector)\n",
    "    quote_tags = []\n",
    "    \n",
    "    for tag in tags:\n",
    "#         print(tag['content'])\n",
    "        quote_tags.append(tag['content'])\n",
    "        \n",
    "    return quote_tags"
   ]
  },
  {
   "cell_type": "code",
   "execution_count": 9,
   "metadata": {},
   "outputs": [],
   "source": [
    "# link_author\n",
    "def extract_link_author(html_page):\n",
    "    selector = 'div.col-md-8 > div > span > a'\n",
    "    tags = html_page.select(selector)\n",
    "    link_author = []\n",
    "    \n",
    "    for tag in tags:\n",
    "#         print(tag['content'])\n",
    "        link_author.append('https://quotes.toscrape.com/author/' + tag['href'].split('/')[-1] + '/')\n",
    "        \n",
    "    return link_author"
   ]
  },
  {
   "cell_type": "code",
   "execution_count": 10,
   "metadata": {},
   "outputs": [],
   "source": [
    "# response = requests.get('https://quotes.toscrape.com/page/1/')\n",
    "# html_page = bs4.BeautifulSoup(response.content, 'html.parser')\n",
    "\n",
    "# extract_content(html_page)"
   ]
  },
  {
   "cell_type": "code",
   "execution_count": 11,
   "metadata": {
    "scrolled": true
   },
   "outputs": [],
   "source": [
    "def extract_quotes(url):\n",
    "    response = requests.get(url)\n",
    "    html_page = bs4.BeautifulSoup(response.content, 'html.parser')\n",
    "\n",
    "    content = extract_content(html_page)\n",
    "    author = extract_author(html_page)\n",
    "    tags = extract_tags(html_page)\n",
    "    link_author = extract_link_author(html_page)\n",
    "    \n",
    "    Alltags = {'content':content,'author':author,'tags':tags,'link_author':link_author}\n",
    "    result = pd.DataFrame(Alltags)\n",
    "    return result"
   ]
  },
  {
   "cell_type": "code",
   "execution_count": 12,
   "metadata": {},
   "outputs": [
    {
     "data": {
      "text/html": [
       "<div>\n",
       "<style scoped>\n",
       "    .dataframe tbody tr th:only-of-type {\n",
       "        vertical-align: middle;\n",
       "    }\n",
       "\n",
       "    .dataframe tbody tr th {\n",
       "        vertical-align: top;\n",
       "    }\n",
       "\n",
       "    .dataframe thead th {\n",
       "        text-align: right;\n",
       "    }\n",
       "</style>\n",
       "<table border=\"1\" class=\"dataframe\">\n",
       "  <thead>\n",
       "    <tr style=\"text-align: right;\">\n",
       "      <th></th>\n",
       "      <th>content</th>\n",
       "      <th>author</th>\n",
       "      <th>tags</th>\n",
       "      <th>link_author</th>\n",
       "    </tr>\n",
       "  </thead>\n",
       "  <tbody>\n",
       "    <tr>\n",
       "      <th>0</th>\n",
       "      <td>The world as we have created it is a process o...</td>\n",
       "      <td>Albert Einstein</td>\n",
       "      <td>change,deep-thoughts,thinking,world</td>\n",
       "      <td>https://quotes.toscrape.com/author/Albert-Eins...</td>\n",
       "    </tr>\n",
       "    <tr>\n",
       "      <th>1</th>\n",
       "      <td>It is our choices, Harry, that show what we tr...</td>\n",
       "      <td>J.K. Rowling</td>\n",
       "      <td>abilities,choices</td>\n",
       "      <td>https://quotes.toscrape.com/author/J-K-Rowling/</td>\n",
       "    </tr>\n",
       "    <tr>\n",
       "      <th>2</th>\n",
       "      <td>There are only two ways to live your life. One...</td>\n",
       "      <td>Albert Einstein</td>\n",
       "      <td>inspirational,life,live,miracle,miracles</td>\n",
       "      <td>https://quotes.toscrape.com/author/Albert-Eins...</td>\n",
       "    </tr>\n",
       "    <tr>\n",
       "      <th>3</th>\n",
       "      <td>The person, be it gentleman or lady, who has n...</td>\n",
       "      <td>Jane Austen</td>\n",
       "      <td>aliteracy,books,classic,humor</td>\n",
       "      <td>https://quotes.toscrape.com/author/Jane-Austen/</td>\n",
       "    </tr>\n",
       "    <tr>\n",
       "      <th>4</th>\n",
       "      <td>Imperfection is beauty, madness is genius and ...</td>\n",
       "      <td>Marilyn Monroe</td>\n",
       "      <td>be-yourself,inspirational</td>\n",
       "      <td>https://quotes.toscrape.com/author/Marilyn-Mon...</td>\n",
       "    </tr>\n",
       "  </tbody>\n",
       "</table>\n",
       "</div>"
      ],
      "text/plain": [
       "                                             content           author  \\\n",
       "0  The world as we have created it is a process o...  Albert Einstein   \n",
       "1  It is our choices, Harry, that show what we tr...     J.K. Rowling   \n",
       "2  There are only two ways to live your life. One...  Albert Einstein   \n",
       "3  The person, be it gentleman or lady, who has n...      Jane Austen   \n",
       "4  Imperfection is beauty, madness is genius and ...   Marilyn Monroe   \n",
       "\n",
       "                                       tags  \\\n",
       "0       change,deep-thoughts,thinking,world   \n",
       "1                         abilities,choices   \n",
       "2  inspirational,life,live,miracle,miracles   \n",
       "3             aliteracy,books,classic,humor   \n",
       "4                 be-yourself,inspirational   \n",
       "\n",
       "                                         link_author  \n",
       "0  https://quotes.toscrape.com/author/Albert-Eins...  \n",
       "1    https://quotes.toscrape.com/author/J-K-Rowling/  \n",
       "2  https://quotes.toscrape.com/author/Albert-Eins...  \n",
       "3    https://quotes.toscrape.com/author/Jane-Austen/  \n",
       "4  https://quotes.toscrape.com/author/Marilyn-Mon...  "
      ]
     },
     "execution_count": 12,
     "metadata": {},
     "output_type": "execute_result"
    }
   ],
   "source": [
    "for url in list_page:\n",
    "    result = extract_quotes(url)\n",
    "    df = df.append(result, ignore_index=True)\n",
    "df.head()"
   ]
  },
  {
   "cell_type": "code",
   "execution_count": 13,
   "metadata": {
    "scrolled": true
   },
   "outputs": [
    {
     "data": {
      "text/plain": [
       "content        0\n",
       "author         0\n",
       "tags           0\n",
       "link_author    0\n",
       "dtype: int64"
      ]
     },
     "execution_count": 13,
     "metadata": {},
     "output_type": "execute_result"
    }
   ],
   "source": [
    "df.isna().sum()"
   ]
  },
  {
   "cell_type": "markdown",
   "metadata": {},
   "source": [
    "## author"
   ]
  },
  {
   "cell_type": "code",
   "execution_count": 14,
   "metadata": {},
   "outputs": [],
   "source": [
    "# df_author = pd.DataFrame(columns=['Born_date','Born_location','Author_description'])\n",
    "# df_author"
   ]
  },
  {
   "cell_type": "code",
   "execution_count": 15,
   "metadata": {},
   "outputs": [],
   "source": [
    "# df['Link_author'].iloc[0]"
   ]
  },
  {
   "cell_type": "code",
   "execution_count": 16,
   "metadata": {},
   "outputs": [],
   "source": [
    "# author born date\n",
    "def born_date(html_page):\n",
    "    born_date = html_page.findAll(\"span\", {\"class\": \"author-born-date\"})\n",
    "    born_date = born_date[0].text.replace(',', '').replace(' ', '-')\n",
    "    return born_date"
   ]
  },
  {
   "cell_type": "code",
   "execution_count": 17,
   "metadata": {},
   "outputs": [],
   "source": [
    "# author born location\n",
    "def born_location(html_page):\n",
    "    born_location = html_page.findAll(\"span\", {\"class\": \"author-born-location\"})\n",
    "    born_location = born_location[0].text.replace(',', '|')\n",
    "    return born_location"
   ]
  },
  {
   "cell_type": "code",
   "execution_count": 18,
   "metadata": {},
   "outputs": [],
   "source": [
    "# author Description\n",
    "def description(html_page):\n",
    "    description = html_page.findAll(\"div\", {\"class\": \"author-description\"})\n",
    "    description = description[0].text.strip()\n",
    "    return description"
   ]
  },
  {
   "cell_type": "code",
   "execution_count": 19,
   "metadata": {},
   "outputs": [],
   "source": [
    "# author Description\n",
    "def author_name(html_page):\n",
    "    author_name = html_page.findAll(\"h3\", {\"class\": \"author-title\"})\n",
    "    author_name = author_name[0].text.strip()\n",
    "    return author_name"
   ]
  },
  {
   "cell_type": "code",
   "execution_count": 20,
   "metadata": {},
   "outputs": [],
   "source": [
    "# def extract_author(url):\n",
    "#     response = requests.get(url)\n",
    "#     html_page = bs4.BeautifulSoup(response.content, 'html.parser')\n",
    "\n",
    "#     date = born_date(html_page)\n",
    "#     location = born_location(html_page)\n",
    "#     description_text = description(html_page)\n",
    "    \n",
    "#     Alldetail = {'Born_date': date, 'Born_location': location, 'Author_description':description_text}\n",
    "#     result = pd.DataFrame(Alldetail)\n",
    "#     return result"
   ]
  },
  {
   "cell_type": "code",
   "execution_count": 21,
   "metadata": {},
   "outputs": [],
   "source": [
    "list_born_date = []\n",
    "list_born_location = []\n",
    "list_description = []\n",
    "list_author_name = []\n",
    "\n",
    "for link_author in list(df['link_author'].unique()):\n",
    "    \n",
    "#     response = requests.get('https://quotes.toscrape.com/author/Albert-Einstein/')\n",
    "    response = requests.get(link_author)\n",
    "    html_page = bs4.BeautifulSoup(response.content, 'html.parser')\n",
    "    \n",
    "    list_born_date.append(born_date(html_page))\n",
    "    list_born_location.append(born_location(html_page))\n",
    "    list_description.append(description(html_page))\n",
    "    list_author_name.append(author_name(html_page))"
   ]
  },
  {
   "cell_type": "code",
   "execution_count": 22,
   "metadata": {
    "scrolled": true
   },
   "outputs": [
    {
     "data": {
      "text/html": [
       "<div>\n",
       "<style scoped>\n",
       "    .dataframe tbody tr th:only-of-type {\n",
       "        vertical-align: middle;\n",
       "    }\n",
       "\n",
       "    .dataframe tbody tr th {\n",
       "        vertical-align: top;\n",
       "    }\n",
       "\n",
       "    .dataframe thead th {\n",
       "        text-align: right;\n",
       "    }\n",
       "</style>\n",
       "<table border=\"1\" class=\"dataframe\">\n",
       "  <thead>\n",
       "    <tr style=\"text-align: right;\">\n",
       "      <th></th>\n",
       "      <th>author</th>\n",
       "      <th>born_date</th>\n",
       "      <th>born_location</th>\n",
       "      <th>author_description</th>\n",
       "    </tr>\n",
       "  </thead>\n",
       "  <tbody>\n",
       "    <tr>\n",
       "      <th>0</th>\n",
       "      <td>Albert Einstein</td>\n",
       "      <td>March-14-1879</td>\n",
       "      <td>in Ulm| Germany</td>\n",
       "      <td>In 1879, Albert Einstein was born in Ulm, Germ...</td>\n",
       "    </tr>\n",
       "    <tr>\n",
       "      <th>1</th>\n",
       "      <td>J.K. Rowling</td>\n",
       "      <td>July-31-1965</td>\n",
       "      <td>in Yate| South Gloucestershire| England| The U...</td>\n",
       "      <td>See also: Robert GalbraithAlthough she writes ...</td>\n",
       "    </tr>\n",
       "    <tr>\n",
       "      <th>2</th>\n",
       "      <td>Jane Austen</td>\n",
       "      <td>December-16-1775</td>\n",
       "      <td>in Steventon Rectory| Hampshire| The United Ki...</td>\n",
       "      <td>Jane Austen was an English novelist whose work...</td>\n",
       "    </tr>\n",
       "    <tr>\n",
       "      <th>3</th>\n",
       "      <td>Marilyn Monroe</td>\n",
       "      <td>June-01-1926</td>\n",
       "      <td>in The United States</td>\n",
       "      <td>Marilyn Monroe (born Norma Jeane Mortenson; Ju...</td>\n",
       "    </tr>\n",
       "    <tr>\n",
       "      <th>4</th>\n",
       "      <td>André Gide</td>\n",
       "      <td>November-22-1869</td>\n",
       "      <td>in Paris| France</td>\n",
       "      <td>André Paul Guillaume Gide was a French author ...</td>\n",
       "    </tr>\n",
       "  </tbody>\n",
       "</table>\n",
       "</div>"
      ],
      "text/plain": [
       "            author         born_date  \\\n",
       "0  Albert Einstein     March-14-1879   \n",
       "1     J.K. Rowling      July-31-1965   \n",
       "2      Jane Austen  December-16-1775   \n",
       "3   Marilyn Monroe      June-01-1926   \n",
       "4       André Gide  November-22-1869   \n",
       "\n",
       "                                       born_location  \\\n",
       "0                                    in Ulm| Germany   \n",
       "1  in Yate| South Gloucestershire| England| The U...   \n",
       "2  in Steventon Rectory| Hampshire| The United Ki...   \n",
       "3                               in The United States   \n",
       "4                                   in Paris| France   \n",
       "\n",
       "                                  author_description  \n",
       "0  In 1879, Albert Einstein was born in Ulm, Germ...  \n",
       "1  See also: Robert GalbraithAlthough she writes ...  \n",
       "2  Jane Austen was an English novelist whose work...  \n",
       "3  Marilyn Monroe (born Norma Jeane Mortenson; Ju...  \n",
       "4  André Paul Guillaume Gide was a French author ...  "
      ]
     },
     "execution_count": 22,
     "metadata": {},
     "output_type": "execute_result"
    }
   ],
   "source": [
    "Alldetail = {'author': list_author_name, 'born_date': list_born_date, 'born_location': list_born_location, 'author_description':list_description}\n",
    "author_df = pd.DataFrame(Alldetail)\n",
    "author_df.head()"
   ]
  },
  {
   "cell_type": "code",
   "execution_count": 23,
   "metadata": {},
   "outputs": [
    {
     "data": {
      "text/html": [
       "<div>\n",
       "<style scoped>\n",
       "    .dataframe tbody tr th:only-of-type {\n",
       "        vertical-align: middle;\n",
       "    }\n",
       "\n",
       "    .dataframe tbody tr th {\n",
       "        vertical-align: top;\n",
       "    }\n",
       "\n",
       "    .dataframe thead th {\n",
       "        text-align: right;\n",
       "    }\n",
       "</style>\n",
       "<table border=\"1\" class=\"dataframe\">\n",
       "  <thead>\n",
       "    <tr style=\"text-align: right;\">\n",
       "      <th></th>\n",
       "      <th>content</th>\n",
       "      <th>author</th>\n",
       "      <th>tags</th>\n",
       "      <th>link_author</th>\n",
       "    </tr>\n",
       "  </thead>\n",
       "  <tbody>\n",
       "    <tr>\n",
       "      <th>0</th>\n",
       "      <td>The world as we have created it is a process o...</td>\n",
       "      <td>Albert Einstein</td>\n",
       "      <td>change,deep-thoughts,thinking,world</td>\n",
       "      <td>https://quotes.toscrape.com/author/Albert-Eins...</td>\n",
       "    </tr>\n",
       "    <tr>\n",
       "      <th>1</th>\n",
       "      <td>It is our choices, Harry, that show what we tr...</td>\n",
       "      <td>J.K. Rowling</td>\n",
       "      <td>abilities,choices</td>\n",
       "      <td>https://quotes.toscrape.com/author/J-K-Rowling/</td>\n",
       "    </tr>\n",
       "    <tr>\n",
       "      <th>2</th>\n",
       "      <td>There are only two ways to live your life. One...</td>\n",
       "      <td>Albert Einstein</td>\n",
       "      <td>inspirational,life,live,miracle,miracles</td>\n",
       "      <td>https://quotes.toscrape.com/author/Albert-Eins...</td>\n",
       "    </tr>\n",
       "    <tr>\n",
       "      <th>3</th>\n",
       "      <td>The person, be it gentleman or lady, who has n...</td>\n",
       "      <td>Jane Austen</td>\n",
       "      <td>aliteracy,books,classic,humor</td>\n",
       "      <td>https://quotes.toscrape.com/author/Jane-Austen/</td>\n",
       "    </tr>\n",
       "    <tr>\n",
       "      <th>4</th>\n",
       "      <td>Imperfection is beauty, madness is genius and ...</td>\n",
       "      <td>Marilyn Monroe</td>\n",
       "      <td>be-yourself,inspirational</td>\n",
       "      <td>https://quotes.toscrape.com/author/Marilyn-Mon...</td>\n",
       "    </tr>\n",
       "  </tbody>\n",
       "</table>\n",
       "</div>"
      ],
      "text/plain": [
       "                                             content           author  \\\n",
       "0  The world as we have created it is a process o...  Albert Einstein   \n",
       "1  It is our choices, Harry, that show what we tr...     J.K. Rowling   \n",
       "2  There are only two ways to live your life. One...  Albert Einstein   \n",
       "3  The person, be it gentleman or lady, who has n...      Jane Austen   \n",
       "4  Imperfection is beauty, madness is genius and ...   Marilyn Monroe   \n",
       "\n",
       "                                       tags  \\\n",
       "0       change,deep-thoughts,thinking,world   \n",
       "1                         abilities,choices   \n",
       "2  inspirational,life,live,miracle,miracles   \n",
       "3             aliteracy,books,classic,humor   \n",
       "4                 be-yourself,inspirational   \n",
       "\n",
       "                                         link_author  \n",
       "0  https://quotes.toscrape.com/author/Albert-Eins...  \n",
       "1    https://quotes.toscrape.com/author/J-K-Rowling/  \n",
       "2  https://quotes.toscrape.com/author/Albert-Eins...  \n",
       "3    https://quotes.toscrape.com/author/Jane-Austen/  \n",
       "4  https://quotes.toscrape.com/author/Marilyn-Mon...  "
      ]
     },
     "execution_count": 23,
     "metadata": {},
     "output_type": "execute_result"
    }
   ],
   "source": [
    "df.head()"
   ]
  },
  {
   "cell_type": "code",
   "execution_count": 24,
   "metadata": {},
   "outputs": [],
   "source": [
    "# df.set_index('Author').join(other.set_index('key'))"
   ]
  },
  {
   "cell_type": "code",
   "execution_count": 25,
   "metadata": {},
   "outputs": [],
   "source": [
    "# result['Author'].value_counts()"
   ]
  },
  {
   "cell_type": "code",
   "execution_count": 26,
   "metadata": {},
   "outputs": [
    {
     "data": {
      "text/html": [
       "<div>\n",
       "<style scoped>\n",
       "    .dataframe tbody tr th:only-of-type {\n",
       "        vertical-align: middle;\n",
       "    }\n",
       "\n",
       "    .dataframe tbody tr th {\n",
       "        vertical-align: top;\n",
       "    }\n",
       "\n",
       "    .dataframe thead th {\n",
       "        text-align: right;\n",
       "    }\n",
       "</style>\n",
       "<table border=\"1\" class=\"dataframe\">\n",
       "  <thead>\n",
       "    <tr style=\"text-align: right;\">\n",
       "      <th></th>\n",
       "      <th>content</th>\n",
       "      <th>author</th>\n",
       "      <th>tags</th>\n",
       "      <th>link_author</th>\n",
       "      <th>born_date</th>\n",
       "      <th>born_location</th>\n",
       "      <th>author_description</th>\n",
       "    </tr>\n",
       "  </thead>\n",
       "  <tbody>\n",
       "    <tr>\n",
       "      <th>0</th>\n",
       "      <td>The world as we have created it is a process o...</td>\n",
       "      <td>Albert Einstein</td>\n",
       "      <td>change,deep-thoughts,thinking,world</td>\n",
       "      <td>https://quotes.toscrape.com/author/Albert-Eins...</td>\n",
       "      <td>March-14-1879</td>\n",
       "      <td>in Ulm| Germany</td>\n",
       "      <td>In 1879, Albert Einstein was born in Ulm, Germ...</td>\n",
       "    </tr>\n",
       "    <tr>\n",
       "      <th>1</th>\n",
       "      <td>There are only two ways to live your life. One...</td>\n",
       "      <td>Albert Einstein</td>\n",
       "      <td>inspirational,life,live,miracle,miracles</td>\n",
       "      <td>https://quotes.toscrape.com/author/Albert-Eins...</td>\n",
       "      <td>March-14-1879</td>\n",
       "      <td>in Ulm| Germany</td>\n",
       "      <td>In 1879, Albert Einstein was born in Ulm, Germ...</td>\n",
       "    </tr>\n",
       "    <tr>\n",
       "      <th>2</th>\n",
       "      <td>Try not to become a man of success. Rather bec...</td>\n",
       "      <td>Albert Einstein</td>\n",
       "      <td>adulthood,success,value</td>\n",
       "      <td>https://quotes.toscrape.com/author/Albert-Eins...</td>\n",
       "      <td>March-14-1879</td>\n",
       "      <td>in Ulm| Germany</td>\n",
       "      <td>In 1879, Albert Einstein was born in Ulm, Germ...</td>\n",
       "    </tr>\n",
       "    <tr>\n",
       "      <th>3</th>\n",
       "      <td>If you can't explain it to a six year old, you...</td>\n",
       "      <td>Albert Einstein</td>\n",
       "      <td>simplicity,understand</td>\n",
       "      <td>https://quotes.toscrape.com/author/Albert-Eins...</td>\n",
       "      <td>March-14-1879</td>\n",
       "      <td>in Ulm| Germany</td>\n",
       "      <td>In 1879, Albert Einstein was born in Ulm, Germ...</td>\n",
       "    </tr>\n",
       "    <tr>\n",
       "      <th>4</th>\n",
       "      <td>If you want your children to be intelligent, r...</td>\n",
       "      <td>Albert Einstein</td>\n",
       "      <td>children,fairy-tales</td>\n",
       "      <td>https://quotes.toscrape.com/author/Albert-Eins...</td>\n",
       "      <td>March-14-1879</td>\n",
       "      <td>in Ulm| Germany</td>\n",
       "      <td>In 1879, Albert Einstein was born in Ulm, Germ...</td>\n",
       "    </tr>\n",
       "    <tr>\n",
       "      <th>5</th>\n",
       "      <td>Logic will get you from A to Z; imagination wi...</td>\n",
       "      <td>Albert Einstein</td>\n",
       "      <td>imagination</td>\n",
       "      <td>https://quotes.toscrape.com/author/Albert-Eins...</td>\n",
       "      <td>March-14-1879</td>\n",
       "      <td>in Ulm| Germany</td>\n",
       "      <td>In 1879, Albert Einstein was born in Ulm, Germ...</td>\n",
       "    </tr>\n",
       "    <tr>\n",
       "      <th>6</th>\n",
       "      <td>Any fool can know. The point is to understand.</td>\n",
       "      <td>Albert Einstein</td>\n",
       "      <td>knowledge,learning,understanding,wisdom</td>\n",
       "      <td>https://quotes.toscrape.com/author/Albert-Eins...</td>\n",
       "      <td>March-14-1879</td>\n",
       "      <td>in Ulm| Germany</td>\n",
       "      <td>In 1879, Albert Einstein was born in Ulm, Germ...</td>\n",
       "    </tr>\n",
       "    <tr>\n",
       "      <th>7</th>\n",
       "      <td>Life is like riding a bicycle. To keep your ba...</td>\n",
       "      <td>Albert Einstein</td>\n",
       "      <td>life,simile</td>\n",
       "      <td>https://quotes.toscrape.com/author/Albert-Eins...</td>\n",
       "      <td>March-14-1879</td>\n",
       "      <td>in Ulm| Germany</td>\n",
       "      <td>In 1879, Albert Einstein was born in Ulm, Germ...</td>\n",
       "    </tr>\n",
       "    <tr>\n",
       "      <th>8</th>\n",
       "      <td>If I were not a physicist, I would probably be...</td>\n",
       "      <td>Albert Einstein</td>\n",
       "      <td>music</td>\n",
       "      <td>https://quotes.toscrape.com/author/Albert-Eins...</td>\n",
       "      <td>March-14-1879</td>\n",
       "      <td>in Ulm| Germany</td>\n",
       "      <td>In 1879, Albert Einstein was born in Ulm, Germ...</td>\n",
       "    </tr>\n",
       "    <tr>\n",
       "      <th>9</th>\n",
       "      <td>Anyone who has never made a mistake has never ...</td>\n",
       "      <td>Albert Einstein</td>\n",
       "      <td>mistakes</td>\n",
       "      <td>https://quotes.toscrape.com/author/Albert-Eins...</td>\n",
       "      <td>March-14-1879</td>\n",
       "      <td>in Ulm| Germany</td>\n",
       "      <td>In 1879, Albert Einstein was born in Ulm, Germ...</td>\n",
       "    </tr>\n",
       "    <tr>\n",
       "      <th>10</th>\n",
       "      <td>It is our choices, Harry, that show what we tr...</td>\n",
       "      <td>J.K. Rowling</td>\n",
       "      <td>abilities,choices</td>\n",
       "      <td>https://quotes.toscrape.com/author/J-K-Rowling/</td>\n",
       "      <td>July-31-1965</td>\n",
       "      <td>in Yate| South Gloucestershire| England| The U...</td>\n",
       "      <td>See also: Robert GalbraithAlthough she writes ...</td>\n",
       "    </tr>\n",
       "    <tr>\n",
       "      <th>11</th>\n",
       "      <td>It takes a great deal of bravery to stand up t...</td>\n",
       "      <td>J.K. Rowling</td>\n",
       "      <td>courage,friends</td>\n",
       "      <td>https://quotes.toscrape.com/author/J-K-Rowling/</td>\n",
       "      <td>July-31-1965</td>\n",
       "      <td>in Yate| South Gloucestershire| England| The U...</td>\n",
       "      <td>See also: Robert GalbraithAlthough she writes ...</td>\n",
       "    </tr>\n",
       "    <tr>\n",
       "      <th>12</th>\n",
       "      <td>It is impossible to live without failing at so...</td>\n",
       "      <td>J.K. Rowling</td>\n",
       "      <td></td>\n",
       "      <td>https://quotes.toscrape.com/author/J-K-Rowling/</td>\n",
       "      <td>July-31-1965</td>\n",
       "      <td>in Yate| South Gloucestershire| England| The U...</td>\n",
       "      <td>See also: Robert GalbraithAlthough she writes ...</td>\n",
       "    </tr>\n",
       "    <tr>\n",
       "      <th>13</th>\n",
       "      <td>Of course it is happening inside your head, Ha...</td>\n",
       "      <td>J.K. Rowling</td>\n",
       "      <td>dumbledore</td>\n",
       "      <td>https://quotes.toscrape.com/author/J-K-Rowling/</td>\n",
       "      <td>July-31-1965</td>\n",
       "      <td>in Yate| South Gloucestershire| England| The U...</td>\n",
       "      <td>See also: Robert GalbraithAlthough she writes ...</td>\n",
       "    </tr>\n",
       "    <tr>\n",
       "      <th>14</th>\n",
       "      <td>To the well-organized mind, death is but the n...</td>\n",
       "      <td>J.K. Rowling</td>\n",
       "      <td>death,inspirational</td>\n",
       "      <td>https://quotes.toscrape.com/author/J-K-Rowling/</td>\n",
       "      <td>July-31-1965</td>\n",
       "      <td>in Yate| South Gloucestershire| England| The U...</td>\n",
       "      <td>See also: Robert GalbraithAlthough she writes ...</td>\n",
       "    </tr>\n",
       "  </tbody>\n",
       "</table>\n",
       "</div>"
      ],
      "text/plain": [
       "                                              content           author  \\\n",
       "0   The world as we have created it is a process o...  Albert Einstein   \n",
       "1   There are only two ways to live your life. One...  Albert Einstein   \n",
       "2   Try not to become a man of success. Rather bec...  Albert Einstein   \n",
       "3   If you can't explain it to a six year old, you...  Albert Einstein   \n",
       "4   If you want your children to be intelligent, r...  Albert Einstein   \n",
       "5   Logic will get you from A to Z; imagination wi...  Albert Einstein   \n",
       "6      Any fool can know. The point is to understand.  Albert Einstein   \n",
       "7   Life is like riding a bicycle. To keep your ba...  Albert Einstein   \n",
       "8   If I were not a physicist, I would probably be...  Albert Einstein   \n",
       "9   Anyone who has never made a mistake has never ...  Albert Einstein   \n",
       "10  It is our choices, Harry, that show what we tr...     J.K. Rowling   \n",
       "11  It takes a great deal of bravery to stand up t...     J.K. Rowling   \n",
       "12  It is impossible to live without failing at so...     J.K. Rowling   \n",
       "13  Of course it is happening inside your head, Ha...     J.K. Rowling   \n",
       "14  To the well-organized mind, death is but the n...     J.K. Rowling   \n",
       "\n",
       "                                        tags  \\\n",
       "0        change,deep-thoughts,thinking,world   \n",
       "1   inspirational,life,live,miracle,miracles   \n",
       "2                    adulthood,success,value   \n",
       "3                      simplicity,understand   \n",
       "4                       children,fairy-tales   \n",
       "5                                imagination   \n",
       "6    knowledge,learning,understanding,wisdom   \n",
       "7                                life,simile   \n",
       "8                                      music   \n",
       "9                                   mistakes   \n",
       "10                         abilities,choices   \n",
       "11                           courage,friends   \n",
       "12                                             \n",
       "13                                dumbledore   \n",
       "14                       death,inspirational   \n",
       "\n",
       "                                          link_author      born_date  \\\n",
       "0   https://quotes.toscrape.com/author/Albert-Eins...  March-14-1879   \n",
       "1   https://quotes.toscrape.com/author/Albert-Eins...  March-14-1879   \n",
       "2   https://quotes.toscrape.com/author/Albert-Eins...  March-14-1879   \n",
       "3   https://quotes.toscrape.com/author/Albert-Eins...  March-14-1879   \n",
       "4   https://quotes.toscrape.com/author/Albert-Eins...  March-14-1879   \n",
       "5   https://quotes.toscrape.com/author/Albert-Eins...  March-14-1879   \n",
       "6   https://quotes.toscrape.com/author/Albert-Eins...  March-14-1879   \n",
       "7   https://quotes.toscrape.com/author/Albert-Eins...  March-14-1879   \n",
       "8   https://quotes.toscrape.com/author/Albert-Eins...  March-14-1879   \n",
       "9   https://quotes.toscrape.com/author/Albert-Eins...  March-14-1879   \n",
       "10    https://quotes.toscrape.com/author/J-K-Rowling/   July-31-1965   \n",
       "11    https://quotes.toscrape.com/author/J-K-Rowling/   July-31-1965   \n",
       "12    https://quotes.toscrape.com/author/J-K-Rowling/   July-31-1965   \n",
       "13    https://quotes.toscrape.com/author/J-K-Rowling/   July-31-1965   \n",
       "14    https://quotes.toscrape.com/author/J-K-Rowling/   July-31-1965   \n",
       "\n",
       "                                        born_location  \\\n",
       "0                                     in Ulm| Germany   \n",
       "1                                     in Ulm| Germany   \n",
       "2                                     in Ulm| Germany   \n",
       "3                                     in Ulm| Germany   \n",
       "4                                     in Ulm| Germany   \n",
       "5                                     in Ulm| Germany   \n",
       "6                                     in Ulm| Germany   \n",
       "7                                     in Ulm| Germany   \n",
       "8                                     in Ulm| Germany   \n",
       "9                                     in Ulm| Germany   \n",
       "10  in Yate| South Gloucestershire| England| The U...   \n",
       "11  in Yate| South Gloucestershire| England| The U...   \n",
       "12  in Yate| South Gloucestershire| England| The U...   \n",
       "13  in Yate| South Gloucestershire| England| The U...   \n",
       "14  in Yate| South Gloucestershire| England| The U...   \n",
       "\n",
       "                                   author_description  \n",
       "0   In 1879, Albert Einstein was born in Ulm, Germ...  \n",
       "1   In 1879, Albert Einstein was born in Ulm, Germ...  \n",
       "2   In 1879, Albert Einstein was born in Ulm, Germ...  \n",
       "3   In 1879, Albert Einstein was born in Ulm, Germ...  \n",
       "4   In 1879, Albert Einstein was born in Ulm, Germ...  \n",
       "5   In 1879, Albert Einstein was born in Ulm, Germ...  \n",
       "6   In 1879, Albert Einstein was born in Ulm, Germ...  \n",
       "7   In 1879, Albert Einstein was born in Ulm, Germ...  \n",
       "8   In 1879, Albert Einstein was born in Ulm, Germ...  \n",
       "9   In 1879, Albert Einstein was born in Ulm, Germ...  \n",
       "10  See also: Robert GalbraithAlthough she writes ...  \n",
       "11  See also: Robert GalbraithAlthough she writes ...  \n",
       "12  See also: Robert GalbraithAlthough she writes ...  \n",
       "13  See also: Robert GalbraithAlthough she writes ...  \n",
       "14  See also: Robert GalbraithAlthough she writes ...  "
      ]
     },
     "execution_count": 26,
     "metadata": {},
     "output_type": "execute_result"
    }
   ],
   "source": [
    "content_author_df = pd.merge(df, author_df, on=['author'])\n",
    "content_author_df.head(15)"
   ]
  },
  {
   "cell_type": "markdown",
   "metadata": {},
   "source": [
    "## save DataFarame to csv\n",
    "เพื่อให้ง่ายต่อการใช้ในภายหลัง\n",
    "- content.csv รายละเอียดของ quote\n",
    "- author.csv รายละเอียดของผู้เขียน\n",
    "- content_author.csv รายละเอียดของ quote และผู้เขียน"
   ]
  },
  {
   "cell_type": "code",
   "execution_count": 30,
   "metadata": {},
   "outputs": [],
   "source": [
    "df.to_csv('content.csv', index=False)\n",
    "author_df.to_csv('author.csv', index=False)\n",
    "content_author_df.to_csv('content_author.csv', index=False)"
   ]
  },
  {
   "cell_type": "code",
   "execution_count": 31,
   "metadata": {},
   "outputs": [
    {
     "data": {
      "text/html": [
       "<div>\n",
       "<style scoped>\n",
       "    .dataframe tbody tr th:only-of-type {\n",
       "        vertical-align: middle;\n",
       "    }\n",
       "\n",
       "    .dataframe tbody tr th {\n",
       "        vertical-align: top;\n",
       "    }\n",
       "\n",
       "    .dataframe thead th {\n",
       "        text-align: right;\n",
       "    }\n",
       "</style>\n",
       "<table border=\"1\" class=\"dataframe\">\n",
       "  <thead>\n",
       "    <tr style=\"text-align: right;\">\n",
       "      <th></th>\n",
       "      <th>content</th>\n",
       "      <th>author</th>\n",
       "      <th>tags</th>\n",
       "      <th>link_author</th>\n",
       "    </tr>\n",
       "  </thead>\n",
       "  <tbody>\n",
       "    <tr>\n",
       "      <th>0</th>\n",
       "      <td>The world as we have created it is a process o...</td>\n",
       "      <td>Albert Einstein</td>\n",
       "      <td>change,deep-thoughts,thinking,world</td>\n",
       "      <td>https://quotes.toscrape.com/author/Albert-Eins...</td>\n",
       "    </tr>\n",
       "    <tr>\n",
       "      <th>1</th>\n",
       "      <td>It is our choices, Harry, that show what we tr...</td>\n",
       "      <td>J.K. Rowling</td>\n",
       "      <td>abilities,choices</td>\n",
       "      <td>https://quotes.toscrape.com/author/J-K-Rowling/</td>\n",
       "    </tr>\n",
       "    <tr>\n",
       "      <th>2</th>\n",
       "      <td>There are only two ways to live your life. One...</td>\n",
       "      <td>Albert Einstein</td>\n",
       "      <td>inspirational,life,live,miracle,miracles</td>\n",
       "      <td>https://quotes.toscrape.com/author/Albert-Eins...</td>\n",
       "    </tr>\n",
       "    <tr>\n",
       "      <th>3</th>\n",
       "      <td>The person, be it gentleman or lady, who has n...</td>\n",
       "      <td>Jane Austen</td>\n",
       "      <td>aliteracy,books,classic,humor</td>\n",
       "      <td>https://quotes.toscrape.com/author/Jane-Austen/</td>\n",
       "    </tr>\n",
       "    <tr>\n",
       "      <th>4</th>\n",
       "      <td>Imperfection is beauty, madness is genius and ...</td>\n",
       "      <td>Marilyn Monroe</td>\n",
       "      <td>be-yourself,inspirational</td>\n",
       "      <td>https://quotes.toscrape.com/author/Marilyn-Mon...</td>\n",
       "    </tr>\n",
       "  </tbody>\n",
       "</table>\n",
       "</div>"
      ],
      "text/plain": [
       "                                             content           author  \\\n",
       "0  The world as we have created it is a process o...  Albert Einstein   \n",
       "1  It is our choices, Harry, that show what we tr...     J.K. Rowling   \n",
       "2  There are only two ways to live your life. One...  Albert Einstein   \n",
       "3  The person, be it gentleman or lady, who has n...      Jane Austen   \n",
       "4  Imperfection is beauty, madness is genius and ...   Marilyn Monroe   \n",
       "\n",
       "                                       tags  \\\n",
       "0       change,deep-thoughts,thinking,world   \n",
       "1                         abilities,choices   \n",
       "2  inspirational,life,live,miracle,miracles   \n",
       "3             aliteracy,books,classic,humor   \n",
       "4                 be-yourself,inspirational   \n",
       "\n",
       "                                         link_author  \n",
       "0  https://quotes.toscrape.com/author/Albert-Eins...  \n",
       "1    https://quotes.toscrape.com/author/J-K-Rowling/  \n",
       "2  https://quotes.toscrape.com/author/Albert-Eins...  \n",
       "3    https://quotes.toscrape.com/author/Jane-Austen/  \n",
       "4  https://quotes.toscrape.com/author/Marilyn-Mon...  "
      ]
     },
     "execution_count": 31,
     "metadata": {},
     "output_type": "execute_result"
    }
   ],
   "source": [
    "df = pd.read_csv('content.csv')\n",
    "df.head()"
   ]
  },
  {
   "cell_type": "code",
   "execution_count": 35,
   "metadata": {},
   "outputs": [
    {
     "data": {
      "text/plain": [
       "content        0\n",
       "author         0\n",
       "tags           3\n",
       "link_author    0\n",
       "dtype: int64"
      ]
     },
     "execution_count": 35,
     "metadata": {},
     "output_type": "execute_result"
    }
   ],
   "source": [
    "df.isna().sum()"
   ]
  },
  {
   "cell_type": "code",
   "execution_count": 36,
   "metadata": {},
   "outputs": [
    {
     "data": {
      "text/html": [
       "<div>\n",
       "<style scoped>\n",
       "    .dataframe tbody tr th:only-of-type {\n",
       "        vertical-align: middle;\n",
       "    }\n",
       "\n",
       "    .dataframe tbody tr th {\n",
       "        vertical-align: top;\n",
       "    }\n",
       "\n",
       "    .dataframe thead th {\n",
       "        text-align: right;\n",
       "    }\n",
       "</style>\n",
       "<table border=\"1\" class=\"dataframe\">\n",
       "  <thead>\n",
       "    <tr style=\"text-align: right;\">\n",
       "      <th></th>\n",
       "      <th>content</th>\n",
       "      <th>author</th>\n",
       "      <th>tags</th>\n",
       "      <th>link_author</th>\n",
       "    </tr>\n",
       "  </thead>\n",
       "  <tbody>\n",
       "    <tr>\n",
       "      <th>27</th>\n",
       "      <td>It is impossible to live without failing at so...</td>\n",
       "      <td>J.K. Rowling</td>\n",
       "      <td>NaN</td>\n",
       "      <td>https://quotes.toscrape.com/author/J-K-Rowling/</td>\n",
       "    </tr>\n",
       "    <tr>\n",
       "      <th>42</th>\n",
       "      <td>You believe lies so you eventually learn to tr...</td>\n",
       "      <td>Marilyn Monroe</td>\n",
       "      <td>NaN</td>\n",
       "      <td>https://quotes.toscrape.com/author/Marilyn-Mon...</td>\n",
       "    </tr>\n",
       "    <tr>\n",
       "      <th>78</th>\n",
       "      <td>The question isn't who is going to let me; it'...</td>\n",
       "      <td>Ayn Rand</td>\n",
       "      <td>NaN</td>\n",
       "      <td>https://quotes.toscrape.com/author/Ayn-Rand/</td>\n",
       "    </tr>\n",
       "  </tbody>\n",
       "</table>\n",
       "</div>"
      ],
      "text/plain": [
       "                                              content          author tags  \\\n",
       "27  It is impossible to live without failing at so...    J.K. Rowling  NaN   \n",
       "42  You believe lies so you eventually learn to tr...  Marilyn Monroe  NaN   \n",
       "78  The question isn't who is going to let me; it'...        Ayn Rand  NaN   \n",
       "\n",
       "                                          link_author  \n",
       "27    https://quotes.toscrape.com/author/J-K-Rowling/  \n",
       "42  https://quotes.toscrape.com/author/Marilyn-Mon...  \n",
       "78       https://quotes.toscrape.com/author/Ayn-Rand/  "
      ]
     },
     "execution_count": 36,
     "metadata": {},
     "output_type": "execute_result"
    }
   ],
   "source": [
    "df[df['tags'].isna()]"
   ]
  },
  {
   "cell_type": "code",
   "execution_count": null,
   "metadata": {},
   "outputs": [],
   "source": []
  },
  {
   "cell_type": "code",
   "execution_count": null,
   "metadata": {},
   "outputs": [],
   "source": []
  }
 ],
 "metadata": {
  "kernelspec": {
   "display_name": "Python 3",
   "language": "python",
   "name": "python3"
  },
  "language_info": {
   "codemirror_mode": {
    "name": "ipython",
    "version": 3
   },
   "file_extension": ".py",
   "mimetype": "text/x-python",
   "name": "python",
   "nbconvert_exporter": "python",
   "pygments_lexer": "ipython3",
   "version": "3.8.3"
  }
 },
 "nbformat": 4,
 "nbformat_minor": 4
}
