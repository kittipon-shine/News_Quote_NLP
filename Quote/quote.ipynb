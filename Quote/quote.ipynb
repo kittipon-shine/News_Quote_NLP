{
 "cells": [
  {
   "cell_type": "markdown",
   "metadata": {
    "id": "qHRywNU32KhZ"
   },
   "source": [
    "# Assignment 2 - DS4Biz Y63\n",
    "## TextScraping_Classification\n",
    "***\n",
    "\n",
    "### Team Detail\n",
    "**Team Name**: sompinandsomshine   \n",
    "***\n",
    "### *Student 1*\n",
    "**Student ID**: 61070278   \n",
    "**Student Full Name**: นายกิตติภณ สุรุ่งเรืองสกุล\n",
    "***\n",
    "### *Student 2*\n",
    "**Student ID**: 61070330   \n",
    "**Student Full Name**: นางสาวอิงฟ้า ภูติวรนาถ\n",
    "***"
   ]
  },
  {
   "cell_type": "markdown",
   "metadata": {},
   "source": [
    "<b>import package ที่ต้องใช้</b>\n",
    "\n",
    "- requests, bs4 ใช้ scrape ข้อมูลจากหน้าเว็บ\n",
    "- pandas(pd), numpy(np) ใช้จัดการข้อมูลที่ scrape มาเช่น ทำเป็น DataFrame, แปลงเป็น csv/txt\n",
    "- warnings ใช้ปิด warning ที่แจ้งเตือน\n",
    "- CountVectorizer, TfidfTransformer, TfidfVectorizer ใช้เตรียมข้อมูลเช่น ทำ term weighting\n",
    "- MultiLabelBinarizer\n",
    "- nltk ใช้ในการประมวลผลภาษาธรรมชาติเช่น กำจัด stopwords (คำที่เกิดขึ้นบ่อยและไม่มีอิทธิพลในการจำแนก)\n",
    "- train_test_split, cross_val_score, StratifiedKFold, GridSearchCV นำมาทำ model selection และหา best hyperparameter\n",
    "- neighbors(KNeighborsClassifier), linear_model(LogisticRegression), ensemble(RandomForestClassifier) model ที่จะนำมาใช้ในการทำนายว่าแต่Tagsเป็นประเภทไหน"
   ]
  },
  {
   "cell_type": "code",
   "execution_count": 36,
   "metadata": {
    "executionInfo": {
     "elapsed": 1837,
     "status": "ok",
     "timestamp": 1605258507418,
     "user": {
      "displayName": "ENGFAH PUTIVARANAT",
      "photoUrl": "",
      "userId": "14896843217925999521"
     },
     "user_tz": -420
    },
    "id": "otwFg1EK2Khm"
   },
   "outputs": [],
   "source": [
    "import requests\n",
    "import bs4\n",
    "\n",
    "import pandas as pd\n",
    "import numpy as np\n",
    "from numpy import mean\n",
    "from numpy import std\n",
    "\n",
    "import warnings\n",
    "warnings.filterwarnings('ignore')\n",
    "\n",
    "from sklearn.feature_extraction.text import CountVectorizer\n",
    "from sklearn.feature_extraction.text import TfidfTransformer\n",
    "from sklearn.feature_extraction.text import TfidfVectorizer\n",
    "\n",
    "import nltk\n",
    "from nltk.corpus import stopwords\n",
    "\n",
    "from sklearn.preprocessing import MultiLabelBinarizer\n",
    "from sklearn.model_selection import train_test_split\n",
    "from sklearn.model_selection import cross_val_score\n",
    "from sklearn.model_selection import StratifiedKFold\n",
    "from sklearn.model_selection import GridSearchCV\n",
    "from sklearn.model_selection import LeaveOneOut\n",
    "from sklearn import metrics\n",
    "from sklearn.metrics import precision_score\n",
    "from sklearn.metrics import recall_score\n",
    "\n",
    "\n",
    "from sklearn.neighbors import KNeighborsClassifier\n",
    "from sklearn.linear_model import LogisticRegression\n",
    "from sklearn.ensemble import RandomForestClassifier\n",
    "\n",
    "import matplotlib \n",
    "import matplotlib.pyplot as plt\n",
    "import seaborn as sns"
   ]
  },
  {
   "cell_type": "markdown",
   "metadata": {
    "id": "gQCUC3SM2Khk"
   },
   "source": [
    "# Data Collection"
   ]
  },
  {
   "cell_type": "markdown",
   "metadata": {
    "id": "gx0SQvCq2Khd"
   },
   "source": [
    "#### link: https://quotes.toscrape.com/"
   ]
  },
  {
   "cell_type": "markdown",
   "metadata": {},
   "source": [
    "ใช้ **requests.get** ตรวจสอบว่าลิงก์ที่ต้องการ scrape ข้อมูลสามารถเข้าได้มั้ย"
   ]
  },
  {
   "cell_type": "code",
   "execution_count": 37,
   "metadata": {
    "colab": {
     "base_uri": "https://localhost:8080/"
    },
    "executionInfo": {
     "elapsed": 1825,
     "status": "ok",
     "timestamp": 1605258507421,
     "user": {
      "displayName": "ENGFAH PUTIVARANAT",
      "photoUrl": "",
      "userId": "14896843217925999521"
     },
     "user_tz": -420
    },
    "id": "711GJX3y2Khq",
    "outputId": "e499eaf2-3bd1-4192-a987-a10592d1ebbe"
   },
   "outputs": [
    {
     "name": "stdout",
     "output_type": "stream",
     "text": [
      "<Response [200]>\n",
      "<class 'requests.models.Response'>\n"
     ]
    }
   ],
   "source": [
    "response = requests.get('https://quotes.toscrape.com/page/1/')\n",
    "print(response) # response 200 คือสามารถเข้าถึงได้ พร้อมดึงข้อมูลprint(type(response))\n",
    "html_page = bs4.BeautifulSoup(response.content, 'html.parser')\n",
    "# print(html_page)"
   ]
  },
  {
   "cell_type": "markdown",
   "metadata": {
    "id": "9qyrSdr23bYY"
   },
   "source": [
    "website ที่ต้องการดึงข้อมูลนั้นไม่มีบอกจำนวนหน้าชัดเจนเลยทำการเช็คดูก่อนว่ามีทั้งหมดกี่หน้า โดยจะใช้ while loop วนเช็คไปเรื่อยๆ เมื่อเจอข้อความว่า **No quotes found!** ก็จะทำการหยุด loop แต่ถ้าไม่พบข้อความดังกล่าวก็จะทำการเพิ่มเลขหน้านั้นไปที่ list ที่ชื่อว่า list_page"
   ]
  },
  {
   "cell_type": "code",
   "execution_count": 38,
   "metadata": {
    "colab": {
     "base_uri": "https://localhost:8080/",
     "height": 441
    },
    "executionInfo": {
     "elapsed": 877,
     "status": "error",
     "timestamp": 1605258796382,
     "user": {
      "displayName": "ENGFAH PUTIVARANAT",
      "photoUrl": "",
      "userId": "14896843217925999521"
     },
     "user_tz": -420
    },
    "id": "qKncSUSY2Khu",
    "outputId": "ab86fe20-c0b5-4181-b6f6-67f42e6093af"
   },
   "outputs": [],
   "source": [
    "list_page = [] #เก็บ url หน้าทั้งหมด\n",
    "cur = 1 #ให้เริ่มหาตั้งแต่หน้าที่ 1\n",
    "while 1: #ทำการวนลูปไปเรื่อยๆ แล้วค่อยไปหยุดตามเงื่อนไขข้างใน loop\n",
    "    url = 'https://quotes.toscrape.com/page/'+str(cur)+'/' #เอา cur มาประกอบกันเป็นลิงก์\n",
    "    response = requests.get(url)\n",
    "    html_page = bs4.BeautifulSoup(response.content, 'html.parser')\n",
    "    selector = 'body > div > div:nth-child(2) > div.col-md-8'\n",
    "    tag = html_page.select_one(selector)\n",
    "    #เช็คว่าเจอข้อความ error มั้ย\n",
    "    if 'No quotes found!' in tag.text:\n",
    "        break\n",
    "    #ถ้าไม่เจอก็จะทำการเพิ่มหน้าไปที่ list_page\n",
    "    else:\n",
    "        list_page.append(url)\n",
    "        cur += 1\n"
   ]
  },
  {
   "cell_type": "code",
   "execution_count": 39,
   "metadata": {
    "executionInfo": {
     "elapsed": 2247,
     "status": "aborted",
     "timestamp": 1605258507860,
     "user": {
      "displayName": "ENGFAH PUTIVARANAT",
      "photoUrl": "",
      "userId": "14896843217925999521"
     },
     "user_tz": -420
    },
    "id": "fq2fOLbm2Khx"
   },
   "outputs": [
    {
     "data": {
      "text/plain": [
       "['https://quotes.toscrape.com/page/1/',\n",
       " 'https://quotes.toscrape.com/page/2/',\n",
       " 'https://quotes.toscrape.com/page/3/',\n",
       " 'https://quotes.toscrape.com/page/4/',\n",
       " 'https://quotes.toscrape.com/page/5/',\n",
       " 'https://quotes.toscrape.com/page/6/',\n",
       " 'https://quotes.toscrape.com/page/7/',\n",
       " 'https://quotes.toscrape.com/page/8/',\n",
       " 'https://quotes.toscrape.com/page/9/',\n",
       " 'https://quotes.toscrape.com/page/10/']"
      ]
     },
     "execution_count": 39,
     "metadata": {},
     "output_type": "execute_result"
    }
   ],
   "source": [
    "list_page"
   ]
  },
  {
   "cell_type": "code",
   "execution_count": 40,
   "metadata": {
    "executionInfo": {
     "elapsed": 2238,
     "status": "aborted",
     "timestamp": 1605258507862,
     "user": {
      "displayName": "ENGFAH PUTIVARANAT",
      "photoUrl": "",
      "userId": "14896843217925999521"
     },
     "user_tz": -420
    },
    "id": "omR_rhTb2Kh0"
   },
   "outputs": [
    {
     "data": {
      "text/html": [
       "<div>\n",
       "<style scoped>\n",
       "    .dataframe tbody tr th:only-of-type {\n",
       "        vertical-align: middle;\n",
       "    }\n",
       "\n",
       "    .dataframe tbody tr th {\n",
       "        vertical-align: top;\n",
       "    }\n",
       "\n",
       "    .dataframe thead th {\n",
       "        text-align: right;\n",
       "    }\n",
       "</style>\n",
       "<table border=\"1\" class=\"dataframe\">\n",
       "  <thead>\n",
       "    <tr style=\"text-align: right;\">\n",
       "      <th></th>\n",
       "      <th>content</th>\n",
       "      <th>author</th>\n",
       "      <th>tags</th>\n",
       "      <th>link_author</th>\n",
       "    </tr>\n",
       "  </thead>\n",
       "  <tbody>\n",
       "  </tbody>\n",
       "</table>\n",
       "</div>"
      ],
      "text/plain": [
       "Empty DataFrame\n",
       "Columns: [content, author, tags, link_author]\n",
       "Index: []"
      ]
     },
     "execution_count": 40,
     "metadata": {},
     "output_type": "execute_result"
    }
   ],
   "source": [
    "#สร้าง DataFrame เพื่อรอเก็บข้อมูลที่ดึงได้\n",
    "df = pd.DataFrame(columns=['content','author','tags', 'link_author'])\n",
    "df"
   ]
  },
  {
   "cell_type": "markdown",
   "metadata": {},
   "source": [
    "สร้าง Function ที่ใช้ดึงข้อมูลในส่วนต่างๆได้แก่ content, author, tags, link_author\n",
    "\n",
    "โดยจะมี Function **extract_quotes** เพื่อเรียกใช้งาน Function ทั้งหมดอีกรอบนึง"
   ]
  },
  {
   "cell_type": "code",
   "execution_count": 41,
   "metadata": {
    "executionInfo": {
     "elapsed": 2236,
     "status": "aborted",
     "timestamp": 1605258507863,
     "user": {
      "displayName": "ENGFAH PUTIVARANAT",
      "photoUrl": "",
      "userId": "14896843217925999521"
     },
     "user_tz": -420
    },
    "id": "iqUszuN72Kh4"
   },
   "outputs": [],
   "source": [
    "# Content ดึงในส่วนของข้อความ\n",
    "def extract_content(html_page):\n",
    "    selector = 'div.col-md-8 > div > span.text'\n",
    "    tags = html_page.select(selector)\n",
    "    content = []\n",
    "    \n",
    "    for tag in tags:\n",
    "        content.append(tag.text.strip().replace('“', '').replace('”', ''))\n",
    "        \n",
    "    return content"
   ]
  },
  {
   "cell_type": "code",
   "execution_count": 42,
   "metadata": {
    "executionInfo": {
     "elapsed": 2236,
     "status": "aborted",
     "timestamp": 1605258507867,
     "user": {
      "displayName": "ENGFAH PUTIVARANAT",
      "photoUrl": "",
      "userId": "14896843217925999521"
     },
     "user_tz": -420
    },
    "id": "nqtltEla2Kh8"
   },
   "outputs": [],
   "source": [
    "# Author ดึงในส่วนของชื่อผู้เขียน\n",
    "def extract_author(html_page):\n",
    "    selector = 'div.col-md-8 > div > span > small'\n",
    "    tags = html_page.select(selector)\n",
    "    author = []\n",
    "    \n",
    "    for tag in tags:\n",
    "        author.append(tag.text.strip().replace('-', ' '))\n",
    "        \n",
    "    return author"
   ]
  },
  {
   "cell_type": "code",
   "execution_count": 43,
   "metadata": {
    "executionInfo": {
     "elapsed": 2236,
     "status": "aborted",
     "timestamp": 1605258507869,
     "user": {
      "displayName": "ENGFAH PUTIVARANAT",
      "photoUrl": "",
      "userId": "14896843217925999521"
     },
     "user_tz": -420
    },
    "id": "5cCLJJUL2KiA"
   },
   "outputs": [],
   "source": [
    "# tags ดึงในส่วนของ tags ของข้อความ\n",
    "def extract_tags(html_page):\n",
    "    selector = 'div.col-md-8 > div > div > meta'\n",
    "    tags = html_page.select(selector)\n",
    "    quote_tags = []\n",
    "    \n",
    "    for tag in tags:\n",
    "#         print(tag['content'])\n",
    "        quote_tags.append(tag['content'])\n",
    "        \n",
    "    return quote_tags"
   ]
  },
  {
   "cell_type": "code",
   "execution_count": 44,
   "metadata": {
    "executionInfo": {
     "elapsed": 2234,
     "status": "aborted",
     "timestamp": 1605258507870,
     "user": {
      "displayName": "ENGFAH PUTIVARANAT",
      "photoUrl": "",
      "userId": "14896843217925999521"
     },
     "user_tz": -420
    },
    "id": "movHceSQ2KiE"
   },
   "outputs": [],
   "source": [
    "# link_author ดึงในส่วนของลิงก์ประวัติผู้เขียน\n",
    "def extract_link_author(html_page):\n",
    "    selector = 'div.col-md-8 > div > span > a'\n",
    "    tags = html_page.select(selector)\n",
    "    link_author = []\n",
    "    \n",
    "    for tag in tags:\n",
    "#         print(tag['content'])\n",
    "        link_author.append('https://quotes.toscrape.com/author/' + tag['href'].split('/')[-1] + '/')\n",
    "        \n",
    "    return link_author"
   ]
  },
  {
   "cell_type": "code",
   "execution_count": 46,
   "metadata": {
    "executionInfo": {
     "elapsed": 2230,
     "status": "aborted",
     "timestamp": 1605258507873,
     "user": {
      "displayName": "ENGFAH PUTIVARANAT",
      "photoUrl": "",
      "userId": "14896843217925999521"
     },
     "user_tz": -420
    },
    "id": "7ERJMKwy2KiL",
    "scrolled": true
   },
   "outputs": [],
   "source": [
    "#เรียกใช้งาน Function ทั้งหมดร่วมกัน\n",
    "def extract_quotes(url):\n",
    "    response = requests.get(url)\n",
    "    html_page = bs4.BeautifulSoup(response.content, 'html.parser')\n",
    "\n",
    "#     เอาข้อมูลที่ดึงได้มาเก็บไว้ที่ตัวแปรแต่ละตัว\n",
    "    content = extract_content(html_page)\n",
    "    author = extract_author(html_page)\n",
    "    tags = extract_tags(html_page)\n",
    "    link_author = extract_link_author(html_page)\n",
    "    \n",
    "#     เอาข้อมูลที่เก็บไว้ในตัวแปรไปสร้างเป็น DataFrame\n",
    "    Alltags = {'content':content,'author':author,'tags':tags,'link_author':link_author}\n",
    "    result = pd.DataFrame(Alltags)\n",
    "    return result #คืนค่า DataFrame กลับไป"
   ]
  },
  {
   "cell_type": "markdown",
   "metadata": {},
   "source": [
    "ทำ For loop เพื่อดึงข้อมูลในแต่ละหน้าใน **list_page** โดยข้อมูลที่ดึงได้จะถูกเพิ่มไปใน df ที่สร้างไว้ก่อนหน้า"
   ]
  },
  {
   "cell_type": "code",
   "execution_count": 47,
   "metadata": {
    "executionInfo": {
     "elapsed": 2222,
     "status": "aborted",
     "timestamp": 1605258507875,
     "user": {
      "displayName": "ENGFAH PUTIVARANAT",
      "photoUrl": "",
      "userId": "14896843217925999521"
     },
     "user_tz": -420
    },
    "id": "sPG9wZUI2KiO"
   },
   "outputs": [
    {
     "data": {
      "text/html": [
       "<div>\n",
       "<style scoped>\n",
       "    .dataframe tbody tr th:only-of-type {\n",
       "        vertical-align: middle;\n",
       "    }\n",
       "\n",
       "    .dataframe tbody tr th {\n",
       "        vertical-align: top;\n",
       "    }\n",
       "\n",
       "    .dataframe thead th {\n",
       "        text-align: right;\n",
       "    }\n",
       "</style>\n",
       "<table border=\"1\" class=\"dataframe\">\n",
       "  <thead>\n",
       "    <tr style=\"text-align: right;\">\n",
       "      <th></th>\n",
       "      <th>content</th>\n",
       "      <th>author</th>\n",
       "      <th>tags</th>\n",
       "      <th>link_author</th>\n",
       "    </tr>\n",
       "  </thead>\n",
       "  <tbody>\n",
       "    <tr>\n",
       "      <th>0</th>\n",
       "      <td>The world as we have created it is a process o...</td>\n",
       "      <td>Albert Einstein</td>\n",
       "      <td>change,deep-thoughts,thinking,world</td>\n",
       "      <td>https://quotes.toscrape.com/author/Albert-Eins...</td>\n",
       "    </tr>\n",
       "    <tr>\n",
       "      <th>1</th>\n",
       "      <td>It is our choices, Harry, that show what we tr...</td>\n",
       "      <td>J.K. Rowling</td>\n",
       "      <td>abilities,choices</td>\n",
       "      <td>https://quotes.toscrape.com/author/J-K-Rowling/</td>\n",
       "    </tr>\n",
       "    <tr>\n",
       "      <th>2</th>\n",
       "      <td>There are only two ways to live your life. One...</td>\n",
       "      <td>Albert Einstein</td>\n",
       "      <td>inspirational,life,live,miracle,miracles</td>\n",
       "      <td>https://quotes.toscrape.com/author/Albert-Eins...</td>\n",
       "    </tr>\n",
       "    <tr>\n",
       "      <th>3</th>\n",
       "      <td>The person, be it gentleman or lady, who has n...</td>\n",
       "      <td>Jane Austen</td>\n",
       "      <td>aliteracy,books,classic,humor</td>\n",
       "      <td>https://quotes.toscrape.com/author/Jane-Austen/</td>\n",
       "    </tr>\n",
       "    <tr>\n",
       "      <th>4</th>\n",
       "      <td>Imperfection is beauty, madness is genius and ...</td>\n",
       "      <td>Marilyn Monroe</td>\n",
       "      <td>be-yourself,inspirational</td>\n",
       "      <td>https://quotes.toscrape.com/author/Marilyn-Mon...</td>\n",
       "    </tr>\n",
       "  </tbody>\n",
       "</table>\n",
       "</div>"
      ],
      "text/plain": [
       "                                             content           author  \\\n",
       "0  The world as we have created it is a process o...  Albert Einstein   \n",
       "1  It is our choices, Harry, that show what we tr...     J.K. Rowling   \n",
       "2  There are only two ways to live your life. One...  Albert Einstein   \n",
       "3  The person, be it gentleman or lady, who has n...      Jane Austen   \n",
       "4  Imperfection is beauty, madness is genius and ...   Marilyn Monroe   \n",
       "\n",
       "                                       tags  \\\n",
       "0       change,deep-thoughts,thinking,world   \n",
       "1                         abilities,choices   \n",
       "2  inspirational,life,live,miracle,miracles   \n",
       "3             aliteracy,books,classic,humor   \n",
       "4                 be-yourself,inspirational   \n",
       "\n",
       "                                         link_author  \n",
       "0  https://quotes.toscrape.com/author/Albert-Eins...  \n",
       "1    https://quotes.toscrape.com/author/J-K-Rowling/  \n",
       "2  https://quotes.toscrape.com/author/Albert-Eins...  \n",
       "3    https://quotes.toscrape.com/author/Jane-Austen/  \n",
       "4  https://quotes.toscrape.com/author/Marilyn-Mon...  "
      ]
     },
     "execution_count": 47,
     "metadata": {},
     "output_type": "execute_result"
    }
   ],
   "source": [
    "for url in list_page:\n",
    "    result = extract_quotes(url)\n",
    "    df = df.append(result, ignore_index=True)\n",
    "df.head()"
   ]
  },
  {
   "cell_type": "markdown",
   "metadata": {
    "id": "StHKFLuG2KiV"
   },
   "source": [
    "## scrape author detail\n",
    "\n",
    "ดึงข้อมูลส่วนตัวของผู้เขียน"
   ]
  },
  {
   "cell_type": "code",
   "execution_count": 51,
   "metadata": {
    "executionInfo": {
     "elapsed": 2216,
     "status": "aborted",
     "timestamp": 1605258507888,
     "user": {
      "displayName": "ENGFAH PUTIVARANAT",
      "photoUrl": "",
      "userId": "14896843217925999521"
     },
     "user_tz": -420
    },
    "id": "2UoX5mmh2Kib"
   },
   "outputs": [],
   "source": [
    "# author born date ข้อมูลวันเกิด\n",
    "def born_date(html_page):\n",
    "    born_date = html_page.findAll(\"span\", {\"class\": \"author-born-date\"})\n",
    "    born_date = born_date[0].text.replace(',', '').replace(' ', '-')\n",
    "    return born_date"
   ]
  },
  {
   "cell_type": "code",
   "execution_count": 52,
   "metadata": {
    "executionInfo": {
     "elapsed": 2213,
     "status": "aborted",
     "timestamp": 1605258507890,
     "user": {
      "displayName": "ENGFAH PUTIVARANAT",
      "photoUrl": "",
      "userId": "14896843217925999521"
     },
     "user_tz": -420
    },
    "id": "CZFRj1yQ2Kic"
   },
   "outputs": [],
   "source": [
    "# author born location ข้อมูลสถานที่เกิด\n",
    "def born_location(html_page):\n",
    "    born_location = html_page.findAll(\"span\", {\"class\": \"author-born-location\"})\n",
    "    born_location = born_location[0].text.replace(',', '|')\n",
    "    return born_location"
   ]
  },
  {
   "cell_type": "code",
   "execution_count": 53,
   "metadata": {
    "executionInfo": {
     "elapsed": 2209,
     "status": "aborted",
     "timestamp": 1605258507891,
     "user": {
      "displayName": "ENGFAH PUTIVARANAT",
      "photoUrl": "",
      "userId": "14896843217925999521"
     },
     "user_tz": -420
    },
    "id": "glQD2haA2Kie"
   },
   "outputs": [],
   "source": [
    "# author Description คำบรรยาย\n",
    "def description(html_page):\n",
    "    description = html_page.findAll(\"div\", {\"class\": \"author-description\"})\n",
    "    description = description[0].text.strip()\n",
    "    return description"
   ]
  },
  {
   "cell_type": "code",
   "execution_count": 54,
   "metadata": {
    "executionInfo": {
     "elapsed": 2206,
     "status": "aborted",
     "timestamp": 1605258507893,
     "user": {
      "displayName": "ENGFAH PUTIVARANAT",
      "photoUrl": "",
      "userId": "14896843217925999521"
     },
     "user_tz": -420
    },
    "id": "hKcfwDnj2Kig"
   },
   "outputs": [],
   "source": [
    "# author author name ข้อมูลชื่อผู้เขียน\n",
    "def author_name(html_page):\n",
    "    author_name = html_page.findAll(\"h3\", {\"class\": \"author-title\"})\n",
    "    author_name = author_name[0].text.strip().replace('-', ' ')\n",
    "    return author_name"
   ]
  },
  {
   "cell_type": "markdown",
   "metadata": {},
   "source": [
    "ทำการดึงข้อมูลส่วนตัวของผู้เขียนแล้วเก็บไว้ใน list ต่างๆ"
   ]
  },
  {
   "cell_type": "code",
   "execution_count": 56,
   "metadata": {
    "executionInfo": {
     "elapsed": 2201,
     "status": "aborted",
     "timestamp": 1605258507896,
     "user": {
      "displayName": "ENGFAH PUTIVARANAT",
      "photoUrl": "",
      "userId": "14896843217925999521"
     },
     "user_tz": -420
    },
    "id": "tUZvw2632Kik"
   },
   "outputs": [],
   "source": [
    "# สร้าง list เพื่อรอเก็บข้อมูลที่ดึงได้\n",
    "list_born_date = []\n",
    "list_born_location = []\n",
    "list_description = []\n",
    "list_author_name = []\n",
    "\n",
    "for link_author in list(df['link_author'].unique()):\n",
    "    \n",
    "#     response = requests.get('https://quotes.toscrape.com/author/Albert-Einstein/')\n",
    "    response = requests.get(link_author)\n",
    "    html_page = bs4.BeautifulSoup(response.content, 'html.parser')\n",
    "    \n",
    "#     เพิ่มข้อมูลที่ดึงได้ไปใส่ไว้ใน list\n",
    "    list_born_date.append(born_date(html_page))\n",
    "    list_born_location.append(born_location(html_page))\n",
    "    list_description.append(description(html_page))\n",
    "    list_author_name.append(author_name(html_page))"
   ]
  },
  {
   "cell_type": "markdown",
   "metadata": {},
   "source": [
    "เอา list ที่เก็บข้อมูลส่วนตัวผู้เขียนมาสร้างเป็น DataFrame"
   ]
  },
  {
   "cell_type": "code",
   "execution_count": 57,
   "metadata": {
    "executionInfo": {
     "elapsed": 2199,
     "status": "aborted",
     "timestamp": 1605258507897,
     "user": {
      "displayName": "ENGFAH PUTIVARANAT",
      "photoUrl": "",
      "userId": "14896843217925999521"
     },
     "user_tz": -420
    },
    "id": "LjaDZ38z2Kim",
    "scrolled": true
   },
   "outputs": [],
   "source": [
    "Alldetail = {'author': list_author_name, 'born_date': list_born_date, 'born_location': list_born_location, 'author_description':list_description}\n",
    "author_df = pd.DataFrame(Alldetail)"
   ]
  },
  {
   "cell_type": "code",
   "execution_count": 58,
   "metadata": {
    "executionInfo": {
     "elapsed": 2191,
     "status": "aborted",
     "timestamp": 1605258507898,
     "user": {
      "displayName": "ENGFAH PUTIVARANAT",
      "photoUrl": "",
      "userId": "14896843217925999521"
     },
     "user_tz": -420
    },
    "id": "XXlyZf362Kip"
   },
   "outputs": [
    {
     "data": {
      "text/html": [
       "<div>\n",
       "<style scoped>\n",
       "    .dataframe tbody tr th:only-of-type {\n",
       "        vertical-align: middle;\n",
       "    }\n",
       "\n",
       "    .dataframe tbody tr th {\n",
       "        vertical-align: top;\n",
       "    }\n",
       "\n",
       "    .dataframe thead th {\n",
       "        text-align: right;\n",
       "    }\n",
       "</style>\n",
       "<table border=\"1\" class=\"dataframe\">\n",
       "  <thead>\n",
       "    <tr style=\"text-align: right;\">\n",
       "      <th></th>\n",
       "      <th>author</th>\n",
       "      <th>born_date</th>\n",
       "      <th>born_location</th>\n",
       "      <th>author_description</th>\n",
       "    </tr>\n",
       "  </thead>\n",
       "  <tbody>\n",
       "    <tr>\n",
       "      <th>0</th>\n",
       "      <td>Albert Einstein</td>\n",
       "      <td>March-14-1879</td>\n",
       "      <td>in Ulm| Germany</td>\n",
       "      <td>In 1879, Albert Einstein was born in Ulm, Germ...</td>\n",
       "    </tr>\n",
       "    <tr>\n",
       "      <th>1</th>\n",
       "      <td>J.K. Rowling</td>\n",
       "      <td>July-31-1965</td>\n",
       "      <td>in Yate| South Gloucestershire| England| The U...</td>\n",
       "      <td>See also: Robert GalbraithAlthough she writes ...</td>\n",
       "    </tr>\n",
       "    <tr>\n",
       "      <th>2</th>\n",
       "      <td>Jane Austen</td>\n",
       "      <td>December-16-1775</td>\n",
       "      <td>in Steventon Rectory| Hampshire| The United Ki...</td>\n",
       "      <td>Jane Austen was an English novelist whose work...</td>\n",
       "    </tr>\n",
       "    <tr>\n",
       "      <th>3</th>\n",
       "      <td>Marilyn Monroe</td>\n",
       "      <td>June-01-1926</td>\n",
       "      <td>in The United States</td>\n",
       "      <td>Marilyn Monroe (born Norma Jeane Mortenson; Ju...</td>\n",
       "    </tr>\n",
       "    <tr>\n",
       "      <th>4</th>\n",
       "      <td>André Gide</td>\n",
       "      <td>November-22-1869</td>\n",
       "      <td>in Paris| France</td>\n",
       "      <td>André Paul Guillaume Gide was a French author ...</td>\n",
       "    </tr>\n",
       "  </tbody>\n",
       "</table>\n",
       "</div>"
      ],
      "text/plain": [
       "            author         born_date  \\\n",
       "0  Albert Einstein     March-14-1879   \n",
       "1     J.K. Rowling      July-31-1965   \n",
       "2      Jane Austen  December-16-1775   \n",
       "3   Marilyn Monroe      June-01-1926   \n",
       "4       André Gide  November-22-1869   \n",
       "\n",
       "                                       born_location  \\\n",
       "0                                    in Ulm| Germany   \n",
       "1  in Yate| South Gloucestershire| England| The U...   \n",
       "2  in Steventon Rectory| Hampshire| The United Ki...   \n",
       "3                               in The United States   \n",
       "4                                   in Paris| France   \n",
       "\n",
       "                                  author_description  \n",
       "0  In 1879, Albert Einstein was born in Ulm, Germ...  \n",
       "1  See also: Robert GalbraithAlthough she writes ...  \n",
       "2  Jane Austen was an English novelist whose work...  \n",
       "3  Marilyn Monroe (born Norma Jeane Mortenson; Ju...  \n",
       "4  André Paul Guillaume Gide was a French author ...  "
      ]
     },
     "execution_count": 58,
     "metadata": {},
     "output_type": "execute_result"
    }
   ],
   "source": [
    "# ตัวอย่าข้อมูลส่วนตัวผู้เขียน\n",
    "author_df.head()"
   ]
  },
  {
   "cell_type": "code",
   "execution_count": 59,
   "metadata": {
    "executionInfo": {
     "elapsed": 2183,
     "status": "aborted",
     "timestamp": 1605258507899,
     "user": {
      "displayName": "ENGFAH PUTIVARANAT",
      "photoUrl": "",
      "userId": "14896843217925999521"
     },
     "user_tz": -420
    },
    "id": "oqtg8nMH2Kis"
   },
   "outputs": [
    {
     "data": {
      "text/html": [
       "<div>\n",
       "<style scoped>\n",
       "    .dataframe tbody tr th:only-of-type {\n",
       "        vertical-align: middle;\n",
       "    }\n",
       "\n",
       "    .dataframe tbody tr th {\n",
       "        vertical-align: top;\n",
       "    }\n",
       "\n",
       "    .dataframe thead th {\n",
       "        text-align: right;\n",
       "    }\n",
       "</style>\n",
       "<table border=\"1\" class=\"dataframe\">\n",
       "  <thead>\n",
       "    <tr style=\"text-align: right;\">\n",
       "      <th></th>\n",
       "      <th>content</th>\n",
       "      <th>author</th>\n",
       "      <th>tags</th>\n",
       "      <th>link_author</th>\n",
       "    </tr>\n",
       "  </thead>\n",
       "  <tbody>\n",
       "    <tr>\n",
       "      <th>0</th>\n",
       "      <td>The world as we have created it is a process o...</td>\n",
       "      <td>Albert Einstein</td>\n",
       "      <td>change,deep-thoughts,thinking,world</td>\n",
       "      <td>https://quotes.toscrape.com/author/Albert-Eins...</td>\n",
       "    </tr>\n",
       "    <tr>\n",
       "      <th>1</th>\n",
       "      <td>It is our choices, Harry, that show what we tr...</td>\n",
       "      <td>J.K. Rowling</td>\n",
       "      <td>abilities,choices</td>\n",
       "      <td>https://quotes.toscrape.com/author/J-K-Rowling/</td>\n",
       "    </tr>\n",
       "    <tr>\n",
       "      <th>2</th>\n",
       "      <td>There are only two ways to live your life. One...</td>\n",
       "      <td>Albert Einstein</td>\n",
       "      <td>inspirational,life,live,miracle,miracles</td>\n",
       "      <td>https://quotes.toscrape.com/author/Albert-Eins...</td>\n",
       "    </tr>\n",
       "    <tr>\n",
       "      <th>3</th>\n",
       "      <td>The person, be it gentleman or lady, who has n...</td>\n",
       "      <td>Jane Austen</td>\n",
       "      <td>aliteracy,books,classic,humor</td>\n",
       "      <td>https://quotes.toscrape.com/author/Jane-Austen/</td>\n",
       "    </tr>\n",
       "    <tr>\n",
       "      <th>4</th>\n",
       "      <td>Imperfection is beauty, madness is genius and ...</td>\n",
       "      <td>Marilyn Monroe</td>\n",
       "      <td>be-yourself,inspirational</td>\n",
       "      <td>https://quotes.toscrape.com/author/Marilyn-Mon...</td>\n",
       "    </tr>\n",
       "  </tbody>\n",
       "</table>\n",
       "</div>"
      ],
      "text/plain": [
       "                                             content           author  \\\n",
       "0  The world as we have created it is a process o...  Albert Einstein   \n",
       "1  It is our choices, Harry, that show what we tr...     J.K. Rowling   \n",
       "2  There are only two ways to live your life. One...  Albert Einstein   \n",
       "3  The person, be it gentleman or lady, who has n...      Jane Austen   \n",
       "4  Imperfection is beauty, madness is genius and ...   Marilyn Monroe   \n",
       "\n",
       "                                       tags  \\\n",
       "0       change,deep-thoughts,thinking,world   \n",
       "1                         abilities,choices   \n",
       "2  inspirational,life,live,miracle,miracles   \n",
       "3             aliteracy,books,classic,humor   \n",
       "4                 be-yourself,inspirational   \n",
       "\n",
       "                                         link_author  \n",
       "0  https://quotes.toscrape.com/author/Albert-Eins...  \n",
       "1    https://quotes.toscrape.com/author/J-K-Rowling/  \n",
       "2  https://quotes.toscrape.com/author/Albert-Eins...  \n",
       "3    https://quotes.toscrape.com/author/Jane-Austen/  \n",
       "4  https://quotes.toscrape.com/author/Marilyn-Mon...  "
      ]
     },
     "execution_count": 59,
     "metadata": {},
     "output_type": "execute_result"
    }
   ],
   "source": [
    "# ตัวอย่างข้อมูลที่ดึงไว้ในตอนแรก\n",
    "df.head()"
   ]
  },
  {
   "cell_type": "markdown",
   "metadata": {},
   "source": [
    "จะทำการเอา 2 DataFrame มา join กัน เพื่อเพิ่มข้อมูลส่วนตัวผู้เขียนเข้าไปไว้ใน DataFrame ที่ดึงไว้ตอนแรก"
   ]
  },
  {
   "cell_type": "code",
   "execution_count": 60,
   "metadata": {
    "executionInfo": {
     "elapsed": 2169,
     "status": "aborted",
     "timestamp": 1605258507902,
     "user": {
      "displayName": "ENGFAH PUTIVARANAT",
      "photoUrl": "",
      "userId": "14896843217925999521"
     },
     "user_tz": -420
    },
    "id": "aM4WEFAG2Kiz"
   },
   "outputs": [
    {
     "data": {
      "text/html": [
       "<div>\n",
       "<style scoped>\n",
       "    .dataframe tbody tr th:only-of-type {\n",
       "        vertical-align: middle;\n",
       "    }\n",
       "\n",
       "    .dataframe tbody tr th {\n",
       "        vertical-align: top;\n",
       "    }\n",
       "\n",
       "    .dataframe thead th {\n",
       "        text-align: right;\n",
       "    }\n",
       "</style>\n",
       "<table border=\"1\" class=\"dataframe\">\n",
       "  <thead>\n",
       "    <tr style=\"text-align: right;\">\n",
       "      <th></th>\n",
       "      <th>content</th>\n",
       "      <th>author</th>\n",
       "      <th>tags</th>\n",
       "      <th>link_author</th>\n",
       "      <th>born_date</th>\n",
       "      <th>born_location</th>\n",
       "      <th>author_description</th>\n",
       "    </tr>\n",
       "  </thead>\n",
       "  <tbody>\n",
       "    <tr>\n",
       "      <th>0</th>\n",
       "      <td>The world as we have created it is a process o...</td>\n",
       "      <td>Albert Einstein</td>\n",
       "      <td>change,deep-thoughts,thinking,world</td>\n",
       "      <td>https://quotes.toscrape.com/author/Albert-Eins...</td>\n",
       "      <td>March-14-1879</td>\n",
       "      <td>in Ulm| Germany</td>\n",
       "      <td>In 1879, Albert Einstein was born in Ulm, Germ...</td>\n",
       "    </tr>\n",
       "    <tr>\n",
       "      <th>1</th>\n",
       "      <td>It is our choices, Harry, that show what we tr...</td>\n",
       "      <td>J.K. Rowling</td>\n",
       "      <td>abilities,choices</td>\n",
       "      <td>https://quotes.toscrape.com/author/J-K-Rowling/</td>\n",
       "      <td>July-31-1965</td>\n",
       "      <td>in Yate| South Gloucestershire| England| The U...</td>\n",
       "      <td>See also: Robert GalbraithAlthough she writes ...</td>\n",
       "    </tr>\n",
       "    <tr>\n",
       "      <th>2</th>\n",
       "      <td>There are only two ways to live your life. One...</td>\n",
       "      <td>Albert Einstein</td>\n",
       "      <td>inspirational,life,live,miracle,miracles</td>\n",
       "      <td>https://quotes.toscrape.com/author/Albert-Eins...</td>\n",
       "      <td>March-14-1879</td>\n",
       "      <td>in Ulm| Germany</td>\n",
       "      <td>In 1879, Albert Einstein was born in Ulm, Germ...</td>\n",
       "    </tr>\n",
       "    <tr>\n",
       "      <th>3</th>\n",
       "      <td>The person, be it gentleman or lady, who has n...</td>\n",
       "      <td>Jane Austen</td>\n",
       "      <td>aliteracy,books,classic,humor</td>\n",
       "      <td>https://quotes.toscrape.com/author/Jane-Austen/</td>\n",
       "      <td>December-16-1775</td>\n",
       "      <td>in Steventon Rectory| Hampshire| The United Ki...</td>\n",
       "      <td>Jane Austen was an English novelist whose work...</td>\n",
       "    </tr>\n",
       "    <tr>\n",
       "      <th>4</th>\n",
       "      <td>Imperfection is beauty, madness is genius and ...</td>\n",
       "      <td>Marilyn Monroe</td>\n",
       "      <td>be-yourself,inspirational</td>\n",
       "      <td>https://quotes.toscrape.com/author/Marilyn-Mon...</td>\n",
       "      <td>June-01-1926</td>\n",
       "      <td>in The United States</td>\n",
       "      <td>Marilyn Monroe (born Norma Jeane Mortenson; Ju...</td>\n",
       "    </tr>\n",
       "  </tbody>\n",
       "</table>\n",
       "</div>"
      ],
      "text/plain": [
       "                                             content           author  \\\n",
       "0  The world as we have created it is a process o...  Albert Einstein   \n",
       "1  It is our choices, Harry, that show what we tr...     J.K. Rowling   \n",
       "2  There are only two ways to live your life. One...  Albert Einstein   \n",
       "3  The person, be it gentleman or lady, who has n...      Jane Austen   \n",
       "4  Imperfection is beauty, madness is genius and ...   Marilyn Monroe   \n",
       "\n",
       "                                       tags  \\\n",
       "0       change,deep-thoughts,thinking,world   \n",
       "1                         abilities,choices   \n",
       "2  inspirational,life,live,miracle,miracles   \n",
       "3             aliteracy,books,classic,humor   \n",
       "4                 be-yourself,inspirational   \n",
       "\n",
       "                                         link_author         born_date  \\\n",
       "0  https://quotes.toscrape.com/author/Albert-Eins...     March-14-1879   \n",
       "1    https://quotes.toscrape.com/author/J-K-Rowling/      July-31-1965   \n",
       "2  https://quotes.toscrape.com/author/Albert-Eins...     March-14-1879   \n",
       "3    https://quotes.toscrape.com/author/Jane-Austen/  December-16-1775   \n",
       "4  https://quotes.toscrape.com/author/Marilyn-Mon...      June-01-1926   \n",
       "\n",
       "                                       born_location  \\\n",
       "0                                    in Ulm| Germany   \n",
       "1  in Yate| South Gloucestershire| England| The U...   \n",
       "2                                    in Ulm| Germany   \n",
       "3  in Steventon Rectory| Hampshire| The United Ki...   \n",
       "4                               in The United States   \n",
       "\n",
       "                                  author_description  \n",
       "0  In 1879, Albert Einstein was born in Ulm, Germ...  \n",
       "1  See also: Robert GalbraithAlthough she writes ...  \n",
       "2  In 1879, Albert Einstein was born in Ulm, Germ...  \n",
       "3  Jane Austen was an English novelist whose work...  \n",
       "4  Marilyn Monroe (born Norma Jeane Mortenson; Ju...  "
      ]
     },
     "execution_count": 60,
     "metadata": {},
     "output_type": "execute_result"
    }
   ],
   "source": [
    "# ทำการ join ข้อมูลทั้ง 2 DataFrame แล้วเก็บในตัวแปร content_author_df\n",
    "content_author_df = pd.merge(df, author_df, on='author', how='left')\n",
    "content_author_df.head()"
   ]
  },
  {
   "cell_type": "markdown",
   "metadata": {
    "id": "NYrD0LLN2Ki1"
   },
   "source": [
    "## Clean missing Values"
   ]
  },
  {
   "cell_type": "code",
   "execution_count": 61,
   "metadata": {},
   "outputs": [],
   "source": [
    "df.to_csv('datastore/content.csv', index=False)"
   ]
  },
  {
   "cell_type": "code",
   "execution_count": 62,
   "metadata": {},
   "outputs": [
    {
     "data": {
      "text/html": [
       "<div>\n",
       "<style scoped>\n",
       "    .dataframe tbody tr th:only-of-type {\n",
       "        vertical-align: middle;\n",
       "    }\n",
       "\n",
       "    .dataframe tbody tr th {\n",
       "        vertical-align: top;\n",
       "    }\n",
       "\n",
       "    .dataframe thead th {\n",
       "        text-align: right;\n",
       "    }\n",
       "</style>\n",
       "<table border=\"1\" class=\"dataframe\">\n",
       "  <thead>\n",
       "    <tr style=\"text-align: right;\">\n",
       "      <th></th>\n",
       "      <th>content</th>\n",
       "      <th>author</th>\n",
       "      <th>tags</th>\n",
       "      <th>link_author</th>\n",
       "    </tr>\n",
       "  </thead>\n",
       "  <tbody>\n",
       "    <tr>\n",
       "      <th>0</th>\n",
       "      <td>The world as we have created it is a process o...</td>\n",
       "      <td>Albert Einstein</td>\n",
       "      <td>change,deep-thoughts,thinking,world</td>\n",
       "      <td>https://quotes.toscrape.com/author/Albert-Eins...</td>\n",
       "    </tr>\n",
       "    <tr>\n",
       "      <th>1</th>\n",
       "      <td>It is our choices, Harry, that show what we tr...</td>\n",
       "      <td>J.K. Rowling</td>\n",
       "      <td>abilities,choices</td>\n",
       "      <td>https://quotes.toscrape.com/author/J-K-Rowling/</td>\n",
       "    </tr>\n",
       "    <tr>\n",
       "      <th>2</th>\n",
       "      <td>There are only two ways to live your life. One...</td>\n",
       "      <td>Albert Einstein</td>\n",
       "      <td>inspirational,life,live,miracle,miracles</td>\n",
       "      <td>https://quotes.toscrape.com/author/Albert-Eins...</td>\n",
       "    </tr>\n",
       "    <tr>\n",
       "      <th>3</th>\n",
       "      <td>The person, be it gentleman or lady, who has n...</td>\n",
       "      <td>Jane Austen</td>\n",
       "      <td>aliteracy,books,classic,humor</td>\n",
       "      <td>https://quotes.toscrape.com/author/Jane-Austen/</td>\n",
       "    </tr>\n",
       "    <tr>\n",
       "      <th>4</th>\n",
       "      <td>Imperfection is beauty, madness is genius and ...</td>\n",
       "      <td>Marilyn Monroe</td>\n",
       "      <td>be-yourself,inspirational</td>\n",
       "      <td>https://quotes.toscrape.com/author/Marilyn-Mon...</td>\n",
       "    </tr>\n",
       "  </tbody>\n",
       "</table>\n",
       "</div>"
      ],
      "text/plain": [
       "                                             content           author  \\\n",
       "0  The world as we have created it is a process o...  Albert Einstein   \n",
       "1  It is our choices, Harry, that show what we tr...     J.K. Rowling   \n",
       "2  There are only two ways to live your life. One...  Albert Einstein   \n",
       "3  The person, be it gentleman or lady, who has n...      Jane Austen   \n",
       "4  Imperfection is beauty, madness is genius and ...   Marilyn Monroe   \n",
       "\n",
       "                                       tags  \\\n",
       "0       change,deep-thoughts,thinking,world   \n",
       "1                         abilities,choices   \n",
       "2  inspirational,life,live,miracle,miracles   \n",
       "3             aliteracy,books,classic,humor   \n",
       "4                 be-yourself,inspirational   \n",
       "\n",
       "                                         link_author  \n",
       "0  https://quotes.toscrape.com/author/Albert-Eins...  \n",
       "1    https://quotes.toscrape.com/author/J-K-Rowling/  \n",
       "2  https://quotes.toscrape.com/author/Albert-Eins...  \n",
       "3    https://quotes.toscrape.com/author/Jane-Austen/  \n",
       "4  https://quotes.toscrape.com/author/Marilyn-Mon...  "
      ]
     },
     "execution_count": 62,
     "metadata": {},
     "output_type": "execute_result"
    }
   ],
   "source": [
    "df = pd.read_csv('datastore/content.csv')\n",
    "df.head()"
   ]
  },
  {
   "cell_type": "markdown",
   "metadata": {},
   "source": [
    "ทำการเช็คข้อมูลดูว่ามีค่า null มั้ย"
   ]
  },
  {
   "cell_type": "code",
   "execution_count": 63,
   "metadata": {
    "executionInfo": {
     "elapsed": 2140,
     "status": "aborted",
     "timestamp": 1605258507906,
     "user": {
      "displayName": "ENGFAH PUTIVARANAT",
      "photoUrl": "",
      "userId": "14896843217925999521"
     },
     "user_tz": -420
    },
    "id": "vQjv-8wq2Ki-"
   },
   "outputs": [
    {
     "data": {
      "text/plain": [
       "content        0\n",
       "author         0\n",
       "tags           3\n",
       "link_author    0\n",
       "dtype: int64"
      ]
     },
     "execution_count": 63,
     "metadata": {},
     "output_type": "execute_result"
    }
   ],
   "source": [
    "df.isna().sum() # เช็คค่า null"
   ]
  },
  {
   "cell_type": "markdown",
   "metadata": {},
   "source": [
    "พบค่า null 3 ตัวที่ column tags เลยลองค้นหาดูว่าหน้าตาเป็นยังไง"
   ]
  },
  {
   "cell_type": "code",
   "execution_count": 64,
   "metadata": {},
   "outputs": [
    {
     "data": {
      "text/html": [
       "<div>\n",
       "<style scoped>\n",
       "    .dataframe tbody tr th:only-of-type {\n",
       "        vertical-align: middle;\n",
       "    }\n",
       "\n",
       "    .dataframe tbody tr th {\n",
       "        vertical-align: top;\n",
       "    }\n",
       "\n",
       "    .dataframe thead th {\n",
       "        text-align: right;\n",
       "    }\n",
       "</style>\n",
       "<table border=\"1\" class=\"dataframe\">\n",
       "  <thead>\n",
       "    <tr style=\"text-align: right;\">\n",
       "      <th></th>\n",
       "      <th>content</th>\n",
       "      <th>author</th>\n",
       "      <th>tags</th>\n",
       "      <th>link_author</th>\n",
       "    </tr>\n",
       "  </thead>\n",
       "  <tbody>\n",
       "    <tr>\n",
       "      <th>27</th>\n",
       "      <td>It is impossible to live without failing at so...</td>\n",
       "      <td>J.K. Rowling</td>\n",
       "      <td>NaN</td>\n",
       "      <td>https://quotes.toscrape.com/author/J-K-Rowling/</td>\n",
       "    </tr>\n",
       "    <tr>\n",
       "      <th>42</th>\n",
       "      <td>You believe lies so you eventually learn to tr...</td>\n",
       "      <td>Marilyn Monroe</td>\n",
       "      <td>NaN</td>\n",
       "      <td>https://quotes.toscrape.com/author/Marilyn-Mon...</td>\n",
       "    </tr>\n",
       "    <tr>\n",
       "      <th>78</th>\n",
       "      <td>The question isn't who is going to let me; it'...</td>\n",
       "      <td>Ayn Rand</td>\n",
       "      <td>NaN</td>\n",
       "      <td>https://quotes.toscrape.com/author/Ayn-Rand/</td>\n",
       "    </tr>\n",
       "  </tbody>\n",
       "</table>\n",
       "</div>"
      ],
      "text/plain": [
       "                                              content          author tags  \\\n",
       "27  It is impossible to live without failing at so...    J.K. Rowling  NaN   \n",
       "42  You believe lies so you eventually learn to tr...  Marilyn Monroe  NaN   \n",
       "78  The question isn't who is going to let me; it'...        Ayn Rand  NaN   \n",
       "\n",
       "                                          link_author  \n",
       "27    https://quotes.toscrape.com/author/J-K-Rowling/  \n",
       "42  https://quotes.toscrape.com/author/Marilyn-Mon...  \n",
       "78       https://quotes.toscrape.com/author/Ayn-Rand/  "
      ]
     },
     "execution_count": 64,
     "metadata": {},
     "output_type": "execute_result"
    }
   ],
   "source": [
    "df[df['tags'].isna()]"
   ]
  },
  {
   "cell_type": "markdown",
   "metadata": {},
   "source": [
    "ทำการลบข้อมูล 3 ตัวนั้นทิ้ง"
   ]
  },
  {
   "cell_type": "code",
   "execution_count": 65,
   "metadata": {},
   "outputs": [],
   "source": [
    "df = df.dropna(subset=['tags']) # ลบค่า null"
   ]
  },
  {
   "cell_type": "code",
   "execution_count": 66,
   "metadata": {},
   "outputs": [
    {
     "name": "stdout",
     "output_type": "stream",
     "text": [
      "<class 'pandas.core.frame.DataFrame'>\n",
      "Int64Index: 97 entries, 0 to 99\n",
      "Data columns (total 4 columns):\n",
      " #   Column       Non-Null Count  Dtype \n",
      "---  ------       --------------  ----- \n",
      " 0   content      97 non-null     object\n",
      " 1   author       97 non-null     object\n",
      " 2   tags         97 non-null     object\n",
      " 3   link_author  97 non-null     object\n",
      "dtypes: object(4)\n",
      "memory usage: 3.8+ KB\n"
     ]
    }
   ],
   "source": [
    "df.info()"
   ]
  },
  {
   "cell_type": "markdown",
   "metadata": {},
   "source": [
    "## Change Tags(target) to Multi-Label Classification"
   ]
  },
  {
   "cell_type": "code",
   "execution_count": 67,
   "metadata": {},
   "outputs": [
    {
     "data": {
      "text/html": [
       "<div>\n",
       "<style scoped>\n",
       "    .dataframe tbody tr th:only-of-type {\n",
       "        vertical-align: middle;\n",
       "    }\n",
       "\n",
       "    .dataframe tbody tr th {\n",
       "        vertical-align: top;\n",
       "    }\n",
       "\n",
       "    .dataframe thead th {\n",
       "        text-align: right;\n",
       "    }\n",
       "</style>\n",
       "<table border=\"1\" class=\"dataframe\">\n",
       "  <thead>\n",
       "    <tr style=\"text-align: right;\">\n",
       "      <th></th>\n",
       "      <th>abilities</th>\n",
       "      <th>activism</th>\n",
       "      <th>adulthood</th>\n",
       "      <th>adventure</th>\n",
       "      <th>age</th>\n",
       "      <th>alcohol</th>\n",
       "      <th>aliteracy</th>\n",
       "      <th>apathy</th>\n",
       "      <th>attributed</th>\n",
       "      <th>attributed-no-source</th>\n",
       "      <th>...</th>\n",
       "      <th>unhappy-marriage</th>\n",
       "      <th>value</th>\n",
       "      <th>wander</th>\n",
       "      <th>wisdom</th>\n",
       "      <th>women</th>\n",
       "      <th>world</th>\n",
       "      <th>write</th>\n",
       "      <th>writers</th>\n",
       "      <th>writing</th>\n",
       "      <th>yourself</th>\n",
       "    </tr>\n",
       "  </thead>\n",
       "  <tbody>\n",
       "    <tr>\n",
       "      <th>0</th>\n",
       "      <td>0</td>\n",
       "      <td>0</td>\n",
       "      <td>0</td>\n",
       "      <td>0</td>\n",
       "      <td>0</td>\n",
       "      <td>0</td>\n",
       "      <td>0</td>\n",
       "      <td>0</td>\n",
       "      <td>0</td>\n",
       "      <td>0</td>\n",
       "      <td>...</td>\n",
       "      <td>0</td>\n",
       "      <td>0</td>\n",
       "      <td>0</td>\n",
       "      <td>0</td>\n",
       "      <td>0</td>\n",
       "      <td>1</td>\n",
       "      <td>0</td>\n",
       "      <td>0</td>\n",
       "      <td>0</td>\n",
       "      <td>0</td>\n",
       "    </tr>\n",
       "    <tr>\n",
       "      <th>1</th>\n",
       "      <td>1</td>\n",
       "      <td>0</td>\n",
       "      <td>0</td>\n",
       "      <td>0</td>\n",
       "      <td>0</td>\n",
       "      <td>0</td>\n",
       "      <td>0</td>\n",
       "      <td>0</td>\n",
       "      <td>0</td>\n",
       "      <td>0</td>\n",
       "      <td>...</td>\n",
       "      <td>0</td>\n",
       "      <td>0</td>\n",
       "      <td>0</td>\n",
       "      <td>0</td>\n",
       "      <td>0</td>\n",
       "      <td>0</td>\n",
       "      <td>0</td>\n",
       "      <td>0</td>\n",
       "      <td>0</td>\n",
       "      <td>0</td>\n",
       "    </tr>\n",
       "    <tr>\n",
       "      <th>2</th>\n",
       "      <td>0</td>\n",
       "      <td>0</td>\n",
       "      <td>0</td>\n",
       "      <td>0</td>\n",
       "      <td>0</td>\n",
       "      <td>0</td>\n",
       "      <td>0</td>\n",
       "      <td>0</td>\n",
       "      <td>0</td>\n",
       "      <td>0</td>\n",
       "      <td>...</td>\n",
       "      <td>0</td>\n",
       "      <td>0</td>\n",
       "      <td>0</td>\n",
       "      <td>0</td>\n",
       "      <td>0</td>\n",
       "      <td>0</td>\n",
       "      <td>0</td>\n",
       "      <td>0</td>\n",
       "      <td>0</td>\n",
       "      <td>0</td>\n",
       "    </tr>\n",
       "    <tr>\n",
       "      <th>3</th>\n",
       "      <td>0</td>\n",
       "      <td>0</td>\n",
       "      <td>0</td>\n",
       "      <td>0</td>\n",
       "      <td>0</td>\n",
       "      <td>0</td>\n",
       "      <td>1</td>\n",
       "      <td>0</td>\n",
       "      <td>0</td>\n",
       "      <td>0</td>\n",
       "      <td>...</td>\n",
       "      <td>0</td>\n",
       "      <td>0</td>\n",
       "      <td>0</td>\n",
       "      <td>0</td>\n",
       "      <td>0</td>\n",
       "      <td>0</td>\n",
       "      <td>0</td>\n",
       "      <td>0</td>\n",
       "      <td>0</td>\n",
       "      <td>0</td>\n",
       "    </tr>\n",
       "    <tr>\n",
       "      <th>4</th>\n",
       "      <td>0</td>\n",
       "      <td>0</td>\n",
       "      <td>0</td>\n",
       "      <td>0</td>\n",
       "      <td>0</td>\n",
       "      <td>0</td>\n",
       "      <td>0</td>\n",
       "      <td>0</td>\n",
       "      <td>0</td>\n",
       "      <td>0</td>\n",
       "      <td>...</td>\n",
       "      <td>0</td>\n",
       "      <td>0</td>\n",
       "      <td>0</td>\n",
       "      <td>0</td>\n",
       "      <td>0</td>\n",
       "      <td>0</td>\n",
       "      <td>0</td>\n",
       "      <td>0</td>\n",
       "      <td>0</td>\n",
       "      <td>0</td>\n",
       "    </tr>\n",
       "    <tr>\n",
       "      <th>...</th>\n",
       "      <td>...</td>\n",
       "      <td>...</td>\n",
       "      <td>...</td>\n",
       "      <td>...</td>\n",
       "      <td>...</td>\n",
       "      <td>...</td>\n",
       "      <td>...</td>\n",
       "      <td>...</td>\n",
       "      <td>...</td>\n",
       "      <td>...</td>\n",
       "      <td>...</td>\n",
       "      <td>...</td>\n",
       "      <td>...</td>\n",
       "      <td>...</td>\n",
       "      <td>...</td>\n",
       "      <td>...</td>\n",
       "      <td>...</td>\n",
       "      <td>...</td>\n",
       "      <td>...</td>\n",
       "      <td>...</td>\n",
       "      <td>...</td>\n",
       "    </tr>\n",
       "    <tr>\n",
       "      <th>92</th>\n",
       "      <td>0</td>\n",
       "      <td>0</td>\n",
       "      <td>0</td>\n",
       "      <td>0</td>\n",
       "      <td>0</td>\n",
       "      <td>0</td>\n",
       "      <td>0</td>\n",
       "      <td>0</td>\n",
       "      <td>0</td>\n",
       "      <td>0</td>\n",
       "      <td>...</td>\n",
       "      <td>0</td>\n",
       "      <td>0</td>\n",
       "      <td>0</td>\n",
       "      <td>0</td>\n",
       "      <td>0</td>\n",
       "      <td>0</td>\n",
       "      <td>0</td>\n",
       "      <td>0</td>\n",
       "      <td>0</td>\n",
       "      <td>0</td>\n",
       "    </tr>\n",
       "    <tr>\n",
       "      <th>93</th>\n",
       "      <td>0</td>\n",
       "      <td>0</td>\n",
       "      <td>0</td>\n",
       "      <td>0</td>\n",
       "      <td>0</td>\n",
       "      <td>0</td>\n",
       "      <td>0</td>\n",
       "      <td>0</td>\n",
       "      <td>0</td>\n",
       "      <td>0</td>\n",
       "      <td>...</td>\n",
       "      <td>0</td>\n",
       "      <td>0</td>\n",
       "      <td>0</td>\n",
       "      <td>0</td>\n",
       "      <td>0</td>\n",
       "      <td>0</td>\n",
       "      <td>1</td>\n",
       "      <td>1</td>\n",
       "      <td>1</td>\n",
       "      <td>0</td>\n",
       "    </tr>\n",
       "    <tr>\n",
       "      <th>94</th>\n",
       "      <td>0</td>\n",
       "      <td>0</td>\n",
       "      <td>0</td>\n",
       "      <td>0</td>\n",
       "      <td>0</td>\n",
       "      <td>0</td>\n",
       "      <td>0</td>\n",
       "      <td>0</td>\n",
       "      <td>0</td>\n",
       "      <td>0</td>\n",
       "      <td>...</td>\n",
       "      <td>0</td>\n",
       "      <td>0</td>\n",
       "      <td>0</td>\n",
       "      <td>0</td>\n",
       "      <td>0</td>\n",
       "      <td>0</td>\n",
       "      <td>0</td>\n",
       "      <td>0</td>\n",
       "      <td>0</td>\n",
       "      <td>0</td>\n",
       "    </tr>\n",
       "    <tr>\n",
       "      <th>95</th>\n",
       "      <td>0</td>\n",
       "      <td>0</td>\n",
       "      <td>0</td>\n",
       "      <td>0</td>\n",
       "      <td>0</td>\n",
       "      <td>0</td>\n",
       "      <td>0</td>\n",
       "      <td>0</td>\n",
       "      <td>0</td>\n",
       "      <td>0</td>\n",
       "      <td>...</td>\n",
       "      <td>0</td>\n",
       "      <td>0</td>\n",
       "      <td>0</td>\n",
       "      <td>0</td>\n",
       "      <td>0</td>\n",
       "      <td>0</td>\n",
       "      <td>0</td>\n",
       "      <td>0</td>\n",
       "      <td>0</td>\n",
       "      <td>0</td>\n",
       "    </tr>\n",
       "    <tr>\n",
       "      <th>96</th>\n",
       "      <td>0</td>\n",
       "      <td>0</td>\n",
       "      <td>0</td>\n",
       "      <td>0</td>\n",
       "      <td>0</td>\n",
       "      <td>0</td>\n",
       "      <td>0</td>\n",
       "      <td>0</td>\n",
       "      <td>0</td>\n",
       "      <td>0</td>\n",
       "      <td>...</td>\n",
       "      <td>0</td>\n",
       "      <td>0</td>\n",
       "      <td>0</td>\n",
       "      <td>0</td>\n",
       "      <td>0</td>\n",
       "      <td>0</td>\n",
       "      <td>0</td>\n",
       "      <td>0</td>\n",
       "      <td>0</td>\n",
       "      <td>0</td>\n",
       "    </tr>\n",
       "  </tbody>\n",
       "</table>\n",
       "<p>97 rows × 137 columns</p>\n",
       "</div>"
      ],
      "text/plain": [
       "    abilities  activism  adulthood  adventure  age  alcohol  aliteracy  \\\n",
       "0           0         0          0          0    0        0          0   \n",
       "1           1         0          0          0    0        0          0   \n",
       "2           0         0          0          0    0        0          0   \n",
       "3           0         0          0          0    0        0          1   \n",
       "4           0         0          0          0    0        0          0   \n",
       "..        ...       ...        ...        ...  ...      ...        ...   \n",
       "92          0         0          0          0    0        0          0   \n",
       "93          0         0          0          0    0        0          0   \n",
       "94          0         0          0          0    0        0          0   \n",
       "95          0         0          0          0    0        0          0   \n",
       "96          0         0          0          0    0        0          0   \n",
       "\n",
       "    apathy  attributed  attributed-no-source  ...  unhappy-marriage  value  \\\n",
       "0        0           0                     0  ...                 0      0   \n",
       "1        0           0                     0  ...                 0      0   \n",
       "2        0           0                     0  ...                 0      0   \n",
       "3        0           0                     0  ...                 0      0   \n",
       "4        0           0                     0  ...                 0      0   \n",
       "..     ...         ...                   ...  ...               ...    ...   \n",
       "92       0           0                     0  ...                 0      0   \n",
       "93       0           0                     0  ...                 0      0   \n",
       "94       0           0                     0  ...                 0      0   \n",
       "95       0           0                     0  ...                 0      0   \n",
       "96       0           0                     0  ...                 0      0   \n",
       "\n",
       "    wander  wisdom  women  world  write  writers  writing  yourself  \n",
       "0        0       0      0      1      0        0        0         0  \n",
       "1        0       0      0      0      0        0        0         0  \n",
       "2        0       0      0      0      0        0        0         0  \n",
       "3        0       0      0      0      0        0        0         0  \n",
       "4        0       0      0      0      0        0        0         0  \n",
       "..     ...     ...    ...    ...    ...      ...      ...       ...  \n",
       "92       0       0      0      0      0        0        0         0  \n",
       "93       0       0      0      0      1        1        1         0  \n",
       "94       0       0      0      0      0        0        0         0  \n",
       "95       0       0      0      0      0        0        0         0  \n",
       "96       0       0      0      0      0        0        0         0  \n",
       "\n",
       "[97 rows x 137 columns]"
      ]
     },
     "execution_count": 67,
     "metadata": {},
     "output_type": "execute_result"
    }
   ],
   "source": [
    "tags_new = [] # \n",
    "for i in df['tags']:\n",
    "    tags_new.append(i.split(',')) #for each tags cell, create a list of items from the original string, using a comma as a delimeter\n",
    "\n",
    "# เพิ่ม tags_new ไปใน dataframe\n",
    "df['tags_new'] = tags_new \n",
    "\n",
    "## MultiLabelBinarizer takes an iterable list and turns it into columns with binary values that represent the list.\n",
    "## For example, [love, books] -> love and books columns with a value of 1, all other columns with a value of 0\n",
    "\n",
    "#initialize MultiLabelBinarizer \n",
    "mlb = MultiLabelBinarizer() \n",
    "\n",
    "#transform the tags_new column to a series of columns with binary values\n",
    "binary_labels = pd.DataFrame(mlb.fit_transform(df['tags_new']),columns=mlb.classes_) \n",
    "\n",
    "\n",
    "#sort columns ตามตัวอักษร a-z\n",
    "binary_labels = binary_labels.sort_index(axis=1) \n",
    "\n",
    "binary_labels"
   ]
  },
  {
   "cell_type": "code",
   "execution_count": 68,
   "metadata": {},
   "outputs": [],
   "source": [
    "tags_dict = {}\n",
    "# รัน for loop เพื่อเก็บ tags และจำนวนที่เจอ ไว้ใน dict\n",
    "for column in binary_labels:\n",
    "    sum_num = binary_labels[column].sum(axis=0)\n",
    "    tags_dict.update({column : sum_num})\n",
    "    \n",
    "# sort -> tags_dict\n",
    "sort_tags_dict = {k: v for k, v in sorted(tags_dict.items(), key=lambda item: item[1], reverse = True)};"
   ]
  },
  {
   "cell_type": "code",
   "execution_count": 69,
   "metadata": {},
   "outputs": [
    {
     "data": {
      "text/plain": [
       "['love',\n",
       " 'inspirational',\n",
       " 'life',\n",
       " 'humor',\n",
       " 'books',\n",
       " 'reading',\n",
       " 'friendship',\n",
       " 'friends',\n",
       " 'truth',\n",
       " 'attributed-no-source',\n",
       " 'death',\n",
       " 'simile',\n",
       " 'writing',\n",
       " 'children',\n",
       " 'classic']"
      ]
     },
     "execution_count": 69,
     "metadata": {},
     "output_type": "execute_result"
    }
   ],
   "source": [
    "# tags ที่มีเยอะสุด 15 tags แรก\n",
    "top15_tags = list(sort_tags_dict)[:15]\n",
    "top15_tags"
   ]
  },
  {
   "cell_type": "code",
   "execution_count": 70,
   "metadata": {},
   "outputs": [
    {
     "data": {
      "image/png": "[encoded data removed]",
      "text/plain": [
       "<Figure size 3960x2016 with 1 Axes>"
      ]
     },
     "metadata": {},
     "output_type": "display_data"
    }
   ],
   "source": [
    "x = top15_tags # แกน x\n",
    "y = [] # แกน y\n",
    "for i in top15_tags:\n",
    "    y.append(sort_tags_dict[i])  # วน for เพื่อเก็บค่า y จาก dict ให้อยู่ใน list\n",
    "\n",
    "sns.set(font_scale = 3) # ขนาดตัวอักษร\n",
    "plt.figure(figsize=(55,28)) # ขนาดของกราฟ\n",
    "ax = sns.barplot(x, y) # plot\n",
    "plt.title(\"Top 15 Tags\", fontsize=50)  # ชื่อกราฟ\n",
    "plt.ylabel('Frequency', fontsize=35)   # ชื่อแกน x\n",
    "plt.xlabel('Name of tags', fontsize=35) # ชื่อแกน y\n",
    "\n",
    "# เพิ่มตัวเลขในแต่ละกราฟแท่ง\n",
    "rects = ax.patches\n",
    "labels = y\n",
    "for rect, label in zip(rects, labels):\n",
    "    height = rect.get_height()\n",
    "    ax.text(rect.get_x() + rect.get_width()/2, height+1/5, label, ha='center', va='bottom', fontsize=35)\n",
    "plt.show()"
   ]
  },
  {
   "cell_type": "code",
   "execution_count": 71,
   "metadata": {},
   "outputs": [
    {
     "data": {
      "text/html": [
       "<div>\n",
       "<style scoped>\n",
       "    .dataframe tbody tr th:only-of-type {\n",
       "        vertical-align: middle;\n",
       "    }\n",
       "\n",
       "    .dataframe tbody tr th {\n",
       "        vertical-align: top;\n",
       "    }\n",
       "\n",
       "    .dataframe thead th {\n",
       "        text-align: right;\n",
       "    }\n",
       "</style>\n",
       "<table border=\"1\" class=\"dataframe\">\n",
       "  <thead>\n",
       "    <tr style=\"text-align: right;\">\n",
       "      <th></th>\n",
       "      <th>content</th>\n",
       "      <th>author</th>\n",
       "      <th>tags</th>\n",
       "      <th>link_author</th>\n",
       "      <th>tags_new</th>\n",
       "      <th>abilities</th>\n",
       "      <th>activism</th>\n",
       "      <th>adulthood</th>\n",
       "      <th>adventure</th>\n",
       "      <th>age</th>\n",
       "      <th>...</th>\n",
       "      <th>unhappy-marriage</th>\n",
       "      <th>value</th>\n",
       "      <th>wander</th>\n",
       "      <th>wisdom</th>\n",
       "      <th>women</th>\n",
       "      <th>world</th>\n",
       "      <th>write</th>\n",
       "      <th>writers</th>\n",
       "      <th>writing</th>\n",
       "      <th>yourself</th>\n",
       "    </tr>\n",
       "  </thead>\n",
       "  <tbody>\n",
       "    <tr>\n",
       "      <th>0</th>\n",
       "      <td>The world as we have created it is a process o...</td>\n",
       "      <td>Albert Einstein</td>\n",
       "      <td>change,deep-thoughts,thinking,world</td>\n",
       "      <td>https://quotes.toscrape.com/author/Albert-Eins...</td>\n",
       "      <td>[change, deep-thoughts, thinking, world]</td>\n",
       "      <td>0</td>\n",
       "      <td>0</td>\n",
       "      <td>0</td>\n",
       "      <td>0</td>\n",
       "      <td>0</td>\n",
       "      <td>...</td>\n",
       "      <td>0</td>\n",
       "      <td>0</td>\n",
       "      <td>0</td>\n",
       "      <td>0</td>\n",
       "      <td>0</td>\n",
       "      <td>1</td>\n",
       "      <td>0</td>\n",
       "      <td>0</td>\n",
       "      <td>0</td>\n",
       "      <td>0</td>\n",
       "    </tr>\n",
       "    <tr>\n",
       "      <th>1</th>\n",
       "      <td>It is our choices, Harry, that show what we tr...</td>\n",
       "      <td>J.K. Rowling</td>\n",
       "      <td>abilities,choices</td>\n",
       "      <td>https://quotes.toscrape.com/author/J-K-Rowling/</td>\n",
       "      <td>[abilities, choices]</td>\n",
       "      <td>1</td>\n",
       "      <td>0</td>\n",
       "      <td>0</td>\n",
       "      <td>0</td>\n",
       "      <td>0</td>\n",
       "      <td>...</td>\n",
       "      <td>0</td>\n",
       "      <td>0</td>\n",
       "      <td>0</td>\n",
       "      <td>0</td>\n",
       "      <td>0</td>\n",
       "      <td>0</td>\n",
       "      <td>0</td>\n",
       "      <td>0</td>\n",
       "      <td>0</td>\n",
       "      <td>0</td>\n",
       "    </tr>\n",
       "    <tr>\n",
       "      <th>2</th>\n",
       "      <td>There are only two ways to live your life. One...</td>\n",
       "      <td>Albert Einstein</td>\n",
       "      <td>inspirational,life,live,miracle,miracles</td>\n",
       "      <td>https://quotes.toscrape.com/author/Albert-Eins...</td>\n",
       "      <td>[inspirational, life, live, miracle, miracles]</td>\n",
       "      <td>0</td>\n",
       "      <td>0</td>\n",
       "      <td>0</td>\n",
       "      <td>0</td>\n",
       "      <td>0</td>\n",
       "      <td>...</td>\n",
       "      <td>0</td>\n",
       "      <td>0</td>\n",
       "      <td>0</td>\n",
       "      <td>0</td>\n",
       "      <td>0</td>\n",
       "      <td>0</td>\n",
       "      <td>0</td>\n",
       "      <td>0</td>\n",
       "      <td>0</td>\n",
       "      <td>0</td>\n",
       "    </tr>\n",
       "    <tr>\n",
       "      <th>3</th>\n",
       "      <td>The person, be it gentleman or lady, who has n...</td>\n",
       "      <td>Jane Austen</td>\n",
       "      <td>aliteracy,books,classic,humor</td>\n",
       "      <td>https://quotes.toscrape.com/author/Jane-Austen/</td>\n",
       "      <td>[aliteracy, books, classic, humor]</td>\n",
       "      <td>0</td>\n",
       "      <td>0</td>\n",
       "      <td>0</td>\n",
       "      <td>0</td>\n",
       "      <td>0</td>\n",
       "      <td>...</td>\n",
       "      <td>0</td>\n",
       "      <td>0</td>\n",
       "      <td>0</td>\n",
       "      <td>0</td>\n",
       "      <td>0</td>\n",
       "      <td>0</td>\n",
       "      <td>0</td>\n",
       "      <td>0</td>\n",
       "      <td>0</td>\n",
       "      <td>0</td>\n",
       "    </tr>\n",
       "    <tr>\n",
       "      <th>4</th>\n",
       "      <td>Imperfection is beauty, madness is genius and ...</td>\n",
       "      <td>Marilyn Monroe</td>\n",
       "      <td>be-yourself,inspirational</td>\n",
       "      <td>https://quotes.toscrape.com/author/Marilyn-Mon...</td>\n",
       "      <td>[be-yourself, inspirational]</td>\n",
       "      <td>0</td>\n",
       "      <td>0</td>\n",
       "      <td>0</td>\n",
       "      <td>0</td>\n",
       "      <td>0</td>\n",
       "      <td>...</td>\n",
       "      <td>0</td>\n",
       "      <td>0</td>\n",
       "      <td>0</td>\n",
       "      <td>0</td>\n",
       "      <td>0</td>\n",
       "      <td>0</td>\n",
       "      <td>0</td>\n",
       "      <td>0</td>\n",
       "      <td>0</td>\n",
       "      <td>0</td>\n",
       "    </tr>\n",
       "  </tbody>\n",
       "</table>\n",
       "<p>5 rows × 142 columns</p>\n",
       "</div>"
      ],
      "text/plain": [
       "                                             content           author  \\\n",
       "0  The world as we have created it is a process o...  Albert Einstein   \n",
       "1  It is our choices, Harry, that show what we tr...     J.K. Rowling   \n",
       "2  There are only two ways to live your life. One...  Albert Einstein   \n",
       "3  The person, be it gentleman or lady, who has n...      Jane Austen   \n",
       "4  Imperfection is beauty, madness is genius and ...   Marilyn Monroe   \n",
       "\n",
       "                                       tags  \\\n",
       "0       change,deep-thoughts,thinking,world   \n",
       "1                         abilities,choices   \n",
       "2  inspirational,life,live,miracle,miracles   \n",
       "3             aliteracy,books,classic,humor   \n",
       "4                 be-yourself,inspirational   \n",
       "\n",
       "                                         link_author  \\\n",
       "0  https://quotes.toscrape.com/author/Albert-Eins...   \n",
       "1    https://quotes.toscrape.com/author/J-K-Rowling/   \n",
       "2  https://quotes.toscrape.com/author/Albert-Eins...   \n",
       "3    https://quotes.toscrape.com/author/Jane-Austen/   \n",
       "4  https://quotes.toscrape.com/author/Marilyn-Mon...   \n",
       "\n",
       "                                         tags_new  abilities  activism  \\\n",
       "0        [change, deep-thoughts, thinking, world]          0         0   \n",
       "1                            [abilities, choices]          1         0   \n",
       "2  [inspirational, life, live, miracle, miracles]          0         0   \n",
       "3              [aliteracy, books, classic, humor]          0         0   \n",
       "4                    [be-yourself, inspirational]          0         0   \n",
       "\n",
       "   adulthood  adventure  age  ...  unhappy-marriage  value  wander  wisdom  \\\n",
       "0          0          0    0  ...                 0      0       0       0   \n",
       "1          0          0    0  ...                 0      0       0       0   \n",
       "2          0          0    0  ...                 0      0       0       0   \n",
       "3          0          0    0  ...                 0      0       0       0   \n",
       "4          0          0    0  ...                 0      0       0       0   \n",
       "\n",
       "   women  world  write  writers  writing  yourself  \n",
       "0      0      1      0        0        0         0  \n",
       "1      0      0      0        0        0         0  \n",
       "2      0      0      0        0        0         0  \n",
       "3      0      0      0        0        0         0  \n",
       "4      0      0      0        0        0         0  \n",
       "\n",
       "[5 rows x 142 columns]"
      ]
     },
     "execution_count": 71,
     "metadata": {},
     "output_type": "execute_result"
    }
   ],
   "source": [
    "#นำ binary_labels มาต่อกับ df\n",
    "df = df.merge(binary_labels, how='inner', left_index=True, right_index=True)\n",
    "df.head()"
   ]
  },
  {
   "cell_type": "code",
   "execution_count": 72,
   "metadata": {},
   "outputs": [
    {
     "data": {
      "text/html": [
       "<div>\n",
       "<style scoped>\n",
       "    .dataframe tbody tr th:only-of-type {\n",
       "        vertical-align: middle;\n",
       "    }\n",
       "\n",
       "    .dataframe tbody tr th {\n",
       "        vertical-align: top;\n",
       "    }\n",
       "\n",
       "    .dataframe thead th {\n",
       "        text-align: right;\n",
       "    }\n",
       "</style>\n",
       "<table border=\"1\" class=\"dataframe\">\n",
       "  <thead>\n",
       "    <tr style=\"text-align: right;\">\n",
       "      <th></th>\n",
       "      <th>content</th>\n",
       "      <th>tags</th>\n",
       "      <th>love</th>\n",
       "      <th>inspirational</th>\n",
       "      <th>life</th>\n",
       "      <th>humor</th>\n",
       "      <th>books</th>\n",
       "      <th>reading</th>\n",
       "      <th>friendship</th>\n",
       "      <th>friends</th>\n",
       "      <th>truth</th>\n",
       "      <th>attributed-no-source</th>\n",
       "      <th>death</th>\n",
       "      <th>simile</th>\n",
       "      <th>writing</th>\n",
       "      <th>children</th>\n",
       "      <th>classic</th>\n",
       "    </tr>\n",
       "  </thead>\n",
       "  <tbody>\n",
       "    <tr>\n",
       "      <th>0</th>\n",
       "      <td>The world as we have created it is a process o...</td>\n",
       "      <td>change,deep-thoughts,thinking,world</td>\n",
       "      <td>0</td>\n",
       "      <td>0</td>\n",
       "      <td>0</td>\n",
       "      <td>0</td>\n",
       "      <td>0</td>\n",
       "      <td>0</td>\n",
       "      <td>0</td>\n",
       "      <td>0</td>\n",
       "      <td>0</td>\n",
       "      <td>0</td>\n",
       "      <td>0</td>\n",
       "      <td>0</td>\n",
       "      <td>0</td>\n",
       "      <td>0</td>\n",
       "      <td>0</td>\n",
       "    </tr>\n",
       "    <tr>\n",
       "      <th>1</th>\n",
       "      <td>It is our choices, Harry, that show what we tr...</td>\n",
       "      <td>abilities,choices</td>\n",
       "      <td>0</td>\n",
       "      <td>0</td>\n",
       "      <td>0</td>\n",
       "      <td>0</td>\n",
       "      <td>0</td>\n",
       "      <td>0</td>\n",
       "      <td>0</td>\n",
       "      <td>0</td>\n",
       "      <td>0</td>\n",
       "      <td>0</td>\n",
       "      <td>0</td>\n",
       "      <td>0</td>\n",
       "      <td>0</td>\n",
       "      <td>0</td>\n",
       "      <td>0</td>\n",
       "    </tr>\n",
       "    <tr>\n",
       "      <th>2</th>\n",
       "      <td>There are only two ways to live your life. One...</td>\n",
       "      <td>inspirational,life,live,miracle,miracles</td>\n",
       "      <td>0</td>\n",
       "      <td>1</td>\n",
       "      <td>1</td>\n",
       "      <td>0</td>\n",
       "      <td>0</td>\n",
       "      <td>0</td>\n",
       "      <td>0</td>\n",
       "      <td>0</td>\n",
       "      <td>0</td>\n",
       "      <td>0</td>\n",
       "      <td>0</td>\n",
       "      <td>0</td>\n",
       "      <td>0</td>\n",
       "      <td>0</td>\n",
       "      <td>0</td>\n",
       "    </tr>\n",
       "    <tr>\n",
       "      <th>3</th>\n",
       "      <td>The person, be it gentleman or lady, who has n...</td>\n",
       "      <td>aliteracy,books,classic,humor</td>\n",
       "      <td>0</td>\n",
       "      <td>0</td>\n",
       "      <td>0</td>\n",
       "      <td>1</td>\n",
       "      <td>1</td>\n",
       "      <td>0</td>\n",
       "      <td>0</td>\n",
       "      <td>0</td>\n",
       "      <td>0</td>\n",
       "      <td>0</td>\n",
       "      <td>0</td>\n",
       "      <td>0</td>\n",
       "      <td>0</td>\n",
       "      <td>0</td>\n",
       "      <td>1</td>\n",
       "    </tr>\n",
       "    <tr>\n",
       "      <th>4</th>\n",
       "      <td>Imperfection is beauty, madness is genius and ...</td>\n",
       "      <td>be-yourself,inspirational</td>\n",
       "      <td>0</td>\n",
       "      <td>1</td>\n",
       "      <td>0</td>\n",
       "      <td>0</td>\n",
       "      <td>0</td>\n",
       "      <td>0</td>\n",
       "      <td>0</td>\n",
       "      <td>0</td>\n",
       "      <td>0</td>\n",
       "      <td>0</td>\n",
       "      <td>0</td>\n",
       "      <td>0</td>\n",
       "      <td>0</td>\n",
       "      <td>0</td>\n",
       "      <td>0</td>\n",
       "    </tr>\n",
       "  </tbody>\n",
       "</table>\n",
       "</div>"
      ],
      "text/plain": [
       "                                             content  \\\n",
       "0  The world as we have created it is a process o...   \n",
       "1  It is our choices, Harry, that show what we tr...   \n",
       "2  There are only two ways to live your life. One...   \n",
       "3  The person, be it gentleman or lady, who has n...   \n",
       "4  Imperfection is beauty, madness is genius and ...   \n",
       "\n",
       "                                       tags  love  inspirational  life  humor  \\\n",
       "0       change,deep-thoughts,thinking,world     0              0     0      0   \n",
       "1                         abilities,choices     0              0     0      0   \n",
       "2  inspirational,life,live,miracle,miracles     0              1     1      0   \n",
       "3             aliteracy,books,classic,humor     0              0     0      1   \n",
       "4                 be-yourself,inspirational     0              1     0      0   \n",
       "\n",
       "   books  reading  friendship  friends  truth  attributed-no-source  death  \\\n",
       "0      0        0           0        0      0                     0      0   \n",
       "1      0        0           0        0      0                     0      0   \n",
       "2      0        0           0        0      0                     0      0   \n",
       "3      1        0           0        0      0                     0      0   \n",
       "4      0        0           0        0      0                     0      0   \n",
       "\n",
       "   simile  writing  children  classic  \n",
       "0       0        0         0        0  \n",
       "1       0        0         0        0  \n",
       "2       0        0         0        0  \n",
       "3       0        0         0        1  \n",
       "4       0        0         0        0  "
      ]
     },
     "execution_count": 72,
     "metadata": {},
     "output_type": "execute_result"
    }
   ],
   "source": [
    "# select column -> content,tags,top15_tags\n",
    "df = df[[\"content\", \"tags\"] + top15_tags]\n",
    "df.head()"
   ]
  },
  {
   "cell_type": "markdown",
   "metadata": {},
   "source": [
    "## save DataFarame to csv/txt"
   ]
  },
  {
   "cell_type": "markdown",
   "metadata": {},
   "source": [
    "- AllArticles_OnlyContent\n",
    "- tags"
   ]
  },
  {
   "cell_type": "code",
   "execution_count": 38,
   "metadata": {},
   "outputs": [],
   "source": [
    "AllArticles_OnlyContent = df['content']\n",
    "tags = binary_labels"
   ]
  },
  {
   "cell_type": "markdown",
   "metadata": {},
   "source": [
    "**csv**<br>\n",
    "save เป็นไฟล์ประเภท csv"
   ]
  },
  {
   "cell_type": "code",
   "execution_count": 39,
   "metadata": {},
   "outputs": [],
   "source": [
    "AllArticles_OnlyContent.to_csv('datastore/AllArticles_OnlyContent.csv', index=False)"
   ]
  },
  {
   "cell_type": "code",
   "execution_count": 40,
   "metadata": {},
   "outputs": [],
   "source": [
    "tags.to_csv('target/tags.csv', index=False)"
   ]
  },
  {
   "cell_type": "markdown",
   "metadata": {},
   "source": [
    "**txt**<br>\n",
    "save เป็นไฟล์ประเภท txt"
   ]
  },
  {
   "cell_type": "code",
   "execution_count": 106,
   "metadata": {},
   "outputs": [],
   "source": [
    "AllArticles_OnlyContent.to_csv(r'datastore/AllArticles_OnlyContent.txt', header=None, index=None, sep=' ', mode='a')"
   ]
  },
  {
   "cell_type": "code",
   "execution_count": 42,
   "metadata": {},
   "outputs": [],
   "source": [
    "tags.to_csv(r'target/tags.txt', header=None, index=None, sep=' ', mode='a')"
   ]
  },
  {
   "cell_type": "markdown",
   "metadata": {},
   "source": [
    "# Modeling"
   ]
  },
  {
   "cell_type": "markdown",
   "metadata": {},
   "source": [
    "ทำการ Tunning hyperparameter และหา Model ที่ดีที่สุดในการทำนาย\n",
    "\n",
    "- K-Nearest Neighbors\n",
    "- Logistic Regression\n",
    "- Random forest"
   ]
  },
  {
   "cell_type": "markdown",
   "metadata": {},
   "source": [
    "## Having an Imbalanced Dataset?"
   ]
  },
  {
   "cell_type": "code",
   "execution_count": 43,
   "metadata": {},
   "outputs": [],
   "source": [
    "sum_0, sum_1 = 0, 0\n",
    "\n",
    "# วน for นับค่า 0,1\n",
    "for i in top15_tags:\n",
    "    sum_0 += df[i].value_counts()[0]\n",
    "    sum_1 += df[i].value_counts()[1]"
   ]
  },
  {
   "cell_type": "code",
   "execution_count": 45,
   "metadata": {
    "scrolled": false
   },
   "outputs": [
    {
     "data": {
      "image/png": "[encoded data removed]",
      "text/plain": [
       "<Figure size 432x288 with 1 Axes>"
      ]
     },
     "metadata": {},
     "output_type": "display_data"
    }
   ],
   "source": [
    "plt.style.use('ggplot')\n",
    "labels = ['0', '1']  # แกน x\n",
    "sizes = [sum_0, sum_1] # ค่าแกน y\n",
    "\n",
    "color=['#7ed6df','#ff9999']  #สี\n",
    "labels_pos = np.arange(len(labels))  \n",
    "plt.bar(labels_pos, sizes, color=color) # plot\n",
    "\n",
    "matplotlib.rc('xtick', labelsize=10) # ขนาดตัวอักษรแกน x\n",
    "matplotlib.rc('ytick', labelsize=10) # ขนาดตัวอักษรแกน y\n",
    "plt.title(\"Imbalance Dataset\")  # ชื่อกราฟ\n",
    "plt.xticks(labels_pos, labels)\n",
    "plt.show()"
   ]
  },
  {
   "cell_type": "markdown",
   "metadata": {},
   "source": [
    "<b>จากกราฟ ทำให้เห็นได้ว่าข้อมูลมีค่า 0 กับ 1 มีจำนวนห่างกันมาก ซึ่งหมายความข้อมูล imbalance -> จะใช้ Precision และ Recall เป็นตัววัดผล"
   ]
  },
  {
   "cell_type": "markdown",
   "metadata": {},
   "source": [
    "## Text preprocessing"
   ]
  },
  {
   "cell_type": "markdown",
   "metadata": {},
   "source": [
    "สร้าง function ที่ต้องใช้ในการทำ preprocessing"
   ]
  },
  {
   "cell_type": "code",
   "execution_count": 46,
   "metadata": {},
   "outputs": [],
   "source": [
    "#Tokenizer and WordNet Lemmatizer with POS (part of speech)\n",
    "def lemma_tokenizer_w_pos_tag(text):\n",
    "    # define a nested function for converting POS tag for Lemmatizer\n",
    "    def convert_tags(tag):\n",
    "        #แปลง tag ที่เป็น vbd vbg vbz ให้เป็น v\n",
    "        if tag == 'vbd' or tag == 'vbg' or tag == 'vbz':\n",
    "            return 'v'\n",
    "        else: #นอกเหนือจากเงื่อนไขช้างบนให้เป็น n\n",
    "            return 'n'\n",
    "    \n",
    "    standard_tokenizer = CountVectorizer().build_tokenizer()  #สร้างตัวที่ใช้แยก text (string) ที่เข้ามาออกเป็น tokens\n",
    "    tokens = standard_tokenizer(text) #แยก text (string) ที่เข้ามาออกเป็น tokens\n",
    "    tokens_with_pos_tag = nltk.pos_tag(tokens) #ติด pos_tag ให้กับแต่ละ token\n",
    "\n",
    "    lemmatizer = nltk.WordNetLemmatizer() #สร้างตัวที่ใช้แปลงรูปของคำให้อยู่รูปฟอร์มพื้นฐาน (รากคำ)\n",
    "    lemma_tokens = [] #สร้าง list ชื่อ lemma_tokens เพื่อรอเก็บคำหลังจากแปลงด้วย pos_tag อันใหม่\n",
    "    for token in tokens_with_pos_tag: #วน for loop ในตัวแปร tokens_with_pos_tag\n",
    "        new_tag = convert_tags(token[1].lower())\n",
    "        lemma_tokens.append(lemmatizer.lemmatize(token[0], new_tag))\n",
    "    \n",
    "    return lemma_tokens"
   ]
  },
  {
   "cell_type": "markdown",
   "metadata": {},
   "source": [
    "ตัวอย่างเมื่อเอาคำเข้าไปใน function lemma_tokenizer_w_pos_tag()"
   ]
  },
  {
   "cell_type": "code",
   "execution_count": 47,
   "metadata": {},
   "outputs": [
    {
     "data": {
      "text/plain": [
       "'The world as we have created it is a process of our thinking. It cannot be changed without changing our thinking.'"
      ]
     },
     "execution_count": 47,
     "metadata": {},
     "output_type": "execute_result"
    }
   ],
   "source": [
    "df['content'][0]"
   ]
  },
  {
   "cell_type": "code",
   "execution_count": 48,
   "metadata": {
    "scrolled": true
   },
   "outputs": [
    {
     "data": {
      "text/plain": [
       "['The',\n",
       " 'world',\n",
       " 'a',\n",
       " 'we',\n",
       " 'have',\n",
       " 'created',\n",
       " 'it',\n",
       " 'be',\n",
       " 'process',\n",
       " 'of',\n",
       " 'our',\n",
       " 'think',\n",
       " 'It',\n",
       " 'cannot',\n",
       " 'be',\n",
       " 'changed',\n",
       " 'without',\n",
       " 'change',\n",
       " 'our',\n",
       " 'thinking']"
      ]
     },
     "execution_count": 48,
     "metadata": {},
     "output_type": "execute_result"
    }
   ],
   "source": [
    "lemma_tokenizer_w_pos_tag(df['content'][0])"
   ]
  },
  {
   "cell_type": "markdown",
   "metadata": {},
   "source": [
    "---"
   ]
  },
  {
   "cell_type": "code",
   "execution_count": 49,
   "metadata": {},
   "outputs": [],
   "source": [
    "#ใช้ TfidfVectorizer() แทน CountVectorizer() และ TfidfTransformer()\n",
    "#default ของ analyzer คือ word, กำจัด stop_words\n",
    "non_weight_trans = TfidfVectorizer(stop_words=\"english\",min_df = 0,tokenizer=lemma_tokenizer_w_pos_tag)"
   ]
  },
  {
   "cell_type": "code",
   "execution_count": 50,
   "metadata": {},
   "outputs": [],
   "source": [
    "#Term weighting ใน Scikit-learn เราสามารถสร้างที่ TF-IDF weighted document-term matrix โดยใช้ TfidfVectorizer() แทน CountVectorizer()\n",
    "#default ของ analyzer คือ word, กำจัด stop_words\n",
    "weight_trans = TfidfVectorizer(analyzer='word', ngram_range=(1,3),min_df = 0, \n",
    "                             stop_words = 'english', sublinear_tf=True, lowercase=True)"
   ]
  },
  {
   "cell_type": "markdown",
   "metadata": {},
   "source": [
    "## Create Function"
   ]
  },
  {
   "cell_type": "code",
   "execution_count": 51,
   "metadata": {},
   "outputs": [],
   "source": [
    "# ฟังก์ชั่นแบ่งชุดข้อมูล\n",
    "def train_test_data(tags_name, weight):\n",
    "    x = df['content']\n",
    "    y = df[tags_name]\n",
    "    \n",
    "    if weight: # weight transform\n",
    "        X = weight_trans.fit_transform(x)\n",
    "    else: # non-weight transform\n",
    "        X = non_weight_trans.fit_transform(x)\n",
    "    \n",
    "    # #แบ่งข้อมูลเป็น 2 ส่วน train 90% test 10% เพราะข้อมูลเรามีน้อย\n",
    "    X_train, X_test, y_train, y_test = train_test_split(X, y, test_size=0.1, shuffle=True)\n",
    "\n",
    "    return X_train, X_test, y_train, y_test"
   ]
  },
  {
   "cell_type": "code",
   "execution_count": 52,
   "metadata": {},
   "outputs": [],
   "source": [
    "# ฟังก์ชั่นสร้างโมเดล\n",
    "def create_model(model, params, weight):\n",
    "    accuracy_list = []\n",
    "    precision_list = []\n",
    "    recall_list = []\n",
    "\n",
    "    for tags_name in top15_tags:\n",
    "        # เรียกใช้ฟังก์ชั่น split -> train, test\n",
    "        X_train, X_test, y_train, y_test = train_test_data(tags_name, weight)\n",
    "        \n",
    "        # GridSearchCV\n",
    "        skf = StratifiedKFold(n_splits=5, shuffle = True, random_state = 1001) #ทำการกำหนดเครื่องมือ K-fold ว่าจะใช้ 5 folds โดย StratifiedKFold เป็นการแบ่งข้อมูลรูปแบบหนึ่ง\n",
    "        #เอา Classifier, params ใส่ลงไปและ กำหนด cv ด้วย k-flod ที่เรากำหนดไว้ในตัวแปร skf\n",
    "        grid = GridSearchCV(model, params, verbose = 3, cv=skf.split(X_train,y_train), n_jobs = -1)\n",
    "        grid.fit(X_train, y_train); #เอา GridSearchCV มา fit กับ train set\n",
    "        \n",
    "        # กำหนด parameter ตามที่หาได้ -> best parameter\n",
    "        best_params = grid.best_params_\n",
    "        model.set_params(**best_params)\n",
    "        \n",
    "        # ทำการ fit model กับ parameter ที่ดีที่สุดที่วิเคราะห์มาได้\n",
    "        model.fit(X_train, y_train)\n",
    "        \n",
    "        # เอา model ที่ใช้ parameter ที่ดีที่สุดมา test กับ test set ที่แบ่งไว้ตอนแรก\n",
    "        model_pred = model.predict(X_test)\n",
    "\n",
    "        # หา accuracy ด้วย cross_val_score -> LeaveOneOut ซึ่งเหมาะกับข้อมูลน้อยๆ\n",
    "        cv = LeaveOneOut()\n",
    "        scores = cross_val_score(model, X_train, y_train, scoring='accuracy', cv=cv, n_jobs = -1)\n",
    "        accuracy_list.append(mean(scores))\n",
    "        print('%s -> Accuracy: %.3f (%.3f)' % (tags_name ,mean(scores), std(scores)))\n",
    "\n",
    "        # หา precision\n",
    "        precision = metrics.precision_score(y_test, model_pred, average='macro')\n",
    "        precision_list.append(precision)\n",
    "        print('Precision Score: %.3f' % precision)\n",
    "\n",
    "        # หา recall\n",
    "        recall = metrics.recall_score(y_test, model_pred, average='macro')\n",
    "        recall_list.append(recall)\n",
    "        print('recall Score: %.3f' % recall)\n",
    "        \n",
    "    return (accuracy_list, precision_list, recall_list)"
   ]
  },
  {
   "cell_type": "code",
   "execution_count": 53,
   "metadata": {},
   "outputs": [],
   "source": [
    "# dict เก็บค่า Accuracy, Precision, Recall ของทุกโมเดล\n",
    "evaluation_models = {'Model':['KNN_non_weight', 'Knn_weight','lg_non_weight', 'lg_weight', 'rf_non_weight', 'rf_weight'], \n",
    "                     'Accuracy':[], 'Precision':[], 'Recall':[]}"
   ]
  },
  {
   "cell_type": "code",
   "execution_count": 54,
   "metadata": {},
   "outputs": [],
   "source": [
    "# ฟังก์ชั่นแสดงตารางเปรียบเทียบค่า Accuracy, Precision, Recall แต่ละ tags\n",
    "def evaluation_table(accuacy, precision, recall):\n",
    "    data = {'Tags': np.array(top15_tags), 'Accuracy': np.array(accuacy), \n",
    "            'Precision': np.array(precision), 'Recall': np.array(recall)}\n",
    "    df = pd.DataFrame(data=data)\n",
    "    # เรียงค่าจากมากไปน้อยตามค่า Precision\n",
    "    df = df.sort_values(by=['Precision'], ascending=False).reset_index(drop=True)\n",
    "\n",
    "    # เพิ่ม Row ที่เป็นค่าเฉลี่ยของ Accuracy, Precision, Recall\n",
    "    df = df.append({'Tags' : 'Average' , \n",
    "                            'Accuracy' : (sum(accuacy)/15), \n",
    "                            'Precision' : (sum(precision)/15),\n",
    "                            'Recall': (sum(recall)/15)} , ignore_index=True)\n",
    "\n",
    "    # highlight ค่า Average เพื่อให้มองเห็นได้ชัดเจน\n",
    "    color = (df['Tags'] == 'Average').map({True: 'background-color: yellow', False: ''})\n",
    "    df = df.style.apply(lambda s: color)\n",
    "    \n",
    "    # เพิ่มค่า Accuracy, Precision, Recall เข้า Dict -> evaluation_models เพื่อเอาไว้ไปแสดงเปรียบเทียบตอนสรุปผล\n",
    "    evaluation_models['Accuracy'].append(sum(accuacy)/15)\n",
    "    evaluation_models['Precision'].append(sum(precision)/15)\n",
    "    evaluation_models['Recall'].append(sum(recall)/15)\n",
    "    \n",
    "    return df"
   ]
  },
  {
   "cell_type": "markdown",
   "metadata": {},
   "source": [
    "## K-Nearest Neighbors"
   ]
  },
  {
   "cell_type": "markdown",
   "metadata": {},
   "source": [
    "### KNN Tunning parameter แบบไม่ weight"
   ]
  },
  {
   "cell_type": "code",
   "execution_count": 56,
   "metadata": {},
   "outputs": [],
   "source": [
    "knn = KNeighborsClassifier() # สร้าง K-Nearest Neighbors classifier\n",
    "\n",
    "#ทำการกำหนด parameter ที่จะเอาไปวิเคราะห์ โดยค่าที่กำหนดไว้คือ parameter ของ knn\n",
    "params = { \n",
    "    'n_neighbors' : list(np.arange(1,50,2)), #ให้ทำการทดลองหา k ที่ดีที่สุดตั้ง 1-50 โดยขยับทีละ 2 เช่น 1, 3, 5, ...\n",
    "    'weights' : ['uniform', 'distance'],  #weight function ที่ใช้ในการทำนาย\n",
    "    'metric' : ['euclidean', 'manhattan'] #คิดระยะหางด้วยวิธีไหน\n",
    "}"
   ]
  },
  {
   "cell_type": "code",
   "execution_count": 57,
   "metadata": {},
   "outputs": [
    {
     "name": "stdout",
     "output_type": "stream",
     "text": [
      "Fitting 5 folds for each of 100 candidates, totalling 500 fits\n"
     ]
    },
    {
     "name": "stderr",
     "output_type": "stream",
     "text": [
      "[Parallel(n_jobs=-1)]: Using backend LokyBackend with 8 concurrent workers.\n",
      "[Parallel(n_jobs=-1)]: Done  16 tasks      | elapsed:    2.9s\n",
      "[Parallel(n_jobs=-1)]: Done 363 tasks      | elapsed:    3.5s\n",
      "[Parallel(n_jobs=-1)]: Done 500 out of 500 | elapsed:    3.8s finished\n"
     ]
    },
    {
     "name": "stdout",
     "output_type": "stream",
     "text": [
      "love -> Accuracy: 0.857 (0.350)\n",
      "Precision Score: 0.944\n",
      "recall Score: 0.750\n",
      "Fitting 5 folds for each of 100 candidates, totalling 500 fits\n"
     ]
    },
    {
     "name": "stderr",
     "output_type": "stream",
     "text": [
      "[Parallel(n_jobs=-1)]: Using backend LokyBackend with 8 concurrent workers.\n",
      "[Parallel(n_jobs=-1)]: Done  17 tasks      | elapsed:    0.0s\n",
      "[Parallel(n_jobs=-1)]: Done 500 out of 500 | elapsed:    0.5s finished\n"
     ]
    },
    {
     "name": "stdout",
     "output_type": "stream",
     "text": [
      "inspirational -> Accuracy: 0.845 (0.362)\n",
      "Precision Score: 0.400\n",
      "recall Score: 0.500\n",
      "Fitting 5 folds for each of 100 candidates, totalling 500 fits\n"
     ]
    },
    {
     "name": "stderr",
     "output_type": "stream",
     "text": [
      "[Parallel(n_jobs=-1)]: Using backend LokyBackend with 8 concurrent workers.\n",
      "[Parallel(n_jobs=-1)]: Done  16 tasks      | elapsed:    0.0s\n",
      "[Parallel(n_jobs=-1)]: Done 500 out of 500 | elapsed:    0.3s finished\n"
     ]
    },
    {
     "name": "stdout",
     "output_type": "stream",
     "text": [
      "life -> Accuracy: 0.905 (0.294)\n",
      "Precision Score: 0.333\n",
      "recall Score: 0.429\n",
      "Fitting 5 folds for each of 100 candidates, totalling 500 fits\n"
     ]
    },
    {
     "name": "stderr",
     "output_type": "stream",
     "text": [
      "[Parallel(n_jobs=-1)]: Using backend LokyBackend with 8 concurrent workers.\n",
      "[Parallel(n_jobs=-1)]: Done  16 tasks      | elapsed:    0.0s\n",
      "[Parallel(n_jobs=-1)]: Done 500 out of 500 | elapsed:    0.3s finished\n"
     ]
    },
    {
     "name": "stdout",
     "output_type": "stream",
     "text": [
      "humor -> Accuracy: 0.905 (0.294)\n",
      "Precision Score: 0.350\n",
      "recall Score: 0.500\n",
      "Fitting 5 folds for each of 100 candidates, totalling 500 fits\n"
     ]
    },
    {
     "name": "stderr",
     "output_type": "stream",
     "text": [
      "[Parallel(n_jobs=-1)]: Using backend LokyBackend with 8 concurrent workers.\n",
      "[Parallel(n_jobs=-1)]: Done  16 tasks      | elapsed:    0.0s\n",
      "[Parallel(n_jobs=-1)]: Done 500 out of 500 | elapsed:    0.3s finished\n"
     ]
    },
    {
     "name": "stdout",
     "output_type": "stream",
     "text": [
      "books -> Accuracy: 0.893 (0.309)\n",
      "Precision Score: 0.389\n",
      "recall Score: 0.438\n",
      "Fitting 5 folds for each of 100 candidates, totalling 500 fits\n"
     ]
    },
    {
     "name": "stderr",
     "output_type": "stream",
     "text": [
      "[Parallel(n_jobs=-1)]: Using backend LokyBackend with 8 concurrent workers.\n",
      "[Parallel(n_jobs=-1)]: Done  16 tasks      | elapsed:    0.0s\n",
      "[Parallel(n_jobs=-1)]: Done 500 out of 500 | elapsed:    0.3s finished\n"
     ]
    },
    {
     "name": "stdout",
     "output_type": "stream",
     "text": [
      "reading -> Accuracy: 0.905 (0.294)\n",
      "Precision Score: 1.000\n",
      "recall Score: 1.000\n",
      "Fitting 5 folds for each of 100 candidates, totalling 500 fits\n"
     ]
    },
    {
     "name": "stderr",
     "output_type": "stream",
     "text": [
      "[Parallel(n_jobs=-1)]: Using backend LokyBackend with 8 concurrent workers.\n",
      "[Parallel(n_jobs=-1)]: Done  16 tasks      | elapsed:    0.0s\n",
      "[Parallel(n_jobs=-1)]: Done 500 out of 500 | elapsed:    0.3s finished\n"
     ]
    },
    {
     "name": "stdout",
     "output_type": "stream",
     "text": [
      "friendship -> Accuracy: 0.940 (0.237)\n",
      "Precision Score: 1.000\n",
      "recall Score: 1.000\n",
      "Fitting 5 folds for each of 100 candidates, totalling 500 fits\n"
     ]
    },
    {
     "name": "stderr",
     "output_type": "stream",
     "text": [
      "[Parallel(n_jobs=-1)]: Using backend LokyBackend with 8 concurrent workers.\n",
      "[Parallel(n_jobs=-1)]: Done  16 tasks      | elapsed:    0.0s\n",
      "[Parallel(n_jobs=-1)]: Done 500 out of 500 | elapsed:    0.3s finished\n"
     ]
    },
    {
     "name": "stdout",
     "output_type": "stream",
     "text": [
      "friends -> Accuracy: 0.952 (0.213)\n",
      "Precision Score: 1.000\n",
      "recall Score: 1.000\n",
      "Fitting 5 folds for each of 100 candidates, totalling 500 fits\n"
     ]
    },
    {
     "name": "stderr",
     "output_type": "stream",
     "text": [
      "[Parallel(n_jobs=-1)]: Using backend LokyBackend with 8 concurrent workers.\n",
      "[Parallel(n_jobs=-1)]: Done  16 tasks      | elapsed:    0.0s\n",
      "[Parallel(n_jobs=-1)]: Done 500 out of 500 | elapsed:    0.3s finished\n"
     ]
    },
    {
     "name": "stdout",
     "output_type": "stream",
     "text": [
      "truth -> Accuracy: 0.952 (0.213)\n",
      "Precision Score: 1.000\n",
      "recall Score: 1.000\n",
      "Fitting 5 folds for each of 100 candidates, totalling 500 fits\n"
     ]
    },
    {
     "name": "stderr",
     "output_type": "stream",
     "text": [
      "[Parallel(n_jobs=-1)]: Using backend LokyBackend with 8 concurrent workers.\n",
      "[Parallel(n_jobs=-1)]: Done  16 tasks      | elapsed:    0.0s\n",
      "[Parallel(n_jobs=-1)]: Done 500 out of 500 | elapsed:    0.3s finished\n"
     ]
    },
    {
     "name": "stdout",
     "output_type": "stream",
     "text": [
      "attributed-no-source -> Accuracy: 0.976 (0.152)\n",
      "Precision Score: 1.000\n",
      "recall Score: 1.000\n",
      "Fitting 5 folds for each of 100 candidates, totalling 500 fits\n"
     ]
    },
    {
     "name": "stderr",
     "output_type": "stream",
     "text": [
      "[Parallel(n_jobs=-1)]: Using backend LokyBackend with 8 concurrent workers.\n",
      "[Parallel(n_jobs=-1)]: Done  16 tasks      | elapsed:    0.0s\n",
      "[Parallel(n_jobs=-1)]: Done 500 out of 500 | elapsed:    0.3s finished\n"
     ]
    },
    {
     "name": "stdout",
     "output_type": "stream",
     "text": [
      "death -> Accuracy: 0.964 (0.186)\n",
      "Precision Score: 1.000\n",
      "recall Score: 1.000\n",
      "Fitting 5 folds for each of 100 candidates, totalling 500 fits\n"
     ]
    },
    {
     "name": "stderr",
     "output_type": "stream",
     "text": [
      "[Parallel(n_jobs=-1)]: Using backend LokyBackend with 8 concurrent workers.\n",
      "[Parallel(n_jobs=-1)]: Done  16 tasks      | elapsed:    0.0s\n",
      "[Parallel(n_jobs=-1)]: Done 500 out of 500 | elapsed:    0.4s finished\n"
     ]
    },
    {
     "name": "stdout",
     "output_type": "stream",
     "text": [
      "simile -> Accuracy: 0.976 (0.152)\n",
      "Precision Score: 1.000\n",
      "recall Score: 1.000\n",
      "Fitting 5 folds for each of 100 candidates, totalling 500 fits\n"
     ]
    },
    {
     "name": "stderr",
     "output_type": "stream",
     "text": [
      "[Parallel(n_jobs=-1)]: Using backend LokyBackend with 8 concurrent workers.\n",
      "[Parallel(n_jobs=-1)]: Done  16 tasks      | elapsed:    0.0s\n",
      "[Parallel(n_jobs=-1)]: Done 500 out of 500 | elapsed:    0.3s finished\n"
     ]
    },
    {
     "name": "stdout",
     "output_type": "stream",
     "text": [
      "writing -> Accuracy: 0.964 (0.186)\n",
      "Precision Score: 1.000\n",
      "recall Score: 1.000\n",
      "Fitting 5 folds for each of 100 candidates, totalling 500 fits\n"
     ]
    },
    {
     "name": "stderr",
     "output_type": "stream",
     "text": [
      "[Parallel(n_jobs=-1)]: Using backend LokyBackend with 8 concurrent workers.\n",
      "[Parallel(n_jobs=-1)]: Done  16 tasks      | elapsed:    0.0s\n",
      "[Parallel(n_jobs=-1)]: Done 500 out of 500 | elapsed:    0.3s finished\n"
     ]
    },
    {
     "name": "stdout",
     "output_type": "stream",
     "text": [
      "children -> Accuracy: 0.976 (0.152)\n",
      "Precision Score: 1.000\n",
      "recall Score: 1.000\n",
      "Fitting 5 folds for each of 100 candidates, totalling 500 fits\n"
     ]
    },
    {
     "name": "stderr",
     "output_type": "stream",
     "text": [
      "[Parallel(n_jobs=-1)]: Using backend LokyBackend with 8 concurrent workers.\n",
      "[Parallel(n_jobs=-1)]: Done  16 tasks      | elapsed:    0.0s\n"
     ]
    },
    {
     "name": "stdout",
     "output_type": "stream",
     "text": [
      "classic -> Accuracy: 0.964 (0.186)\n",
      "Precision Score: 1.000\n",
      "recall Score: 1.000\n"
     ]
    },
    {
     "name": "stderr",
     "output_type": "stream",
     "text": [
      "[Parallel(n_jobs=-1)]: Done 500 out of 500 | elapsed:    0.4s finished\n"
     ]
    }
   ],
   "source": [
    "# เรียกใช้ฟังก์ชั่น create_model\n",
    "accuracy_list, precision_list, recall_list = create_model(knn, params, False)"
   ]
  },
  {
   "cell_type": "code",
   "execution_count": 58,
   "metadata": {},
   "outputs": [
    {
     "data": {
      "text/html": [
       "<style  type=\"text/css\" >\n",
       "#T_ce550cfe_3d18_11eb_998a_0433c2baf4a9row15_col0,#T_ce550cfe_3d18_11eb_998a_0433c2baf4a9row15_col1,#T_ce550cfe_3d18_11eb_998a_0433c2baf4a9row15_col2,#T_ce550cfe_3d18_11eb_998a_0433c2baf4a9row15_col3{\n",
       "            background-color:  yellow;\n",
       "        }</style><table id=\"T_ce550cfe_3d18_11eb_998a_0433c2baf4a9\" ><thead>    <tr>        <th class=\"blank level0\" ></th>        <th class=\"col_heading level0 col0\" >Tags</th>        <th class=\"col_heading level0 col1\" >Accuracy</th>        <th class=\"col_heading level0 col2\" >Precision</th>        <th class=\"col_heading level0 col3\" >Recall</th>    </tr></thead><tbody>\n",
       "                <tr>\n",
       "                        <th id=\"T_ce550cfe_3d18_11eb_998a_0433c2baf4a9level0_row0\" class=\"row_heading level0 row0\" >0</th>\n",
       "                        <td id=\"T_ce550cfe_3d18_11eb_998a_0433c2baf4a9row0_col0\" class=\"data row0 col0\" >reading</td>\n",
       "                        <td id=\"T_ce550cfe_3d18_11eb_998a_0433c2baf4a9row0_col1\" class=\"data row0 col1\" >0.904762</td>\n",
       "                        <td id=\"T_ce550cfe_3d18_11eb_998a_0433c2baf4a9row0_col2\" class=\"data row0 col2\" >1.000000</td>\n",
       "                        <td id=\"T_ce550cfe_3d18_11eb_998a_0433c2baf4a9row0_col3\" class=\"data row0 col3\" >1.000000</td>\n",
       "            </tr>\n",
       "            <tr>\n",
       "                        <th id=\"T_ce550cfe_3d18_11eb_998a_0433c2baf4a9level0_row1\" class=\"row_heading level0 row1\" >1</th>\n",
       "                        <td id=\"T_ce550cfe_3d18_11eb_998a_0433c2baf4a9row1_col0\" class=\"data row1 col0\" >friendship</td>\n",
       "                        <td id=\"T_ce550cfe_3d18_11eb_998a_0433c2baf4a9row1_col1\" class=\"data row1 col1\" >0.940476</td>\n",
       "                        <td id=\"T_ce550cfe_3d18_11eb_998a_0433c2baf4a9row1_col2\" class=\"data row1 col2\" >1.000000</td>\n",
       "                        <td id=\"T_ce550cfe_3d18_11eb_998a_0433c2baf4a9row1_col3\" class=\"data row1 col3\" >1.000000</td>\n",
       "            </tr>\n",
       "            <tr>\n",
       "                        <th id=\"T_ce550cfe_3d18_11eb_998a_0433c2baf4a9level0_row2\" class=\"row_heading level0 row2\" >2</th>\n",
       "                        <td id=\"T_ce550cfe_3d18_11eb_998a_0433c2baf4a9row2_col0\" class=\"data row2 col0\" >friends</td>\n",
       "                        <td id=\"T_ce550cfe_3d18_11eb_998a_0433c2baf4a9row2_col1\" class=\"data row2 col1\" >0.952381</td>\n",
       "                        <td id=\"T_ce550cfe_3d18_11eb_998a_0433c2baf4a9row2_col2\" class=\"data row2 col2\" >1.000000</td>\n",
       "                        <td id=\"T_ce550cfe_3d18_11eb_998a_0433c2baf4a9row2_col3\" class=\"data row2 col3\" >1.000000</td>\n",
       "            </tr>\n",
       "            <tr>\n",
       "                        <th id=\"T_ce550cfe_3d18_11eb_998a_0433c2baf4a9level0_row3\" class=\"row_heading level0 row3\" >3</th>\n",
       "                        <td id=\"T_ce550cfe_3d18_11eb_998a_0433c2baf4a9row3_col0\" class=\"data row3 col0\" >truth</td>\n",
       "                        <td id=\"T_ce550cfe_3d18_11eb_998a_0433c2baf4a9row3_col1\" class=\"data row3 col1\" >0.952381</td>\n",
       "                        <td id=\"T_ce550cfe_3d18_11eb_998a_0433c2baf4a9row3_col2\" class=\"data row3 col2\" >1.000000</td>\n",
       "                        <td id=\"T_ce550cfe_3d18_11eb_998a_0433c2baf4a9row3_col3\" class=\"data row3 col3\" >1.000000</td>\n",
       "            </tr>\n",
       "            <tr>\n",
       "                        <th id=\"T_ce550cfe_3d18_11eb_998a_0433c2baf4a9level0_row4\" class=\"row_heading level0 row4\" >4</th>\n",
       "                        <td id=\"T_ce550cfe_3d18_11eb_998a_0433c2baf4a9row4_col0\" class=\"data row4 col0\" >attributed-no-source</td>\n",
       "                        <td id=\"T_ce550cfe_3d18_11eb_998a_0433c2baf4a9row4_col1\" class=\"data row4 col1\" >0.976190</td>\n",
       "                        <td id=\"T_ce550cfe_3d18_11eb_998a_0433c2baf4a9row4_col2\" class=\"data row4 col2\" >1.000000</td>\n",
       "                        <td id=\"T_ce550cfe_3d18_11eb_998a_0433c2baf4a9row4_col3\" class=\"data row4 col3\" >1.000000</td>\n",
       "            </tr>\n",
       "            <tr>\n",
       "                        <th id=\"T_ce550cfe_3d18_11eb_998a_0433c2baf4a9level0_row5\" class=\"row_heading level0 row5\" >5</th>\n",
       "                        <td id=\"T_ce550cfe_3d18_11eb_998a_0433c2baf4a9row5_col0\" class=\"data row5 col0\" >death</td>\n",
       "                        <td id=\"T_ce550cfe_3d18_11eb_998a_0433c2baf4a9row5_col1\" class=\"data row5 col1\" >0.964286</td>\n",
       "                        <td id=\"T_ce550cfe_3d18_11eb_998a_0433c2baf4a9row5_col2\" class=\"data row5 col2\" >1.000000</td>\n",
       "                        <td id=\"T_ce550cfe_3d18_11eb_998a_0433c2baf4a9row5_col3\" class=\"data row5 col3\" >1.000000</td>\n",
       "            </tr>\n",
       "            <tr>\n",
       "                        <th id=\"T_ce550cfe_3d18_11eb_998a_0433c2baf4a9level0_row6\" class=\"row_heading level0 row6\" >6</th>\n",
       "                        <td id=\"T_ce550cfe_3d18_11eb_998a_0433c2baf4a9row6_col0\" class=\"data row6 col0\" >simile</td>\n",
       "                        <td id=\"T_ce550cfe_3d18_11eb_998a_0433c2baf4a9row6_col1\" class=\"data row6 col1\" >0.976190</td>\n",
       "                        <td id=\"T_ce550cfe_3d18_11eb_998a_0433c2baf4a9row6_col2\" class=\"data row6 col2\" >1.000000</td>\n",
       "                        <td id=\"T_ce550cfe_3d18_11eb_998a_0433c2baf4a9row6_col3\" class=\"data row6 col3\" >1.000000</td>\n",
       "            </tr>\n",
       "            <tr>\n",
       "                        <th id=\"T_ce550cfe_3d18_11eb_998a_0433c2baf4a9level0_row7\" class=\"row_heading level0 row7\" >7</th>\n",
       "                        <td id=\"T_ce550cfe_3d18_11eb_998a_0433c2baf4a9row7_col0\" class=\"data row7 col0\" >writing</td>\n",
       "                        <td id=\"T_ce550cfe_3d18_11eb_998a_0433c2baf4a9row7_col1\" class=\"data row7 col1\" >0.964286</td>\n",
       "                        <td id=\"T_ce550cfe_3d18_11eb_998a_0433c2baf4a9row7_col2\" class=\"data row7 col2\" >1.000000</td>\n",
       "                        <td id=\"T_ce550cfe_3d18_11eb_998a_0433c2baf4a9row7_col3\" class=\"data row7 col3\" >1.000000</td>\n",
       "            </tr>\n",
       "            <tr>\n",
       "                        <th id=\"T_ce550cfe_3d18_11eb_998a_0433c2baf4a9level0_row8\" class=\"row_heading level0 row8\" >8</th>\n",
       "                        <td id=\"T_ce550cfe_3d18_11eb_998a_0433c2baf4a9row8_col0\" class=\"data row8 col0\" >children</td>\n",
       "                        <td id=\"T_ce550cfe_3d18_11eb_998a_0433c2baf4a9row8_col1\" class=\"data row8 col1\" >0.976190</td>\n",
       "                        <td id=\"T_ce550cfe_3d18_11eb_998a_0433c2baf4a9row8_col2\" class=\"data row8 col2\" >1.000000</td>\n",
       "                        <td id=\"T_ce550cfe_3d18_11eb_998a_0433c2baf4a9row8_col3\" class=\"data row8 col3\" >1.000000</td>\n",
       "            </tr>\n",
       "            <tr>\n",
       "                        <th id=\"T_ce550cfe_3d18_11eb_998a_0433c2baf4a9level0_row9\" class=\"row_heading level0 row9\" >9</th>\n",
       "                        <td id=\"T_ce550cfe_3d18_11eb_998a_0433c2baf4a9row9_col0\" class=\"data row9 col0\" >classic</td>\n",
       "                        <td id=\"T_ce550cfe_3d18_11eb_998a_0433c2baf4a9row9_col1\" class=\"data row9 col1\" >0.964286</td>\n",
       "                        <td id=\"T_ce550cfe_3d18_11eb_998a_0433c2baf4a9row9_col2\" class=\"data row9 col2\" >1.000000</td>\n",
       "                        <td id=\"T_ce550cfe_3d18_11eb_998a_0433c2baf4a9row9_col3\" class=\"data row9 col3\" >1.000000</td>\n",
       "            </tr>\n",
       "            <tr>\n",
       "                        <th id=\"T_ce550cfe_3d18_11eb_998a_0433c2baf4a9level0_row10\" class=\"row_heading level0 row10\" >10</th>\n",
       "                        <td id=\"T_ce550cfe_3d18_11eb_998a_0433c2baf4a9row10_col0\" class=\"data row10 col0\" >love</td>\n",
       "                        <td id=\"T_ce550cfe_3d18_11eb_998a_0433c2baf4a9row10_col1\" class=\"data row10 col1\" >0.857143</td>\n",
       "                        <td id=\"T_ce550cfe_3d18_11eb_998a_0433c2baf4a9row10_col2\" class=\"data row10 col2\" >0.944444</td>\n",
       "                        <td id=\"T_ce550cfe_3d18_11eb_998a_0433c2baf4a9row10_col3\" class=\"data row10 col3\" >0.750000</td>\n",
       "            </tr>\n",
       "            <tr>\n",
       "                        <th id=\"T_ce550cfe_3d18_11eb_998a_0433c2baf4a9level0_row11\" class=\"row_heading level0 row11\" >11</th>\n",
       "                        <td id=\"T_ce550cfe_3d18_11eb_998a_0433c2baf4a9row11_col0\" class=\"data row11 col0\" >inspirational</td>\n",
       "                        <td id=\"T_ce550cfe_3d18_11eb_998a_0433c2baf4a9row11_col1\" class=\"data row11 col1\" >0.845238</td>\n",
       "                        <td id=\"T_ce550cfe_3d18_11eb_998a_0433c2baf4a9row11_col2\" class=\"data row11 col2\" >0.400000</td>\n",
       "                        <td id=\"T_ce550cfe_3d18_11eb_998a_0433c2baf4a9row11_col3\" class=\"data row11 col3\" >0.500000</td>\n",
       "            </tr>\n",
       "            <tr>\n",
       "                        <th id=\"T_ce550cfe_3d18_11eb_998a_0433c2baf4a9level0_row12\" class=\"row_heading level0 row12\" >12</th>\n",
       "                        <td id=\"T_ce550cfe_3d18_11eb_998a_0433c2baf4a9row12_col0\" class=\"data row12 col0\" >books</td>\n",
       "                        <td id=\"T_ce550cfe_3d18_11eb_998a_0433c2baf4a9row12_col1\" class=\"data row12 col1\" >0.892857</td>\n",
       "                        <td id=\"T_ce550cfe_3d18_11eb_998a_0433c2baf4a9row12_col2\" class=\"data row12 col2\" >0.388889</td>\n",
       "                        <td id=\"T_ce550cfe_3d18_11eb_998a_0433c2baf4a9row12_col3\" class=\"data row12 col3\" >0.437500</td>\n",
       "            </tr>\n",
       "            <tr>\n",
       "                        <th id=\"T_ce550cfe_3d18_11eb_998a_0433c2baf4a9level0_row13\" class=\"row_heading level0 row13\" >13</th>\n",
       "                        <td id=\"T_ce550cfe_3d18_11eb_998a_0433c2baf4a9row13_col0\" class=\"data row13 col0\" >humor</td>\n",
       "                        <td id=\"T_ce550cfe_3d18_11eb_998a_0433c2baf4a9row13_col1\" class=\"data row13 col1\" >0.904762</td>\n",
       "                        <td id=\"T_ce550cfe_3d18_11eb_998a_0433c2baf4a9row13_col2\" class=\"data row13 col2\" >0.350000</td>\n",
       "                        <td id=\"T_ce550cfe_3d18_11eb_998a_0433c2baf4a9row13_col3\" class=\"data row13 col3\" >0.500000</td>\n",
       "            </tr>\n",
       "            <tr>\n",
       "                        <th id=\"T_ce550cfe_3d18_11eb_998a_0433c2baf4a9level0_row14\" class=\"row_heading level0 row14\" >14</th>\n",
       "                        <td id=\"T_ce550cfe_3d18_11eb_998a_0433c2baf4a9row14_col0\" class=\"data row14 col0\" >life</td>\n",
       "                        <td id=\"T_ce550cfe_3d18_11eb_998a_0433c2baf4a9row14_col1\" class=\"data row14 col1\" >0.904762</td>\n",
       "                        <td id=\"T_ce550cfe_3d18_11eb_998a_0433c2baf4a9row14_col2\" class=\"data row14 col2\" >0.333333</td>\n",
       "                        <td id=\"T_ce550cfe_3d18_11eb_998a_0433c2baf4a9row14_col3\" class=\"data row14 col3\" >0.428571</td>\n",
       "            </tr>\n",
       "            <tr>\n",
       "                        <th id=\"T_ce550cfe_3d18_11eb_998a_0433c2baf4a9level0_row15\" class=\"row_heading level0 row15\" >15</th>\n",
       "                        <td id=\"T_ce550cfe_3d18_11eb_998a_0433c2baf4a9row15_col0\" class=\"data row15 col0\" >Average</td>\n",
       "                        <td id=\"T_ce550cfe_3d18_11eb_998a_0433c2baf4a9row15_col1\" class=\"data row15 col1\" >0.931746</td>\n",
       "                        <td id=\"T_ce550cfe_3d18_11eb_998a_0433c2baf4a9row15_col2\" class=\"data row15 col2\" >0.827778</td>\n",
       "                        <td id=\"T_ce550cfe_3d18_11eb_998a_0433c2baf4a9row15_col3\" class=\"data row15 col3\" >0.841071</td>\n",
       "            </tr>\n",
       "    </tbody></table>"
      ],
      "text/plain": [
       "<pandas.io.formats.style.Styler at 0x15907e04130>"
      ]
     },
     "execution_count": 58,
     "metadata": {},
     "output_type": "execute_result"
    }
   ],
   "source": [
    "# เรียกใช้ฟังก์ชั่น evaluation_table เพื่อแสดงตารางเปรียบเทียบ\n",
    "evaluation_table(accuracy_list, precision_list, recall_list)"
   ]
  },
  {
   "cell_type": "markdown",
   "metadata": {},
   "source": [
    "### KNN Tunning parameter แบบ weight"
   ]
  },
  {
   "cell_type": "code",
   "execution_count": 59,
   "metadata": {},
   "outputs": [],
   "source": [
    "knn = KNeighborsClassifier() # สร้าง K-Nearest Neighbors classifier\n",
    "\n",
    "#ทำการกำหนด parameter ที่จะเอาไปวิเคราะห์ โดยค่าที่กำหนดไว้คือ parameter ของ knn\n",
    "params = { \n",
    "    'n_neighbors' : list(np.arange(1,50,2)),\n",
    "    'weights' : ['uniform', 'distance'], \n",
    "    'metric' : ['euclidean', 'manhattan'] \n",
    "}"
   ]
  },
  {
   "cell_type": "code",
   "execution_count": 60,
   "metadata": {},
   "outputs": [
    {
     "name": "stdout",
     "output_type": "stream",
     "text": [
      "Fitting 5 folds for each of 100 candidates, totalling 500 fits\n"
     ]
    },
    {
     "name": "stderr",
     "output_type": "stream",
     "text": [
      "[Parallel(n_jobs=-1)]: Using backend LokyBackend with 8 concurrent workers.\n",
      "[Parallel(n_jobs=-1)]: Done  16 tasks      | elapsed:    0.0s\n",
      "[Parallel(n_jobs=-1)]: Done 500 out of 500 | elapsed:    0.3s finished\n",
      "[Parallel(n_jobs=-1)]: Using backend LokyBackend with 8 concurrent workers.\n",
      "[Parallel(n_jobs=-1)]: Done  16 tasks      | elapsed:    0.0s\n"
     ]
    },
    {
     "name": "stdout",
     "output_type": "stream",
     "text": [
      "love -> Accuracy: 0.869 (0.337)\n",
      "Precision Score: 0.450\n",
      "recall Score: 0.500\n",
      "Fitting 5 folds for each of 100 candidates, totalling 500 fits\n"
     ]
    },
    {
     "name": "stderr",
     "output_type": "stream",
     "text": [
      "[Parallel(n_jobs=-1)]: Done 500 out of 500 | elapsed:    0.3s finished\n",
      "[Parallel(n_jobs=-1)]: Using backend LokyBackend with 8 concurrent workers.\n",
      "[Parallel(n_jobs=-1)]: Done  16 tasks      | elapsed:    0.0s\n"
     ]
    },
    {
     "name": "stdout",
     "output_type": "stream",
     "text": [
      "inspirational -> Accuracy: 0.857 (0.350)\n",
      "Precision Score: 0.450\n",
      "recall Score: 0.500\n",
      "Fitting 5 folds for each of 100 candidates, totalling 500 fits\n"
     ]
    },
    {
     "name": "stderr",
     "output_type": "stream",
     "text": [
      "[Parallel(n_jobs=-1)]: Done 500 out of 500 | elapsed:    0.4s finished\n",
      "[Parallel(n_jobs=-1)]: Using backend LokyBackend with 8 concurrent workers.\n",
      "[Parallel(n_jobs=-1)]: Done  16 tasks      | elapsed:    0.0s\n"
     ]
    },
    {
     "name": "stdout",
     "output_type": "stream",
     "text": [
      "life -> Accuracy: 0.845 (0.362)\n",
      "Precision Score: 1.000\n",
      "recall Score: 1.000\n",
      "Fitting 5 folds for each of 100 candidates, totalling 500 fits\n"
     ]
    },
    {
     "name": "stderr",
     "output_type": "stream",
     "text": [
      "[Parallel(n_jobs=-1)]: Done 500 out of 500 | elapsed:    0.4s finished\n",
      "[Parallel(n_jobs=-1)]: Using backend LokyBackend with 8 concurrent workers.\n",
      "[Parallel(n_jobs=-1)]: Done  16 tasks      | elapsed:    0.0s\n"
     ]
    },
    {
     "name": "stdout",
     "output_type": "stream",
     "text": [
      "humor -> Accuracy: 0.881 (0.324)\n",
      "Precision Score: 0.450\n",
      "recall Score: 0.500\n",
      "Fitting 5 folds for each of 100 candidates, totalling 500 fits\n"
     ]
    },
    {
     "name": "stderr",
     "output_type": "stream",
     "text": [
      "[Parallel(n_jobs=-1)]: Done 500 out of 500 | elapsed:    0.5s finished\n"
     ]
    },
    {
     "name": "stdout",
     "output_type": "stream",
     "text": [
      "books -> Accuracy: 0.869 (0.337)\n",
      "Precision Score: 0.450\n",
      "recall Score: 0.500\n",
      "Fitting 5 folds for each of 100 candidates, totalling 500 fits\n"
     ]
    },
    {
     "name": "stderr",
     "output_type": "stream",
     "text": [
      "[Parallel(n_jobs=-1)]: Using backend LokyBackend with 8 concurrent workers.\n",
      "[Parallel(n_jobs=-1)]: Done  16 tasks      | elapsed:    0.0s\n",
      "[Parallel(n_jobs=-1)]: Done 500 out of 500 | elapsed:    0.5s finished\n",
      "[Parallel(n_jobs=-1)]: Using backend LokyBackend with 8 concurrent workers.\n",
      "[Parallel(n_jobs=-1)]: Done  16 tasks      | elapsed:    0.0s\n"
     ]
    },
    {
     "name": "stdout",
     "output_type": "stream",
     "text": [
      "reading -> Accuracy: 0.917 (0.276)\n",
      "Precision Score: 1.000\n",
      "recall Score: 1.000\n",
      "Fitting 5 folds for each of 100 candidates, totalling 500 fits\n"
     ]
    },
    {
     "name": "stderr",
     "output_type": "stream",
     "text": [
      "[Parallel(n_jobs=-1)]: Done 500 out of 500 | elapsed:    0.5s finished\n",
      "[Parallel(n_jobs=-1)]: Using backend LokyBackend with 8 concurrent workers.\n",
      "[Parallel(n_jobs=-1)]: Done  16 tasks      | elapsed:    0.0s\n"
     ]
    },
    {
     "name": "stdout",
     "output_type": "stream",
     "text": [
      "friendship -> Accuracy: 0.940 (0.237)\n",
      "Precision Score: 1.000\n",
      "recall Score: 1.000\n",
      "Fitting 5 folds for each of 100 candidates, totalling 500 fits\n"
     ]
    },
    {
     "name": "stderr",
     "output_type": "stream",
     "text": [
      "[Parallel(n_jobs=-1)]: Done 500 out of 500 | elapsed:    0.4s finished\n",
      "[Parallel(n_jobs=-1)]: Using backend LokyBackend with 8 concurrent workers.\n"
     ]
    },
    {
     "name": "stdout",
     "output_type": "stream",
     "text": [
      "friends -> Accuracy: 0.952 (0.213)\n",
      "Precision Score: 1.000\n",
      "recall Score: 1.000\n",
      "Fitting 5 folds for each of 100 candidates, totalling 500 fits\n"
     ]
    },
    {
     "name": "stderr",
     "output_type": "stream",
     "text": [
      "[Parallel(n_jobs=-1)]: Done  16 tasks      | elapsed:    0.0s\n",
      "[Parallel(n_jobs=-1)]: Done 500 out of 500 | elapsed:    0.5s finished\n"
     ]
    },
    {
     "name": "stdout",
     "output_type": "stream",
     "text": [
      "truth -> Accuracy: 0.964 (0.186)\n",
      "Precision Score: 0.450\n",
      "recall Score: 0.500\n",
      "Fitting 5 folds for each of 100 candidates, totalling 500 fits\n"
     ]
    },
    {
     "name": "stderr",
     "output_type": "stream",
     "text": [
      "[Parallel(n_jobs=-1)]: Using backend LokyBackend with 8 concurrent workers.\n",
      "[Parallel(n_jobs=-1)]: Done  16 tasks      | elapsed:    0.0s\n",
      "[Parallel(n_jobs=-1)]: Done 500 out of 500 | elapsed:    0.5s finished\n",
      "[Parallel(n_jobs=-1)]: Using backend LokyBackend with 8 concurrent workers.\n"
     ]
    },
    {
     "name": "stdout",
     "output_type": "stream",
     "text": [
      "attributed-no-source -> Accuracy: 0.976 (0.152)\n",
      "Precision Score: 0.450\n",
      "recall Score: 0.500\n",
      "Fitting 5 folds for each of 100 candidates, totalling 500 fits\n"
     ]
    },
    {
     "name": "stderr",
     "output_type": "stream",
     "text": [
      "[Parallel(n_jobs=-1)]: Done  16 tasks      | elapsed:    0.0s\n",
      "[Parallel(n_jobs=-1)]: Done 500 out of 500 | elapsed:    0.4s finished\n",
      "[Parallel(n_jobs=-1)]: Using backend LokyBackend with 8 concurrent workers.\n",
      "[Parallel(n_jobs=-1)]: Done  16 tasks      | elapsed:    0.0s\n"
     ]
    },
    {
     "name": "stdout",
     "output_type": "stream",
     "text": [
      "death -> Accuracy: 0.964 (0.186)\n",
      "Precision Score: 1.000\n",
      "recall Score: 1.000\n",
      "Fitting 5 folds for each of 100 candidates, totalling 500 fits\n"
     ]
    },
    {
     "name": "stderr",
     "output_type": "stream",
     "text": [
      "[Parallel(n_jobs=-1)]: Done 500 out of 500 | elapsed:    0.4s finished\n",
      "[Parallel(n_jobs=-1)]: Using backend LokyBackend with 8 concurrent workers.\n",
      "[Parallel(n_jobs=-1)]: Done  16 tasks      | elapsed:    0.0s\n"
     ]
    },
    {
     "name": "stdout",
     "output_type": "stream",
     "text": [
      "simile -> Accuracy: 0.976 (0.152)\n",
      "Precision Score: 1.000\n",
      "recall Score: 1.000\n",
      "Fitting 5 folds for each of 100 candidates, totalling 500 fits\n"
     ]
    },
    {
     "name": "stderr",
     "output_type": "stream",
     "text": [
      "[Parallel(n_jobs=-1)]: Done 500 out of 500 | elapsed:    0.3s finished\n",
      "[Parallel(n_jobs=-1)]: Using backend LokyBackend with 8 concurrent workers.\n",
      "[Parallel(n_jobs=-1)]: Done  16 tasks      | elapsed:    0.0s\n"
     ]
    },
    {
     "name": "stdout",
     "output_type": "stream",
     "text": [
      "writing -> Accuracy: 0.964 (0.186)\n",
      "Precision Score: 1.000\n",
      "recall Score: 1.000\n",
      "Fitting 5 folds for each of 100 candidates, totalling 500 fits\n"
     ]
    },
    {
     "name": "stderr",
     "output_type": "stream",
     "text": [
      "[Parallel(n_jobs=-1)]: Done 500 out of 500 | elapsed:    0.3s finished\n",
      "[Parallel(n_jobs=-1)]: Using backend LokyBackend with 8 concurrent workers.\n",
      "[Parallel(n_jobs=-1)]: Done  16 tasks      | elapsed:    0.0s\n"
     ]
    },
    {
     "name": "stdout",
     "output_type": "stream",
     "text": [
      "children -> Accuracy: 0.976 (0.152)\n",
      "Precision Score: 1.000\n",
      "recall Score: 1.000\n",
      "Fitting 5 folds for each of 100 candidates, totalling 500 fits\n",
      "classic -> Accuracy: 0.964 (0.186)\n",
      "Precision Score: 1.000\n",
      "recall Score: 1.000\n"
     ]
    },
    {
     "name": "stderr",
     "output_type": "stream",
     "text": [
      "[Parallel(n_jobs=-1)]: Done 500 out of 500 | elapsed:    0.4s finished\n"
     ]
    }
   ],
   "source": [
    "# เรียกใช้ฟังก์ชั่น create_model\n",
    "accuracy_list,precision_list,recall_list = create_model(knn, params, True)"
   ]
  },
  {
   "cell_type": "code",
   "execution_count": 61,
   "metadata": {},
   "outputs": [
    {
     "data": {
      "text/html": [
       "<style  type=\"text/css\" >\n",
       "#T_fa91f1ce_3d18_11eb_9094_0433c2baf4a9row15_col0,#T_fa91f1ce_3d18_11eb_9094_0433c2baf4a9row15_col1,#T_fa91f1ce_3d18_11eb_9094_0433c2baf4a9row15_col2,#T_fa91f1ce_3d18_11eb_9094_0433c2baf4a9row15_col3{\n",
       "            background-color:  yellow;\n",
       "        }</style><table id=\"T_fa91f1ce_3d18_11eb_9094_0433c2baf4a9\" ><thead>    <tr>        <th class=\"blank level0\" ></th>        <th class=\"col_heading level0 col0\" >Tags</th>        <th class=\"col_heading level0 col1\" >Accuracy</th>        <th class=\"col_heading level0 col2\" >Precision</th>        <th class=\"col_heading level0 col3\" >Recall</th>    </tr></thead><tbody>\n",
       "                <tr>\n",
       "                        <th id=\"T_fa91f1ce_3d18_11eb_9094_0433c2baf4a9level0_row0\" class=\"row_heading level0 row0\" >0</th>\n",
       "                        <td id=\"T_fa91f1ce_3d18_11eb_9094_0433c2baf4a9row0_col0\" class=\"data row0 col0\" >life</td>\n",
       "                        <td id=\"T_fa91f1ce_3d18_11eb_9094_0433c2baf4a9row0_col1\" class=\"data row0 col1\" >0.845238</td>\n",
       "                        <td id=\"T_fa91f1ce_3d18_11eb_9094_0433c2baf4a9row0_col2\" class=\"data row0 col2\" >1.000000</td>\n",
       "                        <td id=\"T_fa91f1ce_3d18_11eb_9094_0433c2baf4a9row0_col3\" class=\"data row0 col3\" >1.000000</td>\n",
       "            </tr>\n",
       "            <tr>\n",
       "                        <th id=\"T_fa91f1ce_3d18_11eb_9094_0433c2baf4a9level0_row1\" class=\"row_heading level0 row1\" >1</th>\n",
       "                        <td id=\"T_fa91f1ce_3d18_11eb_9094_0433c2baf4a9row1_col0\" class=\"data row1 col0\" >reading</td>\n",
       "                        <td id=\"T_fa91f1ce_3d18_11eb_9094_0433c2baf4a9row1_col1\" class=\"data row1 col1\" >0.916667</td>\n",
       "                        <td id=\"T_fa91f1ce_3d18_11eb_9094_0433c2baf4a9row1_col2\" class=\"data row1 col2\" >1.000000</td>\n",
       "                        <td id=\"T_fa91f1ce_3d18_11eb_9094_0433c2baf4a9row1_col3\" class=\"data row1 col3\" >1.000000</td>\n",
       "            </tr>\n",
       "            <tr>\n",
       "                        <th id=\"T_fa91f1ce_3d18_11eb_9094_0433c2baf4a9level0_row2\" class=\"row_heading level0 row2\" >2</th>\n",
       "                        <td id=\"T_fa91f1ce_3d18_11eb_9094_0433c2baf4a9row2_col0\" class=\"data row2 col0\" >friendship</td>\n",
       "                        <td id=\"T_fa91f1ce_3d18_11eb_9094_0433c2baf4a9row2_col1\" class=\"data row2 col1\" >0.940476</td>\n",
       "                        <td id=\"T_fa91f1ce_3d18_11eb_9094_0433c2baf4a9row2_col2\" class=\"data row2 col2\" >1.000000</td>\n",
       "                        <td id=\"T_fa91f1ce_3d18_11eb_9094_0433c2baf4a9row2_col3\" class=\"data row2 col3\" >1.000000</td>\n",
       "            </tr>\n",
       "            <tr>\n",
       "                        <th id=\"T_fa91f1ce_3d18_11eb_9094_0433c2baf4a9level0_row3\" class=\"row_heading level0 row3\" >3</th>\n",
       "                        <td id=\"T_fa91f1ce_3d18_11eb_9094_0433c2baf4a9row3_col0\" class=\"data row3 col0\" >friends</td>\n",
       "                        <td id=\"T_fa91f1ce_3d18_11eb_9094_0433c2baf4a9row3_col1\" class=\"data row3 col1\" >0.952381</td>\n",
       "                        <td id=\"T_fa91f1ce_3d18_11eb_9094_0433c2baf4a9row3_col2\" class=\"data row3 col2\" >1.000000</td>\n",
       "                        <td id=\"T_fa91f1ce_3d18_11eb_9094_0433c2baf4a9row3_col3\" class=\"data row3 col3\" >1.000000</td>\n",
       "            </tr>\n",
       "            <tr>\n",
       "                        <th id=\"T_fa91f1ce_3d18_11eb_9094_0433c2baf4a9level0_row4\" class=\"row_heading level0 row4\" >4</th>\n",
       "                        <td id=\"T_fa91f1ce_3d18_11eb_9094_0433c2baf4a9row4_col0\" class=\"data row4 col0\" >death</td>\n",
       "                        <td id=\"T_fa91f1ce_3d18_11eb_9094_0433c2baf4a9row4_col1\" class=\"data row4 col1\" >0.964286</td>\n",
       "                        <td id=\"T_fa91f1ce_3d18_11eb_9094_0433c2baf4a9row4_col2\" class=\"data row4 col2\" >1.000000</td>\n",
       "                        <td id=\"T_fa91f1ce_3d18_11eb_9094_0433c2baf4a9row4_col3\" class=\"data row4 col3\" >1.000000</td>\n",
       "            </tr>\n",
       "            <tr>\n",
       "                        <th id=\"T_fa91f1ce_3d18_11eb_9094_0433c2baf4a9level0_row5\" class=\"row_heading level0 row5\" >5</th>\n",
       "                        <td id=\"T_fa91f1ce_3d18_11eb_9094_0433c2baf4a9row5_col0\" class=\"data row5 col0\" >simile</td>\n",
       "                        <td id=\"T_fa91f1ce_3d18_11eb_9094_0433c2baf4a9row5_col1\" class=\"data row5 col1\" >0.976190</td>\n",
       "                        <td id=\"T_fa91f1ce_3d18_11eb_9094_0433c2baf4a9row5_col2\" class=\"data row5 col2\" >1.000000</td>\n",
       "                        <td id=\"T_fa91f1ce_3d18_11eb_9094_0433c2baf4a9row5_col3\" class=\"data row5 col3\" >1.000000</td>\n",
       "            </tr>\n",
       "            <tr>\n",
       "                        <th id=\"T_fa91f1ce_3d18_11eb_9094_0433c2baf4a9level0_row6\" class=\"row_heading level0 row6\" >6</th>\n",
       "                        <td id=\"T_fa91f1ce_3d18_11eb_9094_0433c2baf4a9row6_col0\" class=\"data row6 col0\" >writing</td>\n",
       "                        <td id=\"T_fa91f1ce_3d18_11eb_9094_0433c2baf4a9row6_col1\" class=\"data row6 col1\" >0.964286</td>\n",
       "                        <td id=\"T_fa91f1ce_3d18_11eb_9094_0433c2baf4a9row6_col2\" class=\"data row6 col2\" >1.000000</td>\n",
       "                        <td id=\"T_fa91f1ce_3d18_11eb_9094_0433c2baf4a9row6_col3\" class=\"data row6 col3\" >1.000000</td>\n",
       "            </tr>\n",
       "            <tr>\n",
       "                        <th id=\"T_fa91f1ce_3d18_11eb_9094_0433c2baf4a9level0_row7\" class=\"row_heading level0 row7\" >7</th>\n",
       "                        <td id=\"T_fa91f1ce_3d18_11eb_9094_0433c2baf4a9row7_col0\" class=\"data row7 col0\" >children</td>\n",
       "                        <td id=\"T_fa91f1ce_3d18_11eb_9094_0433c2baf4a9row7_col1\" class=\"data row7 col1\" >0.976190</td>\n",
       "                        <td id=\"T_fa91f1ce_3d18_11eb_9094_0433c2baf4a9row7_col2\" class=\"data row7 col2\" >1.000000</td>\n",
       "                        <td id=\"T_fa91f1ce_3d18_11eb_9094_0433c2baf4a9row7_col3\" class=\"data row7 col3\" >1.000000</td>\n",
       "            </tr>\n",
       "            <tr>\n",
       "                        <th id=\"T_fa91f1ce_3d18_11eb_9094_0433c2baf4a9level0_row8\" class=\"row_heading level0 row8\" >8</th>\n",
       "                        <td id=\"T_fa91f1ce_3d18_11eb_9094_0433c2baf4a9row8_col0\" class=\"data row8 col0\" >classic</td>\n",
       "                        <td id=\"T_fa91f1ce_3d18_11eb_9094_0433c2baf4a9row8_col1\" class=\"data row8 col1\" >0.964286</td>\n",
       "                        <td id=\"T_fa91f1ce_3d18_11eb_9094_0433c2baf4a9row8_col2\" class=\"data row8 col2\" >1.000000</td>\n",
       "                        <td id=\"T_fa91f1ce_3d18_11eb_9094_0433c2baf4a9row8_col3\" class=\"data row8 col3\" >1.000000</td>\n",
       "            </tr>\n",
       "            <tr>\n",
       "                        <th id=\"T_fa91f1ce_3d18_11eb_9094_0433c2baf4a9level0_row9\" class=\"row_heading level0 row9\" >9</th>\n",
       "                        <td id=\"T_fa91f1ce_3d18_11eb_9094_0433c2baf4a9row9_col0\" class=\"data row9 col0\" >love</td>\n",
       "                        <td id=\"T_fa91f1ce_3d18_11eb_9094_0433c2baf4a9row9_col1\" class=\"data row9 col1\" >0.869048</td>\n",
       "                        <td id=\"T_fa91f1ce_3d18_11eb_9094_0433c2baf4a9row9_col2\" class=\"data row9 col2\" >0.450000</td>\n",
       "                        <td id=\"T_fa91f1ce_3d18_11eb_9094_0433c2baf4a9row9_col3\" class=\"data row9 col3\" >0.500000</td>\n",
       "            </tr>\n",
       "            <tr>\n",
       "                        <th id=\"T_fa91f1ce_3d18_11eb_9094_0433c2baf4a9level0_row10\" class=\"row_heading level0 row10\" >10</th>\n",
       "                        <td id=\"T_fa91f1ce_3d18_11eb_9094_0433c2baf4a9row10_col0\" class=\"data row10 col0\" >inspirational</td>\n",
       "                        <td id=\"T_fa91f1ce_3d18_11eb_9094_0433c2baf4a9row10_col1\" class=\"data row10 col1\" >0.857143</td>\n",
       "                        <td id=\"T_fa91f1ce_3d18_11eb_9094_0433c2baf4a9row10_col2\" class=\"data row10 col2\" >0.450000</td>\n",
       "                        <td id=\"T_fa91f1ce_3d18_11eb_9094_0433c2baf4a9row10_col3\" class=\"data row10 col3\" >0.500000</td>\n",
       "            </tr>\n",
       "            <tr>\n",
       "                        <th id=\"T_fa91f1ce_3d18_11eb_9094_0433c2baf4a9level0_row11\" class=\"row_heading level0 row11\" >11</th>\n",
       "                        <td id=\"T_fa91f1ce_3d18_11eb_9094_0433c2baf4a9row11_col0\" class=\"data row11 col0\" >humor</td>\n",
       "                        <td id=\"T_fa91f1ce_3d18_11eb_9094_0433c2baf4a9row11_col1\" class=\"data row11 col1\" >0.880952</td>\n",
       "                        <td id=\"T_fa91f1ce_3d18_11eb_9094_0433c2baf4a9row11_col2\" class=\"data row11 col2\" >0.450000</td>\n",
       "                        <td id=\"T_fa91f1ce_3d18_11eb_9094_0433c2baf4a9row11_col3\" class=\"data row11 col3\" >0.500000</td>\n",
       "            </tr>\n",
       "            <tr>\n",
       "                        <th id=\"T_fa91f1ce_3d18_11eb_9094_0433c2baf4a9level0_row12\" class=\"row_heading level0 row12\" >12</th>\n",
       "                        <td id=\"T_fa91f1ce_3d18_11eb_9094_0433c2baf4a9row12_col0\" class=\"data row12 col0\" >books</td>\n",
       "                        <td id=\"T_fa91f1ce_3d18_11eb_9094_0433c2baf4a9row12_col1\" class=\"data row12 col1\" >0.869048</td>\n",
       "                        <td id=\"T_fa91f1ce_3d18_11eb_9094_0433c2baf4a9row12_col2\" class=\"data row12 col2\" >0.450000</td>\n",
       "                        <td id=\"T_fa91f1ce_3d18_11eb_9094_0433c2baf4a9row12_col3\" class=\"data row12 col3\" >0.500000</td>\n",
       "            </tr>\n",
       "            <tr>\n",
       "                        <th id=\"T_fa91f1ce_3d18_11eb_9094_0433c2baf4a9level0_row13\" class=\"row_heading level0 row13\" >13</th>\n",
       "                        <td id=\"T_fa91f1ce_3d18_11eb_9094_0433c2baf4a9row13_col0\" class=\"data row13 col0\" >truth</td>\n",
       "                        <td id=\"T_fa91f1ce_3d18_11eb_9094_0433c2baf4a9row13_col1\" class=\"data row13 col1\" >0.964286</td>\n",
       "                        <td id=\"T_fa91f1ce_3d18_11eb_9094_0433c2baf4a9row13_col2\" class=\"data row13 col2\" >0.450000</td>\n",
       "                        <td id=\"T_fa91f1ce_3d18_11eb_9094_0433c2baf4a9row13_col3\" class=\"data row13 col3\" >0.500000</td>\n",
       "            </tr>\n",
       "            <tr>\n",
       "                        <th id=\"T_fa91f1ce_3d18_11eb_9094_0433c2baf4a9level0_row14\" class=\"row_heading level0 row14\" >14</th>\n",
       "                        <td id=\"T_fa91f1ce_3d18_11eb_9094_0433c2baf4a9row14_col0\" class=\"data row14 col0\" >attributed-no-source</td>\n",
       "                        <td id=\"T_fa91f1ce_3d18_11eb_9094_0433c2baf4a9row14_col1\" class=\"data row14 col1\" >0.976190</td>\n",
       "                        <td id=\"T_fa91f1ce_3d18_11eb_9094_0433c2baf4a9row14_col2\" class=\"data row14 col2\" >0.450000</td>\n",
       "                        <td id=\"T_fa91f1ce_3d18_11eb_9094_0433c2baf4a9row14_col3\" class=\"data row14 col3\" >0.500000</td>\n",
       "            </tr>\n",
       "            <tr>\n",
       "                        <th id=\"T_fa91f1ce_3d18_11eb_9094_0433c2baf4a9level0_row15\" class=\"row_heading level0 row15\" >15</th>\n",
       "                        <td id=\"T_fa91f1ce_3d18_11eb_9094_0433c2baf4a9row15_col0\" class=\"data row15 col0\" >Average</td>\n",
       "                        <td id=\"T_fa91f1ce_3d18_11eb_9094_0433c2baf4a9row15_col1\" class=\"data row15 col1\" >0.927778</td>\n",
       "                        <td id=\"T_fa91f1ce_3d18_11eb_9094_0433c2baf4a9row15_col2\" class=\"data row15 col2\" >0.780000</td>\n",
       "                        <td id=\"T_fa91f1ce_3d18_11eb_9094_0433c2baf4a9row15_col3\" class=\"data row15 col3\" >0.800000</td>\n",
       "            </tr>\n",
       "    </tbody></table>"
      ],
      "text/plain": [
       "<pandas.io.formats.style.Styler at 0x15908186ac0>"
      ]
     },
     "execution_count": 61,
     "metadata": {},
     "output_type": "execute_result"
    }
   ],
   "source": [
    "# เรียกใช้ฟังก์ชั่น evaluation_table เพื่อแสดงตารางเปรียบเทียบ\n",
    "evaluation_table(accuracy_list, precision_list, recall_list)"
   ]
  },
  {
   "cell_type": "markdown",
   "metadata": {},
   "source": [
    "---"
   ]
  },
  {
   "cell_type": "markdown",
   "metadata": {},
   "source": [
    "## Logistic Regression"
   ]
  },
  {
   "cell_type": "markdown",
   "metadata": {},
   "source": [
    "### Logistic Regression Tunning parameter แบบไม่ weight"
   ]
  },
  {
   "cell_type": "code",
   "execution_count": 65,
   "metadata": {},
   "outputs": [],
   "source": [
    "lg= LogisticRegression()  # สร้าง Logistic Regression classifier\n",
    "\n",
    "#ทำการกำหนด parameter ที่จะเอาไปวิเคราะห์ โดยค่าที่กำหนดไว้คือ parameter ของ Logistic Regression\n",
    "params = {\"C\":np.logspace(-4, 4, 50), \n",
    "          \"penalty\":[\"l1\",\"l2\"]  # l1 lasso l2 ridge\n",
    "         }"
   ]
  },
  {
   "cell_type": "code",
   "execution_count": 66,
   "metadata": {},
   "outputs": [
    {
     "name": "stdout",
     "output_type": "stream",
     "text": [
      "Fitting 5 folds for each of 100 candidates, totalling 500 fits\n"
     ]
    },
    {
     "name": "stderr",
     "output_type": "stream",
     "text": [
      "[Parallel(n_jobs=-1)]: Using backend LokyBackend with 8 concurrent workers.\n",
      "[Parallel(n_jobs=-1)]: Done  17 tasks      | elapsed:    0.0s\n",
      "[Parallel(n_jobs=-1)]: Done 500 out of 500 | elapsed:    0.6s finished\n"
     ]
    },
    {
     "name": "stdout",
     "output_type": "stream",
     "text": [
      "love -> Accuracy: 0.881 (0.324)\n",
      "Precision Score: 0.400\n",
      "recall Score: 0.500\n",
      "Fitting 5 folds for each of 100 candidates, totalling 500 fits\n"
     ]
    },
    {
     "name": "stderr",
     "output_type": "stream",
     "text": [
      "[Parallel(n_jobs=-1)]: Using backend LokyBackend with 8 concurrent workers.\n",
      "[Parallel(n_jobs=-1)]: Done  17 tasks      | elapsed:    0.0s\n",
      "[Parallel(n_jobs=-1)]: Done 500 out of 500 | elapsed:    0.6s finished\n"
     ]
    },
    {
     "name": "stdout",
     "output_type": "stream",
     "text": [
      "inspirational -> Accuracy: 0.869 (0.337)\n",
      "Precision Score: 0.400\n",
      "recall Score: 0.500\n",
      "Fitting 5 folds for each of 100 candidates, totalling 500 fits\n"
     ]
    },
    {
     "name": "stderr",
     "output_type": "stream",
     "text": [
      "[Parallel(n_jobs=-1)]: Using backend LokyBackend with 8 concurrent workers.\n",
      "[Parallel(n_jobs=-1)]: Done  16 tasks      | elapsed:    0.0s\n",
      "[Parallel(n_jobs=-1)]: Done 500 out of 500 | elapsed:    0.8s finished\n"
     ]
    },
    {
     "name": "stdout",
     "output_type": "stream",
     "text": [
      "life -> Accuracy: 0.869 (0.337)\n",
      "Precision Score: 0.450\n",
      "recall Score: 0.500\n",
      "Fitting 5 folds for each of 100 candidates, totalling 500 fits\n"
     ]
    },
    {
     "name": "stderr",
     "output_type": "stream",
     "text": [
      "[Parallel(n_jobs=-1)]: Using backend LokyBackend with 8 concurrent workers.\n",
      "[Parallel(n_jobs=-1)]: Done  17 tasks      | elapsed:    0.0s\n",
      "[Parallel(n_jobs=-1)]: Done 500 out of 500 | elapsed:    0.8s finished\n"
     ]
    },
    {
     "name": "stdout",
     "output_type": "stream",
     "text": [
      "humor -> Accuracy: 0.881 (0.324)\n",
      "Precision Score: 0.450\n",
      "recall Score: 0.500\n",
      "Fitting 5 folds for each of 100 candidates, totalling 500 fits\n"
     ]
    },
    {
     "name": "stderr",
     "output_type": "stream",
     "text": [
      "[Parallel(n_jobs=-1)]: Using backend LokyBackend with 8 concurrent workers.\n",
      "[Parallel(n_jobs=-1)]: Done  17 tasks      | elapsed:    0.0s\n",
      "[Parallel(n_jobs=-1)]: Done 500 out of 500 | elapsed:    0.9s finished\n"
     ]
    },
    {
     "name": "stdout",
     "output_type": "stream",
     "text": [
      "books -> Accuracy: 0.893 (0.309)\n",
      "Precision Score: 0.400\n",
      "recall Score: 0.500\n",
      "Fitting 5 folds for each of 100 candidates, totalling 500 fits\n"
     ]
    },
    {
     "name": "stderr",
     "output_type": "stream",
     "text": [
      "[Parallel(n_jobs=-1)]: Using backend LokyBackend with 8 concurrent workers.\n",
      "[Parallel(n_jobs=-1)]: Done  16 tasks      | elapsed:    0.0s\n",
      "[Parallel(n_jobs=-1)]: Done 500 out of 500 | elapsed:    0.8s finished\n"
     ]
    },
    {
     "name": "stdout",
     "output_type": "stream",
     "text": [
      "reading -> Accuracy: 0.917 (0.276)\n",
      "Precision Score: 1.000\n",
      "recall Score: 1.000\n",
      "Fitting 5 folds for each of 100 candidates, totalling 500 fits\n"
     ]
    },
    {
     "name": "stderr",
     "output_type": "stream",
     "text": [
      "[Parallel(n_jobs=-1)]: Using backend LokyBackend with 8 concurrent workers.\n",
      "[Parallel(n_jobs=-1)]: Done  17 tasks      | elapsed:    0.0s\n",
      "[Parallel(n_jobs=-1)]: Done 500 out of 500 | elapsed:    0.7s finished\n"
     ]
    },
    {
     "name": "stdout",
     "output_type": "stream",
     "text": [
      "friendship -> Accuracy: 0.952 (0.213)\n",
      "Precision Score: 0.450\n",
      "recall Score: 0.500\n",
      "Fitting 5 folds for each of 100 candidates, totalling 500 fits\n"
     ]
    },
    {
     "name": "stderr",
     "output_type": "stream",
     "text": [
      "[Parallel(n_jobs=-1)]: Using backend LokyBackend with 8 concurrent workers.\n",
      "[Parallel(n_jobs=-1)]: Done  17 tasks      | elapsed:    0.0s\n",
      "[Parallel(n_jobs=-1)]: Done 500 out of 500 | elapsed:    0.6s finished\n"
     ]
    },
    {
     "name": "stdout",
     "output_type": "stream",
     "text": [
      "friends -> Accuracy: 0.952 (0.213)\n",
      "Precision Score: 1.000\n",
      "recall Score: 1.000\n",
      "Fitting 5 folds for each of 100 candidates, totalling 500 fits\n"
     ]
    },
    {
     "name": "stderr",
     "output_type": "stream",
     "text": [
      "[Parallel(n_jobs=-1)]: Using backend LokyBackend with 8 concurrent workers.\n",
      "[Parallel(n_jobs=-1)]: Done  17 tasks      | elapsed:    0.0s\n",
      "[Parallel(n_jobs=-1)]: Done 500 out of 500 | elapsed:    0.7s finished\n"
     ]
    },
    {
     "name": "stdout",
     "output_type": "stream",
     "text": [
      "truth -> Accuracy: 0.952 (0.213)\n",
      "Precision Score: 1.000\n",
      "recall Score: 1.000\n",
      "Fitting 5 folds for each of 100 candidates, totalling 500 fits\n"
     ]
    },
    {
     "name": "stderr",
     "output_type": "stream",
     "text": [
      "[Parallel(n_jobs=-1)]: Using backend LokyBackend with 8 concurrent workers.\n",
      "[Parallel(n_jobs=-1)]: Done  17 tasks      | elapsed:    0.0s\n",
      "[Parallel(n_jobs=-1)]: Done 500 out of 500 | elapsed:    0.6s finished\n"
     ]
    },
    {
     "name": "stdout",
     "output_type": "stream",
     "text": [
      "attributed-no-source -> Accuracy: 0.964 (0.186)\n",
      "Precision Score: 1.000\n",
      "recall Score: 1.000\n",
      "Fitting 5 folds for each of 100 candidates, totalling 500 fits\n"
     ]
    },
    {
     "name": "stderr",
     "output_type": "stream",
     "text": [
      "[Parallel(n_jobs=-1)]: Using backend LokyBackend with 8 concurrent workers.\n",
      "[Parallel(n_jobs=-1)]: Done  16 tasks      | elapsed:    0.0s\n",
      "[Parallel(n_jobs=-1)]: Done 500 out of 500 | elapsed:    0.6s finished\n"
     ]
    },
    {
     "name": "stdout",
     "output_type": "stream",
     "text": [
      "death -> Accuracy: 0.964 (0.186)\n",
      "Precision Score: 1.000\n",
      "recall Score: 1.000\n",
      "Fitting 5 folds for each of 100 candidates, totalling 500 fits\n"
     ]
    },
    {
     "name": "stderr",
     "output_type": "stream",
     "text": [
      "[Parallel(n_jobs=-1)]: Using backend LokyBackend with 8 concurrent workers.\n",
      "[Parallel(n_jobs=-1)]: Done  17 tasks      | elapsed:    0.0s\n",
      "[Parallel(n_jobs=-1)]: Done 500 out of 500 | elapsed:    0.6s finished\n"
     ]
    },
    {
     "name": "stdout",
     "output_type": "stream",
     "text": [
      "simile -> Accuracy: 0.976 (0.152)\n",
      "Precision Score: 1.000\n",
      "recall Score: 1.000\n",
      "Fitting 5 folds for each of 100 candidates, totalling 500 fits\n"
     ]
    },
    {
     "name": "stderr",
     "output_type": "stream",
     "text": [
      "[Parallel(n_jobs=-1)]: Using backend LokyBackend with 8 concurrent workers.\n",
      "[Parallel(n_jobs=-1)]: Done  16 tasks      | elapsed:    0.0s\n",
      "[Parallel(n_jobs=-1)]: Done 500 out of 500 | elapsed:    0.7s finished\n"
     ]
    },
    {
     "name": "stdout",
     "output_type": "stream",
     "text": [
      "writing -> Accuracy: 0.964 (0.186)\n",
      "Precision Score: 1.000\n",
      "recall Score: 1.000\n",
      "Fitting 5 folds for each of 100 candidates, totalling 500 fits\n"
     ]
    },
    {
     "name": "stderr",
     "output_type": "stream",
     "text": [
      "[Parallel(n_jobs=-1)]: Using backend LokyBackend with 8 concurrent workers.\n",
      "[Parallel(n_jobs=-1)]: Done  16 tasks      | elapsed:    0.0s\n",
      "[Parallel(n_jobs=-1)]: Done 500 out of 500 | elapsed:    0.7s finished\n"
     ]
    },
    {
     "name": "stdout",
     "output_type": "stream",
     "text": [
      "children -> Accuracy: 0.976 (0.152)\n",
      "Precision Score: 1.000\n",
      "recall Score: 1.000\n",
      "Fitting 5 folds for each of 100 candidates, totalling 500 fits\n"
     ]
    },
    {
     "name": "stderr",
     "output_type": "stream",
     "text": [
      "[Parallel(n_jobs=-1)]: Using backend LokyBackend with 8 concurrent workers.\n",
      "[Parallel(n_jobs=-1)]: Done  17 tasks      | elapsed:    0.0s\n",
      "[Parallel(n_jobs=-1)]: Done 500 out of 500 | elapsed:    0.7s finished\n"
     ]
    },
    {
     "name": "stdout",
     "output_type": "stream",
     "text": [
      "classic -> Accuracy: 0.976 (0.152)\n",
      "Precision Score: 1.000\n",
      "recall Score: 1.000\n"
     ]
    }
   ],
   "source": [
    "# เรียกใช้ฟังก์ชั่น create_model\n",
    "accuracy_list,precision_list,recall_list = create_model(lg, params, False)"
   ]
  },
  {
   "cell_type": "code",
   "execution_count": 67,
   "metadata": {},
   "outputs": [
    {
     "data": {
      "text/html": [
       "<style  type=\"text/css\" >\n",
       "#T_2fd049c6_3d19_11eb_a8cb_0433c2baf4a9row15_col0,#T_2fd049c6_3d19_11eb_a8cb_0433c2baf4a9row15_col1,#T_2fd049c6_3d19_11eb_a8cb_0433c2baf4a9row15_col2,#T_2fd049c6_3d19_11eb_a8cb_0433c2baf4a9row15_col3{\n",
       "            background-color:  yellow;\n",
       "        }</style><table id=\"T_2fd049c6_3d19_11eb_a8cb_0433c2baf4a9\" ><thead>    <tr>        <th class=\"blank level0\" ></th>        <th class=\"col_heading level0 col0\" >Tags</th>        <th class=\"col_heading level0 col1\" >Accuracy</th>        <th class=\"col_heading level0 col2\" >Precision</th>        <th class=\"col_heading level0 col3\" >Recall</th>    </tr></thead><tbody>\n",
       "                <tr>\n",
       "                        <th id=\"T_2fd049c6_3d19_11eb_a8cb_0433c2baf4a9level0_row0\" class=\"row_heading level0 row0\" >0</th>\n",
       "                        <td id=\"T_2fd049c6_3d19_11eb_a8cb_0433c2baf4a9row0_col0\" class=\"data row0 col0\" >reading</td>\n",
       "                        <td id=\"T_2fd049c6_3d19_11eb_a8cb_0433c2baf4a9row0_col1\" class=\"data row0 col1\" >0.916667</td>\n",
       "                        <td id=\"T_2fd049c6_3d19_11eb_a8cb_0433c2baf4a9row0_col2\" class=\"data row0 col2\" >1.000000</td>\n",
       "                        <td id=\"T_2fd049c6_3d19_11eb_a8cb_0433c2baf4a9row0_col3\" class=\"data row0 col3\" >1.000000</td>\n",
       "            </tr>\n",
       "            <tr>\n",
       "                        <th id=\"T_2fd049c6_3d19_11eb_a8cb_0433c2baf4a9level0_row1\" class=\"row_heading level0 row1\" >1</th>\n",
       "                        <td id=\"T_2fd049c6_3d19_11eb_a8cb_0433c2baf4a9row1_col0\" class=\"data row1 col0\" >friends</td>\n",
       "                        <td id=\"T_2fd049c6_3d19_11eb_a8cb_0433c2baf4a9row1_col1\" class=\"data row1 col1\" >0.952381</td>\n",
       "                        <td id=\"T_2fd049c6_3d19_11eb_a8cb_0433c2baf4a9row1_col2\" class=\"data row1 col2\" >1.000000</td>\n",
       "                        <td id=\"T_2fd049c6_3d19_11eb_a8cb_0433c2baf4a9row1_col3\" class=\"data row1 col3\" >1.000000</td>\n",
       "            </tr>\n",
       "            <tr>\n",
       "                        <th id=\"T_2fd049c6_3d19_11eb_a8cb_0433c2baf4a9level0_row2\" class=\"row_heading level0 row2\" >2</th>\n",
       "                        <td id=\"T_2fd049c6_3d19_11eb_a8cb_0433c2baf4a9row2_col0\" class=\"data row2 col0\" >truth</td>\n",
       "                        <td id=\"T_2fd049c6_3d19_11eb_a8cb_0433c2baf4a9row2_col1\" class=\"data row2 col1\" >0.952381</td>\n",
       "                        <td id=\"T_2fd049c6_3d19_11eb_a8cb_0433c2baf4a9row2_col2\" class=\"data row2 col2\" >1.000000</td>\n",
       "                        <td id=\"T_2fd049c6_3d19_11eb_a8cb_0433c2baf4a9row2_col3\" class=\"data row2 col3\" >1.000000</td>\n",
       "            </tr>\n",
       "            <tr>\n",
       "                        <th id=\"T_2fd049c6_3d19_11eb_a8cb_0433c2baf4a9level0_row3\" class=\"row_heading level0 row3\" >3</th>\n",
       "                        <td id=\"T_2fd049c6_3d19_11eb_a8cb_0433c2baf4a9row3_col0\" class=\"data row3 col0\" >attributed-no-source</td>\n",
       "                        <td id=\"T_2fd049c6_3d19_11eb_a8cb_0433c2baf4a9row3_col1\" class=\"data row3 col1\" >0.964286</td>\n",
       "                        <td id=\"T_2fd049c6_3d19_11eb_a8cb_0433c2baf4a9row3_col2\" class=\"data row3 col2\" >1.000000</td>\n",
       "                        <td id=\"T_2fd049c6_3d19_11eb_a8cb_0433c2baf4a9row3_col3\" class=\"data row3 col3\" >1.000000</td>\n",
       "            </tr>\n",
       "            <tr>\n",
       "                        <th id=\"T_2fd049c6_3d19_11eb_a8cb_0433c2baf4a9level0_row4\" class=\"row_heading level0 row4\" >4</th>\n",
       "                        <td id=\"T_2fd049c6_3d19_11eb_a8cb_0433c2baf4a9row4_col0\" class=\"data row4 col0\" >death</td>\n",
       "                        <td id=\"T_2fd049c6_3d19_11eb_a8cb_0433c2baf4a9row4_col1\" class=\"data row4 col1\" >0.964286</td>\n",
       "                        <td id=\"T_2fd049c6_3d19_11eb_a8cb_0433c2baf4a9row4_col2\" class=\"data row4 col2\" >1.000000</td>\n",
       "                        <td id=\"T_2fd049c6_3d19_11eb_a8cb_0433c2baf4a9row4_col3\" class=\"data row4 col3\" >1.000000</td>\n",
       "            </tr>\n",
       "            <tr>\n",
       "                        <th id=\"T_2fd049c6_3d19_11eb_a8cb_0433c2baf4a9level0_row5\" class=\"row_heading level0 row5\" >5</th>\n",
       "                        <td id=\"T_2fd049c6_3d19_11eb_a8cb_0433c2baf4a9row5_col0\" class=\"data row5 col0\" >simile</td>\n",
       "                        <td id=\"T_2fd049c6_3d19_11eb_a8cb_0433c2baf4a9row5_col1\" class=\"data row5 col1\" >0.976190</td>\n",
       "                        <td id=\"T_2fd049c6_3d19_11eb_a8cb_0433c2baf4a9row5_col2\" class=\"data row5 col2\" >1.000000</td>\n",
       "                        <td id=\"T_2fd049c6_3d19_11eb_a8cb_0433c2baf4a9row5_col3\" class=\"data row5 col3\" >1.000000</td>\n",
       "            </tr>\n",
       "            <tr>\n",
       "                        <th id=\"T_2fd049c6_3d19_11eb_a8cb_0433c2baf4a9level0_row6\" class=\"row_heading level0 row6\" >6</th>\n",
       "                        <td id=\"T_2fd049c6_3d19_11eb_a8cb_0433c2baf4a9row6_col0\" class=\"data row6 col0\" >writing</td>\n",
       "                        <td id=\"T_2fd049c6_3d19_11eb_a8cb_0433c2baf4a9row6_col1\" class=\"data row6 col1\" >0.964286</td>\n",
       "                        <td id=\"T_2fd049c6_3d19_11eb_a8cb_0433c2baf4a9row6_col2\" class=\"data row6 col2\" >1.000000</td>\n",
       "                        <td id=\"T_2fd049c6_3d19_11eb_a8cb_0433c2baf4a9row6_col3\" class=\"data row6 col3\" >1.000000</td>\n",
       "            </tr>\n",
       "            <tr>\n",
       "                        <th id=\"T_2fd049c6_3d19_11eb_a8cb_0433c2baf4a9level0_row7\" class=\"row_heading level0 row7\" >7</th>\n",
       "                        <td id=\"T_2fd049c6_3d19_11eb_a8cb_0433c2baf4a9row7_col0\" class=\"data row7 col0\" >children</td>\n",
       "                        <td id=\"T_2fd049c6_3d19_11eb_a8cb_0433c2baf4a9row7_col1\" class=\"data row7 col1\" >0.976190</td>\n",
       "                        <td id=\"T_2fd049c6_3d19_11eb_a8cb_0433c2baf4a9row7_col2\" class=\"data row7 col2\" >1.000000</td>\n",
       "                        <td id=\"T_2fd049c6_3d19_11eb_a8cb_0433c2baf4a9row7_col3\" class=\"data row7 col3\" >1.000000</td>\n",
       "            </tr>\n",
       "            <tr>\n",
       "                        <th id=\"T_2fd049c6_3d19_11eb_a8cb_0433c2baf4a9level0_row8\" class=\"row_heading level0 row8\" >8</th>\n",
       "                        <td id=\"T_2fd049c6_3d19_11eb_a8cb_0433c2baf4a9row8_col0\" class=\"data row8 col0\" >classic</td>\n",
       "                        <td id=\"T_2fd049c6_3d19_11eb_a8cb_0433c2baf4a9row8_col1\" class=\"data row8 col1\" >0.976190</td>\n",
       "                        <td id=\"T_2fd049c6_3d19_11eb_a8cb_0433c2baf4a9row8_col2\" class=\"data row8 col2\" >1.000000</td>\n",
       "                        <td id=\"T_2fd049c6_3d19_11eb_a8cb_0433c2baf4a9row8_col3\" class=\"data row8 col3\" >1.000000</td>\n",
       "            </tr>\n",
       "            <tr>\n",
       "                        <th id=\"T_2fd049c6_3d19_11eb_a8cb_0433c2baf4a9level0_row9\" class=\"row_heading level0 row9\" >9</th>\n",
       "                        <td id=\"T_2fd049c6_3d19_11eb_a8cb_0433c2baf4a9row9_col0\" class=\"data row9 col0\" >life</td>\n",
       "                        <td id=\"T_2fd049c6_3d19_11eb_a8cb_0433c2baf4a9row9_col1\" class=\"data row9 col1\" >0.869048</td>\n",
       "                        <td id=\"T_2fd049c6_3d19_11eb_a8cb_0433c2baf4a9row9_col2\" class=\"data row9 col2\" >0.450000</td>\n",
       "                        <td id=\"T_2fd049c6_3d19_11eb_a8cb_0433c2baf4a9row9_col3\" class=\"data row9 col3\" >0.500000</td>\n",
       "            </tr>\n",
       "            <tr>\n",
       "                        <th id=\"T_2fd049c6_3d19_11eb_a8cb_0433c2baf4a9level0_row10\" class=\"row_heading level0 row10\" >10</th>\n",
       "                        <td id=\"T_2fd049c6_3d19_11eb_a8cb_0433c2baf4a9row10_col0\" class=\"data row10 col0\" >humor</td>\n",
       "                        <td id=\"T_2fd049c6_3d19_11eb_a8cb_0433c2baf4a9row10_col1\" class=\"data row10 col1\" >0.880952</td>\n",
       "                        <td id=\"T_2fd049c6_3d19_11eb_a8cb_0433c2baf4a9row10_col2\" class=\"data row10 col2\" >0.450000</td>\n",
       "                        <td id=\"T_2fd049c6_3d19_11eb_a8cb_0433c2baf4a9row10_col3\" class=\"data row10 col3\" >0.500000</td>\n",
       "            </tr>\n",
       "            <tr>\n",
       "                        <th id=\"T_2fd049c6_3d19_11eb_a8cb_0433c2baf4a9level0_row11\" class=\"row_heading level0 row11\" >11</th>\n",
       "                        <td id=\"T_2fd049c6_3d19_11eb_a8cb_0433c2baf4a9row11_col0\" class=\"data row11 col0\" >friendship</td>\n",
       "                        <td id=\"T_2fd049c6_3d19_11eb_a8cb_0433c2baf4a9row11_col1\" class=\"data row11 col1\" >0.952381</td>\n",
       "                        <td id=\"T_2fd049c6_3d19_11eb_a8cb_0433c2baf4a9row11_col2\" class=\"data row11 col2\" >0.450000</td>\n",
       "                        <td id=\"T_2fd049c6_3d19_11eb_a8cb_0433c2baf4a9row11_col3\" class=\"data row11 col3\" >0.500000</td>\n",
       "            </tr>\n",
       "            <tr>\n",
       "                        <th id=\"T_2fd049c6_3d19_11eb_a8cb_0433c2baf4a9level0_row12\" class=\"row_heading level0 row12\" >12</th>\n",
       "                        <td id=\"T_2fd049c6_3d19_11eb_a8cb_0433c2baf4a9row12_col0\" class=\"data row12 col0\" >love</td>\n",
       "                        <td id=\"T_2fd049c6_3d19_11eb_a8cb_0433c2baf4a9row12_col1\" class=\"data row12 col1\" >0.880952</td>\n",
       "                        <td id=\"T_2fd049c6_3d19_11eb_a8cb_0433c2baf4a9row12_col2\" class=\"data row12 col2\" >0.400000</td>\n",
       "                        <td id=\"T_2fd049c6_3d19_11eb_a8cb_0433c2baf4a9row12_col3\" class=\"data row12 col3\" >0.500000</td>\n",
       "            </tr>\n",
       "            <tr>\n",
       "                        <th id=\"T_2fd049c6_3d19_11eb_a8cb_0433c2baf4a9level0_row13\" class=\"row_heading level0 row13\" >13</th>\n",
       "                        <td id=\"T_2fd049c6_3d19_11eb_a8cb_0433c2baf4a9row13_col0\" class=\"data row13 col0\" >inspirational</td>\n",
       "                        <td id=\"T_2fd049c6_3d19_11eb_a8cb_0433c2baf4a9row13_col1\" class=\"data row13 col1\" >0.869048</td>\n",
       "                        <td id=\"T_2fd049c6_3d19_11eb_a8cb_0433c2baf4a9row13_col2\" class=\"data row13 col2\" >0.400000</td>\n",
       "                        <td id=\"T_2fd049c6_3d19_11eb_a8cb_0433c2baf4a9row13_col3\" class=\"data row13 col3\" >0.500000</td>\n",
       "            </tr>\n",
       "            <tr>\n",
       "                        <th id=\"T_2fd049c6_3d19_11eb_a8cb_0433c2baf4a9level0_row14\" class=\"row_heading level0 row14\" >14</th>\n",
       "                        <td id=\"T_2fd049c6_3d19_11eb_a8cb_0433c2baf4a9row14_col0\" class=\"data row14 col0\" >books</td>\n",
       "                        <td id=\"T_2fd049c6_3d19_11eb_a8cb_0433c2baf4a9row14_col1\" class=\"data row14 col1\" >0.892857</td>\n",
       "                        <td id=\"T_2fd049c6_3d19_11eb_a8cb_0433c2baf4a9row14_col2\" class=\"data row14 col2\" >0.400000</td>\n",
       "                        <td id=\"T_2fd049c6_3d19_11eb_a8cb_0433c2baf4a9row14_col3\" class=\"data row14 col3\" >0.500000</td>\n",
       "            </tr>\n",
       "            <tr>\n",
       "                        <th id=\"T_2fd049c6_3d19_11eb_a8cb_0433c2baf4a9level0_row15\" class=\"row_heading level0 row15\" >15</th>\n",
       "                        <td id=\"T_2fd049c6_3d19_11eb_a8cb_0433c2baf4a9row15_col0\" class=\"data row15 col0\" >Average</td>\n",
       "                        <td id=\"T_2fd049c6_3d19_11eb_a8cb_0433c2baf4a9row15_col1\" class=\"data row15 col1\" >0.932540</td>\n",
       "                        <td id=\"T_2fd049c6_3d19_11eb_a8cb_0433c2baf4a9row15_col2\" class=\"data row15 col2\" >0.770000</td>\n",
       "                        <td id=\"T_2fd049c6_3d19_11eb_a8cb_0433c2baf4a9row15_col3\" class=\"data row15 col3\" >0.800000</td>\n",
       "            </tr>\n",
       "    </tbody></table>"
      ],
      "text/plain": [
       "<pandas.io.formats.style.Styler at 0x1590822edc0>"
      ]
     },
     "execution_count": 67,
     "metadata": {},
     "output_type": "execute_result"
    }
   ],
   "source": [
    "# เรียกใช้ฟังก์ชั่น evaluation_table เพื่อแสดงตารางเปรียบเทียบ\n",
    "evaluation_table(accuracy_list, precision_list, recall_list)"
   ]
  },
  {
   "cell_type": "markdown",
   "metadata": {},
   "source": [
    "### Logistic Regression Tunning parameter แบบ weight"
   ]
  },
  {
   "cell_type": "code",
   "execution_count": 70,
   "metadata": {},
   "outputs": [],
   "source": [
    "lg= LogisticRegression()  # สร้าง Logistic Regression classifier\n",
    "\n",
    "#ทำการกำหนด parameter ที่จะเอาไปวิเคราะห์ โดยค่าที่กำหนดไว้คือ parameter ของ Logistic Regression\n",
    "params = {\"C\":np.logspace(-4, 4, 50), \n",
    "          \"penalty\":[\"l1\",\"l2\"]  # l1 lasso l2 ridge\n",
    "         }"
   ]
  },
  {
   "cell_type": "code",
   "execution_count": 71,
   "metadata": {},
   "outputs": [
    {
     "name": "stdout",
     "output_type": "stream",
     "text": [
      "Fitting 5 folds for each of 100 candidates, totalling 500 fits\n"
     ]
    },
    {
     "name": "stderr",
     "output_type": "stream",
     "text": [
      "[Parallel(n_jobs=-1)]: Using backend LokyBackend with 8 concurrent workers.\n",
      "[Parallel(n_jobs=-1)]: Done  17 tasks      | elapsed:    0.0s\n",
      "[Parallel(n_jobs=-1)]: Done 500 out of 500 | elapsed:    0.8s finished\n"
     ]
    },
    {
     "name": "stdout",
     "output_type": "stream",
     "text": [
      "love -> Accuracy: 0.857 (0.350)\n",
      "Precision Score: 0.450\n",
      "recall Score: 0.500\n",
      "Fitting 5 folds for each of 100 candidates, totalling 500 fits\n"
     ]
    },
    {
     "name": "stderr",
     "output_type": "stream",
     "text": [
      "[Parallel(n_jobs=-1)]: Using backend LokyBackend with 8 concurrent workers.\n",
      "[Parallel(n_jobs=-1)]: Done  17 tasks      | elapsed:    0.0s\n",
      "[Parallel(n_jobs=-1)]: Done 500 out of 500 | elapsed:    1.3s finished\n"
     ]
    },
    {
     "name": "stdout",
     "output_type": "stream",
     "text": [
      "inspirational -> Accuracy: 0.869 (0.337)\n",
      "Precision Score: 0.400\n",
      "recall Score: 0.500\n",
      "Fitting 5 folds for each of 100 candidates, totalling 500 fits\n"
     ]
    },
    {
     "name": "stderr",
     "output_type": "stream",
     "text": [
      "[Parallel(n_jobs=-1)]: Using backend LokyBackend with 8 concurrent workers.\n",
      "[Parallel(n_jobs=-1)]: Done  18 tasks      | elapsed:    0.0s\n",
      "[Parallel(n_jobs=-1)]: Done 500 out of 500 | elapsed:    1.0s finished\n"
     ]
    },
    {
     "name": "stdout",
     "output_type": "stream",
     "text": [
      "life -> Accuracy: 0.857 (0.350)\n",
      "Precision Score: 1.000\n",
      "recall Score: 1.000\n",
      "Fitting 5 folds for each of 100 candidates, totalling 500 fits\n"
     ]
    },
    {
     "name": "stderr",
     "output_type": "stream",
     "text": [
      "[Parallel(n_jobs=-1)]: Using backend LokyBackend with 8 concurrent workers.\n",
      "[Parallel(n_jobs=-1)]: Done  17 tasks      | elapsed:    0.0s\n",
      "[Parallel(n_jobs=-1)]: Done 500 out of 500 | elapsed:    0.9s finished\n"
     ]
    },
    {
     "name": "stdout",
     "output_type": "stream",
     "text": [
      "humor -> Accuracy: 0.869 (0.337)\n",
      "Precision Score: 1.000\n",
      "recall Score: 1.000\n",
      "Fitting 5 folds for each of 100 candidates, totalling 500 fits\n"
     ]
    },
    {
     "name": "stderr",
     "output_type": "stream",
     "text": [
      "[Parallel(n_jobs=-1)]: Using backend LokyBackend with 8 concurrent workers.\n",
      "[Parallel(n_jobs=-1)]: Done  17 tasks      | elapsed:    0.0s\n",
      "[Parallel(n_jobs=-1)]: Done 500 out of 500 | elapsed:    0.9s finished\n"
     ]
    },
    {
     "name": "stdout",
     "output_type": "stream",
     "text": [
      "books -> Accuracy: 0.881 (0.324)\n",
      "Precision Score: 0.450\n",
      "recall Score: 0.500\n",
      "Fitting 5 folds for each of 100 candidates, totalling 500 fits\n"
     ]
    },
    {
     "name": "stderr",
     "output_type": "stream",
     "text": [
      "[Parallel(n_jobs=-1)]: Using backend LokyBackend with 8 concurrent workers.\n",
      "[Parallel(n_jobs=-1)]: Done  17 tasks      | elapsed:    0.0s\n",
      "[Parallel(n_jobs=-1)]: Done 500 out of 500 | elapsed:    1.2s finished\n"
     ]
    },
    {
     "name": "stdout",
     "output_type": "stream",
     "text": [
      "reading -> Accuracy: 0.929 (0.258)\n",
      "Precision Score: 0.450\n",
      "recall Score: 0.500\n",
      "Fitting 5 folds for each of 100 candidates, totalling 500 fits\n"
     ]
    },
    {
     "name": "stderr",
     "output_type": "stream",
     "text": [
      "[Parallel(n_jobs=-1)]: Using backend LokyBackend with 8 concurrent workers.\n",
      "[Parallel(n_jobs=-1)]: Done  17 tasks      | elapsed:    0.0s\n",
      "[Parallel(n_jobs=-1)]: Done 500 out of 500 | elapsed:    1.1s finished\n"
     ]
    },
    {
     "name": "stdout",
     "output_type": "stream",
     "text": [
      "friendship -> Accuracy: 0.964 (0.186)\n",
      "Precision Score: 0.400\n",
      "recall Score: 0.500\n",
      "Fitting 5 folds for each of 100 candidates, totalling 500 fits\n"
     ]
    },
    {
     "name": "stderr",
     "output_type": "stream",
     "text": [
      "[Parallel(n_jobs=-1)]: Using backend LokyBackend with 8 concurrent workers.\n",
      "[Parallel(n_jobs=-1)]: Done  18 tasks      | elapsed:    0.0s\n",
      "[Parallel(n_jobs=-1)]: Done 500 out of 500 | elapsed:    1.3s finished\n"
     ]
    },
    {
     "name": "stdout",
     "output_type": "stream",
     "text": [
      "friends -> Accuracy: 0.964 (0.186)\n",
      "Precision Score: 0.450\n",
      "recall Score: 0.500\n",
      "Fitting 5 folds for each of 100 candidates, totalling 500 fits\n"
     ]
    },
    {
     "name": "stderr",
     "output_type": "stream",
     "text": [
      "[Parallel(n_jobs=-1)]: Using backend LokyBackend with 8 concurrent workers.\n",
      "[Parallel(n_jobs=-1)]: Done  17 tasks      | elapsed:    0.0s\n",
      "[Parallel(n_jobs=-1)]: Done 500 out of 500 | elapsed:    1.0s finished\n"
     ]
    },
    {
     "name": "stdout",
     "output_type": "stream",
     "text": [
      "truth -> Accuracy: 0.964 (0.186)\n",
      "Precision Score: 0.450\n",
      "recall Score: 0.500\n",
      "Fitting 5 folds for each of 100 candidates, totalling 500 fits\n"
     ]
    },
    {
     "name": "stderr",
     "output_type": "stream",
     "text": [
      "[Parallel(n_jobs=-1)]: Using backend LokyBackend with 8 concurrent workers.\n",
      "[Parallel(n_jobs=-1)]: Done  17 tasks      | elapsed:    0.0s\n",
      "[Parallel(n_jobs=-1)]: Done 500 out of 500 | elapsed:    0.9s finished\n"
     ]
    },
    {
     "name": "stdout",
     "output_type": "stream",
     "text": [
      "attributed-no-source -> Accuracy: 0.964 (0.186)\n",
      "Precision Score: 1.000\n",
      "recall Score: 1.000\n",
      "Fitting 5 folds for each of 100 candidates, totalling 500 fits\n"
     ]
    },
    {
     "name": "stderr",
     "output_type": "stream",
     "text": [
      "[Parallel(n_jobs=-1)]: Using backend LokyBackend with 8 concurrent workers.\n",
      "[Parallel(n_jobs=-1)]: Done  17 tasks      | elapsed:    0.0s\n",
      "[Parallel(n_jobs=-1)]: Done 500 out of 500 | elapsed:    0.9s finished\n"
     ]
    },
    {
     "name": "stdout",
     "output_type": "stream",
     "text": [
      "death -> Accuracy: 0.964 (0.186)\n",
      "Precision Score: 1.000\n",
      "recall Score: 1.000\n",
      "Fitting 5 folds for each of 100 candidates, totalling 500 fits\n"
     ]
    },
    {
     "name": "stderr",
     "output_type": "stream",
     "text": [
      "[Parallel(n_jobs=-1)]: Using backend LokyBackend with 8 concurrent workers.\n",
      "[Parallel(n_jobs=-1)]: Done  17 tasks      | elapsed:    0.0s\n",
      "[Parallel(n_jobs=-1)]: Done 500 out of 500 | elapsed:    0.9s finished\n"
     ]
    },
    {
     "name": "stdout",
     "output_type": "stream",
     "text": [
      "simile -> Accuracy: 0.976 (0.152)\n",
      "Precision Score: 1.000\n",
      "recall Score: 1.000\n",
      "Fitting 5 folds for each of 100 candidates, totalling 500 fits\n"
     ]
    },
    {
     "name": "stderr",
     "output_type": "stream",
     "text": [
      "[Parallel(n_jobs=-1)]: Using backend LokyBackend with 8 concurrent workers.\n",
      "[Parallel(n_jobs=-1)]: Done  17 tasks      | elapsed:    0.0s\n",
      "[Parallel(n_jobs=-1)]: Done 500 out of 500 | elapsed:    1.0s finished\n"
     ]
    },
    {
     "name": "stdout",
     "output_type": "stream",
     "text": [
      "writing -> Accuracy: 0.964 (0.186)\n",
      "Precision Score: 1.000\n",
      "recall Score: 1.000\n",
      "Fitting 5 folds for each of 100 candidates, totalling 500 fits\n"
     ]
    },
    {
     "name": "stderr",
     "output_type": "stream",
     "text": [
      "[Parallel(n_jobs=-1)]: Using backend LokyBackend with 8 concurrent workers.\n",
      "[Parallel(n_jobs=-1)]: Done  17 tasks      | elapsed:    0.0s\n",
      "[Parallel(n_jobs=-1)]: Done 500 out of 500 | elapsed:    1.0s finished\n"
     ]
    },
    {
     "name": "stdout",
     "output_type": "stream",
     "text": [
      "children -> Accuracy: 0.976 (0.152)\n",
      "Precision Score: 1.000\n",
      "recall Score: 1.000\n",
      "Fitting 5 folds for each of 100 candidates, totalling 500 fits\n"
     ]
    },
    {
     "name": "stderr",
     "output_type": "stream",
     "text": [
      "[Parallel(n_jobs=-1)]: Using backend LokyBackend with 8 concurrent workers.\n",
      "[Parallel(n_jobs=-1)]: Done  17 tasks      | elapsed:    0.0s\n",
      "[Parallel(n_jobs=-1)]: Done 500 out of 500 | elapsed:    1.1s finished\n"
     ]
    },
    {
     "name": "stdout",
     "output_type": "stream",
     "text": [
      "classic -> Accuracy: 0.976 (0.152)\n",
      "Precision Score: 1.000\n",
      "recall Score: 1.000\n"
     ]
    }
   ],
   "source": [
    "# เรียกใช้ฟังก์ชั่น create_model\n",
    "accuracy_list,precision_list,recall_list = create_model(lg, params, True)"
   ]
  },
  {
   "cell_type": "code",
   "execution_count": 72,
   "metadata": {
    "scrolled": true
   },
   "outputs": [
    {
     "data": {
      "text/html": [
       "<style  type=\"text/css\" >\n",
       "#T_59023528_3d19_11eb_9d0c_0433c2baf4a9row15_col0,#T_59023528_3d19_11eb_9d0c_0433c2baf4a9row15_col1,#T_59023528_3d19_11eb_9d0c_0433c2baf4a9row15_col2,#T_59023528_3d19_11eb_9d0c_0433c2baf4a9row15_col3{\n",
       "            background-color:  yellow;\n",
       "        }</style><table id=\"T_59023528_3d19_11eb_9d0c_0433c2baf4a9\" ><thead>    <tr>        <th class=\"blank level0\" ></th>        <th class=\"col_heading level0 col0\" >Tags</th>        <th class=\"col_heading level0 col1\" >Accuracy</th>        <th class=\"col_heading level0 col2\" >Precision</th>        <th class=\"col_heading level0 col3\" >Recall</th>    </tr></thead><tbody>\n",
       "                <tr>\n",
       "                        <th id=\"T_59023528_3d19_11eb_9d0c_0433c2baf4a9level0_row0\" class=\"row_heading level0 row0\" >0</th>\n",
       "                        <td id=\"T_59023528_3d19_11eb_9d0c_0433c2baf4a9row0_col0\" class=\"data row0 col0\" >life</td>\n",
       "                        <td id=\"T_59023528_3d19_11eb_9d0c_0433c2baf4a9row0_col1\" class=\"data row0 col1\" >0.857143</td>\n",
       "                        <td id=\"T_59023528_3d19_11eb_9d0c_0433c2baf4a9row0_col2\" class=\"data row0 col2\" >1.000000</td>\n",
       "                        <td id=\"T_59023528_3d19_11eb_9d0c_0433c2baf4a9row0_col3\" class=\"data row0 col3\" >1.000000</td>\n",
       "            </tr>\n",
       "            <tr>\n",
       "                        <th id=\"T_59023528_3d19_11eb_9d0c_0433c2baf4a9level0_row1\" class=\"row_heading level0 row1\" >1</th>\n",
       "                        <td id=\"T_59023528_3d19_11eb_9d0c_0433c2baf4a9row1_col0\" class=\"data row1 col0\" >humor</td>\n",
       "                        <td id=\"T_59023528_3d19_11eb_9d0c_0433c2baf4a9row1_col1\" class=\"data row1 col1\" >0.869048</td>\n",
       "                        <td id=\"T_59023528_3d19_11eb_9d0c_0433c2baf4a9row1_col2\" class=\"data row1 col2\" >1.000000</td>\n",
       "                        <td id=\"T_59023528_3d19_11eb_9d0c_0433c2baf4a9row1_col3\" class=\"data row1 col3\" >1.000000</td>\n",
       "            </tr>\n",
       "            <tr>\n",
       "                        <th id=\"T_59023528_3d19_11eb_9d0c_0433c2baf4a9level0_row2\" class=\"row_heading level0 row2\" >2</th>\n",
       "                        <td id=\"T_59023528_3d19_11eb_9d0c_0433c2baf4a9row2_col0\" class=\"data row2 col0\" >attributed-no-source</td>\n",
       "                        <td id=\"T_59023528_3d19_11eb_9d0c_0433c2baf4a9row2_col1\" class=\"data row2 col1\" >0.964286</td>\n",
       "                        <td id=\"T_59023528_3d19_11eb_9d0c_0433c2baf4a9row2_col2\" class=\"data row2 col2\" >1.000000</td>\n",
       "                        <td id=\"T_59023528_3d19_11eb_9d0c_0433c2baf4a9row2_col3\" class=\"data row2 col3\" >1.000000</td>\n",
       "            </tr>\n",
       "            <tr>\n",
       "                        <th id=\"T_59023528_3d19_11eb_9d0c_0433c2baf4a9level0_row3\" class=\"row_heading level0 row3\" >3</th>\n",
       "                        <td id=\"T_59023528_3d19_11eb_9d0c_0433c2baf4a9row3_col0\" class=\"data row3 col0\" >death</td>\n",
       "                        <td id=\"T_59023528_3d19_11eb_9d0c_0433c2baf4a9row3_col1\" class=\"data row3 col1\" >0.964286</td>\n",
       "                        <td id=\"T_59023528_3d19_11eb_9d0c_0433c2baf4a9row3_col2\" class=\"data row3 col2\" >1.000000</td>\n",
       "                        <td id=\"T_59023528_3d19_11eb_9d0c_0433c2baf4a9row3_col3\" class=\"data row3 col3\" >1.000000</td>\n",
       "            </tr>\n",
       "            <tr>\n",
       "                        <th id=\"T_59023528_3d19_11eb_9d0c_0433c2baf4a9level0_row4\" class=\"row_heading level0 row4\" >4</th>\n",
       "                        <td id=\"T_59023528_3d19_11eb_9d0c_0433c2baf4a9row4_col0\" class=\"data row4 col0\" >simile</td>\n",
       "                        <td id=\"T_59023528_3d19_11eb_9d0c_0433c2baf4a9row4_col1\" class=\"data row4 col1\" >0.976190</td>\n",
       "                        <td id=\"T_59023528_3d19_11eb_9d0c_0433c2baf4a9row4_col2\" class=\"data row4 col2\" >1.000000</td>\n",
       "                        <td id=\"T_59023528_3d19_11eb_9d0c_0433c2baf4a9row4_col3\" class=\"data row4 col3\" >1.000000</td>\n",
       "            </tr>\n",
       "            <tr>\n",
       "                        <th id=\"T_59023528_3d19_11eb_9d0c_0433c2baf4a9level0_row5\" class=\"row_heading level0 row5\" >5</th>\n",
       "                        <td id=\"T_59023528_3d19_11eb_9d0c_0433c2baf4a9row5_col0\" class=\"data row5 col0\" >writing</td>\n",
       "                        <td id=\"T_59023528_3d19_11eb_9d0c_0433c2baf4a9row5_col1\" class=\"data row5 col1\" >0.964286</td>\n",
       "                        <td id=\"T_59023528_3d19_11eb_9d0c_0433c2baf4a9row5_col2\" class=\"data row5 col2\" >1.000000</td>\n",
       "                        <td id=\"T_59023528_3d19_11eb_9d0c_0433c2baf4a9row5_col3\" class=\"data row5 col3\" >1.000000</td>\n",
       "            </tr>\n",
       "            <tr>\n",
       "                        <th id=\"T_59023528_3d19_11eb_9d0c_0433c2baf4a9level0_row6\" class=\"row_heading level0 row6\" >6</th>\n",
       "                        <td id=\"T_59023528_3d19_11eb_9d0c_0433c2baf4a9row6_col0\" class=\"data row6 col0\" >children</td>\n",
       "                        <td id=\"T_59023528_3d19_11eb_9d0c_0433c2baf4a9row6_col1\" class=\"data row6 col1\" >0.976190</td>\n",
       "                        <td id=\"T_59023528_3d19_11eb_9d0c_0433c2baf4a9row6_col2\" class=\"data row6 col2\" >1.000000</td>\n",
       "                        <td id=\"T_59023528_3d19_11eb_9d0c_0433c2baf4a9row6_col3\" class=\"data row6 col3\" >1.000000</td>\n",
       "            </tr>\n",
       "            <tr>\n",
       "                        <th id=\"T_59023528_3d19_11eb_9d0c_0433c2baf4a9level0_row7\" class=\"row_heading level0 row7\" >7</th>\n",
       "                        <td id=\"T_59023528_3d19_11eb_9d0c_0433c2baf4a9row7_col0\" class=\"data row7 col0\" >classic</td>\n",
       "                        <td id=\"T_59023528_3d19_11eb_9d0c_0433c2baf4a9row7_col1\" class=\"data row7 col1\" >0.976190</td>\n",
       "                        <td id=\"T_59023528_3d19_11eb_9d0c_0433c2baf4a9row7_col2\" class=\"data row7 col2\" >1.000000</td>\n",
       "                        <td id=\"T_59023528_3d19_11eb_9d0c_0433c2baf4a9row7_col3\" class=\"data row7 col3\" >1.000000</td>\n",
       "            </tr>\n",
       "            <tr>\n",
       "                        <th id=\"T_59023528_3d19_11eb_9d0c_0433c2baf4a9level0_row8\" class=\"row_heading level0 row8\" >8</th>\n",
       "                        <td id=\"T_59023528_3d19_11eb_9d0c_0433c2baf4a9row8_col0\" class=\"data row8 col0\" >love</td>\n",
       "                        <td id=\"T_59023528_3d19_11eb_9d0c_0433c2baf4a9row8_col1\" class=\"data row8 col1\" >0.857143</td>\n",
       "                        <td id=\"T_59023528_3d19_11eb_9d0c_0433c2baf4a9row8_col2\" class=\"data row8 col2\" >0.450000</td>\n",
       "                        <td id=\"T_59023528_3d19_11eb_9d0c_0433c2baf4a9row8_col3\" class=\"data row8 col3\" >0.500000</td>\n",
       "            </tr>\n",
       "            <tr>\n",
       "                        <th id=\"T_59023528_3d19_11eb_9d0c_0433c2baf4a9level0_row9\" class=\"row_heading level0 row9\" >9</th>\n",
       "                        <td id=\"T_59023528_3d19_11eb_9d0c_0433c2baf4a9row9_col0\" class=\"data row9 col0\" >books</td>\n",
       "                        <td id=\"T_59023528_3d19_11eb_9d0c_0433c2baf4a9row9_col1\" class=\"data row9 col1\" >0.880952</td>\n",
       "                        <td id=\"T_59023528_3d19_11eb_9d0c_0433c2baf4a9row9_col2\" class=\"data row9 col2\" >0.450000</td>\n",
       "                        <td id=\"T_59023528_3d19_11eb_9d0c_0433c2baf4a9row9_col3\" class=\"data row9 col3\" >0.500000</td>\n",
       "            </tr>\n",
       "            <tr>\n",
       "                        <th id=\"T_59023528_3d19_11eb_9d0c_0433c2baf4a9level0_row10\" class=\"row_heading level0 row10\" >10</th>\n",
       "                        <td id=\"T_59023528_3d19_11eb_9d0c_0433c2baf4a9row10_col0\" class=\"data row10 col0\" >reading</td>\n",
       "                        <td id=\"T_59023528_3d19_11eb_9d0c_0433c2baf4a9row10_col1\" class=\"data row10 col1\" >0.928571</td>\n",
       "                        <td id=\"T_59023528_3d19_11eb_9d0c_0433c2baf4a9row10_col2\" class=\"data row10 col2\" >0.450000</td>\n",
       "                        <td id=\"T_59023528_3d19_11eb_9d0c_0433c2baf4a9row10_col3\" class=\"data row10 col3\" >0.500000</td>\n",
       "            </tr>\n",
       "            <tr>\n",
       "                        <th id=\"T_59023528_3d19_11eb_9d0c_0433c2baf4a9level0_row11\" class=\"row_heading level0 row11\" >11</th>\n",
       "                        <td id=\"T_59023528_3d19_11eb_9d0c_0433c2baf4a9row11_col0\" class=\"data row11 col0\" >friends</td>\n",
       "                        <td id=\"T_59023528_3d19_11eb_9d0c_0433c2baf4a9row11_col1\" class=\"data row11 col1\" >0.964286</td>\n",
       "                        <td id=\"T_59023528_3d19_11eb_9d0c_0433c2baf4a9row11_col2\" class=\"data row11 col2\" >0.450000</td>\n",
       "                        <td id=\"T_59023528_3d19_11eb_9d0c_0433c2baf4a9row11_col3\" class=\"data row11 col3\" >0.500000</td>\n",
       "            </tr>\n",
       "            <tr>\n",
       "                        <th id=\"T_59023528_3d19_11eb_9d0c_0433c2baf4a9level0_row12\" class=\"row_heading level0 row12\" >12</th>\n",
       "                        <td id=\"T_59023528_3d19_11eb_9d0c_0433c2baf4a9row12_col0\" class=\"data row12 col0\" >truth</td>\n",
       "                        <td id=\"T_59023528_3d19_11eb_9d0c_0433c2baf4a9row12_col1\" class=\"data row12 col1\" >0.964286</td>\n",
       "                        <td id=\"T_59023528_3d19_11eb_9d0c_0433c2baf4a9row12_col2\" class=\"data row12 col2\" >0.450000</td>\n",
       "                        <td id=\"T_59023528_3d19_11eb_9d0c_0433c2baf4a9row12_col3\" class=\"data row12 col3\" >0.500000</td>\n",
       "            </tr>\n",
       "            <tr>\n",
       "                        <th id=\"T_59023528_3d19_11eb_9d0c_0433c2baf4a9level0_row13\" class=\"row_heading level0 row13\" >13</th>\n",
       "                        <td id=\"T_59023528_3d19_11eb_9d0c_0433c2baf4a9row13_col0\" class=\"data row13 col0\" >inspirational</td>\n",
       "                        <td id=\"T_59023528_3d19_11eb_9d0c_0433c2baf4a9row13_col1\" class=\"data row13 col1\" >0.869048</td>\n",
       "                        <td id=\"T_59023528_3d19_11eb_9d0c_0433c2baf4a9row13_col2\" class=\"data row13 col2\" >0.400000</td>\n",
       "                        <td id=\"T_59023528_3d19_11eb_9d0c_0433c2baf4a9row13_col3\" class=\"data row13 col3\" >0.500000</td>\n",
       "            </tr>\n",
       "            <tr>\n",
       "                        <th id=\"T_59023528_3d19_11eb_9d0c_0433c2baf4a9level0_row14\" class=\"row_heading level0 row14\" >14</th>\n",
       "                        <td id=\"T_59023528_3d19_11eb_9d0c_0433c2baf4a9row14_col0\" class=\"data row14 col0\" >friendship</td>\n",
       "                        <td id=\"T_59023528_3d19_11eb_9d0c_0433c2baf4a9row14_col1\" class=\"data row14 col1\" >0.964286</td>\n",
       "                        <td id=\"T_59023528_3d19_11eb_9d0c_0433c2baf4a9row14_col2\" class=\"data row14 col2\" >0.400000</td>\n",
       "                        <td id=\"T_59023528_3d19_11eb_9d0c_0433c2baf4a9row14_col3\" class=\"data row14 col3\" >0.500000</td>\n",
       "            </tr>\n",
       "            <tr>\n",
       "                        <th id=\"T_59023528_3d19_11eb_9d0c_0433c2baf4a9level0_row15\" class=\"row_heading level0 row15\" >15</th>\n",
       "                        <td id=\"T_59023528_3d19_11eb_9d0c_0433c2baf4a9row15_col0\" class=\"data row15 col0\" >Average</td>\n",
       "                        <td id=\"T_59023528_3d19_11eb_9d0c_0433c2baf4a9row15_col1\" class=\"data row15 col1\" >0.931746</td>\n",
       "                        <td id=\"T_59023528_3d19_11eb_9d0c_0433c2baf4a9row15_col2\" class=\"data row15 col2\" >0.736667</td>\n",
       "                        <td id=\"T_59023528_3d19_11eb_9d0c_0433c2baf4a9row15_col3\" class=\"data row15 col3\" >0.766667</td>\n",
       "            </tr>\n",
       "    </tbody></table>"
      ],
      "text/plain": [
       "<pandas.io.formats.style.Styler at 0x159086403d0>"
      ]
     },
     "execution_count": 72,
     "metadata": {},
     "output_type": "execute_result"
    }
   ],
   "source": [
    "# เรียกใช้ฟังก์ชั่น evaluation_table เพื่อแสดงตารางเปรียบเทียบ\n",
    "evaluation_table(accuracy_list, precision_list, recall_list)"
   ]
  },
  {
   "cell_type": "markdown",
   "metadata": {},
   "source": [
    "---"
   ]
  },
  {
   "cell_type": "markdown",
   "metadata": {},
   "source": [
    "## Random Forest"
   ]
  },
  {
   "cell_type": "markdown",
   "metadata": {},
   "source": [
    "### Random Forest unning parameter แบบไม่ weight"
   ]
  },
  {
   "cell_type": "code",
   "execution_count": 75,
   "metadata": {},
   "outputs": [],
   "source": [
    "rf = RandomForestClassifier() # สร้าง Random Forest classifier\n",
    "\n",
    "#ทำการกำหนด parameter ที่จะเอาไปวิเคราะห์ โดยค่าที่กำหนดไว้คือ parameter ของ Random Forest\n",
    "params = { \n",
    "    'n_estimators' : [200, 500], \n",
    "    'max_features' : ['auto', 'sqrt', 'log2'], \n",
    "    'max_depth' : [4,5,6,7,8]\n",
    "#     'criterion' : ['gini', 'entropy']\n",
    "}"
   ]
  },
  {
   "cell_type": "code",
   "execution_count": 76,
   "metadata": {},
   "outputs": [
    {
     "name": "stdout",
     "output_type": "stream",
     "text": [
      "Fitting 5 folds for each of 30 candidates, totalling 150 fits\n"
     ]
    },
    {
     "name": "stderr",
     "output_type": "stream",
     "text": [
      "[Parallel(n_jobs=-1)]: Using backend LokyBackend with 8 concurrent workers.\n",
      "[Parallel(n_jobs=-1)]: Done  16 tasks      | elapsed:    2.5s\n",
      "[Parallel(n_jobs=-1)]: Done 112 tasks      | elapsed:   14.4s\n",
      "[Parallel(n_jobs=-1)]: Done 150 out of 150 | elapsed:   19.8s finished\n"
     ]
    },
    {
     "name": "stdout",
     "output_type": "stream",
     "text": [
      "love -> Accuracy: 0.869 (0.337)\n",
      "Precision Score: 0.400\n",
      "recall Score: 0.500\n",
      "Fitting 5 folds for each of 30 candidates, totalling 150 fits\n"
     ]
    },
    {
     "name": "stderr",
     "output_type": "stream",
     "text": [
      "[Parallel(n_jobs=-1)]: Using backend LokyBackend with 8 concurrent workers.\n",
      "[Parallel(n_jobs=-1)]: Done  16 tasks      | elapsed:    2.3s\n",
      "[Parallel(n_jobs=-1)]: Done 112 tasks      | elapsed:   16.1s\n",
      "[Parallel(n_jobs=-1)]: Done 150 out of 150 | elapsed:   21.0s finished\n"
     ]
    },
    {
     "name": "stdout",
     "output_type": "stream",
     "text": [
      "inspirational -> Accuracy: 0.869 (0.337)\n",
      "Precision Score: 0.400\n",
      "recall Score: 0.500\n",
      "Fitting 5 folds for each of 30 candidates, totalling 150 fits\n"
     ]
    },
    {
     "name": "stderr",
     "output_type": "stream",
     "text": [
      "[Parallel(n_jobs=-1)]: Using backend LokyBackend with 8 concurrent workers.\n",
      "[Parallel(n_jobs=-1)]: Done  16 tasks      | elapsed:    2.3s\n",
      "[Parallel(n_jobs=-1)]: Done 112 tasks      | elapsed:   15.8s\n",
      "[Parallel(n_jobs=-1)]: Done 150 out of 150 | elapsed:   20.8s finished\n"
     ]
    },
    {
     "name": "stdout",
     "output_type": "stream",
     "text": [
      "life -> Accuracy: 0.857 (0.350)\n",
      "Precision Score: 1.000\n",
      "recall Score: 1.000\n",
      "Fitting 5 folds for each of 30 candidates, totalling 150 fits\n"
     ]
    },
    {
     "name": "stderr",
     "output_type": "stream",
     "text": [
      "[Parallel(n_jobs=-1)]: Using backend LokyBackend with 8 concurrent workers.\n",
      "[Parallel(n_jobs=-1)]: Done  16 tasks      | elapsed:    2.8s\n",
      "[Parallel(n_jobs=-1)]: Done 112 tasks      | elapsed:   16.0s\n",
      "[Parallel(n_jobs=-1)]: Done 150 out of 150 | elapsed:   21.5s finished\n"
     ]
    },
    {
     "name": "stdout",
     "output_type": "stream",
     "text": [
      "humor -> Accuracy: 0.869 (0.337)\n",
      "Precision Score: 1.000\n",
      "recall Score: 1.000\n",
      "Fitting 5 folds for each of 30 candidates, totalling 150 fits\n"
     ]
    },
    {
     "name": "stderr",
     "output_type": "stream",
     "text": [
      "[Parallel(n_jobs=-1)]: Using backend LokyBackend with 8 concurrent workers.\n",
      "[Parallel(n_jobs=-1)]: Done  16 tasks      | elapsed:    3.1s\n",
      "[Parallel(n_jobs=-1)]: Done 112 tasks      | elapsed:   16.2s\n",
      "[Parallel(n_jobs=-1)]: Done 150 out of 150 | elapsed:   22.4s finished\n"
     ]
    },
    {
     "name": "stdout",
     "output_type": "stream",
     "text": [
      "books -> Accuracy: 0.905 (0.294)\n",
      "Precision Score: 0.350\n",
      "recall Score: 0.500\n",
      "Fitting 5 folds for each of 30 candidates, totalling 150 fits\n"
     ]
    },
    {
     "name": "stderr",
     "output_type": "stream",
     "text": [
      "[Parallel(n_jobs=-1)]: Using backend LokyBackend with 8 concurrent workers.\n",
      "[Parallel(n_jobs=-1)]: Done  16 tasks      | elapsed:    2.3s\n",
      "[Parallel(n_jobs=-1)]: Done 112 tasks      | elapsed:   16.6s\n",
      "[Parallel(n_jobs=-1)]: Done 150 out of 150 | elapsed:   22.4s finished\n"
     ]
    },
    {
     "name": "stdout",
     "output_type": "stream",
     "text": [
      "reading -> Accuracy: 0.917 (0.276)\n",
      "Precision Score: 1.000\n",
      "recall Score: 1.000\n",
      "Fitting 5 folds for each of 30 candidates, totalling 150 fits\n"
     ]
    },
    {
     "name": "stderr",
     "output_type": "stream",
     "text": [
      "[Parallel(n_jobs=-1)]: Using backend LokyBackend with 8 concurrent workers.\n",
      "[Parallel(n_jobs=-1)]: Done  16 tasks      | elapsed:    2.4s\n",
      "[Parallel(n_jobs=-1)]: Done 112 tasks      | elapsed:   16.2s\n",
      "[Parallel(n_jobs=-1)]: Done 150 out of 150 | elapsed:   21.6s finished\n"
     ]
    },
    {
     "name": "stdout",
     "output_type": "stream",
     "text": [
      "friendship -> Accuracy: 0.940 (0.237)\n",
      "Precision Score: 1.000\n",
      "recall Score: 1.000\n",
      "Fitting 5 folds for each of 30 candidates, totalling 150 fits\n"
     ]
    },
    {
     "name": "stderr",
     "output_type": "stream",
     "text": [
      "[Parallel(n_jobs=-1)]: Using backend LokyBackend with 8 concurrent workers.\n",
      "[Parallel(n_jobs=-1)]: Done  16 tasks      | elapsed:    2.3s\n",
      "[Parallel(n_jobs=-1)]: Done 112 tasks      | elapsed:   16.1s\n",
      "[Parallel(n_jobs=-1)]: Done 150 out of 150 | elapsed:   21.6s finished\n"
     ]
    },
    {
     "name": "stdout",
     "output_type": "stream",
     "text": [
      "friends -> Accuracy: 0.952 (0.213)\n",
      "Precision Score: 1.000\n",
      "recall Score: 1.000\n",
      "Fitting 5 folds for each of 30 candidates, totalling 150 fits\n"
     ]
    },
    {
     "name": "stderr",
     "output_type": "stream",
     "text": [
      "[Parallel(n_jobs=-1)]: Using backend LokyBackend with 8 concurrent workers.\n",
      "[Parallel(n_jobs=-1)]: Done  16 tasks      | elapsed:    2.4s\n",
      "[Parallel(n_jobs=-1)]: Done 112 tasks      | elapsed:   16.0s\n",
      "[Parallel(n_jobs=-1)]: Done 150 out of 150 | elapsed:   21.1s finished\n"
     ]
    },
    {
     "name": "stdout",
     "output_type": "stream",
     "text": [
      "truth -> Accuracy: 0.964 (0.186)\n",
      "Precision Score: 0.450\n",
      "recall Score: 0.500\n",
      "Fitting 5 folds for each of 30 candidates, totalling 150 fits\n"
     ]
    },
    {
     "name": "stderr",
     "output_type": "stream",
     "text": [
      "[Parallel(n_jobs=-1)]: Using backend LokyBackend with 8 concurrent workers.\n",
      "[Parallel(n_jobs=-1)]: Done  16 tasks      | elapsed:    3.1s\n",
      "[Parallel(n_jobs=-1)]: Done 112 tasks      | elapsed:   16.6s\n",
      "[Parallel(n_jobs=-1)]: Done 150 out of 150 | elapsed:   22.0s finished\n"
     ]
    },
    {
     "name": "stdout",
     "output_type": "stream",
     "text": [
      "attributed-no-source -> Accuracy: 0.964 (0.186)\n",
      "Precision Score: 1.000\n",
      "recall Score: 1.000\n",
      "Fitting 5 folds for each of 30 candidates, totalling 150 fits\n"
     ]
    },
    {
     "name": "stderr",
     "output_type": "stream",
     "text": [
      "[Parallel(n_jobs=-1)]: Using backend LokyBackend with 8 concurrent workers.\n",
      "[Parallel(n_jobs=-1)]: Done  16 tasks      | elapsed:    2.9s\n",
      "[Parallel(n_jobs=-1)]: Done 112 tasks      | elapsed:   15.9s\n",
      "[Parallel(n_jobs=-1)]: Done 150 out of 150 | elapsed:   21.5s finished\n"
     ]
    },
    {
     "name": "stdout",
     "output_type": "stream",
     "text": [
      "death -> Accuracy: 0.976 (0.152)\n",
      "Precision Score: 0.450\n",
      "recall Score: 0.500\n",
      "Fitting 5 folds for each of 30 candidates, totalling 150 fits\n"
     ]
    },
    {
     "name": "stderr",
     "output_type": "stream",
     "text": [
      "[Parallel(n_jobs=-1)]: Using backend LokyBackend with 8 concurrent workers.\n",
      "[Parallel(n_jobs=-1)]: Done  16 tasks      | elapsed:    2.3s\n",
      "[Parallel(n_jobs=-1)]: Done 112 tasks      | elapsed:   16.0s\n",
      "[Parallel(n_jobs=-1)]: Done 150 out of 150 | elapsed:   21.4s finished\n"
     ]
    },
    {
     "name": "stdout",
     "output_type": "stream",
     "text": [
      "simile -> Accuracy: 0.976 (0.152)\n",
      "Precision Score: 1.000\n",
      "recall Score: 1.000\n",
      "Fitting 5 folds for each of 30 candidates, totalling 150 fits\n"
     ]
    },
    {
     "name": "stderr",
     "output_type": "stream",
     "text": [
      "[Parallel(n_jobs=-1)]: Using backend LokyBackend with 8 concurrent workers.\n",
      "[Parallel(n_jobs=-1)]: Done  16 tasks      | elapsed:    2.3s\n",
      "[Parallel(n_jobs=-1)]: Done 112 tasks      | elapsed:   17.4s\n",
      "[Parallel(n_jobs=-1)]: Done 150 out of 150 | elapsed:   22.2s finished\n"
     ]
    },
    {
     "name": "stdout",
     "output_type": "stream",
     "text": [
      "writing -> Accuracy: 0.964 (0.186)\n",
      "Precision Score: 1.000\n",
      "recall Score: 1.000\n",
      "Fitting 5 folds for each of 30 candidates, totalling 150 fits\n"
     ]
    },
    {
     "name": "stderr",
     "output_type": "stream",
     "text": [
      "[Parallel(n_jobs=-1)]: Using backend LokyBackend with 8 concurrent workers.\n",
      "[Parallel(n_jobs=-1)]: Done  16 tasks      | elapsed:    2.3s\n",
      "[Parallel(n_jobs=-1)]: Done 112 tasks      | elapsed:   15.4s\n",
      "[Parallel(n_jobs=-1)]: Done 150 out of 150 | elapsed:   20.4s finished\n"
     ]
    },
    {
     "name": "stdout",
     "output_type": "stream",
     "text": [
      "children -> Accuracy: 0.976 (0.152)\n",
      "Precision Score: 1.000\n",
      "recall Score: 1.000\n",
      "Fitting 5 folds for each of 30 candidates, totalling 150 fits\n"
     ]
    },
    {
     "name": "stderr",
     "output_type": "stream",
     "text": [
      "[Parallel(n_jobs=-1)]: Using backend LokyBackend with 8 concurrent workers.\n",
      "[Parallel(n_jobs=-1)]: Done  16 tasks      | elapsed:    2.8s\n",
      "[Parallel(n_jobs=-1)]: Done 112 tasks      | elapsed:   15.9s\n",
      "[Parallel(n_jobs=-1)]: Done 150 out of 150 | elapsed:   21.5s finished\n"
     ]
    },
    {
     "name": "stdout",
     "output_type": "stream",
     "text": [
      "classic -> Accuracy: 0.976 (0.152)\n",
      "Precision Score: 1.000\n",
      "recall Score: 1.000\n"
     ]
    }
   ],
   "source": [
    "# เรียกใช้ฟังก์ชั่น create_model\n",
    "accuracy_list,precision_list,recall_list = create_model(rf, params, False)"
   ]
  },
  {
   "cell_type": "code",
   "execution_count": 77,
   "metadata": {},
   "outputs": [
    {
     "data": {
      "text/html": [
       "<style  type=\"text/css\" >\n",
       "#T_8576f798_3d1a_11eb_ba0e_0433c2baf4a9row15_col0,#T_8576f798_3d1a_11eb_ba0e_0433c2baf4a9row15_col1,#T_8576f798_3d1a_11eb_ba0e_0433c2baf4a9row15_col2,#T_8576f798_3d1a_11eb_ba0e_0433c2baf4a9row15_col3{\n",
       "            background-color:  yellow;\n",
       "        }</style><table id=\"T_8576f798_3d1a_11eb_ba0e_0433c2baf4a9\" ><thead>    <tr>        <th class=\"blank level0\" ></th>        <th class=\"col_heading level0 col0\" >Tags</th>        <th class=\"col_heading level0 col1\" >Accuracy</th>        <th class=\"col_heading level0 col2\" >Precision</th>        <th class=\"col_heading level0 col3\" >Recall</th>    </tr></thead><tbody>\n",
       "                <tr>\n",
       "                        <th id=\"T_8576f798_3d1a_11eb_ba0e_0433c2baf4a9level0_row0\" class=\"row_heading level0 row0\" >0</th>\n",
       "                        <td id=\"T_8576f798_3d1a_11eb_ba0e_0433c2baf4a9row0_col0\" class=\"data row0 col0\" >life</td>\n",
       "                        <td id=\"T_8576f798_3d1a_11eb_ba0e_0433c2baf4a9row0_col1\" class=\"data row0 col1\" >0.857143</td>\n",
       "                        <td id=\"T_8576f798_3d1a_11eb_ba0e_0433c2baf4a9row0_col2\" class=\"data row0 col2\" >1.000000</td>\n",
       "                        <td id=\"T_8576f798_3d1a_11eb_ba0e_0433c2baf4a9row0_col3\" class=\"data row0 col3\" >1.000000</td>\n",
       "            </tr>\n",
       "            <tr>\n",
       "                        <th id=\"T_8576f798_3d1a_11eb_ba0e_0433c2baf4a9level0_row1\" class=\"row_heading level0 row1\" >1</th>\n",
       "                        <td id=\"T_8576f798_3d1a_11eb_ba0e_0433c2baf4a9row1_col0\" class=\"data row1 col0\" >humor</td>\n",
       "                        <td id=\"T_8576f798_3d1a_11eb_ba0e_0433c2baf4a9row1_col1\" class=\"data row1 col1\" >0.869048</td>\n",
       "                        <td id=\"T_8576f798_3d1a_11eb_ba0e_0433c2baf4a9row1_col2\" class=\"data row1 col2\" >1.000000</td>\n",
       "                        <td id=\"T_8576f798_3d1a_11eb_ba0e_0433c2baf4a9row1_col3\" class=\"data row1 col3\" >1.000000</td>\n",
       "            </tr>\n",
       "            <tr>\n",
       "                        <th id=\"T_8576f798_3d1a_11eb_ba0e_0433c2baf4a9level0_row2\" class=\"row_heading level0 row2\" >2</th>\n",
       "                        <td id=\"T_8576f798_3d1a_11eb_ba0e_0433c2baf4a9row2_col0\" class=\"data row2 col0\" >reading</td>\n",
       "                        <td id=\"T_8576f798_3d1a_11eb_ba0e_0433c2baf4a9row2_col1\" class=\"data row2 col1\" >0.916667</td>\n",
       "                        <td id=\"T_8576f798_3d1a_11eb_ba0e_0433c2baf4a9row2_col2\" class=\"data row2 col2\" >1.000000</td>\n",
       "                        <td id=\"T_8576f798_3d1a_11eb_ba0e_0433c2baf4a9row2_col3\" class=\"data row2 col3\" >1.000000</td>\n",
       "            </tr>\n",
       "            <tr>\n",
       "                        <th id=\"T_8576f798_3d1a_11eb_ba0e_0433c2baf4a9level0_row3\" class=\"row_heading level0 row3\" >3</th>\n",
       "                        <td id=\"T_8576f798_3d1a_11eb_ba0e_0433c2baf4a9row3_col0\" class=\"data row3 col0\" >friendship</td>\n",
       "                        <td id=\"T_8576f798_3d1a_11eb_ba0e_0433c2baf4a9row3_col1\" class=\"data row3 col1\" >0.940476</td>\n",
       "                        <td id=\"T_8576f798_3d1a_11eb_ba0e_0433c2baf4a9row3_col2\" class=\"data row3 col2\" >1.000000</td>\n",
       "                        <td id=\"T_8576f798_3d1a_11eb_ba0e_0433c2baf4a9row3_col3\" class=\"data row3 col3\" >1.000000</td>\n",
       "            </tr>\n",
       "            <tr>\n",
       "                        <th id=\"T_8576f798_3d1a_11eb_ba0e_0433c2baf4a9level0_row4\" class=\"row_heading level0 row4\" >4</th>\n",
       "                        <td id=\"T_8576f798_3d1a_11eb_ba0e_0433c2baf4a9row4_col0\" class=\"data row4 col0\" >friends</td>\n",
       "                        <td id=\"T_8576f798_3d1a_11eb_ba0e_0433c2baf4a9row4_col1\" class=\"data row4 col1\" >0.952381</td>\n",
       "                        <td id=\"T_8576f798_3d1a_11eb_ba0e_0433c2baf4a9row4_col2\" class=\"data row4 col2\" >1.000000</td>\n",
       "                        <td id=\"T_8576f798_3d1a_11eb_ba0e_0433c2baf4a9row4_col3\" class=\"data row4 col3\" >1.000000</td>\n",
       "            </tr>\n",
       "            <tr>\n",
       "                        <th id=\"T_8576f798_3d1a_11eb_ba0e_0433c2baf4a9level0_row5\" class=\"row_heading level0 row5\" >5</th>\n",
       "                        <td id=\"T_8576f798_3d1a_11eb_ba0e_0433c2baf4a9row5_col0\" class=\"data row5 col0\" >attributed-no-source</td>\n",
       "                        <td id=\"T_8576f798_3d1a_11eb_ba0e_0433c2baf4a9row5_col1\" class=\"data row5 col1\" >0.964286</td>\n",
       "                        <td id=\"T_8576f798_3d1a_11eb_ba0e_0433c2baf4a9row5_col2\" class=\"data row5 col2\" >1.000000</td>\n",
       "                        <td id=\"T_8576f798_3d1a_11eb_ba0e_0433c2baf4a9row5_col3\" class=\"data row5 col3\" >1.000000</td>\n",
       "            </tr>\n",
       "            <tr>\n",
       "                        <th id=\"T_8576f798_3d1a_11eb_ba0e_0433c2baf4a9level0_row6\" class=\"row_heading level0 row6\" >6</th>\n",
       "                        <td id=\"T_8576f798_3d1a_11eb_ba0e_0433c2baf4a9row6_col0\" class=\"data row6 col0\" >simile</td>\n",
       "                        <td id=\"T_8576f798_3d1a_11eb_ba0e_0433c2baf4a9row6_col1\" class=\"data row6 col1\" >0.976190</td>\n",
       "                        <td id=\"T_8576f798_3d1a_11eb_ba0e_0433c2baf4a9row6_col2\" class=\"data row6 col2\" >1.000000</td>\n",
       "                        <td id=\"T_8576f798_3d1a_11eb_ba0e_0433c2baf4a9row6_col3\" class=\"data row6 col3\" >1.000000</td>\n",
       "            </tr>\n",
       "            <tr>\n",
       "                        <th id=\"T_8576f798_3d1a_11eb_ba0e_0433c2baf4a9level0_row7\" class=\"row_heading level0 row7\" >7</th>\n",
       "                        <td id=\"T_8576f798_3d1a_11eb_ba0e_0433c2baf4a9row7_col0\" class=\"data row7 col0\" >writing</td>\n",
       "                        <td id=\"T_8576f798_3d1a_11eb_ba0e_0433c2baf4a9row7_col1\" class=\"data row7 col1\" >0.964286</td>\n",
       "                        <td id=\"T_8576f798_3d1a_11eb_ba0e_0433c2baf4a9row7_col2\" class=\"data row7 col2\" >1.000000</td>\n",
       "                        <td id=\"T_8576f798_3d1a_11eb_ba0e_0433c2baf4a9row7_col3\" class=\"data row7 col3\" >1.000000</td>\n",
       "            </tr>\n",
       "            <tr>\n",
       "                        <th id=\"T_8576f798_3d1a_11eb_ba0e_0433c2baf4a9level0_row8\" class=\"row_heading level0 row8\" >8</th>\n",
       "                        <td id=\"T_8576f798_3d1a_11eb_ba0e_0433c2baf4a9row8_col0\" class=\"data row8 col0\" >children</td>\n",
       "                        <td id=\"T_8576f798_3d1a_11eb_ba0e_0433c2baf4a9row8_col1\" class=\"data row8 col1\" >0.976190</td>\n",
       "                        <td id=\"T_8576f798_3d1a_11eb_ba0e_0433c2baf4a9row8_col2\" class=\"data row8 col2\" >1.000000</td>\n",
       "                        <td id=\"T_8576f798_3d1a_11eb_ba0e_0433c2baf4a9row8_col3\" class=\"data row8 col3\" >1.000000</td>\n",
       "            </tr>\n",
       "            <tr>\n",
       "                        <th id=\"T_8576f798_3d1a_11eb_ba0e_0433c2baf4a9level0_row9\" class=\"row_heading level0 row9\" >9</th>\n",
       "                        <td id=\"T_8576f798_3d1a_11eb_ba0e_0433c2baf4a9row9_col0\" class=\"data row9 col0\" >classic</td>\n",
       "                        <td id=\"T_8576f798_3d1a_11eb_ba0e_0433c2baf4a9row9_col1\" class=\"data row9 col1\" >0.976190</td>\n",
       "                        <td id=\"T_8576f798_3d1a_11eb_ba0e_0433c2baf4a9row9_col2\" class=\"data row9 col2\" >1.000000</td>\n",
       "                        <td id=\"T_8576f798_3d1a_11eb_ba0e_0433c2baf4a9row9_col3\" class=\"data row9 col3\" >1.000000</td>\n",
       "            </tr>\n",
       "            <tr>\n",
       "                        <th id=\"T_8576f798_3d1a_11eb_ba0e_0433c2baf4a9level0_row10\" class=\"row_heading level0 row10\" >10</th>\n",
       "                        <td id=\"T_8576f798_3d1a_11eb_ba0e_0433c2baf4a9row10_col0\" class=\"data row10 col0\" >truth</td>\n",
       "                        <td id=\"T_8576f798_3d1a_11eb_ba0e_0433c2baf4a9row10_col1\" class=\"data row10 col1\" >0.964286</td>\n",
       "                        <td id=\"T_8576f798_3d1a_11eb_ba0e_0433c2baf4a9row10_col2\" class=\"data row10 col2\" >0.450000</td>\n",
       "                        <td id=\"T_8576f798_3d1a_11eb_ba0e_0433c2baf4a9row10_col3\" class=\"data row10 col3\" >0.500000</td>\n",
       "            </tr>\n",
       "            <tr>\n",
       "                        <th id=\"T_8576f798_3d1a_11eb_ba0e_0433c2baf4a9level0_row11\" class=\"row_heading level0 row11\" >11</th>\n",
       "                        <td id=\"T_8576f798_3d1a_11eb_ba0e_0433c2baf4a9row11_col0\" class=\"data row11 col0\" >death</td>\n",
       "                        <td id=\"T_8576f798_3d1a_11eb_ba0e_0433c2baf4a9row11_col1\" class=\"data row11 col1\" >0.976190</td>\n",
       "                        <td id=\"T_8576f798_3d1a_11eb_ba0e_0433c2baf4a9row11_col2\" class=\"data row11 col2\" >0.450000</td>\n",
       "                        <td id=\"T_8576f798_3d1a_11eb_ba0e_0433c2baf4a9row11_col3\" class=\"data row11 col3\" >0.500000</td>\n",
       "            </tr>\n",
       "            <tr>\n",
       "                        <th id=\"T_8576f798_3d1a_11eb_ba0e_0433c2baf4a9level0_row12\" class=\"row_heading level0 row12\" >12</th>\n",
       "                        <td id=\"T_8576f798_3d1a_11eb_ba0e_0433c2baf4a9row12_col0\" class=\"data row12 col0\" >love</td>\n",
       "                        <td id=\"T_8576f798_3d1a_11eb_ba0e_0433c2baf4a9row12_col1\" class=\"data row12 col1\" >0.869048</td>\n",
       "                        <td id=\"T_8576f798_3d1a_11eb_ba0e_0433c2baf4a9row12_col2\" class=\"data row12 col2\" >0.400000</td>\n",
       "                        <td id=\"T_8576f798_3d1a_11eb_ba0e_0433c2baf4a9row12_col3\" class=\"data row12 col3\" >0.500000</td>\n",
       "            </tr>\n",
       "            <tr>\n",
       "                        <th id=\"T_8576f798_3d1a_11eb_ba0e_0433c2baf4a9level0_row13\" class=\"row_heading level0 row13\" >13</th>\n",
       "                        <td id=\"T_8576f798_3d1a_11eb_ba0e_0433c2baf4a9row13_col0\" class=\"data row13 col0\" >inspirational</td>\n",
       "                        <td id=\"T_8576f798_3d1a_11eb_ba0e_0433c2baf4a9row13_col1\" class=\"data row13 col1\" >0.869048</td>\n",
       "                        <td id=\"T_8576f798_3d1a_11eb_ba0e_0433c2baf4a9row13_col2\" class=\"data row13 col2\" >0.400000</td>\n",
       "                        <td id=\"T_8576f798_3d1a_11eb_ba0e_0433c2baf4a9row13_col3\" class=\"data row13 col3\" >0.500000</td>\n",
       "            </tr>\n",
       "            <tr>\n",
       "                        <th id=\"T_8576f798_3d1a_11eb_ba0e_0433c2baf4a9level0_row14\" class=\"row_heading level0 row14\" >14</th>\n",
       "                        <td id=\"T_8576f798_3d1a_11eb_ba0e_0433c2baf4a9row14_col0\" class=\"data row14 col0\" >books</td>\n",
       "                        <td id=\"T_8576f798_3d1a_11eb_ba0e_0433c2baf4a9row14_col1\" class=\"data row14 col1\" >0.904762</td>\n",
       "                        <td id=\"T_8576f798_3d1a_11eb_ba0e_0433c2baf4a9row14_col2\" class=\"data row14 col2\" >0.350000</td>\n",
       "                        <td id=\"T_8576f798_3d1a_11eb_ba0e_0433c2baf4a9row14_col3\" class=\"data row14 col3\" >0.500000</td>\n",
       "            </tr>\n",
       "            <tr>\n",
       "                        <th id=\"T_8576f798_3d1a_11eb_ba0e_0433c2baf4a9level0_row15\" class=\"row_heading level0 row15\" >15</th>\n",
       "                        <td id=\"T_8576f798_3d1a_11eb_ba0e_0433c2baf4a9row15_col0\" class=\"data row15 col0\" >Average</td>\n",
       "                        <td id=\"T_8576f798_3d1a_11eb_ba0e_0433c2baf4a9row15_col1\" class=\"data row15 col1\" >0.931746</td>\n",
       "                        <td id=\"T_8576f798_3d1a_11eb_ba0e_0433c2baf4a9row15_col2\" class=\"data row15 col2\" >0.803333</td>\n",
       "                        <td id=\"T_8576f798_3d1a_11eb_ba0e_0433c2baf4a9row15_col3\" class=\"data row15 col3\" >0.833333</td>\n",
       "            </tr>\n",
       "    </tbody></table>"
      ],
      "text/plain": [
       "<pandas.io.formats.style.Styler at 0x159086b90a0>"
      ]
     },
     "execution_count": 77,
     "metadata": {},
     "output_type": "execute_result"
    }
   ],
   "source": [
    "# เรียกใช้ฟังก์ชั่น evaluation_table เพื่อแสดงตารางเปรียบเทียบ\n",
    "evaluation_table(accuracy_list, precision_list, recall_list)"
   ]
  },
  {
   "cell_type": "markdown",
   "metadata": {},
   "source": [
    "### Random Forest Tunning parameter แบบ weight"
   ]
  },
  {
   "cell_type": "code",
   "execution_count": 78,
   "metadata": {},
   "outputs": [],
   "source": [
    "rf = RandomForestClassifier() # สร้าง Random Forest classifier\n",
    "\n",
    "#ทำการกำหนด parameter ที่จะเอาไปวิเคราะห์ โดยค่าที่กำหนดไว้คือ parameter ของ Random Forest\n",
    "params = { \n",
    "    'n_estimators' : [200, 500], \n",
    "    'max_features' : ['auto', 'sqrt', 'log2'], \n",
    "    'max_depth' : [4,5,6,7,8]\n",
    "#     'criterion' : ['gini', 'entropy']\n",
    "}"
   ]
  },
  {
   "cell_type": "code",
   "execution_count": 79,
   "metadata": {},
   "outputs": [
    {
     "name": "stdout",
     "output_type": "stream",
     "text": [
      "Fitting 5 folds for each of 30 candidates, totalling 150 fits\n"
     ]
    },
    {
     "name": "stderr",
     "output_type": "stream",
     "text": [
      "[Parallel(n_jobs=-1)]: Using backend LokyBackend with 8 concurrent workers.\n",
      "[Parallel(n_jobs=-1)]: Done  16 tasks      | elapsed:    2.4s\n",
      "[Parallel(n_jobs=-1)]: Done 112 tasks      | elapsed:   15.6s\n",
      "[Parallel(n_jobs=-1)]: Done 150 out of 150 | elapsed:   20.4s finished\n"
     ]
    },
    {
     "name": "stdout",
     "output_type": "stream",
     "text": [
      "love -> Accuracy: 0.869 (0.337)\n",
      "Precision Score: 0.400\n",
      "recall Score: 0.500\n",
      "Fitting 5 folds for each of 30 candidates, totalling 150 fits\n"
     ]
    },
    {
     "name": "stderr",
     "output_type": "stream",
     "text": [
      "[Parallel(n_jobs=-1)]: Using backend LokyBackend with 8 concurrent workers.\n",
      "[Parallel(n_jobs=-1)]: Done  16 tasks      | elapsed:    2.3s\n",
      "[Parallel(n_jobs=-1)]: Done 112 tasks      | elapsed:   15.8s\n",
      "[Parallel(n_jobs=-1)]: Done 150 out of 150 | elapsed:   20.7s finished\n"
     ]
    },
    {
     "name": "stdout",
     "output_type": "stream",
     "text": [
      "inspirational -> Accuracy: 0.869 (0.337)\n",
      "Precision Score: 0.400\n",
      "recall Score: 0.500\n",
      "Fitting 5 folds for each of 30 candidates, totalling 150 fits\n"
     ]
    },
    {
     "name": "stderr",
     "output_type": "stream",
     "text": [
      "[Parallel(n_jobs=-1)]: Using backend LokyBackend with 8 concurrent workers.\n",
      "[Parallel(n_jobs=-1)]: Done  16 tasks      | elapsed:    2.8s\n",
      "[Parallel(n_jobs=-1)]: Done 112 tasks      | elapsed:   16.3s\n",
      "[Parallel(n_jobs=-1)]: Done 150 out of 150 | elapsed:   22.1s finished\n"
     ]
    },
    {
     "name": "stdout",
     "output_type": "stream",
     "text": [
      "life -> Accuracy: 0.857 (0.350)\n",
      "Precision Score: 1.000\n",
      "recall Score: 1.000\n",
      "Fitting 5 folds for each of 30 candidates, totalling 150 fits\n"
     ]
    },
    {
     "name": "stderr",
     "output_type": "stream",
     "text": [
      "[Parallel(n_jobs=-1)]: Using backend LokyBackend with 8 concurrent workers.\n",
      "[Parallel(n_jobs=-1)]: Done  16 tasks      | elapsed:    2.6s\n",
      "[Parallel(n_jobs=-1)]: Done 112 tasks      | elapsed:   16.1s\n",
      "[Parallel(n_jobs=-1)]: Done 150 out of 150 | elapsed:   22.1s finished\n"
     ]
    },
    {
     "name": "stdout",
     "output_type": "stream",
     "text": [
      "humor -> Accuracy: 0.869 (0.337)\n",
      "Precision Score: 1.000\n",
      "recall Score: 1.000\n",
      "Fitting 5 folds for each of 30 candidates, totalling 150 fits\n"
     ]
    },
    {
     "name": "stderr",
     "output_type": "stream",
     "text": [
      "[Parallel(n_jobs=-1)]: Using backend LokyBackend with 8 concurrent workers.\n",
      "[Parallel(n_jobs=-1)]: Done  16 tasks      | elapsed:    2.3s\n",
      "[Parallel(n_jobs=-1)]: Done 112 tasks      | elapsed:   16.7s\n",
      "[Parallel(n_jobs=-1)]: Done 150 out of 150 | elapsed:   22.5s finished\n"
     ]
    },
    {
     "name": "stdout",
     "output_type": "stream",
     "text": [
      "books -> Accuracy: 0.893 (0.309)\n",
      "Precision Score: 0.400\n",
      "recall Score: 0.500\n",
      "Fitting 5 folds for each of 30 candidates, totalling 150 fits\n"
     ]
    },
    {
     "name": "stderr",
     "output_type": "stream",
     "text": [
      "[Parallel(n_jobs=-1)]: Using backend LokyBackend with 8 concurrent workers.\n",
      "[Parallel(n_jobs=-1)]: Done  16 tasks      | elapsed:    2.4s\n",
      "[Parallel(n_jobs=-1)]: Done 112 tasks      | elapsed:   16.2s\n",
      "[Parallel(n_jobs=-1)]: Done 150 out of 150 | elapsed:   21.5s finished\n"
     ]
    },
    {
     "name": "stdout",
     "output_type": "stream",
     "text": [
      "reading -> Accuracy: 0.929 (0.258)\n",
      "Precision Score: 0.450\n",
      "recall Score: 0.500\n",
      "Fitting 5 folds for each of 30 candidates, totalling 150 fits\n"
     ]
    },
    {
     "name": "stderr",
     "output_type": "stream",
     "text": [
      "[Parallel(n_jobs=-1)]: Using backend LokyBackend with 8 concurrent workers.\n",
      "[Parallel(n_jobs=-1)]: Done  16 tasks      | elapsed:    2.4s\n",
      "[Parallel(n_jobs=-1)]: Done 112 tasks      | elapsed:   16.5s\n",
      "[Parallel(n_jobs=-1)]: Done 150 out of 150 | elapsed:   21.5s finished\n"
     ]
    },
    {
     "name": "stdout",
     "output_type": "stream",
     "text": [
      "friendship -> Accuracy: 0.940 (0.237)\n",
      "Precision Score: 1.000\n",
      "recall Score: 1.000\n",
      "Fitting 5 folds for each of 30 candidates, totalling 150 fits\n"
     ]
    },
    {
     "name": "stderr",
     "output_type": "stream",
     "text": [
      "[Parallel(n_jobs=-1)]: Using backend LokyBackend with 8 concurrent workers.\n",
      "[Parallel(n_jobs=-1)]: Done  16 tasks      | elapsed:    2.4s\n",
      "[Parallel(n_jobs=-1)]: Done 112 tasks      | elapsed:   15.9s\n",
      "[Parallel(n_jobs=-1)]: Done 150 out of 150 | elapsed:   21.1s finished\n"
     ]
    },
    {
     "name": "stdout",
     "output_type": "stream",
     "text": [
      "friends -> Accuracy: 0.964 (0.186)\n",
      "Precision Score: 0.450\n",
      "recall Score: 0.500\n",
      "Fitting 5 folds for each of 30 candidates, totalling 150 fits\n"
     ]
    },
    {
     "name": "stderr",
     "output_type": "stream",
     "text": [
      "[Parallel(n_jobs=-1)]: Using backend LokyBackend with 8 concurrent workers.\n",
      "[Parallel(n_jobs=-1)]: Done  16 tasks      | elapsed:    2.8s\n",
      "[Parallel(n_jobs=-1)]: Done 112 tasks      | elapsed:   16.1s\n",
      "[Parallel(n_jobs=-1)]: Done 150 out of 150 | elapsed:   21.8s finished\n"
     ]
    },
    {
     "name": "stdout",
     "output_type": "stream",
     "text": [
      "truth -> Accuracy: 0.952 (0.213)\n",
      "Precision Score: 1.000\n",
      "recall Score: 1.000\n",
      "Fitting 5 folds for each of 30 candidates, totalling 150 fits\n"
     ]
    },
    {
     "name": "stderr",
     "output_type": "stream",
     "text": [
      "[Parallel(n_jobs=-1)]: Using backend LokyBackend with 8 concurrent workers.\n",
      "[Parallel(n_jobs=-1)]: Done  16 tasks      | elapsed:    2.7s\n",
      "[Parallel(n_jobs=-1)]: Done 112 tasks      | elapsed:   16.4s\n",
      "[Parallel(n_jobs=-1)]: Done 150 out of 150 | elapsed:   22.9s finished\n"
     ]
    },
    {
     "name": "stdout",
     "output_type": "stream",
     "text": [
      "attributed-no-source -> Accuracy: 0.976 (0.152)\n",
      "Precision Score: 0.450\n",
      "recall Score: 0.500\n",
      "Fitting 5 folds for each of 30 candidates, totalling 150 fits\n"
     ]
    },
    {
     "name": "stderr",
     "output_type": "stream",
     "text": [
      "[Parallel(n_jobs=-1)]: Using backend LokyBackend with 8 concurrent workers.\n",
      "[Parallel(n_jobs=-1)]: Done  16 tasks      | elapsed:    2.3s\n",
      "[Parallel(n_jobs=-1)]: Done 112 tasks      | elapsed:   16.2s\n",
      "[Parallel(n_jobs=-1)]: Done 150 out of 150 | elapsed:   22.0s finished\n"
     ]
    },
    {
     "name": "stdout",
     "output_type": "stream",
     "text": [
      "death -> Accuracy: 0.964 (0.186)\n",
      "Precision Score: 1.000\n",
      "recall Score: 1.000\n",
      "Fitting 5 folds for each of 30 candidates, totalling 150 fits\n"
     ]
    },
    {
     "name": "stderr",
     "output_type": "stream",
     "text": [
      "[Parallel(n_jobs=-1)]: Using backend LokyBackend with 8 concurrent workers.\n",
      "[Parallel(n_jobs=-1)]: Done  16 tasks      | elapsed:    2.4s\n",
      "[Parallel(n_jobs=-1)]: Done 112 tasks      | elapsed:   16.0s\n",
      "[Parallel(n_jobs=-1)]: Done 150 out of 150 | elapsed:   20.8s finished\n"
     ]
    },
    {
     "name": "stdout",
     "output_type": "stream",
     "text": [
      "simile -> Accuracy: 0.976 (0.152)\n",
      "Precision Score: 1.000\n",
      "recall Score: 1.000\n",
      "Fitting 5 folds for each of 30 candidates, totalling 150 fits\n"
     ]
    },
    {
     "name": "stderr",
     "output_type": "stream",
     "text": [
      "[Parallel(n_jobs=-1)]: Using backend LokyBackend with 8 concurrent workers.\n",
      "[Parallel(n_jobs=-1)]: Done  16 tasks      | elapsed:    2.3s\n",
      "[Parallel(n_jobs=-1)]: Done 112 tasks      | elapsed:   16.0s\n",
      "[Parallel(n_jobs=-1)]: Done 150 out of 150 | elapsed:   20.9s finished\n"
     ]
    },
    {
     "name": "stdout",
     "output_type": "stream",
     "text": [
      "writing -> Accuracy: 0.976 (0.152)\n",
      "Precision Score: 0.450\n",
      "recall Score: 0.500\n",
      "Fitting 5 folds for each of 30 candidates, totalling 150 fits\n"
     ]
    },
    {
     "name": "stderr",
     "output_type": "stream",
     "text": [
      "[Parallel(n_jobs=-1)]: Using backend LokyBackend with 8 concurrent workers.\n",
      "[Parallel(n_jobs=-1)]: Done  16 tasks      | elapsed:    2.8s\n",
      "[Parallel(n_jobs=-1)]: Done 112 tasks      | elapsed:   16.3s\n",
      "[Parallel(n_jobs=-1)]: Done 150 out of 150 | elapsed:   23.0s finished\n"
     ]
    },
    {
     "name": "stdout",
     "output_type": "stream",
     "text": [
      "children -> Accuracy: 0.976 (0.152)\n",
      "Precision Score: 1.000\n",
      "recall Score: 1.000\n",
      "Fitting 5 folds for each of 30 candidates, totalling 150 fits\n"
     ]
    },
    {
     "name": "stderr",
     "output_type": "stream",
     "text": [
      "[Parallel(n_jobs=-1)]: Using backend LokyBackend with 8 concurrent workers.\n",
      "[Parallel(n_jobs=-1)]: Done  16 tasks      | elapsed:    2.3s\n",
      "[Parallel(n_jobs=-1)]: Done 112 tasks      | elapsed:   15.1s\n",
      "[Parallel(n_jobs=-1)]: Done 150 out of 150 | elapsed:   21.0s finished\n"
     ]
    },
    {
     "name": "stdout",
     "output_type": "stream",
     "text": [
      "classic -> Accuracy: 0.976 (0.152)\n",
      "Precision Score: 1.000\n",
      "recall Score: 1.000\n"
     ]
    }
   ],
   "source": [
    "# เรียกใช้ฟังก์ชั่น create_model\n",
    "accuracy_list,precision_list,recall_list = create_model(rf, params, True)"
   ]
  },
  {
   "cell_type": "code",
   "execution_count": 80,
   "metadata": {},
   "outputs": [
    {
     "data": {
      "text/html": [
       "<style  type=\"text/css\" >\n",
       "#T_1eba00e0_3d1c_11eb_aeca_0433c2baf4a9row15_col0,#T_1eba00e0_3d1c_11eb_aeca_0433c2baf4a9row15_col1,#T_1eba00e0_3d1c_11eb_aeca_0433c2baf4a9row15_col2,#T_1eba00e0_3d1c_11eb_aeca_0433c2baf4a9row15_col3{\n",
       "            background-color:  yellow;\n",
       "        }</style><table id=\"T_1eba00e0_3d1c_11eb_aeca_0433c2baf4a9\" ><thead>    <tr>        <th class=\"blank level0\" ></th>        <th class=\"col_heading level0 col0\" >Tags</th>        <th class=\"col_heading level0 col1\" >Accuracy</th>        <th class=\"col_heading level0 col2\" >Precision</th>        <th class=\"col_heading level0 col3\" >Recall</th>    </tr></thead><tbody>\n",
       "                <tr>\n",
       "                        <th id=\"T_1eba00e0_3d1c_11eb_aeca_0433c2baf4a9level0_row0\" class=\"row_heading level0 row0\" >0</th>\n",
       "                        <td id=\"T_1eba00e0_3d1c_11eb_aeca_0433c2baf4a9row0_col0\" class=\"data row0 col0\" >life</td>\n",
       "                        <td id=\"T_1eba00e0_3d1c_11eb_aeca_0433c2baf4a9row0_col1\" class=\"data row0 col1\" >0.857143</td>\n",
       "                        <td id=\"T_1eba00e0_3d1c_11eb_aeca_0433c2baf4a9row0_col2\" class=\"data row0 col2\" >1.000000</td>\n",
       "                        <td id=\"T_1eba00e0_3d1c_11eb_aeca_0433c2baf4a9row0_col3\" class=\"data row0 col3\" >1.000000</td>\n",
       "            </tr>\n",
       "            <tr>\n",
       "                        <th id=\"T_1eba00e0_3d1c_11eb_aeca_0433c2baf4a9level0_row1\" class=\"row_heading level0 row1\" >1</th>\n",
       "                        <td id=\"T_1eba00e0_3d1c_11eb_aeca_0433c2baf4a9row1_col0\" class=\"data row1 col0\" >humor</td>\n",
       "                        <td id=\"T_1eba00e0_3d1c_11eb_aeca_0433c2baf4a9row1_col1\" class=\"data row1 col1\" >0.869048</td>\n",
       "                        <td id=\"T_1eba00e0_3d1c_11eb_aeca_0433c2baf4a9row1_col2\" class=\"data row1 col2\" >1.000000</td>\n",
       "                        <td id=\"T_1eba00e0_3d1c_11eb_aeca_0433c2baf4a9row1_col3\" class=\"data row1 col3\" >1.000000</td>\n",
       "            </tr>\n",
       "            <tr>\n",
       "                        <th id=\"T_1eba00e0_3d1c_11eb_aeca_0433c2baf4a9level0_row2\" class=\"row_heading level0 row2\" >2</th>\n",
       "                        <td id=\"T_1eba00e0_3d1c_11eb_aeca_0433c2baf4a9row2_col0\" class=\"data row2 col0\" >friendship</td>\n",
       "                        <td id=\"T_1eba00e0_3d1c_11eb_aeca_0433c2baf4a9row2_col1\" class=\"data row2 col1\" >0.940476</td>\n",
       "                        <td id=\"T_1eba00e0_3d1c_11eb_aeca_0433c2baf4a9row2_col2\" class=\"data row2 col2\" >1.000000</td>\n",
       "                        <td id=\"T_1eba00e0_3d1c_11eb_aeca_0433c2baf4a9row2_col3\" class=\"data row2 col3\" >1.000000</td>\n",
       "            </tr>\n",
       "            <tr>\n",
       "                        <th id=\"T_1eba00e0_3d1c_11eb_aeca_0433c2baf4a9level0_row3\" class=\"row_heading level0 row3\" >3</th>\n",
       "                        <td id=\"T_1eba00e0_3d1c_11eb_aeca_0433c2baf4a9row3_col0\" class=\"data row3 col0\" >truth</td>\n",
       "                        <td id=\"T_1eba00e0_3d1c_11eb_aeca_0433c2baf4a9row3_col1\" class=\"data row3 col1\" >0.952381</td>\n",
       "                        <td id=\"T_1eba00e0_3d1c_11eb_aeca_0433c2baf4a9row3_col2\" class=\"data row3 col2\" >1.000000</td>\n",
       "                        <td id=\"T_1eba00e0_3d1c_11eb_aeca_0433c2baf4a9row3_col3\" class=\"data row3 col3\" >1.000000</td>\n",
       "            </tr>\n",
       "            <tr>\n",
       "                        <th id=\"T_1eba00e0_3d1c_11eb_aeca_0433c2baf4a9level0_row4\" class=\"row_heading level0 row4\" >4</th>\n",
       "                        <td id=\"T_1eba00e0_3d1c_11eb_aeca_0433c2baf4a9row4_col0\" class=\"data row4 col0\" >death</td>\n",
       "                        <td id=\"T_1eba00e0_3d1c_11eb_aeca_0433c2baf4a9row4_col1\" class=\"data row4 col1\" >0.964286</td>\n",
       "                        <td id=\"T_1eba00e0_3d1c_11eb_aeca_0433c2baf4a9row4_col2\" class=\"data row4 col2\" >1.000000</td>\n",
       "                        <td id=\"T_1eba00e0_3d1c_11eb_aeca_0433c2baf4a9row4_col3\" class=\"data row4 col3\" >1.000000</td>\n",
       "            </tr>\n",
       "            <tr>\n",
       "                        <th id=\"T_1eba00e0_3d1c_11eb_aeca_0433c2baf4a9level0_row5\" class=\"row_heading level0 row5\" >5</th>\n",
       "                        <td id=\"T_1eba00e0_3d1c_11eb_aeca_0433c2baf4a9row5_col0\" class=\"data row5 col0\" >simile</td>\n",
       "                        <td id=\"T_1eba00e0_3d1c_11eb_aeca_0433c2baf4a9row5_col1\" class=\"data row5 col1\" >0.976190</td>\n",
       "                        <td id=\"T_1eba00e0_3d1c_11eb_aeca_0433c2baf4a9row5_col2\" class=\"data row5 col2\" >1.000000</td>\n",
       "                        <td id=\"T_1eba00e0_3d1c_11eb_aeca_0433c2baf4a9row5_col3\" class=\"data row5 col3\" >1.000000</td>\n",
       "            </tr>\n",
       "            <tr>\n",
       "                        <th id=\"T_1eba00e0_3d1c_11eb_aeca_0433c2baf4a9level0_row6\" class=\"row_heading level0 row6\" >6</th>\n",
       "                        <td id=\"T_1eba00e0_3d1c_11eb_aeca_0433c2baf4a9row6_col0\" class=\"data row6 col0\" >children</td>\n",
       "                        <td id=\"T_1eba00e0_3d1c_11eb_aeca_0433c2baf4a9row6_col1\" class=\"data row6 col1\" >0.976190</td>\n",
       "                        <td id=\"T_1eba00e0_3d1c_11eb_aeca_0433c2baf4a9row6_col2\" class=\"data row6 col2\" >1.000000</td>\n",
       "                        <td id=\"T_1eba00e0_3d1c_11eb_aeca_0433c2baf4a9row6_col3\" class=\"data row6 col3\" >1.000000</td>\n",
       "            </tr>\n",
       "            <tr>\n",
       "                        <th id=\"T_1eba00e0_3d1c_11eb_aeca_0433c2baf4a9level0_row7\" class=\"row_heading level0 row7\" >7</th>\n",
       "                        <td id=\"T_1eba00e0_3d1c_11eb_aeca_0433c2baf4a9row7_col0\" class=\"data row7 col0\" >classic</td>\n",
       "                        <td id=\"T_1eba00e0_3d1c_11eb_aeca_0433c2baf4a9row7_col1\" class=\"data row7 col1\" >0.976190</td>\n",
       "                        <td id=\"T_1eba00e0_3d1c_11eb_aeca_0433c2baf4a9row7_col2\" class=\"data row7 col2\" >1.000000</td>\n",
       "                        <td id=\"T_1eba00e0_3d1c_11eb_aeca_0433c2baf4a9row7_col3\" class=\"data row7 col3\" >1.000000</td>\n",
       "            </tr>\n",
       "            <tr>\n",
       "                        <th id=\"T_1eba00e0_3d1c_11eb_aeca_0433c2baf4a9level0_row8\" class=\"row_heading level0 row8\" >8</th>\n",
       "                        <td id=\"T_1eba00e0_3d1c_11eb_aeca_0433c2baf4a9row8_col0\" class=\"data row8 col0\" >reading</td>\n",
       "                        <td id=\"T_1eba00e0_3d1c_11eb_aeca_0433c2baf4a9row8_col1\" class=\"data row8 col1\" >0.928571</td>\n",
       "                        <td id=\"T_1eba00e0_3d1c_11eb_aeca_0433c2baf4a9row8_col2\" class=\"data row8 col2\" >0.450000</td>\n",
       "                        <td id=\"T_1eba00e0_3d1c_11eb_aeca_0433c2baf4a9row8_col3\" class=\"data row8 col3\" >0.500000</td>\n",
       "            </tr>\n",
       "            <tr>\n",
       "                        <th id=\"T_1eba00e0_3d1c_11eb_aeca_0433c2baf4a9level0_row9\" class=\"row_heading level0 row9\" >9</th>\n",
       "                        <td id=\"T_1eba00e0_3d1c_11eb_aeca_0433c2baf4a9row9_col0\" class=\"data row9 col0\" >friends</td>\n",
       "                        <td id=\"T_1eba00e0_3d1c_11eb_aeca_0433c2baf4a9row9_col1\" class=\"data row9 col1\" >0.964286</td>\n",
       "                        <td id=\"T_1eba00e0_3d1c_11eb_aeca_0433c2baf4a9row9_col2\" class=\"data row9 col2\" >0.450000</td>\n",
       "                        <td id=\"T_1eba00e0_3d1c_11eb_aeca_0433c2baf4a9row9_col3\" class=\"data row9 col3\" >0.500000</td>\n",
       "            </tr>\n",
       "            <tr>\n",
       "                        <th id=\"T_1eba00e0_3d1c_11eb_aeca_0433c2baf4a9level0_row10\" class=\"row_heading level0 row10\" >10</th>\n",
       "                        <td id=\"T_1eba00e0_3d1c_11eb_aeca_0433c2baf4a9row10_col0\" class=\"data row10 col0\" >attributed-no-source</td>\n",
       "                        <td id=\"T_1eba00e0_3d1c_11eb_aeca_0433c2baf4a9row10_col1\" class=\"data row10 col1\" >0.976190</td>\n",
       "                        <td id=\"T_1eba00e0_3d1c_11eb_aeca_0433c2baf4a9row10_col2\" class=\"data row10 col2\" >0.450000</td>\n",
       "                        <td id=\"T_1eba00e0_3d1c_11eb_aeca_0433c2baf4a9row10_col3\" class=\"data row10 col3\" >0.500000</td>\n",
       "            </tr>\n",
       "            <tr>\n",
       "                        <th id=\"T_1eba00e0_3d1c_11eb_aeca_0433c2baf4a9level0_row11\" class=\"row_heading level0 row11\" >11</th>\n",
       "                        <td id=\"T_1eba00e0_3d1c_11eb_aeca_0433c2baf4a9row11_col0\" class=\"data row11 col0\" >writing</td>\n",
       "                        <td id=\"T_1eba00e0_3d1c_11eb_aeca_0433c2baf4a9row11_col1\" class=\"data row11 col1\" >0.976190</td>\n",
       "                        <td id=\"T_1eba00e0_3d1c_11eb_aeca_0433c2baf4a9row11_col2\" class=\"data row11 col2\" >0.450000</td>\n",
       "                        <td id=\"T_1eba00e0_3d1c_11eb_aeca_0433c2baf4a9row11_col3\" class=\"data row11 col3\" >0.500000</td>\n",
       "            </tr>\n",
       "            <tr>\n",
       "                        <th id=\"T_1eba00e0_3d1c_11eb_aeca_0433c2baf4a9level0_row12\" class=\"row_heading level0 row12\" >12</th>\n",
       "                        <td id=\"T_1eba00e0_3d1c_11eb_aeca_0433c2baf4a9row12_col0\" class=\"data row12 col0\" >love</td>\n",
       "                        <td id=\"T_1eba00e0_3d1c_11eb_aeca_0433c2baf4a9row12_col1\" class=\"data row12 col1\" >0.869048</td>\n",
       "                        <td id=\"T_1eba00e0_3d1c_11eb_aeca_0433c2baf4a9row12_col2\" class=\"data row12 col2\" >0.400000</td>\n",
       "                        <td id=\"T_1eba00e0_3d1c_11eb_aeca_0433c2baf4a9row12_col3\" class=\"data row12 col3\" >0.500000</td>\n",
       "            </tr>\n",
       "            <tr>\n",
       "                        <th id=\"T_1eba00e0_3d1c_11eb_aeca_0433c2baf4a9level0_row13\" class=\"row_heading level0 row13\" >13</th>\n",
       "                        <td id=\"T_1eba00e0_3d1c_11eb_aeca_0433c2baf4a9row13_col0\" class=\"data row13 col0\" >inspirational</td>\n",
       "                        <td id=\"T_1eba00e0_3d1c_11eb_aeca_0433c2baf4a9row13_col1\" class=\"data row13 col1\" >0.869048</td>\n",
       "                        <td id=\"T_1eba00e0_3d1c_11eb_aeca_0433c2baf4a9row13_col2\" class=\"data row13 col2\" >0.400000</td>\n",
       "                        <td id=\"T_1eba00e0_3d1c_11eb_aeca_0433c2baf4a9row13_col3\" class=\"data row13 col3\" >0.500000</td>\n",
       "            </tr>\n",
       "            <tr>\n",
       "                        <th id=\"T_1eba00e0_3d1c_11eb_aeca_0433c2baf4a9level0_row14\" class=\"row_heading level0 row14\" >14</th>\n",
       "                        <td id=\"T_1eba00e0_3d1c_11eb_aeca_0433c2baf4a9row14_col0\" class=\"data row14 col0\" >books</td>\n",
       "                        <td id=\"T_1eba00e0_3d1c_11eb_aeca_0433c2baf4a9row14_col1\" class=\"data row14 col1\" >0.892857</td>\n",
       "                        <td id=\"T_1eba00e0_3d1c_11eb_aeca_0433c2baf4a9row14_col2\" class=\"data row14 col2\" >0.400000</td>\n",
       "                        <td id=\"T_1eba00e0_3d1c_11eb_aeca_0433c2baf4a9row14_col3\" class=\"data row14 col3\" >0.500000</td>\n",
       "            </tr>\n",
       "            <tr>\n",
       "                        <th id=\"T_1eba00e0_3d1c_11eb_aeca_0433c2baf4a9level0_row15\" class=\"row_heading level0 row15\" >15</th>\n",
       "                        <td id=\"T_1eba00e0_3d1c_11eb_aeca_0433c2baf4a9row15_col0\" class=\"data row15 col0\" >Average</td>\n",
       "                        <td id=\"T_1eba00e0_3d1c_11eb_aeca_0433c2baf4a9row15_col1\" class=\"data row15 col1\" >0.932540</td>\n",
       "                        <td id=\"T_1eba00e0_3d1c_11eb_aeca_0433c2baf4a9row15_col2\" class=\"data row15 col2\" >0.733333</td>\n",
       "                        <td id=\"T_1eba00e0_3d1c_11eb_aeca_0433c2baf4a9row15_col3\" class=\"data row15 col3\" >0.766667</td>\n",
       "            </tr>\n",
       "    </tbody></table>"
      ],
      "text/plain": [
       "<pandas.io.formats.style.Styler at 0x1590876a190>"
      ]
     },
     "execution_count": 80,
     "metadata": {},
     "output_type": "execute_result"
    }
   ],
   "source": [
    "# เรียกใช้ฟังก์ชั่น evaluation_table เพื่อแสดงตารางเปรียบเทียบ\n",
    "evaluation_table(accuracy_list, precision_list, recall_list)"
   ]
  },
  {
   "cell_type": "markdown",
   "metadata": {},
   "source": [
    "---"
   ]
  },
  {
   "cell_type": "markdown",
   "metadata": {},
   "source": [
    "## Conclusion"
   ]
  },
  {
   "cell_type": "markdown",
   "metadata": {},
   "source": [
    "หลังจากทำการทดสอบ model ทุกแบบแล้ว จึงนำ Accuracy, Precision, Recallที่ได้มาเปรียบเทียบกัน แต่เนื่องข้อมูล imbalance จึงดูแค่ Precision และ Recall เป็นหลัก"
   ]
  },
  {
   "cell_type": "code",
   "execution_count": 95,
   "metadata": {},
   "outputs": [
    {
     "data": {
      "text/html": [
       "<div>\n",
       "<style scoped>\n",
       "    .dataframe tbody tr th:only-of-type {\n",
       "        vertical-align: middle;\n",
       "    }\n",
       "\n",
       "    .dataframe tbody tr th {\n",
       "        vertical-align: top;\n",
       "    }\n",
       "\n",
       "    .dataframe thead th {\n",
       "        text-align: right;\n",
       "    }\n",
       "</style>\n",
       "<table border=\"1\" class=\"dataframe\">\n",
       "  <thead>\n",
       "    <tr style=\"text-align: right;\">\n",
       "      <th></th>\n",
       "      <th>Model</th>\n",
       "      <th>Accuracy</th>\n",
       "      <th>Precision</th>\n",
       "      <th>Recall</th>\n",
       "    </tr>\n",
       "  </thead>\n",
       "  <tbody>\n",
       "    <tr>\n",
       "      <th>0</th>\n",
       "      <td>KNN_non_weight</td>\n",
       "      <td>0.931746</td>\n",
       "      <td>0.827778</td>\n",
       "      <td>0.841071</td>\n",
       "    </tr>\n",
       "    <tr>\n",
       "      <th>1</th>\n",
       "      <td>rf_non_weight</td>\n",
       "      <td>0.931746</td>\n",
       "      <td>0.803333</td>\n",
       "      <td>0.833333</td>\n",
       "    </tr>\n",
       "    <tr>\n",
       "      <th>2</th>\n",
       "      <td>Knn_weight</td>\n",
       "      <td>0.927778</td>\n",
       "      <td>0.780000</td>\n",
       "      <td>0.800000</td>\n",
       "    </tr>\n",
       "    <tr>\n",
       "      <th>3</th>\n",
       "      <td>lg_non_weight</td>\n",
       "      <td>0.932540</td>\n",
       "      <td>0.770000</td>\n",
       "      <td>0.800000</td>\n",
       "    </tr>\n",
       "    <tr>\n",
       "      <th>4</th>\n",
       "      <td>lg_weight</td>\n",
       "      <td>0.931746</td>\n",
       "      <td>0.736667</td>\n",
       "      <td>0.766667</td>\n",
       "    </tr>\n",
       "    <tr>\n",
       "      <th>5</th>\n",
       "      <td>rf_weight</td>\n",
       "      <td>0.932540</td>\n",
       "      <td>0.733333</td>\n",
       "      <td>0.766667</td>\n",
       "    </tr>\n",
       "  </tbody>\n",
       "</table>\n",
       "</div>"
      ],
      "text/plain": [
       "            Model  Accuracy  Precision    Recall\n",
       "0  KNN_non_weight  0.931746   0.827778  0.841071\n",
       "1   rf_non_weight  0.931746   0.803333  0.833333\n",
       "2      Knn_weight  0.927778   0.780000  0.800000\n",
       "3   lg_non_weight  0.932540   0.770000  0.800000\n",
       "4       lg_weight  0.931746   0.736667  0.766667\n",
       "5       rf_weight  0.932540   0.733333  0.766667"
      ]
     },
     "execution_count": 95,
     "metadata": {},
     "output_type": "execute_result"
    }
   ],
   "source": [
    "# สร้างตารางเปรียบเทียบของแต่ละโมเดล\n",
    "data = {'Model': np.array(evaluation_models['Model']), \n",
    "        'Accuracy': np.array(evaluation_models['Accuracy']),\n",
    "        'Precision': np.array(evaluation_models['Precision']), \n",
    "        'Recall': np.array(evaluation_models['Recall'])}\n",
    "evaluation_df = pd.DataFrame(data=data)\n",
    "\n",
    "#ทำการเรียงลำดับตามค่า Precision โดยเรียงจากมากไปน้อย\n",
    "evaluation_df = evaluation_df.sort_values(by=['Precision'], ascending=False).reset_index(drop=True)\n",
    "evaluation_df"
   ]
  },
  {
   "cell_type": "markdown",
   "metadata": {},
   "source": [
    "<b>สรุปผล</b>: Model KNN ที่ใช้วิธี Non-Term weighting ให้ Precision และ Recall สูงที่สุด"
   ]
  }
 ],
 "metadata": {
  "colab": {
   "name": "quote.ipynb",
   "provenance": []
  },
  "kernelspec": {
   "display_name": "Python 3",
   "language": "python",
   "name": "python3"
  },
  "language_info": {
   "codemirror_mode": {
    "name": "ipython",
    "version": 3
   },
   "file_extension": ".py",
   "mimetype": "text/x-python",
   "name": "python",
   "nbconvert_exporter": "python",
   "pygments_lexer": "ipython3",
   "version": "3.8.3"
  }
 },
 "nbformat": 4,
 "nbformat_minor": 1
}
